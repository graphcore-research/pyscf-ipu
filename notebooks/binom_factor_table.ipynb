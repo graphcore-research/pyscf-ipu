{
 "cells": [
  {
   "cell_type": "code",
   "execution_count": 1,
   "metadata": {},
   "outputs": [],
   "source": [
    "from jax.scipy.special import betaln, gammainc, gammaln\n",
    "import numpy as np\n",
    "from sympy import *"
   ]
  },
  {
   "cell_type": "markdown",
   "metadata": {},
   "source": [
    "## Table lookup for \"binom factor\"\n",
    "\n",
    "The function called \"binom factor\" is one of those with a variable-sized loop, \n",
    "which is tricky to vectorize.  Its definition is\n",
    "$$\n",
    "B(i,j,a,b,s) = \\sum_{n=s-i}^j \\binom{i}{s-n} \\binom{j}{n} a^{i-(s-n)} b^{j-n}\n",
    "$$\n",
    "\n",
    "Its arguments are three integers $(i,j,s)$ and two floats.  It can't be a lookup table because of the floats, and it can't be a simple table of functions because JAX would not be impressed.\n",
    "\n",
    "But... For a given $i,j,s$ we know it will be a polynomial in $(a,b)$:\n",
    "$$\n",
    "B(i,j,a,b,s) = \\sum_{p=1}^{max} \\sum_{q=1}^{max} w^{i,j,s}_{p,q} a^p b^q\n",
    "$$\n",
    "\n",
    "This notebook computes those weights.  If max=8, that is a 128KB array so might need to be sparsely stored."
   ]
  },
  {
   "cell_type": "code",
   "execution_count": 2,
   "metadata": {},
   "outputs": [
    {
     "name": "stdout",
     "output_type": "stream",
     "text": [
      "kilobytes=128.0\n"
     ]
    }
   ],
   "source": [
    "LMAX = 8\n",
    "kilobytes = LMAX ** 5 * 4 / 1024\n",
    "print(f\"{kilobytes=}\")"
   ]
  },
  {
   "cell_type": "markdown",
   "metadata": {},
   "source": [
    "Let's now compute the coefficients W.  First, we just define the functions, then pass them through sympy."
   ]
  },
  {
   "cell_type": "code",
   "execution_count": 3,
   "metadata": {},
   "outputs": [
    {
     "name": "stderr",
     "output_type": "stream",
     "text": [
      "WARNING:absl:No GPU/TPU found, falling back to CPU. (Set TF_CPP_MIN_LOG_LEVEL=0 and rerun for more info.)\n"
     ]
    },
    {
     "name": "stdout",
     "output_type": "stream",
     "text": [
      "(0, 0, 0) Poly(1, a, b, domain='ZZ')\n",
      "(0, 0, 2) Poly(0, a, b, domain='ZZ')\n",
      "(0, 0, 4) Poly(0, a, b, domain='ZZ')\n",
      "(0, 0, 6) Poly(0, a, b, domain='ZZ')\n",
      "(0, 2, 0) Poly(b**2, a, b, domain='ZZ')\n",
      "(0, 2, 2) Poly(1, a, b, domain='ZZ')\n",
      "(0, 2, 4) Poly(0, a, b, domain='ZZ')\n",
      "(0, 2, 6) Poly(0, a, b, domain='ZZ')\n",
      "(0, 4, 0) Poly(b**4, a, b, domain='ZZ')\n",
      "(0, 4, 2) Poly(6*b**2, a, b, domain='ZZ')\n",
      "(0, 4, 4) Poly(1, a, b, domain='ZZ')\n",
      "(0, 4, 6) Poly(0, a, b, domain='ZZ')\n",
      "(0, 6, 0) Poly(b**6, a, b, domain='ZZ')\n",
      "(0, 6, 2) Poly(15*b**4, a, b, domain='ZZ')\n",
      "(0, 6, 4) Poly(15*b**2, a, b, domain='ZZ')\n",
      "(0, 6, 6) Poly(1, a, b, domain='ZZ')\n",
      "(3, 0, 0) Poly(a**3, a, b, domain='ZZ')\n",
      "(3, 0, 2) Poly(3*a, a, b, domain='ZZ')\n",
      "(3, 0, 4) Poly(0, a, b, domain='ZZ')\n",
      "(3, 0, 6) Poly(0, a, b, domain='ZZ')\n",
      "(3, 2, 0) Poly(a**3*b**2, a, b, domain='ZZ')\n",
      "(3, 2, 2) Poly(a**3 + 6*a**2*b + 3*a*b**2, a, b, domain='ZZ')\n",
      "(3, 2, 4) Poly(3*a + 2*b, a, b, domain='ZZ')\n",
      "(3, 2, 6) Poly(0, a, b, domain='ZZ')\n",
      "(3, 4, 0) Poly(a**3*b**4, a, b, domain='ZZ')\n",
      "(3, 4, 2) Poly(6*a**3*b**2 + 12*a**2*b**3 + 3*a*b**4, a, b, domain='ZZ')\n",
      "(3, 4, 4) Poly(a**3 + 12*a**2*b + 18*a*b**2 + 4*b**3, a, b, domain='ZZ')\n",
      "(3, 4, 6) Poly(3*a + 4*b, a, b, domain='ZZ')\n",
      "(3, 6, 0) Poly(a**3*b**6, a, b, domain='ZZ')\n",
      "(3, 6, 2) Poly(15*a**3*b**4 + 18*a**2*b**5 + 3*a*b**6, a, b, domain='ZZ')\n",
      "(3, 6, 4) Poly(15*a**3*b**2 + 60*a**2*b**3 + 45*a*b**4 + 6*b**5, a, b, domain='ZZ')\n",
      "(3, 6, 6) Poly(a**3 + 18*a**2*b + 45*a*b**2 + 20*b**3, a, b, domain='ZZ')\n",
      "(6, 0, 0) Poly(a**6, a, b, domain='ZZ')\n",
      "(6, 0, 2) Poly(15*a**4, a, b, domain='ZZ')\n",
      "(6, 0, 4) Poly(15*a**2, a, b, domain='ZZ')\n",
      "(6, 0, 6) Poly(1, a, b, domain='ZZ')\n",
      "(6, 2, 0) Poly(a**6*b**2, a, b, domain='ZZ')\n",
      "(6, 2, 2) Poly(a**6 + 12*a**5*b + 15*a**4*b**2, a, b, domain='ZZ')\n",
      "(6, 2, 4) Poly(15*a**4 + 40*a**3*b + 15*a**2*b**2, a, b, domain='ZZ')\n",
      "(6, 2, 6) Poly(15*a**2 + 12*a*b + b**2, a, b, domain='ZZ')\n",
      "(6, 4, 0) Poly(a**6*b**4, a, b, domain='ZZ')\n",
      "(6, 4, 2) Poly(6*a**6*b**2 + 24*a**5*b**3 + 15*a**4*b**4, a, b, domain='ZZ')\n",
      "(6, 4, 4) Poly(a**6 + 24*a**5*b + 90*a**4*b**2 + 80*a**3*b**3 + 15*a**2*b**4, a, b, domain='ZZ')\n",
      "(6, 4, 6) Poly(15*a**4 + 80*a**3*b + 90*a**2*b**2 + 24*a*b**3 + b**4, a, b, domain='ZZ')\n",
      "(6, 6, 0) Poly(a**6*b**6, a, b, domain='ZZ')\n",
      "(6, 6, 2) Poly(15*a**6*b**4 + 36*a**5*b**5 + 15*a**4*b**6, a, b, domain='ZZ')\n",
      "(6, 6, 4) Poly(15*a**6*b**2 + 120*a**5*b**3 + 225*a**4*b**4 + 120*a**3*b**5 + 15*a**2*b**6, a, b, domain='ZZ')\n",
      "(6, 6, 6) Poly(a**6 + 36*a**5*b + 225*a**4*b**2 + 400*a**3*b**3 + 225*a**2*b**4 + 36*a*b**5 + b**6, a, b, domain='ZZ')\n"
     ]
    },
    {
     "data": {
      "text/latex": [
       "$\\displaystyle \\operatorname{Poly}{\\left( a^{6} + 36 a^{5}b + 225 a^{4}b^{2} + 400 a^{3}b^{3} + 225 a^{2}b^{4} + 36 ab^{5} + b^{6}, a, b, domain=\\mathbb{Z} \\right)}$"
      ],
      "text/plain": [
       "Poly(a**6 + 36*a**5*b + 225*a**4*b**2 + 400*a**3*b**3 + 225*a**2*b**4 + 36*a*b**5 + b**6, a, b, domain='ZZ')"
      ]
     },
     "metadata": {},
     "output_type": "display_data"
    },
    {
     "data": {
      "text/latex": [
       "$\\displaystyle 400$"
      ],
      "text/plain": [
       "400"
      ]
     },
     "metadata": {},
     "output_type": "display_data"
    }
   ],
   "source": [
    "def binom(x, y):\n",
    "    approx = 1.0 / ((x + 1) * np.exp(betaln(x - y + 1, y + 1)))\n",
    "    return int(np.rint(approx))\n",
    "\n",
    "\n",
    "def binom_factor(i: int, j: int, a: float, b: float, s: int):\n",
    "    return sum(\n",
    "        binom(i, s - t) * binom(j, t) * a ** (i - (s - t)) * b ** (j - t)\n",
    "        for t in range(max(s - i, 0), j + 1)\n",
    "    )\n",
    "\n",
    "\n",
    "def binom_factor_sym(i: int, j: int, a: Symbol, b: Symbol, s: int):\n",
    "    return Poly(binom_factor(i, j, a, b, s), a, b)\n",
    "\n",
    "\n",
    "a, b = symbols(\"a b\", real=True)\n",
    "for i in range(0, 7, 3):\n",
    "    for j in range(0, 7, 2):\n",
    "        for s in range(0, 7, 2):\n",
    "            bf = binom_factor_sym(i, j, a, b, s)\n",
    "            print((i, j, s), bf)\n",
    "\n",
    "display(bf, bf.coeff_monomial(a**3 * b**3))"
   ]
  },
  {
   "cell_type": "code",
   "execution_count": 4,
   "metadata": {},
   "outputs": [
    {
     "data": {
      "text/latex": [
       "$\\displaystyle \\left[\\begin{matrix}1 & b & b^{2} & b^{3} & b^{4} & b^{5} & b^{6} & b^{7}\\\\a & a b & a b^{2} & a b^{3} & a b^{4} & a b^{5} & a b^{6} & a b^{7}\\\\a^{2} & a^{2} b & a^{2} b^{2} & a^{2} b^{3} & a^{2} b^{4} & a^{2} b^{5} & a^{2} b^{6} & a^{2} b^{7}\\\\a^{3} & a^{3} b & a^{3} b^{2} & a^{3} b^{3} & a^{3} b^{4} & a^{3} b^{5} & a^{3} b^{6} & a^{3} b^{7}\\\\a^{4} & a^{4} b & a^{4} b^{2} & a^{4} b^{3} & a^{4} b^{4} & a^{4} b^{5} & a^{4} b^{6} & a^{4} b^{7}\\\\a^{5} & a^{5} b & a^{5} b^{2} & a^{5} b^{3} & a^{5} b^{4} & a^{5} b^{5} & a^{5} b^{6} & a^{5} b^{7}\\\\a^{6} & a^{6} b & a^{6} b^{2} & a^{6} b^{3} & a^{6} b^{4} & a^{6} b^{5} & a^{6} b^{6} & a^{6} b^{7}\\\\a^{7} & a^{7} b & a^{7} b^{2} & a^{7} b^{3} & a^{7} b^{4} & a^{7} b^{5} & a^{7} b^{6} & a^{7} b^{7}\\end{matrix}\\right]$"
      ],
      "text/plain": [
       "Matrix([\n",
       "[   1,      b,      b**2,      b**3,      b**4,      b**5,      b**6,      b**7],\n",
       "[   a,    a*b,    a*b**2,    a*b**3,    a*b**4,    a*b**5,    a*b**6,    a*b**7],\n",
       "[a**2, a**2*b, a**2*b**2, a**2*b**3, a**2*b**4, a**2*b**5, a**2*b**6, a**2*b**7],\n",
       "[a**3, a**3*b, a**3*b**2, a**3*b**3, a**3*b**4, a**3*b**5, a**3*b**6, a**3*b**7],\n",
       "[a**4, a**4*b, a**4*b**2, a**4*b**3, a**4*b**4, a**4*b**5, a**4*b**6, a**4*b**7],\n",
       "[a**5, a**5*b, a**5*b**2, a**5*b**3, a**5*b**4, a**5*b**5, a**5*b**6, a**5*b**7],\n",
       "[a**6, a**6*b, a**6*b**2, a**6*b**3, a**6*b**4, a**6*b**5, a**6*b**6, a**6*b**7],\n",
       "[a**7, a**7*b, a**7*b**2, a**7*b**3, a**7*b**4, a**7*b**5, a**7*b**6, a**7*b**7]])"
      ]
     },
     "metadata": {},
     "output_type": "display_data"
    },
    {
     "data": {
      "text/latex": [
       "$\\displaystyle \\left[\\begin{array}{cccccccccccccccccccccccccccccccccccccccccccccccccccccccccccccccc}1 & b & b^{2} & b^{3} & b^{4} & b^{5} & b^{6} & b^{7} & a & a b & a b^{2} & a b^{3} & a b^{4} & a b^{5} & a b^{6} & a b^{7} & a^{2} & a^{2} b & a^{2} b^{2} & a^{2} b^{3} & a^{2} b^{4} & a^{2} b^{5} & a^{2} b^{6} & a^{2} b^{7} & a^{3} & a^{3} b & a^{3} b^{2} & a^{3} b^{3} & a^{3} b^{4} & a^{3} b^{5} & a^{3} b^{6} & a^{3} b^{7} & a^{4} & a^{4} b & a^{4} b^{2} & a^{4} b^{3} & a^{4} b^{4} & a^{4} b^{5} & a^{4} b^{6} & a^{4} b^{7} & a^{5} & a^{5} b & a^{5} b^{2} & a^{5} b^{3} & a^{5} b^{4} & a^{5} b^{5} & a^{5} b^{6} & a^{5} b^{7} & a^{6} & a^{6} b & a^{6} b^{2} & a^{6} b^{3} & a^{6} b^{4} & a^{6} b^{5} & a^{6} b^{6} & a^{6} b^{7} & a^{7} & a^{7} b & a^{7} b^{2} & a^{7} b^{3} & a^{7} b^{4} & a^{7} b^{5} & a^{7} b^{6} & a^{7} b^{7}\\end{array}\\right]$"
      ],
      "text/plain": [
       "Matrix([[1, b, b**2, b**3, b**4, b**5, b**6, b**7, a, a*b, a*b**2, a*b**3, a*b**4, a*b**5, a*b**6, a*b**7, a**2, a**2*b, a**2*b**2, a**2*b**3, a**2*b**4, a**2*b**5, a**2*b**6, a**2*b**7, a**3, a**3*b, a**3*b**2, a**3*b**3, a**3*b**4, a**3*b**5, a**3*b**6, a**3*b**7, a**4, a**4*b, a**4*b**2, a**4*b**3, a**4*b**4, a**4*b**5, a**4*b**6, a**4*b**7, a**5, a**5*b, a**5*b**2, a**5*b**3, a**5*b**4, a**5*b**5, a**5*b**6, a**5*b**7, a**6, a**6*b, a**6*b**2, a**6*b**3, a**6*b**4, a**6*b**5, a**6*b**6, a**6*b**7, a**7, a**7*b, a**7*b**2, a**7*b**3, a**7*b**4, a**7*b**5, a**7*b**6, a**7*b**7]])"
      ]
     },
     "metadata": {},
     "output_type": "display_data"
    }
   ],
   "source": [
    "monomials_a = Matrix([a ** i for i in range(LMAX)])\n",
    "monomials_b = Matrix([b ** i for i in range(LMAX)])\n",
    "\n",
    "all_monomials = monomials_a * monomials_b.transpose()\n",
    "display(all_monomials)\n",
    "all_monomials = all_monomials.reshape(1,LMAX**2)\n",
    "\n",
    "display(all_monomials)\n"
   ]
  },
  {
   "cell_type": "markdown",
   "metadata": {},
   "source": [
    "## get_coeffs\n",
    "\n",
    "A function to get the coefficients from a polynomial, in the order defined by monomials"
   ]
  },
  {
   "cell_type": "code",
   "execution_count": 5,
   "metadata": {},
   "outputs": [
    {
     "data": {
      "text/plain": [
       "array([[0, 0, 0, 0, 0, 0, 1, 0],\n",
       "       [0, 0, 0, 0, 0, 36, 0, 0],\n",
       "       [0, 0, 0, 0, 225, 0, 0, 0],\n",
       "       [0, 0, 0, 400, 0, 0, 0, 0],\n",
       "       [0, 0, 225, 0, 0, 0, 0, 0],\n",
       "       [0, 36, 0, 0, 0, 0, 0, 0],\n",
       "       [1, 0, 0, 0, 0, 0, 0, 0],\n",
       "       [0, 0, 0, 0, 0, 0, 0, 0]], dtype=object)"
      ]
     },
     "execution_count": 5,
     "metadata": {},
     "output_type": "execute_result"
    }
   ],
   "source": [
    "def get_coeffs(p):\n",
    "  return tuple(p.coeff_monomial(m) for m in all_monomials)\n",
    "\n",
    "np.array(get_coeffs(binom_factor_sym(6,6,a,b,6))).reshape(LMAX,LMAX)"
   ]
  },
  {
   "cell_type": "markdown",
   "metadata": {},
   "source": [
    "## Build the weight matrix\n",
    "\n",
    "W[i,j,s] = the polynomial coefficients for binom_factor(i,j,a,b,s)"
   ]
  },
  {
   "cell_type": "code",
   "execution_count": 6,
   "metadata": {},
   "outputs": [
    {
     "name": "stdout",
     "output_type": "stream",
     "text": [
      "(0, 3, 2) (0, 3, 0, 0, 0, 0, 0, 0, 0, 0, 0, 0, 0, 0, 0, 0, 0, 0, 0, 0, 0, 0, 0, 0, 0, 0, 0, 0, 0, 0, 0, 0, 0, 0, 0, 0, 0, 0, 0, 0, 0, 0, 0, 0, 0, 0, 0, 0, 0, 0, 0, 0, 0, 0, 0, 0, 0, 0, 0, 0, 0, 0, 0, 0) Poly(3*b, a, b, domain='ZZ')\n",
      "(0, 4, 1) (0, 0, 0, 4, 0, 0, 0, 0, 0, 0, 0, 0, 0, 0, 0, 0, 0, 0, 0, 0, 0, 0, 0, 0, 0, 0, 0, 0, 0, 0, 0, 0, 0, 0, 0, 0, 0, 0, 0, 0, 0, 0, 0, 0, 0, 0, 0, 0, 0, 0, 0, 0, 0, 0, 0, 0, 0, 0, 0, 0, 0, 0, 0, 0) Poly(4*b**3, a, b, domain='ZZ')\n",
      "(0, 6, 4) (0, 0, 15, 0, 0, 0, 0, 0, 0, 0, 0, 0, 0, 0, 0, 0, 0, 0, 0, 0, 0, 0, 0, 0, 0, 0, 0, 0, 0, 0, 0, 0, 0, 0, 0, 0, 0, 0, 0, 0, 0, 0, 0, 0, 0, 0, 0, 0, 0, 0, 0, 0, 0, 0, 0, 0, 0, 0, 0, 0, 0, 0, 0, 0) Poly(15*b**2, a, b, domain='ZZ')\n",
      "(1, 1, 7) (0, 0, 0, 0, 0, 0, 0, 0, 0, 0, 0, 0, 0, 0, 0, 0, 0, 0, 0, 0, 0, 0, 0, 0, 0, 0, 0, 0, 0, 0, 0, 0, 0, 0, 0, 0, 0, 0, 0, 0, 0, 0, 0, 0, 0, 0, 0, 0, 0, 0, 0, 0, 0, 0, 0, 0, 0, 0, 0, 0, 0, 0, 0, 0) Poly(0, a, b, domain='ZZ')\n",
      "(1, 2, 1) (0, 0, 1, 0, 0, 0, 0, 0, 0, 2, 0, 0, 0, 0, 0, 0, 0, 0, 0, 0, 0, 0, 0, 0, 0, 0, 0, 0, 0, 0, 0, 0, 0, 0, 0, 0, 0, 0, 0, 0, 0, 0, 0, 0, 0, 0, 0, 0, 0, 0, 0, 0, 0, 0, 0, 0, 0, 0, 0, 0, 0, 0, 0, 0) Poly(2*a*b + b**2, a, b, domain='ZZ')\n",
      "(1, 3, 0) (0, 0, 0, 0, 0, 0, 0, 0, 0, 0, 0, 1, 0, 0, 0, 0, 0, 0, 0, 0, 0, 0, 0, 0, 0, 0, 0, 0, 0, 0, 0, 0, 0, 0, 0, 0, 0, 0, 0, 0, 0, 0, 0, 0, 0, 0, 0, 0, 0, 0, 0, 0, 0, 0, 0, 0, 0, 0, 0, 0, 0, 0, 0, 0) Poly(a*b**3, a, b, domain='ZZ')\n",
      "(1, 3, 5) (0, 0, 0, 0, 0, 0, 0, 0, 0, 0, 0, 0, 0, 0, 0, 0, 0, 0, 0, 0, 0, 0, 0, 0, 0, 0, 0, 0, 0, 0, 0, 0, 0, 0, 0, 0, 0, 0, 0, 0, 0, 0, 0, 0, 0, 0, 0, 0, 0, 0, 0, 0, 0, 0, 0, 0, 0, 0, 0, 0, 0, 0, 0, 0) Poly(0, a, b, domain='ZZ')\n",
      "(1, 4, 1) (0, 0, 0, 0, 1, 0, 0, 0, 0, 0, 0, 4, 0, 0, 0, 0, 0, 0, 0, 0, 0, 0, 0, 0, 0, 0, 0, 0, 0, 0, 0, 0, 0, 0, 0, 0, 0, 0, 0, 0, 0, 0, 0, 0, 0, 0, 0, 0, 0, 0, 0, 0, 0, 0, 0, 0, 0, 0, 0, 0, 0, 0, 0, 0) Poly(4*a*b**3 + b**4, a, b, domain='ZZ')\n",
      "(1, 6, 7) (1, 0, 0, 0, 0, 0, 0, 0, 0, 0, 0, 0, 0, 0, 0, 0, 0, 0, 0, 0, 0, 0, 0, 0, 0, 0, 0, 0, 0, 0, 0, 0, 0, 0, 0, 0, 0, 0, 0, 0, 0, 0, 0, 0, 0, 0, 0, 0, 0, 0, 0, 0, 0, 0, 0, 0, 0, 0, 0, 0, 0, 0, 0, 0) Poly(1, a, b, domain='ZZ')\n",
      "(2, 0, 4) (0, 0, 0, 0, 0, 0, 0, 0, 0, 0, 0, 0, 0, 0, 0, 0, 0, 0, 0, 0, 0, 0, 0, 0, 0, 0, 0, 0, 0, 0, 0, 0, 0, 0, 0, 0, 0, 0, 0, 0, 0, 0, 0, 0, 0, 0, 0, 0, 0, 0, 0, 0, 0, 0, 0, 0, 0, 0, 0, 0, 0, 0, 0, 0) Poly(0, a, b, domain='ZZ')\n",
      "(2, 2, 4) (1, 0, 0, 0, 0, 0, 0, 0, 0, 0, 0, 0, 0, 0, 0, 0, 0, 0, 0, 0, 0, 0, 0, 0, 0, 0, 0, 0, 0, 0, 0, 0, 0, 0, 0, 0, 0, 0, 0, 0, 0, 0, 0, 0, 0, 0, 0, 0, 0, 0, 0, 0, 0, 0, 0, 0, 0, 0, 0, 0, 0, 0, 0, 0) Poly(1, a, b, domain='ZZ')\n",
      "(2, 2, 7) (0, 0, 0, 0, 0, 0, 0, 0, 0, 0, 0, 0, 0, 0, 0, 0, 0, 0, 0, 0, 0, 0, 0, 0, 0, 0, 0, 0, 0, 0, 0, 0, 0, 0, 0, 0, 0, 0, 0, 0, 0, 0, 0, 0, 0, 0, 0, 0, 0, 0, 0, 0, 0, 0, 0, 0, 0, 0, 0, 0, 0, 0, 0, 0) Poly(0, a, b, domain='ZZ')\n",
      "(2, 3, 2) (0, 0, 0, 1, 0, 0, 0, 0, 0, 0, 6, 0, 0, 0, 0, 0, 0, 3, 0, 0, 0, 0, 0, 0, 0, 0, 0, 0, 0, 0, 0, 0, 0, 0, 0, 0, 0, 0, 0, 0, 0, 0, 0, 0, 0, 0, 0, 0, 0, 0, 0, 0, 0, 0, 0, 0, 0, 0, 0, 0, 0, 0, 0, 0) Poly(3*a**2*b + 6*a*b**2 + b**3, a, b, domain='ZZ')\n",
      "(2, 4, 2) (0, 0, 0, 0, 1, 0, 0, 0, 0, 0, 0, 8, 0, 0, 0, 0, 0, 0, 6, 0, 0, 0, 0, 0, 0, 0, 0, 0, 0, 0, 0, 0, 0, 0, 0, 0, 0, 0, 0, 0, 0, 0, 0, 0, 0, 0, 0, 0, 0, 0, 0, 0, 0, 0, 0, 0, 0, 0, 0, 0, 0, 0, 0, 0) Poly(6*a**2*b**2 + 8*a*b**3 + b**4, a, b, domain='ZZ')\n",
      "(3, 0, 6) (0, 0, 0, 0, 0, 0, 0, 0, 0, 0, 0, 0, 0, 0, 0, 0, 0, 0, 0, 0, 0, 0, 0, 0, 0, 0, 0, 0, 0, 0, 0, 0, 0, 0, 0, 0, 0, 0, 0, 0, 0, 0, 0, 0, 0, 0, 0, 0, 0, 0, 0, 0, 0, 0, 0, 0, 0, 0, 0, 0, 0, 0, 0, 0) Poly(0, a, b, domain='ZZ')\n",
      "(3, 1, 4) (1, 0, 0, 0, 0, 0, 0, 0, 0, 0, 0, 0, 0, 0, 0, 0, 0, 0, 0, 0, 0, 0, 0, 0, 0, 0, 0, 0, 0, 0, 0, 0, 0, 0, 0, 0, 0, 0, 0, 0, 0, 0, 0, 0, 0, 0, 0, 0, 0, 0, 0, 0, 0, 0, 0, 0, 0, 0, 0, 0, 0, 0, 0, 0) Poly(1, a, b, domain='ZZ')\n",
      "(3, 2, 1) (0, 0, 0, 0, 0, 0, 0, 0, 0, 0, 0, 0, 0, 0, 0, 0, 0, 0, 3, 0, 0, 0, 0, 0, 0, 2, 0, 0, 0, 0, 0, 0, 0, 0, 0, 0, 0, 0, 0, 0, 0, 0, 0, 0, 0, 0, 0, 0, 0, 0, 0, 0, 0, 0, 0, 0, 0, 0, 0, 0, 0, 0, 0, 0) Poly(2*a**3*b + 3*a**2*b**2, a, b, domain='ZZ')\n",
      "(3, 5, 3) (0, 0, 0, 0, 0, 1, 0, 0, 0, 0, 0, 0, 15, 0, 0, 0, 0, 0, 0, 30, 0, 0, 0, 0, 0, 0, 10, 0, 0, 0, 0, 0, 0, 0, 0, 0, 0, 0, 0, 0, 0, 0, 0, 0, 0, 0, 0, 0, 0, 0, 0, 0, 0, 0, 0, 0, 0, 0, 0, 0, 0, 0, 0, 0) Poly(10*a**3*b**2 + 30*a**2*b**3 + 15*a*b**4 + b**5, a, b, domain='ZZ')\n",
      "(3, 7, 3) (0, 0, 0, 0, 0, 0, 0, 1, 0, 0, 0, 0, 0, 0, 21, 0, 0, 0, 0, 0, 0, 63, 0, 0, 0, 0, 0, 0, 35, 0, 0, 0, 0, 0, 0, 0, 0, 0, 0, 0, 0, 0, 0, 0, 0, 0, 0, 0, 0, 0, 0, 0, 0, 0, 0, 0, 0, 0, 0, 0, 0, 0, 0, 0) Poly(35*a**3*b**4 + 63*a**2*b**5 + 21*a*b**6 + b**7, a, b, domain='ZZ')\n",
      "(4, 0, 4) (1, 0, 0, 0, 0, 0, 0, 0, 0, 0, 0, 0, 0, 0, 0, 0, 0, 0, 0, 0, 0, 0, 0, 0, 0, 0, 0, 0, 0, 0, 0, 0, 0, 0, 0, 0, 0, 0, 0, 0, 0, 0, 0, 0, 0, 0, 0, 0, 0, 0, 0, 0, 0, 0, 0, 0, 0, 0, 0, 0, 0, 0, 0, 0) Poly(1, a, b, domain='ZZ')\n",
      "(4, 2, 2) (0, 0, 0, 0, 0, 0, 0, 0, 0, 0, 0, 0, 0, 0, 0, 0, 0, 0, 6, 0, 0, 0, 0, 0, 0, 8, 0, 0, 0, 0, 0, 0, 1, 0, 0, 0, 0, 0, 0, 0, 0, 0, 0, 0, 0, 0, 0, 0, 0, 0, 0, 0, 0, 0, 0, 0, 0, 0, 0, 0, 0, 0, 0, 0) Poly(a**4 + 8*a**3*b + 6*a**2*b**2, a, b, domain='ZZ')\n",
      "(4, 4, 0) (0, 0, 0, 0, 0, 0, 0, 0, 0, 0, 0, 0, 0, 0, 0, 0, 0, 0, 0, 0, 0, 0, 0, 0, 0, 0, 0, 0, 0, 0, 0, 0, 0, 0, 0, 0, 1, 0, 0, 0, 0, 0, 0, 0, 0, 0, 0, 0, 0, 0, 0, 0, 0, 0, 0, 0, 0, 0, 0, 0, 0, 0, 0, 0) Poly(a**4*b**4, a, b, domain='ZZ')\n",
      "(5, 2, 0) (0, 0, 0, 0, 0, 0, 0, 0, 0, 0, 0, 0, 0, 0, 0, 0, 0, 0, 0, 0, 0, 0, 0, 0, 0, 0, 0, 0, 0, 0, 0, 0, 0, 0, 0, 0, 0, 0, 0, 0, 0, 0, 1, 0, 0, 0, 0, 0, 0, 0, 0, 0, 0, 0, 0, 0, 0, 0, 0, 0, 0, 0, 0, 0) Poly(a**5*b**2, a, b, domain='ZZ')\n",
      "(5, 7, 1) (0, 0, 0, 0, 0, 0, 0, 0, 0, 0, 0, 0, 0, 0, 0, 0, 0, 0, 0, 0, 0, 0, 0, 0, 0, 0, 0, 0, 0, 0, 0, 0, 0, 0, 0, 0, 0, 0, 0, 5, 0, 0, 0, 0, 0, 0, 7, 0, 0, 0, 0, 0, 0, 0, 0, 0, 0, 0, 0, 0, 0, 0, 0, 0) Poly(7*a**5*b**6 + 5*a**4*b**7, a, b, domain='ZZ')\n",
      "(6, 0, 7) (0, 0, 0, 0, 0, 0, 0, 0, 0, 0, 0, 0, 0, 0, 0, 0, 0, 0, 0, 0, 0, 0, 0, 0, 0, 0, 0, 0, 0, 0, 0, 0, 0, 0, 0, 0, 0, 0, 0, 0, 0, 0, 0, 0, 0, 0, 0, 0, 0, 0, 0, 0, 0, 0, 0, 0, 0, 0, 0, 0, 0, 0, 0, 0) Poly(0, a, b, domain='ZZ')\n",
      "(6, 6, 1) (0, 0, 0, 0, 0, 0, 0, 0, 0, 0, 0, 0, 0, 0, 0, 0, 0, 0, 0, 0, 0, 0, 0, 0, 0, 0, 0, 0, 0, 0, 0, 0, 0, 0, 0, 0, 0, 0, 0, 0, 0, 0, 0, 0, 0, 0, 6, 0, 0, 0, 0, 0, 0, 6, 0, 0, 0, 0, 0, 0, 0, 0, 0, 0) Poly(6*a**6*b**5 + 6*a**5*b**6, a, b, domain='ZZ')\n",
      "(6, 6, 7) (0, 0, 0, 0, 0, 6, 0, 0, 0, 0, 0, 0, 90, 0, 0, 0, 0, 0, 0, 300, 0, 0, 0, 0, 0, 0, 300, 0, 0, 0, 0, 0, 0, 90, 0, 0, 0, 0, 0, 0, 6, 0, 0, 0, 0, 0, 0, 0, 0, 0, 0, 0, 0, 0, 0, 0, 0, 0, 0, 0, 0, 0, 0, 0) Poly(6*a**5 + 90*a**4*b + 300*a**3*b**2 + 300*a**2*b**3 + 90*a*b**4 + 6*b**5, a, b, domain='ZZ')\n",
      "(6, 7, 7) (0, 0, 0, 0, 0, 0, 7, 0, 0, 0, 0, 0, 0, 126, 0, 0, 0, 0, 0, 0, 525, 0, 0, 0, 0, 0, 0, 700, 0, 0, 0, 0, 0, 0, 315, 0, 0, 0, 0, 0, 0, 42, 0, 0, 0, 0, 0, 0, 1, 0, 0, 0, 0, 0, 0, 0, 0, 0, 0, 0, 0, 0, 0, 0) Poly(a**6 + 42*a**5*b + 315*a**4*b**2 + 700*a**3*b**3 + 525*a**2*b**4 + 126*a*b**5 + 7*b**6, a, b, domain='ZZ')\n",
      "(7, 1, 2) (0, 0, 0, 0, 0, 0, 0, 0, 0, 0, 0, 0, 0, 0, 0, 0, 0, 0, 0, 0, 0, 0, 0, 0, 0, 0, 0, 0, 0, 0, 0, 0, 0, 0, 0, 0, 0, 0, 0, 0, 0, 21, 0, 0, 0, 0, 0, 0, 7, 0, 0, 0, 0, 0, 0, 0, 0, 0, 0, 0, 0, 0, 0, 0) Poly(7*a**6 + 21*a**5*b, a, b, domain='ZZ')\n",
      "(7, 2, 4) (0, 0, 0, 0, 0, 0, 0, 0, 0, 0, 0, 0, 0, 0, 0, 0, 0, 0, 0, 0, 0, 0, 0, 0, 0, 0, 35, 0, 0, 0, 0, 0, 0, 70, 0, 0, 0, 0, 0, 0, 21, 0, 0, 0, 0, 0, 0, 0, 0, 0, 0, 0, 0, 0, 0, 0, 0, 0, 0, 0, 0, 0, 0, 0) Poly(21*a**5 + 70*a**4*b + 35*a**3*b**2, a, b, domain='ZZ')\n",
      "(7, 3, 7) (0, 0, 0, 1, 0, 0, 0, 0, 0, 0, 21, 0, 0, 0, 0, 0, 0, 63, 0, 0, 0, 0, 0, 0, 35, 0, 0, 0, 0, 0, 0, 0, 0, 0, 0, 0, 0, 0, 0, 0, 0, 0, 0, 0, 0, 0, 0, 0, 0, 0, 0, 0, 0, 0, 0, 0, 0, 0, 0, 0, 0, 0, 0, 0) Poly(35*a**3 + 63*a**2*b + 21*a*b**2 + b**3, a, b, domain='ZZ')\n",
      "(7, 4, 1) (0, 0, 0, 0, 0, 0, 0, 0, 0, 0, 0, 0, 0, 0, 0, 0, 0, 0, 0, 0, 0, 0, 0, 0, 0, 0, 0, 0, 0, 0, 0, 0, 0, 0, 0, 0, 0, 0, 0, 0, 0, 0, 0, 0, 0, 0, 0, 0, 0, 0, 0, 0, 7, 0, 0, 0, 0, 0, 0, 4, 0, 0, 0, 0) Poly(4*a**7*b**3 + 7*a**6*b**4, a, b, domain='ZZ')\n"
     ]
    }
   ],
   "source": [
    "weights = np.zeros((LMAX, LMAX, LMAX, LMAX*LMAX))\n",
    "for i in range(LMAX):\n",
    "    for j in range(LMAX):\n",
    "        for s in range(LMAX):\n",
    "            bf = binom_factor_sym(i, j, a, b, s)\n",
    "            val = get_coeffs(bf)\n",
    "            if np.random.rand()**LMAX > .7:\n",
    "              print((i, j, s), val, bf)\n",
    "            weights[i, j, s, :] = val"
   ]
  },
  {
   "cell_type": "markdown",
   "metadata": {},
   "source": [
    "## How sparse?"
   ]
  },
  {
   "cell_type": "code",
   "execution_count": 7,
   "metadata": {},
   "outputs": [
    {
     "name": "stdout",
     "output_type": "stream",
     "text": [
      "nnz=1086\n",
      "elementwise sparsity = 97%\n",
      "all-zero = 16%\n"
     ]
    }
   ],
   "source": [
    "nnz = len(np.nonzero(weights)[0])\n",
    "print(f'nnz={nnz}')\n",
    "\n",
    "sparsity = 1 - nnz/LMAX**5\n",
    "print(f'elementwise sparsity = {sparsity*100:.0f}%')\n",
    "\n",
    "all_zero_fraction = 1 - len(np.nonzero(np.sum(abs(weights), axis=3))[0]) / LMAX**3\n",
    "print(f'all-zero = {all_zero_fraction*100:.0f}%')"
   ]
  },
  {
   "cell_type": "markdown",
   "metadata": {},
   "source": [
    "## get_monomials(a,b)\n",
    "\n",
    "Given float values a,b compute the monomials as above.  This function will be exported to `binom_factor_table.py`.  \n",
    "\n",
    "We test it here by running on a sample input"
   ]
  },
  {
   "cell_type": "code",
   "execution_count": 8,
   "metadata": {},
   "outputs": [
    {
     "name": "stdout",
     "output_type": "stream",
     "text": [
      "[  1.          2.33        5.4289     12.649336   29.472952   68.671974\n",
      " 160.00569   372.81326     1.1         2.563       5.97179    13.914269\n",
      "  32.420246   75.53918   176.00627   410.0946      1.21        2.8193\n",
      "   6.568969   15.3056965  35.662273   83.093094  193.60689   451.10406\n",
      "   1.3310001   3.1012301   7.225866   16.836267   39.2285     91.402405\n",
      " 212.96759   496.21448     1.4641001   3.411353    7.948453   18.519894\n",
      "  43.151352  100.54265   234.26436   545.83594     1.6105102   3.7524886\n",
      "   8.743299   20.371885   47.46649   110.59692   257.6908    600.41956\n",
      "   1.7715613   4.1277375   9.617628   22.409073   52.21314   121.65661\n",
      " 283.4599    660.46155     1.9487174   4.540511   10.5793915  24.64998\n",
      "  57.434452  133.82227   311.80588   726.5077   ]\n",
      "[  1.           2.32999992   5.42889977  12.64933576  29.47295135\n",
      "  68.6719744  160.0056951  372.81325738   1.10000002   2.56299996\n",
      "   5.97178984  13.91426963  32.42024719  75.53917347 176.00626843\n",
      " 410.09459201   1.21000004   2.81929994   6.56896877  15.30569675\n",
      "  35.66227226  83.09309164 193.60689718 451.10405566   1.33100009\n",
      "   3.1012301    7.22586606  16.83626699  39.2285008   91.40240386\n",
      " 212.96759403 496.21447784   1.46410013   3.41135318   7.94845284\n",
      "  18.51989409  43.15135181 100.54264643 234.26435851 545.83593746\n",
      "   1.61051017   3.75248858   8.74329831  20.37188394  47.46648802\n",
      " 110.59691347 257.69079995 600.41954422   1.77156123   4.12773753\n",
      "   9.61762835  22.40907282  52.21313796 121.65660745 283.45988609\n",
      " 660.46151296   1.9487174    4.54051138  10.57939141  24.64998063\n",
      "  57.434453   133.8222711  311.80588145 726.50768   ]\n"
     ]
    }
   ],
   "source": [
    "import jax.numpy as jnp\n",
    "def get_monomials(a,b):\n",
    "    a_pows = a ** jnp.arange(LMAX)\n",
    "    b_pows = b ** jnp.arange(LMAX)\n",
    "    ans = a_pows.reshape(LMAX,1) @ b_pows.reshape(1,LMAX)\n",
    "    return ans.reshape(LMAX*LMAX)\n",
    "\n",
    "f = lambda x: np.array(x, dtype=np.float32)\n",
    "fa,fb = f(1.1),f(2.33)\n",
    "got = get_monomials(fa,fb)\n",
    "print(got)\n",
    "\n",
    "expect = lambdify((a,b), all_monomials, \"numpy\")(fa,fb).reshape(LMAX*LMAX)\n",
    "print(expect)\n",
    "\n",
    "np.testing.assert_allclose(got,expect)\n"
   ]
  },
  {
   "cell_type": "code",
   "execution_count": 9,
   "metadata": {},
   "outputs": [],
   "source": [
    "inds = np.nonzero(weights)\n",
    "import inspect\n",
    "\n",
    "with np.printoptions(threshold=np.inf, formatter={'float':lambda x:f'{x:.10g}'}):\n",
    "  with open(\"../pyscf_ipu/experimental/binom_factor_table.py\", \"w\") as file:\n",
    "    print(\n",
    "        f\"\"\"# Copyright (c) 2023 Graphcore Ltd. All rights reserved.\n",
    "# AUTOGENERATED from notebooks/binom_factor_table.ipynb\n",
    "\n",
    "# fmt: off\n",
    "# flake8: noqa\n",
    "# isort: skip_file\n",
    "\n",
    "import jax.numpy as jnp\n",
    "import numpy as np\n",
    "array = np.array\n",
    "\n",
    "LMAX = {LMAX}\n",
    "{inspect.getsource(get_monomials)}\n",
    "\n",
    "def build_binom_factor_table(sparse=False):\n",
    "    inds,values = {repr((inds, weights[inds]))}\n",
    "    if sparse:\n",
    "      return inds,values\n",
    "    else:\n",
    "      W = np.zeros((LMAX,LMAX,LMAX,LMAX*LMAX))\n",
    "      W[inds] = values\n",
    "      return W\n",
    "\"\"\",\n",
    "        file=file,\n",
    "        end=''\n",
    "    )"
   ]
  },
  {
   "cell_type": "markdown",
   "metadata": {},
   "source": [
    "## Test\n",
    "\n",
    "Import the file we just generated, and check it works"
   ]
  },
  {
   "cell_type": "code",
   "execution_count": 10,
   "metadata": {},
   "outputs": [
    {
     "name": "stdout",
     "output_type": "stream",
     "text": [
      "monomials=DeviceArray([  1.       ,   2.2      ,   4.84     ,  10.648001 ,\n",
      "              23.425602 ,  51.536327 , 113.37992  , 249.43582  ,\n",
      "               1.1      ,   2.42     ,   5.3240004,  11.712801 ,\n",
      "              25.768162 ,  56.68996  , 124.71792  , 274.3794   ,\n",
      "               1.21     ,   2.6620002,   5.8564005,  12.884081 ,\n",
      "              28.344978 ,  62.35896  , 137.18971  , 301.81735  ,\n",
      "               1.3310001,   2.9282002,   6.4420404,  14.17249  ,\n",
      "              31.179478 ,  68.59486  , 150.90869  , 331.9991   ,\n",
      "               1.4641001,   3.2210202,   7.0862446,  15.589739 ,\n",
      "              34.29743  ,  75.454346 , 165.99956  , 365.199    ,\n",
      "               1.6105102,   3.5431225,   7.79487  ,  17.148714 ,\n",
      "              37.727173 ,  82.99978  , 182.59952  , 401.71893  ,\n",
      "               1.7715613,   3.897435 ,   8.574357 ,  18.863586 ,\n",
      "              41.49989  ,  91.29976  , 200.85948  , 441.89084  ,\n",
      "               1.9487174,   4.287178 ,   9.431792 ,  20.749945 ,\n",
      "              45.649876 , 100.42973  , 220.94542  , 486.07993  ],            dtype=float32)\n"
     ]
    },
    {
     "name": "stdout",
     "output_type": "stream",
     "text": [
      "(0, 2, 2) 1.0 [1.]\n",
      "(0, 5, 0) 51.53632558509851 [51.536327]\n",
      "(1, 1, 6) 0 [0.]\n",
      "(2, 1, 7) 0 [0.]\n",
      "(2, 2, 5) 0 [0.]\n",
      "(2, 6, 7) 15.40000033378601 [15.400001]\n",
      "(2, 7, 4) 3336.977076303898 [3336.977]\n",
      "(3, 1, 4) 1.0 [1.]\n",
      "(3, 1, 6) 0 [0.]\n",
      "(3, 1, 7) 0 [0.]\n",
      "(3, 3, 0) 14.172489843082529 [14.17249]\n",
      "(3, 4, 6) 12.100000262260437 [12.1]\n",
      "(3, 5, 0) 68.59485381402618 [68.59486]\n",
      "(3, 5, 1) 342.9742594246647 [342.97427]\n",
      "(3, 5, 3) 889.0016110117186 [889.0016]\n",
      "(4, 2, 2) 60.02810437345515 [60.028107]\n",
      "(4, 5, 5) 997.0521781336806 [997.0522]\n",
      "(4, 6, 3) 4926.357549691019 [4926.358]\n",
      "(5, 1, 6) 1.0 [1.]\n",
      "(5, 2, 4) 93.17000511407859 [93.170006]\n",
      "(5, 4, 0) 37.72717041542877 [37.727173]\n",
      "(5, 6, 2) 4338.624597774309 [4338.625]\n",
      "(6, 3, 6) 252.89001389455817 [252.89001]\n",
      "(6, 4, 5) 1903.623008021071 [1903.6229]\n",
      "(6, 7, 0) 441.8908399527361 [441.89084]\n",
      "(7, 0, 2) 33.8207136652209 [33.820713]\n",
      "(7, 2, 7) 64.13000242233278 [64.130005]\n",
      "(7, 5, 4) 12625.740273048325 [12625.74]\n",
      "(7, 6, 2) 8353.927707221395 [8353.928]\n"
     ]
    }
   ],
   "source": [
    "from pyscf_ipu.experimental import binom_factor_table\n",
    "\n",
    "aval, bval = f(1.1), f(2.2)\n",
    "\n",
    "monomials = binom_factor_table.get_monomials(aval, bval)\n",
    "print(f\"{monomials=}\")\n",
    "\n",
    "W = jnp.array(binom_factor_table.build_binom_factor_table(), dtype=jnp.float32)\n",
    "table_ab = W @ monomials.reshape(LMAX*LMAX,1)\n",
    "\n",
    "for i in range(LMAX):\n",
    "    for j in range(LMAX):\n",
    "        for s in range(LMAX):\n",
    "            bf = binom_factor(i, j, aval, bval, s)\n",
    "            if np.random.rand() ** LMAX > 0.6:\n",
    "                print((i, j, s), bf, table_ab[i, j, s])\n",
    "            np.testing.assert_allclose(bf, table_ab[i, j, s], rtol=1e-6)"
   ]
  }
 ],
 "metadata": {
  "kernelspec": {
   "display_name": "jaxipu",
   "language": "python",
   "name": "python3"
  },
  "language_info": {
   "codemirror_mode": {
    "name": "ipython",
    "version": 3
   },
   "file_extension": ".py",
   "mimetype": "text/x-python",
   "name": "python",
   "nbconvert_exporter": "python",
   "pygments_lexer": "ipython3",
   "version": "3.8.17"
  },
  "orig_nbformat": 4
 },
 "nbformat": 4,
 "nbformat_minor": 2
}
