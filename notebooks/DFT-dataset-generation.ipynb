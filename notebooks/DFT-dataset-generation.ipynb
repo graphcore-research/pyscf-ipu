{
 "cells": [
  {
   "cell_type": "markdown",
   "id": "e4c8b28c",
   "metadata": {},
   "source": [
    "Copyright (c) 2023 Graphcore Ltd. All rights reserved.\n",
    "\n",
    "# DFT dataset generation using PySCF IPU\n",
    "\n",
    "This notebook shows how to generate DFT datasets on the Graphcore IPU based on\n",
    "\"PySCFIPU: Repurposing Density Functional Theory to Suit Deep Learning\", Mathiasen et al, (SynS & ML) Workshop, ICML 2023\n",
    "\n",
    "https://icml.cc/virtual/2023/28485\n",
    "\n",
    "Density Functional Theory (DFT) accurately predicts the properties of molecules given their atom types and positions,\n",
    "and often serves as ground truth for molecular property prediction tasks.\n",
    "Research in other areas of machine learning has shown that generalisation performance \n",
    "of Neural Networks tends to improve with increased dataset size, however, \n",
    "the computational cost of DFT has limited the size of DFT datasets.\n",
    "\n",
    "PySCF_IPU allowed us to create QM10X, a dataset with 100 million conformers, in 3000 IPU-hours.\n",
    "\n",
    "This notebook, running on 4 IPUs on Paperspace, creates 100K conformers in about 1 hour;\n",
    "it can be run on multiple 16-IPU systems (paid instances) to generate the full dataset."
   ]
  },
  {
   "cell_type": "markdown",
   "id": "e5faf299",
   "metadata": {},
   "source": [
    "Install `pyscf-ipu`:"
   ]
  },
  {
   "cell_type": "code",
   "execution_count": 2,
   "id": "5f54d5a7",
   "metadata": {
    "execution": {
     "iopub.execute_input": "2023-09-19T17:51:55.470021Z",
     "iopub.status.busy": "2023-09-19T17:51:55.469829Z",
     "iopub.status.idle": "2023-09-19T17:52:24.963815Z",
     "shell.execute_reply": "2023-09-19T17:52:24.962817Z",
     "shell.execute_reply.started": "2023-09-19T17:51:55.469990Z"
    }
   },
   "outputs": [
    {
     "name": "stdout",
     "output_type": "stream",
     "text": [
      "Obtaining file:///notebooks\n",
      "  Preparing metadata (setup.py) ... \u001b[?25ldone\n",
      "\u001b[?25hCollecting jax@ https://github.com/graphcore-research/jax-experimental/releases/download/jax-v0.3.16-ipu-beta3-sdk3/jax-0.3.16%2Bipu-py3-none-any.whl\n",
      "  Downloading https://github.com/graphcore-research/jax-experimental/releases/download/jax-v0.3.16-ipu-beta3-sdk3/jax-0.3.16%2Bipu-py3-none-any.whl (1.2 MB)\n",
      "\u001b[2K     \u001b[90m━━━━━━━━━━━━━━━━━━━━━━━━━━━━━━━━━━━━━━━━\u001b[0m \u001b[32m1.2/1.2 MB\u001b[0m \u001b[31m34.1 MB/s\u001b[0m eta \u001b[36m0:00:00\u001b[0m00:01\u001b[0m\n",
      "\u001b[?25hCollecting jaxlib@ https://github.com/graphcore-research/jax-experimental/releases/download/jax-v0.3.16-ipu-beta3-sdk3/jaxlib-0.3.15%2Bipu.sdk320-cp38-none-manylinux2014_x86_64.whl\n",
      "  Downloading https://github.com/graphcore-research/jax-experimental/releases/download/jax-v0.3.16-ipu-beta3-sdk3/jaxlib-0.3.15%2Bipu.sdk320-cp38-none-manylinux2014_x86_64.whl (111.3 MB)\n",
      "\u001b[2K     \u001b[90m━━━━━━━━━━━━━━━━━━━━━━━━━━━━━━━━━━━━━━\u001b[0m \u001b[32m111.3/111.3 MB\u001b[0m \u001b[31m51.2 MB/s\u001b[0m eta \u001b[36m0:00:00\u001b[0m00:01\u001b[0m00:01\u001b[0m\n",
      "\u001b[?25hCollecting tessellate-ipu@ git+https://github.com/graphcore-research/tessellate-ipu.git@main\n",
      "  Cloning https://github.com/graphcore-research/tessellate-ipu.git (to revision main) to /tmp/pip-install-v1ttl504/tessellate-ipu_324d33ed0e4d4c839458b5dee8c8ace7\n",
      "  Running command git clone --filter=blob:none --quiet https://github.com/graphcore-research/tessellate-ipu.git /tmp/pip-install-v1ttl504/tessellate-ipu_324d33ed0e4d4c839458b5dee8c8ace7\n",
      "  Resolved https://github.com/graphcore-research/tessellate-ipu.git to commit e254e597bc9b2ffdfa6e3f6d814bebde9bd2f716\n",
      "  Installing build dependencies ... \u001b[?25ldone\n",
      "\u001b[?25h  Getting requirements to build wheel ... \u001b[?25ldone\n",
      "\u001b[?25h  Installing backend dependencies ... \u001b[?25ldone\n",
      "\u001b[?25h  Preparing metadata (pyproject.toml) ... \u001b[?25ldone\n",
      "\u001b[?25hRequirement already satisfied: numpy in /usr/local/lib/python3.8/dist-packages (from pyscf-ipu==0.0.1) (1.24.4)\n",
      "Requirement already satisfied: matplotlib in /usr/local/lib/python3.8/dist-packages (from pyscf-ipu==0.0.1) (3.7.3)\n",
      "Requirement already satisfied: pandas in /usr/local/lib/python3.8/dist-packages (from pyscf-ipu==0.0.1) (2.0.3)\n",
      "Requirement already satisfied: scipy in /usr/local/lib/python3.8/dist-packages (from pyscf-ipu==0.0.1) (1.10.1)\n",
      "Requirement already satisfied: h5py in /usr/local/lib/python3.8/dist-packages (from pyscf-ipu==0.0.1) (3.9.0)\n",
      "Requirement already satisfied: pubchempy in /usr/local/lib/python3.8/dist-packages (from pyscf-ipu==0.0.1) (1.0.4)\n",
      "Requirement already satisfied: pyscf==2.2.1 in /usr/local/lib/python3.8/dist-packages (from pyscf-ipu==0.0.1) (2.2.1)\n",
      "Requirement already satisfied: icecream in /usr/local/lib/python3.8/dist-packages (from pyscf-ipu==0.0.1) (2.1.3)\n",
      "Requirement already satisfied: seaborn in /usr/local/lib/python3.8/dist-packages (from pyscf-ipu==0.0.1) (0.12.2)\n",
      "Requirement already satisfied: tqdm in /usr/local/lib/python3.8/dist-packages (from pyscf-ipu==0.0.1) (4.65.0)\n",
      "Requirement already satisfied: natsort in /usr/local/lib/python3.8/dist-packages (from pyscf-ipu==0.0.1) (8.4.0)\n",
      "Requirement already satisfied: rdkit in /usr/local/lib/python3.8/dist-packages (from pyscf-ipu==0.0.1) (2023.3.3)\n",
      "Requirement already satisfied: jsonargparse[all] in /usr/local/lib/python3.8/dist-packages (from pyscf-ipu==0.0.1) (4.24.1)\n",
      "Requirement already satisfied: mogli in /usr/local/lib/python3.8/dist-packages (from pyscf-ipu==0.0.1) (0.3.0)\n",
      "Requirement already satisfied: imageio[ffmpeg] in /usr/local/lib/python3.8/dist-packages (from pyscf-ipu==0.0.1) (2.31.3)\n",
      "Requirement already satisfied: py3Dmol in /usr/local/lib/python3.8/dist-packages (from pyscf-ipu==0.0.1) (2.0.3)\n",
      "Requirement already satisfied: basis-set-exchange in /usr/local/lib/python3.8/dist-packages (from pyscf-ipu==0.0.1) (0.9.1)\n",
      "Requirement already satisfied: periodictable in /usr/local/lib/python3.8/dist-packages (from pyscf-ipu==0.0.1) (1.6.1)\n",
      "Requirement already satisfied: sympy in /usr/local/lib/python3.8/dist-packages (from pyscf-ipu==0.0.1) (1.12)\n",
      "Requirement already satisfied: setuptools<60.0 in /usr/local/lib/python3.8/dist-packages (from pyscf-ipu==0.0.1) (59.8.0)\n",
      "Requirement already satisfied: jaxtyping==0.2.8 in /usr/local/lib/python3.8/dist-packages (from pyscf-ipu==0.0.1) (0.2.8)\n",
      "Requirement already satisfied: chex in /usr/local/lib/python3.8/dist-packages (from pyscf-ipu==0.0.1) (0.1.6)\n",
      "Requirement already satisfied: jax==0.3.16 in /usr/local/lib/python3.8/dist-packages (from pyscf-ipu==0.0.1) (0.3.16+ipu)\n",
      "Requirement already satisfied: jaxlib==0.3.15 in /usr/local/lib/python3.8/dist-packages (from pyscf-ipu==0.0.1) (0.3.15+ipu.sdk320)\n",
      "Requirement already satisfied: typing-extensions in /usr/local/lib/python3.8/dist-packages (from jax@ https://github.com/graphcore-research/jax-experimental/releases/download/jax-v0.3.16-ipu-beta3-sdk3/jax-0.3.16%2Bipu-py3-none-any.whl->pyscf-ipu==0.0.1) (4.8.0)\n",
      "Requirement already satisfied: absl-py in /usr/local/lib/python3.8/dist-packages (from jax@ https://github.com/graphcore-research/jax-experimental/releases/download/jax-v0.3.16-ipu-beta3-sdk3/jax-0.3.16%2Bipu-py3-none-any.whl->pyscf-ipu==0.0.1) (2.0.0)\n",
      "Requirement already satisfied: pybind11 in /usr/local/lib/python3.8/dist-packages (from jax@ https://github.com/graphcore-research/jax-experimental/releases/download/jax-v0.3.16-ipu-beta3-sdk3/jax-0.3.16%2Bipu-py3-none-any.whl->pyscf-ipu==0.0.1) (2.11.1)\n",
      "Requirement already satisfied: etils[epath] in /usr/local/lib/python3.8/dist-packages (from jax@ https://github.com/graphcore-research/jax-experimental/releases/download/jax-v0.3.16-ipu-beta3-sdk3/jax-0.3.16%2Bipu-py3-none-any.whl->pyscf-ipu==0.0.1) (1.3.0)\n",
      "Requirement already satisfied: cppimport in /usr/local/lib/python3.8/dist-packages (from jax@ https://github.com/graphcore-research/jax-experimental/releases/download/jax-v0.3.16-ipu-beta3-sdk3/jax-0.3.16%2Bipu-py3-none-any.whl->pyscf-ipu==0.0.1) (22.8.2)\n",
      "Requirement already satisfied: opt-einsum in /usr/local/lib/python3.8/dist-packages (from jax@ https://github.com/graphcore-research/jax-experimental/releases/download/jax-v0.3.16-ipu-beta3-sdk3/jax-0.3.16%2Bipu-py3-none-any.whl->pyscf-ipu==0.0.1) (3.3.0)\n",
      "Requirement already satisfied: typeguard>=2.13.3 in /usr/local/lib/python3.8/dist-packages (from jaxtyping==0.2.8->pyscf-ipu==0.0.1) (4.1.5)\n",
      "Requirement already satisfied: jsonschema in /usr/local/lib/python3.8/dist-packages (from basis-set-exchange->pyscf-ipu==0.0.1) (4.17.3)\n",
      "Requirement already satisfied: unidecode in /usr/local/lib/python3.8/dist-packages (from basis-set-exchange->pyscf-ipu==0.0.1) (1.3.6)\n",
      "Requirement already satisfied: argcomplete in /usr/local/lib/python3.8/dist-packages (from basis-set-exchange->pyscf-ipu==0.0.1) (3.1.2)\n",
      "Requirement already satisfied: regex in /usr/local/lib/python3.8/dist-packages (from basis-set-exchange->pyscf-ipu==0.0.1) (2023.8.8)\n",
      "Requirement already satisfied: toolz>=0.9.0 in /usr/local/lib/python3.8/dist-packages (from chex->pyscf-ipu==0.0.1) (0.12.0)\n",
      "Requirement already satisfied: dm-tree>=0.1.5 in /usr/local/lib/python3.8/dist-packages (from chex->pyscf-ipu==0.0.1) (0.1.8)\n",
      "Requirement already satisfied: executing>=0.3.1 in /usr/local/lib/python3.8/dist-packages (from icecream->pyscf-ipu==0.0.1) (1.2.0)\n",
      "Requirement already satisfied: pygments>=2.2.0 in /usr/local/lib/python3.8/dist-packages (from icecream->pyscf-ipu==0.0.1) (2.14.0)\n",
      "Requirement already satisfied: asttokens>=2.0.1 in /usr/local/lib/python3.8/dist-packages (from icecream->pyscf-ipu==0.0.1) (2.4.0)\n",
      "Requirement already satisfied: colorama>=0.3.9 in /usr/local/lib/python3.8/dist-packages (from icecream->pyscf-ipu==0.0.1) (0.4.4)\n",
      "Requirement already satisfied: pillow>=8.3.2 in /usr/local/lib/python3.8/dist-packages (from imageio[ffmpeg]->pyscf-ipu==0.0.1) (10.0.1)\n",
      "Requirement already satisfied: psutil in /usr/local/lib/python3.8/dist-packages (from imageio[ffmpeg]->pyscf-ipu==0.0.1) (5.9.5)\n",
      "Requirement already satisfied: imageio-ffmpeg in /usr/local/lib/python3.8/dist-packages (from imageio[ffmpeg]->pyscf-ipu==0.0.1) (0.4.9)\n",
      "Requirement already satisfied: PyYAML>=3.13 in /usr/local/lib/python3.8/dist-packages (from jsonargparse[all]->pyscf-ipu==0.0.1) (5.4.1)\n",
      "Requirement already satisfied: packaging>=20.0 in /usr/local/lib/python3.8/dist-packages (from matplotlib->pyscf-ipu==0.0.1) (23.0)\n",
      "Requirement already satisfied: contourpy>=1.0.1 in /usr/local/lib/python3.8/dist-packages (from matplotlib->pyscf-ipu==0.0.1) (1.1.1)\n",
      "Requirement already satisfied: importlib-resources>=3.2.0 in /usr/local/lib/python3.8/dist-packages (from matplotlib->pyscf-ipu==0.0.1) (5.12.0)\n",
      "Requirement already satisfied: fonttools>=4.22.0 in /usr/local/lib/python3.8/dist-packages (from matplotlib->pyscf-ipu==0.0.1) (4.42.1)\n",
      "Requirement already satisfied: pyparsing>=2.3.1 in /usr/local/lib/python3.8/dist-packages (from matplotlib->pyscf-ipu==0.0.1) (3.1.1)\n",
      "Requirement already satisfied: cycler>=0.10 in /usr/local/lib/python3.8/dist-packages (from matplotlib->pyscf-ipu==0.0.1) (0.11.0)\n",
      "Requirement already satisfied: python-dateutil>=2.7 in /usr/local/lib/python3.8/dist-packages (from matplotlib->pyscf-ipu==0.0.1) (2.8.2)\n",
      "Requirement already satisfied: kiwisolver>=1.0.1 in /usr/local/lib/python3.8/dist-packages (from matplotlib->pyscf-ipu==0.0.1) (1.4.5)\n",
      "Requirement already satisfied: PyOpenGL in /usr/local/lib/python3.8/dist-packages (from mogli->pyscf-ipu==0.0.1) (3.1.7)\n",
      "Requirement already satisfied: glfw in /usr/local/lib/python3.8/dist-packages (from mogli->pyscf-ipu==0.0.1) (2.6.2)\n",
      "Requirement already satisfied: gr in /usr/local/lib/python3.8/dist-packages (from mogli->pyscf-ipu==0.0.1) (1.23.2)\n",
      "Requirement already satisfied: tzdata>=2022.1 in /usr/local/lib/python3.8/dist-packages (from pandas->pyscf-ipu==0.0.1) (2023.3)\n",
      "Requirement already satisfied: pytz>=2020.1 in /usr/local/lib/python3.8/dist-packages (from pandas->pyscf-ipu==0.0.1) (2023.3)\n",
      "Requirement already satisfied: mpmath>=0.19 in /usr/local/lib/python3.8/dist-packages (from sympy->pyscf-ipu==0.0.1) (1.3.0)\n",
      "Requirement already satisfied: six>=1.12.0 in /usr/lib/python3/dist-packages (from asttokens>=2.0.1->icecream->pyscf-ipu==0.0.1) (1.14.0)\n",
      "Requirement already satisfied: zipp>=3.1.0 in /usr/local/lib/python3.8/dist-packages (from importlib-resources>=3.2.0->matplotlib->pyscf-ipu==0.0.1) (3.15.0)\n",
      "Requirement already satisfied: importlib-metadata>=3.6 in /usr/local/lib/python3.8/dist-packages (from typeguard>=2.13.3->jaxtyping==0.2.8->pyscf-ipu==0.0.1) (6.1.0)\n",
      "Requirement already satisfied: filelock in /usr/local/lib/python3.8/dist-packages (from cppimport->jax@ https://github.com/graphcore-research/jax-experimental/releases/download/jax-v0.3.16-ipu-beta3-sdk3/jax-0.3.16%2Bipu-py3-none-any.whl->pyscf-ipu==0.0.1) (3.12.4)\n",
      "Requirement already satisfied: mako in /usr/local/lib/python3.8/dist-packages (from cppimport->jax@ https://github.com/graphcore-research/jax-experimental/releases/download/jax-v0.3.16-ipu-beta3-sdk3/jax-0.3.16%2Bipu-py3-none-any.whl->pyscf-ipu==0.0.1) (1.2.4)\n",
      "Requirement already satisfied: fsspec>=0.8.4 in /usr/local/lib/python3.8/dist-packages (from jsonargparse[all]->pyscf-ipu==0.0.1) (2023.9.1)\n",
      "Requirement already satisfied: jsonnet>=0.13.0 in /usr/local/lib/python3.8/dist-packages (from jsonargparse[all]->pyscf-ipu==0.0.1) (0.20.0)\n",
      "Requirement already satisfied: pyrsistent!=0.17.0,!=0.17.1,!=0.17.2,>=0.14.0 in /usr/local/lib/python3.8/dist-packages (from jsonschema->basis-set-exchange->pyscf-ipu==0.0.1) (0.19.3)\n",
      "Requirement already satisfied: attrs>=17.4.0 in /usr/local/lib/python3.8/dist-packages (from jsonschema->basis-set-exchange->pyscf-ipu==0.0.1) (22.2.0)\n",
      "Requirement already satisfied: pkgutil-resolve-name>=1.3.10 in /usr/local/lib/python3.8/dist-packages (from jsonschema->basis-set-exchange->pyscf-ipu==0.0.1) (1.3.10)\n",
      "Requirement already satisfied: omegaconf>=2.1.1 in /usr/local/lib/python3.8/dist-packages (from jsonargparse[all]->pyscf-ipu==0.0.1) (2.3.0)\n",
      "Requirement already satisfied: reconplogger>=4.4.0 in /usr/local/lib/python3.8/dist-packages (from jsonargparse[all]->pyscf-ipu==0.0.1) (4.12.0)\n",
      "Requirement already satisfied: ruyaml>=0.20.0 in /usr/local/lib/python3.8/dist-packages (from jsonargparse[all]->pyscf-ipu==0.0.1) (0.91.0)\n",
      "Requirement already satisfied: typeshed-client>=2.1.0 in /usr/local/lib/python3.8/dist-packages (from jsonargparse[all]->pyscf-ipu==0.0.1) (2.3.0)\n",
      "Requirement already satisfied: docstring-parser>=0.15 in /usr/local/lib/python3.8/dist-packages (from jsonargparse[all]->pyscf-ipu==0.0.1) (0.15)\n",
      "Requirement already satisfied: requests>=2.18.4 in /usr/local/lib/python3.8/dist-packages (from jsonargparse[all]->pyscf-ipu==0.0.1) (2.28.2)\n",
      "Requirement already satisfied: antlr4-python3-runtime==4.9.* in /usr/local/lib/python3.8/dist-packages (from omegaconf>=2.1.1->jsonargparse[all]->pyscf-ipu==0.0.1) (4.9.3)\n",
      "Requirement already satisfied: logmatic-python>=0.1.7 in /usr/local/lib/python3.8/dist-packages (from reconplogger>=4.4.0->jsonargparse[all]->pyscf-ipu==0.0.1) (0.1.7)\n",
      "Requirement already satisfied: idna<4,>=2.5 in /usr/lib/python3/dist-packages (from requests>=2.18.4->jsonargparse[all]->pyscf-ipu==0.0.1) (2.8)\n",
      "Requirement already satisfied: urllib3<1.27,>=1.21.1 in /usr/lib/python3/dist-packages (from requests>=2.18.4->jsonargparse[all]->pyscf-ipu==0.0.1) (1.25.8)\n",
      "Requirement already satisfied: certifi>=2017.4.17 in /usr/lib/python3/dist-packages (from requests>=2.18.4->jsonargparse[all]->pyscf-ipu==0.0.1) (2019.11.28)\n",
      "Requirement already satisfied: charset-normalizer<4,>=2 in /usr/local/lib/python3.8/dist-packages (from requests>=2.18.4->jsonargparse[all]->pyscf-ipu==0.0.1) (3.1.0)\n",
      "Requirement already satisfied: distro>=1.3.0 in /usr/lib/python3/dist-packages (from ruyaml>=0.20.0->jsonargparse[all]->pyscf-ipu==0.0.1) (1.4.0)\n",
      "Requirement already satisfied: MarkupSafe>=0.9.2 in /usr/local/lib/python3.8/dist-packages (from mako->cppimport->jax@ https://github.com/graphcore-research/jax-experimental/releases/download/jax-v0.3.16-ipu-beta3-sdk3/jax-0.3.16%2Bipu-py3-none-any.whl->pyscf-ipu==0.0.1) (2.1.2)\n",
      "Requirement already satisfied: python-json-logger in /usr/local/lib/python3.8/dist-packages (from logmatic-python>=0.1.7->reconplogger>=4.4.0->jsonargparse[all]->pyscf-ipu==0.0.1) (2.0.7)\n",
      "Installing collected packages: pyscf-ipu\n",
      "  Attempting uninstall: pyscf-ipu\n",
      "    Found existing installation: pyscf-ipu 0.0.1\n",
      "    Can't uninstall 'pyscf-ipu'. No files were found to uninstall.\n",
      "  Running setup.py develop for pyscf-ipu\n",
      "Successfully installed pyscf-ipu\n",
      "\u001b[33mWARNING: Running pip as the 'root' user can result in broken permissions and conflicting behaviour with the system package manager. It is recommended to use a virtual environment instead: https://pip.pypa.io/warnings/venv\u001b[0m\u001b[33m\n",
      "\u001b[0mNote: you may need to restart the kernel to use updated packages.\n",
      "install done\n"
     ]
    }
   ],
   "source": [
    "# PySCF IPU dependencies \n",
    "%pip install -e \"..[ipu]\"\n",
    "print('install done')"
   ]
  },
  {
   "cell_type": "markdown",
   "id": "16f39a33",
   "metadata": {},
   "source": [
    "# Download and preprocess GDB 11 dataset"
   ]
  },
  {
   "cell_type": "code",
   "execution_count": 2,
   "id": "88c260e3",
   "metadata": {
    "execution": {
     "iopub.execute_input": "2023-09-19T14:57:45.437550Z",
     "iopub.status.busy": "2023-09-19T14:57:45.437267Z",
     "iopub.status.idle": "2023-09-19T14:57:45.450704Z",
     "shell.execute_reply": "2023-09-19T14:57:45.449995Z",
     "shell.execute_reply.started": "2023-09-19T14:57:45.437519Z"
    }
   },
   "outputs": [
    {
     "name": "stdout",
     "output_type": "stream",
     "text": [
      "Found ./data/gdb11_size09_sorted.csv\n"
     ]
    }
   ],
   "source": [
    "import os\n",
    "\n",
    "gdb_filename = \"./data/gdb11_size09.smi\"\n",
    "out_filename = gdb_filename.replace(\".smi\", \"_sorted.csv\")\n",
    "\n",
    "loaded = os.path.exists(out_filename) and os.path.getsize(out_filename) == 6985727\n",
    "\n",
    "if loaded:\n",
    "  print(f'Found {out_filename}')\n",
    "else:\n",
    "  print(f'Did not find {out_filename}, or size was wrong')\n",
    "\n",
    "  # Download and extract GDB11 dataset.\n",
    "  !mkdir -p ./data\n",
    "  !wget -p -O ./data/gdb11.tgz https://zenodo.org/record/5172018/files/gdb11.tgz\\?download\\=1\n",
    "  !tar -xvf ./data/gdb11.tgz --directory ./gdb/\n",
    "\n",
    "  from  gdb import sortgdb\n",
    "\n",
    "  # Filter & sort GDB11 dataset (size 9).\n",
    "  gdb_sorted = sortgdb.sort_gdb(gdb_filename, keep_only_atoms_count=9)\n",
    "  # Save output as csv.\n",
    "  gdb_sorted.to_csv(out_filename, index=False, header=False)\n",
    "\n"
   ]
  },
  {
   "cell_type": "code",
   "execution_count": 3,
   "id": "a9da90c6",
   "metadata": {
    "execution": {
     "iopub.execute_input": "2023-09-19T14:57:47.169997Z",
     "iopub.status.busy": "2023-09-19T14:57:47.169786Z",
     "iopub.status.idle": "2023-09-19T14:57:47.954940Z",
     "shell.execute_reply": "2023-09-19T14:57:47.953881Z",
     "shell.execute_reply.started": "2023-09-19T14:57:47.169979Z"
    }
   },
   "outputs": [
    {
     "name": "stdout",
     "output_type": "stream",
     "text": [
      "import done\n"
     ]
    }
   ],
   "source": [
    "import os\n",
    "\n",
    "# PySCF IPU setup: use a single device per process.\n",
    "os.environ[\"JAX_IPU_DEVICE_COUNT\"] = \"1\"\n",
    "# JAX/XLA IPU compilation cache.\n",
    "os.environ['TF_POPLAR_FLAGS'] = \"\"\"\n",
    "  --executable_cache_path=/tmp/ipu-ef-cache\n",
    "\"\"\"\n",
    "\n",
    "# First import of JAX and TessellateIPU may take a few minutes...\n",
    "import jax\n",
    "import tessellate_ipu\n",
    "print('import done')"
   ]
  },
  {
   "cell_type": "markdown",
   "id": "fa46c38d",
   "metadata": {},
   "source": [
    "# Create a DFT dataset using PySCF IPU\n",
    "\n",
    "In the following example, we use only a single IPU. Multiple IPUs can be used by simply launching a collection of PySCF IPU processes instead of a single one."
   ]
  },
  {
   "cell_type": "code",
   "execution_count": 4,
   "id": "96ea8a6f",
   "metadata": {
    "execution": {
     "iopub.execute_input": "2023-09-19T14:57:50.853563Z",
     "iopub.status.busy": "2023-09-19T14:57:50.853232Z",
     "iopub.status.idle": "2023-09-19T14:57:52.473054Z",
     "shell.execute_reply": "2023-09-19T14:57:52.472262Z",
     "shell.execute_reply.started": "2023-09-19T14:57:50.853542Z"
    }
   },
   "outputs": [
    {
     "name": "stdout",
     "output_type": "stream",
     "text": [
      "[BASIS] STO-3G\n",
      "Loaded 444285 molecules from gdb11_size09\n"
     ]
    }
   ],
   "source": [
    "# Equivalent to command line:\n",
    "# python pyscf_ipu/dft.py  -generate  -save  -fname \"notebook_dataset\"\n",
    "#        -level 0  -plevel 0  -num_conformers 1000\n",
    "#        -gdb 9  -float32\n",
    "\n",
    "import time\n",
    "from pyscf_ipu.dft import get_args, process_args\n",
    "\n",
    "args = get_args([])\n",
    "args.backend = 'cpu'\n",
    "args.generate = True\n",
    "args.save = True\n",
    "args.fname = \"notebook_dataset\"\n",
    "\n",
    "args.level = 0\n",
    "args.plevel = 0\n",
    "\n",
    "args.float32 = True\n",
    "\n",
    "quick = True # Set to False to generate full dataset (takes some time)\n",
    "\n",
    "if quick:\n",
    "  args.id = 1\n",
    "  args.num_conformers = 32 # Set to 1000 for full dataset\n",
    "  args.limit = 33 # Comment out for full dataset\n",
    "else:\n",
    "  args.num_conformers = 1000\n",
    "\n",
    "process_args(args)\n",
    "\n",
    "# Load GDB09 data\n",
    "gdb = 'gdb11_size09'\n",
    "args.smiles = open(f\"../gdb/{gdb}_sorted.csv\", \"r\").read().split(\"\\n\")\n",
    "print(f'Loaded {len(args.smiles)} molecules from {gdb}')"
   ]
  },
  {
   "cell_type": "code",
   "execution_count": null,
   "id": "41564018",
   "metadata": {
    "execution": {
     "iopub.execute_input": "2023-09-19T14:58:15.182876Z",
     "iopub.status.busy": "2023-09-19T14:58:15.182484Z"
    }
   },
   "outputs": [
    {
     "name": "stdout",
     "output_type": "stream",
     "text": [
      "Length GDB:  444285\n",
      "Trying FC(F)=C(F)C#CC#N\n",
      "Conformer:  F  -3.303279 -2.551231 -0.665592; C  -3.551114 -0.180504 -1.594233; F  -5.642254 0.510763 -2.775206; C  -1.480470 1.359424 -1.330889; F  -1.829597 3.736696 -2.292413; C  0.721395 0.525248 -0.394711; C  2.921869 -0.329714 0.586346; C  5.124244 -1.156335 1.526403; N 7.039206 -1.914347 2.335843; \n",
      "recompute: _0_32\n",
      "HIT\n",
      "0_GDB-1_f32True_grid0_backendcpu_0_32\n",
      "(146, 16)\n",
      "1_GDB-1_f32True_grid0_backendcpu_0_32\n"
     ]
    },
    {
     "name": "stderr",
     "output_type": "stream",
     "text": [
      "  0%|          | 0/33 [00:00<?, ?it/s]"
     ]
    },
    {
     "name": "stdout",
     "output_type": "stream",
     "text": [
      "[PAD] Last molecule had grisize=9816 we're using 10797. \n",
      "[FC(F)(C#N)C(=O)C#N]\n",
      "[conformers] 32\n",
      "16.4025 (45, 45, 45, 45) 15\n",
      "7.77384 (4, 10797, 45) 20\n"
     ]
    },
    {
     "name": "stderr",
     "output_type": "stream",
     "text": [
      "[1 / 32] Hs=    0 -529.163500 4513.4 0.0 0.0 0.1 3.0 0.2 298.2 0.1 28.0 4.4 0.3 0.3 0.1 0.0 0.0 3.3 0.2 0.0 0.0 0.2 0.3 1.1 0.2 4.5 4857.9 [1 ; 0]:   0%|          | 0/33 [00:05<?, ?it/s]"
     ]
    },
    {
     "name": "stdout",
     "output_type": "stream",
     "text": [
      "16.4025 (45, 45, 45, 45) 15\n",
      "7.77384 (4, 10797, 45) 20\n"
     ]
    },
    {
     "name": "stderr",
     "output_type": "stream",
     "text": [
      "[2 / 32] Hs=    0 -529.159320 4423.4 0.1 0.0 0.1 3.5 0.3 289.0 0.3 28.2 1.9 0.2 0.3 0.1 0.0 0.0 3.3 0.2 0.0 0.0 0.2 0.4 0.7 0.2 5.8 4758.2 [1 ; 0]:   0%|          | 0/33 [00:10<?, ?it/s]"
     ]
    },
    {
     "name": "stdout",
     "output_type": "stream",
     "text": [
      "16.4025 (45, 45, 45, 45) 15\n",
      "7.77384 (4, 10797, 45) 20\n"
     ]
    },
    {
     "name": "stderr",
     "output_type": "stream",
     "text": [
      "[3 / 32] Hs=    0 -529.167974 4524.7 0.0 0.0 0.1 2.9 0.2 289.7 0.1 26.8 2.3 0.2 0.3 0.1 0.0 0.0 3.1 0.1 0.0 0.0 0.2 0.3 1.7 0.7 5.1 4858.6 [1 ; 0]:   0%|          | 0/33 [00:14<?, ?it/s]"
     ]
    },
    {
     "name": "stdout",
     "output_type": "stream",
     "text": [
      "16.4025 (45, 45, 45, 45) 15\n",
      "7.77384 (4, 10797, 45) 20\n"
     ]
    },
    {
     "name": "stderr",
     "output_type": "stream",
     "text": [
      "[4 / 32] Hs=    0 -529.163280 4487.6 0.1 0.0 0.1 3.2 0.3 284.4 0.2 27.5 1.9 0.5 0.3 0.2 0.0 0.1 3.7 0.3 0.0 0.0 0.2 0.4 1.3 0.7 16.3 4829.3 [1 ; 0]:   0%|          | 0/33 [00:19<?, ?it/s]"
     ]
    },
    {
     "name": "stdout",
     "output_type": "stream",
     "text": [
      "16.4025 (45, 45, 45, 45) 15\n",
      "7.77384 (4, 10797, 45) 20\n"
     ]
    },
    {
     "name": "stderr",
     "output_type": "stream",
     "text": [
      "[5 / 32] Hs=    0 -529.166407 4512.2 0.0 0.0 0.1 2.9 0.2 280.4 0.1 27.5 2.6 0.3 0.3 0.1 0.0 0.0 3.2 0.2 0.0 0.0 0.3 0.4 2.9 0.2 2.1 4836.0 [1 ; 0]:   0%|          | 0/33 [00:24<?, ?it/s] "
     ]
    },
    {
     "name": "stdout",
     "output_type": "stream",
     "text": [
      "16.4025 (45, 45, 45, 45) 15\n",
      "7.77384 (4, 10797, 45) 20\n"
     ]
    },
    {
     "name": "stderr",
     "output_type": "stream",
     "text": [
      "[6 / 32] Hs=    0 -529.169012 4649.4 0.2 0.1 0.3 4.0 0.4 284.3 0.1 27.3 3.7 0.3 0.3 0.1 0.0 0.0 4.0 0.2 0.0 0.0 0.4 0.4 0.7 0.2 2.9 4979.3 [1 ; 0]:   0%|          | 0/33 [00:29<?, ?it/s]"
     ]
    },
    {
     "name": "stdout",
     "output_type": "stream",
     "text": [
      "16.4025 (45, 45, 45, 45) 15\n",
      "7.77384 (4, 10797, 45) 20\n"
     ]
    },
    {
     "name": "stderr",
     "output_type": "stream",
     "text": [
      "[7 / 32] Hs=    0 -529.163276 4480.6 0.4 0.2 0.2 7.8 0.9 289.1 0.1 26.6 2.1 0.2 0.3 0.1 0.0 0.0 3.2 0.2 0.0 0.0 0.2 0.3 2.3 0.6 14.9 4830.3 [1 ; 0]:   0%|          | 0/33 [00:34<?, ?it/s]"
     ]
    },
    {
     "name": "stdout",
     "output_type": "stream",
     "text": [
      "16.4025 (45, 45, 45, 45) 15\n",
      "7.77384 (4, 10797, 45) 20\n"
     ]
    },
    {
     "name": "stderr",
     "output_type": "stream",
     "text": [
      "[8 / 32] Hs=    0 -529.157284 4498.3 0.1 0.0 0.1 3.7 0.3 290.1 0.1 27.9 2.2 0.3 0.4 0.2 0.0 0.1 3.4 0.3 0.0 0.0 0.3 0.5 1.9 0.3 3.1 4833.6 [1 ; 0]:   0%|          | 0/33 [00:39<?, ?it/s] "
     ]
    },
    {
     "name": "stdout",
     "output_type": "stream",
     "text": [
      "16.4025 (45, 45, 45, 45) 15\n",
      "7.77384 (4, 10797, 45) 20\n"
     ]
    },
    {
     "name": "stderr",
     "output_type": "stream",
     "text": [
      "[9 / 32] Hs=    0 -529.162348 4472.4 0.0 0.0 0.1 2.8 0.2 288.5 0.0 26.5 2.2 0.2 0.3 0.1 0.0 0.0 3.2 0.1 0.0 0.0 0.1 0.3 0.5 0.1 1.8 4799.4 [1 ; 0]:   0%|          | 0/33 [00:44<?, ?it/s]"
     ]
    },
    {
     "name": "stdout",
     "output_type": "stream",
     "text": [
      "16.4025 (45, 45, 45, 45) 15\n",
      "7.77384 (4, 10797, 45) 20\n"
     ]
    },
    {
     "name": "stderr",
     "output_type": "stream",
     "text": [
      "[10 / 32] Hs=    0 -529.171149 4371.3 0.0 0.0 0.1 2.8 0.2 287.6 0.0 26.3 2.0 0.2 0.3 0.1 0.0 0.0 4.3 0.2 0.0 0.0 0.2 0.4 0.7 0.2 2.3 4699.2 [1 ; 0]:   0%|          | 0/33 [00:48<?, ?it/s]"
     ]
    },
    {
     "name": "stdout",
     "output_type": "stream",
     "text": [
      "16.4025 (45, 45, 45, 45) 15\n",
      "7.77384 (4, 10797, 45) 20\n"
     ]
    },
    {
     "name": "stderr",
     "output_type": "stream",
     "text": [
      "[11 / 32] Hs=    0 -529.170387 4383.4 0.0 0.0 0.1 2.8 0.2 277.5 0.0 26.8 2.4 0.2 0.3 0.1 0.0 0.0 3.9 0.2 0.0 0.0 0.2 0.3 0.8 0.1 2.1 4701.4 [1 ; 0]:   0%|          | 0/33 [00:53<?, ?it/s]"
     ]
    },
    {
     "name": "stdout",
     "output_type": "stream",
     "text": [
      "16.4025 (45, 45, 45, 45) 15\n",
      "7.77384 (4, 10797, 45) 20\n"
     ]
    },
    {
     "name": "stderr",
     "output_type": "stream",
     "text": [
      "[12 / 32] Hs=    0 -529.164210 4356.1 0.0 0.0 0.1 2.9 0.2 278.2 0.1 27.6 1.9 0.3 0.3 0.1 0.0 0.0 3.2 0.2 0.0 0.0 0.2 0.3 0.8 0.3 3.9 4676.7 [1 ; 0]:   0%|          | 0/33 [00:58<?, ?it/s]"
     ]
    },
    {
     "name": "stdout",
     "output_type": "stream",
     "text": [
      "16.4025 (45, 45, 45, 45) 15\n",
      "7.77384 (4, 10797, 45) 20\n"
     ]
    },
    {
     "name": "stderr",
     "output_type": "stream",
     "text": [
      "[13 / 32] Hs=    0 -529.168221 4600.7 0.0 0.0 0.1 3.0 0.2 288.3 0.1 27.2 2.7 0.2 0.3 0.1 0.0 0.0 3.2 0.2 0.0 0.0 0.2 0.3 0.7 0.2 2.0 4929.7 [1 ; 0]:   0%|          | 0/33 [01:03<?, ?it/s]"
     ]
    },
    {
     "name": "stdout",
     "output_type": "stream",
     "text": [
      "16.4025 (45, 45, 45, 45) 15\n",
      "7.77384 (4, 10797, 45) 20\n"
     ]
    },
    {
     "name": "stderr",
     "output_type": "stream",
     "text": [
      "[14 / 32] Hs=    0 -529.157600 4546.4 0.1 0.1 0.1 3.5 0.3 295.1 0.3 28.8 2.3 0.3 0.3 0.1 0.0 0.1 3.7 0.3 0.0 0.0 0.3 0.5 1.3 0.2 3.4 4887.5 [1 ; 0]:   0%|          | 0/33 [01:07<?, ?it/s]"
     ]
    },
    {
     "name": "stdout",
     "output_type": "stream",
     "text": [
      "16.4025 (45, 45, 45, 45) 15\n",
      "7.77384 (4, 10797, 45) 20\n"
     ]
    },
    {
     "name": "stderr",
     "output_type": "stream",
     "text": [
      "[15 / 32] Hs=    0 -529.167172 4431.0 0.2 0.0 0.1 3.3 0.3 299.6 0.1 27.2 2.2 0.2 0.3 0.1 0.0 0.0 3.3 0.2 0.0 0.0 0.2 0.3 0.7 0.2 3.1 4772.6 [1 ; 0]:   0%|          | 0/33 [01:12<?, ?it/s]"
     ]
    },
    {
     "name": "stdout",
     "output_type": "stream",
     "text": [
      "16.4025 (45, 45, 45, 45) 15\n",
      "7.77384 (4, 10797, 45) 20\n"
     ]
    },
    {
     "name": "stderr",
     "output_type": "stream",
     "text": [
      "[16 / 32] Hs=    0 -529.065296 4368.2 0.1 0.0 0.1 2.8 0.2 293.1 0.0 26.7 1.9 0.2 0.3 0.1 0.0 0.0 3.2 0.1 0.0 0.0 0.2 0.3 0.6 0.1 2.1 4700.3 [1 ; 0]:   0%|          | 0/33 [01:17<?, ?it/s]"
     ]
    },
    {
     "name": "stdout",
     "output_type": "stream",
     "text": [
      "16.4025 (45, 45, 45, 45) 15\n",
      "7.77384 (4, 10797, 45) 20\n"
     ]
    },
    {
     "name": "stderr",
     "output_type": "stream",
     "text": [
      "[17 / 32] Hs=    0 -529.165045 4424.1 0.0 0.0 0.1 3.8 0.2 299.0 0.0 26.6 4.2 0.2 0.3 0.1 0.0 0.0 3.1 0.2 0.0 0.0 0.2 0.3 0.6 0.1 1.9 4765.0 [1 ; 0]:   0%|          | 0/33 [01:22<?, ?it/s]"
     ]
    },
    {
     "name": "stdout",
     "output_type": "stream",
     "text": [
      "16.4025 (45, 45, 45, 45) 15\n",
      "7.77384 (4, 10797, 45) 20\n"
     ]
    },
    {
     "name": "stderr",
     "output_type": "stream",
     "text": [
      "[18 / 32] Hs=    0 -529.167060 4603.1 0.0 0.0 0.1 3.1 0.2 292.1 0.0 27.0 2.4 0.2 0.3 0.1 0.0 0.0 3.0 0.2 0.0 0.0 0.2 0.3 0.6 0.1 2.1 4935.1 [1 ; 0]:   0%|          | 0/33 [01:27<?, ?it/s]"
     ]
    },
    {
     "name": "stdout",
     "output_type": "stream",
     "text": [
      "16.4025 (45, 45, 45, 45) 15\n",
      "7.77384 (4, 10797, 45) 20\n"
     ]
    },
    {
     "name": "stderr",
     "output_type": "stream",
     "text": [
      "[19 / 32] Hs=    0 -529.162900 4502.1 0.2 0.0 0.1 3.3 0.3 290.3 0.1 26.9 2.0 0.2 0.3 0.1 0.0 0.0 3.2 0.2 0.0 0.0 0.2 0.4 0.8 0.3 3.8 4834.8 [1 ; 0]:   0%|          | 0/33 [01:31<?, ?it/s]"
     ]
    },
    {
     "name": "stdout",
     "output_type": "stream",
     "text": [
      "16.4025 (45, 45, 45, 45) 15\n",
      "7.77384 (4, 10797, 45) 20\n"
     ]
    },
    {
     "name": "stderr",
     "output_type": "stream",
     "text": [
      "[20 / 32] Hs=    0 -529.167436 4596.0 0.2 0.0 0.2 4.5 0.3 291.5 0.1 27.6 2.3 0.3 0.3 0.1 0.0 0.0 3.3 0.2 0.0 0.0 0.2 0.3 0.6 0.2 2.9 4931.1 [1 ; 0]:   0%|          | 0/33 [01:36<?, ?it/s]"
     ]
    },
    {
     "name": "stdout",
     "output_type": "stream",
     "text": [
      "16.4025 (45, 45, 45, 45) 15\n",
      "7.77384 (4, 10797, 45) 20\n"
     ]
    },
    {
     "name": "stderr",
     "output_type": "stream",
     "text": [
      "[21 / 32] Hs=    0 -529.166232 4456.0 0.1 0.0 0.1 3.7 0.3 312.1 0.1 27.0 2.0 0.4 0.3 0.2 0.0 0.0 4.6 0.2 0.0 0.0 0.3 0.4 0.7 0.3 3.7 4812.5 [1 ; 0]:   0%|          | 0/33 [01:41<?, ?it/s]"
     ]
    },
    {
     "name": "stdout",
     "output_type": "stream",
     "text": [
      "16.4025 (45, 45, 45, 45) 15\n",
      "7.77384 (4, 10797, 45) 20\n"
     ]
    },
    {
     "name": "stderr",
     "output_type": "stream",
     "text": [
      "[22 / 32] Hs=    0 -529.160039 4503.3 0.2 0.0 0.1 3.3 0.3 300.8 0.1 27.0 1.9 0.2 0.3 0.1 0.0 0.0 3.2 0.2 0.0 0.0 0.2 0.3 0.7 0.2 2.7 4845.1 [1 ; 0]:   0%|          | 0/33 [01:46<?, ?it/s]"
     ]
    },
    {
     "name": "stdout",
     "output_type": "stream",
     "text": [
      "16.4025 (45, 45, 45, 45) 15\n",
      "7.77384 (4, 10797, 45) 20\n"
     ]
    },
    {
     "name": "stderr",
     "output_type": "stream",
     "text": [
      "[23 / 32] Hs=    0 -529.165139 4492.5 0.0 0.0 0.1 2.9 0.2 291.1 0.0 27.4 2.1 0.2 0.3 0.1 0.0 0.0 3.1 0.2 0.0 0.0 0.2 0.4 0.6 0.1 1.9 4823.4 [1 ; 0]:   0%|          | 0/33 [01:51<?, ?it/s]"
     ]
    },
    {
     "name": "stdout",
     "output_type": "stream",
     "text": [
      "16.4025 (45, 45, 45, 45) 15\n",
      "7.77384 (4, 10797, 45) 20\n"
     ]
    },
    {
     "name": "stderr",
     "output_type": "stream",
     "text": [
      "[24 / 32] Hs=    0 -529.162077 4462.4 0.3 0.0 0.1 4.2 0.3 289.0 0.1 26.9 2.1 0.2 0.3 0.1 0.0 0.0 3.1 0.2 0.0 0.0 0.2 0.3 0.7 0.3 3.6 4794.4 [1 ; 0]:   0%|          | 0/33 [01:56<?, ?it/s]"
     ]
    },
    {
     "name": "stdout",
     "output_type": "stream",
     "text": [
      "16.4025 (45, 45, 45, 45) 15\n",
      "7.77384 (4, 10797, 45) 20\n"
     ]
    },
    {
     "name": "stderr",
     "output_type": "stream",
     "text": [
      "[25 / 32] Hs=    0 -529.168669 4448.1 0.0 0.0 0.1 3.0 0.3 288.7 0.1 26.9 2.0 0.2 0.3 0.1 0.0 0.0 3.2 0.1 0.0 0.0 0.2 0.3 0.6 0.2 2.1 4776.5 [1 ; 0]:   0%|          | 0/33 [02:00<?, ?it/s]"
     ]
    },
    {
     "name": "stdout",
     "output_type": "stream",
     "text": [
      "16.4025 (45, 45, 45, 45) 15\n",
      "7.77384 (4, 10797, 45) 20\n"
     ]
    },
    {
     "name": "stderr",
     "output_type": "stream",
     "text": [
      "[26 / 32] Hs=    0 -529.160736 4506.9 0.3 0.0 0.1 3.2 0.3 308.6 0.0 26.9 1.9 0.2 0.3 0.1 0.0 0.0 3.1 0.1 0.0 0.0 0.1 0.3 0.6 0.4 2.6 4856.0 [1 ; 0]:   0%|          | 0/33 [02:05<?, ?it/s]"
     ]
    },
    {
     "name": "stdout",
     "output_type": "stream",
     "text": [
      "16.4025 (45, 45, 45, 45) 15\n",
      "7.77384 (4, 10797, 45) 20\n"
     ]
    },
    {
     "name": "stderr",
     "output_type": "stream",
     "text": [
      "[27 / 32] Hs=    0 -529.165877 4465.6 0.2 0.1 0.2 5.1 0.4 284.1 0.1 27.7 2.0 0.2 0.3 0.1 0.0 0.0 3.2 0.1 0.0 0.0 0.2 0.3 0.6 0.1 2.4 4793.0 [1 ; 0]:   0%|          | 0/33 [02:10<?, ?it/s]"
     ]
    },
    {
     "name": "stdout",
     "output_type": "stream",
     "text": [
      "16.4025 (45, 45, 45, 45) 15\n",
      "7.77384 (4, 10797, 45) 20\n"
     ]
    },
    {
     "name": "stderr",
     "output_type": "stream",
     "text": [
      "[28 / 32] Hs=    0 -529.166273 4377.4 0.1 0.0 0.1 3.4 0.3 293.2 0.1 26.9 1.9 0.2 0.3 0.1 0.0 0.0 4.6 0.1 0.0 0.0 0.3 0.3 0.7 0.2 2.9 4713.1 [1 ; 0]:   0%|          | 0/33 [02:15<?, ?it/s]"
     ]
    },
    {
     "name": "stdout",
     "output_type": "stream",
     "text": [
      "16.4025 (45, 45, 45, 45) 15\n",
      "7.77384 (4, 10797, 45) 20\n"
     ]
    },
    {
     "name": "stderr",
     "output_type": "stream",
     "text": [
      "[29 / 32] Hs=    0 -529.162908 4699.3 0.6 0.2 0.4 8.4 1.2 281.1 0.1 27.9 2.2 0.3 0.3 0.2 0.0 0.0 3.8 0.2 0.0 0.0 0.4 0.4 0.8 0.2 3.5 5031.5 [1 ; 0]:   0%|          | 0/33 [02:20<?, ?it/s]"
     ]
    },
    {
     "name": "stdout",
     "output_type": "stream",
     "text": [
      "16.4025 (45, 45, 45, 45) 15\n",
      "7.77384 (4, 10797, 45) 20\n"
     ]
    },
    {
     "name": "stderr",
     "output_type": "stream",
     "text": [
      "[30 / 32] Hs=    0 -529.166964 4496.6 0.1 0.0 0.1 3.2 0.3 290.6 0.1 26.8 2.0 0.2 0.3 0.1 0.0 0.0 3.1 0.2 0.0 0.0 0.2 0.3 0.6 0.2 2.7 4827.7 [1 ; 0]:   0%|          | 0/33 [02:25<?, ?it/s]"
     ]
    },
    {
     "name": "stdout",
     "output_type": "stream",
     "text": [
      "16.4025 (45, 45, 45, 45) 15\n",
      "7.77384 (4, 10797, 45) 20\n"
     ]
    },
    {
     "name": "stderr",
     "output_type": "stream",
     "text": [
      "[31 / 32] Hs=    0 -529.158282 4463.7 0.0 0.1 0.1 2.9 0.2 300.2 0.4 39.0 2.6 0.7 0.4 0.2 0.0 0.1 4.9 0.4 0.0 0.0 0.3 0.6 1.4 0.7 16.8 4835.7 [1 ; 0]:   0%|          | 0/33 [02:30<?, ?it/s]"
     ]
    },
    {
     "name": "stdout",
     "output_type": "stream",
     "text": [
      "16.4025 (45, 45, 45, 45) 15\n",
      "7.77384 (4, 10797, 45) 20\n"
     ]
    },
    {
     "name": "stderr",
     "output_type": "stream",
     "text": [
      "[31 / 32] Hs=    0 -529.158282 4463.7 0.0 0.1 0.1 2.9 0.2 300.2 0.4 39.0 2.6 0.7 0.4 0.2 0.0 0.1 4.9 0.4 0.0 0.0 0.3 0.6 1.4 0.7 16.8 4835.7 [1 ; 0]:   3%|▎         | 1/33 [02:34<1:22:28, 154.65s/it]"
     ]
    },
    {
     "name": "stdout",
     "output_type": "stream",
     "text": [
      "[FC(F)=C(F)C#CC#N]\n",
      "[conformers] 32\n",
      "16.4025 (45, 45, 45, 45) 15\n",
      "7.77384 (4, 10797, 45) 20\n"
     ]
    },
    {
     "name": "stderr",
     "output_type": "stream",
     "text": [
      "[1 / 32] Hs=    0 -536.809169 4415.8 0.0 0.0 0.1 2.3 0.2 243.0 0.1 28.6 2.1 0.3 0.3 0.2 0.0 0.0 3.3 0.2 0.0 0.0 0.3 0.4 1.0 0.8 7.2 4706.2 [2 ; 0]:   3%|▎         | 1/33 [02:39<1:22:28, 154.65s/it]  "
     ]
    },
    {
     "name": "stdout",
     "output_type": "stream",
     "text": [
      "16.4025 (45, 45, 45, 45) 15\n",
      "7.77384 (4, 10797, 45) 20\n"
     ]
    },
    {
     "name": "stderr",
     "output_type": "stream",
     "text": [
      "[2 / 32] Hs=    0 -536.942710 4434.0 0.0 0.0 0.1 2.8 0.2 252.2 0.0 26.6 1.9 0.2 0.3 0.1 0.0 0.0 3.3 0.2 0.0 0.0 0.2 0.3 0.6 0.2 5.6 4728.8 [2 ; 0]:   3%|▎         | 1/33 [02:44<1:22:28, 154.65s/it]"
     ]
    },
    {
     "name": "stdout",
     "output_type": "stream",
     "text": [
      "16.4025 (45, 45, 45, 45) 15\n",
      "7.77384 (4, 10797, 45) 20\n"
     ]
    },
    {
     "name": "stderr",
     "output_type": "stream",
     "text": [
      "[3 / 32] Hs=    0 -536.940998 4424.3 0.0 0.0 0.1 3.1 0.3 259.0 0.0 26.6 2.1 0.2 0.3 0.1 0.0 0.0 3.0 0.1 0.0 0.0 0.2 0.3 0.8 0.2 2.2 4722.9 [2 ; 0]:   3%|▎         | 1/33 [02:49<1:22:28, 154.65s/it]"
     ]
    },
    {
     "name": "stdout",
     "output_type": "stream",
     "text": [
      "16.4025 (45, 45, 45, 45) 15\n",
      "7.77384 (4, 10797, 45) 20\n"
     ]
    },
    {
     "name": "stderr",
     "output_type": "stream",
     "text": [
      "[4 / 32] Hs=    0 -536.758399 4535.8 0.0 0.0 0.1 2.9 0.2 249.4 0.0 26.5 1.9 0.2 0.3 0.1 0.0 0.0 3.0 0.1 0.0 0.0 0.2 0.3 0.6 0.1 2.0 4823.7 [2 ; 0]:   3%|▎         | 1/33 [02:54<1:22:28, 154.65s/it]"
     ]
    },
    {
     "name": "stdout",
     "output_type": "stream",
     "text": [
      "16.4025 (45, 45, 45, 45) 15\n",
      "7.77384 (4, 10797, 45) 20\n"
     ]
    },
    {
     "name": "stderr",
     "output_type": "stream",
     "text": [
      "[5 / 32] Hs=    0 -536.937502 4446.2 0.1 0.0 0.1 2.9 0.3 255.1 0.1 27.5 2.0 0.2 0.3 0.1 0.0 0.0 3.2 0.2 0.0 0.0 0.2 0.3 0.8 0.3 5.6 4745.5 [2 ; 0]:   3%|▎         | 1/33 [02:58<1:22:28, 154.65s/it]"
     ]
    },
    {
     "name": "stdout",
     "output_type": "stream",
     "text": [
      "16.4025 (45, 45, 45, 45) 15\n",
      "7.77384 (4, 10797, 45) 20\n"
     ]
    },
    {
     "name": "stderr",
     "output_type": "stream",
     "text": [
      "[6 / 32] Hs=    0 -536.291711 4461.1 0.6 0.2 0.2 6.5 1.1 243.1 0.1 28.3 2.1 0.3 0.3 0.1 0.0 0.1 3.5 0.3 0.0 0.0 0.2 0.4 1.3 0.4 14.3 4764.5 [2 ; 0]:   3%|▎         | 1/33 [03:03<1:22:28, 154.65s/it]"
     ]
    },
    {
     "name": "stdout",
     "output_type": "stream",
     "text": [
      "16.4025 (45, 45, 45, 45) 15\n",
      "7.77384 (4, 10797, 45) 20\n"
     ]
    },
    {
     "name": "stderr",
     "output_type": "stream",
     "text": [
      "[7 / 32] Hs=    0 -536.932350 4366.7 0.1 0.0 0.1 2.9 0.4 250.5 0.2 27.3 1.9 0.4 0.3 0.1 0.0 0.0 3.2 0.2 0.0 0.0 0.2 0.3 0.7 0.2 3.3 4659.0 [2 ; 0]:   3%|▎         | 1/33 [03:08<1:22:28, 154.65s/it] "
     ]
    },
    {
     "name": "stdout",
     "output_type": "stream",
     "text": [
      "16.4025 (45, 45, 45, 45) 15\n",
      "7.77384 (4, 10797, 45) 20\n"
     ]
    },
    {
     "name": "stderr",
     "output_type": "stream",
     "text": [
      "[8 / 32] Hs=    0 -536.936219 4483.5 0.0 0.0 0.1 2.7 0.2 252.2 0.0 27.3 2.5 0.2 0.3 0.1 0.0 0.0 3.2 0.2 0.0 0.0 0.2 0.3 0.8 0.2 2.9 4776.9 [2 ; 0]:   3%|▎         | 1/33 [03:13<1:22:28, 154.65s/it]"
     ]
    },
    {
     "name": "stdout",
     "output_type": "stream",
     "text": [
      "16.4025 (45, 45, 45, 45) 15\n",
      "7.77384 (4, 10797, 45) 20\n"
     ]
    },
    {
     "name": "stderr",
     "output_type": "stream",
     "text": [
      "[9 / 32] Hs=    0 -536.820634 4446.1 0.1 0.0 0.1 2.7 0.3 246.4 0.1 27.1 2.0 0.2 0.3 0.1 0.0 0.0 3.0 0.2 0.0 0.0 0.2 0.3 0.6 0.2 3.0 4733.0 [2 ; 0]:   3%|▎         | 1/33 [03:17<1:22:28, 154.65s/it]"
     ]
    },
    {
     "name": "stdout",
     "output_type": "stream",
     "text": [
      "16.4025 (45, 45, 45, 45) 15\n",
      "7.77384 (4, 10797, 45) 20\n"
     ]
    },
    {
     "name": "stderr",
     "output_type": "stream",
     "text": [
      "[10 / 32] Hs=    0 -536.936382 4549.5 0.0 0.0 0.1 2.4 0.2 252.4 0.0 26.3 1.9 0.2 0.3 0.1 0.0 0.0 3.2 0.1 0.0 0.0 0.2 0.3 0.7 0.2 3.0 4841.1 [2 ; 0]:   3%|▎         | 1/33 [03:22<1:22:28, 154.65s/it]"
     ]
    },
    {
     "name": "stdout",
     "output_type": "stream",
     "text": [
      "16.4025 (45, 45, 45, 45) 15\n",
      "7.77384 (4, 10797, 45) 20\n"
     ]
    },
    {
     "name": "stderr",
     "output_type": "stream",
     "text": [
      "[11 / 32] Hs=    0 -536.740509 4446.9 0.0 0.0 0.1 2.4 0.2 252.0 0.1 26.4 2.0 0.2 0.3 0.1 0.0 0.0 3.2 0.2 0.0 0.0 0.2 0.3 1.1 0.2 2.7 4738.6 [2 ; 0]:   3%|▎         | 1/33 [03:27<1:22:28, 154.65s/it]"
     ]
    },
    {
     "name": "stdout",
     "output_type": "stream",
     "text": [
      "16.4025 (45, 45, 45, 45) 15\n",
      "7.77384 (4, 10797, 45) 20\n"
     ]
    },
    {
     "name": "stderr",
     "output_type": "stream",
     "text": [
      "[12 / 32] Hs=    0 -536.944642 4514.7 0.0 0.0 0.1 2.4 0.2 242.8 0.0 26.1 2.1 0.2 0.3 0.1 0.0 0.0 3.0 0.1 0.0 0.0 0.2 0.3 0.7 0.1 2.1 4795.5 [2 ; 0]:   3%|▎         | 1/33 [03:32<1:22:28, 154.65s/it]"
     ]
    },
    {
     "name": "stdout",
     "output_type": "stream",
     "text": [
      "16.4025 (45, 45, 45, 45) 15\n",
      "7.77384 (4, 10797, 45) 20\n"
     ]
    },
    {
     "name": "stderr",
     "output_type": "stream",
     "text": [
      "[13 / 32] Hs=    0 -530.011964 4371.5 0.0 0.0 0.1 2.4 0.2 249.6 0.0 26.4 2.0 0.2 0.3 0.1 0.0 0.0 3.2 0.1 0.0 0.0 0.2 0.3 0.6 0.1 2.0 4659.3 [2 ; 0]:   3%|▎         | 1/33 [03:36<1:22:28, 154.65s/it]"
     ]
    },
    {
     "name": "stdout",
     "output_type": "stream",
     "text": [
      "16.4025 (45, 45, 45, 45) 15\n",
      "7.77384 (4, 10797, 45) 20\n"
     ]
    },
    {
     "name": "stderr",
     "output_type": "stream",
     "text": [
      "[14 / 32] Hs=    0 -536.912082 4391.7 0.0 0.0 0.1 2.3 0.2 236.8 0.0 28.6 2.4 0.2 0.3 0.1 0.0 0.0 3.6 0.2 0.0 0.0 0.2 0.3 0.8 0.2 2.2 4670.2 [2 ; 0]:   3%|▎         | 1/33 [03:41<1:22:28, 154.65s/it]"
     ]
    },
    {
     "name": "stdout",
     "output_type": "stream",
     "text": [
      "16.4025 (45, 45, 45, 45) 15\n",
      "7.77384 (4, 10797, 45) 20\n"
     ]
    },
    {
     "name": "stderr",
     "output_type": "stream",
     "text": [
      "[15 / 32] Hs=    0 -536.811102 4454.7 0.1 0.0 0.1 2.9 0.3 265.2 0.0 26.2 1.9 0.2 0.3 0.1 0.0 0.0 3.2 0.1 0.0 0.0 0.2 0.3 0.7 0.2 442.5 5199.2 [2 ; 0]:   3%|▎         | 1/33 [03:46<1:22:28, 154.65s/it]"
     ]
    },
    {
     "name": "stdout",
     "output_type": "stream",
     "text": [
      "16.4025 (45, 45, 45, 45) 15\n",
      "7.77384 (4, 10797, 45) 20\n"
     ]
    },
    {
     "name": "stderr",
     "output_type": "stream",
     "text": [
      "[16 / 32] Hs=    0 -532.936762 4428.6 0.1 0.0 0.1 3.2 0.3 246.1 0.0 26.2 2.0 0.2 0.3 0.1 0.0 0.0 3.7 0.2 0.0 0.0 0.2 0.4 0.8 0.2 2.5 4715.2 [2 ; 0]:   3%|▎         | 1/33 [03:51<1:22:28, 154.65s/it]  "
     ]
    },
    {
     "name": "stdout",
     "output_type": "stream",
     "text": [
      "16.4025 (45, 45, 45, 45) 15\n",
      "7.77384 (4, 10797, 45) 20\n"
     ]
    },
    {
     "name": "stderr",
     "output_type": "stream",
     "text": [
      "[17 / 32] Hs=    0 -536.664005 4354.8 0.0 0.0 0.1 2.4 0.2 251.7 0.0 26.6 2.0 0.2 0.3 0.1 0.0 0.0 3.1 0.1 0.0 0.0 0.2 0.3 0.7 0.2 2.5 4645.5 [2 ; 0]:   3%|▎         | 1/33 [03:56<1:22:28, 154.65s/it]"
     ]
    },
    {
     "name": "stdout",
     "output_type": "stream",
     "text": [
      "16.4025 (45, 45, 45, 45) 15\n",
      "7.77384 (4, 10797, 45) 20\n"
     ]
    },
    {
     "name": "stderr",
     "output_type": "stream",
     "text": [
      "[18 / 32] Hs=    0 -536.936813 4485.3 0.0 0.0 0.1 2.7 0.2 246.7 0.0 26.4 1.9 0.2 0.3 0.1 0.0 0.0 3.2 0.1 0.0 0.0 0.2 0.3 0.6 0.1 2.0 4770.4 [2 ; 0]:   3%|▎         | 1/33 [04:00<1:22:28, 154.65s/it]"
     ]
    },
    {
     "name": "stdout",
     "output_type": "stream",
     "text": [
      "16.4025 (45, 45, 45, 45) 15\n",
      "7.77384 (4, 10797, 45) 20\n"
     ]
    },
    {
     "name": "stderr",
     "output_type": "stream",
     "text": [
      "[19 / 32] Hs=    0 -536.937190 4507.8 0.1 0.0 0.1 2.7 0.3 267.1 0.1 27.6 2.1 0.3 0.3 0.2 0.0 0.0 4.1 0.3 0.0 0.0 0.2 0.4 0.8 0.3 4.0 4818.8 [2 ; 0]:   3%|▎         | 1/33 [04:05<1:22:28, 154.65s/it]"
     ]
    },
    {
     "name": "stdout",
     "output_type": "stream",
     "text": [
      "16.4025 (45, 45, 45, 45) 15\n",
      "7.77384 (4, 10797, 45) 20\n"
     ]
    },
    {
     "name": "stderr",
     "output_type": "stream",
     "text": [
      "[20 / 32] Hs=    0 -536.836611 4566.9 0.0 0.0 0.1 2.4 0.2 248.0 0.1 26.4 2.2 0.2 0.3 0.1 0.0 0.0 3.2 0.2 0.0 0.0 0.2 0.4 0.8 0.4 5.5 4857.6 [2 ; 0]:   3%|▎         | 1/33 [04:10<1:22:28, 154.65s/it]"
     ]
    },
    {
     "name": "stdout",
     "output_type": "stream",
     "text": [
      "16.4025 (45, 45, 45, 45) 15\n",
      "7.77384 (4, 10797, 45) 20\n"
     ]
    },
    {
     "name": "stderr",
     "output_type": "stream",
     "text": [
      "[21 / 32] Hs=    0 -536.594227 4504.9 0.0 0.0 0.1 2.7 0.2 238.5 0.0 26.1 2.0 0.2 0.3 0.1 0.0 0.0 3.2 0.1 0.0 0.0 0.2 0.3 0.7 0.1 2.4 4782.1 [2 ; 0]:   3%|▎         | 1/33 [04:15<1:22:28, 154.65s/it]"
     ]
    },
    {
     "name": "stdout",
     "output_type": "stream",
     "text": [
      "16.4025 (45, 45, 45, 45) 15\n",
      "7.77384 (4, 10797, 45) 20\n"
     ]
    },
    {
     "name": "stderr",
     "output_type": "stream",
     "text": [
      "[22 / 32] Hs=    0 -535.963292 4390.6 0.0 0.0 0.1 2.3 0.2 238.5 0.1 28.5 2.2 0.3 0.3 0.1 0.0 0.0 3.8 0.2 0.0 0.0 0.2 0.4 11.3 0.2 2.0 4681.3 [2 ; 0]:   3%|▎         | 1/33 [04:19<1:22:28, 154.65s/it]"
     ]
    },
    {
     "name": "stdout",
     "output_type": "stream",
     "text": [
      "16.4025 (45, 45, 45, 45) 15\n",
      "7.77384 (4, 10797, 45) 20\n"
     ]
    },
    {
     "name": "stderr",
     "output_type": "stream",
     "text": [
      "[23 / 32] Hs=    0 -536.775963 4437.1 0.1 0.0 0.1 2.7 0.3 253.1 0.0 26.5 2.0 0.2 0.3 0.1 0.0 0.0 3.1 0.2 0.0 0.0 0.2 0.3 0.8 0.2 3.4 4730.7 [2 ; 0]:   3%|▎         | 1/33 [04:24<1:22:28, 154.65s/it] "
     ]
    },
    {
     "name": "stdout",
     "output_type": "stream",
     "text": [
      "16.4025 (45, 45, 45, 45) 15\n",
      "7.77384 (4, 10797, 45) 20\n"
     ]
    },
    {
     "name": "stderr",
     "output_type": "stream",
     "text": [
      "[24 / 32] Hs=    0 -536.040485 4460.2 0.0 0.0 0.1 2.3 0.2 252.8 0.0 26.1 2.0 0.2 0.3 0.1 0.0 0.0 3.2 0.1 0.0 0.0 0.2 0.3 1.2 0.2 1.9 4751.4 [2 ; 0]:   3%|▎         | 1/33 [04:29<1:22:28, 154.65s/it]"
     ]
    },
    {
     "name": "stdout",
     "output_type": "stream",
     "text": [
      "16.4025 (45, 45, 45, 45) 15\n",
      "7.77384 (4, 10797, 45) 20\n"
     ]
    },
    {
     "name": "stderr",
     "output_type": "stream",
     "text": [
      "[25 / 32] Hs=    0 -536.936115 4415.2 0.0 0.0 0.1 2.3 0.2 247.7 0.0 26.1 2.0 0.2 0.3 0.1 0.0 0.0 2.9 0.1 0.0 0.0 0.2 0.3 0.6 0.1 2.0 4700.4 [2 ; 0]:   3%|▎         | 1/33 [04:34<1:22:28, 154.65s/it]"
     ]
    },
    {
     "name": "stdout",
     "output_type": "stream",
     "text": [
      "16.4025 (45, 45, 45, 45) 15\n",
      "7.77384 (4, 10797, 45) 20\n"
     ]
    },
    {
     "name": "stderr",
     "output_type": "stream",
     "text": [
      "[26 / 32] Hs=    0 -536.928774 4386.5 0.0 0.0 0.1 2.6 0.2 243.2 0.0 26.4 2.0 0.2 0.3 0.1 0.0 0.0 3.1 0.1 0.0 0.0 0.2 0.3 0.6 0.1 2.0 4668.0 [2 ; 0]:   3%|▎         | 1/33 [04:38<1:22:28, 154.65s/it]"
     ]
    },
    {
     "name": "stdout",
     "output_type": "stream",
     "text": [
      "16.4025 (45, 45, 45, 45) 15\n",
      "7.77384 (4, 10797, 45) 20\n"
     ]
    },
    {
     "name": "stderr",
     "output_type": "stream",
     "text": [
      "[27 / 32] Hs=    0 -535.228799 4520.4 0.1 0.0 0.1 3.5 0.3 252.5 0.1 26.5 6.3 0.3 0.3 0.1 0.0 0.0 3.0 0.2 0.0 0.0 0.2 0.3 0.7 0.2 3.0 4818.1 [2 ; 0]:   3%|▎         | 1/33 [04:43<1:22:28, 154.65s/it]"
     ]
    },
    {
     "name": "stdout",
     "output_type": "stream",
     "text": [
      "16.4025 (45, 45, 45, 45) 15\n",
      "7.77384 (4, 10797, 45) 20\n"
     ]
    },
    {
     "name": "stderr",
     "output_type": "stream",
     "text": [
      "[28 / 32] Hs=    0 -536.938417 4578.2 0.1 0.0 0.1 3.6 0.3 252.4 0.3 27.7 2.7 0.4 0.3 0.2 0.0 0.1 3.6 0.2 0.0 0.0 0.8 0.4 1.4 0.7 17.6 4891.1 [2 ; 0]:   3%|▎         | 1/33 [04:48<1:22:28, 154.65s/it]"
     ]
    },
    {
     "name": "stdout",
     "output_type": "stream",
     "text": [
      "16.4025 (45, 45, 45, 45) 15\n",
      "7.77384 (4, 10797, 45) 20\n"
     ]
    },
    {
     "name": "stderr",
     "output_type": "stream",
     "text": [
      "[29 / 32] Hs=    0 -536.466063 4452.5 0.1 0.0 0.1 2.7 0.3 256.4 0.1 26.7 2.7 0.2 0.3 0.2 0.0 0.0 3.5 0.2 0.0 0.0 0.2 0.4 8.5 0.3 3.7 4759.1 [2 ; 0]:   3%|▎         | 1/33 [04:53<1:22:28, 154.65s/it] "
     ]
    },
    {
     "name": "stdout",
     "output_type": "stream",
     "text": [
      "16.4025 (45, 45, 45, 45) 15\n",
      "7.77384 (4, 10797, 45) 20\n"
     ]
    },
    {
     "name": "stderr",
     "output_type": "stream",
     "text": [
      "[30 / 32] Hs=    0 -536.937641 4560.4 0.2 0.0 0.1 3.4 0.3 249.8 0.1 26.2 2.9 0.2 0.3 0.1 0.0 0.0 3.2 0.2 0.0 0.0 0.2 0.3 3.8 0.2 3.3 4855.2 [2 ; 0]:   3%|▎         | 1/33 [04:58<1:22:28, 154.65s/it]"
     ]
    },
    {
     "name": "stdout",
     "output_type": "stream",
     "text": [
      "16.4025 (45, 45, 45, 45) 15\n",
      "7.77384 (4, 10797, 45) 20\n"
     ]
    },
    {
     "name": "stderr",
     "output_type": "stream",
     "text": [
      "[31 / 32] Hs=    0 -536.938760 4396.5 0.0 0.0 0.1 2.4 0.2 245.5 0.0 26.2 3.7 0.2 0.3 0.1 0.0 0.0 2.9 0.2 0.0 0.0 0.2 0.3 0.7 0.2 2.6 4682.3 [2 ; 0]:   3%|▎         | 1/33 [05:02<1:22:28, 154.65s/it]"
     ]
    },
    {
     "name": "stdout",
     "output_type": "stream",
     "text": [
      "16.4025 (45, 45, 45, 45) 15\n",
      "7.77384 (4, 10797, 45) 20\n"
     ]
    },
    {
     "name": "stderr",
     "output_type": "stream",
     "text": [
      "[31 / 32] Hs=    0 -536.938760 4396.5 0.0 0.0 0.1 2.4 0.2 245.5 0.0 26.2 3.7 0.2 0.3 0.1 0.0 0.0 2.9 0.2 0.0 0.0 0.2 0.3 0.7 0.2 2.6 4682.3 [2 ; 0]:   6%|▌         | 2/33 [05:07<1:19:16, 153.45s/it]"
     ]
    },
    {
     "name": "stdout",
     "output_type": "stream",
     "text": [
      "[Fc1nnc(=O)oc1F]\n",
      "[conformers] 32\n",
      "16.4025 (45, 45, 45, 45) 15\n",
      "7.77384 (4, 10797, 45) 20\n"
     ]
    },
    {
     "name": "stderr",
     "output_type": "stream",
     "text": [
      "[1 / 32] Hs=    0 -565.726994 4672.4 0.0 0.0 0.1 3.0 0.2 285.4 0.1 26.7 3.7 0.2 0.3 0.1 0.0 0.0 2.9 0.2 0.0 0.0 0.1 0.3 0.7 0.2 3.0 4999.6 [3 ; 0]:   6%|▌         | 2/33 [05:12<1:19:16, 153.45s/it] "
     ]
    },
    {
     "name": "stdout",
     "output_type": "stream",
     "text": [
      "16.4025 (45, 45, 45, 45) 15\n",
      "7.77384 (4, 10797, 45) 20\n"
     ]
    },
    {
     "name": "stderr",
     "output_type": "stream",
     "text": [
      "[2 / 32] Hs=    0 -565.719773 4502.8 0.0 0.0 0.1 3.4 0.2 288.1 0.1 28.1 3.8 0.3 0.4 0.2 0.0 0.0 4.3 0.2 0.0 0.0 0.2 0.4 6.3 0.3 3.2 4842.4 [3 ; 0]:   6%|▌         | 2/33 [05:17<1:19:16, 153.45s/it]"
     ]
    },
    {
     "name": "stdout",
     "output_type": "stream",
     "text": [
      "16.4025 (45, 45, 45, 45) 15\n",
      "7.77384 (4, 10797, 45) 20\n"
     ]
    },
    {
     "name": "stderr",
     "output_type": "stream",
     "text": [
      "[3 / 32] Hs=    0 -565.720571 4392.8 0.0 0.0 0.1 2.9 0.2 301.7 0.0 26.4 1.9 0.2 0.3 0.1 0.0 0.0 3.0 0.1 0.0 0.0 0.1 0.3 0.6 0.1 1.9 4732.7 [3 ; 0]:   6%|▌         | 2/33 [05:22<1:19:16, 153.45s/it]"
     ]
    },
    {
     "name": "stdout",
     "output_type": "stream",
     "text": [
      "16.4025 (45, 45, 45, 45) 15\n",
      "7.77384 (4, 10797, 45) 20\n"
     ]
    },
    {
     "name": "stderr",
     "output_type": "stream",
     "text": [
      "[4 / 32] Hs=    0 -565.718976 4530.0 0.9 0.4 0.2 6.8 1.4 302.9 0.3 29.4 2.7 0.3 0.3 0.2 0.0 0.0 3.8 0.2 0.0 0.1 0.2 0.6 1.0 0.8 5.9 4888.4 [3 ; 0]:   6%|▌         | 2/33 [05:27<1:19:16, 153.45s/it]"
     ]
    },
    {
     "name": "stdout",
     "output_type": "stream",
     "text": [
      "16.4025 (45, 45, 45, 45) 15\n",
      "7.77384 (4, 10797, 45) 20\n"
     ]
    },
    {
     "name": "stderr",
     "output_type": "stream",
     "text": [
      "[5 / 32] Hs=    0 -565.721439 4448.2 0.1 0.1 0.2 5.2 0.6 295.5 0.0 26.9 1.9 0.2 0.3 0.1 0.0 0.0 3.1 0.1 0.0 0.0 0.2 0.3 0.6 0.1 2.2 4785.9 [3 ; 0]:   6%|▌         | 2/33 [05:31<1:19:16, 153.45s/it]"
     ]
    },
    {
     "name": "stdout",
     "output_type": "stream",
     "text": [
      "16.4025 (45, 45, 45, 45) 15\n",
      "7.77384 (4, 10797, 45) 20\n"
     ]
    },
    {
     "name": "stderr",
     "output_type": "stream",
     "text": [
      "[6 / 32] Hs=    0 -565.727185 4372.7 0.0 0.0 0.1 2.9 0.2 308.0 0.0 27.0 2.3 0.2 0.3 0.1 0.0 0.0 3.2 0.1 0.0 0.0 0.1 0.3 1.7 0.2 2.2 4721.6 [3 ; 0]:   6%|▌         | 2/33 [05:36<1:19:16, 153.45s/it]"
     ]
    },
    {
     "name": "stdout",
     "output_type": "stream",
     "text": [
      "16.4025 (45, 45, 45, 45) 15\n",
      "7.77384 (4, 10797, 45) 20\n"
     ]
    },
    {
     "name": "stderr",
     "output_type": "stream",
     "text": [
      "[7 / 32] Hs=    0 -565.718886 4415.3 0.0 0.0 0.1 2.9 0.2 294.3 0.0 28.6 2.0 0.2 0.3 0.2 0.0 0.0 3.5 0.2 0.0 0.0 0.2 0.4 0.7 0.2 2.3 4751.6 [3 ; 0]:   6%|▌         | 2/33 [05:41<1:19:16, 153.45s/it]"
     ]
    },
    {
     "name": "stdout",
     "output_type": "stream",
     "text": [
      "16.4025 (45, 45, 45, 45) 15\n",
      "7.77384 (4, 10797, 45) 20\n"
     ]
    },
    {
     "name": "stderr",
     "output_type": "stream",
     "text": [
      "[8 / 32] Hs=    0 -565.730112 4375.7 0.3 0.0 0.3 5.2 0.4 291.3 0.1 26.8 1.9 0.2 0.3 0.1 0.0 0.0 3.1 0.2 0.0 0.0 0.2 0.3 0.7 0.2 3.0 4710.3 [3 ; 0]:   6%|▌         | 2/33 [05:46<1:19:16, 153.45s/it]"
     ]
    },
    {
     "name": "stdout",
     "output_type": "stream",
     "text": [
      "16.4025 (45, 45, 45, 45) 15\n",
      "7.77384 (4, 10797, 45) 20\n"
     ]
    },
    {
     "name": "stderr",
     "output_type": "stream",
     "text": [
      "[9 / 32] Hs=    0 -565.723256 4378.7 0.1 0.0 0.1 4.0 0.3 294.0 0.0 27.2 1.9 0.2 0.3 0.1 0.0 0.0 3.3 0.1 0.0 0.0 0.2 0.3 0.6 0.1 3.1 4714.6 [3 ; 0]:   6%|▌         | 2/33 [05:50<1:19:16, 153.45s/it]"
     ]
    },
    {
     "name": "stdout",
     "output_type": "stream",
     "text": [
      "16.4025 (45, 45, 45, 45) 15\n",
      "7.77384 (4, 10797, 45) 20\n"
     ]
    },
    {
     "name": "stderr",
     "output_type": "stream",
     "text": [
      "[10 / 32] Hs=    0 -565.721880 4446.9 0.0 0.1 0.1 3.0 0.2 294.1 0.0 26.8 1.9 0.2 0.3 0.1 0.0 0.0 3.1 0.1 0.0 0.0 0.2 0.3 0.6 0.1 2.0 4780.1 [3 ; 0]:   6%|▌         | 2/33 [05:55<1:19:16, 153.45s/it]"
     ]
    },
    {
     "name": "stdout",
     "output_type": "stream",
     "text": [
      "16.4025 (45, 45, 45, 45) 15\n",
      "7.77384 (4, 10797, 45) 20\n"
     ]
    },
    {
     "name": "stderr",
     "output_type": "stream",
     "text": [
      "[11 / 32] Hs=    0 -565.722712 4423.2 0.0 0.0 0.1 2.9 0.2 294.1 0.0 26.8 1.9 0.2 0.3 0.1 0.0 0.0 2.9 0.1 0.0 0.0 0.1 0.3 0.6 0.1 1.9 4755.8 [3 ; 0]:   6%|▌         | 2/33 [06:00<1:19:16, 153.45s/it]"
     ]
    },
    {
     "name": "stdout",
     "output_type": "stream",
     "text": [
      "16.4025 (45, 45, 45, 45) 15\n",
      "7.77384 (4, 10797, 45) 20\n"
     ]
    },
    {
     "name": "stderr",
     "output_type": "stream",
     "text": [
      "[12 / 32] Hs=    0 -565.721522 4456.7 0.1 0.0 0.1 3.5 0.3 290.2 0.1 26.9 2.2 0.3 0.3 0.1 0.0 0.0 3.0 0.2 0.0 0.0 0.2 0.3 8.4 0.3 3.0 4796.2 [3 ; 0]:   6%|▌         | 2/33 [06:05<1:19:16, 153.45s/it]"
     ]
    },
    {
     "name": "stdout",
     "output_type": "stream",
     "text": [
      "16.4025 (45, 45, 45, 45) 15\n",
      "7.77384 (4, 10797, 45) 20\n"
     ]
    },
    {
     "name": "stderr",
     "output_type": "stream",
     "text": [
      "[13 / 32] Hs=    0 -565.728135 4549.6 0.0 0.0 0.1 3.7 0.2 293.7 0.0 27.2 1.9 0.2 0.3 0.1 0.0 0.0 3.1 0.1 0.0 0.0 0.1 0.3 0.5 0.1 2.0 4883.2 [3 ; 0]:   6%|▌         | 2/33 [06:10<1:19:16, 153.45s/it]"
     ]
    },
    {
     "name": "stdout",
     "output_type": "stream",
     "text": [
      "16.4025 (45, 45, 45, 45) 15\n",
      "7.77384 (4, 10797, 45) 20\n"
     ]
    },
    {
     "name": "stderr",
     "output_type": "stream",
     "text": [
      "[14 / 32] Hs=    0 -565.722583 4476.0 0.0 0.0 0.1 3.0 0.2 290.9 0.0 26.6 1.8 0.2 0.3 0.1 0.0 0.0 2.9 0.1 0.0 0.0 0.2 0.3 0.5 0.1 2.0 4805.3 [3 ; 0]:   6%|▌         | 2/33 [06:14<1:19:16, 153.45s/it]"
     ]
    },
    {
     "name": "stdout",
     "output_type": "stream",
     "text": [
      "16.4025 (45, 45, 45, 45) 15\n",
      "7.77384 (4, 10797, 45) 20\n"
     ]
    },
    {
     "name": "stderr",
     "output_type": "stream",
     "text": [
      "[15 / 32] Hs=    0 -565.721041 4427.4 0.1 0.0 0.1 3.5 0.3 297.8 0.1 26.9 2.5 0.2 0.3 0.2 0.0 0.0 3.3 0.2 0.0 0.0 0.2 0.3 1.0 0.7 19.3 4784.4 [3 ; 0]:   6%|▌         | 2/33 [06:19<1:19:16, 153.45s/it]"
     ]
    },
    {
     "name": "stdout",
     "output_type": "stream",
     "text": [
      "16.4025 (45, 45, 45, 45) 15\n",
      "7.77384 (4, 10797, 45) 20\n"
     ]
    },
    {
     "name": "stderr",
     "output_type": "stream",
     "text": [
      "[16 / 32] Hs=    0 -565.725160 4491.1 0.0 0.1 0.1 2.9 0.2 296.0 0.0 26.5 1.9 0.2 0.3 0.1 0.0 0.0 3.0 0.1 0.0 0.0 0.1 0.3 2.8 0.2 1.9 4827.8 [3 ; 0]:   6%|▌         | 2/33 [06:24<1:19:16, 153.45s/it] "
     ]
    },
    {
     "name": "stdout",
     "output_type": "stream",
     "text": [
      "16.4025 (45, 45, 45, 45) 15\n",
      "7.77384 (4, 10797, 45) 20\n"
     ]
    },
    {
     "name": "stderr",
     "output_type": "stream",
     "text": [
      "[17 / 32] Hs=    0 -565.727054 4369.0 0.0 0.0 0.1 2.9 0.2 288.2 0.0 27.1 3.6 0.2 0.3 0.1 0.0 0.0 2.9 0.1 0.0 0.0 0.2 0.4 0.7 0.2 2.4 4698.6 [3 ; 0]:   6%|▌         | 2/33 [06:29<1:19:16, 153.45s/it]"
     ]
    },
    {
     "name": "stdout",
     "output_type": "stream",
     "text": [
      "16.4025 (45, 45, 45, 45) 15\n",
      "7.77384 (4, 10797, 45) 20\n"
     ]
    },
    {
     "name": "stderr",
     "output_type": "stream",
     "text": [
      "[18 / 32] Hs=    0 -565.722420 4450.3 0.0 0.0 0.1 2.9 0.2 304.8 0.0 26.7 2.0 0.2 0.3 0.1 0.0 0.0 2.9 0.1 0.0 0.0 0.2 0.3 4.5 0.2 2.3 4798.1 [3 ; 0]:   6%|▌         | 2/33 [06:33<1:19:16, 153.45s/it]"
     ]
    },
    {
     "name": "stdout",
     "output_type": "stream",
     "text": [
      "16.4025 (45, 45, 45, 45) 15\n",
      "7.77384 (4, 10797, 45) 20\n"
     ]
    },
    {
     "name": "stderr",
     "output_type": "stream",
     "text": [
      "[19 / 32] Hs=    0 -565.726024 4457.1 0.0 0.0 0.1 2.9 0.2 280.4 0.0 26.7 1.8 0.2 0.3 0.1 0.0 0.0 3.0 0.1 0.0 0.0 0.1 0.3 0.5 0.1 1.8 4775.7 [3 ; 0]:   6%|▌         | 2/33 [06:38<1:19:16, 153.45s/it]"
     ]
    },
    {
     "name": "stdout",
     "output_type": "stream",
     "text": [
      "16.4025 (45, 45, 45, 45) 15\n",
      "7.77384 (4, 10797, 45) 20\n"
     ]
    },
    {
     "name": "stderr",
     "output_type": "stream",
     "text": [
      "[20 / 32] Hs=    0 -565.727040 4391.7 0.0 0.0 0.1 2.8 0.2 288.9 0.0 26.6 2.2 0.2 0.3 0.1 0.0 0.0 3.0 0.1 0.0 0.0 0.2 0.3 0.6 0.2 2.3 4719.8 [3 ; 0]:   6%|▌         | 2/33 [06:43<1:19:16, 153.45s/it]"
     ]
    },
    {
     "name": "stdout",
     "output_type": "stream",
     "text": [
      "16.4025 (45, 45, 45, 45) 15\n",
      "7.77384 (4, 10797, 45) 20\n"
     ]
    },
    {
     "name": "stderr",
     "output_type": "stream",
     "text": [
      "[21 / 32] Hs=    0 -565.721243 4499.4 0.0 0.0 0.1 2.9 0.2 286.2 0.0 26.7 1.9 0.2 0.3 0.1 0.0 0.0 2.9 0.1 0.0 0.0 0.1 0.3 0.7 0.2 2.4 4824.7 [3 ; 0]:   6%|▌         | 2/33 [06:48<1:19:16, 153.45s/it]"
     ]
    },
    {
     "name": "stdout",
     "output_type": "stream",
     "text": [
      "16.4025 (45, 45, 45, 45) 15\n",
      "7.77384 (4, 10797, 45) 20\n"
     ]
    },
    {
     "name": "stderr",
     "output_type": "stream",
     "text": [
      "[22 / 32] Hs=    0 -565.719626 4524.2 0.0 0.0 0.1 3.3 0.2 286.5 0.0 26.7 2.2 0.2 0.3 0.1 0.0 0.0 3.1 0.1 0.0 0.0 0.2 0.3 0.7 0.1 2.3 4850.6 [3 ; 0]:   6%|▌         | 2/33 [06:53<1:19:16, 153.45s/it]"
     ]
    },
    {
     "name": "stdout",
     "output_type": "stream",
     "text": [
      "16.4025 (45, 45, 45, 45) 15\n",
      "7.77384 (4, 10797, 45) 20\n"
     ]
    },
    {
     "name": "stderr",
     "output_type": "stream",
     "text": [
      "[23 / 32] Hs=    0 -565.723593 4431.1 0.1 0.0 0.1 3.3 0.3 297.5 0.1 27.0 1.9 0.2 0.3 0.1 0.0 0.0 3.1 0.2 0.0 0.0 0.1 0.3 0.6 0.2 2.9 4769.4 [3 ; 0]:   6%|▌         | 2/33 [06:57<1:19:16, 153.45s/it]"
     ]
    },
    {
     "name": "stdout",
     "output_type": "stream",
     "text": [
      "16.4025 (45, 45, 45, 45) 15\n",
      "7.77384 (4, 10797, 45) 20\n"
     ]
    },
    {
     "name": "stderr",
     "output_type": "stream",
     "text": [
      "[24 / 32] Hs=    0 -565.715495 4414.0 0.0 0.0 0.1 2.8 0.2 306.1 0.0 27.2 2.6 0.2 0.3 0.1 0.0 0.0 3.2 0.1 0.0 0.0 0.2 0.3 0.8 0.1 1.9 4760.2 [3 ; 0]:   6%|▌         | 2/33 [07:02<1:19:16, 153.45s/it]"
     ]
    },
    {
     "name": "stdout",
     "output_type": "stream",
     "text": [
      "16.4025 (45, 45, 45, 45) 15\n",
      "7.77384 (4, 10797, 45) 20\n"
     ]
    },
    {
     "name": "stderr",
     "output_type": "stream",
     "text": [
      "[25 / 32] Hs=    0 -565.721124 4500.5 0.1 0.0 0.1 3.3 0.3 289.8 0.1 28.0 3.7 0.4 0.3 0.1 0.0 0.0 3.1 0.2 0.0 0.0 0.5 0.3 1.0 0.5 18.3 4850.6 [3 ; 0]:   6%|▌         | 2/33 [07:07<1:19:16, 153.45s/it]"
     ]
    },
    {
     "name": "stdout",
     "output_type": "stream",
     "text": [
      "16.4025 (45, 45, 45, 45) 15\n",
      "7.77384 (4, 10797, 45) 20\n"
     ]
    },
    {
     "name": "stderr",
     "output_type": "stream",
     "text": [
      "[26 / 32] Hs=    0 -565.725898 4464.6 0.1 0.0 0.1 2.8 0.2 289.4 0.0 26.5 1.9 0.2 0.3 0.1 0.0 0.0 3.0 0.1 0.0 0.0 0.2 0.3 0.6 0.1 1.9 4792.4 [3 ; 0]:   6%|▌         | 2/33 [07:12<1:19:16, 153.45s/it] "
     ]
    },
    {
     "name": "stdout",
     "output_type": "stream",
     "text": [
      "16.4025 (45, 45, 45, 45) 15\n",
      "7.77384 (4, 10797, 45) 20\n"
     ]
    },
    {
     "name": "stderr",
     "output_type": "stream",
     "text": [
      "[27 / 32] Hs=    0 -565.718316 4417.5 0.2 0.0 0.1 4.1 0.3 289.3 0.0 26.6 1.9 0.2 0.3 0.2 0.0 0.0 2.9 0.1 0.0 0.0 0.2 0.3 0.6 0.2 2.3 4747.3 [3 ; 0]:   6%|▌         | 2/33 [07:17<1:19:16, 153.45s/it]"
     ]
    },
    {
     "name": "stdout",
     "output_type": "stream",
     "text": [
      "16.4025 (45, 45, 45, 45) 15\n",
      "7.77384 (4, 10797, 45) 20\n"
     ]
    },
    {
     "name": "stderr",
     "output_type": "stream",
     "text": [
      "[28 / 32] Hs=    0 -565.720697 4469.7 0.0 0.0 0.1 83.4 0.2 289.3 0.0 26.8 2.0 0.2 0.3 0.1 0.0 0.0 3.0 0.1 0.0 0.0 0.2 0.3 0.5 0.1 2.2 4878.5 [3 ; 0]:   6%|▌         | 2/33 [07:21<1:19:16, 153.45s/it]"
     ]
    },
    {
     "name": "stdout",
     "output_type": "stream",
     "text": [
      "16.4025 (45, 45, 45, 45) 15\n",
      "7.77384 (4, 10797, 45) 20\n"
     ]
    },
    {
     "name": "stderr",
     "output_type": "stream",
     "text": [
      "[29 / 32] Hs=    0 -565.719833 4417.4 0.1 0.0 0.1 3.2 0.3 288.3 0.0 26.5 2.7 0.2 0.3 0.1 0.0 0.0 3.1 0.1 0.0 0.0 0.2 0.3 0.6 0.2 2.6 4746.3 [3 ; 0]:   6%|▌         | 2/33 [07:26<1:19:16, 153.45s/it] "
     ]
    },
    {
     "name": "stdout",
     "output_type": "stream",
     "text": [
      "16.4025 (45, 45, 45, 45) 15\n",
      "7.77384 (4, 10797, 45) 20\n"
     ]
    },
    {
     "name": "stderr",
     "output_type": "stream",
     "text": [
      "[30 / 32] Hs=    0 -565.722759 4414.0 0.0 0.0 0.1 3.8 0.2 304.5 0.0 26.6 3.0 0.4 0.3 0.1 0.0 0.0 3.3 0.1 0.0 0.0 0.2 0.3 0.7 0.1 1.9 4759.6 [3 ; 0]:   6%|▌         | 2/33 [07:31<1:19:16, 153.45s/it]"
     ]
    },
    {
     "name": "stdout",
     "output_type": "stream",
     "text": [
      "16.4025 (45, 45, 45, 45) 15\n",
      "7.77384 (4, 10797, 45) 20\n"
     ]
    },
    {
     "name": "stderr",
     "output_type": "stream",
     "text": [
      "[31 / 32] Hs=    0 -565.723980 4597.5 0.1 0.0 0.1 3.2 0.3 303.9 0.1 26.7 2.5 0.2 0.3 0.1 0.0 0.0 3.1 0.2 0.0 0.0 0.2 0.3 0.6 0.2 2.8 4942.4 [3 ; 0]:   6%|▌         | 2/33 [07:36<1:19:16, 153.45s/it]"
     ]
    },
    {
     "name": "stdout",
     "output_type": "stream",
     "text": [
      "16.4025 (45, 45, 45, 45) 15\n",
      "7.77384 (4, 10797, 45) 20\n"
     ]
    },
    {
     "name": "stderr",
     "output_type": "stream",
     "text": [
      "[31 / 32] Hs=    0 -565.723980 4597.5 0.1 0.0 0.1 3.2 0.3 303.9 0.1 26.7 2.5 0.2 0.3 0.1 0.0 0.0 3.1 0.2 0.0 0.0 0.2 0.3 0.6 0.2 2.8 4942.4 [3 ; 0]:   9%|▉         | 3/33 [07:40<1:16:45, 153.51s/it]"
     ]
    },
    {
     "name": "stdout",
     "output_type": "stream",
     "text": [
      "[Fc1nonc(F)c1=O]\n",
      "[conformers] 32\n",
      "16.4025 (45, 45, 45, 45) 15\n",
      "7.77384 (4, 10797, 45) 20\n"
     ]
    },
    {
     "name": "stderr",
     "output_type": "stream",
     "text": [
      "[1 / 32] Hs=    0 -565.667420 4423.5 0.2 0.0 0.1 3.3 0.3 302.8 0.1 26.8 2.0 0.2 0.3 0.1 0.0 0.0 3.1 0.2 0.0 0.0 0.2 0.4 0.6 0.2 6.5 4770.9 [4 ; 0]:   9%|▉         | 3/33 [07:46<1:16:45, 153.51s/it] "
     ]
    },
    {
     "name": "stdout",
     "output_type": "stream",
     "text": [
      "16.4025 (45, 45, 45, 45) 15\n",
      "7.77384 (4, 10797, 45) 20\n"
     ]
    },
    {
     "name": "stderr",
     "output_type": "stream",
     "text": [
      "[2 / 32] Hs=    0 -565.664764 4416.7 0.0 0.0 0.1 3.3 0.2 295.8 0.0 26.6 1.9 0.2 0.3 0.1 0.0 0.0 3.0 0.1 0.0 0.0 0.2 0.3 0.7 0.2 8.3 4758.0 [4 ; 0]:   9%|▉         | 3/33 [07:50<1:16:45, 153.51s/it]"
     ]
    },
    {
     "name": "stdout",
     "output_type": "stream",
     "text": [
      "16.4025 (45, 45, 45, 45) 15\n",
      "7.77384 (4, 10797, 45) 20\n"
     ]
    },
    {
     "name": "stderr",
     "output_type": "stream",
     "text": [
      "[3 / 32] Hs=    0 -565.673967 4387.5 0.0 0.0 0.1 3.0 0.2 310.9 0.0 26.5 2.2 0.2 0.3 0.1 0.0 0.0 3.1 0.1 0.0 0.0 0.2 0.3 4.3 0.2 2.0 4741.2 [4 ; 0]:   9%|▉         | 3/33 [07:55<1:16:45, 153.51s/it]"
     ]
    },
    {
     "name": "stdout",
     "output_type": "stream",
     "text": [
      "16.4025 (45, 45, 45, 45) 15\n",
      "7.77384 (4, 10797, 45) 20\n"
     ]
    },
    {
     "name": "stderr",
     "output_type": "stream",
     "text": [
      "[4 / 32] Hs=    0 -565.663056 4421.4 0.1 0.0 0.1 3.2 0.3 294.6 0.1 26.8 1.9 0.2 0.3 0.1 0.0 0.0 3.2 0.2 0.0 0.0 0.2 0.3 0.6 0.2 2.7 4756.5 [4 ; 0]:   9%|▉         | 3/33 [08:00<1:16:45, 153.51s/it]"
     ]
    },
    {
     "name": "stdout",
     "output_type": "stream",
     "text": [
      "16.4025 (45, 45, 45, 45) 15\n",
      "7.77384 (4, 10797, 45) 20\n"
     ]
    },
    {
     "name": "stderr",
     "output_type": "stream",
     "text": [
      "[5 / 32] Hs=    0 -565.668504 4469.5 0.0 0.0 0.1 2.9 0.2 303.2 0.0 26.8 1.9 0.2 0.3 0.1 0.0 0.0 3.0 0.1 0.0 0.0 0.2 0.3 0.6 0.1 2.0 4811.5 [4 ; 0]:   9%|▉         | 3/33 [08:05<1:16:45, 153.51s/it]"
     ]
    },
    {
     "name": "stdout",
     "output_type": "stream",
     "text": [
      "16.4025 (45, 45, 45, 45) 15\n",
      "7.77384 (4, 10797, 45) 20\n"
     ]
    },
    {
     "name": "stderr",
     "output_type": "stream",
     "text": [
      "[6 / 32] Hs=    0 -565.655931 4533.0 0.1 0.1 0.1 3.2 0.3 298.7 0.1 28.5 2.3 0.3 0.3 0.1 0.0 0.0 3.9 0.2 0.0 0.0 0.2 0.4 0.8 0.2 3.2 4876.0 [4 ; 0]:   9%|▉         | 3/33 [08:09<1:16:45, 153.51s/it]"
     ]
    },
    {
     "name": "stdout",
     "output_type": "stream",
     "text": [
      "16.4025 (45, 45, 45, 45) 15\n",
      "7.77384 (4, 10797, 45) 20\n"
     ]
    },
    {
     "name": "stderr",
     "output_type": "stream",
     "text": [
      "[7 / 32] Hs=    0 -565.672547 4444.7 0.0 0.0 0.1 2.9 0.2 291.3 0.0 26.8 2.0 0.2 0.3 0.1 0.0 0.0 3.0 0.1 0.0 0.0 0.2 0.3 0.6 0.1 2.0 4774.9 [4 ; 0]:   9%|▉         | 3/33 [08:14<1:16:45, 153.51s/it]"
     ]
    },
    {
     "name": "stdout",
     "output_type": "stream",
     "text": [
      "16.4025 (45, 45, 45, 45) 15\n",
      "7.77384 (4, 10797, 45) 20\n"
     ]
    },
    {
     "name": "stderr",
     "output_type": "stream",
     "text": [
      "[8 / 32] Hs=    0 -565.663711 4430.4 0.1 0.0 0.1 3.2 0.3 306.9 0.1 27.2 1.8 0.2 0.3 0.1 0.0 0.0 3.1 0.2 0.0 0.0 0.2 0.3 0.7 0.2 3.9 4779.3 [4 ; 0]:   9%|▉         | 3/33 [08:19<1:16:45, 153.51s/it]"
     ]
    },
    {
     "name": "stdout",
     "output_type": "stream",
     "text": [
      "16.4025 (45, 45, 45, 45) 15\n",
      "7.77384 (4, 10797, 45) 20\n"
     ]
    },
    {
     "name": "stderr",
     "output_type": "stream",
     "text": [
      "[9 / 32] Hs=    0 -565.660751 4321.6 0.0 0.0 0.1 3.2 0.2 305.4 0.0 27.1 1.8 0.2 0.3 0.1 0.0 0.0 3.2 0.1 0.0 0.0 0.2 0.3 1.1 0.1 2.3 4667.3 [4 ; 0]:   9%|▉         | 3/33 [08:24<1:16:45, 153.51s/it]"
     ]
    },
    {
     "name": "stdout",
     "output_type": "stream",
     "text": [
      "16.4025 (45, 45, 45, 45) 15\n",
      "7.77384 (4, 10797, 45) 20\n"
     ]
    },
    {
     "name": "stderr",
     "output_type": "stream",
     "text": [
      "[10 / 32] Hs=    0 -565.666082 4316.8 0.0 0.0 0.1 2.9 0.2 303.2 0.0 26.5 1.9 0.2 0.3 0.1 0.0 0.0 2.9 0.1 0.0 0.0 0.2 0.3 0.6 0.2 1.9 4658.4 [4 ; 0]:   9%|▉         | 3/33 [08:28<1:16:45, 153.51s/it]"
     ]
    },
    {
     "name": "stdout",
     "output_type": "stream",
     "text": [
      "16.4025 (45, 45, 45, 45) 15\n",
      "7.77384 (4, 10797, 45) 20\n"
     ]
    },
    {
     "name": "stderr",
     "output_type": "stream",
     "text": [
      "[11 / 32] Hs=    0 -565.678499 4496.5 0.2 0.1 0.2 4.2 0.4 301.9 0.1 28.9 3.6 0.4 0.4 0.1 0.0 0.0 3.1 0.2 0.0 0.0 0.2 0.3 0.7 0.2 3.0 4844.7 [4 ; 0]:   9%|▉         | 3/33 [08:33<1:16:45, 153.51s/it]"
     ]
    },
    {
     "name": "stdout",
     "output_type": "stream",
     "text": [
      "16.4025 (45, 45, 45, 45) 15\n",
      "7.77384 (4, 10797, 45) 20\n"
     ]
    },
    {
     "name": "stderr",
     "output_type": "stream",
     "text": [
      "[12 / 32] Hs=    0 -565.654728 4489.9 0.0 0.0 0.1 2.9 0.2 301.3 0.0 26.8 1.8 0.2 0.3 0.1 0.0 0.0 2.8 0.1 0.0 0.0 0.1 0.3 0.5 0.1 2.0 4829.5 [4 ; 0]:   9%|▉         | 3/33 [08:38<1:16:45, 153.51s/it]"
     ]
    },
    {
     "name": "stdout",
     "output_type": "stream",
     "text": [
      "16.4025 (45, 45, 45, 45) 15\n",
      "7.77384 (4, 10797, 45) 20\n"
     ]
    },
    {
     "name": "stderr",
     "output_type": "stream",
     "text": [
      "[13 / 32] Hs=    0 -565.666751 4379.1 0.0 0.0 0.1 2.9 0.2 293.8 0.0 26.5 1.8 0.2 0.3 0.1 0.0 0.0 3.0 0.1 0.0 0.0 0.1 0.3 0.7 0.2 2.4 4711.8 [4 ; 0]:   9%|▉         | 3/33 [08:43<1:16:45, 153.51s/it]"
     ]
    },
    {
     "name": "stdout",
     "output_type": "stream",
     "text": [
      "16.4025 (45, 45, 45, 45) 15\n",
      "7.77384 (4, 10797, 45) 20\n"
     ]
    },
    {
     "name": "stderr",
     "output_type": "stream",
     "text": [
      "[14 / 32] Hs=    0 -565.663713 4530.0 0.1 0.0 0.1 3.2 0.3 307.4 0.3 27.6 1.8 0.2 0.3 0.1 0.0 0.0 3.1 0.1 0.0 0.0 0.2 0.3 0.7 0.2 2.7 4878.7 [4 ; 0]:   9%|▉         | 3/33 [08:48<1:16:45, 153.51s/it]"
     ]
    },
    {
     "name": "stdout",
     "output_type": "stream",
     "text": [
      "16.4025 (45, 45, 45, 45) 15\n",
      "7.77384 (4, 10797, 45) 20\n"
     ]
    },
    {
     "name": "stderr",
     "output_type": "stream",
     "text": [
      "[15 / 32] Hs=    0 -565.674729 4305.7 0.0 0.0 0.1 50.6 0.2 300.1 0.1 27.5 2.3 0.2 0.3 0.1 0.0 0.0 2.9 0.1 0.0 0.0 0.1 0.3 0.6 0.2 2.5 4693.9 [4 ; 0]:   9%|▉         | 3/33 [08:52<1:16:45, 153.51s/it]"
     ]
    },
    {
     "name": "stdout",
     "output_type": "stream",
     "text": [
      "16.4025 (45, 45, 45, 45) 15\n",
      "7.77384 (4, 10797, 45) 20\n"
     ]
    },
    {
     "name": "stderr",
     "output_type": "stream",
     "text": [
      "[16 / 32] Hs=    0 -565.669446 4424.7 1.3 0.4 0.3 8.6 1.5 314.3 0.2 27.6 2.0 0.4 0.3 0.2 0.0 0.1 3.7 0.3 0.0 0.0 0.2 0.4 1.3 0.9 18.7 4807.4 [4 ; 0]:   9%|▉         | 3/33 [08:57<1:16:45, 153.51s/it]"
     ]
    },
    {
     "name": "stdout",
     "output_type": "stream",
     "text": [
      "16.4025 (45, 45, 45, 45) 15\n",
      "7.77384 (4, 10797, 45) 20\n"
     ]
    },
    {
     "name": "stderr",
     "output_type": "stream",
     "text": [
      "[17 / 32] Hs=    0 -565.656272 4547.9 0.0 0.0 0.1 3.7 0.2 291.9 0.0 26.8 2.2 0.2 0.3 0.1 0.0 0.0 5.2 0.2 0.0 0.0 0.2 0.3 0.6 0.2 2.2 4882.3 [4 ; 0]:   9%|▉         | 3/33 [09:02<1:16:45, 153.51s/it] "
     ]
    },
    {
     "name": "stdout",
     "output_type": "stream",
     "text": [
      "16.4025 (45, 45, 45, 45) 15\n",
      "7.77384 (4, 10797, 45) 20\n"
     ]
    },
    {
     "name": "stderr",
     "output_type": "stream",
     "text": [
      "[18 / 32] Hs=    0 -565.671603 4463.1 0.1 0.0 0.1 4.1 0.3 307.1 0.1 26.7 2.4 0.2 0.3 0.1 0.0 0.0 2.9 0.2 0.0 0.0 0.1 0.3 0.7 0.2 2.7 4811.7 [4 ; 0]:   9%|▉         | 3/33 [09:07<1:16:45, 153.51s/it]"
     ]
    },
    {
     "name": "stdout",
     "output_type": "stream",
     "text": [
      "16.4025 (45, 45, 45, 45) 15\n",
      "7.77384 (4, 10797, 45) 20\n"
     ]
    },
    {
     "name": "stderr",
     "output_type": "stream",
     "text": [
      "[19 / 32] Hs=    0 -565.658334 4398.4 0.0 0.0 0.1 2.9 0.2 294.6 0.0 26.9 2.1 0.2 0.3 0.1 0.0 0.0 3.8 0.2 0.0 0.0 0.2 0.4 0.7 0.2 2.3 4733.6 [4 ; 0]:   9%|▉         | 3/33 [09:12<1:16:45, 153.51s/it]"
     ]
    },
    {
     "name": "stdout",
     "output_type": "stream",
     "text": [
      "16.4025 (45, 45, 45, 45) 15\n",
      "7.77384 (4, 10797, 45) 20\n"
     ]
    },
    {
     "name": "stderr",
     "output_type": "stream",
     "text": [
      "[20 / 32] Hs=    0 -565.657671 4654.7 0.1 0.0 0.2 4.3 0.4 302.1 0.1 26.5 1.9 0.2 0.3 0.1 0.0 0.0 3.1 0.2 0.0 0.0 0.2 0.3 0.7 0.3 3.1 4998.8 [4 ; 0]:   9%|▉         | 3/33 [09:17<1:16:45, 153.51s/it]"
     ]
    },
    {
     "name": "stdout",
     "output_type": "stream",
     "text": [
      "16.4025 (45, 45, 45, 45) 15\n",
      "7.77384 (4, 10797, 45) 20\n"
     ]
    },
    {
     "name": "stderr",
     "output_type": "stream",
     "text": [
      "[21 / 32] Hs=    0 -565.661272 4409.9 0.1 0.0 0.1 3.0 0.2 303.9 0.0 26.5 2.0 0.2 0.3 0.1 0.0 0.0 3.9 0.2 0.0 0.0 0.2 0.3 0.6 0.2 2.3 4754.0 [4 ; 0]:   9%|▉         | 3/33 [09:21<1:16:45, 153.51s/it]"
     ]
    },
    {
     "name": "stdout",
     "output_type": "stream",
     "text": [
      "16.4025 (45, 45, 45, 45) 15\n",
      "7.77384 (4, 10797, 45) 20\n"
     ]
    },
    {
     "name": "stderr",
     "output_type": "stream",
     "text": [
      "[22 / 32] Hs=    0 -565.652663 4566.8 0.1 0.0 0.1 3.6 0.3 306.9 0.0 26.6 2.2 0.2 0.3 0.1 0.0 0.0 3.2 0.1 0.0 0.0 0.2 0.3 0.6 0.2 3.1 4914.9 [4 ; 0]:   9%|▉         | 3/33 [09:26<1:16:45, 153.51s/it]"
     ]
    },
    {
     "name": "stdout",
     "output_type": "stream",
     "text": [
      "16.4025 (45, 45, 45, 45) 15\n",
      "7.77384 (4, 10797, 45) 20\n"
     ]
    },
    {
     "name": "stderr",
     "output_type": "stream",
     "text": [
      "[23 / 32] Hs=    0 -565.663392 4629.3 0.1 0.0 0.1 3.1 0.3 312.0 0.3 28.4 3.2 0.3 0.3 0.2 0.0 0.1 3.6 0.3 0.0 0.0 0.2 0.4 1.8 0.9 18.6 5003.5 [4 ; 0]:   9%|▉         | 3/33 [09:31<1:16:45, 153.51s/it]"
     ]
    },
    {
     "name": "stdout",
     "output_type": "stream",
     "text": [
      "16.4025 (45, 45, 45, 45) 15\n",
      "7.77384 (4, 10797, 45) 20\n"
     ]
    },
    {
     "name": "stderr",
     "output_type": "stream",
     "text": [
      "[24 / 32] Hs=    0 -565.672690 4535.3 0.1 0.0 0.1 3.3 0.3 311.2 0.1 26.7 2.1 0.2 0.3 0.1 0.0 0.0 3.1 0.2 0.0 0.0 0.2 0.3 0.7 0.2 2.9 4887.4 [4 ; 0]:   9%|▉         | 3/33 [09:36<1:16:45, 153.51s/it] "
     ]
    },
    {
     "name": "stdout",
     "output_type": "stream",
     "text": [
      "16.4025 (45, 45, 45, 45) 15\n",
      "7.77384 (4, 10797, 45) 20\n"
     ]
    },
    {
     "name": "stderr",
     "output_type": "stream",
     "text": [
      "[25 / 32] Hs=    0 -565.661950 4519.7 0.0 0.0 0.1 2.9 0.2 301.3 0.0 26.3 1.8 0.2 0.3 0.1 0.0 0.0 2.9 0.1 0.0 0.0 0.2 0.3 0.6 0.1 2.1 4859.2 [4 ; 0]:   9%|▉         | 3/33 [09:41<1:16:45, 153.51s/it]"
     ]
    },
    {
     "name": "stdout",
     "output_type": "stream",
     "text": [
      "16.4025 (45, 45, 45, 45) 15\n",
      "7.77384 (4, 10797, 45) 20\n"
     ]
    },
    {
     "name": "stderr",
     "output_type": "stream",
     "text": [
      "[26 / 32] Hs=    0 -565.657590 4547.5 0.0 0.0 0.1 3.7 0.2 298.6 0.0 26.8 2.0 0.2 0.3 0.1 0.0 0.0 3.1 0.1 0.0 0.0 0.2 0.3 0.6 0.1 2.0 4885.9 [4 ; 0]:   9%|▉         | 3/33 [09:46<1:16:45, 153.51s/it]"
     ]
    },
    {
     "name": "stdout",
     "output_type": "stream",
     "text": [
      "16.4025 (45, 45, 45, 45) 15\n",
      "7.77384 (4, 10797, 45) 20\n"
     ]
    },
    {
     "name": "stderr",
     "output_type": "stream",
     "text": [
      "[27 / 32] Hs=    0 -565.661665 4376.6 0.0 0.0 0.1 2.9 0.2 296.7 0.0 26.3 1.9 0.2 0.3 0.1 0.0 0.0 3.0 0.1 0.0 0.0 0.2 0.3 5.0 0.2 1.9 4716.0 [4 ; 0]:   9%|▉         | 3/33 [09:51<1:16:45, 153.51s/it]"
     ]
    },
    {
     "name": "stdout",
     "output_type": "stream",
     "text": [
      "16.4025 (45, 45, 45, 45) 15\n",
      "7.77384 (4, 10797, 45) 20\n"
     ]
    },
    {
     "name": "stderr",
     "output_type": "stream",
     "text": [
      "[28 / 32] Hs=    0 -565.664373 4388.4 0.0 0.0 0.1 3.2 0.2 297.0 0.0 26.9 1.8 0.2 0.3 0.1 0.0 0.0 3.0 0.1 0.0 0.0 0.1 0.3 0.5 0.1 2.4 4724.7 [4 ; 0]:   9%|▉         | 3/33 [09:55<1:16:45, 153.51s/it]"
     ]
    },
    {
     "name": "stdout",
     "output_type": "stream",
     "text": [
      "16.4025 (45, 45, 45, 45) 15\n",
      "7.77384 (4, 10797, 45) 20\n"
     ]
    },
    {
     "name": "stderr",
     "output_type": "stream",
     "text": [
      "[29 / 32] Hs=    0 -565.665942 4489.8 0.0 0.0 0.1 3.7 0.2 304.8 0.1 26.6 1.8 0.2 0.3 0.1 0.0 0.0 3.2 0.1 0.0 0.0 0.2 0.3 0.6 0.1 2.0 4834.2 [4 ; 0]:   9%|▉         | 3/33 [10:00<1:16:45, 153.51s/it]"
     ]
    },
    {
     "name": "stdout",
     "output_type": "stream",
     "text": [
      "16.4025 (45, 45, 45, 45) 15\n",
      "7.77384 (4, 10797, 45) 20\n"
     ]
    },
    {
     "name": "stderr",
     "output_type": "stream",
     "text": [
      "[30 / 32] Hs=    0 -565.672721 4411.2 0.0 0.0 0.1 2.8 0.2 310.4 0.0 26.8 3.2 0.2 0.3 0.1 0.0 0.0 3.9 0.2 0.0 0.0 0.2 0.4 0.7 0.1 2.1 4762.9 [4 ; 0]:   9%|▉         | 3/33 [10:05<1:16:45, 153.51s/it]"
     ]
    },
    {
     "name": "stdout",
     "output_type": "stream",
     "text": [
      "16.4025 (45, 45, 45, 45) 15\n",
      "7.77384 (4, 10797, 45) 20\n"
     ]
    },
    {
     "name": "stderr",
     "output_type": "stream",
     "text": [
      "[31 / 32] Hs=    0 -565.671959 4384.0 0.0 0.0 0.1 2.8 0.2 312.9 0.1 27.3 2.1 0.2 0.3 0.1 0.0 0.0 3.0 0.1 0.0 0.0 0.2 0.3 1.3 0.3 2.3 4737.6 [4 ; 0]:   9%|▉         | 3/33 [10:10<1:16:45, 153.51s/it]"
     ]
    },
    {
     "name": "stdout",
     "output_type": "stream",
     "text": [
      "16.4025 (45, 45, 45, 45) 15\n",
      "7.77384 (4, 10797, 45) 20\n"
     ]
    },
    {
     "name": "stderr",
     "output_type": "stream",
     "text": [
      "[31 / 32] Hs=    0 -565.671959 4384.0 0.0 0.0 0.1 2.8 0.2 312.9 0.1 27.3 2.1 0.2 0.3 0.1 0.0 0.0 3.0 0.1 0.0 0.0 0.2 0.3 1.3 0.3 2.3 4737.6 [4 ; 0]:  12%|█▏        | 4/33 [10:14<1:14:14, 153.62s/it]"
     ]
    },
    {
     "name": "stdout",
     "output_type": "stream",
     "text": [
      "[O=c1nc(nno1)C#N]\n",
      "[conformers] 32\n",
      "16.4025 (45, 45, 45, 45) 15\n",
      "7.77384 (4, 10797, 45) 20\n"
     ]
    },
    {
     "name": "stderr",
     "output_type": "stream",
     "text": [
      "[1 / 32] Hs=    0 -476.974188 4451.0 0.3 0.2 0.2 4.0 0.6 290.7 0.3 27.6 3.2 0.5 0.3 0.2 0.0 0.0 3.1 0.2 0.0 0.0 0.2 0.3 0.6 0.2 2.9 4786.6 [5 ; 0]:  12%|█▏        | 4/33 [10:19<1:14:14, 153.62s/it] "
     ]
    },
    {
     "name": "stdout",
     "output_type": "stream",
     "text": [
      "16.4025 (45, 45, 45, 45) 15\n",
      "7.77384 (4, 10797, 45) 20\n"
     ]
    },
    {
     "name": "stderr",
     "output_type": "stream",
     "text": [
      "[2 / 32] Hs=    0 -476.965447 4540.8 0.2 0.0 0.1 2.9 0.3 300.5 0.1 26.3 1.9 0.2 0.3 0.1 0.0 0.0 3.1 0.1 0.0 0.0 0.2 0.4 0.7 0.2 3.4 4881.8 [5 ; 0]:  12%|█▏        | 4/33 [10:24<1:14:14, 153.62s/it]"
     ]
    },
    {
     "name": "stdout",
     "output_type": "stream",
     "text": [
      "16.4025 (45, 45, 45, 45) 15\n",
      "7.77384 (4, 10797, 45) 20\n"
     ]
    },
    {
     "name": "stderr",
     "output_type": "stream",
     "text": [
      "[3 / 32] Hs=    0 -476.971285 4462.8 0.1 0.0 0.1 3.0 0.3 321.7 0.1 27.0 1.9 0.3 0.3 0.2 0.0 0.1 3.5 0.2 0.0 0.0 0.2 0.5 4.5 0.9 17.8 4845.5 [5 ; 0]:  12%|█▏        | 4/33 [10:29<1:14:14, 153.62s/it]"
     ]
    },
    {
     "name": "stdout",
     "output_type": "stream",
     "text": [
      "16.4025 (45, 45, 45, 45) 15\n",
      "7.77384 (4, 10797, 45) 20\n"
     ]
    },
    {
     "name": "stderr",
     "output_type": "stream",
     "text": [
      "[4 / 32] Hs=    0 -476.966888 4474.4 0.1 0.0 0.1 2.5 0.2 296.9 0.0 26.1 1.9 0.2 0.3 0.1 0.0 0.0 3.0 0.1 0.0 0.0 0.2 0.3 1.2 0.3 2.4 4810.3 [5 ; 0]:  12%|█▏        | 4/33 [10:34<1:14:14, 153.62s/it] "
     ]
    },
    {
     "name": "stdout",
     "output_type": "stream",
     "text": [
      "16.4025 (45, 45, 45, 45) 15\n",
      "7.77384 (4, 10797, 45) 20\n"
     ]
    },
    {
     "name": "stderr",
     "output_type": "stream",
     "text": [
      "[5 / 32] Hs=    0 -476.971769 4403.3 0.0 0.0 0.1 2.3 0.2 292.4 0.1 27.7 2.0 0.2 0.3 0.1 0.0 0.0 3.0 0.1 0.0 0.0 0.2 0.3 3.0 0.2 2.6 4738.1 [5 ; 0]:  12%|█▏        | 4/33 [10:39<1:14:14, 153.62s/it]"
     ]
    },
    {
     "name": "stdout",
     "output_type": "stream",
     "text": [
      "16.4025 (45, 45, 45, 45) 15\n",
      "7.77384 (4, 10797, 45) 20\n"
     ]
    },
    {
     "name": "stderr",
     "output_type": "stream",
     "text": [
      "[6 / 32] Hs=    0 -476.968224 4445.7 0.0 0.0 0.1 2.3 0.2 302.3 0.0 26.0 3.1 0.2 0.3 0.1 0.0 0.0 3.1 0.1 0.0 0.0 0.2 0.3 0.5 0.1 1.9 4786.5 [5 ; 0]:  12%|█▏        | 4/33 [10:43<1:14:14, 153.62s/it]"
     ]
    },
    {
     "name": "stdout",
     "output_type": "stream",
     "text": [
      "16.4025 (45, 45, 45, 45) 15\n",
      "7.77384 (4, 10797, 45) 20\n"
     ]
    },
    {
     "name": "stderr",
     "output_type": "stream",
     "text": [
      "[7 / 32] Hs=    0 -476.972190 4490.8 0.1 0.0 0.1 2.8 0.3 305.3 0.1 26.8 2.8 0.2 0.3 0.1 0.0 0.0 3.1 0.2 0.0 0.0 0.2 0.3 0.8 0.3 3.5 4838.1 [5 ; 0]:  12%|█▏        | 4/33 [10:48<1:14:14, 153.62s/it]"
     ]
    },
    {
     "name": "stdout",
     "output_type": "stream",
     "text": [
      "16.4025 (45, 45, 45, 45) 15\n",
      "7.77384 (4, 10797, 45) 20\n"
     ]
    },
    {
     "name": "stderr",
     "output_type": "stream",
     "text": [
      "[8 / 32] Hs=    0 -476.966255 4446.6 0.1 0.0 0.1 2.7 0.3 300.1 0.3 27.9 2.3 0.3 0.3 0.1 0.0 0.1 3.7 0.3 0.0 0.0 0.3 0.5 2.9 1.0 21.8 4811.7 [5 ; 0]:  12%|█▏        | 4/33 [10:53<1:14:14, 153.62s/it]"
     ]
    },
    {
     "name": "stdout",
     "output_type": "stream",
     "text": [
      "16.4025 (45, 45, 45, 45) 15\n",
      "7.77384 (4, 10797, 45) 20\n"
     ]
    },
    {
     "name": "stderr",
     "output_type": "stream",
     "text": [
      "[9 / 32] Hs=    0 -476.965494 4523.7 0.0 0.0 0.1 2.6 0.2 294.3 0.0 26.0 2.2 0.2 0.3 0.1 0.0 0.0 3.2 0.1 0.0 0.0 0.2 0.3 1.3 0.2 2.2 4857.2 [5 ; 0]:  12%|█▏        | 4/33 [10:58<1:14:14, 153.62s/it] "
     ]
    },
    {
     "name": "stdout",
     "output_type": "stream",
     "text": [
      "16.4025 (45, 45, 45, 45) 15\n",
      "7.77384 (4, 10797, 45) 20\n"
     ]
    },
    {
     "name": "stderr",
     "output_type": "stream",
     "text": [
      "[10 / 32] Hs=    0 -476.966589 4389.1 0.1 0.0 0.1 3.2 0.3 297.9 0.0 26.7 2.9 0.4 0.4 0.1 0.0 0.0 4.0 0.2 0.0 0.0 0.2 0.4 0.7 0.2 3.4 4730.3 [5 ; 0]:  12%|█▏        | 4/33 [11:03<1:14:14, 153.62s/it]"
     ]
    },
    {
     "name": "stdout",
     "output_type": "stream",
     "text": [
      "16.4025 (45, 45, 45, 45) 15\n",
      "7.77384 (4, 10797, 45) 20\n"
     ]
    },
    {
     "name": "stderr",
     "output_type": "stream",
     "text": [
      "[11 / 32] Hs=    0 -476.965786 4492.3 0.0 0.0 0.1 2.6 0.2 299.7 0.0 26.3 1.9 0.2 0.3 0.1 0.0 0.0 3.0 0.1 0.0 0.0 0.2 0.3 0.7 0.2 2.5 4830.7 [5 ; 0]:  12%|█▏        | 4/33 [11:08<1:14:14, 153.62s/it]"
     ]
    },
    {
     "name": "stdout",
     "output_type": "stream",
     "text": [
      "16.4025 (45, 45, 45, 45) 15\n",
      "7.77384 (4, 10797, 45) 20\n"
     ]
    },
    {
     "name": "stderr",
     "output_type": "stream",
     "text": [
      "[12 / 32] Hs=    0 -476.970426 4529.9 0.0 0.0 0.1 2.4 0.2 294.9 0.0 26.3 2.0 0.2 0.3 0.1 0.0 0.0 3.0 0.1 0.0 0.0 0.2 0.3 0.7 0.1 1.9 4862.7 [5 ; 0]:  12%|█▏        | 4/33 [11:12<1:14:14, 153.62s/it]"
     ]
    },
    {
     "name": "stdout",
     "output_type": "stream",
     "text": [
      "16.4025 (45, 45, 45, 45) 15\n",
      "7.77384 (4, 10797, 45) 20\n"
     ]
    },
    {
     "name": "stderr",
     "output_type": "stream",
     "text": [
      "[13 / 32] Hs=    0 -476.967576 4453.5 0.1 0.0 0.1 2.7 0.3 313.4 0.1 26.9 2.0 0.2 0.4 0.2 0.0 0.1 3.2 0.2 0.0 0.0 0.2 0.4 0.6 0.2 3.1 4807.9 [5 ; 0]:  12%|█▏        | 4/33 [11:17<1:14:14, 153.62s/it]"
     ]
    },
    {
     "name": "stdout",
     "output_type": "stream",
     "text": [
      "16.4025 (45, 45, 45, 45) 15\n",
      "7.77384 (4, 10797, 45) 20\n"
     ]
    },
    {
     "name": "stderr",
     "output_type": "stream",
     "text": [
      "[14 / 32] Hs=    0 -476.968278 4498.8 0.3 0.1 0.1 3.0 0.3 288.6 0.1 27.4 3.8 0.3 0.3 0.2 0.0 0.0 3.3 0.2 0.0 0.0 0.2 0.4 0.6 0.4 4.1 4832.5 [5 ; 0]:  12%|█▏        | 4/33 [11:22<1:14:14, 153.62s/it]"
     ]
    },
    {
     "name": "stdout",
     "output_type": "stream",
     "text": [
      "16.4025 (45, 45, 45, 45) 15\n",
      "7.77384 (4, 10797, 45) 20\n"
     ]
    },
    {
     "name": "stderr",
     "output_type": "stream",
     "text": [
      "[15 / 32] Hs=    0 -476.966648 4656.5 0.0 0.0 0.1 2.7 0.2 298.1 0.1 27.2 1.8 0.2 0.3 0.1 0.0 0.0 3.1 0.2 0.0 0.0 0.2 0.3 0.7 0.2 2.9 4994.9 [5 ; 0]:  12%|█▏        | 4/33 [11:27<1:14:14, 153.62s/it]"
     ]
    },
    {
     "name": "stdout",
     "output_type": "stream",
     "text": [
      "16.4025 (45, 45, 45, 45) 15\n",
      "7.77384 (4, 10797, 45) 20\n"
     ]
    },
    {
     "name": "stderr",
     "output_type": "stream",
     "text": [
      "[16 / 32] Hs=    0 -476.963404 4528.5 0.1 0.0 0.1 3.6 0.3 322.5 0.1 27.2 2.0 0.2 0.3 0.1 0.0 0.0 3.4 0.2 0.0 0.0 0.2 0.3 0.7 0.2 3.0 4893.0 [5 ; 0]:  12%|█▏        | 4/33 [11:32<1:14:14, 153.62s/it]"
     ]
    },
    {
     "name": "stdout",
     "output_type": "stream",
     "text": [
      "16.4025 (45, 45, 45, 45) 15\n",
      "7.77384 (4, 10797, 45) 20\n"
     ]
    },
    {
     "name": "stderr",
     "output_type": "stream",
     "text": [
      "[17 / 32] Hs=    0 -476.971044 4489.3 0.2 0.3 0.1 2.7 0.3 292.7 0.1 26.9 2.7 0.2 0.3 0.1 0.0 0.0 3.3 0.2 0.0 0.0 0.2 0.3 0.6 0.2 3.1 4823.8 [5 ; 0]:  12%|█▏        | 4/33 [11:37<1:14:14, 153.62s/it]"
     ]
    },
    {
     "name": "stdout",
     "output_type": "stream",
     "text": [
      "16.4025 (45, 45, 45, 45) 15\n",
      "7.77384 (4, 10797, 45) 20\n"
     ]
    },
    {
     "name": "stderr",
     "output_type": "stream",
     "text": [
      "[18 / 32] Hs=    0 -476.964580 4504.8 0.1 0.0 0.1 2.7 0.3 295.0 0.1 27.2 2.4 0.3 0.4 0.2 0.0 0.0 3.9 0.2 0.0 0.0 0.2 0.4 0.8 0.2 3.5 4842.8 [5 ; 0]:  12%|█▏        | 4/33 [11:42<1:14:14, 153.62s/it]"
     ]
    },
    {
     "name": "stdout",
     "output_type": "stream",
     "text": [
      "16.4025 (45, 45, 45, 45) 15\n",
      "7.77384 (4, 10797, 45) 20\n"
     ]
    },
    {
     "name": "stderr",
     "output_type": "stream",
     "text": [
      "[19 / 32] Hs=    0 -476.963968 4653.8 0.1 0.0 0.1 3.5 0.3 305.0 0.1 27.0 2.0 0.2 0.3 0.1 0.0 0.0 3.0 0.1 0.0 0.0 0.2 0.3 0.7 0.2 3.3 5000.3 [5 ; 0]:  12%|█▏        | 4/33 [11:47<1:14:14, 153.62s/it]"
     ]
    },
    {
     "name": "stdout",
     "output_type": "stream",
     "text": [
      "16.4025 (45, 45, 45, 45) 15\n",
      "7.77384 (4, 10797, 45) 20\n"
     ]
    },
    {
     "name": "stderr",
     "output_type": "stream",
     "text": [
      "[20 / 32] Hs=    0 -476.967009 4399.3 0.2 0.2 0.1 2.7 0.3 297.6 0.2 27.2 1.8 0.3 0.3 0.2 0.0 0.1 3.7 0.2 0.0 0.0 0.2 0.4 1.6 0.7 21.2 4758.5 [5 ; 0]:  12%|█▏        | 4/33 [11:51<1:14:14, 153.62s/it]"
     ]
    },
    {
     "name": "stdout",
     "output_type": "stream",
     "text": [
      "16.4025 (45, 45, 45, 45) 15\n",
      "7.77384 (4, 10797, 45) 20\n"
     ]
    },
    {
     "name": "stderr",
     "output_type": "stream",
     "text": [
      "[21 / 32] Hs=    0 -476.970682 4475.7 0.0 0.0 0.1 3.0 0.3 289.7 0.1 26.5 2.0 0.2 0.3 0.1 0.0 0.0 3.1 0.2 0.0 0.0 0.2 0.3 0.8 0.3 2.3 4805.2 [5 ; 0]:  12%|█▏        | 4/33 [11:56<1:14:14, 153.62s/it] "
     ]
    },
    {
     "name": "stdout",
     "output_type": "stream",
     "text": [
      "16.4025 (45, 45, 45, 45) 15\n",
      "7.77384 (4, 10797, 45) 20\n"
     ]
    },
    {
     "name": "stderr",
     "output_type": "stream",
     "text": [
      "[22 / 32] Hs=    0 -476.965066 4570.2 0.1 0.0 0.1 3.1 0.3 298.9 0.0 26.3 2.3 0.2 0.3 0.1 0.0 0.0 3.1 0.1 0.0 0.0 0.2 0.3 0.7 0.2 3.1 4909.6 [5 ; 0]:  12%|█▏        | 4/33 [12:01<1:14:14, 153.62s/it]"
     ]
    },
    {
     "name": "stdout",
     "output_type": "stream",
     "text": [
      "16.4025 (45, 45, 45, 45) 15\n",
      "7.77384 (4, 10797, 45) 20\n"
     ]
    },
    {
     "name": "stderr",
     "output_type": "stream",
     "text": [
      "[23 / 32] Hs=    0 -476.963743 4415.3 0.0 0.0 0.1 2.6 0.2 289.7 0.0 26.9 2.0 0.2 0.3 0.1 0.0 0.0 3.2 0.2 0.0 0.0 0.2 0.3 0.6 0.1 2.1 4744.1 [5 ; 0]:  12%|█▏        | 4/33 [12:06<1:14:14, 153.62s/it]"
     ]
    },
    {
     "name": "stdout",
     "output_type": "stream",
     "text": [
      "16.4025 (45, 45, 45, 45) 15\n",
      "7.77384 (4, 10797, 45) 20\n"
     ]
    },
    {
     "name": "stderr",
     "output_type": "stream",
     "text": [
      "[24 / 32] Hs=    0 -476.964017 4398.1 0.0 0.0 0.1 2.4 0.2 294.0 0.1 26.5 2.9 0.2 0.3 0.1 0.0 0.0 3.1 0.1 0.0 0.0 0.1 0.3 0.6 0.1 2.0 4731.2 [5 ; 0]:  12%|█▏        | 4/33 [12:11<1:14:14, 153.62s/it]"
     ]
    },
    {
     "name": "stdout",
     "output_type": "stream",
     "text": [
      "16.4025 (45, 45, 45, 45) 15\n",
      "7.77384 (4, 10797, 45) 20\n"
     ]
    },
    {
     "name": "stderr",
     "output_type": "stream",
     "text": [
      "[25 / 32] Hs=    0 -476.961756 4610.7 0.1 0.0 0.1 2.6 0.2 287.5 0.3 28.2 2.1 0.3 0.3 0.2 0.0 0.1 4.4 0.3 0.0 0.0 0.2 0.5 1.7 0.9 19.1 4959.8 [5 ; 0]:  12%|█▏        | 4/33 [12:16<1:14:14, 153.62s/it]"
     ]
    },
    {
     "name": "stdout",
     "output_type": "stream",
     "text": [
      "16.4025 (45, 45, 45, 45) 15\n",
      "7.77384 (4, 10797, 45) 20\n"
     ]
    },
    {
     "name": "stderr",
     "output_type": "stream",
     "text": [
      "[26 / 32] Hs=    0 -476.962127 4442.4 0.0 0.0 0.1 2.3 0.2 297.9 0.1 26.4 1.9 0.2 0.3 0.1 0.0 0.0 3.0 0.2 0.0 0.0 0.2 0.3 0.7 0.1 2.1 4778.5 [5 ; 0]:  12%|█▏        | 4/33 [12:20<1:14:14, 153.62s/it] "
     ]
    },
    {
     "name": "stdout",
     "output_type": "stream",
     "text": [
      "16.4025 (45, 45, 45, 45) 15\n",
      "7.77384 (4, 10797, 45) 20\n"
     ]
    },
    {
     "name": "stderr",
     "output_type": "stream",
     "text": [
      "[27 / 32] Hs=    0 -476.963719 4424.2 0.0 0.0 0.1 2.4 0.2 298.3 0.0 26.3 1.9 0.2 0.3 0.1 0.0 0.0 3.1 0.1 0.0 0.0 0.2 0.3 0.7 0.2 2.3 4760.9 [5 ; 0]:  12%|█▏        | 4/33 [12:25<1:14:14, 153.62s/it]"
     ]
    },
    {
     "name": "stdout",
     "output_type": "stream",
     "text": [
      "16.4025 (45, 45, 45, 45) 15\n",
      "7.77384 (4, 10797, 45) 20\n"
     ]
    },
    {
     "name": "stderr",
     "output_type": "stream",
     "text": [
      "[28 / 32] Hs=    0 -476.958955 4486.8 0.0 0.0 0.1 3.4 0.2 307.3 0.0 26.5 2.0 0.2 0.3 0.1 0.0 0.0 3.0 0.1 0.0 0.0 0.1 0.3 1.5 0.1 2.2 4834.2 [5 ; 0]:  12%|█▏        | 4/33 [12:30<1:14:14, 153.62s/it]"
     ]
    },
    {
     "name": "stdout",
     "output_type": "stream",
     "text": [
      "16.4025 (45, 45, 45, 45) 15\n",
      "7.77384 (4, 10797, 45) 20\n"
     ]
    },
    {
     "name": "stderr",
     "output_type": "stream",
     "text": [
      "[29 / 32] Hs=    0 -476.962396 4368.7 0.0 0.0 0.1 2.4 0.2 286.9 0.0 26.1 2.6 0.2 0.3 0.1 0.0 0.0 3.0 0.1 0.0 0.0 0.2 0.3 0.7 0.2 2.4 4694.5 [5 ; 0]:  12%|█▏        | 4/33 [12:35<1:14:14, 153.62s/it]"
     ]
    },
    {
     "name": "stdout",
     "output_type": "stream",
     "text": [
      "16.4025 (45, 45, 45, 45) 15\n",
      "7.77384 (4, 10797, 45) 20\n"
     ]
    },
    {
     "name": "stderr",
     "output_type": "stream",
     "text": [
      "[30 / 32] Hs=    0 -476.963612 4407.2 0.0 0.0 0.1 2.3 0.2 295.5 0.0 26.6 3.3 0.2 0.3 0.1 0.0 0.0 3.0 0.1 0.0 0.0 0.2 0.3 0.7 0.2 2.3 4742.6 [5 ; 0]:  12%|█▏        | 4/33 [12:39<1:14:14, 153.62s/it]"
     ]
    },
    {
     "name": "stdout",
     "output_type": "stream",
     "text": [
      "16.4025 (45, 45, 45, 45) 15\n",
      "7.77384 (4, 10797, 45) 20\n"
     ]
    },
    {
     "name": "stderr",
     "output_type": "stream",
     "text": [
      "[31 / 32] Hs=    0 -476.961186 4615.2 0.1 0.0 0.1 2.8 0.3 307.8 0.1 26.5 2.2 0.2 0.3 0.1 0.0 0.0 3.2 0.2 0.0 0.0 0.2 0.4 0.7 0.2 3.4 4964.0 [5 ; 0]:  12%|█▏        | 4/33 [12:44<1:14:14, 153.62s/it]"
     ]
    },
    {
     "name": "stdout",
     "output_type": "stream",
     "text": [
      "16.4025 (45, 45, 45, 45) 15\n",
      "7.77384 (4, 10797, 45) 20\n"
     ]
    },
    {
     "name": "stderr",
     "output_type": "stream",
     "text": [
      "[31 / 32] Hs=    0 -476.961186 4615.2 0.1 0.0 0.1 2.8 0.3 307.8 0.1 26.5 2.2 0.2 0.3 0.1 0.0 0.0 3.2 0.2 0.0 0.0 0.2 0.4 0.7 0.2 3.4 4964.0 [5 ; 0]:  15%|█▌        | 5/33 [12:49<1:11:52, 154.02s/it]"
     ]
    },
    {
     "name": "stdout",
     "output_type": "stream",
     "text": [
      "[Fc1onc2OC(=O)c12]\n",
      "[conformers] 32\n",
      "16.4025 (45, 45, 45, 45) 15\n",
      "7.77384 (4, 10797, 45) 20\n"
     ]
    },
    {
     "name": "stderr",
     "output_type": "stream",
     "text": [
      "[1 / 32] Hs=    0 -525.061280 4698.8 0.1 0.0 0.1 3.3 0.3 317.5 0.1 26.9 2.1 0.2 0.5 0.1 0.0 0.0 3.2 0.2 0.0 0.0 0.2 0.3 0.7 0.2 3.9 5058.7 [6 ; 0]:  15%|█▌        | 5/33 [12:54<1:11:52, 154.02s/it] "
     ]
    },
    {
     "name": "stdout",
     "output_type": "stream",
     "text": [
      "16.4025 (45, 45, 45, 45) 15\n",
      "7.77384 (4, 10797, 45) 20\n"
     ]
    },
    {
     "name": "stderr",
     "output_type": "stream",
     "text": [
      "[2 / 32] Hs=    0 -525.059204 4584.9 0.1 0.0 0.1 3.2 0.3 309.3 0.1 26.6 1.9 0.2 0.3 0.1 0.0 0.0 3.7 0.2 0.0 0.0 0.1 0.3 0.6 0.2 2.9 4935.1 [6 ; 0]:  15%|█▌        | 5/33 [12:59<1:11:52, 154.02s/it]"
     ]
    },
    {
     "name": "stdout",
     "output_type": "stream",
     "text": [
      "16.4025 (45, 45, 45, 45) 15\n",
      "7.77384 (4, 10797, 45) 20\n"
     ]
    },
    {
     "name": "stderr",
     "output_type": "stream",
     "text": [
      "[3 / 32] Hs=    0 -525.054434 4380.2 0.1 0.0 0.1 3.2 0.2 298.3 0.0 26.8 1.8 0.2 0.3 0.1 0.0 0.0 3.3 0.1 0.0 0.0 0.2 0.3 0.5 0.1 2.3 4718.1 [6 ; 0]:  15%|█▌        | 5/33 [13:04<1:11:52, 154.02s/it]"
     ]
    },
    {
     "name": "stdout",
     "output_type": "stream",
     "text": [
      "16.4025 (45, 45, 45, 45) 15\n",
      "7.77384 (4, 10797, 45) 20\n"
     ]
    },
    {
     "name": "stderr",
     "output_type": "stream",
     "text": [
      "[4 / 32] Hs=    0 -525.071938 4582.5 0.1 0.0 0.1 3.4 0.4 308.8 0.2 27.9 2.5 0.3 0.4 0.2 0.0 0.0 3.8 0.2 0.0 0.0 0.2 0.4 0.8 0.4 5.8 4938.4 [6 ; 0]:  15%|█▌        | 5/33 [13:09<1:11:52, 154.02s/it]"
     ]
    },
    {
     "name": "stdout",
     "output_type": "stream",
     "text": [
      "16.4025 (45, 45, 45, 45) 15\n",
      "7.77384 (4, 10797, 45) 20\n"
     ]
    },
    {
     "name": "stderr",
     "output_type": "stream",
     "text": [
      "[5 / 32] Hs=    0 -525.072871 4580.7 0.0 0.0 0.1 2.9 0.2 302.2 0.0 26.2 1.9 0.2 0.3 0.1 0.0 0.0 3.2 0.1 0.0 0.0 0.2 0.3 0.6 0.1 2.1 4921.4 [6 ; 0]:  15%|█▌        | 5/33 [13:14<1:11:52, 154.02s/it]"
     ]
    },
    {
     "name": "stdout",
     "output_type": "stream",
     "text": [
      "16.4025 (45, 45, 45, 45) 15\n",
      "7.77384 (4, 10797, 45) 20\n"
     ]
    },
    {
     "name": "stderr",
     "output_type": "stream",
     "text": [
      "[6 / 32] Hs=    0 -525.074972 4489.8 0.0 0.0 0.1 3.9 0.3 308.5 0.0 26.5 1.9 0.2 0.3 0.1 0.0 0.0 3.3 0.1 0.0 0.0 0.2 0.3 0.6 0.1 2.0 4838.2 [6 ; 0]:  15%|█▌        | 5/33 [13:19<1:11:52, 154.02s/it]"
     ]
    },
    {
     "name": "stdout",
     "output_type": "stream",
     "text": [
      "16.4025 (45, 45, 45, 45) 15\n",
      "7.77384 (4, 10797, 45) 20\n"
     ]
    },
    {
     "name": "stderr",
     "output_type": "stream",
     "text": [
      "[7 / 32] Hs=    0 -525.069306 4415.6 0.1 0.1 0.1 3.4 0.4 296.1 0.1 27.2 2.0 0.2 0.3 0.1 0.0 0.0 3.1 0.2 0.0 0.0 0.2 0.3 0.6 0.2 3.5 4753.8 [6 ; 0]:  15%|█▌        | 5/33 [13:24<1:11:52, 154.02s/it]"
     ]
    },
    {
     "name": "stdout",
     "output_type": "stream",
     "text": [
      "16.4025 (45, 45, 45, 45) 15\n",
      "7.77384 (4, 10797, 45) 20\n"
     ]
    },
    {
     "name": "stderr",
     "output_type": "stream",
     "text": [
      "[8 / 32] Hs=    0 -525.058708 4497.8 0.4 0.1 0.2 4.4 0.5 308.5 0.0 26.7 2.5 0.2 0.4 0.1 0.0 0.0 3.2 0.1 0.0 0.0 0.2 0.4 0.7 0.2 3.2 4849.8 [6 ; 0]:  15%|█▌        | 5/33 [13:28<1:11:52, 154.02s/it]"
     ]
    },
    {
     "name": "stdout",
     "output_type": "stream",
     "text": [
      "16.4025 (45, 45, 45, 45) 15\n",
      "7.77384 (4, 10797, 45) 20\n"
     ]
    },
    {
     "name": "stderr",
     "output_type": "stream",
     "text": [
      "[9 / 32] Hs=    0 -525.068312 4633.7 0.2 0.0 0.1 3.7 0.3 316.4 0.1 26.7 2.1 0.2 0.3 0.1 0.0 0.0 3.1 0.2 0.0 0.0 0.2 0.4 0.7 0.2 3.6 4992.3 [6 ; 0]:  15%|█▌        | 5/33 [13:33<1:11:52, 154.02s/it]"
     ]
    },
    {
     "name": "stdout",
     "output_type": "stream",
     "text": [
      "16.4025 (45, 45, 45, 45) 15\n",
      "7.77384 (4, 10797, 45) 20\n"
     ]
    },
    {
     "name": "stderr",
     "output_type": "stream",
     "text": [
      "[10 / 32] Hs=    0 -525.072107 4518.6 0.9 0.3 0.6 12.1 1.9 291.5 0.1 27.3 1.9 0.2 0.3 0.1 0.0 0.0 3.3 0.2 0.0 0.0 0.2 0.3 0.8 0.3 3.5 4864.4 [6 ; 0]:  15%|█▌        | 5/33 [13:38<1:11:52, 154.02s/it]"
     ]
    },
    {
     "name": "stdout",
     "output_type": "stream",
     "text": [
      "16.4025 (45, 45, 45, 45) 15\n",
      "7.77384 (4, 10797, 45) 20\n"
     ]
    },
    {
     "name": "stderr",
     "output_type": "stream",
     "text": [
      "[11 / 32] Hs=    0 -525.068087 4538.4 0.1 0.0 0.1 3.7 0.3 301.6 0.1 28.4 2.6 0.3 0.3 0.1 0.0 0.0 3.3 0.2 0.0 0.0 0.2 0.3 0.8 0.3 4.6 4885.7 [6 ; 0]:  15%|█▌        | 5/33 [13:43<1:11:52, 154.02s/it] "
     ]
    },
    {
     "name": "stdout",
     "output_type": "stream",
     "text": [
      "16.4025 (45, 45, 45, 45) 15\n",
      "7.77384 (4, 10797, 45) 20\n"
     ]
    },
    {
     "name": "stderr",
     "output_type": "stream",
     "text": [
      "[12 / 32] Hs=    0 -525.067586 4454.2 0.0 0.0 0.1 2.9 0.2 309.3 0.1 27.3 2.0 0.2 0.3 0.2 0.0 0.0 3.7 0.2 0.0 0.0 0.2 0.4 0.7 0.1 2.2 4804.3 [6 ; 0]:  15%|█▌        | 5/33 [13:48<1:11:52, 154.02s/it]"
     ]
    },
    {
     "name": "stdout",
     "output_type": "stream",
     "text": [
      "16.4025 (45, 45, 45, 45) 15\n",
      "7.77384 (4, 10797, 45) 20\n"
     ]
    },
    {
     "name": "stderr",
     "output_type": "stream",
     "text": [
      "[13 / 32] Hs=    0 -525.069191 4458.2 0.2 0.0 0.1 3.7 0.2 303.4 0.0 26.4 1.9 0.2 0.3 0.1 0.0 0.0 3.1 0.1 0.0 0.0 0.2 0.3 0.6 0.1 2.1 4801.2 [6 ; 0]:  15%|█▌        | 5/33 [13:53<1:11:52, 154.02s/it]"
     ]
    },
    {
     "name": "stdout",
     "output_type": "stream",
     "text": [
      "16.4025 (45, 45, 45, 45) 15\n",
      "7.77384 (4, 10797, 45) 20\n"
     ]
    },
    {
     "name": "stderr",
     "output_type": "stream",
     "text": [
      "[14 / 32] Hs=    0 -525.058719 4530.4 0.1 0.0 0.1 3.3 0.3 289.0 0.1 26.8 1.9 0.2 0.3 0.1 0.0 0.0 3.1 0.2 0.0 0.0 0.2 0.3 1.9 0.3 3.1 4861.7 [6 ; 0]:  15%|█▌        | 5/33 [13:58<1:11:52, 154.02s/it]"
     ]
    },
    {
     "name": "stdout",
     "output_type": "stream",
     "text": [
      "16.4025 (45, 45, 45, 45) 15\n",
      "7.77384 (4, 10797, 45) 20\n"
     ]
    },
    {
     "name": "stderr",
     "output_type": "stream",
     "text": [
      "[15 / 32] Hs=    0 -525.057630 4556.5 0.1 0.0 0.1 16.6 0.3 313.1 0.2 27.3 2.0 0.3 0.3 0.1 0.0 0.1 3.7 0.2 0.0 0.0 0.2 0.4 1.1 0.2 3.2 4926.0 [6 ; 0]:  15%|█▌        | 5/33 [14:03<1:11:52, 154.02s/it]"
     ]
    },
    {
     "name": "stdout",
     "output_type": "stream",
     "text": [
      "16.4025 (45, 45, 45, 45) 15\n",
      "7.77384 (4, 10797, 45) 20\n"
     ]
    },
    {
     "name": "stderr",
     "output_type": "stream",
     "text": [
      "[16 / 32] Hs=    0 -525.052738 4421.5 0.0 0.0 0.1 2.9 0.2 301.8 0.0 26.8 1.8 0.2 0.3 0.1 0.0 0.0 3.0 0.1 0.0 0.0 0.2 0.3 0.6 0.1 2.0 4762.0 [6 ; 0]:  15%|█▌        | 5/33 [14:07<1:11:52, 154.02s/it] "
     ]
    },
    {
     "name": "stdout",
     "output_type": "stream",
     "text": [
      "16.4025 (45, 45, 45, 45) 15\n",
      "7.77384 (4, 10797, 45) 20\n"
     ]
    },
    {
     "name": "stderr",
     "output_type": "stream",
     "text": [
      "[17 / 32] Hs=    0 -525.051858 4457.4 0.0 0.3 0.1 3.0 0.2 312.7 0.0 26.8 3.7 0.3 0.3 0.1 0.0 0.1 3.1 0.2 0.0 0.0 0.3 0.3 0.6 0.1 3.0 4812.6 [6 ; 0]:  15%|█▌        | 5/33 [14:12<1:11:52, 154.02s/it]"
     ]
    },
    {
     "name": "stdout",
     "output_type": "stream",
     "text": [
      "16.4025 (45, 45, 45, 45) 15\n",
      "7.77384 (4, 10797, 45) 20\n"
     ]
    },
    {
     "name": "stderr",
     "output_type": "stream",
     "text": [
      "[18 / 32] Hs=    0 -525.065600 4584.1 0.1 0.0 0.1 3.3 0.3 297.7 0.1 27.8 2.2 0.3 0.3 0.1 0.0 0.0 3.5 0.2 0.0 0.0 0.2 0.3 0.8 0.2 3.4 4925.0 [6 ; 0]:  15%|█▌        | 5/33 [14:17<1:11:52, 154.02s/it]"
     ]
    },
    {
     "name": "stdout",
     "output_type": "stream",
     "text": [
      "16.4025 (45, 45, 45, 45) 15\n",
      "7.77384 (4, 10797, 45) 20\n"
     ]
    },
    {
     "name": "stderr",
     "output_type": "stream",
     "text": [
      "[19 / 32] Hs=    0 -525.080400 4460.7 0.1 0.0 0.1 3.3 0.3 303.6 0.1 26.5 1.9 0.2 0.3 0.1 0.0 0.0 3.1 0.2 0.0 0.0 0.2 0.3 0.7 0.2 2.8 4804.7 [6 ; 0]:  15%|█▌        | 5/33 [14:22<1:11:52, 154.02s/it]"
     ]
    },
    {
     "name": "stdout",
     "output_type": "stream",
     "text": [
      "16.4025 (45, 45, 45, 45) 15\n",
      "7.77384 (4, 10797, 45) 20\n"
     ]
    },
    {
     "name": "stderr",
     "output_type": "stream",
     "text": [
      "[20 / 32] Hs=    0 -525.079954 4457.6 0.1 0.0 0.1 3.3 0.3 305.6 0.1 27.0 2.1 0.2 0.3 0.1 0.0 0.0 3.4 0.2 0.0 0.0 0.2 0.3 1.3 0.2 2.8 4805.2 [6 ; 0]:  15%|█▌        | 5/33 [14:27<1:11:52, 154.02s/it]"
     ]
    },
    {
     "name": "stdout",
     "output_type": "stream",
     "text": [
      "16.4025 (45, 45, 45, 45) 15\n",
      "7.77384 (4, 10797, 45) 20\n"
     ]
    },
    {
     "name": "stderr",
     "output_type": "stream",
     "text": [
      "[21 / 32] Hs=    0 -525.052972 4487.9 0.0 0.0 0.1 2.9 0.2 303.8 0.1 27.2 1.9 0.2 0.3 0.1 0.0 0.0 3.1 0.1 0.0 0.0 0.2 0.3 0.5 0.1 2.0 4831.0 [6 ; 0]:  15%|█▌        | 5/33 [14:31<1:11:52, 154.02s/it]"
     ]
    },
    {
     "name": "stdout",
     "output_type": "stream",
     "text": [
      "16.4025 (45, 45, 45, 45) 15\n",
      "7.77384 (4, 10797, 45) 20\n"
     ]
    },
    {
     "name": "stderr",
     "output_type": "stream",
     "text": [
      "[22 / 32] Hs=    0 -525.051539 4623.6 0.1 0.0 0.1 4.2 0.3 324.3 0.2 28.3 2.3 0.3 0.3 0.1 0.0 0.1 3.8 0.3 0.0 0.0 0.4 0.4 1.2 0.3 4.4 4995.0 [6 ; 0]:  15%|█▌        | 5/33 [14:36<1:11:52, 154.02s/it]"
     ]
    },
    {
     "name": "stdout",
     "output_type": "stream",
     "text": [
      "16.4025 (45, 45, 45, 45) 15\n",
      "7.77384 (4, 10797, 45) 20\n"
     ]
    },
    {
     "name": "stderr",
     "output_type": "stream",
     "text": [
      "[23 / 32] Hs=    0 -525.065796 4362.2 0.0 0.0 0.1 2.8 0.2 317.0 0.0 28.4 2.4 0.2 0.3 0.2 0.0 0.0 3.9 0.2 0.0 0.0 0.2 0.3 0.7 0.1 2.1 4721.3 [6 ; 0]:  15%|█▌        | 5/33 [14:41<1:11:52, 154.02s/it]"
     ]
    },
    {
     "name": "stdout",
     "output_type": "stream",
     "text": [
      "16.4025 (45, 45, 45, 45) 15\n",
      "7.77384 (4, 10797, 45) 20\n"
     ]
    },
    {
     "name": "stderr",
     "output_type": "stream",
     "text": [
      "[24 / 32] Hs=    0 -525.073449 4334.5 0.0 0.0 0.1 2.9 0.2 300.8 0.0 26.3 1.9 0.2 0.3 0.1 0.0 0.0 3.2 0.1 0.0 0.0 0.2 0.3 4.6 0.2 2.3 4678.2 [6 ; 0]:  15%|█▌        | 5/33 [14:46<1:11:52, 154.02s/it]"
     ]
    },
    {
     "name": "stdout",
     "output_type": "stream",
     "text": [
      "16.4025 (45, 45, 45, 45) 15\n",
      "7.77384 (4, 10797, 45) 20\n"
     ]
    },
    {
     "name": "stderr",
     "output_type": "stream",
     "text": [
      "[25 / 32] Hs=    0 -525.076617 4503.9 0.0 0.0 0.1 2.9 0.2 299.1 0.0 26.9 1.9 0.2 0.3 0.1 0.0 0.0 3.2 0.1 0.0 0.0 0.1 0.3 0.7 0.2 2.4 4842.6 [6 ; 0]:  15%|█▌        | 5/33 [14:51<1:11:52, 154.02s/it]"
     ]
    },
    {
     "name": "stdout",
     "output_type": "stream",
     "text": [
      "16.4025 (45, 45, 45, 45) 15\n",
      "7.77384 (4, 10797, 45) 20\n"
     ]
    },
    {
     "name": "stderr",
     "output_type": "stream",
     "text": [
      "[26 / 32] Hs=    0 -525.062328 4501.5 0.1 0.0 0.1 3.3 0.3 308.1 0.0 26.5 1.9 0.2 0.3 0.1 0.0 0.0 3.2 0.1 0.0 0.0 0.2 0.3 0.6 0.2 2.9 4849.9 [6 ; 0]:  15%|█▌        | 5/33 [14:56<1:11:52, 154.02s/it]"
     ]
    },
    {
     "name": "stdout",
     "output_type": "stream",
     "text": [
      "16.4025 (45, 45, 45, 45) 15\n",
      "7.77384 (4, 10797, 45) 20\n"
     ]
    },
    {
     "name": "stderr",
     "output_type": "stream",
     "text": [
      "[27 / 32] Hs=    0 -525.063649 4489.3 0.1 0.0 0.1 4.3 0.3 298.6 0.1 26.7 1.8 0.2 0.3 0.1 0.0 0.0 3.2 0.2 0.0 0.0 0.2 0.3 2.3 0.3 2.8 4831.2 [6 ; 0]:  15%|█▌        | 5/33 [15:00<1:11:52, 154.02s/it]"
     ]
    },
    {
     "name": "stdout",
     "output_type": "stream",
     "text": [
      "16.4025 (45, 45, 45, 45) 15\n",
      "7.77384 (4, 10797, 45) 20\n"
     ]
    },
    {
     "name": "stderr",
     "output_type": "stream",
     "text": [
      "[28 / 32] Hs=    0 -525.057817 4627.7 0.1 0.0 0.1 4.6 0.3 303.5 0.1 27.6 2.2 0.3 0.4 0.1 0.0 0.0 3.0 0.2 0.0 0.0 0.2 0.5 4.2 0.3 3.4 4978.8 [6 ; 0]:  15%|█▌        | 5/33 [15:05<1:11:52, 154.02s/it]"
     ]
    },
    {
     "name": "stdout",
     "output_type": "stream",
     "text": [
      "16.4025 (45, 45, 45, 45) 15\n",
      "7.77384 (4, 10797, 45) 20\n"
     ]
    },
    {
     "name": "stderr",
     "output_type": "stream",
     "text": [
      "[29 / 32] Hs=    0 -525.062537 4424.9 0.0 0.0 0.1 2.9 0.2 310.9 0.0 26.6 1.9 0.2 0.3 0.1 0.0 0.0 3.3 0.1 0.0 0.0 0.2 0.3 0.5 0.1 2.0 4774.6 [6 ; 0]:  15%|█▌        | 5/33 [15:10<1:11:52, 154.02s/it]"
     ]
    },
    {
     "name": "stdout",
     "output_type": "stream",
     "text": [
      "16.4025 (45, 45, 45, 45) 15\n",
      "7.77384 (4, 10797, 45) 20\n"
     ]
    },
    {
     "name": "stderr",
     "output_type": "stream",
     "text": [
      "[30 / 32] Hs=    0 -525.058573 4545.8 0.1 0.0 0.1 3.2 0.3 314.0 0.1 27.2 1.9 0.3 0.3 0.1 0.0 0.0 3.2 0.2 0.0 0.0 0.2 0.3 1.6 0.4 4.4 4903.7 [6 ; 0]:  15%|█▌        | 5/33 [15:15<1:11:52, 154.02s/it]"
     ]
    },
    {
     "name": "stdout",
     "output_type": "stream",
     "text": [
      "16.4025 (45, 45, 45, 45) 15\n",
      "7.77384 (4, 10797, 45) 20\n"
     ]
    },
    {
     "name": "stderr",
     "output_type": "stream",
     "text": [
      "[31 / 32] Hs=    0 -525.058761 4655.7 0.2 0.0 0.1 3.4 0.3 306.2 0.1 26.7 1.9 0.3 0.3 0.1 0.0 0.0 3.6 0.2 0.0 0.0 0.2 0.4 0.8 0.3 3.6 5004.4 [6 ; 0]:  15%|█▌        | 5/33 [15:20<1:11:52, 154.02s/it]"
     ]
    },
    {
     "name": "stdout",
     "output_type": "stream",
     "text": [
      "16.4025 (45, 45, 45, 45) 15\n",
      "7.77384 (4, 10797, 45) 20\n"
     ]
    },
    {
     "name": "stderr",
     "output_type": "stream",
     "text": [
      "[31 / 32] Hs=    0 -525.058761 4655.7 0.2 0.0 0.1 3.4 0.3 306.2 0.1 26.7 1.9 0.3 0.3 0.1 0.0 0.0 3.6 0.2 0.0 0.0 0.2 0.4 0.8 0.3 3.6 5004.4 [6 ; 0]:  18%|█▊        | 6/33 [15:25<1:09:33, 154.59s/it]"
     ]
    },
    {
     "name": "stdout",
     "output_type": "stream",
     "text": [
      "[O=C(C#N)c1nnno1]\n",
      "[conformers] 32\n",
      "16.4025 (45, 45, 45, 45) 15\n",
      "7.77384 (4, 10797, 45) 20\n"
     ]
    },
    {
     "name": "stderr",
     "output_type": "stream",
     "text": [
      "[1 / 32] Hs=    0 -477.017488 4624.0 0.1 0.0 0.2 2.9 0.3 294.9 0.1 26.9 3.1 0.2 0.4 0.2 0.0 0.0 4.0 0.2 0.0 0.0 0.2 0.4 7.2 0.3 2.8 4968.4 [7 ; 0]:  18%|█▊        | 6/33 [15:30<1:09:33, 154.59s/it] "
     ]
    },
    {
     "name": "stdout",
     "output_type": "stream",
     "text": [
      "16.4025 (45, 45, 45, 45) 15\n",
      "7.77384 (4, 10797, 45) 20\n"
     ]
    },
    {
     "name": "stderr",
     "output_type": "stream",
     "text": [
      "[2 / 32] Hs=    0 -477.024467 4645.3 0.1 0.0 0.1 2.7 0.3 304.0 0.4 29.2 2.5 0.6 0.4 0.2 0.0 0.1 3.8 0.2 0.0 0.0 0.2 0.4 0.8 0.3 4.7 4996.3 [7 ; 0]:  18%|█▊        | 6/33 [15:35<1:09:33, 154.59s/it]"
     ]
    },
    {
     "name": "stdout",
     "output_type": "stream",
     "text": [
      "16.4025 (45, 45, 45, 45) 15\n",
      "7.77384 (4, 10797, 45) 20\n"
     ]
    },
    {
     "name": "stderr",
     "output_type": "stream",
     "text": [
      "[3 / 32] Hs=    0 -477.033385 4388.6 0.1 0.0 0.1 3.6 0.3 308.2 0.0 26.7 2.0 0.2 0.3 0.1 0.0 0.0 4.2 0.2 0.0 0.0 0.2 0.4 0.7 0.1 2.5 4738.5 [7 ; 0]:  18%|█▊        | 6/33 [15:40<1:09:33, 154.59s/it]"
     ]
    },
    {
     "name": "stdout",
     "output_type": "stream",
     "text": [
      "16.4025 (45, 45, 45, 45) 15\n",
      "7.77384 (4, 10797, 45) 20\n"
     ]
    },
    {
     "name": "stderr",
     "output_type": "stream",
     "text": [
      "[4 / 32] Hs=    0 -477.022269 4361.4 0.0 0.0 0.1 2.4 0.2 297.7 0.0 26.2 1.8 0.2 0.3 0.1 0.0 0.0 3.2 0.1 0.0 0.0 0.2 0.3 0.7 0.2 2.4 4697.5 [7 ; 0]:  18%|█▊        | 6/33 [15:44<1:09:33, 154.59s/it]"
     ]
    },
    {
     "name": "stdout",
     "output_type": "stream",
     "text": [
      "16.4025 (45, 45, 45, 45) 15\n",
      "7.77384 (4, 10797, 45) 20\n"
     ]
    },
    {
     "name": "stderr",
     "output_type": "stream",
     "text": [
      "[5 / 32] Hs=    0 -477.017419 4502.2 0.0 0.0 0.1 2.4 0.2 293.0 0.0 27.4 1.8 0.2 0.3 0.1 0.0 0.0 3.2 0.1 0.0 0.0 0.2 0.3 0.5 0.1 2.0 4834.1 [7 ; 0]:  18%|█▊        | 6/33 [15:49<1:09:33, 154.59s/it]"
     ]
    },
    {
     "name": "stdout",
     "output_type": "stream",
     "text": [
      "16.4025 (45, 45, 45, 45) 15\n",
      "7.77384 (4, 10797, 45) 20\n"
     ]
    },
    {
     "name": "stderr",
     "output_type": "stream",
     "text": [
      "[6 / 32] Hs=    0 -477.024951 4448.1 0.1 0.0 0.1 2.7 0.3 298.3 0.1 27.1 2.6 0.3 0.3 0.1 0.0 0.0 3.2 0.2 0.0 0.0 0.2 0.4 0.6 0.2 3.6 4788.5 [7 ; 0]:  18%|█▊        | 6/33 [15:54<1:09:33, 154.59s/it]"
     ]
    },
    {
     "name": "stdout",
     "output_type": "stream",
     "text": [
      "16.4025 (45, 45, 45, 45) 15\n",
      "7.77384 (4, 10797, 45) 20\n"
     ]
    },
    {
     "name": "stderr",
     "output_type": "stream",
     "text": [
      "[7 / 32] Hs=    0 -477.020488 4464.9 0.0 0.0 0.1 2.3 0.2 299.9 0.1 26.9 2.1 0.2 0.3 0.1 0.0 0.0 3.2 0.1 0.0 0.0 0.2 0.3 0.6 0.2 2.0 4803.7 [7 ; 0]:  18%|█▊        | 6/33 [15:59<1:09:33, 154.59s/it]"
     ]
    },
    {
     "name": "stdout",
     "output_type": "stream",
     "text": [
      "16.4025 (45, 45, 45, 45) 15\n",
      "7.77384 (4, 10797, 45) 20\n"
     ]
    },
    {
     "name": "stderr",
     "output_type": "stream",
     "text": [
      "[8 / 32] Hs=    0 -477.022956 4591.4 0.0 0.0 0.1 2.3 0.2 315.3 0.0 26.1 1.8 0.2 0.3 0.1 0.0 0.0 3.0 0.1 0.0 0.0 0.2 0.3 0.6 0.2 2.0 4944.2 [7 ; 0]:  18%|█▊        | 6/33 [16:04<1:09:33, 154.59s/it]"
     ]
    },
    {
     "name": "stdout",
     "output_type": "stream",
     "text": [
      "16.4025 (45, 45, 45, 45) 15\n",
      "7.77384 (4, 10797, 45) 20\n"
     ]
    },
    {
     "name": "stderr",
     "output_type": "stream",
     "text": [
      "[9 / 32] Hs=    0 -477.017355 4438.8 0.1 0.0 0.1 3.5 0.3 285.3 0.1 26.9 2.1 0.2 0.3 0.1 0.0 0.0 3.2 0.1 0.0 0.0 0.2 0.4 2.2 0.4 4.8 4769.1 [7 ; 0]:  18%|█▊        | 6/33 [16:09<1:09:33, 154.59s/it]"
     ]
    },
    {
     "name": "stdout",
     "output_type": "stream",
     "text": [
      "16.4025 (45, 45, 45, 45) 15\n",
      "7.77384 (4, 10797, 45) 20\n"
     ]
    },
    {
     "name": "stderr",
     "output_type": "stream",
     "text": [
      "[10 / 32] Hs=    0 -477.013006 4383.0 0.1 0.0 0.1 2.3 0.2 293.2 0.1 27.4 1.8 0.2 0.3 0.1 0.0 0.0 3.1 0.1 0.0 0.0 0.2 0.3 0.6 0.1 1.9 4715.1 [7 ; 0]:  18%|█▊        | 6/33 [16:13<1:09:33, 154.59s/it]"
     ]
    },
    {
     "name": "stdout",
     "output_type": "stream",
     "text": [
      "16.4025 (45, 45, 45, 45) 15\n",
      "7.77384 (4, 10797, 45) 20\n"
     ]
    },
    {
     "name": "stderr",
     "output_type": "stream",
     "text": [
      "[11 / 32] Hs=    0 -477.015251 4446.9 0.0 0.0 0.1 3.0 0.2 291.2 0.0 26.2 1.8 0.2 0.3 0.1 0.0 0.0 3.0 0.1 0.0 0.0 0.2 0.3 0.6 0.1 2.1 4776.4 [7 ; 0]:  18%|█▊        | 6/33 [16:18<1:09:33, 154.59s/it]"
     ]
    },
    {
     "name": "stdout",
     "output_type": "stream",
     "text": [
      "16.4025 (45, 45, 45, 45) 15\n",
      "7.77384 (4, 10797, 45) 20\n"
     ]
    },
    {
     "name": "stderr",
     "output_type": "stream",
     "text": [
      "[12 / 32] Hs=    0 -477.014492 4507.5 0.0 0.0 0.1 2.3 0.2 292.6 0.0 27.1 2.1 0.3 1.3 0.2 0.0 0.0 3.7 0.2 0.0 0.0 0.2 0.4 0.7 0.2 2.4 4841.5 [7 ; 0]:  18%|█▊        | 6/33 [16:23<1:09:33, 154.59s/it]"
     ]
    },
    {
     "name": "stdout",
     "output_type": "stream",
     "text": [
      "16.4025 (45, 45, 45, 45) 15\n",
      "7.77384 (4, 10797, 45) 20\n"
     ]
    },
    {
     "name": "stderr",
     "output_type": "stream",
     "text": [
      "[13 / 32] Hs=    0 -477.020144 4436.6 0.0 0.0 0.1 2.4 0.2 301.0 0.0 26.6 1.9 0.2 0.3 0.1 0.0 0.0 3.1 0.2 0.0 0.0 0.2 0.3 0.6 0.1 2.1 4776.0 [7 ; 0]:  18%|█▊        | 6/33 [16:28<1:09:33, 154.59s/it]"
     ]
    },
    {
     "name": "stdout",
     "output_type": "stream",
     "text": [
      "16.4025 (45, 45, 45, 45) 15\n",
      "7.77384 (4, 10797, 45) 20\n"
     ]
    },
    {
     "name": "stderr",
     "output_type": "stream",
     "text": [
      "[14 / 32] Hs=    0 -477.013464 4397.2 0.0 0.0 0.1 2.3 0.2 284.7 0.0 26.3 2.0 0.2 0.3 0.1 0.0 0.0 2.9 0.1 0.0 0.0 0.2 0.3 1.3 0.2 1.9 4720.3 [7 ; 0]:  18%|█▊        | 6/33 [16:32<1:09:33, 154.59s/it]"
     ]
    },
    {
     "name": "stdout",
     "output_type": "stream",
     "text": [
      "16.4025 (45, 45, 45, 45) 15\n",
      "7.77384 (4, 10797, 45) 20\n"
     ]
    },
    {
     "name": "stderr",
     "output_type": "stream",
     "text": [
      "[15 / 32] Hs=    0 -477.016986 4600.6 0.1 0.0 0.1 3.2 0.3 303.9 0.1 26.7 2.1 0.2 0.3 0.1 0.0 0.0 3.0 0.2 0.0 0.0 0.2 0.3 0.6 0.2 4.3 4946.5 [7 ; 0]:  18%|█▊        | 6/33 [16:37<1:09:33, 154.59s/it]"
     ]
    },
    {
     "name": "stdout",
     "output_type": "stream",
     "text": [
      "16.4025 (45, 45, 45, 45) 15\n",
      "7.77384 (4, 10797, 45) 20\n"
     ]
    },
    {
     "name": "stderr",
     "output_type": "stream",
     "text": [
      "[16 / 32] Hs=    0 -477.009920 4516.0 0.0 0.1 0.1 2.3 0.2 309.4 0.0 26.2 1.8 0.2 0.3 0.1 0.0 0.0 3.1 0.1 0.0 0.0 0.2 0.3 0.7 0.2 2.5 4863.8 [7 ; 0]:  18%|█▊        | 6/33 [16:42<1:09:33, 154.59s/it]"
     ]
    },
    {
     "name": "stdout",
     "output_type": "stream",
     "text": [
      "16.4025 (45, 45, 45, 45) 15\n",
      "7.77384 (4, 10797, 45) 20\n"
     ]
    },
    {
     "name": "stderr",
     "output_type": "stream",
     "text": [
      "[17 / 32] Hs=    0 -477.028497 4416.0 0.0 0.0 0.1 3.0 0.2 288.9 0.0 26.4 2.0 0.2 0.3 0.1 0.0 0.0 3.0 0.1 0.0 0.0 0.2 0.3 0.6 0.1 2.0 4743.5 [7 ; 0]:  18%|█▊        | 6/33 [16:47<1:09:33, 154.59s/it]"
     ]
    },
    {
     "name": "stdout",
     "output_type": "stream",
     "text": [
      "16.4025 (45, 45, 45, 45) 15\n",
      "7.77384 (4, 10797, 45) 20\n"
     ]
    },
    {
     "name": "stderr",
     "output_type": "stream",
     "text": [
      "[18 / 32] Hs=    0 -477.019372 4467.1 0.0 0.0 0.1 2.4 0.2 298.4 0.0 26.3 2.0 0.2 0.3 0.1 0.0 0.0 3.1 0.1 0.0 0.0 0.2 0.3 0.6 0.1 1.9 4803.4 [7 ; 0]:  18%|█▊        | 6/33 [16:52<1:09:33, 154.59s/it]"
     ]
    },
    {
     "name": "stdout",
     "output_type": "stream",
     "text": [
      "16.4025 (45, 45, 45, 45) 15\n",
      "7.77384 (4, 10797, 45) 20\n"
     ]
    },
    {
     "name": "stderr",
     "output_type": "stream",
     "text": [
      "[19 / 32] Hs=    0 -477.010838 4365.9 0.0 0.0 0.1 2.3 0.2 290.9 0.0 26.3 2.0 0.2 0.3 0.1 0.0 0.0 3.2 0.1 0.0 0.0 0.2 0.3 0.6 0.1 1.9 4694.7 [7 ; 0]:  18%|█▊        | 6/33 [16:56<1:09:33, 154.59s/it]"
     ]
    },
    {
     "name": "stdout",
     "output_type": "stream",
     "text": [
      "16.4025 (45, 45, 45, 45) 15\n",
      "7.77384 (4, 10797, 45) 20\n"
     ]
    },
    {
     "name": "stderr",
     "output_type": "stream",
     "text": [
      "[20 / 32] Hs=    0 -477.013864 4413.5 0.1 0.0 0.1 3.2 0.2 292.1 0.1 26.2 1.9 0.4 0.3 0.1 0.0 0.0 3.2 0.1 0.0 0.0 0.2 0.3 0.6 0.2 2.1 4744.9 [7 ; 0]:  18%|█▊        | 6/33 [17:01<1:09:33, 154.59s/it]"
     ]
    },
    {
     "name": "stdout",
     "output_type": "stream",
     "text": [
      "16.4025 (45, 45, 45, 45) 15\n",
      "7.77384 (4, 10797, 45) 20\n"
     ]
    },
    {
     "name": "stderr",
     "output_type": "stream",
     "text": [
      "[21 / 32] Hs=    0 -477.031249 4495.3 0.1 0.0 0.1 2.8 0.3 294.0 0.1 26.7 2.8 0.2 0.3 0.1 0.0 0.1 3.2 0.1 0.0 0.0 1.9 0.4 2.1 0.3 3.8 4834.7 [7 ; 0]:  18%|█▊        | 6/33 [17:06<1:09:33, 154.59s/it]"
     ]
    },
    {
     "name": "stdout",
     "output_type": "stream",
     "text": [
      "16.4025 (45, 45, 45, 45) 15\n",
      "7.77384 (4, 10797, 45) 20\n"
     ]
    },
    {
     "name": "stderr",
     "output_type": "stream",
     "text": [
      "[22 / 32] Hs=    0 -477.011953 4514.9 0.0 0.0 0.1 2.8 0.2 298.9 0.0 32.1 2.1 0.2 0.3 0.1 0.0 0.0 3.2 0.2 0.0 0.0 0.1 0.3 0.5 0.1 2.4 4858.5 [7 ; 0]:  18%|█▊        | 6/33 [17:11<1:09:33, 154.59s/it]"
     ]
    },
    {
     "name": "stdout",
     "output_type": "stream",
     "text": [
      "16.4025 (45, 45, 45, 45) 15\n",
      "7.77384 (4, 10797, 45) 20\n"
     ]
    },
    {
     "name": "stderr",
     "output_type": "stream",
     "text": [
      "[23 / 32] Hs=    0 -477.021797 4466.4 0.0 0.0 0.1 3.0 0.3 285.3 0.0 26.3 1.9 0.2 0.3 0.1 0.0 0.0 3.0 0.1 0.0 0.0 0.1 0.3 0.5 0.1 2.0 4790.0 [7 ; 0]:  18%|█▊        | 6/33 [17:16<1:09:33, 154.59s/it]"
     ]
    },
    {
     "name": "stdout",
     "output_type": "stream",
     "text": [
      "16.4025 (45, 45, 45, 45) 15\n",
      "7.77384 (4, 10797, 45) 20\n"
     ]
    },
    {
     "name": "stderr",
     "output_type": "stream",
     "text": [
      "[24 / 32] Hs=    0 -477.021765 4449.8 0.0 0.0 0.1 2.6 0.2 284.6 0.6 33.1 2.7 0.9 0.3 0.1 0.0 0.0 3.1 0.2 0.0 0.0 1.1 0.4 0.6 0.2 3.8 4784.4 [7 ; 0]:  18%|█▊        | 6/33 [17:20<1:09:33, 154.59s/it]"
     ]
    },
    {
     "name": "stdout",
     "output_type": "stream",
     "text": [
      "16.4025 (45, 45, 45, 45) 15\n",
      "7.77384 (4, 10797, 45) 20\n"
     ]
    },
    {
     "name": "stderr",
     "output_type": "stream",
     "text": [
      "[25 / 32] Hs=    0 -477.015764 4525.1 0.0 0.0 0.1 2.4 0.2 302.7 0.0 26.4 7.0 0.3 0.7 0.1 0.0 0.0 3.0 0.1 0.0 0.0 0.2 0.4 0.5 0.1 2.0 4871.3 [7 ; 0]:  18%|█▊        | 6/33 [17:25<1:09:33, 154.59s/it]"
     ]
    },
    {
     "name": "stdout",
     "output_type": "stream",
     "text": [
      "16.4025 (45, 45, 45, 45) 15\n",
      "7.77384 (4, 10797, 45) 20\n"
     ]
    },
    {
     "name": "stderr",
     "output_type": "stream",
     "text": [
      "[26 / 32] Hs=    0 -477.027030 4453.5 0.1 0.0 0.1 3.5 0.4 293.3 0.1 27.0 2.4 0.2 0.3 0.1 0.0 0.0 3.1 0.2 0.0 0.0 0.2 0.3 0.6 0.2 2.9 4788.5 [7 ; 0]:  18%|█▊        | 6/33 [17:30<1:09:33, 154.59s/it]"
     ]
    },
    {
     "name": "stdout",
     "output_type": "stream",
     "text": [
      "16.4025 (45, 45, 45, 45) 15\n",
      "7.77384 (4, 10797, 45) 20\n"
     ]
    },
    {
     "name": "stderr",
     "output_type": "stream",
     "text": [
      "[27 / 32] Hs=    0 -477.019403 4457.5 0.1 0.0 0.1 3.8 0.3 287.2 0.2 27.2 2.0 0.3 0.3 0.1 0.0 0.0 3.4 0.2 0.0 0.0 0.2 0.4 2.1 0.5 6.8 4792.7 [7 ; 0]:  18%|█▊        | 6/33 [17:35<1:09:33, 154.59s/it]"
     ]
    },
    {
     "name": "stdout",
     "output_type": "stream",
     "text": [
      "16.4025 (45, 45, 45, 45) 15\n",
      "7.77384 (4, 10797, 45) 20\n"
     ]
    },
    {
     "name": "stderr",
     "output_type": "stream",
     "text": [
      "[28 / 32] Hs=    0 -477.025983 4454.3 0.0 0.0 0.1 2.6 0.2 294.7 0.0 26.4 2.2 0.2 0.3 0.1 0.0 0.0 3.0 0.1 0.0 0.0 0.1 0.3 2.1 0.2 2.6 4789.5 [7 ; 0]:  18%|█▊        | 6/33 [17:40<1:09:33, 154.59s/it]"
     ]
    },
    {
     "name": "stdout",
     "output_type": "stream",
     "text": [
      "16.4025 (45, 45, 45, 45) 15\n",
      "7.77384 (4, 10797, 45) 20\n"
     ]
    },
    {
     "name": "stderr",
     "output_type": "stream",
     "text": [
      "[29 / 32] Hs=    0 -477.019298 4417.6 0.0 0.0 0.1 2.3 0.2 295.9 0.0 26.2 1.8 0.2 0.3 0.1 0.0 0.0 3.1 0.1 0.0 0.0 0.2 0.3 0.5 0.1 1.9 4750.9 [7 ; 0]:  18%|█▊        | 6/33 [17:44<1:09:33, 154.59s/it]"
     ]
    },
    {
     "name": "stdout",
     "output_type": "stream",
     "text": [
      "16.4025 (45, 45, 45, 45) 15\n",
      "7.77384 (4, 10797, 45) 20\n"
     ]
    },
    {
     "name": "stderr",
     "output_type": "stream",
     "text": [
      "[30 / 32] Hs=    0 -477.018250 4533.0 0.1 0.0 0.1 2.8 0.3 306.1 0.1 26.5 2.0 0.2 0.3 0.1 0.0 0.0 2.9 0.2 0.0 0.0 0.2 0.3 0.8 0.3 3.9 4880.2 [7 ; 0]:  18%|█▊        | 6/33 [17:49<1:09:33, 154.59s/it]"
     ]
    },
    {
     "name": "stdout",
     "output_type": "stream",
     "text": [
      "16.4025 (45, 45, 45, 45) 15\n",
      "7.77384 (4, 10797, 45) 20\n"
     ]
    },
    {
     "name": "stderr",
     "output_type": "stream",
     "text": [
      "[31 / 32] Hs=    0 -477.019691 4573.5 0.0 0.0 0.1 2.4 0.3 305.5 0.1 26.7 1.9 0.2 0.3 0.1 0.0 0.0 3.1 0.2 0.0 0.0 0.2 0.4 3.0 0.5 6.3 4924.8 [7 ; 0]:  18%|█▊        | 6/33 [17:54<1:09:33, 154.59s/it]"
     ]
    },
    {
     "name": "stdout",
     "output_type": "stream",
     "text": [
      "16.4025 (45, 45, 45, 45) 15\n",
      "7.77384 (4, 10797, 45) 20\n"
     ]
    },
    {
     "name": "stderr",
     "output_type": "stream",
     "text": [
      "[31 / 32] Hs=    0 -477.019691 4573.5 0.0 0.0 0.1 2.4 0.3 305.5 0.1 26.7 1.9 0.2 0.3 0.1 0.0 0.0 3.1 0.2 0.0 0.0 0.2 0.4 3.0 0.5 6.3 4924.8 [7 ; 0]:  21%|██        | 7/33 [17:59<1:06:57, 154.51s/it]"
     ]
    },
    {
     "name": "stdout",
     "output_type": "stream",
     "text": [
      "[Fc1onc2nnoc12]\n",
      "[conformers] 32\n",
      "16.4025 (45, 45, 45, 45) 15\n",
      "7.77384 (4, 10797, 45) 20\n"
     ]
    },
    {
     "name": "stderr",
     "output_type": "stream",
     "text": [
      "[1 / 32] Hs=    0 -521.343061 4607.1 0.1 0.0 0.1 4.2 0.3 312.9 0.1 27.6 2.1 0.3 0.3 0.1 0.0 0.0 3.4 0.2 0.0 0.0 0.2 0.3 2.7 0.3 3.8 4966.1 [8 ; 0]:  21%|██        | 7/33 [18:04<1:06:57, 154.51s/it] "
     ]
    },
    {
     "name": "stdout",
     "output_type": "stream",
     "text": [
      "16.4025 (45, 45, 45, 45) 15\n",
      "7.77384 (4, 10797, 45) 20\n"
     ]
    },
    {
     "name": "stderr",
     "output_type": "stream",
     "text": [
      "[2 / 32] Hs=    0 -521.343276 4436.7 0.1 0.0 0.1 3.2 0.3 304.2 0.3 28.7 4.3 0.3 0.3 0.1 0.0 0.1 3.7 0.3 0.0 0.0 0.2 0.5 3.1 0.8 8.8 4796.1 [8 ; 0]:  21%|██        | 7/33 [18:09<1:06:57, 154.51s/it]"
     ]
    },
    {
     "name": "stdout",
     "output_type": "stream",
     "text": [
      "16.4025 (45, 45, 45, 45) 15\n",
      "7.77384 (4, 10797, 45) 20\n"
     ]
    },
    {
     "name": "stderr",
     "output_type": "stream",
     "text": [
      "[3 / 32] Hs=    0 -521.334719 4662.5 0.1 0.0 0.1 3.6 0.3 307.4 0.1 27.4 2.1 0.2 0.3 0.1 0.0 0.0 3.3 0.2 0.0 0.0 0.2 0.3 1.5 0.2 3.9 5013.8 [8 ; 0]:  21%|██        | 7/33 [18:14<1:06:57, 154.51s/it]"
     ]
    },
    {
     "name": "stdout",
     "output_type": "stream",
     "text": [
      "16.4025 (45, 45, 45, 45) 15\n",
      "7.77384 (4, 10797, 45) 20\n"
     ]
    },
    {
     "name": "stderr",
     "output_type": "stream",
     "text": [
      "[4 / 32] Hs=    0 -521.350247 4492.4 0.0 0.0 0.1 3.0 0.2 314.2 0.0 27.3 2.2 0.2 0.3 0.1 0.0 0.0 3.1 0.1 0.0 0.0 0.2 0.3 0.6 0.2 2.2 4846.7 [8 ; 0]:  21%|██        | 7/33 [18:19<1:06:57, 154.51s/it]"
     ]
    },
    {
     "name": "stdout",
     "output_type": "stream",
     "text": [
      "16.4025 (45, 45, 45, 45) 15\n",
      "7.77384 (4, 10797, 45) 20\n"
     ]
    },
    {
     "name": "stderr",
     "output_type": "stream",
     "text": [
      "[5 / 32] Hs=    0 -521.345482 4431.2 0.1 0.0 0.1 3.4 0.3 312.6 0.1 27.4 2.1 0.3 0.3 0.1 0.0 0.0 3.1 0.2 0.0 0.0 0.2 0.4 2.6 0.5 6.2 4791.2 [8 ; 0]:  21%|██        | 7/33 [18:24<1:06:57, 154.51s/it]"
     ]
    },
    {
     "name": "stdout",
     "output_type": "stream",
     "text": [
      "16.4025 (45, 45, 45, 45) 15\n",
      "7.77384 (4, 10797, 45) 20\n"
     ]
    },
    {
     "name": "stderr",
     "output_type": "stream",
     "text": [
      "[6 / 32] Hs=    0 -521.332952 4606.3 0.1 0.0 0.1 3.3 0.3 316.2 0.1 27.0 2.1 0.2 0.3 0.1 0.0 0.0 3.3 0.2 0.0 0.0 0.2 0.3 2.0 0.3 2.9 4965.3 [8 ; 0]:  21%|██        | 7/33 [18:29<1:06:57, 154.51s/it]"
     ]
    },
    {
     "name": "stdout",
     "output_type": "stream",
     "text": [
      "16.4025 (45, 45, 45, 45) 15\n",
      "7.77384 (4, 10797, 45) 20\n"
     ]
    },
    {
     "name": "stderr",
     "output_type": "stream",
     "text": [
      "[7 / 32] Hs=    0 -521.337695 4494.3 0.0 0.0 0.1 3.1 0.2 317.9 0.1 27.7 2.0 0.2 0.3 0.1 0.0 0.0 3.0 0.1 0.0 0.0 0.2 0.3 0.6 0.2 2.9 4853.3 [8 ; 0]:  21%|██        | 7/33 [18:34<1:06:57, 154.51s/it]"
     ]
    },
    {
     "name": "stdout",
     "output_type": "stream",
     "text": [
      "16.4025 (45, 45, 45, 45) 15\n",
      "7.77384 (4, 10797, 45) 20\n"
     ]
    },
    {
     "name": "stderr",
     "output_type": "stream",
     "text": [
      "[8 / 32] Hs=    0 -521.320130 4424.9 0.1 0.0 0.1 3.3 0.3 316.2 0.1 29.4 2.3 0.3 0.3 0.1 0.0 0.0 4.0 0.2 0.0 0.0 0.3 0.5 1.0 0.5 6.5 4790.4 [8 ; 0]:  21%|██        | 7/33 [18:38<1:06:57, 154.51s/it]"
     ]
    },
    {
     "name": "stdout",
     "output_type": "stream",
     "text": [
      "16.4025 (45, 45, 45, 45) 15\n",
      "7.77384 (4, 10797, 45) 20\n"
     ]
    },
    {
     "name": "stderr",
     "output_type": "stream",
     "text": [
      "[9 / 32] Hs=    0 -521.344176 4574.5 0.0 0.0 0.1 3.2 0.2 325.4 0.1 28.5 2.0 0.2 0.3 0.1 0.0 0.0 3.5 0.2 0.0 0.0 0.2 0.3 0.6 0.2 1.9 4941.5 [8 ; 0]:  21%|██        | 7/33 [18:43<1:06:57, 154.51s/it]"
     ]
    },
    {
     "name": "stdout",
     "output_type": "stream",
     "text": [
      "16.4025 (45, 45, 45, 45) 15\n",
      "7.77384 (4, 10797, 45) 20\n"
     ]
    },
    {
     "name": "stderr",
     "output_type": "stream",
     "text": [
      "[10 / 32] Hs=    0 -521.340819 4461.3 0.0 0.0 0.1 2.8 0.2 322.9 0.0 26.4 1.8 0.2 0.3 0.1 0.0 0.0 3.2 0.1 0.0 0.0 0.2 0.3 0.6 0.1 2.1 4822.7 [8 ; 0]:  21%|██        | 7/33 [18:48<1:06:57, 154.51s/it]"
     ]
    },
    {
     "name": "stdout",
     "output_type": "stream",
     "text": [
      "16.4025 (45, 45, 45, 45) 15\n",
      "7.77384 (4, 10797, 45) 20\n"
     ]
    },
    {
     "name": "stderr",
     "output_type": "stream",
     "text": [
      "[11 / 32] Hs=    0 -521.342372 4496.2 0.0 0.0 0.1 2.9 0.2 319.1 0.0 26.8 3.9 0.2 0.3 0.1 0.0 0.0 3.1 0.2 0.0 0.0 0.2 0.3 3.9 0.2 2.3 4860.0 [8 ; 0]:  21%|██        | 7/33 [18:53<1:06:57, 154.51s/it]"
     ]
    },
    {
     "name": "stdout",
     "output_type": "stream",
     "text": [
      "16.4025 (45, 45, 45, 45) 15\n",
      "7.77384 (4, 10797, 45) 20\n"
     ]
    },
    {
     "name": "stderr",
     "output_type": "stream",
     "text": [
      "[12 / 32] Hs=    0 -521.324063 4520.1 0.0 0.0 0.1 2.8 0.2 324.0 0.0 26.5 1.8 0.2 0.3 0.1 0.0 0.0 3.0 0.1 0.0 0.0 0.2 0.3 0.5 0.1 2.0 4882.3 [8 ; 0]:  21%|██        | 7/33 [18:58<1:06:57, 154.51s/it]"
     ]
    },
    {
     "name": "stdout",
     "output_type": "stream",
     "text": [
      "16.4025 (45, 45, 45, 45) 15\n",
      "7.77384 (4, 10797, 45) 20\n"
     ]
    },
    {
     "name": "stderr",
     "output_type": "stream",
     "text": [
      "[13 / 32] Hs=    0 -521.332026 4418.1 0.0 0.1 0.1 3.0 0.2 314.7 0.0 26.9 1.8 0.2 0.3 0.1 0.0 0.0 3.0 0.1 0.0 0.0 0.2 0.3 0.6 0.1 2.1 4771.9 [8 ; 0]:  21%|██        | 7/33 [19:03<1:06:57, 154.51s/it]"
     ]
    },
    {
     "name": "stdout",
     "output_type": "stream",
     "text": [
      "16.4025 (45, 45, 45, 45) 15\n",
      "7.77384 (4, 10797, 45) 20\n"
     ]
    },
    {
     "name": "stderr",
     "output_type": "stream",
     "text": [
      "[14 / 32] Hs=    0 -521.336155 4461.5 0.1 0.0 0.1 3.4 0.3 339.2 0.1 27.5 1.9 0.3 0.3 0.1 0.0 0.0 3.1 0.2 0.0 0.0 0.2 0.4 0.7 0.3 3.6 4843.3 [8 ; 0]:  21%|██        | 7/33 [19:08<1:06:57, 154.51s/it]"
     ]
    },
    {
     "name": "stdout",
     "output_type": "stream",
     "text": [
      "16.4025 (45, 45, 45, 45) 15\n",
      "7.77384 (4, 10797, 45) 20\n"
     ]
    },
    {
     "name": "stderr",
     "output_type": "stream",
     "text": [
      "[15 / 32] Hs=    0 -521.332573 4493.6 0.1 0.0 0.1 3.4 0.3 318.5 0.1 27.2 2.1 0.2 0.3 0.1 0.0 0.0 3.1 0.2 0.0 0.0 0.2 0.4 0.6 0.2 2.9 4853.6 [8 ; 0]:  21%|██        | 7/33 [19:12<1:06:57, 154.51s/it]"
     ]
    },
    {
     "name": "stdout",
     "output_type": "stream",
     "text": [
      "16.4025 (45, 45, 45, 45) 15\n",
      "7.77384 (4, 10797, 45) 20\n"
     ]
    },
    {
     "name": "stderr",
     "output_type": "stream",
     "text": [
      "[16 / 32] Hs=    0 -521.335573 4538.7 0.0 0.0 0.1 2.9 0.2 312.7 0.1 26.6 2.0 0.2 0.3 0.1 0.0 0.0 3.0 0.2 0.0 0.0 0.2 0.3 0.7 0.2 2.4 4890.9 [8 ; 0]:  21%|██        | 7/33 [19:17<1:06:57, 154.51s/it]"
     ]
    },
    {
     "name": "stdout",
     "output_type": "stream",
     "text": [
      "16.4025 (45, 45, 45, 45) 15\n",
      "7.77384 (4, 10797, 45) 20\n"
     ]
    },
    {
     "name": "stderr",
     "output_type": "stream",
     "text": [
      "[17 / 32] Hs=    0 -521.338069 4382.9 0.2 0.0 0.1 3.3 0.3 303.1 0.1 26.8 2.4 0.2 0.3 0.1 0.0 0.0 3.0 0.2 0.0 0.0 0.2 0.3 0.7 0.2 3.6 4728.0 [8 ; 0]:  21%|██        | 7/33 [19:22<1:06:57, 154.51s/it]"
     ]
    },
    {
     "name": "stdout",
     "output_type": "stream",
     "text": [
      "16.4025 (45, 45, 45, 45) 15\n",
      "7.77384 (4, 10797, 45) 20\n"
     ]
    },
    {
     "name": "stderr",
     "output_type": "stream",
     "text": [
      "[18 / 32] Hs=    0 -521.343853 4549.5 0.1 0.0 0.1 3.2 0.3 323.6 0.1 27.1 1.9 0.3 0.3 0.1 0.0 0.0 3.0 0.2 0.0 0.0 0.2 0.4 0.8 0.4 6.0 4917.6 [8 ; 0]:  21%|██        | 7/33 [19:27<1:06:57, 154.51s/it]"
     ]
    },
    {
     "name": "stdout",
     "output_type": "stream",
     "text": [
      "16.4025 (45, 45, 45, 45) 15\n",
      "7.77384 (4, 10797, 45) 20\n"
     ]
    },
    {
     "name": "stderr",
     "output_type": "stream",
     "text": [
      "[19 / 32] Hs=    0 -521.349090 4479.7 0.0 0.0 0.1 2.9 0.2 321.5 0.0 26.5 1.9 0.2 0.3 0.1 0.0 0.0 3.2 0.1 0.0 0.0 0.2 0.3 0.6 0.1 1.9 4839.8 [8 ; 0]:  21%|██        | 7/33 [19:32<1:06:57, 154.51s/it]"
     ]
    },
    {
     "name": "stdout",
     "output_type": "stream",
     "text": [
      "16.4025 (45, 45, 45, 45) 15\n",
      "7.77384 (4, 10797, 45) 20\n"
     ]
    },
    {
     "name": "stderr",
     "output_type": "stream",
     "text": [
      "[20 / 32] Hs=    0 -521.347770 4382.0 0.0 0.0 0.1 2.9 0.2 308.8 0.1 28.9 2.4 0.2 0.3 0.1 0.0 0.0 4.1 0.2 0.0 0.0 0.2 0.4 0.7 0.1 2.2 4733.9 [8 ; 0]:  21%|██        | 7/33 [19:37<1:06:57, 154.51s/it]"
     ]
    },
    {
     "name": "stdout",
     "output_type": "stream",
     "text": [
      "16.4025 (45, 45, 45, 45) 15\n",
      "7.77384 (4, 10797, 45) 20\n"
     ]
    },
    {
     "name": "stderr",
     "output_type": "stream",
     "text": [
      "[21 / 32] Hs=    0 -521.341191 4396.6 0.1 0.0 0.1 3.1 0.2 321.4 0.1 28.5 2.5 0.2 0.3 0.1 0.0 0.0 3.8 0.2 0.0 0.0 0.2 0.3 0.7 0.2 2.6 4761.2 [8 ; 0]:  21%|██        | 7/33 [19:41<1:06:57, 154.51s/it]"
     ]
    },
    {
     "name": "stdout",
     "output_type": "stream",
     "text": [
      "16.4025 (45, 45, 45, 45) 15\n",
      "7.77384 (4, 10797, 45) 20\n"
     ]
    },
    {
     "name": "stderr",
     "output_type": "stream",
     "text": [
      "[22 / 32] Hs=    0 -521.337823 4660.9 0.1 0.0 0.1 3.7 0.3 327.9 0.2 27.4 2.1 0.3 0.3 0.1 0.0 0.0 3.6 0.3 0.0 0.0 0.2 0.4 1.3 0.5 15.7 5045.4 [8 ; 0]:  21%|██        | 7/33 [19:46<1:06:57, 154.51s/it]"
     ]
    },
    {
     "name": "stdout",
     "output_type": "stream",
     "text": [
      "16.4025 (45, 45, 45, 45) 15\n",
      "7.77384 (4, 10797, 45) 20\n"
     ]
    },
    {
     "name": "stderr",
     "output_type": "stream",
     "text": [
      "[23 / 32] Hs=    0 -521.330654 4399.4 0.0 0.0 0.1 3.0 0.2 317.6 0.0 27.5 1.8 0.2 0.3 0.1 0.0 0.0 3.1 0.1 0.0 0.0 0.1 0.3 0.6 0.2 2.0 4756.6 [8 ; 0]:  21%|██        | 7/33 [19:51<1:06:57, 154.51s/it] "
     ]
    },
    {
     "name": "stdout",
     "output_type": "stream",
     "text": [
      "16.4025 (45, 45, 45, 45) 15\n",
      "7.77384 (4, 10797, 45) 20\n"
     ]
    },
    {
     "name": "stderr",
     "output_type": "stream",
     "text": [
      "[24 / 32] Hs=    0 -521.344643 4436.7 0.1 0.0 0.1 3.3 0.3 307.6 0.1 26.6 1.9 0.2 0.3 0.1 0.0 0.0 3.1 0.2 0.0 0.0 0.2 0.4 0.6 0.4 6.0 4788.2 [8 ; 0]:  21%|██        | 7/33 [19:56<1:06:57, 154.51s/it]"
     ]
    },
    {
     "name": "stdout",
     "output_type": "stream",
     "text": [
      "16.4025 (45, 45, 45, 45) 15\n",
      "7.77384 (4, 10797, 45) 20\n"
     ]
    },
    {
     "name": "stderr",
     "output_type": "stream",
     "text": [
      "[25 / 32] Hs=    0 -521.349002 4454.6 0.1 0.0 0.1 3.4 0.3 310.2 0.1 26.6 2.1 0.2 0.3 0.1 0.0 0.0 3.2 0.2 0.0 0.0 0.2 0.3 0.7 0.2 3.6 4806.5 [8 ; 0]:  21%|██        | 7/33 [20:01<1:06:57, 154.51s/it]"
     ]
    },
    {
     "name": "stdout",
     "output_type": "stream",
     "text": [
      "16.4025 (45, 45, 45, 45) 15\n",
      "7.77384 (4, 10797, 45) 20\n"
     ]
    },
    {
     "name": "stderr",
     "output_type": "stream",
     "text": [
      "[26 / 32] Hs=    0 -521.332820 4644.0 0.0 0.0 0.1 3.0 0.2 320.2 0.0 26.6 1.9 0.2 0.3 0.1 0.0 0.0 3.1 0.1 0.0 0.0 0.2 0.3 0.6 0.1 2.2 5003.2 [8 ; 0]:  21%|██        | 7/33 [20:06<1:06:57, 154.51s/it]"
     ]
    },
    {
     "name": "stdout",
     "output_type": "stream",
     "text": [
      "16.4025 (45, 45, 45, 45) 15\n",
      "7.77384 (4, 10797, 45) 20\n"
     ]
    },
    {
     "name": "stderr",
     "output_type": "stream",
     "text": [
      "[27 / 32] Hs=    0 -521.333573 4479.2 0.0 0.0 0.1 2.9 0.2 311.7 0.0 26.4 1.8 0.2 0.3 0.1 0.0 0.0 3.1 0.1 0.0 0.0 0.1 0.3 0.5 0.1 2.1 4829.2 [8 ; 0]:  21%|██        | 7/33 [20:11<1:06:57, 154.51s/it]"
     ]
    },
    {
     "name": "stdout",
     "output_type": "stream",
     "text": [
      "16.4025 (45, 45, 45, 45) 15\n",
      "7.77384 (4, 10797, 45) 20\n"
     ]
    },
    {
     "name": "stderr",
     "output_type": "stream",
     "text": [
      "[28 / 32] Hs=    0 -521.339637 4441.8 0.1 0.0 0.1 3.6 0.3 313.8 0.1 27.2 1.9 0.2 0.3 0.1 0.0 0.0 3.1 0.1 0.0 0.0 0.1 0.3 1.8 0.8 12.6 4808.3 [8 ; 0]:  21%|██        | 7/33 [20:15<1:06:57, 154.51s/it]"
     ]
    },
    {
     "name": "stdout",
     "output_type": "stream",
     "text": [
      "16.4025 (45, 45, 45, 45) 15\n",
      "7.77384 (4, 10797, 45) 20\n"
     ]
    },
    {
     "name": "stderr",
     "output_type": "stream",
     "text": [
      "[29 / 32] Hs=    0 -521.346383 4527.2 0.0 0.0 0.1 3.0 0.2 321.5 0.0 26.5 2.6 0.2 0.3 0.1 0.0 0.0 3.2 0.1 0.0 0.0 0.2 0.3 0.5 0.1 2.0 4888.1 [8 ; 0]:  21%|██        | 7/33 [20:20<1:06:57, 154.51s/it] "
     ]
    },
    {
     "name": "stdout",
     "output_type": "stream",
     "text": [
      "16.4025 (45, 45, 45, 45) 15\n",
      "7.77384 (4, 10797, 45) 20\n"
     ]
    },
    {
     "name": "stderr",
     "output_type": "stream",
     "text": [
      "[30 / 32] Hs=    0 -521.331788 4472.5 0.1 0.0 0.1 3.4 0.3 330.8 0.1 27.5 2.2 0.2 0.3 0.1 0.0 0.0 3.0 0.2 0.0 0.0 0.2 0.3 0.8 0.2 3.5 4845.8 [8 ; 0]:  21%|██        | 7/33 [20:25<1:06:57, 154.51s/it]"
     ]
    },
    {
     "name": "stdout",
     "output_type": "stream",
     "text": [
      "16.4025 (45, 45, 45, 45) 15\n",
      "7.77384 (4, 10797, 45) 20\n"
     ]
    },
    {
     "name": "stderr",
     "output_type": "stream",
     "text": [
      "[31 / 32] Hs=    0 -521.340151 4380.0 0.0 0.0 0.1 3.0 0.2 309.6 0.0 26.7 2.0 0.2 0.3 0.1 0.0 0.0 3.2 0.1 0.0 0.0 0.2 0.3 0.5 0.1 2.1 4728.7 [8 ; 0]:  21%|██        | 7/33 [20:30<1:06:57, 154.51s/it]"
     ]
    },
    {
     "name": "stdout",
     "output_type": "stream",
     "text": [
      "16.4025 (45, 45, 45, 45) 15\n",
      "7.77384 (4, 10797, 45) 20\n"
     ]
    },
    {
     "name": "stderr",
     "output_type": "stream",
     "text": [
      "[31 / 32] Hs=    0 -521.340151 4380.0 0.0 0.0 0.1 3.0 0.2 309.6 0.0 26.7 2.0 0.2 0.3 0.1 0.0 0.0 3.2 0.1 0.0 0.0 0.2 0.3 0.5 0.1 2.1 4728.7 [8 ; 0]:  24%|██▍       | 8/33 [20:34<1:04:30, 154.82s/it]"
     ]
    },
    {
     "name": "stdout",
     "output_type": "stream",
     "text": [
      "[Fc1onc2C(=O)Oc12]\n",
      "[conformers] 32\n",
      "16.4025 (45, 45, 45, 45) 15\n",
      "7.77384 (4, 10797, 45) 20\n"
     ]
    },
    {
     "name": "stderr",
     "output_type": "stream",
     "text": [
      "[1 / 32] Hs=    0 -525.058704 4584.5 0.1 0.0 0.1 3.4 0.3 299.8 0.1 26.8 1.8 0.2 0.3 0.1 0.0 0.0 3.1 0.2 0.0 0.0 0.2 0.3 0.9 0.4 9.8 4932.4 [9 ; 0]:  24%|██▍       | 8/33 [20:40<1:04:30, 154.82s/it] "
     ]
    },
    {
     "name": "stdout",
     "output_type": "stream",
     "text": [
      "16.4025 (45, 45, 45, 45) 15\n",
      "7.77384 (4, 10797, 45) 20\n"
     ]
    },
    {
     "name": "stderr",
     "output_type": "stream",
     "text": [
      "[2 / 32] Hs=    0 -525.065551 4463.8 0.1 0.0 0.1 3.3 0.3 299.7 0.1 26.9 2.0 0.2 0.3 0.1 0.0 0.0 3.2 0.2 0.0 0.0 0.2 0.3 0.6 0.2 2.8 4804.4 [9 ; 0]:  24%|██▍       | 8/33 [20:45<1:04:30, 154.82s/it]"
     ]
    },
    {
     "name": "stdout",
     "output_type": "stream",
     "text": [
      "16.4025 (45, 45, 45, 45) 15\n",
      "7.77384 (4, 10797, 45) 20\n"
     ]
    },
    {
     "name": "stderr",
     "output_type": "stream",
     "text": [
      "[3 / 32] Hs=    0 -525.063943 4546.7 0.0 0.0 0.1 3.2 0.2 300.0 0.0 26.4 2.1 0.2 0.3 0.1 0.0 0.0 3.2 0.1 0.0 0.0 0.2 0.3 0.6 0.1 1.9 4885.7 [9 ; 0]:  24%|██▍       | 8/33 [20:49<1:04:30, 154.82s/it]"
     ]
    },
    {
     "name": "stdout",
     "output_type": "stream",
     "text": [
      "16.4025 (45, 45, 45, 45) 15\n",
      "7.77384 (4, 10797, 45) 20\n"
     ]
    },
    {
     "name": "stderr",
     "output_type": "stream",
     "text": [
      "[4 / 32] Hs=    0 -525.057237 4520.7 0.0 0.0 0.1 2.9 0.2 314.2 0.0 26.6 2.1 0.2 0.3 0.1 0.0 0.0 3.2 0.1 0.0 0.0 0.2 0.3 1.9 0.3 2.4 4875.8 [9 ; 0]:  24%|██▍       | 8/33 [20:54<1:04:30, 154.82s/it]"
     ]
    },
    {
     "name": "stdout",
     "output_type": "stream",
     "text": [
      "16.4025 (45, 45, 45, 45) 15\n",
      "7.77384 (4, 10797, 45) 20\n"
     ]
    },
    {
     "name": "stderr",
     "output_type": "stream",
     "text": [
      "[5 / 32] Hs=    0 -525.058359 4510.1 0.1 0.0 0.1 3.3 0.3 302.7 0.1 27.3 2.3 0.2 0.3 0.1 0.0 0.0 3.3 0.2 0.0 0.0 0.2 0.3 0.7 0.2 2.9 4854.7 [9 ; 0]:  24%|██▍       | 8/33 [20:59<1:04:30, 154.82s/it]"
     ]
    },
    {
     "name": "stdout",
     "output_type": "stream",
     "text": [
      "16.4025 (45, 45, 45, 45) 15\n",
      "7.77384 (4, 10797, 45) 20\n"
     ]
    },
    {
     "name": "stderr",
     "output_type": "stream",
     "text": [
      "[6 / 32] Hs=    0 -525.057294 4496.1 0.0 0.0 0.1 2.9 0.2 299.8 0.0 26.8 3.2 0.2 0.3 0.1 0.0 0.0 3.4 0.1 0.0 0.0 0.2 0.3 0.6 0.1 2.0 4836.4 [9 ; 0]:  24%|██▍       | 8/33 [21:04<1:04:30, 154.82s/it]"
     ]
    },
    {
     "name": "stdout",
     "output_type": "stream",
     "text": [
      "16.4025 (45, 45, 45, 45) 15\n",
      "7.77384 (4, 10797, 45) 20\n"
     ]
    },
    {
     "name": "stderr",
     "output_type": "stream",
     "text": [
      "[7 / 32] Hs=    0 -525.061391 4578.5 0.1 0.0 0.1 3.2 0.3 303.1 0.0 26.5 1.8 0.2 0.3 0.3 0.0 0.1 3.2 0.2 0.0 0.0 0.2 0.4 0.6 0.2 2.7 4922.0 [9 ; 0]:  24%|██▍       | 8/33 [21:09<1:04:30, 154.82s/it]"
     ]
    },
    {
     "name": "stdout",
     "output_type": "stream",
     "text": [
      "16.4025 (45, 45, 45, 45) 15\n",
      "7.77384 (4, 10797, 45) 20\n"
     ]
    },
    {
     "name": "stderr",
     "output_type": "stream",
     "text": [
      "[8 / 32] Hs=    0 -525.063732 4405.0 0.1 0.0 0.1 3.4 0.3 294.1 0.0 26.5 2.0 0.2 0.3 0.1 0.0 0.0 3.0 0.2 0.0 0.0 0.2 0.3 0.8 0.2 3.6 4740.4 [9 ; 0]:  24%|██▍       | 8/33 [21:14<1:04:30, 154.82s/it]"
     ]
    },
    {
     "name": "stdout",
     "output_type": "stream",
     "text": [
      "16.4025 (45, 45, 45, 45) 15\n",
      "7.77384 (4, 10797, 45) 20\n"
     ]
    },
    {
     "name": "stderr",
     "output_type": "stream",
     "text": [
      "[9 / 32] Hs=    0 -525.063584 4452.6 0.1 0.0 0.1 3.7 0.3 300.1 0.1 26.2 2.1 0.4 0.3 0.1 0.0 0.0 3.6 0.2 0.0 0.0 0.2 0.3 0.6 0.2 3.3 4794.5 [9 ; 0]:  24%|██▍       | 8/33 [21:19<1:04:30, 154.82s/it]"
     ]
    },
    {
     "name": "stdout",
     "output_type": "stream",
     "text": [
      "16.4025 (45, 45, 45, 45) 15\n",
      "7.77384 (4, 10797, 45) 20\n"
     ]
    },
    {
     "name": "stderr",
     "output_type": "stream",
     "text": [
      "[10 / 32] Hs=    0 -525.059263 4404.4 0.0 0.0 0.1 2.9 0.2 301.4 0.1 27.0 2.1 0.2 0.3 0.1 0.0 0.0 3.3 0.1 0.0 0.0 0.2 0.3 1.7 0.3 2.2 4746.9 [9 ; 0]:  24%|██▍       | 8/33 [21:23<1:04:30, 154.82s/it]"
     ]
    },
    {
     "name": "stdout",
     "output_type": "stream",
     "text": [
      "16.4025 (45, 45, 45, 45) 15\n",
      "7.77384 (4, 10797, 45) 20\n"
     ]
    },
    {
     "name": "stderr",
     "output_type": "stream",
     "text": [
      "[11 / 32] Hs=    0 -525.068907 4695.2 0.1 0.0 0.1 4.1 0.3 308.0 0.0 26.5 1.9 0.2 0.3 0.1 0.0 0.0 3.1 0.1 0.0 0.0 0.2 0.3 0.7 0.2 3.2 5044.6 [9 ; 0]:  24%|██▍       | 8/33 [21:28<1:04:30, 154.82s/it]"
     ]
    },
    {
     "name": "stdout",
     "output_type": "stream",
     "text": [
      "16.4025 (45, 45, 45, 45) 15\n",
      "7.77384 (4, 10797, 45) 20\n"
     ]
    },
    {
     "name": "stderr",
     "output_type": "stream",
     "text": [
      "[12 / 32] Hs=    0 -525.052520 4442.7 0.0 0.0 0.1 2.8 0.2 298.1 0.4 28.9 5.3 0.3 0.3 0.2 0.0 0.1 5.6 0.2 0.0 0.0 0.3 0.7 1.0 0.5 7.9 4795.6 [9 ; 0]:  24%|██▍       | 8/33 [21:33<1:04:30, 154.82s/it]"
     ]
    },
    {
     "name": "stdout",
     "output_type": "stream",
     "text": [
      "16.4025 (45, 45, 45, 45) 15\n",
      "7.77384 (4, 10797, 45) 20\n"
     ]
    },
    {
     "name": "stderr",
     "output_type": "stream",
     "text": [
      "[13 / 32] Hs=    0 -525.056120 4647.7 0.1 0.0 0.1 3.3 0.3 306.8 0.1 26.8 2.0 0.2 0.3 0.1 0.0 0.0 3.0 0.2 0.0 0.0 0.2 0.3 1.5 0.2 3.6 4996.8 [9 ; 0]:  24%|██▍       | 8/33 [21:38<1:04:30, 154.82s/it]"
     ]
    },
    {
     "name": "stdout",
     "output_type": "stream",
     "text": [
      "16.4025 (45, 45, 45, 45) 15\n",
      "7.77384 (4, 10797, 45) 20\n"
     ]
    },
    {
     "name": "stderr",
     "output_type": "stream",
     "text": [
      "[14 / 32] Hs=    0 -525.061546 4607.9 0.2 0.1 0.5 6.8 0.9 301.5 0.1 27.9 2.9 0.3 0.3 0.1 0.0 0.1 5.1 0.2 0.0 0.0 0.3 0.7 1.1 0.6 8.3 4965.9 [9 ; 0]:  24%|██▍       | 8/33 [21:43<1:04:30, 154.82s/it]"
     ]
    },
    {
     "name": "stdout",
     "output_type": "stream",
     "text": [
      "16.4025 (45, 45, 45, 45) 15\n",
      "7.77384 (4, 10797, 45) 20\n"
     ]
    },
    {
     "name": "stderr",
     "output_type": "stream",
     "text": [
      "[15 / 32] Hs=    0 -525.077909 4445.5 0.0 0.0 0.1 3.5 0.2 294.4 0.0 26.4 2.1 0.5 0.3 0.1 0.0 0.0 3.2 0.1 0.0 0.0 0.2 0.3 2.2 0.2 2.3 4781.6 [9 ; 0]:  24%|██▍       | 8/33 [21:48<1:04:30, 154.82s/it]"
     ]
    },
    {
     "name": "stdout",
     "output_type": "stream",
     "text": [
      "16.4025 (45, 45, 45, 45) 15\n",
      "7.77384 (4, 10797, 45) 20\n"
     ]
    },
    {
     "name": "stderr",
     "output_type": "stream",
     "text": [
      "[16 / 32] Hs=    0 -525.063081 4699.0 0.1 0.0 0.1 3.2 0.3 299.5 0.1 27.1 2.0 0.2 0.3 0.1 0.0 0.0 3.4 0.2 0.0 0.0 0.2 0.4 0.7 0.2 3.5 5040.6 [9 ; 0]:  24%|██▍       | 8/33 [21:53<1:04:30, 154.82s/it]"
     ]
    },
    {
     "name": "stdout",
     "output_type": "stream",
     "text": [
      "16.4025 (45, 45, 45, 45) 15\n",
      "7.77384 (4, 10797, 45) 20\n"
     ]
    },
    {
     "name": "stderr",
     "output_type": "stream",
     "text": [
      "[17 / 32] Hs=    0 -525.063618 4636.4 0.0 0.0 0.1 2.9 0.2 293.7 0.0 26.3 2.0 0.2 0.3 0.1 0.0 0.0 3.2 0.1 0.0 0.0 0.2 0.3 0.6 0.1 2.1 4968.8 [9 ; 0]:  24%|██▍       | 8/33 [21:58<1:04:30, 154.82s/it]"
     ]
    },
    {
     "name": "stdout",
     "output_type": "stream",
     "text": [
      "16.4025 (45, 45, 45, 45) 15\n",
      "7.77384 (4, 10797, 45) 20\n"
     ]
    },
    {
     "name": "stderr",
     "output_type": "stream",
     "text": [
      "[18 / 32] Hs=    0 -525.066268 4481.3 0.1 0.0 0.1 3.3 0.3 305.3 0.3 28.7 3.0 0.3 0.3 0.1 0.0 0.1 3.9 0.3 0.0 0.0 0.3 0.5 7.2 0.3 3.0 4838.7 [9 ; 0]:  24%|██▍       | 8/33 [22:03<1:04:30, 154.82s/it]"
     ]
    },
    {
     "name": "stdout",
     "output_type": "stream",
     "text": [
      "16.4025 (45, 45, 45, 45) 15\n",
      "7.77384 (4, 10797, 45) 20\n"
     ]
    },
    {
     "name": "stderr",
     "output_type": "stream",
     "text": [
      "[19 / 32] Hs=    0 -525.047316 4414.0 0.1 0.0 0.1 3.1 0.2 301.6 0.1 26.6 2.0 0.4 0.3 0.2 0.0 0.1 3.2 0.2 0.0 0.0 0.2 0.4 7.8 0.2 2.9 4763.7 [9 ; 0]:  24%|██▍       | 8/33 [22:07<1:04:30, 154.82s/it]"
     ]
    },
    {
     "name": "stdout",
     "output_type": "stream",
     "text": [
      "16.4025 (45, 45, 45, 45) 15\n",
      "7.77384 (4, 10797, 45) 20\n"
     ]
    },
    {
     "name": "stderr",
     "output_type": "stream",
     "text": [
      "[20 / 32] Hs=    0 -525.049697 4407.6 0.2 0.0 0.1 3.0 0.2 292.4 0.0 26.8 1.8 0.2 0.3 0.1 0.0 0.0 3.1 0.1 0.0 0.0 0.2 0.3 1.5 0.2 2.1 4740.2 [9 ; 0]:  24%|██▍       | 8/33 [22:12<1:04:30, 154.82s/it]"
     ]
    },
    {
     "name": "stdout",
     "output_type": "stream",
     "text": [
      "16.4025 (45, 45, 45, 45) 15\n",
      "7.77384 (4, 10797, 45) 20\n"
     ]
    },
    {
     "name": "stderr",
     "output_type": "stream",
     "text": [
      "[21 / 32] Hs=    0 -525.069115 4649.8 0.1 0.0 0.1 3.3 0.3 300.0 0.1 27.7 2.0 0.3 0.3 0.1 0.0 0.0 3.3 0.2 0.0 0.0 0.2 0.4 0.8 0.2 4.8 4994.0 [9 ; 0]:  24%|██▍       | 8/33 [22:17<1:04:30, 154.82s/it]"
     ]
    },
    {
     "name": "stdout",
     "output_type": "stream",
     "text": [
      "16.4025 (45, 45, 45, 45) 15\n",
      "7.77384 (4, 10797, 45) 20\n"
     ]
    },
    {
     "name": "stderr",
     "output_type": "stream",
     "text": [
      "[22 / 32] Hs=    0 -525.074437 4439.0 0.1 0.0 0.1 3.7 0.3 303.1 0.1 27.1 1.9 0.2 0.3 0.1 0.0 0.0 3.3 0.2 0.0 0.0 0.2 0.4 0.8 0.2 3.1 4784.2 [9 ; 0]:  24%|██▍       | 8/33 [22:22<1:04:30, 154.82s/it]"
     ]
    },
    {
     "name": "stdout",
     "output_type": "stream",
     "text": [
      "16.4025 (45, 45, 45, 45) 15\n",
      "7.77384 (4, 10797, 45) 20\n"
     ]
    },
    {
     "name": "stderr",
     "output_type": "stream",
     "text": [
      "[23 / 32] Hs=    0 -525.057076 4441.5 0.0 0.0 0.1 2.9 0.2 300.8 0.1 27.2 2.3 0.2 0.3 0.1 0.0 0.0 3.1 0.2 0.0 0.0 0.2 0.4 0.9 0.2 2.8 4783.5 [9 ; 0]:  24%|██▍       | 8/33 [22:27<1:04:30, 154.82s/it]"
     ]
    },
    {
     "name": "stdout",
     "output_type": "stream",
     "text": [
      "16.4025 (45, 45, 45, 45) 15\n",
      "7.77384 (4, 10797, 45) 20\n"
     ]
    },
    {
     "name": "stderr",
     "output_type": "stream",
     "text": [
      "[24 / 32] Hs=    0 -525.057418 4627.8 0.1 0.0 0.1 3.3 0.3 300.0 0.2 27.2 2.0 0.3 0.3 0.1 0.0 0.0 3.5 0.2 0.0 0.0 0.2 0.4 0.9 0.2 3.0 4970.1 [9 ; 0]:  24%|██▍       | 8/33 [22:32<1:04:30, 154.82s/it]"
     ]
    },
    {
     "name": "stdout",
     "output_type": "stream",
     "text": [
      "16.4025 (45, 45, 45, 45) 15\n",
      "7.77384 (4, 10797, 45) 20\n"
     ]
    },
    {
     "name": "stderr",
     "output_type": "stream",
     "text": [
      "[25 / 32] Hs=    0 -525.053269 4498.1 0.1 0.0 0.1 2.9 0.2 298.6 0.1 27.1 2.1 0.2 0.3 0.1 0.0 0.0 3.2 0.2 0.0 0.0 0.2 0.4 8.0 0.2 2.2 4844.3 [9 ; 0]:  24%|██▍       | 8/33 [22:37<1:04:30, 154.82s/it]"
     ]
    },
    {
     "name": "stdout",
     "output_type": "stream",
     "text": [
      "16.4025 (45, 45, 45, 45) 15\n",
      "7.77384 (4, 10797, 45) 20\n"
     ]
    },
    {
     "name": "stderr",
     "output_type": "stream",
     "text": [
      "[26 / 32] Hs=    0 -525.046045 4464.8 0.1 0.0 0.1 3.1 0.2 301.4 0.1 27.4 2.0 0.3 0.3 0.1 0.0 0.0 3.2 0.2 0.0 0.0 0.2 0.5 0.8 0.4 6.6 4811.8 [9 ; 0]:  24%|██▍       | 8/33 [22:41<1:04:30, 154.82s/it]"
     ]
    },
    {
     "name": "stdout",
     "output_type": "stream",
     "text": [
      "16.4025 (45, 45, 45, 45) 15\n",
      "7.77384 (4, 10797, 45) 20\n"
     ]
    },
    {
     "name": "stderr",
     "output_type": "stream",
     "text": [
      "[27 / 32] Hs=    0 -525.060090 4426.0 0.1 0.0 0.1 3.2 0.3 301.1 0.2 28.0 2.0 0.3 0.3 0.2 0.0 0.1 3.5 0.2 0.0 0.0 0.2 0.4 1.3 0.4 16.0 4783.9 [9 ; 0]:  24%|██▍       | 8/33 [22:46<1:04:30, 154.82s/it]"
     ]
    },
    {
     "name": "stdout",
     "output_type": "stream",
     "text": [
      "16.4025 (45, 45, 45, 45) 15\n",
      "7.77384 (4, 10797, 45) 20\n"
     ]
    },
    {
     "name": "stderr",
     "output_type": "stream",
     "text": [
      "[28 / 32] Hs=    0 -525.063641 4662.7 0.1 0.0 0.1 3.6 0.3 301.7 0.1 26.5 2.0 0.2 0.3 0.1 0.0 0.0 3.3 0.2 0.0 0.0 0.2 0.3 0.6 0.2 2.9 5005.4 [9 ; 0]:  24%|██▍       | 8/33 [22:51<1:04:30, 154.82s/it] "
     ]
    },
    {
     "name": "stdout",
     "output_type": "stream",
     "text": [
      "16.4025 (45, 45, 45, 45) 15\n",
      "7.77384 (4, 10797, 45) 20\n"
     ]
    },
    {
     "name": "stderr",
     "output_type": "stream",
     "text": [
      "[29 / 32] Hs=    0 -525.063151 4447.6 0.1 0.0 0.1 3.3 0.3 295.8 0.1 26.9 2.8 0.2 0.3 0.1 0.0 0.0 3.2 0.2 0.0 0.0 0.2 0.3 0.6 0.2 3.0 4785.3 [9 ; 0]:  24%|██▍       | 8/33 [22:56<1:04:30, 154.82s/it]"
     ]
    },
    {
     "name": "stdout",
     "output_type": "stream",
     "text": [
      "16.4025 (45, 45, 45, 45) 15\n",
      "7.77384 (4, 10797, 45) 20\n"
     ]
    },
    {
     "name": "stderr",
     "output_type": "stream",
     "text": [
      "[30 / 32] Hs=    0 -525.061099 4594.6 0.0 0.0 0.1 3.7 0.2 304.5 0.1 27.4 2.7 0.2 0.3 0.1 0.0 0.0 3.0 0.2 0.0 0.0 0.2 0.3 0.6 0.1 2.0 4940.3 [9 ; 0]:  24%|██▍       | 8/33 [23:01<1:04:30, 154.82s/it]"
     ]
    },
    {
     "name": "stdout",
     "output_type": "stream",
     "text": [
      "16.4025 (45, 45, 45, 45) 15\n",
      "7.77384 (4, 10797, 45) 20\n"
     ]
    },
    {
     "name": "stderr",
     "output_type": "stream",
     "text": [
      "[31 / 32] Hs=    0 -525.058880 4635.0 0.1 0.0 0.1 3.3 0.3 313.5 0.2 27.8 3.6 0.3 0.3 0.2 0.0 0.0 3.3 0.2 0.0 0.0 0.2 0.4 0.7 0.4 6.0 4995.9 [9 ; 0]:  24%|██▍       | 8/33 [23:06<1:04:30, 154.82s/it]"
     ]
    },
    {
     "name": "stdout",
     "output_type": "stream",
     "text": [
      "16.4025 (45, 45, 45, 45) 15\n",
      "7.77384 (4, 10797, 45) 20\n"
     ]
    },
    {
     "name": "stderr",
     "output_type": "stream",
     "text": [
      "[31 / 32] Hs=    0 -525.058880 4635.0 0.1 0.0 0.1 3.3 0.3 313.5 0.2 27.8 3.6 0.3 0.3 0.2 0.0 0.0 3.3 0.2 0.0 0.0 0.2 0.4 0.7 0.4 6.0 4995.9 [9 ; 0]:  27%|██▋       | 9/33 [23:10<1:02:04, 155.20s/it]"
     ]
    },
    {
     "name": "stdout",
     "output_type": "stream",
     "text": [
      "[[O-][N+](=O)c1noc(=O)o1]\n",
      "[conformers] 32\n",
      "16.4025 (45, 45, 45, 45) 15\n",
      "7.77384 (4, 10797, 45) 20\n"
     ]
    },
    {
     "name": "stderr",
     "output_type": "stream",
     "text": [
      "[1 / 32] Hs=    0 -553.783147 4576.5 0.1 0.0 0.1 2.4 0.2 280.2 0.0 26.1 1.9 0.2 0.3 0.1 0.0 0.0 3.0 0.1 0.0 0.0 0.2 0.3 0.6 0.2 11.4 4903.9 [10 ; 0]:  27%|██▋       | 9/33 [23:16<1:02:04, 155.20s/it]"
     ]
    },
    {
     "name": "stdout",
     "output_type": "stream",
     "text": [
      "16.4025 (45, 45, 45, 45) 15\n",
      "7.77384 (4, 10797, 45) 20\n"
     ]
    },
    {
     "name": "stderr",
     "output_type": "stream",
     "text": [
      "[2 / 32] Hs=    0 -553.788257 4424.1 0.1 0.0 0.1 2.8 0.3 278.4 0.3 27.6 1.9 0.3 0.3 0.1 0.0 0.1 3.7 0.3 0.0 0.0 0.3 0.5 1.7 1.1 21.0 4765.0 [10 ; 0]:  27%|██▋       | 9/33 [23:21<1:02:04, 155.20s/it]"
     ]
    },
    {
     "name": "stdout",
     "output_type": "stream",
     "text": [
      "16.4025 (45, 45, 45, 45) 15\n",
      "7.77384 (4, 10797, 45) 20\n"
     ]
    },
    {
     "name": "stderr",
     "output_type": "stream",
     "text": [
      "[3 / 32] Hs=    0 -553.783620 4510.7 0.0 0.0 0.1 2.7 0.2 277.8 0.0 26.0 2.0 0.2 0.3 0.1 0.0 0.0 3.1 0.2 0.0 0.0 0.2 0.3 0.6 0.1 2.0 4826.6 [10 ; 0]:  27%|██▋       | 9/33 [23:25<1:02:04, 155.20s/it] "
     ]
    },
    {
     "name": "stdout",
     "output_type": "stream",
     "text": [
      "16.4025 (45, 45, 45, 45) 15\n",
      "7.77384 (4, 10797, 45) 20\n"
     ]
    },
    {
     "name": "stderr",
     "output_type": "stream",
     "text": [
      "[4 / 32] Hs=    0 -553.801494 4531.3 0.1 0.0 0.1 2.8 0.3 278.7 0.1 26.3 2.0 0.3 0.3 0.1 0.0 0.0 3.1 0.1 0.0 0.0 0.2 0.3 0.7 0.2 2.8 4849.8 [10 ; 0]:  27%|██▋       | 9/33 [23:30<1:02:04, 155.20s/it]"
     ]
    },
    {
     "name": "stdout",
     "output_type": "stream",
     "text": [
      "16.4025 (45, 45, 45, 45) 15\n",
      "7.77384 (4, 10797, 45) 20\n"
     ]
    },
    {
     "name": "stderr",
     "output_type": "stream",
     "text": [
      "[5 / 32] Hs=    0 -553.800554 4346.5 0.1 0.0 0.1 2.3 0.2 285.9 0.0 26.5 1.9 0.2 0.3 0.1 0.0 0.0 3.1 0.1 0.0 0.0 0.2 0.3 0.8 0.2 2.4 4671.2 [10 ; 0]:  27%|██▋       | 9/33 [23:35<1:02:04, 155.20s/it]"
     ]
    },
    {
     "name": "stdout",
     "output_type": "stream",
     "text": [
      "16.4025 (45, 45, 45, 45) 15\n",
      "7.77384 (4, 10797, 45) 20\n"
     ]
    },
    {
     "name": "stderr",
     "output_type": "stream",
     "text": [
      "[6 / 32] Hs=    0 -553.799434 4612.2 0.0 0.0 0.1 3.0 0.2 281.2 0.0 26.3 1.9 0.2 0.3 0.1 0.0 0.0 3.0 0.1 0.0 0.0 0.2 0.3 0.6 0.1 2.0 4931.8 [10 ; 0]:  27%|██▋       | 9/33 [23:40<1:02:04, 155.20s/it]"
     ]
    },
    {
     "name": "stdout",
     "output_type": "stream",
     "text": [
      "16.4025 (45, 45, 45, 45) 15\n",
      "7.77384 (4, 10797, 45) 20\n"
     ]
    },
    {
     "name": "stderr",
     "output_type": "stream",
     "text": [
      "[7 / 32] Hs=    0 -553.798401 4392.3 0.0 0.0 0.1 2.3 0.2 271.7 0.0 26.2 2.3 0.2 0.3 0.1 0.0 0.0 3.1 0.1 0.0 0.0 0.2 0.3 9.0 0.2 2.3 4710.9 [10 ; 0]:  27%|██▋       | 9/33 [23:45<1:02:04, 155.20s/it]"
     ]
    },
    {
     "name": "stdout",
     "output_type": "stream",
     "text": [
      "16.4025 (45, 45, 45, 45) 15\n",
      "7.77384 (4, 10797, 45) 20\n"
     ]
    },
    {
     "name": "stderr",
     "output_type": "stream",
     "text": [
      "[8 / 32] Hs=    0 -553.797082 4449.8 0.1 0.0 0.1 2.8 0.3 287.5 0.1 27.1 7.3 0.4 0.3 0.1 0.0 0.0 3.0 0.2 0.0 0.0 0.2 0.3 0.9 0.2 3.5 4784.2 [10 ; 0]:  27%|██▋       | 9/33 [23:49<1:02:04, 155.20s/it]"
     ]
    },
    {
     "name": "stdout",
     "output_type": "stream",
     "text": [
      "16.4025 (45, 45, 45, 45) 15\n",
      "7.77384 (4, 10797, 45) 20\n"
     ]
    },
    {
     "name": "stderr",
     "output_type": "stream",
     "text": [
      "[9 / 32] Hs=    0 -553.785436 4388.4 0.1 0.0 0.1 3.4 0.3 314.8 0.3 29.5 2.0 0.3 0.3 0.2 0.0 0.1 4.6 0.3 0.0 0.0 0.3 0.4 12.4 0.6 17.4 4775.8 [10 ; 0]:  27%|██▋       | 9/33 [23:54<1:02:04, 155.20s/it]"
     ]
    },
    {
     "name": "stdout",
     "output_type": "stream",
     "text": [
      "16.4025 (45, 45, 45, 45) 15\n",
      "7.77384 (4, 10797, 45) 20\n"
     ]
    },
    {
     "name": "stderr",
     "output_type": "stream",
     "text": [
      "[10 / 32] Hs=    0 -553.798096 4540.2 0.0 0.0 0.1 2.3 0.2 281.3 0.0 27.3 2.1 0.2 0.3 0.1 0.0 0.0 3.8 0.2 0.0 0.0 0.2 0.4 0.7 0.1 2.5 4862.0 [10 ; 0]:  27%|██▋       | 9/33 [23:59<1:02:04, 155.20s/it] "
     ]
    },
    {
     "name": "stdout",
     "output_type": "stream",
     "text": [
      "16.4025 (45, 45, 45, 45) 15\n",
      "7.77384 (4, 10797, 45) 20\n"
     ]
    },
    {
     "name": "stderr",
     "output_type": "stream",
     "text": [
      "[11 / 32] Hs=    0 -553.805882 4429.3 0.1 0.0 0.1 2.8 0.3 302.5 0.1 26.8 1.9 0.2 0.3 0.1 0.0 0.0 3.1 0.2 0.0 0.0 0.2 0.3 1.8 0.3 4.2 4774.6 [10 ; 0]:  27%|██▋       | 9/33 [24:04<1:02:04, 155.20s/it]"
     ]
    },
    {
     "name": "stdout",
     "output_type": "stream",
     "text": [
      "16.4025 (45, 45, 45, 45) 15\n",
      "7.77384 (4, 10797, 45) 20\n"
     ]
    },
    {
     "name": "stderr",
     "output_type": "stream",
     "text": [
      "[12 / 32] Hs=    0 -553.789661 4446.3 0.0 0.0 0.1 2.6 0.2 279.8 0.0 26.3 1.9 0.2 0.3 0.1 0.0 0.0 3.0 0.1 0.0 0.0 0.2 0.3 0.6 0.1 2.1 4764.2 [10 ; 0]:  27%|██▋       | 9/33 [24:08<1:02:04, 155.20s/it]"
     ]
    },
    {
     "name": "stdout",
     "output_type": "stream",
     "text": [
      "16.4025 (45, 45, 45, 45) 15\n",
      "7.77384 (4, 10797, 45) 20\n"
     ]
    },
    {
     "name": "stderr",
     "output_type": "stream",
     "text": [
      "[13 / 32] Hs=    0 -553.793495 4645.7 0.1 0.0 0.1 3.0 0.3 290.5 0.1 26.6 2.2 0.3 0.3 0.1 0.0 0.0 3.1 0.2 0.0 0.0 0.2 0.3 0.9 0.6 8.6 4983.2 [10 ; 0]:  27%|██▋       | 9/33 [24:13<1:02:04, 155.20s/it]"
     ]
    },
    {
     "name": "stdout",
     "output_type": "stream",
     "text": [
      "16.4025 (45, 45, 45, 45) 15\n",
      "7.77384 (4, 10797, 45) 20\n"
     ]
    },
    {
     "name": "stderr",
     "output_type": "stream",
     "text": [
      "[14 / 32] Hs=    0 -553.796170 4527.7 0.1 0.0 0.1 2.8 0.3 286.0 0.2 27.0 2.4 0.4 0.3 0.2 0.0 0.0 3.4 0.2 0.0 0.0 0.2 0.4 3.5 0.3 3.8 4859.3 [10 ; 0]:  27%|██▋       | 9/33 [24:18<1:02:04, 155.20s/it]"
     ]
    },
    {
     "name": "stdout",
     "output_type": "stream",
     "text": [
      "16.4025 (45, 45, 45, 45) 15\n",
      "7.77384 (4, 10797, 45) 20\n"
     ]
    },
    {
     "name": "stderr",
     "output_type": "stream",
     "text": [
      "[15 / 32] Hs=    0 -553.786740 4401.9 0.1 0.0 0.1 2.8 0.3 282.9 0.1 26.2 1.9 0.3 0.3 0.1 0.0 0.0 3.0 0.2 0.0 0.0 0.2 0.3 1.5 0.3 3.6 4726.1 [10 ; 0]:  27%|██▋       | 9/33 [24:23<1:02:04, 155.20s/it]"
     ]
    },
    {
     "name": "stdout",
     "output_type": "stream",
     "text": [
      "16.4025 (45, 45, 45, 45) 15\n",
      "7.77384 (4, 10797, 45) 20\n"
     ]
    },
    {
     "name": "stderr",
     "output_type": "stream",
     "text": [
      "[16 / 32] Hs=    0 -553.794408 4596.1 0.1 0.0 0.1 2.8 0.3 283.3 0.1 26.6 2.2 0.2 0.3 0.1 0.0 0.0 3.3 0.2 0.0 0.0 0.2 0.3 0.7 0.2 2.9 4920.0 [10 ; 0]:  27%|██▋       | 9/33 [24:28<1:02:04, 155.20s/it]"
     ]
    },
    {
     "name": "stdout",
     "output_type": "stream",
     "text": [
      "16.4025 (45, 45, 45, 45) 15\n",
      "7.77384 (4, 10797, 45) 20\n"
     ]
    },
    {
     "name": "stderr",
     "output_type": "stream",
     "text": [
      "[17 / 32] Hs=    0 -553.798646 4444.5 0.1 0.0 0.1 2.7 0.3 294.6 0.1 27.3 2.5 0.6 0.3 0.2 0.0 0.0 3.2 0.2 0.0 0.0 0.2 0.3 0.6 0.2 4.1 4782.1 [10 ; 0]:  27%|██▋       | 9/33 [24:33<1:02:04, 155.20s/it]"
     ]
    },
    {
     "name": "stdout",
     "output_type": "stream",
     "text": [
      "16.4025 (45, 45, 45, 45) 15\n",
      "7.77384 (4, 10797, 45) 20\n"
     ]
    },
    {
     "name": "stderr",
     "output_type": "stream",
     "text": [
      "[18 / 32] Hs=    0 -553.793656 4760.6 0.1 0.0 0.1 2.8 0.3 280.2 0.3 27.1 1.9 0.3 0.3 0.1 0.0 0.0 3.0 0.2 0.0 0.0 0.2 0.3 0.6 0.2 3.0 5081.6 [10 ; 0]:  27%|██▋       | 9/33 [24:38<1:02:04, 155.20s/it]"
     ]
    },
    {
     "name": "stdout",
     "output_type": "stream",
     "text": [
      "16.4025 (45, 45, 45, 45) 15\n",
      "7.77384 (4, 10797, 45) 20\n"
     ]
    },
    {
     "name": "stderr",
     "output_type": "stream",
     "text": [
      "[19 / 32] Hs=    0 -553.800319 4576.4 0.1 0.0 0.1 3.3 0.3 282.3 0.1 26.6 2.1 0.2 0.3 0.1 0.0 0.0 3.2 0.2 0.0 0.0 0.2 0.3 0.6 0.2 2.7 4899.3 [10 ; 0]:  27%|██▋       | 9/33 [24:43<1:02:04, 155.20s/it]"
     ]
    },
    {
     "name": "stdout",
     "output_type": "stream",
     "text": [
      "16.4025 (45, 45, 45, 45) 15\n",
      "7.77384 (4, 10797, 45) 20\n"
     ]
    },
    {
     "name": "stderr",
     "output_type": "stream",
     "text": [
      "[20 / 32] Hs=    0 -553.792669 4498.4 0.1 0.0 0.1 2.4 0.2 283.5 0.0 26.4 2.1 0.2 0.3 0.1 0.0 0.0 3.1 0.1 0.0 0.0 0.2 0.3 0.6 0.1 2.1 4820.3 [10 ; 0]:  27%|██▋       | 9/33 [24:48<1:02:04, 155.20s/it]"
     ]
    },
    {
     "name": "stdout",
     "output_type": "stream",
     "text": [
      "16.4025 (45, 45, 45, 45) 15\n",
      "7.77384 (4, 10797, 45) 20\n"
     ]
    },
    {
     "name": "stderr",
     "output_type": "stream",
     "text": [
      "[21 / 32] Hs=    0 -553.783183 4496.1 0.1 0.0 0.1 2.8 0.3 286.2 0.1 26.2 2.0 0.2 0.3 0.1 0.0 0.0 3.0 0.1 0.0 0.0 0.2 0.3 2.2 0.3 3.8 4824.4 [10 ; 0]:  27%|██▋       | 9/33 [24:52<1:02:04, 155.20s/it]"
     ]
    },
    {
     "name": "stdout",
     "output_type": "stream",
     "text": [
      "16.4025 (45, 45, 45, 45) 15\n",
      "7.77384 (4, 10797, 45) 20\n"
     ]
    },
    {
     "name": "stderr",
     "output_type": "stream",
     "text": [
      "[22 / 32] Hs=    0 -553.798091 4448.3 0.1 0.0 0.1 2.9 0.3 288.7 0.1 26.4 2.0 0.3 0.3 0.1 0.0 0.1 3.7 0.3 0.0 0.0 0.2 0.5 1.1 0.3 3.1 4778.9 [10 ; 0]:  27%|██▋       | 9/33 [24:57<1:02:04, 155.20s/it]"
     ]
    },
    {
     "name": "stdout",
     "output_type": "stream",
     "text": [
      "16.4025 (45, 45, 45, 45) 15\n",
      "7.77384 (4, 10797, 45) 20\n"
     ]
    },
    {
     "name": "stderr",
     "output_type": "stream",
     "text": [
      "[23 / 32] Hs=    0 -553.810332 4692.7 0.1 0.0 0.1 2.7 0.3 279.1 0.1 26.8 2.2 0.4 0.3 0.1 0.0 0.0 3.1 0.2 0.0 0.0 0.2 0.3 0.6 0.2 3.0 5012.5 [10 ; 0]:  27%|██▋       | 9/33 [25:02<1:02:04, 155.20s/it]"
     ]
    },
    {
     "name": "stdout",
     "output_type": "stream",
     "text": [
      "16.4025 (45, 45, 45, 45) 15\n",
      "7.77384 (4, 10797, 45) 20\n"
     ]
    },
    {
     "name": "stderr",
     "output_type": "stream",
     "text": [
      "[24 / 32] Hs=    0 -553.796031 4571.3 0.0 0.0 0.1 2.4 0.2 281.4 0.1 26.8 2.1 0.2 0.3 0.1 0.0 0.0 3.3 0.1 0.0 0.0 0.2 0.3 0.6 0.1 2.4 4892.0 [10 ; 0]:  27%|██▋       | 9/33 [25:07<1:02:04, 155.20s/it]"
     ]
    },
    {
     "name": "stdout",
     "output_type": "stream",
     "text": [
      "16.4025 (45, 45, 45, 45) 15\n",
      "7.77384 (4, 10797, 45) 20\n"
     ]
    },
    {
     "name": "stderr",
     "output_type": "stream",
     "text": [
      "[25 / 32] Hs=    0 -553.792651 4506.3 0.1 0.1 0.1 3.1 0.3 292.5 0.1 26.5 2.0 0.2 0.3 0.1 0.0 0.0 3.1 0.2 0.0 0.0 0.2 0.3 0.7 0.5 5.5 4842.2 [10 ; 0]:  27%|██▋       | 9/33 [25:12<1:02:04, 155.20s/it]"
     ]
    },
    {
     "name": "stdout",
     "output_type": "stream",
     "text": [
      "16.4025 (45, 45, 45, 45) 15\n",
      "7.77384 (4, 10797, 45) 20\n"
     ]
    },
    {
     "name": "stderr",
     "output_type": "stream",
     "text": [
      "[26 / 32] Hs=    0 -553.795021 4504.4 0.1 0.0 0.1 2.8 0.3 272.2 0.1 27.7 2.6 0.2 0.3 0.1 0.0 0.0 3.2 0.2 0.0 0.0 0.2 0.3 2.9 0.2 2.8 4820.7 [10 ; 0]:  27%|██▋       | 9/33 [25:17<1:02:04, 155.20s/it]"
     ]
    },
    {
     "name": "stdout",
     "output_type": "stream",
     "text": [
      "16.4025 (45, 45, 45, 45) 15\n",
      "7.77384 (4, 10797, 45) 20\n"
     ]
    },
    {
     "name": "stderr",
     "output_type": "stream",
     "text": [
      "[27 / 32] Hs=    0 -553.798069 4462.6 0.0 0.0 0.1 2.6 0.2 282.7 0.1 26.2 1.9 0.2 0.3 0.1 0.0 0.0 3.0 0.1 0.0 0.0 0.2 0.3 2.1 0.3 2.4 4785.4 [10 ; 0]:  27%|██▋       | 9/33 [25:22<1:02:04, 155.20s/it]"
     ]
    },
    {
     "name": "stdout",
     "output_type": "stream",
     "text": [
      "16.4025 (45, 45, 45, 45) 15\n",
      "7.77384 (4, 10797, 45) 20\n"
     ]
    },
    {
     "name": "stderr",
     "output_type": "stream",
     "text": [
      "[28 / 32] Hs=    0 -553.792577 4459.6 0.1 0.0 0.1 3.6 0.4 290.4 0.1 26.5 1.9 0.2 0.3 0.1 0.0 0.0 3.0 0.2 0.0 0.0 0.2 0.3 0.8 0.2 3.6 4791.6 [10 ; 0]:  27%|██▋       | 9/33 [25:26<1:02:04, 155.20s/it]"
     ]
    },
    {
     "name": "stdout",
     "output_type": "stream",
     "text": [
      "16.4025 (45, 45, 45, 45) 15\n",
      "7.77384 (4, 10797, 45) 20\n"
     ]
    },
    {
     "name": "stderr",
     "output_type": "stream",
     "text": [
      "[29 / 32] Hs=    0 -553.794633 4387.7 0.1 0.0 0.1 2.7 0.3 287.4 0.0 26.6 1.8 0.2 0.3 0.1 0.0 0.0 3.0 0.2 0.0 0.0 0.2 0.4 1.1 0.5 16.7 4729.4 [10 ; 0]:  27%|██▋       | 9/33 [25:31<1:02:04, 155.20s/it]"
     ]
    },
    {
     "name": "stdout",
     "output_type": "stream",
     "text": [
      "16.4025 (45, 45, 45, 45) 15\n",
      "7.77384 (4, 10797, 45) 20\n"
     ]
    },
    {
     "name": "stderr",
     "output_type": "stream",
     "text": [
      "[30 / 32] Hs=    0 -553.796122 4502.0 0.1 0.1 0.1 2.8 0.3 292.7 0.1 26.9 2.0 0.4 0.3 0.2 0.0 0.0 3.4 0.2 0.0 0.0 0.2 0.4 0.6 0.2 3.2 4836.2 [10 ; 0]:  27%|██▋       | 9/33 [25:36<1:02:04, 155.20s/it] "
     ]
    },
    {
     "name": "stdout",
     "output_type": "stream",
     "text": [
      "16.4025 (45, 45, 45, 45) 15\n",
      "7.77384 (4, 10797, 45) 20\n"
     ]
    },
    {
     "name": "stderr",
     "output_type": "stream",
     "text": [
      "[31 / 32] Hs=    0 -553.804229 4402.5 0.0 0.0 0.1 2.4 0.2 291.3 0.0 28.2 2.1 0.2 0.3 0.1 0.0 0.0 3.7 0.1 0.0 0.0 0.2 0.3 0.7 0.1 2.1 4734.6 [10 ; 0]:  27%|██▋       | 9/33 [25:41<1:02:04, 155.20s/it]"
     ]
    },
    {
     "name": "stdout",
     "output_type": "stream",
     "text": [
      "16.4025 (45, 45, 45, 45) 15\n",
      "7.77384 (4, 10797, 45) 20\n"
     ]
    },
    {
     "name": "stderr",
     "output_type": "stream",
     "text": [
      "[31 / 32] Hs=    0 -553.804229 4402.5 0.0 0.0 0.1 2.4 0.2 291.3 0.0 28.2 2.1 0.2 0.3 0.1 0.0 0.0 3.7 0.1 0.0 0.0 0.2 0.3 0.7 0.1 2.1 4734.6 [10 ; 0]:  30%|███       | 10/33 [25:45<59:25, 155.04s/it] "
     ]
    },
    {
     "name": "stdout",
     "output_type": "stream",
     "text": [
      "[Fc1noc(C#N)c1F]\n",
      "[conformers] 32\n",
      "16.4025 (45, 45, 45, 45) 15\n",
      "7.77384 (4, 10797, 45) 20\n"
     ]
    },
    {
     "name": "stderr",
     "output_type": "stream",
     "text": [
      "[1 / 32] Hs=    0 -529.180406 4690.5 0.1 0.1 0.1 3.3 0.3 289.0 0.1 27.1 4.3 0.4 0.4 0.2 0.0 0.1 4.4 0.3 0.0 0.0 0.2 0.5 2.1 1.0 19.7 5044.2 [11 ; 0]:  30%|███       | 10/33 [25:51<59:25, 155.04s/it]"
     ]
    },
    {
     "name": "stdout",
     "output_type": "stream",
     "text": [
      "16.4025 (45, 45, 45, 45) 15\n",
      "7.77384 (4, 10797, 45) 20\n"
     ]
    },
    {
     "name": "stderr",
     "output_type": "stream",
     "text": [
      "[2 / 32] Hs=    0 -529.182568 4495.7 0.1 0.0 0.1 3.3 0.3 295.9 0.0 26.5 2.0 0.2 0.3 0.1 0.0 0.0 3.3 0.2 0.0 0.0 0.2 0.3 0.6 0.2 2.9 4832.2 [11 ; 0]:  30%|███       | 10/33 [25:55<59:25, 155.04s/it] "
     ]
    },
    {
     "name": "stdout",
     "output_type": "stream",
     "text": [
      "16.4025 (45, 45, 45, 45) 15\n",
      "7.77384 (4, 10797, 45) 20\n"
     ]
    },
    {
     "name": "stderr",
     "output_type": "stream",
     "text": [
      "[3 / 32] Hs=    0 -529.187067 4579.8 0.1 0.0 0.1 3.5 0.3 295.7 0.1 27.2 2.4 0.3 0.3 0.1 0.0 0.0 3.8 0.2 0.0 0.0 0.2 0.4 2.8 0.3 3.8 4921.4 [11 ; 0]:  30%|███       | 10/33 [26:00<59:25, 155.04s/it]"
     ]
    },
    {
     "name": "stdout",
     "output_type": "stream",
     "text": [
      "16.4025 (45, 45, 45, 45) 15\n",
      "7.77384 (4, 10797, 45) 20\n"
     ]
    },
    {
     "name": "stderr",
     "output_type": "stream",
     "text": [
      "[4 / 32] Hs=    0 -529.185808 4573.6 0.0 0.0 0.1 2.9 0.2 298.7 0.1 26.9 2.2 0.2 0.3 0.1 0.0 0.0 3.1 0.1 0.0 0.0 0.2 0.3 0.6 0.2 2.3 4912.1 [11 ; 0]:  30%|███       | 10/33 [26:05<59:25, 155.04s/it]"
     ]
    },
    {
     "name": "stdout",
     "output_type": "stream",
     "text": [
      "16.4025 (45, 45, 45, 45) 15\n",
      "7.77384 (4, 10797, 45) 20\n"
     ]
    },
    {
     "name": "stderr",
     "output_type": "stream",
     "text": [
      "[5 / 32] Hs=    0 -529.185311 4503.6 0.1 0.0 0.1 3.3 0.3 308.6 0.1 26.4 1.9 0.3 0.3 0.1 0.0 0.0 3.1 0.2 0.0 0.0 0.2 0.4 0.8 0.4 6.3 4856.5 [11 ; 0]:  30%|███       | 10/33 [26:10<59:25, 155.04s/it]"
     ]
    },
    {
     "name": "stdout",
     "output_type": "stream",
     "text": [
      "16.4025 (45, 45, 45, 45) 15\n",
      "7.77384 (4, 10797, 45) 20\n"
     ]
    },
    {
     "name": "stderr",
     "output_type": "stream",
     "text": [
      "[6 / 32] Hs=    0 -529.184919 4497.2 0.1 0.0 0.1 3.7 0.3 291.1 0.1 27.3 2.5 0.2 0.3 0.1 0.0 0.0 3.3 0.2 0.0 0.0 0.2 0.3 0.8 0.3 3.5 4831.6 [11 ; 0]:  30%|███       | 10/33 [26:15<59:25, 155.04s/it]"
     ]
    },
    {
     "name": "stdout",
     "output_type": "stream",
     "text": [
      "16.4025 (45, 45, 45, 45) 15\n",
      "7.77384 (4, 10797, 45) 20\n"
     ]
    },
    {
     "name": "stderr",
     "output_type": "stream",
     "text": [
      "[7 / 32] Hs=    0 -529.182554 4379.7 0.1 0.0 0.1 3.2 0.3 293.2 0.1 26.9 1.9 0.2 0.3 0.1 0.0 0.0 3.1 0.2 0.0 0.0 0.2 0.3 0.6 0.2 3.1 4713.8 [11 ; 0]:  30%|███       | 10/33 [26:20<59:25, 155.04s/it]"
     ]
    },
    {
     "name": "stdout",
     "output_type": "stream",
     "text": [
      "16.4025 (45, 45, 45, 45) 15\n",
      "7.77384 (4, 10797, 45) 20\n"
     ]
    },
    {
     "name": "stderr",
     "output_type": "stream",
     "text": [
      "[8 / 32] Hs=    0 -529.182446 4605.4 0.0 0.0 0.1 3.0 0.2 291.2 0.1 26.5 1.9 0.2 0.3 0.1 0.0 0.0 3.1 0.1 0.0 0.0 0.2 0.3 0.6 0.2 2.4 4935.9 [11 ; 0]:  30%|███       | 10/33 [26:25<59:25, 155.04s/it]"
     ]
    },
    {
     "name": "stdout",
     "output_type": "stream",
     "text": [
      "16.4025 (45, 45, 45, 45) 15\n",
      "7.77384 (4, 10797, 45) 20\n"
     ]
    },
    {
     "name": "stderr",
     "output_type": "stream",
     "text": [
      "[9 / 32] Hs=    0 -529.186742 4480.0 0.1 0.0 0.1 3.6 0.3 305.1 0.0 26.7 2.0 0.3 0.3 0.1 0.0 0.1 3.6 0.2 0.0 0.0 0.2 0.4 1.2 0.6 16.8 4841.7 [11 ; 0]:  30%|███       | 10/33 [26:29<59:25, 155.04s/it]"
     ]
    },
    {
     "name": "stdout",
     "output_type": "stream",
     "text": [
      "16.4025 (45, 45, 45, 45) 15\n",
      "7.77384 (4, 10797, 45) 20\n"
     ]
    },
    {
     "name": "stderr",
     "output_type": "stream",
     "text": [
      "[10 / 32] Hs=    0 -529.185378 4478.0 0.1 0.0 0.1 3.2 0.3 294.2 0.1 28.2 2.2 0.2 0.3 0.1 0.0 0.0 3.2 0.2 0.0 0.0 0.2 0.3 1.3 0.2 3.5 4815.9 [11 ; 0]:  30%|███       | 10/33 [26:34<59:25, 155.04s/it]"
     ]
    },
    {
     "name": "stdout",
     "output_type": "stream",
     "text": [
      "16.4025 (45, 45, 45, 45) 15\n",
      "7.77384 (4, 10797, 45) 20\n"
     ]
    },
    {
     "name": "stderr",
     "output_type": "stream",
     "text": [
      "[11 / 32] Hs=    0 -529.192855 4522.1 0.0 0.0 0.1 2.9 0.2 309.8 0.0 27.2 2.0 0.3 0.3 0.1 0.0 0.0 3.6 0.2 0.0 0.0 0.2 0.3 0.7 0.2 2.4 4872.6 [11 ; 0]:  30%|███       | 10/33 [26:39<59:25, 155.04s/it]"
     ]
    },
    {
     "name": "stdout",
     "output_type": "stream",
     "text": [
      "16.4025 (45, 45, 45, 45) 15\n",
      "7.77384 (4, 10797, 45) 20\n"
     ]
    },
    {
     "name": "stderr",
     "output_type": "stream",
     "text": [
      "[12 / 32] Hs=    0 -529.186596 4381.9 0.0 0.0 0.1 2.9 0.2 294.9 0.0 26.9 2.1 0.2 0.3 0.1 0.0 0.0 3.1 0.1 0.0 0.0 0.2 0.3 0.6 0.1 2.0 4716.0 [11 ; 0]:  30%|███       | 10/33 [26:44<59:25, 155.04s/it]"
     ]
    },
    {
     "name": "stdout",
     "output_type": "stream",
     "text": [
      "16.4025 (45, 45, 45, 45) 15\n",
      "7.77384 (4, 10797, 45) 20\n"
     ]
    },
    {
     "name": "stderr",
     "output_type": "stream",
     "text": [
      "[13 / 32] Hs=    0 -529.186672 4470.9 0.0 0.0 0.1 3.6 0.3 301.9 0.1 27.2 2.0 0.3 0.3 0.1 0.0 0.0 3.2 0.2 0.0 0.0 0.2 0.3 0.8 0.3 3.9 4815.7 [11 ; 0]:  30%|███       | 10/33 [26:49<59:25, 155.04s/it]"
     ]
    },
    {
     "name": "stdout",
     "output_type": "stream",
     "text": [
      "16.4025 (45, 45, 45, 45) 15\n",
      "7.77384 (4, 10797, 45) 20\n"
     ]
    },
    {
     "name": "stderr",
     "output_type": "stream",
     "text": [
      "[14 / 32] Hs=    0 -529.186966 4463.5 0.1 0.0 0.1 3.0 0.2 293.2 0.0 27.5 2.1 0.2 0.3 0.1 0.0 0.0 3.6 0.1 0.0 0.0 0.2 0.3 0.6 0.1 2.1 4797.3 [11 ; 0]:  30%|███       | 10/33 [26:54<59:25, 155.04s/it]"
     ]
    },
    {
     "name": "stdout",
     "output_type": "stream",
     "text": [
      "16.4025 (45, 45, 45, 45) 15\n",
      "7.77384 (4, 10797, 45) 20\n"
     ]
    },
    {
     "name": "stderr",
     "output_type": "stream",
     "text": [
      "[15 / 32] Hs=    0 -529.180171 4586.6 0.0 0.0 0.1 2.9 0.2 290.8 0.0 26.5 1.9 0.2 0.3 0.1 0.0 0.0 3.3 0.4 0.0 0.0 0.2 0.3 0.5 0.1 2.1 4916.5 [11 ; 0]:  30%|███       | 10/33 [26:58<59:25, 155.04s/it]"
     ]
    },
    {
     "name": "stdout",
     "output_type": "stream",
     "text": [
      "16.4025 (45, 45, 45, 45) 15\n",
      "7.77384 (4, 10797, 45) 20\n"
     ]
    },
    {
     "name": "stderr",
     "output_type": "stream",
     "text": [
      "[16 / 32] Hs=    0 -529.191010 4376.0 0.1 0.0 0.1 3.3 0.3 295.7 0.1 26.7 2.0 0.2 0.3 0.1 0.0 0.0 3.1 0.1 0.0 0.0 0.2 0.3 2.9 0.2 3.5 4715.2 [11 ; 0]:  30%|███       | 10/33 [27:03<59:25, 155.04s/it]"
     ]
    },
    {
     "name": "stdout",
     "output_type": "stream",
     "text": [
      "16.4025 (45, 45, 45, 45) 15\n",
      "7.77384 (4, 10797, 45) 20\n"
     ]
    },
    {
     "name": "stderr",
     "output_type": "stream",
     "text": [
      "[17 / 32] Hs=    0 -529.187850 4475.9 0.1 0.0 0.1 2.9 0.2 304.4 0.1 27.3 2.1 0.4 0.3 0.1 0.0 0.0 3.1 0.1 0.0 0.0 0.2 0.3 0.8 0.1 2.0 4820.5 [11 ; 0]:  30%|███       | 10/33 [27:08<59:25, 155.04s/it]"
     ]
    },
    {
     "name": "stdout",
     "output_type": "stream",
     "text": [
      "16.4025 (45, 45, 45, 45) 15\n",
      "7.77384 (4, 10797, 45) 20\n"
     ]
    },
    {
     "name": "stderr",
     "output_type": "stream",
     "text": [
      "[18 / 32] Hs=    0 -529.188824 4601.3 0.0 0.0 0.1 2.8 0.2 301.8 0.1 32.2 2.1 0.3 0.3 0.1 0.0 0.0 3.8 0.2 0.0 0.0 0.2 0.3 0.6 0.3 3.0 4949.7 [11 ; 0]:  30%|███       | 10/33 [27:13<59:25, 155.04s/it]"
     ]
    },
    {
     "name": "stdout",
     "output_type": "stream",
     "text": [
      "16.4025 (45, 45, 45, 45) 15\n",
      "7.77384 (4, 10797, 45) 20\n"
     ]
    },
    {
     "name": "stderr",
     "output_type": "stream",
     "text": [
      "[19 / 32] Hs=    0 -529.182550 4440.1 0.0 0.0 0.1 3.3 0.2 295.1 0.1 26.8 3.3 0.2 0.3 0.1 0.0 0.0 3.0 0.1 0.0 0.0 0.3 0.3 0.5 0.1 2.1 4776.0 [11 ; 0]:  30%|███       | 10/33 [27:18<59:25, 155.04s/it]"
     ]
    },
    {
     "name": "stdout",
     "output_type": "stream",
     "text": [
      "16.4025 (45, 45, 45, 45) 15\n",
      "7.77384 (4, 10797, 45) 20\n"
     ]
    },
    {
     "name": "stderr",
     "output_type": "stream",
     "text": [
      "[20 / 32] Hs=    0 -529.184984 4467.3 0.0 0.0 0.1 2.9 0.2 308.7 0.0 27.1 2.0 0.2 0.3 0.1 0.0 0.0 3.1 0.1 0.0 0.0 0.2 0.3 0.7 0.2 2.5 4816.0 [11 ; 0]:  30%|███       | 10/33 [27:23<59:25, 155.04s/it]"
     ]
    },
    {
     "name": "stdout",
     "output_type": "stream",
     "text": [
      "16.4025 (45, 45, 45, 45) 15\n",
      "7.77384 (4, 10797, 45) 20\n"
     ]
    },
    {
     "name": "stderr",
     "output_type": "stream",
     "text": [
      "[21 / 32] Hs=    0 -529.187236 4449.5 0.1 0.0 0.1 3.3 0.3 295.9 0.1 26.9 1.9 0.2 0.3 0.1 0.0 0.0 3.1 0.2 0.0 0.0 0.2 0.3 0.6 0.2 3.0 4786.3 [11 ; 0]:  30%|███       | 10/33 [27:27<59:25, 155.04s/it]"
     ]
    },
    {
     "name": "stdout",
     "output_type": "stream",
     "text": [
      "16.4025 (45, 45, 45, 45) 15\n",
      "7.77384 (4, 10797, 45) 20\n"
     ]
    },
    {
     "name": "stderr",
     "output_type": "stream",
     "text": [
      "[22 / 32] Hs=    0 -529.188477 4519.4 0.1 0.0 0.1 4.1 0.3 306.2 0.1 27.6 1.9 0.2 0.3 0.1 0.0 0.0 3.2 0.2 0.0 0.0 0.2 0.4 0.7 0.3 3.2 4868.6 [11 ; 0]:  30%|███       | 10/33 [27:32<59:25, 155.04s/it]"
     ]
    },
    {
     "name": "stdout",
     "output_type": "stream",
     "text": [
      "16.4025 (45, 45, 45, 45) 15\n",
      "7.77384 (4, 10797, 45) 20\n"
     ]
    },
    {
     "name": "stderr",
     "output_type": "stream",
     "text": [
      "[23 / 32] Hs=    0 -529.188326 4545.2 0.1 0.0 0.1 3.3 0.3 309.7 0.1 27.4 3.1 0.3 0.3 0.2 0.0 0.0 3.3 0.2 0.0 0.0 0.2 0.3 0.8 0.2 3.5 4898.6 [11 ; 0]:  30%|███       | 10/33 [27:37<59:25, 155.04s/it]"
     ]
    },
    {
     "name": "stdout",
     "output_type": "stream",
     "text": [
      "16.4025 (45, 45, 45, 45) 15\n",
      "7.77384 (4, 10797, 45) 20\n"
     ]
    },
    {
     "name": "stderr",
     "output_type": "stream",
     "text": [
      "[24 / 32] Hs=    0 -529.184795 4600.0 0.1 0.0 0.1 3.2 0.3 306.4 0.3 28.4 3.2 0.3 0.3 0.1 0.0 0.1 4.0 0.2 0.0 0.0 0.2 0.4 3.2 0.7 19.3 4970.8 [11 ; 0]:  30%|███       | 10/33 [27:42<59:25, 155.04s/it]"
     ]
    },
    {
     "name": "stdout",
     "output_type": "stream",
     "text": [
      "16.4025 (45, 45, 45, 45) 15\n",
      "7.77384 (4, 10797, 45) 20\n"
     ]
    },
    {
     "name": "stderr",
     "output_type": "stream",
     "text": [
      "[25 / 32] Hs=    0 -529.189638 4661.1 0.1 0.0 0.1 3.2 0.2 295.9 0.0 27.5 2.5 0.2 0.3 0.1 0.0 0.0 3.3 0.2 0.0 0.0 0.2 0.3 1.6 0.2 2.3 4999.3 [11 ; 0]:  30%|███       | 10/33 [27:47<59:25, 155.04s/it] "
     ]
    },
    {
     "name": "stdout",
     "output_type": "stream",
     "text": [
      "16.4025 (45, 45, 45, 45) 15\n",
      "7.77384 (4, 10797, 45) 20\n"
     ]
    },
    {
     "name": "stderr",
     "output_type": "stream",
     "text": [
      "[26 / 32] Hs=    0 -529.185249 4448.4 0.1 0.0 0.1 3.2 0.2 315.3 0.1 27.7 2.1 0.3 0.3 0.1 0.0 0.0 3.3 0.2 0.0 0.0 0.2 0.4 2.0 0.4 4.6 4809.0 [11 ; 0]:  30%|███       | 10/33 [27:52<59:25, 155.04s/it]"
     ]
    },
    {
     "name": "stdout",
     "output_type": "stream",
     "text": [
      "16.4025 (45, 45, 45, 45) 15\n",
      "7.77384 (4, 10797, 45) 20\n"
     ]
    },
    {
     "name": "stderr",
     "output_type": "stream",
     "text": [
      "[27 / 32] Hs=    0 -529.180939 4485.1 0.1 0.0 0.1 3.2 0.3 289.5 0.1 30.2 2.2 0.2 0.3 0.2 0.0 0.0 3.2 0.2 0.0 0.0 0.2 0.4 0.8 0.3 3.5 4820.1 [11 ; 0]:  30%|███       | 10/33 [27:57<59:25, 155.04s/it]"
     ]
    },
    {
     "name": "stdout",
     "output_type": "stream",
     "text": [
      "16.4025 (45, 45, 45, 45) 15\n",
      "7.77384 (4, 10797, 45) 20\n"
     ]
    },
    {
     "name": "stderr",
     "output_type": "stream",
     "text": [
      "[28 / 32] Hs=    0 -529.185309 4494.8 0.1 0.0 0.1 3.2 0.3 286.6 0.1 27.2 2.4 0.3 0.3 0.1 0.0 0.0 3.5 0.2 0.0 0.0 0.2 0.4 0.9 0.5 5.8 4827.0 [11 ; 0]:  30%|███       | 10/33 [28:02<59:25, 155.04s/it]"
     ]
    },
    {
     "name": "stdout",
     "output_type": "stream",
     "text": [
      "16.4025 (45, 45, 45, 45) 15\n",
      "7.77384 (4, 10797, 45) 20\n"
     ]
    },
    {
     "name": "stderr",
     "output_type": "stream",
     "text": [
      "[29 / 32] Hs=    0 -529.188367 4583.3 0.0 0.0 0.1 2.9 0.2 305.4 0.1 26.9 3.0 0.2 0.3 0.1 0.0 0.0 4.9 0.2 0.0 0.0 0.2 0.6 0.7 0.3 3.9 4933.3 [11 ; 0]:  30%|███       | 10/33 [28:06<59:25, 155.04s/it]"
     ]
    },
    {
     "name": "stdout",
     "output_type": "stream",
     "text": [
      "16.4025 (45, 45, 45, 45) 15\n",
      "7.77384 (4, 10797, 45) 20\n"
     ]
    },
    {
     "name": "stderr",
     "output_type": "stream",
     "text": [
      "[30 / 32] Hs=    0 -529.190532 4530.7 0.0 0.1 0.1 2.9 0.2 306.8 0.1 26.7 3.3 0.2 0.3 0.1 0.0 0.0 3.0 0.1 0.0 0.0 0.2 0.4 0.6 0.2 2.4 4878.4 [11 ; 0]:  30%|███       | 10/33 [28:11<59:25, 155.04s/it]"
     ]
    },
    {
     "name": "stdout",
     "output_type": "stream",
     "text": [
      "16.4025 (45, 45, 45, 45) 15\n",
      "7.77384 (4, 10797, 45) 20\n"
     ]
    },
    {
     "name": "stderr",
     "output_type": "stream",
     "text": [
      "[31 / 32] Hs=    0 -529.196437 4531.8 0.1 0.0 0.1 3.2 0.3 301.5 0.1 27.1 3.3 0.2 0.3 0.1 0.0 0.0 3.0 0.2 0.0 0.0 0.3 0.3 2.6 0.2 2.7 4877.4 [11 ; 0]:  30%|███       | 10/33 [28:16<59:25, 155.04s/it]"
     ]
    },
    {
     "name": "stdout",
     "output_type": "stream",
     "text": [
      "16.4025 (45, 45, 45, 45) 15\n",
      "7.77384 (4, 10797, 45) 20\n"
     ]
    },
    {
     "name": "stderr",
     "output_type": "stream",
     "text": [
      "[31 / 32] Hs=    0 -529.196437 4531.8 0.1 0.0 0.1 3.2 0.3 301.5 0.1 27.1 3.3 0.2 0.3 0.1 0.0 0.0 3.0 0.2 0.0 0.0 0.3 0.3 2.6 0.2 2.7 4877.4 [11 ; 0]:  33%|███▎      | 11/33 [28:21<56:54, 155.19s/it]"
     ]
    },
    {
     "name": "stdout",
     "output_type": "stream",
     "text": [
      "[FC(F)=C(F)C(F)(F)F]\n",
      "[conformers] 32\n",
      "16.4025 (45, 45, 45, 45) 15\n",
      "7.77384 (4, 10797, 45) 20\n"
     ]
    },
    {
     "name": "stderr",
     "output_type": "stream",
     "text": [
      "[1 / 32] Hs=    0 -702.838440 4642.5 0.1 0.0 0.1 2.2 0.3 267.1 0.1 26.4 2.0 0.2 0.3 0.2 0.0 0.0 3.0 0.2 0.0 0.0 0.2 0.3 1.4 0.4 3.2 4950.2 [12 ; 0]:  33%|███▎      | 11/33 [28:26<56:54, 155.19s/it] "
     ]
    },
    {
     "name": "stdout",
     "output_type": "stream",
     "text": [
      "16.4025 (45, 45, 45, 45) 15\n",
      "7.77384 (4, 10797, 45) 20\n"
     ]
    },
    {
     "name": "stderr",
     "output_type": "stream",
     "text": [
      "[2 / 32] Hs=    0 -702.839616 4481.6 0.0 0.0 0.1 1.9 0.3 265.2 0.0 26.4 2.1 0.2 0.3 0.1 0.0 0.0 3.1 0.1 0.0 0.0 0.2 0.3 0.7 0.2 2.3 4785.1 [12 ; 0]:  33%|███▎      | 11/33 [28:31<56:54, 155.19s/it]"
     ]
    },
    {
     "name": "stdout",
     "output_type": "stream",
     "text": [
      "16.4025 (45, 45, 45, 45) 15\n",
      "7.77384 (4, 10797, 45) 20\n"
     ]
    },
    {
     "name": "stderr",
     "output_type": "stream",
     "text": [
      "[3 / 32] Hs=    0 -702.838728 4494.3 0.3 0.0 0.1 2.2 0.3 291.1 0.1 26.3 2.0 0.3 0.3 0.2 0.0 0.0 3.2 0.2 0.0 0.0 0.2 0.4 0.8 0.4 6.9 4829.6 [12 ; 0]:  33%|███▎      | 11/33 [28:36<56:54, 155.19s/it]"
     ]
    },
    {
     "name": "stdout",
     "output_type": "stream",
     "text": [
      "16.4025 (45, 45, 45, 45) 15\n",
      "7.77384 (4, 10797, 45) 20\n"
     ]
    },
    {
     "name": "stderr",
     "output_type": "stream",
     "text": [
      "[4 / 32] Hs=    0 -702.843479 4603.5 0.1 0.0 0.1 2.2 0.3 271.3 0.2 26.7 2.0 0.3 0.3 0.1 0.0 0.1 3.5 0.2 0.0 0.0 0.3 0.4 1.2 0.6 16.2 4929.6 [12 ; 0]:  33%|███▎      | 11/33 [28:41<56:54, 155.19s/it]"
     ]
    },
    {
     "name": "stdout",
     "output_type": "stream",
     "text": [
      "16.4025 (45, 45, 45, 45) 15\n",
      "7.77384 (4, 10797, 45) 20\n"
     ]
    },
    {
     "name": "stderr",
     "output_type": "stream",
     "text": [
      "[5 / 32] Hs=    0 -702.839858 4478.5 0.1 0.0 0.1 2.0 0.2 273.8 0.1 26.9 2.9 0.3 0.3 0.1 0.0 0.0 3.3 0.2 0.0 0.0 0.2 0.3 0.7 0.3 3.9 4794.2 [12 ; 0]:  33%|███▎      | 11/33 [28:45<56:54, 155.19s/it] "
     ]
    },
    {
     "name": "stdout",
     "output_type": "stream",
     "text": [
      "16.4025 (45, 45, 45, 45) 15\n",
      "7.77384 (4, 10797, 45) 20\n"
     ]
    },
    {
     "name": "stderr",
     "output_type": "stream",
     "text": [
      "[6 / 32] Hs=    0 -702.844978 4464.0 0.0 0.0 0.1 2.2 0.2 284.7 0.0 25.6 1.9 0.2 0.3 0.1 0.0 0.0 3.2 0.1 0.0 0.0 0.2 0.3 0.5 0.2 2.1 4785.9 [12 ; 0]:  33%|███▎      | 11/33 [28:50<56:54, 155.19s/it]"
     ]
    },
    {
     "name": "stdout",
     "output_type": "stream",
     "text": [
      "16.4025 (45, 45, 45, 45) 15\n",
      "7.77384 (4, 10797, 45) 20\n"
     ]
    },
    {
     "name": "stderr",
     "output_type": "stream",
     "text": [
      "[7 / 32] Hs=    0 -702.845647 4518.0 0.1 0.0 0.1 2.2 0.3 267.9 0.1 26.5 2.3 0.2 0.3 0.1 0.0 0.0 3.0 0.2 0.0 0.0 0.2 0.3 4.1 1.0 5.1 4832.0 [12 ; 0]:  33%|███▎      | 11/33 [28:55<56:54, 155.19s/it]"
     ]
    },
    {
     "name": "stdout",
     "output_type": "stream",
     "text": [
      "16.4025 (45, 45, 45, 45) 15\n",
      "7.77384 (4, 10797, 45) 20\n"
     ]
    },
    {
     "name": "stderr",
     "output_type": "stream",
     "text": [
      "[8 / 32] Hs=    0 -702.839363 4386.4 0.1 0.0 0.1 2.3 0.3 263.8 0.0 26.4 4.0 0.2 0.3 0.1 0.0 0.0 3.2 0.2 0.0 0.0 0.2 0.3 0.7 0.4 3.4 4692.4 [12 ; 0]:  33%|███▎      | 11/33 [29:00<56:54, 155.19s/it]"
     ]
    },
    {
     "name": "stdout",
     "output_type": "stream",
     "text": [
      "16.4025 (45, 45, 45, 45) 15\n",
      "7.77384 (4, 10797, 45) 20\n"
     ]
    },
    {
     "name": "stderr",
     "output_type": "stream",
     "text": [
      "[9 / 32] Hs=    0 -702.844481 4541.7 0.1 0.0 0.1 2.3 0.3 276.7 0.1 26.4 2.2 0.2 0.3 0.1 0.0 0.0 3.1 0.2 0.0 0.0 0.3 0.3 0.6 0.2 3.0 4858.2 [12 ; 0]:  33%|███▎      | 11/33 [29:05<56:54, 155.19s/it]"
     ]
    },
    {
     "name": "stdout",
     "output_type": "stream",
     "text": [
      "16.4025 (45, 45, 45, 45) 15\n",
      "7.77384 (4, 10797, 45) 20\n"
     ]
    },
    {
     "name": "stderr",
     "output_type": "stream",
     "text": [
      "[10 / 32] Hs=    0 -702.841909 4492.2 0.0 0.0 0.1 2.1 0.2 280.4 0.1 26.2 2.1 0.2 0.3 0.1 0.0 0.0 3.1 0.2 0.0 0.0 0.2 0.3 1.0 0.6 4.8 4814.2 [12 ; 0]:  33%|███▎      | 11/33 [29:09<56:54, 155.19s/it]"
     ]
    },
    {
     "name": "stdout",
     "output_type": "stream",
     "text": [
      "16.4025 (45, 45, 45, 45) 15\n",
      "7.77384 (4, 10797, 45) 20\n"
     ]
    },
    {
     "name": "stderr",
     "output_type": "stream",
     "text": [
      "[11 / 32] Hs=    0 -702.847865 4497.3 0.1 0.0 0.1 2.2 0.3 276.2 0.1 26.5 1.8 0.2 0.3 0.1 0.0 0.0 3.1 0.2 0.0 0.0 0.2 0.3 0.6 0.2 3.0 4812.8 [12 ; 0]:  33%|███▎      | 11/33 [29:14<56:54, 155.19s/it]"
     ]
    },
    {
     "name": "stdout",
     "output_type": "stream",
     "text": [
      "16.4025 (45, 45, 45, 45) 15\n",
      "7.77384 (4, 10797, 45) 20\n"
     ]
    },
    {
     "name": "stderr",
     "output_type": "stream",
     "text": [
      "[12 / 32] Hs=    0 -702.841101 4463.3 0.1 0.1 0.1 2.2 0.3 269.8 0.1 26.3 1.9 0.2 0.3 0.1 0.0 0.0 3.1 0.2 0.0 0.0 0.2 0.3 0.7 0.2 3.0 4772.5 [12 ; 0]:  33%|███▎      | 11/33 [29:19<56:54, 155.19s/it]"
     ]
    },
    {
     "name": "stdout",
     "output_type": "stream",
     "text": [
      "16.4025 (45, 45, 45, 45) 15\n",
      "7.77384 (4, 10797, 45) 20\n"
     ]
    },
    {
     "name": "stderr",
     "output_type": "stream",
     "text": [
      "[13 / 32] Hs=    0 -702.839781 4505.9 0.0 0.0 0.1 2.1 0.2 272.5 0.0 27.3 2.0 0.3 0.3 0.1 0.0 0.0 3.2 0.2 0.0 0.0 0.2 0.3 0.6 0.1 2.2 4817.6 [12 ; 0]:  33%|███▎      | 11/33 [29:24<56:54, 155.19s/it]"
     ]
    },
    {
     "name": "stdout",
     "output_type": "stream",
     "text": [
      "16.4025 (45, 45, 45, 45) 15\n",
      "7.77384 (4, 10797, 45) 20\n"
     ]
    },
    {
     "name": "stderr",
     "output_type": "stream",
     "text": [
      "[14 / 32] Hs=    0 -702.848387 4411.3 0.1 0.0 0.1 2.2 0.3 270.7 0.1 25.9 1.9 0.2 0.3 0.1 0.0 0.0 3.1 0.1 0.0 0.0 0.2 0.3 0.8 0.2 3.3 4721.2 [12 ; 0]:  33%|███▎      | 11/33 [29:28<56:54, 155.19s/it]"
     ]
    },
    {
     "name": "stdout",
     "output_type": "stream",
     "text": [
      "16.4025 (45, 45, 45, 45) 15\n",
      "7.77384 (4, 10797, 45) 20\n"
     ]
    },
    {
     "name": "stderr",
     "output_type": "stream",
     "text": [
      "[15 / 32] Hs=    0 -702.840927 4574.4 0.0 0.0 0.1 2.4 0.3 267.3 0.1 26.3 2.4 0.2 0.3 0.1 0.0 0.0 3.2 0.1 0.0 0.0 0.2 0.3 0.5 0.1 2.1 4880.4 [12 ; 0]:  33%|███▎      | 11/33 [29:33<56:54, 155.19s/it]"
     ]
    },
    {
     "name": "stdout",
     "output_type": "stream",
     "text": [
      "16.4025 (45, 45, 45, 45) 15\n",
      "7.77384 (4, 10797, 45) 20\n"
     ]
    },
    {
     "name": "stderr",
     "output_type": "stream",
     "text": [
      "[16 / 32] Hs=    0 -702.844891 4395.0 0.0 0.0 0.1 2.3 0.2 280.8 0.0 26.0 2.0 0.2 0.3 0.1 0.0 0.0 3.0 0.2 0.0 0.0 0.2 0.3 0.6 0.1 2.0 4713.4 [12 ; 0]:  33%|███▎      | 11/33 [29:38<56:54, 155.19s/it]"
     ]
    },
    {
     "name": "stdout",
     "output_type": "stream",
     "text": [
      "16.4025 (45, 45, 45, 45) 15\n",
      "7.77384 (4, 10797, 45) 20\n"
     ]
    },
    {
     "name": "stderr",
     "output_type": "stream",
     "text": [
      "[17 / 32] Hs=    0 -702.838916 4439.5 0.1 0.0 0.1 2.4 0.3 276.4 0.0 26.0 2.0 0.2 0.3 0.1 0.0 0.0 3.2 0.1 0.0 0.0 0.2 0.3 0.8 0.2 3.6 4755.8 [12 ; 0]:  33%|███▎      | 11/33 [29:43<56:54, 155.19s/it]"
     ]
    },
    {
     "name": "stdout",
     "output_type": "stream",
     "text": [
      "16.4025 (45, 45, 45, 45) 15\n",
      "7.77384 (4, 10797, 45) 20\n"
     ]
    },
    {
     "name": "stderr",
     "output_type": "stream",
     "text": [
      "[18 / 32] Hs=    0 -702.842119 4435.3 0.0 0.0 0.1 1.8 0.2 266.4 0.1 26.1 2.0 0.2 0.3 0.1 0.0 0.0 3.1 0.1 0.0 0.0 0.2 0.3 0.7 0.2 2.3 4739.5 [12 ; 0]:  33%|███▎      | 11/33 [29:48<56:54, 155.19s/it]"
     ]
    },
    {
     "name": "stdout",
     "output_type": "stream",
     "text": [
      "16.4025 (45, 45, 45, 45) 15\n",
      "7.77384 (4, 10797, 45) 20\n"
     ]
    },
    {
     "name": "stderr",
     "output_type": "stream",
     "text": [
      "[19 / 32] Hs=    0 -702.838238 4620.8 0.1 0.0 0.1 2.6 0.3 269.8 0.1 26.2 2.1 0.5 0.3 0.1 0.0 0.1 3.3 0.2 0.0 0.0 0.2 0.3 0.8 0.2 3.8 4931.9 [12 ; 0]:  33%|███▎      | 11/33 [29:52<56:54, 155.19s/it]"
     ]
    },
    {
     "name": "stdout",
     "output_type": "stream",
     "text": [
      "16.4025 (45, 45, 45, 45) 15\n",
      "7.77384 (4, 10797, 45) 20\n"
     ]
    },
    {
     "name": "stderr",
     "output_type": "stream",
     "text": [
      "[20 / 32] Hs=    0 -702.840955 4508.1 0.0 0.0 0.1 2.3 0.2 280.2 0.0 26.2 2.0 0.2 0.3 0.1 0.0 0.0 3.1 0.1 0.0 0.0 0.2 0.3 0.7 0.2 2.5 4826.8 [12 ; 0]:  33%|███▎      | 11/33 [29:57<56:54, 155.19s/it]"
     ]
    },
    {
     "name": "stdout",
     "output_type": "stream",
     "text": [
      "16.4025 (45, 45, 45, 45) 15\n",
      "7.77384 (4, 10797, 45) 20\n"
     ]
    },
    {
     "name": "stderr",
     "output_type": "stream",
     "text": [
      "[21 / 32] Hs=    0 -702.843089 4462.0 0.1 0.0 0.1 2.2 0.3 276.4 0.1 26.5 1.9 0.2 0.3 0.1 0.0 0.0 3.0 0.2 0.0 0.0 0.2 0.3 0.8 0.2 3.5 4778.4 [12 ; 0]:  33%|███▎      | 11/33 [30:02<56:54, 155.19s/it]"
     ]
    },
    {
     "name": "stdout",
     "output_type": "stream",
     "text": [
      "16.4025 (45, 45, 45, 45) 15\n",
      "7.77384 (4, 10797, 45) 20\n"
     ]
    },
    {
     "name": "stderr",
     "output_type": "stream",
     "text": [
      "[22 / 32] Hs=    0 -702.842376 4611.3 0.1 0.0 0.1 2.2 0.3 271.5 0.1 25.9 2.0 0.2 0.3 0.1 0.0 0.0 3.1 0.2 0.0 0.0 0.2 0.3 1.3 0.3 3.0 4922.5 [12 ; 0]:  33%|███▎      | 11/33 [30:07<56:54, 155.19s/it]"
     ]
    },
    {
     "name": "stdout",
     "output_type": "stream",
     "text": [
      "16.4025 (45, 45, 45, 45) 15\n",
      "7.77384 (4, 10797, 45) 20\n"
     ]
    },
    {
     "name": "stderr",
     "output_type": "stream",
     "text": [
      "[23 / 32] Hs=    0 -702.848341 4419.7 0.0 0.0 0.1 1.8 0.2 268.0 0.0 26.6 3.6 0.2 0.3 0.1 0.0 0.0 3.4 0.1 0.0 0.0 0.2 0.3 0.7 0.2 2.3 4727.8 [12 ; 0]:  33%|███▎      | 11/33 [30:12<56:54, 155.19s/it]"
     ]
    },
    {
     "name": "stdout",
     "output_type": "stream",
     "text": [
      "16.4025 (45, 45, 45, 45) 15\n",
      "7.77384 (4, 10797, 45) 20\n"
     ]
    },
    {
     "name": "stderr",
     "output_type": "stream",
     "text": [
      "[24 / 32] Hs=    0 -702.840555 4404.1 0.0 0.0 0.1 1.9 0.2 275.5 0.0 26.6 2.6 0.2 0.3 0.1 0.0 0.0 3.0 0.2 0.0 0.0 0.5 0.3 3.9 0.2 2.4 4722.1 [12 ; 0]:  33%|███▎      | 11/33 [30:16<56:54, 155.19s/it]"
     ]
    },
    {
     "name": "stdout",
     "output_type": "stream",
     "text": [
      "16.4025 (45, 45, 45, 45) 15\n",
      "7.77384 (4, 10797, 45) 20\n"
     ]
    },
    {
     "name": "stderr",
     "output_type": "stream",
     "text": [
      "[25 / 32] Hs=    0 -702.838458 4507.5 0.1 0.0 0.1 2.6 0.3 281.9 0.0 26.7 2.1 0.3 0.3 0.2 0.0 0.0 3.7 0.2 0.0 0.0 0.2 0.3 1.1 0.7 20.3 4848.6 [12 ; 0]:  33%|███▎      | 11/33 [30:21<56:54, 155.19s/it]"
     ]
    },
    {
     "name": "stdout",
     "output_type": "stream",
     "text": [
      "16.4025 (45, 45, 45, 45) 15\n",
      "7.77384 (4, 10797, 45) 20\n"
     ]
    },
    {
     "name": "stderr",
     "output_type": "stream",
     "text": [
      "[26 / 32] Hs=    0 -702.839680 4483.7 0.0 0.0 0.1 2.2 0.2 269.2 0.0 26.2 2.1 0.2 0.3 0.1 0.0 0.0 3.2 0.1 0.0 0.0 0.2 0.3 2.3 0.2 2.0 4792.6 [12 ; 0]:  33%|███▎      | 11/33 [30:26<56:54, 155.19s/it] "
     ]
    },
    {
     "name": "stdout",
     "output_type": "stream",
     "text": [
      "16.4025 (45, 45, 45, 45) 15\n",
      "7.77384 (4, 10797, 45) 20\n"
     ]
    },
    {
     "name": "stderr",
     "output_type": "stream",
     "text": [
      "[27 / 32] Hs=    0 -702.842460 4488.4 0.1 0.0 0.1 2.2 0.3 271.7 0.0 25.8 1.9 0.2 0.3 0.1 0.0 0.0 3.2 0.2 0.0 0.0 0.2 0.3 0.6 0.2 2.9 4798.7 [12 ; 0]:  33%|███▎      | 11/33 [30:31<56:54, 155.19s/it]"
     ]
    },
    {
     "name": "stdout",
     "output_type": "stream",
     "text": [
      "16.4025 (45, 45, 45, 45) 15\n",
      "7.77384 (4, 10797, 45) 20\n"
     ]
    },
    {
     "name": "stderr",
     "output_type": "stream",
     "text": [
      "[28 / 32] Hs=    0 -702.845148 4541.8 0.1 0.0 0.1 2.8 0.4 286.7 0.1 26.7 2.4 0.3 0.3 0.1 0.0 0.0 4.4 0.2 0.0 0.0 0.2 0.3 2.2 0.3 4.6 4874.0 [12 ; 0]:  33%|███▎      | 11/33 [30:36<56:54, 155.19s/it]"
     ]
    },
    {
     "name": "stdout",
     "output_type": "stream",
     "text": [
      "16.4025 (45, 45, 45, 45) 15\n",
      "7.77384 (4, 10797, 45) 20\n"
     ]
    },
    {
     "name": "stderr",
     "output_type": "stream",
     "text": [
      "[29 / 32] Hs=    0 -702.843792 4553.1 0.0 0.0 0.1 2.3 0.2 271.1 0.0 26.7 2.0 0.2 0.3 0.1 0.0 0.0 2.9 0.1 0.0 0.0 0.2 0.3 0.6 0.2 2.2 4862.6 [12 ; 0]:  33%|███▎      | 11/33 [30:41<56:54, 155.19s/it]"
     ]
    },
    {
     "name": "stdout",
     "output_type": "stream",
     "text": [
      "16.4025 (45, 45, 45, 45) 15\n",
      "7.77384 (4, 10797, 45) 20\n"
     ]
    },
    {
     "name": "stderr",
     "output_type": "stream",
     "text": [
      "[30 / 32] Hs=    0 -702.840501 4457.2 0.1 0.0 0.1 2.3 0.3 271.5 0.3 28.9 2.1 0.4 0.3 0.2 0.0 0.1 3.9 0.3 0.0 0.0 0.2 0.5 1.2 0.4 5.8 4776.1 [12 ; 0]:  33%|███▎      | 11/33 [30:45<56:54, 155.19s/it]"
     ]
    },
    {
     "name": "stdout",
     "output_type": "stream",
     "text": [
      "16.4025 (45, 45, 45, 45) 15\n",
      "7.77384 (4, 10797, 45) 20\n"
     ]
    },
    {
     "name": "stderr",
     "output_type": "stream",
     "text": [
      "[31 / 32] Hs=    0 -702.846366 4639.8 0.2 0.0 0.2 2.5 0.3 296.3 0.1 26.4 2.3 0.4 0.3 0.2 0.0 0.1 3.3 0.2 0.0 0.0 0.3 0.4 0.7 0.4 5.1 4979.5 [12 ; 0]:  33%|███▎      | 11/33 [30:50<56:54, 155.19s/it]"
     ]
    },
    {
     "name": "stdout",
     "output_type": "stream",
     "text": [
      "16.4025 (45, 45, 45, 45) 15\n",
      "7.77384 (4, 10797, 45) 20\n"
     ]
    },
    {
     "name": "stderr",
     "output_type": "stream",
     "text": [
      "[31 / 32] Hs=    0 -702.846366 4639.8 0.2 0.0 0.2 2.5 0.3 296.3 0.1 26.4 2.3 0.4 0.3 0.2 0.0 0.1 3.3 0.2 0.0 0.0 0.3 0.4 0.7 0.4 5.1 4979.5 [12 ; 0]:  36%|███▋      | 12/33 [30:55<54:13, 154.94s/it]"
     ]
    },
    {
     "name": "stdout",
     "output_type": "stream",
     "text": [
      "[FC(F)(F)C(F)(F)C#N]\n",
      "[conformers] 32\n",
      "16.4025 (45, 45, 45, 45) 15\n",
      "7.77384 (4, 10797, 45) 20\n"
     ]
    },
    {
     "name": "stderr",
     "output_type": "stream",
     "text": [
      "[1 / 32] Hs=    0 -658.498034 4595.7 0.0 0.0 0.1 2.6 0.2 283.8 0.1 26.7 2.0 0.2 0.3 0.1 0.0 0.0 3.1 0.2 0.0 0.0 0.3 0.4 1.2 0.6 17.0 4934.6 [13 ; 0]:  36%|███▋      | 12/33 [31:00<54:13, 154.94s/it]"
     ]
    },
    {
     "name": "stdout",
     "output_type": "stream",
     "text": [
      "16.4025 (45, 45, 45, 45) 15\n",
      "7.77384 (4, 10797, 45) 20\n"
     ]
    },
    {
     "name": "stderr",
     "output_type": "stream",
     "text": [
      "[2 / 32] Hs=    0 -658.494987 4395.1 0.0 0.0 0.1 2.5 0.2 282.3 0.0 26.3 1.8 0.2 0.3 0.2 0.0 0.0 3.1 0.1 0.0 0.0 0.2 0.3 0.6 0.1 2.2 4715.6 [13 ; 0]:  36%|███▋      | 12/33 [31:05<54:13, 154.94s/it] "
     ]
    },
    {
     "name": "stdout",
     "output_type": "stream",
     "text": [
      "16.4025 (45, 45, 45, 45) 15\n",
      "7.77384 (4, 10797, 45) 20\n"
     ]
    },
    {
     "name": "stderr",
     "output_type": "stream",
     "text": [
      "[3 / 32] Hs=    0 -658.496339 4444.9 0.1 0.0 0.1 2.8 0.3 279.5 0.2 27.4 2.0 0.3 0.3 0.2 0.0 0.1 3.6 0.2 0.0 0.0 0.3 0.4 0.6 0.2 3.1 4766.6 [13 ; 0]:  36%|███▋      | 12/33 [31:10<54:13, 154.94s/it]"
     ]
    },
    {
     "name": "stdout",
     "output_type": "stream",
     "text": [
      "16.4025 (45, 45, 45, 45) 15\n",
      "7.77384 (4, 10797, 45) 20\n"
     ]
    },
    {
     "name": "stderr",
     "output_type": "stream",
     "text": [
      "[4 / 32] Hs=    0 -658.495901 4610.9 0.1 0.0 0.1 2.8 0.3 285.6 0.1 27.0 4.0 0.2 0.3 0.1 0.0 0.0 3.8 0.3 0.0 0.0 0.3 0.5 1.4 0.9 20.5 4959.2 [13 ; 0]:  36%|███▋      | 12/33 [31:15<54:13, 154.94s/it]"
     ]
    },
    {
     "name": "stdout",
     "output_type": "stream",
     "text": [
      "16.4025 (45, 45, 45, 45) 15\n",
      "7.77384 (4, 10797, 45) 20\n"
     ]
    },
    {
     "name": "stderr",
     "output_type": "stream",
     "text": [
      "[5 / 32] Hs=    0 -658.496385 4534.8 0.1 0.0 0.1 2.7 0.3 286.6 0.4 28.4 2.2 0.3 0.3 0.2 0.0 0.1 3.5 0.2 0.0 0.0 0.2 0.3 0.8 0.2 3.6 4865.3 [13 ; 0]:  36%|███▋      | 12/33 [31:20<54:13, 154.94s/it] "
     ]
    },
    {
     "name": "stdout",
     "output_type": "stream",
     "text": [
      "16.4025 (45, 45, 45, 45) 15\n",
      "7.77384 (4, 10797, 45) 20\n"
     ]
    },
    {
     "name": "stderr",
     "output_type": "stream",
     "text": [
      "[6 / 32] Hs=    0 -658.500449 4526.2 0.0 0.0 0.1 2.5 0.2 281.2 0.0 28.0 2.1 0.3 0.3 0.1 0.0 0.0 3.2 0.2 0.0 0.0 0.3 0.3 0.6 0.2 2.5 4848.3 [13 ; 0]:  36%|███▋      | 12/33 [31:25<54:13, 154.94s/it]"
     ]
    },
    {
     "name": "stdout",
     "output_type": "stream",
     "text": [
      "16.4025 (45, 45, 45, 45) 15\n",
      "7.77384 (4, 10797, 45) 20\n"
     ]
    },
    {
     "name": "stderr",
     "output_type": "stream",
     "text": [
      "[7 / 32] Hs=    0 -658.499550 4513.3 0.1 0.0 0.1 3.1 0.2 300.1 0.1 27.0 2.1 0.2 0.3 0.1 0.0 0.0 3.2 0.2 0.0 0.0 0.2 0.3 0.6 0.2 2.7 4854.1 [13 ; 0]:  36%|███▋      | 12/33 [31:29<54:13, 154.94s/it]"
     ]
    },
    {
     "name": "stdout",
     "output_type": "stream",
     "text": [
      "16.4025 (45, 45, 45, 45) 15\n",
      "7.77384 (4, 10797, 45) 20\n"
     ]
    },
    {
     "name": "stderr",
     "output_type": "stream",
     "text": [
      "[8 / 32] Hs=    0 -658.499859 4513.8 0.0 0.0 0.1 2.9 0.3 289.9 0.1 27.1 3.1 0.3 0.3 0.2 0.0 0.0 2.9 0.2 0.0 0.0 0.2 0.3 0.6 0.2 3.1 4845.6 [13 ; 0]:  36%|███▋      | 12/33 [31:34<54:13, 154.94s/it]"
     ]
    },
    {
     "name": "stdout",
     "output_type": "stream",
     "text": [
      "16.4025 (45, 45, 45, 45) 15\n",
      "7.77384 (4, 10797, 45) 20\n"
     ]
    },
    {
     "name": "stderr",
     "output_type": "stream",
     "text": [
      "[9 / 32] Hs=    0 -658.494121 4415.3 0.0 0.0 0.1 2.4 0.2 280.5 0.0 26.4 2.1 0.2 0.3 0.1 0.0 0.0 3.0 0.1 0.0 0.0 0.2 0.3 1.2 0.2 2.5 4735.1 [13 ; 0]:  36%|███▋      | 12/33 [31:39<54:13, 154.94s/it]"
     ]
    },
    {
     "name": "stdout",
     "output_type": "stream",
     "text": [
      "16.4025 (45, 45, 45, 45) 15\n",
      "7.77384 (4, 10797, 45) 20\n"
     ]
    },
    {
     "name": "stderr",
     "output_type": "stream",
     "text": [
      "[10 / 32] Hs=    0 -658.498280 4440.6 0.0 0.0 0.1 2.4 0.2 288.6 0.0 26.7 2.0 0.2 0.3 0.1 0.0 0.0 3.1 0.1 0.0 0.0 0.2 0.3 0.6 0.2 2.2 4767.9 [13 ; 0]:  36%|███▋      | 12/33 [31:44<54:13, 154.94s/it]"
     ]
    },
    {
     "name": "stdout",
     "output_type": "stream",
     "text": [
      "16.4025 (45, 45, 45, 45) 15\n",
      "7.77384 (4, 10797, 45) 20\n"
     ]
    },
    {
     "name": "stderr",
     "output_type": "stream",
     "text": [
      "[11 / 32] Hs=    0 -658.499792 4519.8 0.1 0.0 0.1 2.7 0.3 290.2 0.1 27.4 1.9 0.2 0.3 0.1 0.0 0.0 3.1 0.2 0.0 0.0 0.2 0.4 1.8 0.6 6.8 4856.3 [13 ; 0]:  36%|███▋      | 12/33 [31:49<54:13, 154.94s/it]"
     ]
    },
    {
     "name": "stdout",
     "output_type": "stream",
     "text": [
      "16.4025 (45, 45, 45, 45) 15\n",
      "7.77384 (4, 10797, 45) 20\n"
     ]
    },
    {
     "name": "stderr",
     "output_type": "stream",
     "text": [
      "[12 / 32] Hs=    0 -658.499740 4420.1 0.1 0.0 0.1 2.8 0.3 289.9 0.3 27.3 2.0 0.3 0.3 0.1 0.0 0.1 3.9 0.2 0.0 0.0 0.2 0.4 1.5 0.8 19.5 4770.2 [13 ; 0]:  36%|███▋      | 12/33 [31:53<54:13, 154.94s/it]"
     ]
    },
    {
     "name": "stdout",
     "output_type": "stream",
     "text": [
      "16.4025 (45, 45, 45, 45) 15\n",
      "7.77384 (4, 10797, 45) 20\n"
     ]
    },
    {
     "name": "stderr",
     "output_type": "stream",
     "text": [
      "[13 / 32] Hs=    0 -658.493126 4463.4 0.1 0.0 0.1 3.1 0.3 286.3 0.1 27.1 2.8 0.5 0.3 0.1 0.0 0.0 3.2 0.2 0.0 0.0 0.2 0.3 0.6 0.2 3.3 4792.2 [13 ; 0]:  36%|███▋      | 12/33 [31:58<54:13, 154.94s/it] "
     ]
    },
    {
     "name": "stdout",
     "output_type": "stream",
     "text": [
      "16.4025 (45, 45, 45, 45) 15\n",
      "7.77384 (4, 10797, 45) 20\n"
     ]
    },
    {
     "name": "stderr",
     "output_type": "stream",
     "text": [
      "[14 / 32] Hs=    0 -658.501652 4535.2 0.0 0.0 0.1 2.7 0.2 299.4 0.1 26.7 2.0 0.2 0.3 0.1 0.0 0.0 4.0 0.2 0.0 0.0 0.3 0.4 0.7 0.4 6.0 4879.0 [13 ; 0]:  36%|███▋      | 12/33 [32:03<54:13, 154.94s/it]"
     ]
    },
    {
     "name": "stdout",
     "output_type": "stream",
     "text": [
      "16.4025 (45, 45, 45, 45) 15\n",
      "7.77384 (4, 10797, 45) 20\n"
     ]
    },
    {
     "name": "stderr",
     "output_type": "stream",
     "text": [
      "[15 / 32] Hs=    0 -658.498954 4547.7 0.1 0.0 0.1 2.7 0.3 293.9 0.1 26.5 2.5 0.3 0.3 0.1 0.0 0.0 3.7 0.2 0.0 0.0 0.3 0.3 5.2 0.2 3.6 4888.1 [13 ; 0]:  36%|███▋      | 12/33 [32:08<54:13, 154.94s/it]"
     ]
    },
    {
     "name": "stdout",
     "output_type": "stream",
     "text": [
      "16.4025 (45, 45, 45, 45) 15\n",
      "7.77384 (4, 10797, 45) 20\n"
     ]
    },
    {
     "name": "stderr",
     "output_type": "stream",
     "text": [
      "[16 / 32] Hs=    0 -658.501743 4555.4 0.1 0.0 0.1 2.7 0.3 278.5 0.1 26.8 1.9 0.3 0.3 0.1 0.0 0.0 3.2 0.2 0.0 0.0 0.2 0.3 0.8 0.4 6.5 4878.2 [13 ; 0]:  36%|███▋      | 12/33 [32:13<54:13, 154.94s/it]"
     ]
    },
    {
     "name": "stdout",
     "output_type": "stream",
     "text": [
      "16.4025 (45, 45, 45, 45) 15\n",
      "7.77384 (4, 10797, 45) 20\n"
     ]
    },
    {
     "name": "stderr",
     "output_type": "stream",
     "text": [
      "[17 / 32] Hs=    0 -658.500618 4449.9 0.1 0.0 0.1 2.7 0.3 277.6 0.1 26.4 2.0 0.2 0.3 0.1 0.0 0.0 3.1 0.1 0.0 0.0 0.2 0.3 0.8 0.2 3.4 4767.9 [13 ; 0]:  36%|███▋      | 12/33 [32:18<54:13, 154.94s/it]"
     ]
    },
    {
     "name": "stdout",
     "output_type": "stream",
     "text": [
      "16.4025 (45, 45, 45, 45) 15\n",
      "7.77384 (4, 10797, 45) 20\n"
     ]
    },
    {
     "name": "stderr",
     "output_type": "stream",
     "text": [
      "[18 / 32] Hs=    0 -658.498100 4645.4 0.1 0.0 0.1 2.8 0.3 289.3 0.1 26.5 2.0 0.2 0.3 0.1 0.0 0.0 3.0 0.2 0.0 0.0 0.2 0.3 0.8 0.2 3.4 4975.3 [13 ; 0]:  36%|███▋      | 12/33 [32:23<54:13, 154.94s/it]"
     ]
    },
    {
     "name": "stdout",
     "output_type": "stream",
     "text": [
      "16.4025 (45, 45, 45, 45) 15\n",
      "7.77384 (4, 10797, 45) 20\n"
     ]
    },
    {
     "name": "stderr",
     "output_type": "stream",
     "text": [
      "[19 / 32] Hs=    0 -658.498731 4535.0 0.1 0.0 0.1 2.7 0.3 303.2 0.0 26.4 2.1 0.5 0.3 0.2 0.0 0.0 3.2 0.3 0.0 0.0 0.2 0.3 6.8 0.3 3.6 4885.6 [13 ; 0]:  36%|███▋      | 12/33 [32:28<54:13, 154.94s/it]"
     ]
    },
    {
     "name": "stdout",
     "output_type": "stream",
     "text": [
      "16.4025 (45, 45, 45, 45) 15\n",
      "7.77384 (4, 10797, 45) 20\n"
     ]
    },
    {
     "name": "stderr",
     "output_type": "stream",
     "text": [
      "[20 / 32] Hs=    0 -658.501693 4520.0 0.0 0.0 0.1 2.8 0.2 297.5 0.1 26.6 3.7 0.2 0.3 0.1 0.0 0.0 4.0 0.2 0.0 0.0 0.2 0.4 0.7 0.1 2.1 4859.3 [13 ; 0]:  36%|███▋      | 12/33 [32:32<54:13, 154.94s/it]"
     ]
    },
    {
     "name": "stdout",
     "output_type": "stream",
     "text": [
      "16.4025 (45, 45, 45, 45) 15\n",
      "7.77384 (4, 10797, 45) 20\n"
     ]
    },
    {
     "name": "stderr",
     "output_type": "stream",
     "text": [
      "[21 / 32] Hs=    0 -658.500950 4585.5 0.1 0.0 0.1 2.6 0.2 290.0 0.1 26.8 2.4 0.3 0.3 0.2 0.0 0.1 3.8 0.2 0.0 0.0 0.2 0.4 1.3 0.6 17.0 4932.2 [13 ; 0]:  36%|███▋      | 12/33 [32:37<54:13, 154.94s/it]"
     ]
    },
    {
     "name": "stdout",
     "output_type": "stream",
     "text": [
      "16.4025 (45, 45, 45, 45) 15\n",
      "7.77384 (4, 10797, 45) 20\n"
     ]
    },
    {
     "name": "stderr",
     "output_type": "stream",
     "text": [
      "[22 / 32] Hs=    0 -658.497312 4633.4 0.1 0.0 0.1 2.9 0.3 283.4 0.1 26.3 2.0 0.2 0.3 0.2 0.0 0.0 3.1 0.2 0.0 0.0 0.4 0.3 0.7 0.3 4.0 4958.3 [13 ; 0]:  36%|███▋      | 12/33 [32:42<54:13, 154.94s/it] "
     ]
    },
    {
     "name": "stdout",
     "output_type": "stream",
     "text": [
      "16.4025 (45, 45, 45, 45) 15\n",
      "7.77384 (4, 10797, 45) 20\n"
     ]
    },
    {
     "name": "stderr",
     "output_type": "stream",
     "text": [
      "[23 / 32] Hs=    0 -658.499649 4466.5 0.0 0.0 0.1 2.4 0.2 286.0 0.0 28.0 1.9 0.2 0.3 0.1 0.0 0.0 3.5 0.2 0.0 0.0 0.2 0.4 0.8 0.4 5.4 4796.6 [13 ; 0]:  36%|███▋      | 12/33 [32:47<54:13, 154.94s/it]"
     ]
    },
    {
     "name": "stdout",
     "output_type": "stream",
     "text": [
      "16.4025 (45, 45, 45, 45) 15\n",
      "7.77384 (4, 10797, 45) 20\n"
     ]
    },
    {
     "name": "stderr",
     "output_type": "stream",
     "text": [
      "[24 / 32] Hs=    0 -658.496530 4516.4 0.1 0.0 0.1 2.8 0.3 297.7 0.1 26.8 5.5 0.4 0.3 0.2 0.0 0.0 4.3 0.3 0.0 0.0 0.2 0.4 0.8 0.3 3.6 4860.6 [13 ; 0]:  36%|███▋      | 12/33 [32:52<54:13, 154.94s/it]"
     ]
    },
    {
     "name": "stdout",
     "output_type": "stream",
     "text": [
      "16.4025 (45, 45, 45, 45) 15\n",
      "7.77384 (4, 10797, 45) 20\n"
     ]
    },
    {
     "name": "stderr",
     "output_type": "stream",
     "text": [
      "[25 / 32] Hs=    0 -658.492527 4503.3 0.0 0.0 0.1 2.4 0.2 311.7 0.1 26.3 1.9 0.2 0.3 0.1 0.0 0.0 3.1 0.1 0.0 0.0 0.2 0.3 0.7 0.2 2.8 4854.0 [13 ; 0]:  36%|███▋      | 12/33 [32:57<54:13, 154.94s/it]"
     ]
    },
    {
     "name": "stdout",
     "output_type": "stream",
     "text": [
      "16.4025 (45, 45, 45, 45) 15\n",
      "7.77384 (4, 10797, 45) 20\n"
     ]
    },
    {
     "name": "stderr",
     "output_type": "stream",
     "text": [
      "[26 / 32] Hs=    0 -658.493499 4587.9 0.1 0.0 0.1 3.6 0.3 287.8 0.3 28.4 2.1 0.3 0.3 0.2 0.0 0.0 3.6 0.2 0.0 0.0 0.3 0.5 0.9 0.8 9.6 4927.3 [13 ; 0]:  36%|███▋      | 12/33 [33:02<54:13, 154.94s/it]"
     ]
    },
    {
     "name": "stdout",
     "output_type": "stream",
     "text": [
      "16.4025 (45, 45, 45, 45) 15\n",
      "7.77384 (4, 10797, 45) 20\n"
     ]
    },
    {
     "name": "stderr",
     "output_type": "stream",
     "text": [
      "[27 / 32] Hs=    0 -658.500732 4446.8 0.1 0.0 0.1 3.7 0.3 285.9 0.1 26.5 3.4 0.2 0.3 0.1 0.0 0.0 3.1 0.2 0.0 0.0 0.5 0.4 3.6 0.2 3.5 4779.0 [13 ; 0]:  36%|███▋      | 12/33 [33:07<54:13, 154.94s/it]"
     ]
    },
    {
     "name": "stdout",
     "output_type": "stream",
     "text": [
      "16.4025 (45, 45, 45, 45) 15\n",
      "7.77384 (4, 10797, 45) 20\n"
     ]
    },
    {
     "name": "stderr",
     "output_type": "stream",
     "text": [
      "[28 / 32] Hs=    0 -658.499382 4453.0 0.0 0.0 0.1 2.4 0.2 294.1 0.1 28.5 2.1 0.2 0.3 0.1 0.0 0.0 3.7 0.2 0.0 0.0 0.2 0.3 0.7 0.1 2.1 4788.4 [13 ; 0]:  36%|███▋      | 12/33 [33:11<54:13, 154.94s/it]"
     ]
    },
    {
     "name": "stdout",
     "output_type": "stream",
     "text": [
      "16.4025 (45, 45, 45, 45) 15\n",
      "7.77384 (4, 10797, 45) 20\n"
     ]
    },
    {
     "name": "stderr",
     "output_type": "stream",
     "text": [
      "[29 / 32] Hs=    0 -658.493545 4561.6 0.2 0.0 0.1 2.8 0.3 295.6 0.1 27.0 4.9 0.3 0.4 0.2 0.0 0.0 4.1 0.2 0.0 0.0 0.3 0.5 0.8 0.3 3.7 4903.4 [13 ; 0]:  36%|███▋      | 12/33 [33:16<54:13, 154.94s/it]"
     ]
    },
    {
     "name": "stdout",
     "output_type": "stream",
     "text": [
      "16.4025 (45, 45, 45, 45) 15\n",
      "7.77384 (4, 10797, 45) 20\n"
     ]
    },
    {
     "name": "stderr",
     "output_type": "stream",
     "text": [
      "[30 / 32] Hs=    0 -658.497115 4490.8 0.0 0.0 0.1 2.6 0.2 306.6 0.0 26.5 4.0 0.2 0.3 0.1 0.0 0.0 3.2 0.2 0.0 0.0 0.2 0.3 0.6 0.1 1.9 4837.9 [13 ; 0]:  36%|███▋      | 12/33 [33:21<54:13, 154.94s/it]"
     ]
    },
    {
     "name": "stdout",
     "output_type": "stream",
     "text": [
      "16.4025 (45, 45, 45, 45) 15\n",
      "7.77384 (4, 10797, 45) 20\n"
     ]
    },
    {
     "name": "stderr",
     "output_type": "stream",
     "text": [
      "[31 / 32] Hs=    0 -658.496016 4547.5 0.1 0.0 0.1 2.4 0.3 282.5 0.1 26.7 1.9 0.2 0.3 0.1 0.0 0.0 3.1 0.2 0.0 0.0 0.2 0.3 2.4 0.3 2.7 4871.4 [13 ; 0]:  36%|███▋      | 12/33 [33:26<54:13, 154.94s/it]"
     ]
    },
    {
     "name": "stdout",
     "output_type": "stream",
     "text": [
      "16.4025 (45, 45, 45, 45) 15\n",
      "7.77384 (4, 10797, 45) 20\n"
     ]
    },
    {
     "name": "stderr",
     "output_type": "stream",
     "text": [
      "[31 / 32] Hs=    0 -658.496016 4547.5 0.1 0.0 0.1 2.4 0.3 282.5 0.1 26.7 1.9 0.2 0.3 0.1 0.0 0.0 3.1 0.2 0.0 0.0 0.2 0.3 2.4 0.3 2.7 4871.4 [13 ; 0]:  39%|███▉      | 13/33 [33:31<51:42, 155.13s/it]"
     ]
    },
    {
     "name": "stdout",
     "output_type": "stream",
     "text": [
      "[Fc1nc2nnoc2o1]\n",
      "[conformers] 32\n",
      "16.4025 (45, 45, 45, 45) 15\n",
      "7.77384 (4, 10797, 45) 20\n"
     ]
    },
    {
     "name": "stderr",
     "output_type": "stream",
     "text": [
      "[1 / 32] Hs=    0 -521.371276 4570.1 0.1 0.0 0.1 3.3 0.2 310.3 0.1 27.6 1.9 0.4 0.3 0.1 0.0 0.0 3.6 0.2 0.0 0.0 0.2 0.4 0.8 0.3 4.4 4924.4 [14 ; 0]:  39%|███▉      | 13/33 [33:36<51:42, 155.13s/it] "
     ]
    },
    {
     "name": "stdout",
     "output_type": "stream",
     "text": [
      "16.4025 (45, 45, 45, 45) 15\n",
      "7.77384 (4, 10797, 45) 20\n"
     ]
    },
    {
     "name": "stderr",
     "output_type": "stream",
     "text": [
      "[2 / 32] Hs=    0 -521.362221 4474.4 0.0 0.0 0.1 3.2 0.2 318.1 0.1 26.8 2.3 0.2 0.3 0.1 0.0 0.0 3.2 0.1 0.0 0.0 0.2 0.4 0.7 0.2 2.5 4833.1 [14 ; 0]:  39%|███▉      | 13/33 [33:41<51:42, 155.13s/it]"
     ]
    },
    {
     "name": "stdout",
     "output_type": "stream",
     "text": [
      "16.4025 (45, 45, 45, 45) 15\n",
      "7.77384 (4, 10797, 45) 20\n"
     ]
    },
    {
     "name": "stderr",
     "output_type": "stream",
     "text": [
      "[3 / 32] Hs=    0 -521.341305 4483.5 0.0 0.0 0.1 3.0 0.2 315.7 0.0 26.4 1.9 0.2 0.3 0.1 0.0 0.0 3.1 0.1 0.0 0.0 0.2 0.3 0.6 0.1 2.1 4837.9 [14 ; 0]:  39%|███▉      | 13/33 [33:46<51:42, 155.13s/it]"
     ]
    },
    {
     "name": "stdout",
     "output_type": "stream",
     "text": [
      "16.4025 (45, 45, 45, 45) 15\n",
      "7.77384 (4, 10797, 45) 20\n"
     ]
    },
    {
     "name": "stderr",
     "output_type": "stream",
     "text": [
      "[4 / 32] Hs=    0 -521.354306 4667.9 0.0 0.0 0.1 3.1 0.3 305.8 0.0 26.3 2.0 0.2 0.3 0.1 0.0 0.0 3.0 0.2 0.0 0.0 0.2 0.4 0.8 0.1 7.0 5017.8 [14 ; 0]:  39%|███▉      | 13/33 [33:51<51:42, 155.13s/it]"
     ]
    },
    {
     "name": "stdout",
     "output_type": "stream",
     "text": [
      "16.4025 (45, 45, 45, 45) 15\n",
      "7.77384 (4, 10797, 45) 20\n"
     ]
    },
    {
     "name": "stderr",
     "output_type": "stream",
     "text": [
      "[5 / 32] Hs=    0 -521.347882 4444.9 0.1 0.0 0.1 3.4 0.3 309.3 0.1 26.6 1.9 0.2 0.3 0.1 0.0 0.0 3.1 0.2 0.0 0.0 0.2 0.3 0.8 0.4 6.4 4798.7 [14 ; 0]:  39%|███▉      | 13/33 [33:55<51:42, 155.13s/it]"
     ]
    },
    {
     "name": "stdout",
     "output_type": "stream",
     "text": [
      "16.4025 (45, 45, 45, 45) 15\n",
      "7.77384 (4, 10797, 45) 20\n"
     ]
    },
    {
     "name": "stderr",
     "output_type": "stream",
     "text": [
      "[6 / 32] Hs=    0 -521.353495 4505.2 0.1 0.0 0.1 3.4 0.3 315.1 0.1 27.6 2.0 0.4 0.3 0.1 0.0 0.0 3.3 0.2 0.0 0.0 0.2 0.4 0.7 0.2 2.8 4862.5 [14 ; 0]:  39%|███▉      | 13/33 [34:00<51:42, 155.13s/it]"
     ]
    },
    {
     "name": "stdout",
     "output_type": "stream",
     "text": [
      "16.4025 (45, 45, 45, 45) 15\n",
      "7.77384 (4, 10797, 45) 20\n"
     ]
    },
    {
     "name": "stderr",
     "output_type": "stream",
     "text": [
      "[7 / 32] Hs=    0 -521.350057 4713.8 0.1 0.0 0.1 3.3 0.3 301.6 0.1 28.1 2.1 0.7 0.4 0.2 0.0 0.1 4.1 0.3 0.0 0.0 0.5 0.5 1.5 1.2 23.1 5082.1 [14 ; 0]:  39%|███▉      | 13/33 [34:05<51:42, 155.13s/it]"
     ]
    },
    {
     "name": "stdout",
     "output_type": "stream",
     "text": [
      "16.4025 (45, 45, 45, 45) 15\n",
      "7.77384 (4, 10797, 45) 20\n"
     ]
    },
    {
     "name": "stderr",
     "output_type": "stream",
     "text": [
      "[8 / 32] Hs=    0 -521.368219 4508.8 0.1 0.0 0.1 4.0 0.5 310.2 0.1 26.6 2.0 0.2 0.3 0.1 0.0 0.0 3.0 0.2 0.0 0.0 0.3 0.3 4.2 0.3 3.3 4864.6 [14 ; 0]:  39%|███▉      | 13/33 [34:10<51:42, 155.13s/it] "
     ]
    },
    {
     "name": "stdout",
     "output_type": "stream",
     "text": [
      "16.4025 (45, 45, 45, 45) 15\n",
      "7.77384 (4, 10797, 45) 20\n"
     ]
    },
    {
     "name": "stderr",
     "output_type": "stream",
     "text": [
      "[9 / 32] Hs=    0 -521.352821 4421.7 0.1 0.1 0.1 3.3 0.3 306.1 0.1 26.7 1.9 0.3 0.3 0.1 0.0 0.0 3.7 0.3 0.0 0.0 0.2 0.4 1.5 0.8 19.2 4787.2 [14 ; 0]:  39%|███▉      | 13/33 [34:15<51:42, 155.13s/it]"
     ]
    },
    {
     "name": "stdout",
     "output_type": "stream",
     "text": [
      "16.4025 (45, 45, 45, 45) 15\n",
      "7.77384 (4, 10797, 45) 20\n"
     ]
    },
    {
     "name": "stderr",
     "output_type": "stream",
     "text": [
      "[10 / 32] Hs=    0 -521.343220 4439.1 0.1 0.0 0.1 3.0 0.2 317.9 0.1 26.6 2.3 0.2 0.3 0.1 0.0 0.0 3.2 0.1 0.0 0.0 0.2 0.3 0.9 0.2 2.1 4797.0 [14 ; 0]:  39%|███▉      | 13/33 [34:20<51:42, 155.13s/it]"
     ]
    },
    {
     "name": "stdout",
     "output_type": "stream",
     "text": [
      "16.4025 (45, 45, 45, 45) 15\n",
      "7.77384 (4, 10797, 45) 20\n"
     ]
    },
    {
     "name": "stderr",
     "output_type": "stream",
     "text": [
      "[11 / 32] Hs=    0 -521.347110 4770.4 0.1 0.0 0.1 4.0 0.3 299.5 0.1 27.4 3.6 0.3 0.3 0.1 0.0 0.0 4.9 0.2 0.0 0.0 0.3 0.6 0.7 0.3 5.1 5118.3 [14 ; 0]:  39%|███▉      | 13/33 [34:25<51:42, 155.13s/it]"
     ]
    },
    {
     "name": "stdout",
     "output_type": "stream",
     "text": [
      "16.4025 (45, 45, 45, 45) 15\n",
      "7.77384 (4, 10797, 45) 20\n"
     ]
    },
    {
     "name": "stderr",
     "output_type": "stream",
     "text": [
      "[12 / 32] Hs=    0 -521.357272 4492.6 0.1 0.0 0.1 3.2 0.3 307.6 0.1 26.7 2.0 0.2 0.3 0.1 0.0 0.0 2.9 0.2 0.0 0.0 0.3 0.3 4.0 0.2 3.4 4844.6 [14 ; 0]:  39%|███▉      | 13/33 [34:30<51:42, 155.13s/it]"
     ]
    },
    {
     "name": "stdout",
     "output_type": "stream",
     "text": [
      "16.4025 (45, 45, 45, 45) 15\n",
      "7.77384 (4, 10797, 45) 20\n"
     ]
    },
    {
     "name": "stderr",
     "output_type": "stream",
     "text": [
      "[13 / 32] Hs=    0 -521.350660 4469.9 0.1 0.0 0.1 3.2 0.3 316.5 0.1 28.8 2.1 0.3 0.3 0.1 0.0 0.0 3.6 0.2 0.0 0.0 0.2 0.4 7.4 0.3 3.0 4836.9 [14 ; 0]:  39%|███▉      | 13/33 [34:35<51:42, 155.13s/it]"
     ]
    },
    {
     "name": "stdout",
     "output_type": "stream",
     "text": [
      "16.4025 (45, 45, 45, 45) 15\n",
      "7.77384 (4, 10797, 45) 20\n"
     ]
    },
    {
     "name": "stderr",
     "output_type": "stream",
     "text": [
      "[14 / 32] Hs=    0 -521.363775 4425.7 0.2 0.0 0.1 4.8 0.2 303.6 0.1 29.1 2.0 0.2 1.5 0.1 0.0 0.0 3.6 0.2 0.0 0.0 0.2 0.4 4.0 0.3 2.6 4778.9 [14 ; 0]:  39%|███▉      | 13/33 [34:39<51:42, 155.13s/it]"
     ]
    },
    {
     "name": "stdout",
     "output_type": "stream",
     "text": [
      "16.4025 (45, 45, 45, 45) 15\n",
      "7.77384 (4, 10797, 45) 20\n"
     ]
    },
    {
     "name": "stderr",
     "output_type": "stream",
     "text": [
      "[15 / 32] Hs=    0 -521.355451 4577.1 0.1 0.0 0.1 3.6 0.3 321.4 0.6 29.5 2.3 0.4 0.3 0.2 0.0 0.1 3.8 0.3 0.0 0.0 0.3 0.4 1.2 0.2 3.8 4946.0 [14 ; 0]:  39%|███▉      | 13/33 [34:44<51:42, 155.13s/it]"
     ]
    },
    {
     "name": "stdout",
     "output_type": "stream",
     "text": [
      "16.4025 (45, 45, 45, 45) 15\n",
      "7.77384 (4, 10797, 45) 20\n"
     ]
    },
    {
     "name": "stderr",
     "output_type": "stream",
     "text": [
      "[16 / 32] Hs=    0 -521.347674 4480.3 0.0 0.0 0.1 2.9 0.2 311.3 0.0 27.5 2.3 0.2 0.3 0.1 0.0 0.0 2.7 0.1 0.0 0.0 0.1 0.3 0.5 0.1 1.9 4830.9 [14 ; 0]:  39%|███▉      | 13/33 [34:49<51:42, 155.13s/it]"
     ]
    },
    {
     "name": "stdout",
     "output_type": "stream",
     "text": [
      "16.4025 (45, 45, 45, 45) 15\n",
      "7.77384 (4, 10797, 45) 20\n"
     ]
    },
    {
     "name": "stderr",
     "output_type": "stream",
     "text": [
      "[17 / 32] Hs=    0 -521.357398 4593.5 0.1 0.0 0.1 3.6 0.3 317.8 0.1 26.7 2.0 0.3 0.3 0.1 0.0 0.0 2.8 0.1 0.0 0.0 0.2 0.3 0.9 0.7 18.2 4968.1 [14 ; 0]:  39%|███▉      | 13/33 [34:54<51:42, 155.13s/it]"
     ]
    },
    {
     "name": "stdout",
     "output_type": "stream",
     "text": [
      "16.4025 (45, 45, 45, 45) 15\n",
      "7.77384 (4, 10797, 45) 20\n"
     ]
    },
    {
     "name": "stderr",
     "output_type": "stream",
     "text": [
      "[18 / 32] Hs=    0 -521.354799 4586.1 0.7 0.2 0.5 8.9 1.4 308.7 0.1 26.6 2.3 0.3 0.3 0.1 0.0 0.0 3.2 0.1 0.0 0.0 0.2 0.3 0.6 0.3 3.1 4944.0 [14 ; 0]:  39%|███▉      | 13/33 [34:59<51:42, 155.13s/it] "
     ]
    },
    {
     "name": "stdout",
     "output_type": "stream",
     "text": [
      "16.4025 (45, 45, 45, 45) 15\n",
      "7.77384 (4, 10797, 45) 20\n"
     ]
    },
    {
     "name": "stderr",
     "output_type": "stream",
     "text": [
      "[19 / 32] Hs=    0 -521.357595 4545.3 0.2 0.0 0.1 3.5 0.3 319.8 0.1 27.3 4.2 0.5 0.3 0.1 0.0 0.0 3.1 0.2 0.0 0.0 0.2 0.4 0.6 0.2 3.0 4909.4 [14 ; 0]:  39%|███▉      | 13/33 [35:04<51:42, 155.13s/it]"
     ]
    },
    {
     "name": "stdout",
     "output_type": "stream",
     "text": [
      "16.4025 (45, 45, 45, 45) 15\n",
      "7.77384 (4, 10797, 45) 20\n"
     ]
    },
    {
     "name": "stderr",
     "output_type": "stream",
     "text": [
      "[20 / 32] Hs=    0 -521.360629 4408.4 0.1 0.0 0.1 2.9 0.2 302.5 0.0 26.2 1.9 0.2 0.3 0.1 0.0 0.0 3.4 0.1 0.0 0.0 0.3 0.3 0.6 0.1 2.0 4749.7 [14 ; 0]:  39%|███▉      | 13/33 [35:09<51:42, 155.13s/it]"
     ]
    },
    {
     "name": "stdout",
     "output_type": "stream",
     "text": [
      "16.4025 (45, 45, 45, 45) 15\n",
      "7.77384 (4, 10797, 45) 20\n"
     ]
    },
    {
     "name": "stderr",
     "output_type": "stream",
     "text": [
      "[21 / 32] Hs=    0 -521.370531 4470.0 0.9 0.3 0.5 10.5 1.6 311.2 0.1 27.2 2.2 0.3 0.3 0.2 0.0 0.0 3.3 0.2 0.0 0.0 0.2 0.3 0.7 0.2 3.3 4833.5 [14 ; 0]:  39%|███▉      | 13/33 [35:14<51:42, 155.13s/it]"
     ]
    },
    {
     "name": "stdout",
     "output_type": "stream",
     "text": [
      "16.4025 (45, 45, 45, 45) 15\n",
      "7.77384 (4, 10797, 45) 20\n"
     ]
    },
    {
     "name": "stderr",
     "output_type": "stream",
     "text": [
      "[22 / 32] Hs=    0 -521.349169 4644.7 0.2 0.0 0.1 4.6 0.3 309.7 0.1 26.6 2.0 0.3 0.3 0.1 0.0 0.0 3.0 0.2 0.0 0.0 0.2 0.3 0.7 0.2 3.0 4996.6 [14 ; 0]:  39%|███▉      | 13/33 [35:19<51:42, 155.13s/it] "
     ]
    },
    {
     "name": "stdout",
     "output_type": "stream",
     "text": [
      "16.4025 (45, 45, 45, 45) 15\n",
      "7.77384 (4, 10797, 45) 20\n"
     ]
    },
    {
     "name": "stderr",
     "output_type": "stream",
     "text": [
      "[23 / 32] Hs=    0 -521.343306 4470.4 0.2 0.1 0.2 5.5 0.7 302.1 0.1 27.0 2.1 0.2 0.3 0.1 0.0 0.0 3.2 0.2 0.0 0.0 0.2 0.3 0.7 0.2 2.8 4816.6 [14 ; 0]:  39%|███▉      | 13/33 [35:23<51:42, 155.13s/it]"
     ]
    },
    {
     "name": "stdout",
     "output_type": "stream",
     "text": [
      "16.4025 (45, 45, 45, 45) 15\n",
      "7.77384 (4, 10797, 45) 20\n"
     ]
    },
    {
     "name": "stderr",
     "output_type": "stream",
     "text": [
      "[24 / 32] Hs=    0 -521.348901 4496.6 0.2 0.0 0.1 3.4 0.3 309.7 0.1 27.1 2.3 0.3 0.3 0.1 0.0 0.0 3.5 0.2 0.0 0.0 0.2 0.3 0.7 0.2 3.2 4848.8 [14 ; 0]:  39%|███▉      | 13/33 [35:28<51:42, 155.13s/it]"
     ]
    },
    {
     "name": "stdout",
     "output_type": "stream",
     "text": [
      "16.4025 (45, 45, 45, 45) 15\n",
      "7.77384 (4, 10797, 45) 20\n"
     ]
    },
    {
     "name": "stderr",
     "output_type": "stream",
     "text": [
      "[25 / 32] Hs=    0 -521.352718 4506.8 0.1 0.0 0.1 3.4 0.3 308.0 0.1 26.9 2.1 0.2 0.3 0.1 0.0 0.0 3.0 0.2 0.0 0.0 0.2 0.3 0.7 0.2 3.0 4856.0 [14 ; 0]:  39%|███▉      | 13/33 [35:33<51:42, 155.13s/it]"
     ]
    },
    {
     "name": "stdout",
     "output_type": "stream",
     "text": [
      "16.4025 (45, 45, 45, 45) 15\n",
      "7.77384 (4, 10797, 45) 20\n"
     ]
    },
    {
     "name": "stderr",
     "output_type": "stream",
     "text": [
      "[26 / 32] Hs=    0 -521.354005 4567.6 0.0 0.0 0.1 3.8 0.3 308.5 0.0 26.6 1.9 0.2 0.3 0.1 0.0 0.0 3.1 0.1 0.0 0.0 0.2 0.3 2.3 0.3 2.4 4918.1 [14 ; 0]:  39%|███▉      | 13/33 [35:38<51:42, 155.13s/it]"
     ]
    },
    {
     "name": "stdout",
     "output_type": "stream",
     "text": [
      "16.4025 (45, 45, 45, 45) 15\n",
      "7.77384 (4, 10797, 45) 20\n"
     ]
    },
    {
     "name": "stderr",
     "output_type": "stream",
     "text": [
      "[27 / 32] Hs=    0 -521.350446 4598.0 0.3 0.0 0.1 3.8 0.3 310.6 0.1 27.0 1.9 0.3 0.3 0.1 0.0 0.0 3.3 0.2 0.0 0.0 0.2 0.3 1.2 0.2 2.9 4951.1 [14 ; 0]:  39%|███▉      | 13/33 [35:43<51:42, 155.13s/it]"
     ]
    },
    {
     "name": "stdout",
     "output_type": "stream",
     "text": [
      "16.4025 (45, 45, 45, 45) 15\n",
      "7.77384 (4, 10797, 45) 20\n"
     ]
    },
    {
     "name": "stderr",
     "output_type": "stream",
     "text": [
      "[28 / 32] Hs=    0 -521.355137 4560.2 0.1 0.0 0.1 3.0 0.2 302.4 0.0 27.3 2.0 0.2 0.3 0.1 0.0 0.0 3.0 0.2 0.0 0.0 0.2 0.3 1.2 0.3 2.1 4903.2 [14 ; 0]:  39%|███▉      | 13/33 [35:48<51:42, 155.13s/it]"
     ]
    },
    {
     "name": "stdout",
     "output_type": "stream",
     "text": [
      "16.4025 (45, 45, 45, 45) 15\n",
      "7.77384 (4, 10797, 45) 20\n"
     ]
    },
    {
     "name": "stderr",
     "output_type": "stream",
     "text": [
      "[29 / 32] Hs=    0 -521.352303 4561.1 0.1 0.0 0.1 4.2 0.4 304.8 0.1 27.7 3.3 0.2 0.3 0.1 0.0 0.0 3.2 0.2 0.0 0.0 0.2 0.5 0.7 0.3 3.9 4911.4 [14 ; 0]:  39%|███▉      | 13/33 [35:53<51:42, 155.13s/it]"
     ]
    },
    {
     "name": "stdout",
     "output_type": "stream",
     "text": [
      "16.4025 (45, 45, 45, 45) 15\n",
      "7.77384 (4, 10797, 45) 20\n"
     ]
    },
    {
     "name": "stderr",
     "output_type": "stream",
     "text": [
      "[30 / 32] Hs=    0 -521.338709 4819.3 0.1 0.0 0.1 3.3 0.3 312.5 0.1 26.4 2.2 0.3 0.3 0.1 0.0 0.0 3.2 0.2 0.0 0.0 0.1 0.3 0.6 0.2 2.9 5172.5 [14 ; 0]:  39%|███▉      | 13/33 [35:58<51:42, 155.13s/it]"
     ]
    },
    {
     "name": "stdout",
     "output_type": "stream",
     "text": [
      "16.4025 (45, 45, 45, 45) 15\n",
      "7.77384 (4, 10797, 45) 20\n"
     ]
    },
    {
     "name": "stderr",
     "output_type": "stream",
     "text": [
      "[31 / 32] Hs=    0 -521.343588 4475.7 0.1 0.0 0.1 3.0 0.2 302.0 0.0 27.3 2.6 0.2 0.3 0.1 0.0 0.0 3.1 0.1 0.0 0.0 0.2 0.3 0.7 0.1 1.9 4818.0 [14 ; 0]:  39%|███▉      | 13/33 [36:03<51:42, 155.13s/it]"
     ]
    },
    {
     "name": "stdout",
     "output_type": "stream",
     "text": [
      "16.4025 (45, 45, 45, 45) 15\n",
      "7.77384 (4, 10797, 45) 20\n"
     ]
    },
    {
     "name": "stderr",
     "output_type": "stream",
     "text": [
      "[31 / 32] Hs=    0 -521.343588 4475.7 0.1 0.0 0.1 3.0 0.2 302.0 0.0 27.3 2.6 0.2 0.3 0.1 0.0 0.0 3.1 0.1 0.0 0.0 0.2 0.3 0.7 0.1 1.9 4818.0 [14 ; 0]:  42%|████▏     | 14/33 [36:07<49:16, 155.61s/it]"
     ]
    },
    {
     "name": "stdout",
     "output_type": "stream",
     "text": [
      "[Fc1nc(C#N)c(F)o1]\n",
      "[conformers] 32\n",
      "16.4025 (45, 45, 45, 45) 15\n",
      "7.77384 (4, 10797, 45) 20\n"
     ]
    },
    {
     "name": "stderr",
     "output_type": "stream",
     "text": [
      "[1 / 32] Hs=    0 -529.213754 4699.0 0.0 0.0 0.1 3.3 0.2 295.0 0.1 27.0 2.0 0.2 0.3 0.1 0.0 0.0 3.3 0.1 0.0 0.0 0.2 0.3 3.3 0.2 2.5 5037.2 [15 ; 0]:  42%|████▏     | 14/33 [36:13<49:16, 155.61s/it] "
     ]
    },
    {
     "name": "stdout",
     "output_type": "stream",
     "text": [
      "16.4025 (45, 45, 45, 45) 15\n",
      "7.77384 (4, 10797, 45) 20\n"
     ]
    },
    {
     "name": "stderr",
     "output_type": "stream",
     "text": [
      "[2 / 32] Hs=    0 -529.211630 4849.0 0.4 0.2 0.4 8.6 1.3 301.2 0.1 26.9 2.4 0.2 0.3 0.1 0.0 0.0 3.3 0.1 0.0 0.0 0.2 0.3 0.8 0.2 3.0 5199.0 [15 ; 0]:  42%|████▏     | 14/33 [36:18<49:16, 155.61s/it]"
     ]
    },
    {
     "name": "stdout",
     "output_type": "stream",
     "text": [
      "16.4025 (45, 45, 45, 45) 15\n",
      "7.77384 (4, 10797, 45) 20\n"
     ]
    },
    {
     "name": "stderr",
     "output_type": "stream",
     "text": [
      "[3 / 32] Hs=    0 -529.208121 4535.4 0.1 0.0 0.1 4.1 0.3 288.8 0.1 27.2 1.9 0.2 0.3 0.1 0.0 0.0 3.0 0.2 0.0 0.0 0.2 0.4 0.6 0.2 3.0 4866.2 [15 ; 0]:  42%|████▏     | 14/33 [36:23<49:16, 155.61s/it]"
     ]
    },
    {
     "name": "stdout",
     "output_type": "stream",
     "text": [
      "16.4025 (45, 45, 45, 45) 15\n",
      "7.77384 (4, 10797, 45) 20\n"
     ]
    },
    {
     "name": "stderr",
     "output_type": "stream",
     "text": [
      "[4 / 32] Hs=    0 -529.219278 4782.8 0.4 0.1 0.3 7.1 1.0 282.4 0.1 27.4 2.0 0.6 0.3 0.1 0.0 0.0 3.2 0.2 0.0 0.0 0.2 0.3 1.1 0.3 6.6 5116.5 [15 ; 0]:  42%|████▏     | 14/33 [36:28<49:16, 155.61s/it]"
     ]
    },
    {
     "name": "stdout",
     "output_type": "stream",
     "text": [
      "16.4025 (45, 45, 45, 45) 15\n",
      "7.77384 (4, 10797, 45) 20\n"
     ]
    },
    {
     "name": "stderr",
     "output_type": "stream",
     "text": [
      "[5 / 32] Hs=    0 -529.220171 4610.5 0.1 0.1 0.1 3.4 0.3 294.7 0.1 26.7 1.9 0.2 0.3 0.1 0.0 0.0 3.3 0.2 0.0 0.0 0.2 0.4 4.0 0.3 3.2 4950.1 [15 ; 0]:  42%|████▏     | 14/33 [36:33<49:16, 155.61s/it]"
     ]
    },
    {
     "name": "stdout",
     "output_type": "stream",
     "text": [
      "16.4025 (45, 45, 45, 45) 15\n",
      "7.77384 (4, 10797, 45) 20\n"
     ]
    },
    {
     "name": "stderr",
     "output_type": "stream",
     "text": [
      "[6 / 32] Hs=    0 -529.226164 4462.8 0.1 0.0 0.1 3.5 0.3 286.1 0.1 29.0 4.3 0.3 0.4 0.2 0.0 0.3 3.7 0.2 0.0 0.0 0.8 0.6 0.8 0.6 4.4 4798.6 [15 ; 0]:  42%|████▏     | 14/33 [36:38<49:16, 155.61s/it]"
     ]
    },
    {
     "name": "stdout",
     "output_type": "stream",
     "text": [
      "16.4025 (45, 45, 45, 45) 15\n",
      "7.77384 (4, 10797, 45) 20\n"
     ]
    },
    {
     "name": "stderr",
     "output_type": "stream",
     "text": [
      "[7 / 32] Hs=    0 -529.221997 4613.4 0.1 0.0 0.1 4.0 0.3 288.3 0.1 30.1 2.3 0.3 0.3 0.1 0.0 0.0 4.0 0.2 0.0 0.0 0.4 0.3 0.6 0.2 2.9 4948.0 [15 ; 0]:  42%|████▏     | 14/33 [36:43<49:16, 155.61s/it]"
     ]
    },
    {
     "name": "stdout",
     "output_type": "stream",
     "text": [
      "16.4025 (45, 45, 45, 45) 15\n",
      "7.77384 (4, 10797, 45) 20\n"
     ]
    },
    {
     "name": "stderr",
     "output_type": "stream",
     "text": [
      "[8 / 32] Hs=    0 -529.221015 4410.9 0.1 0.0 0.1 2.9 0.2 299.5 0.0 26.9 2.2 0.2 0.3 0.1 0.0 0.0 3.0 0.1 0.0 0.0 0.2 0.3 0.7 0.1 2.0 4749.8 [15 ; 0]:  42%|████▏     | 14/33 [36:47<49:16, 155.61s/it]"
     ]
    },
    {
     "name": "stdout",
     "output_type": "stream",
     "text": [
      "16.4025 (45, 45, 45, 45) 15\n",
      "7.77384 (4, 10797, 45) 20\n"
     ]
    },
    {
     "name": "stderr",
     "output_type": "stream",
     "text": [
      "[9 / 32] Hs=    0 -529.209694 4533.8 0.0 0.0 0.1 2.9 0.2 283.7 0.0 26.5 1.9 0.2 0.3 0.1 0.0 0.0 3.2 0.1 0.0 0.0 0.3 0.3 0.6 0.1 1.9 4856.2 [15 ; 0]:  42%|████▏     | 14/33 [36:52<49:16, 155.61s/it]"
     ]
    },
    {
     "name": "stdout",
     "output_type": "stream",
     "text": [
      "16.4025 (45, 45, 45, 45) 15\n",
      "7.77384 (4, 10797, 45) 20\n"
     ]
    },
    {
     "name": "stderr",
     "output_type": "stream",
     "text": [
      "[10 / 32] Hs=    0 -529.208318 4434.8 0.2 0.0 0.1 3.1 0.3 280.2 0.3 28.2 2.2 0.3 0.3 0.2 0.0 0.1 3.5 0.2 0.0 0.0 0.2 0.4 1.2 0.5 15.4 4771.7 [15 ; 0]:  42%|████▏     | 14/33 [36:57<49:16, 155.61s/it]"
     ]
    },
    {
     "name": "stdout",
     "output_type": "stream",
     "text": [
      "16.4025 (45, 45, 45, 45) 15\n",
      "7.77384 (4, 10797, 45) 20\n"
     ]
    },
    {
     "name": "stderr",
     "output_type": "stream",
     "text": [
      "[11 / 32] Hs=    0 -529.215839 4598.1 0.1 0.0 0.2 3.3 0.3 293.7 0.1 28.2 3.4 0.6 0.3 0.2 0.0 0.0 3.1 0.2 0.0 0.0 0.2 0.4 0.8 0.4 5.5 4939.1 [15 ; 0]:  42%|████▏     | 14/33 [37:02<49:16, 155.61s/it] "
     ]
    },
    {
     "name": "stdout",
     "output_type": "stream",
     "text": [
      "16.4025 (45, 45, 45, 45) 15\n",
      "7.77384 (4, 10797, 45) 20\n"
     ]
    },
    {
     "name": "stderr",
     "output_type": "stream",
     "text": [
      "[12 / 32] Hs=    0 -529.216814 4646.2 0.0 0.0 0.1 2.8 0.2 288.5 0.1 29.3 2.1 0.4 0.3 0.1 0.0 0.0 3.1 0.1 0.0 0.0 0.2 0.3 0.7 0.2 2.4 4977.1 [15 ; 0]:  42%|████▏     | 14/33 [37:07<49:16, 155.61s/it]"
     ]
    },
    {
     "name": "stdout",
     "output_type": "stream",
     "text": [
      "16.4025 (45, 45, 45, 45) 15\n",
      "7.77384 (4, 10797, 45) 20\n"
     ]
    },
    {
     "name": "stderr",
     "output_type": "stream",
     "text": [
      "[13 / 32] Hs=    0 -529.214965 4483.3 0.0 0.0 0.1 2.9 0.2 288.8 0.7 33.2 2.1 0.7 0.4 0.2 0.0 0.1 3.5 0.3 0.0 0.1 0.3 0.4 0.8 0.8 8.7 4827.6 [15 ; 0]:  42%|████▏     | 14/33 [37:12<49:16, 155.61s/it]"
     ]
    },
    {
     "name": "stdout",
     "output_type": "stream",
     "text": [
      "16.4025 (45, 45, 45, 45) 15\n",
      "7.77384 (4, 10797, 45) 20\n"
     ]
    },
    {
     "name": "stderr",
     "output_type": "stream",
     "text": [
      "[14 / 32] Hs=    0 -529.207787 4564.2 0.0 0.1 0.1 3.0 0.2 280.3 0.4 29.1 3.1 0.3 0.3 0.1 0.0 0.0 3.6 0.1 0.0 0.0 0.3 0.6 2.0 0.3 3.5 4891.6 [15 ; 0]:  42%|████▏     | 14/33 [37:17<49:16, 155.61s/it]"
     ]
    },
    {
     "name": "stdout",
     "output_type": "stream",
     "text": [
      "16.4025 (45, 45, 45, 45) 15\n",
      "7.77384 (4, 10797, 45) 20\n"
     ]
    },
    {
     "name": "stderr",
     "output_type": "stream",
     "text": [
      "[15 / 32] Hs=    0 -529.218993 4434.4 0.4 0.0 0.1 3.7 0.3 278.5 0.1 27.6 1.9 0.3 0.3 0.1 0.0 0.0 3.1 0.2 0.0 0.0 0.2 0.3 0.6 0.2 2.2 4754.5 [15 ; 0]:  42%|████▏     | 14/33 [37:21<49:16, 155.61s/it]"
     ]
    },
    {
     "name": "stdout",
     "output_type": "stream",
     "text": [
      "16.4025 (45, 45, 45, 45) 15\n",
      "7.77384 (4, 10797, 45) 20\n"
     ]
    },
    {
     "name": "stderr",
     "output_type": "stream",
     "text": [
      "[16 / 32] Hs=    0 -529.213716 4508.5 0.0 0.0 0.1 2.9 0.2 284.0 0.0 28.5 2.0 0.3 0.3 0.1 0.0 0.0 3.4 0.1 0.0 0.0 0.2 0.3 0.6 0.2 2.2 4833.9 [15 ; 0]:  42%|████▏     | 14/33 [37:26<49:16, 155.61s/it]"
     ]
    },
    {
     "name": "stdout",
     "output_type": "stream",
     "text": [
      "16.4025 (45, 45, 45, 45) 15\n",
      "7.77384 (4, 10797, 45) 20\n"
     ]
    },
    {
     "name": "stderr",
     "output_type": "stream",
     "text": [
      "[17 / 32] Hs=    0 -529.209913 4400.3 0.1 0.0 0.1 3.4 0.3 284.0 0.0 26.9 2.5 0.2 0.3 0.1 0.0 0.0 4.6 0.2 0.0 0.0 0.2 0.4 0.6 0.2 2.7 4727.1 [15 ; 0]:  42%|████▏     | 14/33 [37:31<49:16, 155.61s/it]"
     ]
    },
    {
     "name": "stdout",
     "output_type": "stream",
     "text": [
      "16.4025 (45, 45, 45, 45) 15\n",
      "7.77384 (4, 10797, 45) 20\n"
     ]
    },
    {
     "name": "stderr",
     "output_type": "stream",
     "text": [
      "[18 / 32] Hs=    0 -529.222204 4445.2 0.2 0.0 0.1 3.2 0.2 298.1 0.1 26.8 2.2 0.4 0.3 0.1 0.0 0.0 3.6 0.2 0.0 0.0 0.2 0.3 3.2 0.2 2.1 4786.7 [15 ; 0]:  42%|████▏     | 14/33 [37:36<49:16, 155.61s/it]"
     ]
    },
    {
     "name": "stdout",
     "output_type": "stream",
     "text": [
      "16.4025 (45, 45, 45, 45) 15\n",
      "7.77384 (4, 10797, 45) 20\n"
     ]
    },
    {
     "name": "stderr",
     "output_type": "stream",
     "text": [
      "[19 / 32] Hs=    0 -529.224308 4393.7 0.1 0.0 0.1 2.9 0.2 298.9 0.0 26.7 2.0 0.2 0.3 0.1 0.0 0.0 3.2 0.1 0.0 0.0 0.2 0.3 0.6 0.1 1.9 4731.6 [15 ; 0]:  42%|████▏     | 14/33 [37:41<49:16, 155.61s/it]"
     ]
    },
    {
     "name": "stdout",
     "output_type": "stream",
     "text": [
      "16.4025 (45, 45, 45, 45) 15\n",
      "7.77384 (4, 10797, 45) 20\n"
     ]
    },
    {
     "name": "stderr",
     "output_type": "stream",
     "text": [
      "[20 / 32] Hs=    0 -529.226963 4594.6 0.1 0.0 0.3 4.0 0.4 275.3 0.1 27.1 2.0 0.2 0.3 0.1 0.0 0.0 3.0 0.2 0.0 0.0 0.2 0.3 0.6 0.2 2.8 4911.8 [15 ; 0]:  42%|████▏     | 14/33 [37:45<49:16, 155.61s/it]"
     ]
    },
    {
     "name": "stdout",
     "output_type": "stream",
     "text": [
      "16.4025 (45, 45, 45, 45) 15\n",
      "7.77384 (4, 10797, 45) 20\n"
     ]
    },
    {
     "name": "stderr",
     "output_type": "stream",
     "text": [
      "[21 / 32] Hs=    0 -529.202017 4493.3 0.3 0.1 0.2 3.7 0.4 291.9 0.1 27.4 2.6 0.4 0.3 0.1 0.0 0.0 3.2 0.2 0.0 0.0 0.2 0.3 0.6 0.2 2.8 4828.3 [15 ; 0]:  42%|████▏     | 14/33 [37:50<49:16, 155.61s/it]"
     ]
    },
    {
     "name": "stdout",
     "output_type": "stream",
     "text": [
      "16.4025 (45, 45, 45, 45) 15\n",
      "7.77384 (4, 10797, 45) 20\n"
     ]
    },
    {
     "name": "stderr",
     "output_type": "stream",
     "text": [
      "[22 / 32] Hs=    0 -529.206821 4543.9 0.4 0.6 0.1 5.2 0.6 291.3 0.1 41.7 2.7 0.9 0.7 0.1 0.3 0.0 3.9 0.2 0.0 0.0 2.0 0.4 0.6 0.2 4.6 4900.5 [15 ; 0]:  42%|████▏     | 14/33 [37:55<49:16, 155.61s/it]"
     ]
    },
    {
     "name": "stdout",
     "output_type": "stream",
     "text": [
      "16.4025 (45, 45, 45, 45) 15\n",
      "7.77384 (4, 10797, 45) 20\n"
     ]
    },
    {
     "name": "stderr",
     "output_type": "stream",
     "text": [
      "[23 / 32] Hs=    0 -529.207908 4716.2 0.1 0.0 0.1 3.4 0.3 288.5 0.1 27.4 2.0 0.2 0.3 0.1 0.0 0.0 3.0 0.2 0.0 0.0 0.2 0.3 0.7 0.2 2.9 5046.2 [15 ; 0]:  42%|████▏     | 14/33 [38:00<49:16, 155.61s/it]"
     ]
    },
    {
     "name": "stdout",
     "output_type": "stream",
     "text": [
      "16.4025 (45, 45, 45, 45) 15\n",
      "7.77384 (4, 10797, 45) 20\n"
     ]
    },
    {
     "name": "stderr",
     "output_type": "stream",
     "text": [
      "[24 / 32] Hs=    0 -529.215531 4605.0 0.8 0.3 0.5 10.3 1.7 300.0 0.3 30.2 2.4 0.4 0.4 0.2 0.0 0.1 3.7 0.2 0.0 0.0 0.3 0.5 1.5 0.9 20.2 4979.9 [15 ; 0]:  42%|████▏     | 14/33 [38:05<49:16, 155.61s/it]"
     ]
    },
    {
     "name": "stdout",
     "output_type": "stream",
     "text": [
      "16.4025 (45, 45, 45, 45) 15\n",
      "7.77384 (4, 10797, 45) 20\n"
     ]
    },
    {
     "name": "stderr",
     "output_type": "stream",
     "text": [
      "[25 / 32] Hs=    0 -529.220730 4612.5 0.1 0.0 0.1 3.0 0.2 288.8 0.0 27.1 1.9 0.3 0.3 0.1 0.0 0.0 2.9 0.1 0.0 0.0 0.1 0.3 0.5 0.1 1.9 4940.3 [15 ; 0]:  42%|████▏     | 14/33 [38:10<49:16, 155.61s/it]  "
     ]
    },
    {
     "name": "stdout",
     "output_type": "stream",
     "text": [
      "16.4025 (45, 45, 45, 45) 15\n",
      "7.77384 (4, 10797, 45) 20\n"
     ]
    },
    {
     "name": "stderr",
     "output_type": "stream",
     "text": [
      "[26 / 32] Hs=    0 -529.223211 4505.8 0.2 0.0 0.1 3.9 0.3 298.7 0.1 27.5 2.3 0.5 0.3 0.1 0.0 0.0 3.3 0.2 0.0 0.0 0.1 0.3 0.6 0.2 2.9 4847.4 [15 ; 0]:  42%|████▏     | 14/33 [38:15<49:16, 155.61s/it]"
     ]
    },
    {
     "name": "stdout",
     "output_type": "stream",
     "text": [
      "16.4025 (45, 45, 45, 45) 15\n",
      "7.77384 (4, 10797, 45) 20\n"
     ]
    },
    {
     "name": "stderr",
     "output_type": "stream",
     "text": [
      "[27 / 32] Hs=    0 -529.212089 4623.1 0.0 0.0 0.1 2.9 0.2 294.4 0.5 31.8 2.4 0.7 0.3 0.2 0.0 0.1 3.5 0.3 0.0 0.1 0.2 0.4 1.3 0.8 18.2 4981.5 [15 ; 0]:  42%|████▏     | 14/33 [38:20<49:16, 155.61s/it]"
     ]
    },
    {
     "name": "stdout",
     "output_type": "stream",
     "text": [
      "16.4025 (45, 45, 45, 45) 15\n",
      "7.77384 (4, 10797, 45) 20\n"
     ]
    },
    {
     "name": "stderr",
     "output_type": "stream",
     "text": [
      "[28 / 32] Hs=    0 -529.218600 4397.2 0.1 0.0 0.2 3.3 0.3 279.0 0.0 28.8 3.4 0.4 0.3 0.1 0.0 0.1 5.2 0.2 0.0 0.0 0.3 0.7 2.9 0.6 7.4 4730.5 [15 ; 0]:  42%|████▏     | 14/33 [38:25<49:16, 155.61s/it] "
     ]
    },
    {
     "name": "stdout",
     "output_type": "stream",
     "text": [
      "16.4025 (45, 45, 45, 45) 15\n",
      "7.77384 (4, 10797, 45) 20\n"
     ]
    },
    {
     "name": "stderr",
     "output_type": "stream",
     "text": [
      "[29 / 32] Hs=    0 -529.209124 4522.9 0.0 0.0 0.1 4.2 0.3 281.9 0.1 27.3 2.0 0.2 0.3 0.1 0.0 0.0 3.0 0.1 0.0 0.0 0.2 0.3 0.6 0.1 1.9 4845.6 [15 ; 0]:  42%|████▏     | 14/33 [38:30<49:16, 155.61s/it]"
     ]
    },
    {
     "name": "stdout",
     "output_type": "stream",
     "text": [
      "16.4025 (45, 45, 45, 45) 15\n",
      "7.77384 (4, 10797, 45) 20\n"
     ]
    },
    {
     "name": "stderr",
     "output_type": "stream",
     "text": [
      "[30 / 32] Hs=    0 -529.212762 4486.0 0.1 0.0 0.1 3.2 0.2 281.7 0.0 28.3 2.9 0.2 0.3 0.1 0.0 0.0 3.3 0.2 0.0 0.0 0.2 0.3 0.7 0.2 2.7 4810.7 [15 ; 0]:  42%|████▏     | 14/33 [38:34<49:16, 155.61s/it]"
     ]
    },
    {
     "name": "stdout",
     "output_type": "stream",
     "text": [
      "16.4025 (45, 45, 45, 45) 15\n",
      "7.77384 (4, 10797, 45) 20\n"
     ]
    },
    {
     "name": "stderr",
     "output_type": "stream",
     "text": [
      "[31 / 32] Hs=    0 -529.218605 4541.4 0.0 0.0 0.1 3.0 0.2 286.7 0.0 26.8 2.0 0.2 0.3 0.1 0.0 0.0 3.1 0.1 0.0 0.0 0.2 0.3 0.5 0.1 1.9 4867.0 [15 ; 0]:  42%|████▏     | 14/33 [38:39<49:16, 155.61s/it]"
     ]
    },
    {
     "name": "stdout",
     "output_type": "stream",
     "text": [
      "16.4025 (45, 45, 45, 45) 15\n",
      "7.77384 (4, 10797, 45) 20\n"
     ]
    },
    {
     "name": "stderr",
     "output_type": "stream",
     "text": [
      "[31 / 32] Hs=    0 -529.218605 4541.4 0.0 0.0 0.1 3.0 0.2 286.7 0.0 26.8 2.0 0.2 0.3 0.1 0.0 0.0 3.1 0.1 0.0 0.0 0.2 0.3 0.5 0.1 1.9 4867.0 [15 ; 0]:  45%|████▌     | 15/33 [38:44<46:45, 155.89s/it]"
     ]
    },
    {
     "name": "stdout",
     "output_type": "stream",
     "text": [
      "[N#Cc1nnoc1C#N]\n",
      "[conformers] 32\n",
      "16.4025 (45, 45, 45, 45) 15\n",
      "7.77384 (4, 10797, 45) 20\n"
     ]
    },
    {
     "name": "stderr",
     "output_type": "stream",
     "text": [
      "[1 / 32] Hs=    0 -440.487111 4594.5 0.2 0.0 0.1 2.8 0.3 305.7 0.1 27.3 2.1 0.2 0.3 0.1 0.0 0.0 3.2 0.2 0.0 0.0 0.2 0.3 0.6 0.2 3.1 4941.5 [16 ; 0]:  45%|████▌     | 15/33 [38:49<46:45, 155.89s/it] "
     ]
    },
    {
     "name": "stdout",
     "output_type": "stream",
     "text": [
      "16.4025 (45, 45, 45, 45) 15\n",
      "7.77384 (4, 10797, 45) 20\n"
     ]
    },
    {
     "name": "stderr",
     "output_type": "stream",
     "text": [
      "[2 / 32] Hs=    0 -440.477788 4488.3 0.1 0.0 0.2 2.9 0.3 308.7 0.3 29.2 3.1 0.8 0.4 0.5 0.0 0.1 3.9 0.3 0.0 0.0 0.3 0.5 1.6 1.0 21.9 4864.4 [16 ; 0]:  45%|████▌     | 15/33 [38:54<46:45, 155.89s/it]"
     ]
    },
    {
     "name": "stdout",
     "output_type": "stream",
     "text": [
      "16.4025 (45, 45, 45, 45) 15\n",
      "7.77384 (4, 10797, 45) 20\n"
     ]
    },
    {
     "name": "stderr",
     "output_type": "stream",
     "text": [
      "[3 / 32] Hs=    0 -440.488705 4908.2 1.0 0.4 0.3 7.4 1.4 310.8 0.1 27.3 2.1 0.3 0.3 0.2 0.0 0.0 3.4 0.2 0.0 0.0 0.9 0.4 0.6 0.3 3.3 5268.9 [16 ; 0]:  45%|████▌     | 15/33 [38:59<46:45, 155.89s/it] "
     ]
    },
    {
     "name": "stdout",
     "output_type": "stream",
     "text": [
      "16.4025 (45, 45, 45, 45) 15\n",
      "7.77384 (4, 10797, 45) 20\n"
     ]
    },
    {
     "name": "stderr",
     "output_type": "stream",
     "text": [
      "[4 / 32] Hs=    0 -440.490512 4522.5 0.3 0.0 0.3 4.7 0.3 300.8 0.0 28.1 1.9 0.3 0.3 0.1 0.0 0.1 3.0 0.1 0.0 0.0 0.2 0.3 0.6 0.3 2.9 4867.1 [16 ; 0]:  45%|████▌     | 15/33 [39:04<46:45, 155.89s/it]"
     ]
    },
    {
     "name": "stdout",
     "output_type": "stream",
     "text": [
      "16.4025 (45, 45, 45, 45) 15\n",
      "7.77384 (4, 10797, 45) 20\n"
     ]
    },
    {
     "name": "stderr",
     "output_type": "stream",
     "text": [
      "[5 / 32] Hs=    0 -440.500283 4406.4 0.2 0.1 0.2 4.2 0.5 314.3 0.1 26.5 1.9 0.2 0.3 0.1 0.0 0.0 3.1 0.2 0.0 0.0 0.2 0.3 3.9 0.2 3.2 4766.1 [16 ; 0]:  45%|████▌     | 15/33 [39:09<46:45, 155.89s/it]"
     ]
    },
    {
     "name": "stdout",
     "output_type": "stream",
     "text": [
      "16.4025 (45, 45, 45, 45) 15\n",
      "7.77384 (4, 10797, 45) 20\n"
     ]
    },
    {
     "name": "stderr",
     "output_type": "stream",
     "text": [
      "[6 / 32] Hs=    0 -440.479346 4391.1 0.0 0.0 0.1 2.4 0.2 301.1 0.2 26.7 3.3 0.3 0.3 0.1 0.0 0.0 4.9 0.2 0.0 0.0 0.3 0.6 0.6 0.2 3.5 4736.1 [16 ; 0]:  45%|████▌     | 15/33 [39:14<46:45, 155.89s/it]"
     ]
    },
    {
     "name": "stdout",
     "output_type": "stream",
     "text": [
      "16.4025 (45, 45, 45, 45) 15\n",
      "7.77384 (4, 10797, 45) 20\n"
     ]
    },
    {
     "name": "stderr",
     "output_type": "stream",
     "text": [
      "[7 / 32] Hs=    0 -440.475331 4736.5 0.1 0.0 0.1 2.9 0.3 312.2 0.1 26.2 1.8 0.2 0.3 0.1 0.0 0.0 3.1 0.1 0.0 0.0 0.2 0.3 0.9 0.2 3.6 5089.2 [16 ; 0]:  45%|████▌     | 15/33 [39:19<46:45, 155.89s/it]"
     ]
    },
    {
     "name": "stdout",
     "output_type": "stream",
     "text": [
      "16.4025 (45, 45, 45, 45) 15\n",
      "7.77384 (4, 10797, 45) 20\n"
     ]
    },
    {
     "name": "stderr",
     "output_type": "stream",
     "text": [
      "[8 / 32] Hs=    0 -440.483605 4402.5 0.0 0.0 0.1 2.4 0.2 302.1 0.1 26.9 2.3 0.2 0.3 0.1 0.0 0.0 3.5 0.2 0.0 0.0 0.2 0.3 0.6 0.1 2.1 4744.2 [16 ; 0]:  45%|████▌     | 15/33 [39:24<46:45, 155.89s/it]"
     ]
    },
    {
     "name": "stdout",
     "output_type": "stream",
     "text": [
      "16.4025 (45, 45, 45, 45) 15\n",
      "7.77384 (4, 10797, 45) 20\n"
     ]
    },
    {
     "name": "stderr",
     "output_type": "stream",
     "text": [
      "[9 / 32] Hs=    0 -440.479623 4428.5 0.1 0.0 0.1 2.7 0.3 313.1 0.0 26.6 2.1 0.2 0.3 0.1 0.0 0.0 3.2 0.2 0.0 0.0 0.2 0.3 0.6 0.2 2.9 4781.7 [16 ; 0]:  45%|████▌     | 15/33 [39:28<46:45, 155.89s/it]"
     ]
    },
    {
     "name": "stdout",
     "output_type": "stream",
     "text": [
      "16.4025 (45, 45, 45, 45) 15\n",
      "7.77384 (4, 10797, 45) 20\n"
     ]
    },
    {
     "name": "stderr",
     "output_type": "stream",
     "text": [
      "[10 / 32] Hs=    0 -440.484223 4625.1 0.0 0.0 0.1 2.4 0.2 309.5 0.3 28.3 6.8 0.3 0.4 0.2 0.3 0.0 4.2 0.2 0.0 0.0 0.2 0.4 0.7 0.2 2.8 4982.6 [16 ; 0]:  45%|████▌     | 15/33 [39:33<46:45, 155.89s/it]"
     ]
    },
    {
     "name": "stdout",
     "output_type": "stream",
     "text": [
      "16.4025 (45, 45, 45, 45) 15\n",
      "7.77384 (4, 10797, 45) 20\n"
     ]
    },
    {
     "name": "stderr",
     "output_type": "stream",
     "text": [
      "[11 / 32] Hs=    0 -440.491143 4615.1 0.1 0.0 0.1 2.8 0.3 306.3 0.1 27.3 5.8 0.3 0.3 0.2 0.0 0.0 4.1 0.2 0.0 0.0 0.2 0.4 0.7 0.2 3.0 4967.5 [16 ; 0]:  45%|████▌     | 15/33 [39:38<46:45, 155.89s/it]"
     ]
    },
    {
     "name": "stdout",
     "output_type": "stream",
     "text": [
      "16.4025 (45, 45, 45, 45) 15\n",
      "7.77384 (4, 10797, 45) 20\n"
     ]
    },
    {
     "name": "stderr",
     "output_type": "stream",
     "text": [
      "[12 / 32] Hs=    0 -440.480291 4512.1 0.1 0.0 0.1 2.8 0.3 313.0 0.1 28.5 1.9 0.3 0.3 0.1 0.0 0.0 3.1 0.2 0.0 0.0 0.2 0.3 2.0 0.4 15.1 4880.9 [16 ; 0]:  45%|████▌     | 15/33 [39:43<46:45, 155.89s/it]"
     ]
    },
    {
     "name": "stdout",
     "output_type": "stream",
     "text": [
      "16.4025 (45, 45, 45, 45) 15\n",
      "7.77384 (4, 10797, 45) 20\n"
     ]
    },
    {
     "name": "stderr",
     "output_type": "stream",
     "text": [
      "[13 / 32] Hs=    0 -440.491035 4427.1 0.1 0.0 0.1 3.2 0.3 302.4 0.1 26.8 1.8 0.2 0.3 0.1 0.0 0.0 3.5 0.2 0.0 0.0 0.2 0.4 0.7 0.4 5.3 4773.2 [16 ; 0]:  45%|████▌     | 15/33 [39:48<46:45, 155.89s/it] "
     ]
    },
    {
     "name": "stdout",
     "output_type": "stream",
     "text": [
      "16.4025 (45, 45, 45, 45) 15\n",
      "7.77384 (4, 10797, 45) 20\n"
     ]
    },
    {
     "name": "stderr",
     "output_type": "stream",
     "text": [
      "[14 / 32] Hs=    0 -440.481014 4769.6 0.1 0.0 0.1 3.1 0.3 309.0 0.1 27.1 2.1 0.3 0.3 0.2 0.0 0.0 3.2 0.1 0.0 0.0 0.2 0.3 0.6 0.7 7.2 5124.6 [16 ; 0]:  45%|████▌     | 15/33 [39:53<46:45, 155.89s/it]"
     ]
    },
    {
     "name": "stdout",
     "output_type": "stream",
     "text": [
      "16.4025 (45, 45, 45, 45) 15\n",
      "7.77384 (4, 10797, 45) 20\n"
     ]
    },
    {
     "name": "stderr",
     "output_type": "stream",
     "text": [
      "[15 / 32] Hs=    0 -440.485636 4553.3 0.8 0.3 0.5 9.5 1.6 294.7 0.3 27.6 2.3 0.4 0.3 0.1 0.0 0.1 3.7 0.3 0.0 0.0 0.2 0.4 2.2 0.2 3.0 4901.8 [16 ; 0]:  45%|████▌     | 15/33 [39:58<46:45, 155.89s/it]"
     ]
    },
    {
     "name": "stdout",
     "output_type": "stream",
     "text": [
      "16.4025 (45, 45, 45, 45) 15\n",
      "7.77384 (4, 10797, 45) 20\n"
     ]
    },
    {
     "name": "stderr",
     "output_type": "stream",
     "text": [
      "[16 / 32] Hs=    0 -440.484340 4449.8 0.2 0.0 0.1 3.1 0.3 311.3 0.0 26.7 2.6 0.3 0.3 0.1 0.0 0.0 4.7 0.1 0.0 0.0 0.2 0.4 2.0 0.3 3.7 4806.2 [16 ; 0]:  45%|████▌     | 15/33 [40:03<46:45, 155.89s/it]"
     ]
    },
    {
     "name": "stdout",
     "output_type": "stream",
     "text": [
      "16.4025 (45, 45, 45, 45) 15\n",
      "7.77384 (4, 10797, 45) 20\n"
     ]
    },
    {
     "name": "stderr",
     "output_type": "stream",
     "text": [
      "[17 / 32] Hs=    0 -440.494711 4402.2 0.1 0.0 0.1 3.0 0.2 313.1 0.1 26.4 2.2 0.2 0.3 0.1 0.0 0.0 3.1 0.1 0.0 0.0 0.2 0.3 3.1 0.2 1.9 4756.9 [16 ; 0]:  45%|████▌     | 15/33 [40:08<46:45, 155.89s/it]"
     ]
    },
    {
     "name": "stdout",
     "output_type": "stream",
     "text": [
      "16.4025 (45, 45, 45, 45) 15\n",
      "7.77384 (4, 10797, 45) 20\n"
     ]
    },
    {
     "name": "stderr",
     "output_type": "stream",
     "text": [
      "[18 / 32] Hs=    0 -440.491237 4553.7 0.1 0.0 0.1 2.7 0.6 298.5 0.0 26.7 2.2 0.2 0.3 0.1 0.0 0.0 3.5 0.2 0.0 0.0 0.2 0.3 0.6 0.2 3.1 4893.3 [16 ; 0]:  45%|████▌     | 15/33 [40:12<46:45, 155.89s/it]"
     ]
    },
    {
     "name": "stdout",
     "output_type": "stream",
     "text": [
      "16.4025 (45, 45, 45, 45) 15\n",
      "7.77384 (4, 10797, 45) 20\n"
     ]
    },
    {
     "name": "stderr",
     "output_type": "stream",
     "text": [
      "[19 / 32] Hs=    0 -440.446261 4653.8 0.2 0.0 0.1 3.9 0.4 308.8 0.1 26.8 3.7 0.3 0.3 0.1 0.0 0.0 3.3 0.2 0.0 0.0 0.2 0.4 0.7 0.2 3.9 5007.4 [16 ; 0]:  45%|████▌     | 15/33 [40:17<46:45, 155.89s/it]"
     ]
    },
    {
     "name": "stdout",
     "output_type": "stream",
     "text": [
      "16.4025 (45, 45, 45, 45) 15\n",
      "7.77384 (4, 10797, 45) 20\n"
     ]
    },
    {
     "name": "stderr",
     "output_type": "stream",
     "text": [
      "[20 / 32] Hs=    0 -440.487383 4377.0 0.1 0.0 0.6 3.1 0.2 297.3 0.0 28.0 4.3 0.4 0.3 0.2 0.0 0.1 3.0 0.2 0.0 0.0 3.0 0.3 0.6 0.1 2.7 4721.5 [16 ; 0]:  45%|████▌     | 15/33 [40:22<46:45, 155.89s/it]"
     ]
    },
    {
     "name": "stdout",
     "output_type": "stream",
     "text": [
      "16.4025 (45, 45, 45, 45) 15\n",
      "7.77384 (4, 10797, 45) 20\n"
     ]
    },
    {
     "name": "stderr",
     "output_type": "stream",
     "text": [
      "[21 / 32] Hs=    0 -440.492796 4440.4 0.2 0.0 0.2 3.1 0.3 313.7 0.1 26.9 2.2 0.3 0.3 0.1 0.0 0.1 3.2 0.2 0.0 0.0 0.2 0.3 2.2 0.3 3.0 4797.3 [16 ; 0]:  45%|████▌     | 15/33 [40:27<46:45, 155.89s/it]"
     ]
    },
    {
     "name": "stdout",
     "output_type": "stream",
     "text": [
      "16.4025 (45, 45, 45, 45) 15\n",
      "7.77384 (4, 10797, 45) 20\n"
     ]
    },
    {
     "name": "stderr",
     "output_type": "stream",
     "text": [
      "[22 / 32] Hs=    0 -440.487990 4751.9 0.0 0.0 0.1 2.5 0.2 301.3 0.0 26.6 1.9 0.2 0.3 0.1 0.0 0.0 3.1 0.2 0.0 0.0 0.2 0.3 2.0 0.2 2.6 5093.7 [16 ; 0]:  45%|████▌     | 15/33 [40:32<46:45, 155.89s/it]"
     ]
    },
    {
     "name": "stdout",
     "output_type": "stream",
     "text": [
      "16.4025 (45, 45, 45, 45) 15\n",
      "7.77384 (4, 10797, 45) 20\n"
     ]
    },
    {
     "name": "stderr",
     "output_type": "stream",
     "text": [
      "[23 / 32] Hs=    0 -440.488732 4416.1 0.2 0.1 0.3 5.0 0.7 300.8 0.1 27.3 2.1 0.3 0.3 0.1 0.0 0.1 3.5 0.2 0.0 0.0 0.2 0.4 1.2 0.6 8.9 4768.5 [16 ; 0]:  45%|████▌     | 15/33 [40:37<46:45, 155.89s/it]"
     ]
    },
    {
     "name": "stdout",
     "output_type": "stream",
     "text": [
      "16.4025 (45, 45, 45, 45) 15\n",
      "7.77384 (4, 10797, 45) 20\n"
     ]
    },
    {
     "name": "stderr",
     "output_type": "stream",
     "text": [
      "[24 / 32] Hs=    0 -440.475011 4407.2 0.0 0.0 0.1 2.5 0.2 301.2 0.0 26.2 3.0 0.2 0.3 0.1 0.0 0.0 3.0 0.1 0.0 0.0 0.2 0.3 0.7 0.2 2.5 4748.0 [16 ; 0]:  45%|████▌     | 15/33 [40:42<46:45, 155.89s/it]"
     ]
    },
    {
     "name": "stdout",
     "output_type": "stream",
     "text": [
      "16.4025 (45, 45, 45, 45) 15\n",
      "7.77384 (4, 10797, 45) 20\n"
     ]
    },
    {
     "name": "stderr",
     "output_type": "stream",
     "text": [
      "[25 / 32] Hs=    0 -440.462294 4415.7 0.0 0.3 0.1 2.3 0.2 290.2 0.0 26.5 1.9 0.2 0.3 0.1 0.0 0.0 10.5 0.2 0.0 0.0 1.4 0.3 0.6 0.2 2.6 4753.6 [16 ; 0]:  45%|████▌     | 15/33 [40:46<46:45, 155.89s/it]"
     ]
    },
    {
     "name": "stdout",
     "output_type": "stream",
     "text": [
      "16.4025 (45, 45, 45, 45) 15\n",
      "7.77384 (4, 10797, 45) 20\n"
     ]
    },
    {
     "name": "stderr",
     "output_type": "stream",
     "text": [
      "[26 / 32] Hs=    0 -440.495687 4585.0 0.4 0.1 0.3 5.6 0.9 294.9 0.2 27.4 2.9 0.3 0.3 0.1 0.0 0.0 3.3 0.3 0.0 0.0 0.2 0.3 2.0 0.5 15.0 4940.0 [16 ; 0]:  45%|████▌     | 15/33 [40:51<46:45, 155.89s/it]"
     ]
    },
    {
     "name": "stdout",
     "output_type": "stream",
     "text": [
      "16.4025 (45, 45, 45, 45) 15\n",
      "7.77384 (4, 10797, 45) 20\n"
     ]
    },
    {
     "name": "stderr",
     "output_type": "stream",
     "text": [
      "[27 / 32] Hs=    0 -440.484608 4534.3 0.2 0.0 0.1 2.9 0.4 295.5 0.1 27.7 2.1 0.3 0.3 0.2 0.0 0.0 3.7 0.2 0.0 0.0 0.2 0.4 0.8 0.3 3.9 4873.6 [16 ; 0]:  45%|████▌     | 15/33 [40:56<46:45, 155.89s/it] "
     ]
    },
    {
     "name": "stdout",
     "output_type": "stream",
     "text": [
      "16.4025 (45, 45, 45, 45) 15\n",
      "7.77384 (4, 10797, 45) 20\n"
     ]
    },
    {
     "name": "stderr",
     "output_type": "stream",
     "text": [
      "[28 / 32] Hs=    0 -440.488415 4744.8 0.2 0.0 0.1 3.0 0.3 299.9 0.1 27.4 1.9 0.3 0.3 0.2 0.0 0.0 3.3 0.2 0.0 0.0 0.2 0.4 2.8 0.9 7.5 5093.8 [16 ; 0]:  45%|████▌     | 15/33 [41:01<46:45, 155.89s/it]"
     ]
    },
    {
     "name": "stdout",
     "output_type": "stream",
     "text": [
      "16.4025 (45, 45, 45, 45) 15\n",
      "7.77384 (4, 10797, 45) 20\n"
     ]
    },
    {
     "name": "stderr",
     "output_type": "stream",
     "text": [
      "[29 / 32] Hs=    0 -440.479626 4699.3 0.7 0.2 0.3 5.5 0.9 300.8 0.1 27.0 2.0 0.3 0.3 0.1 0.0 0.0 3.3 0.2 0.0 0.0 0.2 0.3 0.7 0.2 3.0 5045.4 [16 ; 0]:  45%|████▌     | 15/33 [41:06<46:45, 155.89s/it]"
     ]
    },
    {
     "name": "stdout",
     "output_type": "stream",
     "text": [
      "16.4025 (45, 45, 45, 45) 15\n",
      "7.77384 (4, 10797, 45) 20\n"
     ]
    },
    {
     "name": "stderr",
     "output_type": "stream",
     "text": [
      "[30 / 32] Hs=    0 -440.481149 4477.0 0.2 0.0 0.1 3.1 0.4 293.3 0.3 27.6 2.0 0.4 0.3 0.1 0.0 0.1 3.7 0.3 0.0 0.0 0.3 0.4 1.0 0.2 17.1 4827.9 [16 ; 0]:  45%|████▌     | 15/33 [41:11<46:45, 155.89s/it]"
     ]
    },
    {
     "name": "stdout",
     "output_type": "stream",
     "text": [
      "16.4025 (45, 45, 45, 45) 15\n",
      "7.77384 (4, 10797, 45) 20\n"
     ]
    },
    {
     "name": "stderr",
     "output_type": "stream",
     "text": [
      "[31 / 32] Hs=    0 -440.489021 4381.8 0.0 0.0 0.1 2.3 0.2 290.3 0.0 26.2 1.9 0.2 0.3 0.1 0.0 0.0 3.1 0.1 0.0 0.0 0.2 0.3 0.7 0.2 2.6 4710.6 [16 ; 0]:  45%|████▌     | 15/33 [41:16<46:45, 155.89s/it] "
     ]
    },
    {
     "name": "stdout",
     "output_type": "stream",
     "text": [
      "16.4025 (45, 45, 45, 45) 15\n",
      "7.77384 (4, 10797, 45) 20\n"
     ]
    },
    {
     "name": "stderr",
     "output_type": "stream",
     "text": [
      "[31 / 32] Hs=    0 -440.489021 4381.8 0.0 0.0 0.1 2.3 0.2 290.3 0.0 26.2 1.9 0.2 0.3 0.1 0.0 0.0 3.1 0.1 0.0 0.0 0.2 0.3 0.7 0.2 2.6 4710.6 [16 ; 0]:  48%|████▊     | 16/33 [41:20<44:13, 156.11s/it]"
     ]
    },
    {
     "name": "stdout",
     "output_type": "stream",
     "text": [
      "[O=C1Oc2nonc2O1]\n",
      "[conformers] 32\n",
      "16.4025 (45, 45, 45, 45) 15\n",
      "7.77384 (4, 10797, 45) 20\n"
     ]
    },
    {
     "name": "stderr",
     "output_type": "stream",
     "text": [
      "[1 / 32] Hs=    0 -517.324246 4800.1 0.0 0.0 0.1 2.5 0.2 305.1 0.1 26.5 2.2 0.3 0.3 0.1 0.0 0.1 3.1 0.2 0.0 0.0 0.2 0.4 0.9 0.3 5.8 5148.5 [17 ; 0]:  48%|████▊     | 16/33 [41:26<44:13, 156.11s/it] "
     ]
    },
    {
     "name": "stdout",
     "output_type": "stream",
     "text": [
      "16.4025 (45, 45, 45, 45) 15\n",
      "7.77384 (4, 10797, 45) 20\n"
     ]
    },
    {
     "name": "stderr",
     "output_type": "stream",
     "text": [
      "[2 / 32] Hs=    0 -517.295377 4430.1 0.1 0.0 0.1 2.8 0.3 310.0 0.1 28.6 2.1 0.3 0.3 0.1 0.0 0.0 4.0 0.2 0.0 0.0 0.2 0.4 0.8 0.2 3.4 4784.1 [17 ; 0]:  48%|████▊     | 16/33 [41:31<44:13, 156.11s/it]"
     ]
    },
    {
     "name": "stdout",
     "output_type": "stream",
     "text": [
      "16.4025 (45, 45, 45, 45) 15\n",
      "7.77384 (4, 10797, 45) 20\n"
     ]
    },
    {
     "name": "stderr",
     "output_type": "stream",
     "text": [
      "[3 / 32] Hs=    0 -517.288706 4404.1 0.1 0.0 0.1 2.7 0.3 323.0 0.1 26.4 1.9 0.2 0.3 0.1 0.0 0.0 3.2 0.2 0.0 0.0 0.2 0.3 0.8 0.2 4.2 4768.4 [17 ; 0]:  48%|████▊     | 16/33 [41:36<44:13, 156.11s/it]"
     ]
    },
    {
     "name": "stdout",
     "output_type": "stream",
     "text": [
      "16.4025 (45, 45, 45, 45) 15\n",
      "7.77384 (4, 10797, 45) 20\n"
     ]
    },
    {
     "name": "stderr",
     "output_type": "stream",
     "text": [
      "[4 / 32] Hs=    0 -517.296748 4439.6 0.1 0.0 0.1 2.4 0.2 318.8 0.1 26.6 2.1 0.2 0.3 0.1 0.0 0.0 3.2 0.2 0.0 0.0 0.2 0.3 0.7 0.2 2.9 4798.3 [17 ; 0]:  48%|████▊     | 16/33 [41:40<44:13, 156.11s/it]"
     ]
    },
    {
     "name": "stdout",
     "output_type": "stream",
     "text": [
      "16.4025 (45, 45, 45, 45) 15\n",
      "7.77384 (4, 10797, 45) 20\n"
     ]
    },
    {
     "name": "stderr",
     "output_type": "stream",
     "text": [
      "[5 / 32] Hs=    0 -517.275726 4548.9 0.2 0.0 0.1 3.5 0.4 301.9 0.2 27.6 2.2 0.2 0.3 0.1 0.0 0.0 3.1 0.2 0.0 0.0 0.2 0.4 2.2 0.4 3.9 4896.0 [17 ; 0]:  48%|████▊     | 16/33 [41:45<44:13, 156.11s/it]"
     ]
    },
    {
     "name": "stdout",
     "output_type": "stream",
     "text": [
      "16.4025 (45, 45, 45, 45) 15\n",
      "7.77384 (4, 10797, 45) 20\n"
     ]
    },
    {
     "name": "stderr",
     "output_type": "stream",
     "text": [
      "[6 / 32] Hs=    0 -517.299237 4573.3 0.1 0.0 0.1 2.8 0.3 305.5 0.1 27.0 2.2 0.2 0.3 0.2 0.0 0.0 3.2 0.2 0.0 0.0 0.2 0.4 3.1 0.6 10.1 4929.9 [17 ; 0]:  48%|████▊     | 16/33 [41:50<44:13, 156.11s/it]"
     ]
    },
    {
     "name": "stdout",
     "output_type": "stream",
     "text": [
      "16.4025 (45, 45, 45, 45) 15\n",
      "7.77384 (4, 10797, 45) 20\n"
     ]
    },
    {
     "name": "stderr",
     "output_type": "stream",
     "text": [
      "[7 / 32] Hs=    0 -517.305244 4472.7 0.0 0.0 0.1 2.4 0.2 304.6 0.0 26.4 2.0 0.2 0.3 0.1 0.0 0.0 4.1 0.1 0.0 0.0 0.2 0.3 0.5 0.1 2.1 4816.4 [17 ; 0]:  48%|████▊     | 16/33 [41:55<44:13, 156.11s/it] "
     ]
    },
    {
     "name": "stdout",
     "output_type": "stream",
     "text": [
      "16.4025 (45, 45, 45, 45) 15\n",
      "7.77384 (4, 10797, 45) 20\n"
     ]
    },
    {
     "name": "stderr",
     "output_type": "stream",
     "text": [
      "[8 / 32] Hs=    0 -517.299270 4538.9 0.1 0.0 0.1 2.8 0.3 316.0 0.3 27.8 2.5 0.4 0.3 0.2 0.0 0.1 3.7 0.3 0.0 0.0 0.3 0.5 1.0 0.2 3.6 4899.4 [17 ; 0]:  48%|████▊     | 16/33 [42:00<44:13, 156.11s/it]"
     ]
    },
    {
     "name": "stdout",
     "output_type": "stream",
     "text": [
      "16.4025 (45, 45, 45, 45) 15\n",
      "7.77384 (4, 10797, 45) 20\n"
     ]
    },
    {
     "name": "stderr",
     "output_type": "stream",
     "text": [
      "[9 / 32] Hs=    0 -517.295093 4838.9 0.1 0.0 0.1 2.8 0.3 320.0 0.1 26.4 1.9 0.2 0.3 0.1 0.0 0.0 3.1 0.2 0.0 0.0 0.2 0.3 0.8 0.3 3.8 5199.9 [17 ; 0]:  48%|████▊     | 16/33 [42:05<44:13, 156.11s/it]"
     ]
    },
    {
     "name": "stdout",
     "output_type": "stream",
     "text": [
      "16.4025 (45, 45, 45, 45) 15\n",
      "7.77384 (4, 10797, 45) 20\n"
     ]
    },
    {
     "name": "stderr",
     "output_type": "stream",
     "text": [
      "[10 / 32] Hs=    0 -517.287124 4555.5 0.0 0.0 0.1 2.5 0.2 304.5 0.1 26.7 6.5 0.2 0.3 0.1 0.0 0.0 3.1 0.2 0.0 0.0 0.2 0.3 0.7 0.2 2.6 4904.0 [17 ; 0]:  48%|████▊     | 16/33 [42:10<44:13, 156.11s/it]"
     ]
    },
    {
     "name": "stdout",
     "output_type": "stream",
     "text": [
      "16.4025 (45, 45, 45, 45) 15\n",
      "7.77384 (4, 10797, 45) 20\n"
     ]
    },
    {
     "name": "stderr",
     "output_type": "stream",
     "text": [
      "[11 / 32] Hs=    0 -517.294753 4451.1 0.3 0.0 0.1 2.9 0.3 321.1 0.1 27.5 2.3 0.2 0.3 0.2 0.0 0.0 3.2 0.2 0.0 0.0 0.2 0.3 0.8 0.3 3.7 4815.1 [17 ; 0]:  48%|████▊     | 16/33 [42:15<44:13, 156.11s/it]"
     ]
    },
    {
     "name": "stdout",
     "output_type": "stream",
     "text": [
      "16.4025 (45, 45, 45, 45) 15\n",
      "7.77384 (4, 10797, 45) 20\n"
     ]
    },
    {
     "name": "stderr",
     "output_type": "stream",
     "text": [
      "[12 / 32] Hs=    0 -517.305728 4777.5 0.1 0.0 0.1 2.9 0.3 320.4 0.1 27.3 2.0 0.3 0.3 0.1 0.0 0.0 3.1 0.2 0.0 0.0 0.2 0.3 0.6 0.3 3.3 5139.4 [17 ; 0]:  48%|████▊     | 16/33 [42:20<44:13, 156.11s/it]"
     ]
    },
    {
     "name": "stdout",
     "output_type": "stream",
     "text": [
      "16.4025 (45, 45, 45, 45) 15\n",
      "7.77384 (4, 10797, 45) 20\n"
     ]
    },
    {
     "name": "stderr",
     "output_type": "stream",
     "text": [
      "[13 / 32] Hs=    0 -517.313907 4797.5 0.1 0.0 0.1 3.6 0.4 315.8 0.2 28.2 3.0 0.3 0.3 0.2 0.0 0.0 3.8 0.2 0.0 0.0 0.2 0.4 1.1 0.5 8.5 5164.4 [17 ; 0]:  48%|████▊     | 16/33 [42:25<44:13, 156.11s/it]"
     ]
    },
    {
     "name": "stdout",
     "output_type": "stream",
     "text": [
      "16.4025 (45, 45, 45, 45) 15\n",
      "7.77384 (4, 10797, 45) 20\n"
     ]
    },
    {
     "name": "stderr",
     "output_type": "stream",
     "text": [
      "[14 / 32] Hs=    0 -517.328629 4496.2 0.2 0.0 0.1 3.0 0.2 307.7 0.0 26.4 1.9 0.2 0.3 0.1 0.0 0.0 3.0 0.1 0.0 0.0 0.1 0.3 1.8 0.3 2.4 4844.3 [17 ; 0]:  48%|████▊     | 16/33 [42:30<44:13, 156.11s/it]"
     ]
    },
    {
     "name": "stdout",
     "output_type": "stream",
     "text": [
      "16.4025 (45, 45, 45, 45) 15\n",
      "7.77384 (4, 10797, 45) 20\n"
     ]
    },
    {
     "name": "stderr",
     "output_type": "stream",
     "text": [
      "[15 / 32] Hs=    0 -517.291890 4548.8 0.1 0.0 0.1 3.0 0.3 318.8 0.3 29.0 2.0 0.4 0.4 0.2 0.0 0.0 3.5 0.3 0.0 0.0 0.2 0.4 0.9 0.4 14.0 4923.1 [17 ; 0]:  48%|████▊     | 16/33 [42:35<44:13, 156.11s/it]"
     ]
    },
    {
     "name": "stdout",
     "output_type": "stream",
     "text": [
      "16.4025 (45, 45, 45, 45) 15\n",
      "7.77384 (4, 10797, 45) 20\n"
     ]
    },
    {
     "name": "stderr",
     "output_type": "stream",
     "text": [
      "[16 / 32] Hs=    0 -517.295495 4851.1 0.2 0.0 0.1 2.9 0.3 316.9 0.1 26.8 2.5 0.3 0.3 0.1 0.0 0.0 3.0 0.2 0.0 0.0 0.2 0.3 2.1 0.2 3.8 5211.4 [17 ; 0]:  48%|████▊     | 16/33 [42:40<44:13, 156.11s/it] "
     ]
    },
    {
     "name": "stdout",
     "output_type": "stream",
     "text": [
      "16.4025 (45, 45, 45, 45) 15\n",
      "7.77384 (4, 10797, 45) 20\n"
     ]
    },
    {
     "name": "stderr",
     "output_type": "stream",
     "text": [
      "[17 / 32] Hs=    0 -517.307616 4385.2 0.2 0.0 0.1 2.4 0.2 320.6 0.0 26.2 1.9 0.2 0.3 0.1 0.0 0.0 3.0 0.1 0.0 0.0 0.1 0.3 0.6 0.1 2.0 4743.6 [17 ; 0]:  48%|████▊     | 16/33 [42:45<44:13, 156.11s/it]"
     ]
    },
    {
     "name": "stdout",
     "output_type": "stream",
     "text": [
      "16.4025 (45, 45, 45, 45) 15\n",
      "7.77384 (4, 10797, 45) 20\n"
     ]
    },
    {
     "name": "stderr",
     "output_type": "stream",
     "text": [
      "[18 / 32] Hs=    0 -517.284647 4484.8 0.1 0.0 0.1 2.7 0.3 313.5 0.1 26.4 4.0 0.2 0.3 0.1 0.0 0.0 3.1 0.2 0.0 0.0 0.2 0.3 0.8 0.3 3.6 4841.1 [17 ; 0]:  48%|████▊     | 16/33 [42:50<44:13, 156.11s/it]"
     ]
    },
    {
     "name": "stdout",
     "output_type": "stream",
     "text": [
      "16.4025 (45, 45, 45, 45) 15\n",
      "7.77384 (4, 10797, 45) 20\n"
     ]
    },
    {
     "name": "stderr",
     "output_type": "stream",
     "text": [
      "[19 / 32] Hs=    0 -517.309984 4565.4 0.1 0.1 0.1 3.6 0.4 305.5 0.1 26.8 2.0 0.2 0.3 0.1 0.0 0.0 3.1 0.2 0.0 0.0 0.2 0.3 0.8 0.2 3.0 4912.5 [17 ; 0]:  48%|████▊     | 16/33 [42:55<44:13, 156.11s/it]"
     ]
    },
    {
     "name": "stdout",
     "output_type": "stream",
     "text": [
      "16.4025 (45, 45, 45, 45) 15\n",
      "7.77384 (4, 10797, 45) 20\n"
     ]
    },
    {
     "name": "stderr",
     "output_type": "stream",
     "text": [
      "[20 / 32] Hs=    0 -517.288886 4897.1 0.2 0.0 0.1 3.3 0.3 312.1 0.1 26.9 2.1 0.2 0.3 0.2 0.0 0.0 3.0 0.2 0.0 0.0 0.2 0.3 0.8 0.2 3.6 5251.2 [17 ; 0]:  48%|████▊     | 16/33 [43:00<44:13, 156.11s/it]"
     ]
    },
    {
     "name": "stdout",
     "output_type": "stream",
     "text": [
      "16.4025 (45, 45, 45, 45) 15\n",
      "7.77384 (4, 10797, 45) 20\n"
     ]
    },
    {
     "name": "stderr",
     "output_type": "stream",
     "text": [
      "[21 / 32] Hs=    0 -517.312694 4546.5 0.1 0.0 0.1 2.7 0.3 308.0 0.1 26.6 2.1 0.2 0.3 0.1 0.0 0.0 3.0 0.1 0.0 0.0 0.2 0.3 2.8 0.2 3.2 4896.9 [17 ; 0]:  48%|████▊     | 16/33 [43:05<44:13, 156.11s/it]"
     ]
    },
    {
     "name": "stdout",
     "output_type": "stream",
     "text": [
      "16.4025 (45, 45, 45, 45) 15\n",
      "7.77384 (4, 10797, 45) 20\n"
     ]
    },
    {
     "name": "stderr",
     "output_type": "stream",
     "text": [
      "[22 / 32] Hs=    0 -517.292695 4416.3 0.0 0.0 0.1 2.4 0.2 299.3 0.1 27.1 2.3 0.2 0.3 0.1 0.0 0.0 3.0 0.1 0.0 0.0 0.2 0.3 0.8 0.2 2.5 4755.5 [17 ; 0]:  48%|████▊     | 16/33 [43:10<44:13, 156.11s/it]"
     ]
    },
    {
     "name": "stdout",
     "output_type": "stream",
     "text": [
      "16.4025 (45, 45, 45, 45) 15\n",
      "7.77384 (4, 10797, 45) 20\n"
     ]
    },
    {
     "name": "stderr",
     "output_type": "stream",
     "text": [
      "[23 / 32] Hs=    0 -517.286528 4771.2 0.1 0.0 0.1 2.8 0.3 324.8 0.1 26.5 2.7 0.2 0.3 0.1 0.0 0.0 3.1 0.2 0.0 0.0 0.2 0.3 0.7 0.2 3.5 5137.4 [17 ; 0]:  48%|████▊     | 16/33 [43:15<44:13, 156.11s/it]"
     ]
    },
    {
     "name": "stdout",
     "output_type": "stream",
     "text": [
      "16.4025 (45, 45, 45, 45) 15\n",
      "7.77384 (4, 10797, 45) 20\n"
     ]
    },
    {
     "name": "stderr",
     "output_type": "stream",
     "text": [
      "[24 / 32] Hs=    0 -517.281354 4575.9 0.1 0.0 0.1 3.1 0.3 310.8 0.1 26.9 2.2 0.4 0.3 0.1 0.0 0.0 3.1 0.2 0.0 0.0 0.2 0.3 0.6 0.2 3.0 4927.9 [17 ; 0]:  48%|████▊     | 16/33 [43:20<44:13, 156.11s/it]"
     ]
    },
    {
     "name": "stdout",
     "output_type": "stream",
     "text": [
      "16.4025 (45, 45, 45, 45) 15\n",
      "7.77384 (4, 10797, 45) 20\n"
     ]
    },
    {
     "name": "stderr",
     "output_type": "stream",
     "text": [
      "[25 / 32] Hs=    0 -517.276814 4637.6 0.0 0.0 0.1 2.3 0.5 310.6 0.0 28.0 2.1 0.2 0.3 0.1 0.0 0.0 3.5 0.2 0.0 0.0 0.2 0.3 0.7 0.2 2.5 4989.4 [17 ; 0]:  48%|████▊     | 16/33 [43:25<44:13, 156.11s/it]"
     ]
    },
    {
     "name": "stdout",
     "output_type": "stream",
     "text": [
      "16.4025 (45, 45, 45, 45) 15\n",
      "7.77384 (4, 10797, 45) 20\n"
     ]
    },
    {
     "name": "stderr",
     "output_type": "stream",
     "text": [
      "[26 / 32] Hs=    0 -517.311241 4510.1 0.1 0.0 0.1 2.6 0.2 306.3 0.0 26.5 1.9 0.2 0.3 0.1 0.0 0.0 3.1 0.2 0.0 0.0 0.2 0.3 0.9 0.2 3.2 4856.5 [17 ; 0]:  48%|████▊     | 16/33 [43:30<44:13, 156.11s/it]"
     ]
    },
    {
     "name": "stdout",
     "output_type": "stream",
     "text": [
      "16.4025 (45, 45, 45, 45) 15\n",
      "7.77384 (4, 10797, 45) 20\n"
     ]
    },
    {
     "name": "stderr",
     "output_type": "stream",
     "text": [
      "[27 / 32] Hs=    0 -517.307942 4374.9 0.0 0.0 0.1 2.4 0.2 325.2 0.0 26.9 2.1 0.2 0.3 0.1 0.0 0.0 3.1 0.1 0.0 0.0 0.2 0.3 0.5 0.1 2.0 4738.7 [17 ; 0]:  48%|████▊     | 16/33 [43:34<44:13, 156.11s/it]"
     ]
    },
    {
     "name": "stdout",
     "output_type": "stream",
     "text": [
      "16.4025 (45, 45, 45, 45) 15\n",
      "7.77384 (4, 10797, 45) 20\n"
     ]
    },
    {
     "name": "stderr",
     "output_type": "stream",
     "text": [
      "[28 / 32] Hs=    0 -517.298004 4514.2 0.1 0.0 0.1 2.8 0.3 308.4 0.1 26.8 1.9 0.2 0.3 0.1 0.0 0.0 3.0 0.2 0.0 0.0 0.2 0.3 0.9 0.2 3.5 4863.6 [17 ; 0]:  48%|████▊     | 16/33 [43:39<44:13, 156.11s/it]"
     ]
    },
    {
     "name": "stdout",
     "output_type": "stream",
     "text": [
      "16.4025 (45, 45, 45, 45) 15\n",
      "7.77384 (4, 10797, 45) 20\n"
     ]
    },
    {
     "name": "stderr",
     "output_type": "stream",
     "text": [
      "[29 / 32] Hs=    0 -517.295504 4459.8 0.1 0.0 0.1 2.7 0.3 308.7 0.1 27.2 1.9 0.2 0.3 0.1 0.0 0.0 3.1 0.2 0.0 0.0 0.2 0.3 0.7 0.3 3.7 4810.0 [17 ; 0]:  48%|████▊     | 16/33 [43:44<44:13, 156.11s/it]"
     ]
    },
    {
     "name": "stdout",
     "output_type": "stream",
     "text": [
      "16.4025 (45, 45, 45, 45) 15\n",
      "7.77384 (4, 10797, 45) 20\n"
     ]
    },
    {
     "name": "stderr",
     "output_type": "stream",
     "text": [
      "[30 / 32] Hs=    0 -517.285507 4476.1 0.0 0.0 0.1 2.4 0.2 315.6 0.0 26.3 1.8 0.2 0.3 0.1 0.0 0.0 3.2 0.1 0.0 0.0 0.2 0.3 0.7 0.1 2.0 4829.7 [17 ; 0]:  48%|████▊     | 16/33 [43:49<44:13, 156.11s/it]"
     ]
    },
    {
     "name": "stdout",
     "output_type": "stream",
     "text": [
      "16.4025 (45, 45, 45, 45) 15\n",
      "7.77384 (4, 10797, 45) 20\n"
     ]
    },
    {
     "name": "stderr",
     "output_type": "stream",
     "text": [
      "[31 / 32] Hs=    0 -517.281097 4514.2 0.0 0.0 0.1 2.4 0.2 302.5 0.0 26.3 1.9 0.2 0.3 0.1 0.0 0.0 2.9 0.1 0.0 0.0 0.2 0.3 0.5 0.1 2.0 4854.3 [17 ; 0]:  48%|████▊     | 16/33 [43:54<44:13, 156.11s/it]"
     ]
    },
    {
     "name": "stdout",
     "output_type": "stream",
     "text": [
      "16.4025 (45, 45, 45, 45) 15\n",
      "7.77384 (4, 10797, 45) 20\n"
     ]
    },
    {
     "name": "stderr",
     "output_type": "stream",
     "text": [
      "[31 / 32] Hs=    0 -517.281097 4514.2 0.0 0.0 0.1 2.4 0.2 302.5 0.0 26.3 1.9 0.2 0.3 0.1 0.0 0.0 2.9 0.1 0.0 0.0 0.2 0.3 0.5 0.1 2.0 4854.3 [17 ; 0]:  52%|█████▏    | 17/33 [43:58<41:45, 156.57s/it]"
     ]
    },
    {
     "name": "stdout",
     "output_type": "stream",
     "text": [
      "[Fc1onc(C#N)c1F]\n",
      "[conformers] 32\n",
      "16.4025 (45, 45, 45, 45) 15\n",
      "7.77384 (4, 10797, 45) 20\n"
     ]
    },
    {
     "name": "stderr",
     "output_type": "stream",
     "text": [
      "[1 / 32] Hs=    0 -529.185463 4521.8 0.1 0.0 0.1 3.0 0.2 285.0 0.1 27.1 2.2 0.2 0.3 0.1 0.0 0.0 4.1 0.2 0.0 0.0 0.2 0.4 0.9 0.2 3.4 4849.6 [18 ; 0]:  52%|█████▏    | 17/33 [44:03<41:45, 156.57s/it] "
     ]
    },
    {
     "name": "stdout",
     "output_type": "stream",
     "text": [
      "16.4025 (45, 45, 45, 45) 15\n",
      "7.77384 (4, 10797, 45) 20\n"
     ]
    },
    {
     "name": "stderr",
     "output_type": "stream",
     "text": [
      "[2 / 32] Hs=    0 -529.183426 4463.1 0.1 0.0 0.1 3.4 0.3 300.9 0.1 27.5 2.1 0.3 0.3 0.1 0.0 0.0 4.4 0.2 0.0 0.0 0.2 0.5 1.5 0.7 20.2 4826.0 [18 ; 0]:  52%|█████▏    | 17/33 [44:08<41:45, 156.57s/it]"
     ]
    },
    {
     "name": "stdout",
     "output_type": "stream",
     "text": [
      "16.4025 (45, 45, 45, 45) 15\n",
      "7.77384 (4, 10797, 45) 20\n"
     ]
    },
    {
     "name": "stderr",
     "output_type": "stream",
     "text": [
      "[3 / 32] Hs=    0 -529.189738 4727.2 0.1 0.0 0.1 3.4 0.3 283.5 0.3 28.6 2.3 0.4 0.4 0.2 0.0 0.0 4.0 0.3 0.0 0.0 0.2 0.4 1.0 0.4 6.7 5059.8 [18 ; 0]:  52%|█████▏    | 17/33 [44:13<41:45, 156.57s/it] "
     ]
    },
    {
     "name": "stdout",
     "output_type": "stream",
     "text": [
      "16.4025 (45, 45, 45, 45) 15\n",
      "7.77384 (4, 10797, 45) 20\n"
     ]
    },
    {
     "name": "stderr",
     "output_type": "stream",
     "text": [
      "[4 / 32] Hs=    0 -529.184988 4694.7 0.2 0.0 0.1 4.3 0.3 295.8 0.1 27.0 2.9 0.2 0.3 0.1 0.0 0.0 3.2 0.2 0.0 0.0 0.2 0.3 0.7 0.2 3.0 5033.8 [18 ; 0]:  52%|█████▏    | 17/33 [44:18<41:45, 156.57s/it]"
     ]
    },
    {
     "name": "stdout",
     "output_type": "stream",
     "text": [
      "16.4025 (45, 45, 45, 45) 15\n",
      "7.77384 (4, 10797, 45) 20\n"
     ]
    },
    {
     "name": "stderr",
     "output_type": "stream",
     "text": [
      "[5 / 32] Hs=    0 -529.187276 4492.8 0.0 0.0 0.1 2.9 0.2 304.8 0.1 26.7 2.1 0.2 0.3 0.1 0.0 0.0 3.1 0.1 0.0 0.0 0.2 0.3 0.5 0.1 2.0 4836.6 [18 ; 0]:  52%|█████▏    | 17/33 [44:23<41:45, 156.57s/it]"
     ]
    },
    {
     "name": "stdout",
     "output_type": "stream",
     "text": [
      "16.4025 (45, 45, 45, 45) 15\n",
      "7.77384 (4, 10797, 45) 20\n"
     ]
    },
    {
     "name": "stderr",
     "output_type": "stream",
     "text": [
      "[6 / 32] Hs=    0 -529.187372 4439.7 0.3 0.0 0.1 3.5 0.3 329.6 0.1 26.8 1.9 0.2 0.3 0.1 0.0 0.0 3.2 0.1 0.0 0.0 0.2 0.4 0.8 0.5 3.1 4811.2 [18 ; 0]:  52%|█████▏    | 17/33 [44:28<41:45, 156.57s/it]"
     ]
    },
    {
     "name": "stdout",
     "output_type": "stream",
     "text": [
      "16.4025 (45, 45, 45, 45) 15\n",
      "7.77384 (4, 10797, 45) 20\n"
     ]
    },
    {
     "name": "stderr",
     "output_type": "stream",
     "text": [
      "[7 / 32] Hs=    0 -529.190480 4478.5 0.3 0.0 0.1 4.4 0.3 293.7 0.1 27.2 2.2 0.2 0.3 0.1 0.0 0.0 3.4 0.2 0.0 0.0 0.2 0.3 0.6 0.2 2.9 4815.2 [18 ; 0]:  52%|█████▏    | 17/33 [44:33<41:45, 156.57s/it]"
     ]
    },
    {
     "name": "stdout",
     "output_type": "stream",
     "text": [
      "16.4025 (45, 45, 45, 45) 15\n",
      "7.77384 (4, 10797, 45) 20\n"
     ]
    },
    {
     "name": "stderr",
     "output_type": "stream",
     "text": [
      "[8 / 32] Hs=    0 -529.184114 4633.2 0.0 0.0 0.1 3.0 0.2 289.7 0.1 27.2 2.0 0.8 0.3 0.1 0.0 0.0 3.2 0.1 0.0 0.0 0.2 0.3 5.0 0.2 1.9 4967.6 [18 ; 0]:  52%|█████▏    | 17/33 [44:38<41:45, 156.57s/it]"
     ]
    },
    {
     "name": "stdout",
     "output_type": "stream",
     "text": [
      "16.4025 (45, 45, 45, 45) 15\n",
      "7.77384 (4, 10797, 45) 20\n"
     ]
    },
    {
     "name": "stderr",
     "output_type": "stream",
     "text": [
      "[9 / 32] Hs=    0 -529.186904 4423.4 0.0 0.0 0.1 2.9 0.2 303.4 0.0 26.6 2.5 0.2 0.3 0.1 0.0 0.0 3.4 0.1 0.0 0.0 0.2 0.3 0.5 0.1 2.0 4766.3 [18 ; 0]:  52%|█████▏    | 17/33 [44:43<41:45, 156.57s/it]"
     ]
    },
    {
     "name": "stdout",
     "output_type": "stream",
     "text": [
      "16.4025 (45, 45, 45, 45) 15\n",
      "7.77384 (4, 10797, 45) 20\n"
     ]
    },
    {
     "name": "stderr",
     "output_type": "stream",
     "text": [
      "[10 / 32] Hs=    0 -529.183659 4554.7 0.1 0.0 0.1 3.3 0.3 303.1 0.1 26.7 2.8 0.2 0.3 0.1 0.0 0.0 3.1 0.2 0.0 0.0 0.3 0.3 4.1 0.4 3.8 4904.0 [18 ; 0]:  52%|█████▏    | 17/33 [44:47<41:45, 156.57s/it]"
     ]
    },
    {
     "name": "stdout",
     "output_type": "stream",
     "text": [
      "16.4025 (45, 45, 45, 45) 15\n",
      "7.77384 (4, 10797, 45) 20\n"
     ]
    },
    {
     "name": "stderr",
     "output_type": "stream",
     "text": [
      "[11 / 32] Hs=    0 -529.192647 4562.3 0.3 0.0 0.1 4.1 0.3 292.5 0.3 28.6 2.1 0.4 0.3 0.2 0.0 0.1 3.8 0.3 0.0 0.0 0.2 0.5 1.3 0.3 3.3 4901.3 [18 ; 0]:  52%|█████▏    | 17/33 [44:52<41:45, 156.57s/it]"
     ]
    },
    {
     "name": "stdout",
     "output_type": "stream",
     "text": [
      "16.4025 (45, 45, 45, 45) 15\n",
      "7.77384 (4, 10797, 45) 20\n"
     ]
    },
    {
     "name": "stderr",
     "output_type": "stream",
     "text": [
      "[12 / 32] Hs=    0 -529.192849 4671.5 0.1 0.0 0.1 3.4 0.2 286.3 0.1 27.7 2.2 0.2 0.3 0.2 0.0 0.0 5.3 0.2 0.0 0.0 0.2 0.4 0.7 0.3 2.4 5001.8 [18 ; 0]:  52%|█████▏    | 17/33 [44:57<41:45, 156.57s/it]"
     ]
    },
    {
     "name": "stdout",
     "output_type": "stream",
     "text": [
      "16.4025 (45, 45, 45, 45) 15\n",
      "7.77384 (4, 10797, 45) 20\n"
     ]
    },
    {
     "name": "stderr",
     "output_type": "stream",
     "text": [
      "[13 / 32] Hs=    0 -529.183826 4405.6 0.2 0.0 0.1 3.3 0.3 301.2 0.0 27.0 2.3 0.2 0.3 0.1 0.0 0.0 3.2 0.2 0.0 0.0 0.2 0.3 0.8 0.2 3.6 4749.1 [18 ; 0]:  52%|█████▏    | 17/33 [45:02<41:45, 156.57s/it]"
     ]
    },
    {
     "name": "stdout",
     "output_type": "stream",
     "text": [
      "16.4025 (45, 45, 45, 45) 15\n",
      "7.77384 (4, 10797, 45) 20\n"
     ]
    },
    {
     "name": "stderr",
     "output_type": "stream",
     "text": [
      "[14 / 32] Hs=    0 -529.180436 4613.7 0.1 0.0 0.1 3.3 0.3 290.9 0.1 27.2 2.2 0.3 0.3 0.1 0.0 0.0 3.1 0.2 0.0 0.0 0.2 0.3 1.0 0.8 21.4 4965.6 [18 ; 0]:  52%|█████▏    | 17/33 [45:07<41:45, 156.57s/it]"
     ]
    },
    {
     "name": "stdout",
     "output_type": "stream",
     "text": [
      "16.4025 (45, 45, 45, 45) 15\n",
      "7.77384 (4, 10797, 45) 20\n"
     ]
    },
    {
     "name": "stderr",
     "output_type": "stream",
     "text": [
      "[15 / 32] Hs=    0 -529.185180 4418.8 0.1 0.0 0.1 4.0 0.3 298.6 0.1 26.8 1.9 0.2 0.3 0.1 0.0 0.0 3.2 0.2 0.0 0.0 0.2 0.3 0.6 0.2 2.7 4758.7 [18 ; 0]:  52%|█████▏    | 17/33 [45:12<41:45, 156.57s/it] "
     ]
    },
    {
     "name": "stdout",
     "output_type": "stream",
     "text": [
      "16.4025 (45, 45, 45, 45) 15\n",
      "7.77384 (4, 10797, 45) 20\n"
     ]
    },
    {
     "name": "stderr",
     "output_type": "stream",
     "text": [
      "[16 / 32] Hs=    0 -529.186880 4828.9 0.1 0.0 0.1 3.5 0.3 294.8 0.1 27.0 2.0 0.2 0.3 0.1 0.0 0.0 3.1 0.2 0.0 0.0 0.2 0.3 0.7 0.2 3.0 5165.1 [18 ; 0]:  52%|█████▏    | 17/33 [45:17<41:45, 156.57s/it]"
     ]
    },
    {
     "name": "stdout",
     "output_type": "stream",
     "text": [
      "16.4025 (45, 45, 45, 45) 15\n",
      "7.77384 (4, 10797, 45) 20\n"
     ]
    },
    {
     "name": "stderr",
     "output_type": "stream",
     "text": [
      "[17 / 32] Hs=    0 -529.186360 4399.8 0.3 0.2 0.1 4.1 0.3 313.6 0.1 26.9 2.2 0.6 0.3 0.1 0.0 0.0 3.1 0.1 0.0 0.0 0.2 0.4 8.1 0.6 4.4 4765.5 [18 ; 0]:  52%|█████▏    | 17/33 [45:22<41:45, 156.57s/it]"
     ]
    },
    {
     "name": "stdout",
     "output_type": "stream",
     "text": [
      "16.4025 (45, 45, 45, 45) 15\n",
      "7.77384 (4, 10797, 45) 20\n"
     ]
    },
    {
     "name": "stderr",
     "output_type": "stream",
     "text": [
      "[18 / 32] Hs=    0 -529.187991 4574.3 0.0 0.0 0.1 3.0 0.2 280.9 0.1 26.7 1.9 0.2 0.3 0.1 0.0 0.0 3.0 0.1 0.0 0.0 0.2 0.3 0.6 0.2 2.2 4894.4 [18 ; 0]:  52%|█████▏    | 17/33 [45:27<41:45, 156.57s/it]"
     ]
    },
    {
     "name": "stdout",
     "output_type": "stream",
     "text": [
      "16.4025 (45, 45, 45, 45) 15\n",
      "7.77384 (4, 10797, 45) 20\n"
     ]
    },
    {
     "name": "stderr",
     "output_type": "stream",
     "text": [
      "[19 / 32] Hs=    0 -529.185839 4685.2 0.1 0.0 0.1 3.1 0.2 293.5 0.1 27.5 1.9 0.3 0.3 0.2 0.0 0.0 3.2 0.2 0.0 0.0 0.2 0.3 0.6 0.3 4.0 5021.3 [18 ; 0]:  52%|█████▏    | 17/33 [45:32<41:45, 156.57s/it]"
     ]
    },
    {
     "name": "stdout",
     "output_type": "stream",
     "text": [
      "16.4025 (45, 45, 45, 45) 15\n",
      "7.77384 (4, 10797, 45) 20\n"
     ]
    },
    {
     "name": "stderr",
     "output_type": "stream",
     "text": [
      "[20 / 32] Hs=    0 -529.190218 4595.4 0.0 0.0 0.1 3.8 0.2 285.4 0.0 26.5 2.2 0.2 0.3 0.1 0.0 0.0 3.3 0.1 0.0 0.0 0.1 0.3 0.5 0.1 2.0 4920.6 [18 ; 0]:  52%|█████▏    | 17/33 [45:37<41:45, 156.57s/it]"
     ]
    },
    {
     "name": "stdout",
     "output_type": "stream",
     "text": [
      "16.4025 (45, 45, 45, 45) 15\n",
      "7.77384 (4, 10797, 45) 20\n"
     ]
    },
    {
     "name": "stderr",
     "output_type": "stream",
     "text": [
      "[21 / 32] Hs=    0 -529.191842 4408.4 0.1 0.0 0.1 3.9 0.4 303.6 0.1 27.2 2.0 0.3 0.3 0.1 0.0 0.0 3.0 0.2 0.0 0.0 0.2 0.3 1.1 0.6 8.2 4760.1 [18 ; 0]:  52%|█████▏    | 17/33 [45:41<41:45, 156.57s/it]"
     ]
    },
    {
     "name": "stdout",
     "output_type": "stream",
     "text": [
      "16.4025 (45, 45, 45, 45) 15\n",
      "7.77384 (4, 10797, 45) 20\n"
     ]
    },
    {
     "name": "stderr",
     "output_type": "stream",
     "text": [
      "[22 / 32] Hs=    0 -529.188008 4586.1 0.2 0.0 0.1 3.6 0.3 294.9 0.1 26.7 1.9 0.2 0.3 0.1 0.0 0.0 3.1 0.2 0.0 0.0 0.1 0.3 0.6 0.2 2.9 4921.9 [18 ; 0]:  52%|█████▏    | 17/33 [45:46<41:45, 156.57s/it]"
     ]
    },
    {
     "name": "stdout",
     "output_type": "stream",
     "text": [
      "16.4025 (45, 45, 45, 45) 15\n",
      "7.77384 (4, 10797, 45) 20\n"
     ]
    },
    {
     "name": "stderr",
     "output_type": "stream",
     "text": [
      "[23 / 32] Hs=    0 -529.184278 4536.9 0.2 0.1 0.2 4.3 0.4 300.5 0.1 27.4 2.0 0.6 0.3 0.1 0.0 0.1 3.5 0.2 0.0 0.0 0.2 0.4 0.9 0.3 5.8 4884.5 [18 ; 0]:  52%|█████▏    | 17/33 [45:51<41:45, 156.57s/it]"
     ]
    },
    {
     "name": "stdout",
     "output_type": "stream",
     "text": [
      "16.4025 (45, 45, 45, 45) 15\n",
      "7.77384 (4, 10797, 45) 20\n"
     ]
    },
    {
     "name": "stderr",
     "output_type": "stream",
     "text": [
      "[24 / 32] Hs=    0 -529.187887 4622.1 0.0 0.0 0.1 3.0 0.2 291.1 0.0 26.6 1.8 0.2 0.3 0.1 0.0 0.0 3.2 0.1 0.0 0.0 0.2 0.3 3.1 0.2 2.3 4954.9 [18 ; 0]:  52%|█████▏    | 17/33 [45:56<41:45, 156.57s/it]"
     ]
    },
    {
     "name": "stdout",
     "output_type": "stream",
     "text": [
      "16.4025 (45, 45, 45, 45) 15\n",
      "7.77384 (4, 10797, 45) 20\n"
     ]
    },
    {
     "name": "stderr",
     "output_type": "stream",
     "text": [
      "[25 / 32] Hs=    0 -529.187560 4458.2 0.2 0.0 0.1 3.5 0.4 282.8 0.1 27.5 2.0 0.2 0.3 0.1 0.0 0.0 3.2 0.2 0.0 0.0 0.2 0.3 4.9 0.2 3.5 4787.9 [18 ; 0]:  52%|█████▏    | 17/33 [46:01<41:45, 156.57s/it]"
     ]
    },
    {
     "name": "stdout",
     "output_type": "stream",
     "text": [
      "16.4025 (45, 45, 45, 45) 15\n",
      "7.77384 (4, 10797, 45) 20\n"
     ]
    },
    {
     "name": "stderr",
     "output_type": "stream",
     "text": [
      "[26 / 32] Hs=    0 -529.190072 4448.0 0.0 0.0 0.2 3.2 0.3 283.2 0.0 26.7 3.0 0.2 0.3 0.1 0.0 0.0 3.2 0.1 0.0 0.0 0.2 0.3 0.6 0.1 2.0 4771.7 [18 ; 0]:  52%|█████▏    | 17/33 [46:06<41:45, 156.57s/it]"
     ]
    },
    {
     "name": "stdout",
     "output_type": "stream",
     "text": [
      "16.4025 (45, 45, 45, 45) 15\n",
      "7.77384 (4, 10797, 45) 20\n"
     ]
    },
    {
     "name": "stderr",
     "output_type": "stream",
     "text": [
      "[27 / 32] Hs=    0 -529.189761 4594.7 0.0 0.0 0.1 3.1 0.2 314.7 0.0 26.6 2.0 0.2 0.3 0.1 0.0 0.0 3.2 0.2 0.0 0.0 0.2 0.3 2.9 0.2 2.7 4951.7 [18 ; 0]:  52%|█████▏    | 17/33 [46:11<41:45, 156.57s/it]"
     ]
    },
    {
     "name": "stdout",
     "output_type": "stream",
     "text": [
      "16.4025 (45, 45, 45, 45) 15\n",
      "7.77384 (4, 10797, 45) 20\n"
     ]
    },
    {
     "name": "stderr",
     "output_type": "stream",
     "text": [
      "[28 / 32] Hs=    0 -529.183058 4462.6 0.1 0.0 0.1 3.4 0.3 301.2 0.1 29.4 2.2 0.3 0.3 0.1 0.0 0.0 4.2 0.2 0.0 0.0 0.2 0.4 0.8 0.2 3.2 4809.3 [18 ; 0]:  52%|█████▏    | 17/33 [46:15<41:45, 156.57s/it]"
     ]
    },
    {
     "name": "stdout",
     "output_type": "stream",
     "text": [
      "16.4025 (45, 45, 45, 45) 15\n",
      "7.77384 (4, 10797, 45) 20\n"
     ]
    },
    {
     "name": "stderr",
     "output_type": "stream",
     "text": [
      "[29 / 32] Hs=    0 -529.186018 4342.7 0.0 0.0 0.1 3.0 0.2 287.9 0.1 28.6 2.2 0.3 0.3 0.1 0.0 0.0 4.0 0.2 0.0 0.0 0.2 0.4 0.7 0.2 2.5 4673.7 [18 ; 0]:  52%|█████▏    | 17/33 [46:20<41:45, 156.57s/it]"
     ]
    },
    {
     "name": "stdout",
     "output_type": "stream",
     "text": [
      "16.4025 (45, 45, 45, 45) 15\n",
      "7.77384 (4, 10797, 45) 20\n"
     ]
    },
    {
     "name": "stderr",
     "output_type": "stream",
     "text": [
      "[30 / 32] Hs=    0 -529.187776 4611.5 0.0 0.0 0.1 2.9 0.2 309.4 0.1 29.1 2.1 0.2 0.3 0.1 0.0 0.0 4.1 0.2 0.0 0.0 0.2 0.4 0.7 0.2 2.1 4963.9 [18 ; 0]:  52%|█████▏    | 17/33 [46:25<41:45, 156.57s/it]"
     ]
    },
    {
     "name": "stdout",
     "output_type": "stream",
     "text": [
      "16.4025 (45, 45, 45, 45) 15\n",
      "7.77384 (4, 10797, 45) 20\n"
     ]
    },
    {
     "name": "stderr",
     "output_type": "stream",
     "text": [
      "[31 / 32] Hs=    0 -529.189915 4407.3 0.1 0.0 0.1 3.4 0.3 288.6 0.1 26.7 1.9 0.2 0.3 0.1 0.0 0.0 3.3 0.2 0.0 0.0 0.2 0.3 0.8 0.3 3.4 4737.6 [18 ; 0]:  52%|█████▏    | 17/33 [46:30<41:45, 156.57s/it]"
     ]
    },
    {
     "name": "stdout",
     "output_type": "stream",
     "text": [
      "16.4025 (45, 45, 45, 45) 15\n",
      "7.77384 (4, 10797, 45) 20\n"
     ]
    },
    {
     "name": "stderr",
     "output_type": "stream",
     "text": [
      "[31 / 32] Hs=    0 -529.189915 4407.3 0.1 0.0 0.1 3.4 0.3 288.6 0.1 26.7 1.9 0.2 0.3 0.1 0.0 0.0 3.3 0.2 0.0 0.0 0.2 0.3 0.8 0.3 3.4 4737.6 [18 ; 0]:  55%|█████▍    | 18/33 [46:34<39:07, 156.51s/it]"
     ]
    },
    {
     "name": "stdout",
     "output_type": "stream",
     "text": [
      "[Fc1oc(F)c(F)c1F]\n",
      "[conformers] 32\n",
      "16.4025 (45, 45, 45, 45) 15\n",
      "7.77384 (4, 10797, 45) 20\n"
     ]
    },
    {
     "name": "stderr",
     "output_type": "stream",
     "text": [
      "[1 / 32] Hs=    0 -617.889260 4601.1 0.1 0.0 0.1 2.7 0.3 290.7 0.1 27.1 1.9 0.2 0.3 0.1 0.0 0.0 3.1 0.2 0.0 0.0 0.2 0.3 3.6 0.5 6.0 4938.6 [19 ; 0]:  55%|█████▍    | 18/33 [46:40<39:07, 156.51s/it] "
     ]
    },
    {
     "name": "stdout",
     "output_type": "stream",
     "text": [
      "16.4025 (45, 45, 45, 45) 15\n",
      "7.77384 (4, 10797, 45) 20\n"
     ]
    },
    {
     "name": "stderr",
     "output_type": "stream",
     "text": [
      "[2 / 32] Hs=    0 -617.898525 4383.3 0.0 0.0 0.1 3.0 0.3 293.6 0.1 26.8 10.5 0.6 0.4 0.2 0.0 0.1 4.2 0.2 0.0 0.0 0.3 0.4 1.1 0.9 20.6 4746.7 [19 ; 0]:  55%|█████▍    | 18/33 [46:45<39:07, 156.51s/it]"
     ]
    },
    {
     "name": "stdout",
     "output_type": "stream",
     "text": [
      "16.4025 (45, 45, 45, 45) 15\n",
      "7.77384 (4, 10797, 45) 20\n"
     ]
    },
    {
     "name": "stderr",
     "output_type": "stream",
     "text": [
      "[3 / 32] Hs=    0 -617.893490 4612.3 0.0 0.0 0.1 2.4 0.2 289.2 0.1 28.6 1.9 0.5 0.3 0.1 0.0 0.0 3.5 0.2 0.0 0.0 0.2 0.3 0.6 0.1 3.0 4943.6 [19 ; 0]:  55%|█████▍    | 18/33 [46:50<39:07, 156.51s/it]  "
     ]
    },
    {
     "name": "stdout",
     "output_type": "stream",
     "text": [
      "16.4025 (45, 45, 45, 45) 15\n",
      "7.77384 (4, 10797, 45) 20\n"
     ]
    },
    {
     "name": "stderr",
     "output_type": "stream",
     "text": [
      "[4 / 32] Hs=    0 -617.901781 4417.3 0.1 0.0 0.1 3.0 0.3 291.9 0.1 27.9 2.1 0.4 0.3 0.2 0.0 0.1 4.9 0.3 0.0 0.0 0.3 0.6 1.2 0.2 3.3 4754.6 [19 ; 0]:  55%|█████▍    | 18/33 [46:54<39:07, 156.51s/it]"
     ]
    },
    {
     "name": "stdout",
     "output_type": "stream",
     "text": [
      "16.4025 (45, 45, 45, 45) 15\n",
      "7.77384 (4, 10797, 45) 20\n"
     ]
    },
    {
     "name": "stderr",
     "output_type": "stream",
     "text": [
      "[5 / 32] Hs=    0 -617.889579 4902.5 0.1 0.0 0.1 2.8 0.3 305.2 0.3 37.6 3.2 0.5 0.4 0.3 0.0 0.1 4.7 0.3 0.0 0.0 0.2 0.8 1.0 0.3 6.0 5266.7 [19 ; 0]:  55%|█████▍    | 18/33 [47:00<39:07, 156.51s/it]"
     ]
    },
    {
     "name": "stdout",
     "output_type": "stream",
     "text": [
      "16.4025 (45, 45, 45, 45) 15\n",
      "7.77384 (4, 10797, 45) 20\n"
     ]
    },
    {
     "name": "stderr",
     "output_type": "stream",
     "text": [
      "[6 / 32] Hs=    0 -617.889304 4625.7 0.2 0.1 0.1 3.7 0.3 292.9 0.1 26.5 1.9 0.3 0.3 0.1 0.0 0.0 3.2 0.2 0.0 0.0 0.2 0.3 4.0 0.3 3.7 4964.1 [19 ; 0]:  55%|█████▍    | 18/33 [47:05<39:07, 156.51s/it]"
     ]
    },
    {
     "name": "stdout",
     "output_type": "stream",
     "text": [
      "16.4025 (45, 45, 45, 45) 15\n",
      "7.77384 (4, 10797, 45) 20\n"
     ]
    },
    {
     "name": "stderr",
     "output_type": "stream",
     "text": [
      "[7 / 32] Hs=    0 -617.897675 4479.1 0.0 0.0 0.1 2.6 0.2 287.0 0.0 26.6 1.9 0.5 0.3 0.1 0.0 0.0 3.4 0.1 0.0 0.0 0.3 0.3 2.0 0.3 2.1 4806.9 [19 ; 0]:  55%|█████▍    | 18/33 [47:09<39:07, 156.51s/it]"
     ]
    },
    {
     "name": "stdout",
     "output_type": "stream",
     "text": [
      "16.4025 (45, 45, 45, 45) 15\n",
      "7.77384 (4, 10797, 45) 20\n"
     ]
    },
    {
     "name": "stderr",
     "output_type": "stream",
     "text": [
      "[8 / 32] Hs=    0 -617.897111 4607.9 0.2 0.1 0.3 4.0 0.5 299.4 0.1 27.1 2.4 0.3 0.3 0.2 0.0 0.0 3.6 0.2 0.0 0.0 0.2 0.3 0.6 0.3 3.1 4951.1 [19 ; 0]:  55%|█████▍    | 18/33 [47:14<39:07, 156.51s/it]"
     ]
    },
    {
     "name": "stdout",
     "output_type": "stream",
     "text": [
      "16.4025 (45, 45, 45, 45) 15\n",
      "7.77384 (4, 10797, 45) 20\n"
     ]
    },
    {
     "name": "stderr",
     "output_type": "stream",
     "text": [
      "[9 / 32] Hs=    0 -617.899449 4650.9 0.2 0.0 0.1 2.8 0.3 293.7 0.1 26.4 1.9 0.2 0.3 0.1 0.0 0.0 3.1 0.1 0.0 0.0 0.2 0.3 0.8 0.3 3.7 4985.5 [19 ; 0]:  55%|█████▍    | 18/33 [47:19<39:07, 156.51s/it]"
     ]
    },
    {
     "name": "stdout",
     "output_type": "stream",
     "text": [
      "16.4025 (45, 45, 45, 45) 15\n",
      "7.77384 (4, 10797, 45) 20\n"
     ]
    },
    {
     "name": "stderr",
     "output_type": "stream",
     "text": [
      "[10 / 32] Hs=    0 -617.894176 4485.5 0.1 0.0 0.1 2.3 0.2 280.5 0.1 26.4 1.9 0.2 0.3 0.1 0.0 0.0 3.1 0.1 0.0 0.0 0.2 0.4 0.6 0.1 2.2 4804.4 [19 ; 0]:  55%|█████▍    | 18/33 [47:24<39:07, 156.51s/it]"
     ]
    },
    {
     "name": "stdout",
     "output_type": "stream",
     "text": [
      "16.4025 (45, 45, 45, 45) 15\n",
      "7.77384 (4, 10797, 45) 20\n"
     ]
    },
    {
     "name": "stderr",
     "output_type": "stream",
     "text": [
      "[11 / 32] Hs=    0 -617.887442 4464.7 0.0 0.0 0.1 2.8 0.5 278.4 0.1 27.6 2.2 0.6 0.3 0.1 0.0 0.0 3.1 0.2 0.0 0.0 0.2 0.3 0.7 0.2 2.8 4784.9 [19 ; 0]:  55%|█████▍    | 18/33 [47:29<39:07, 156.51s/it]"
     ]
    },
    {
     "name": "stdout",
     "output_type": "stream",
     "text": [
      "16.4025 (45, 45, 45, 45) 15\n",
      "7.77384 (4, 10797, 45) 20\n"
     ]
    },
    {
     "name": "stderr",
     "output_type": "stream",
     "text": [
      "[12 / 32] Hs=    0 -617.899311 4723.4 0.0 0.0 0.1 3.0 0.3 282.9 0.1 26.9 2.3 0.2 0.3 0.1 0.0 0.0 3.4 0.2 0.0 0.0 0.2 0.3 0.7 0.1 2.1 5046.6 [19 ; 0]:  55%|█████▍    | 18/33 [47:34<39:07, 156.51s/it]"
     ]
    },
    {
     "name": "stdout",
     "output_type": "stream",
     "text": [
      "16.4025 (45, 45, 45, 45) 15\n",
      "7.77384 (4, 10797, 45) 20\n"
     ]
    },
    {
     "name": "stderr",
     "output_type": "stream",
     "text": [
      "[13 / 32] Hs=    0 -617.887294 4462.7 0.2 0.0 0.1 3.0 0.3 291.3 0.1 27.0 2.0 0.4 0.3 0.1 0.0 0.0 3.3 0.2 0.0 0.0 0.2 0.3 0.8 0.3 4.1 4796.7 [19 ; 0]:  55%|█████▍    | 18/33 [47:39<39:07, 156.51s/it]"
     ]
    },
    {
     "name": "stdout",
     "output_type": "stream",
     "text": [
      "16.4025 (45, 45, 45, 45) 15\n",
      "7.77384 (4, 10797, 45) 20\n"
     ]
    },
    {
     "name": "stderr",
     "output_type": "stream",
     "text": [
      "[14 / 32] Hs=    0 -617.904742 4529.4 0.2 0.1 0.2 3.5 0.4 304.1 0.0 26.7 4.4 0.2 0.4 0.1 0.0 0.0 3.4 0.1 0.0 0.0 0.2 0.7 3.3 0.3 5.0 4882.7 [19 ; 0]:  55%|█████▍    | 18/33 [47:44<39:07, 156.51s/it]"
     ]
    },
    {
     "name": "stdout",
     "output_type": "stream",
     "text": [
      "16.4025 (45, 45, 45, 45) 15\n",
      "7.77384 (4, 10797, 45) 20\n"
     ]
    },
    {
     "name": "stderr",
     "output_type": "stream",
     "text": [
      "[15 / 32] Hs=    0 -617.895724 4467.5 0.0 0.0 0.1 3.5 0.2 284.7 0.0 26.5 2.4 0.2 0.3 0.1 0.0 0.0 3.2 0.1 0.0 0.0 0.2 0.3 0.6 0.1 1.9 4791.9 [19 ; 0]:  55%|█████▍    | 18/33 [47:48<39:07, 156.51s/it]"
     ]
    },
    {
     "name": "stdout",
     "output_type": "stream",
     "text": [
      "16.4025 (45, 45, 45, 45) 15\n",
      "7.77384 (4, 10797, 45) 20\n"
     ]
    },
    {
     "name": "stderr",
     "output_type": "stream",
     "text": [
      "[16 / 32] Hs=    0 -617.900962 4700.3 0.2 0.0 0.1 2.8 0.3 296.7 0.1 26.3 2.0 0.3 0.3 0.1 0.0 0.0 3.3 0.2 0.0 0.0 0.2 0.3 1.6 0.3 3.2 5038.6 [19 ; 0]:  55%|█████▍    | 18/33 [47:53<39:07, 156.51s/it]"
     ]
    },
    {
     "name": "stdout",
     "output_type": "stream",
     "text": [
      "16.4025 (45, 45, 45, 45) 15\n",
      "7.77384 (4, 10797, 45) 20\n"
     ]
    },
    {
     "name": "stderr",
     "output_type": "stream",
     "text": [
      "[17 / 32] Hs=    0 -617.896232 4553.0 0.4 0.1 0.2 3.7 0.7 306.0 0.1 27.5 2.2 0.3 0.3 0.2 0.0 0.0 4.2 0.2 0.0 0.0 0.2 0.4 0.8 0.2 3.4 4904.1 [19 ; 0]:  55%|█████▍    | 18/33 [47:58<39:07, 156.51s/it]"
     ]
    },
    {
     "name": "stdout",
     "output_type": "stream",
     "text": [
      "16.4025 (45, 45, 45, 45) 15\n",
      "7.77384 (4, 10797, 45) 20\n"
     ]
    },
    {
     "name": "stderr",
     "output_type": "stream",
     "text": [
      "[18 / 32] Hs=    0 -617.904240 4538.0 0.1 0.0 0.1 2.7 0.3 292.6 0.1 26.8 1.9 0.2 0.3 0.1 0.0 0.0 3.2 0.2 0.0 0.0 0.2 0.3 0.7 0.2 3.1 4871.1 [19 ; 0]:  55%|█████▍    | 18/33 [48:03<39:07, 156.51s/it]"
     ]
    },
    {
     "name": "stdout",
     "output_type": "stream",
     "text": [
      "16.4025 (45, 45, 45, 45) 15\n",
      "7.77384 (4, 10797, 45) 20\n"
     ]
    },
    {
     "name": "stderr",
     "output_type": "stream",
     "text": [
      "[19 / 32] Hs=    0 -617.901807 4916.2 0.1 0.0 0.1 2.6 0.3 286.1 0.1 27.2 2.3 0.6 0.3 0.1 0.0 0.0 3.7 0.2 0.0 0.0 0.2 0.4 1.1 0.4 10.5 5252.5 [19 ; 0]:  55%|█████▍    | 18/33 [48:08<39:07, 156.51s/it]"
     ]
    },
    {
     "name": "stdout",
     "output_type": "stream",
     "text": [
      "16.4025 (45, 45, 45, 45) 15\n",
      "7.77384 (4, 10797, 45) 20\n"
     ]
    },
    {
     "name": "stderr",
     "output_type": "stream",
     "text": [
      "[20 / 32] Hs=    0 -617.902128 4594.4 0.1 0.3 0.5 4.6 1.2 294.4 0.4 28.8 2.6 0.3 0.3 0.1 0.0 0.0 3.0 0.2 0.0 0.0 0.2 0.3 0.7 0.2 4.2 4936.8 [19 ; 0]:  55%|█████▍    | 18/33 [48:13<39:07, 156.51s/it] "
     ]
    },
    {
     "name": "stdout",
     "output_type": "stream",
     "text": [
      "16.4025 (45, 45, 45, 45) 15\n",
      "7.77384 (4, 10797, 45) 20\n"
     ]
    },
    {
     "name": "stderr",
     "output_type": "stream",
     "text": [
      "[21 / 32] Hs=    0 -617.897298 4731.8 0.0 0.0 0.1 2.4 0.2 293.1 0.0 26.3 2.0 0.2 0.3 0.1 0.0 0.0 3.2 0.1 0.0 0.0 0.1 0.3 0.8 0.2 2.3 5063.5 [19 ; 0]:  55%|█████▍    | 18/33 [48:18<39:07, 156.51s/it]"
     ]
    },
    {
     "name": "stdout",
     "output_type": "stream",
     "text": [
      "16.4025 (45, 45, 45, 45) 15\n",
      "7.77384 (4, 10797, 45) 20\n"
     ]
    },
    {
     "name": "stderr",
     "output_type": "stream",
     "text": [
      "[22 / 32] Hs=    0 -617.887791 4403.9 0.8 0.2 0.2 4.2 0.6 300.4 0.1 26.9 2.2 0.2 2.1 0.2 0.0 0.0 3.2 0.2 0.0 0.0 0.2 0.3 0.7 0.2 3.2 4750.0 [19 ; 0]:  55%|█████▍    | 18/33 [48:23<39:07, 156.51s/it]"
     ]
    },
    {
     "name": "stdout",
     "output_type": "stream",
     "text": [
      "16.4025 (45, 45, 45, 45) 15\n",
      "7.77384 (4, 10797, 45) 20\n"
     ]
    },
    {
     "name": "stderr",
     "output_type": "stream",
     "text": [
      "[23 / 32] Hs=    0 -617.896435 4489.1 0.0 0.0 0.1 3.2 0.3 280.8 0.0 26.2 1.9 0.2 0.3 0.1 0.0 0.0 3.1 0.1 0.0 0.0 0.1 0.3 0.5 0.1 1.9 4808.3 [19 ; 0]:  55%|█████▍    | 18/33 [48:28<39:07, 156.51s/it]"
     ]
    },
    {
     "name": "stdout",
     "output_type": "stream",
     "text": [
      "16.4025 (45, 45, 45, 45) 15\n",
      "7.77384 (4, 10797, 45) 20\n"
     ]
    },
    {
     "name": "stderr",
     "output_type": "stream",
     "text": [
      "[24 / 32] Hs=    0 -617.889758 4573.2 0.0 0.0 0.1 3.0 0.3 282.7 0.0 26.9 1.9 0.2 0.3 0.1 0.0 0.0 3.2 0.1 0.0 0.0 0.2 0.3 0.7 0.2 2.4 4895.8 [19 ; 0]:  55%|█████▍    | 18/33 [48:33<39:07, 156.51s/it]"
     ]
    },
    {
     "name": "stdout",
     "output_type": "stream",
     "text": [
      "16.4025 (45, 45, 45, 45) 15\n",
      "7.77384 (4, 10797, 45) 20\n"
     ]
    },
    {
     "name": "stderr",
     "output_type": "stream",
     "text": [
      "[25 / 32] Hs=    0 -617.898314 4398.8 0.2 0.1 0.2 5.3 0.7 284.6 0.1 27.4 2.1 0.3 0.3 0.1 0.0 0.0 3.3 0.2 0.0 0.0 0.2 0.4 3.1 0.4 10.6 4738.4 [19 ; 0]:  55%|█████▍    | 18/33 [48:38<39:07, 156.51s/it]"
     ]
    },
    {
     "name": "stdout",
     "output_type": "stream",
     "text": [
      "16.4025 (45, 45, 45, 45) 15\n",
      "7.77384 (4, 10797, 45) 20\n"
     ]
    },
    {
     "name": "stderr",
     "output_type": "stream",
     "text": [
      "[26 / 32] Hs=    0 -617.892615 4621.9 0.0 0.0 0.1 2.3 0.2 294.4 0.0 26.4 2.3 0.2 0.3 0.1 0.0 0.0 3.0 0.1 0.0 0.0 0.2 0.3 0.6 0.1 1.9 4954.4 [19 ; 0]:  55%|█████▍    | 18/33 [48:43<39:07, 156.51s/it] "
     ]
    },
    {
     "name": "stdout",
     "output_type": "stream",
     "text": [
      "16.4025 (45, 45, 45, 45) 15\n",
      "7.77384 (4, 10797, 45) 20\n"
     ]
    },
    {
     "name": "stderr",
     "output_type": "stream",
     "text": [
      "[27 / 32] Hs=    0 -617.893986 4557.0 0.0 0.0 0.1 3.1 0.5 295.8 0.0 26.8 2.4 0.6 0.3 0.1 0.0 0.0 3.0 0.2 0.0 0.0 0.2 0.3 0.5 0.1 2.0 4893.0 [19 ; 0]:  55%|█████▍    | 18/33 [48:48<39:07, 156.51s/it]"
     ]
    },
    {
     "name": "stdout",
     "output_type": "stream",
     "text": [
      "16.4025 (45, 45, 45, 45) 15\n",
      "7.77384 (4, 10797, 45) 20\n"
     ]
    },
    {
     "name": "stderr",
     "output_type": "stream",
     "text": [
      "[28 / 32] Hs=    0 -617.891207 4573.6 0.5 0.1 0.3 6.3 1.0 282.5 0.1 26.5 4.3 0.2 0.3 0.1 0.0 0.1 3.0 0.2 0.0 0.0 0.2 0.3 0.9 0.2 3.5 4904.2 [19 ; 0]:  55%|█████▍    | 18/33 [48:52<39:07, 156.51s/it]"
     ]
    },
    {
     "name": "stdout",
     "output_type": "stream",
     "text": [
      "16.4025 (45, 45, 45, 45) 15\n",
      "7.77384 (4, 10797, 45) 20\n"
     ]
    },
    {
     "name": "stderr",
     "output_type": "stream",
     "text": [
      "[29 / 32] Hs=    0 -617.893600 4498.2 0.1 0.0 0.1 2.8 0.3 305.4 0.0 26.8 1.9 0.2 0.3 0.1 0.0 0.0 3.1 0.2 0.0 0.0 0.2 0.3 0.7 0.2 2.8 4843.7 [19 ; 0]:  55%|█████▍    | 18/33 [48:57<39:07, 156.51s/it]"
     ]
    },
    {
     "name": "stdout",
     "output_type": "stream",
     "text": [
      "16.4025 (45, 45, 45, 45) 15\n",
      "7.77384 (4, 10797, 45) 20\n"
     ]
    },
    {
     "name": "stderr",
     "output_type": "stream",
     "text": [
      "[30 / 32] Hs=    0 -617.901179 4431.3 0.1 0.0 0.1 3.1 0.3 290.0 0.0 26.5 1.8 0.2 0.3 0.1 0.0 0.0 3.0 0.1 0.0 0.0 0.2 0.3 2.9 0.2 2.1 4762.6 [19 ; 0]:  55%|█████▍    | 18/33 [49:02<39:07, 156.51s/it]"
     ]
    },
    {
     "name": "stdout",
     "output_type": "stream",
     "text": [
      "16.4025 (45, 45, 45, 45) 15\n",
      "7.77384 (4, 10797, 45) 20\n"
     ]
    },
    {
     "name": "stderr",
     "output_type": "stream",
     "text": [
      "[31 / 32] Hs=    0 -617.899072 4459.4 0.9 0.1 0.3 6.5 1.3 289.7 0.3 28.2 2.1 0.4 0.3 0.2 0.0 0.1 3.5 0.3 0.0 0.0 0.2 0.4 3.0 1.0 19.9 4818.1 [19 ; 0]:  55%|█████▍    | 18/33 [49:07<39:07, 156.51s/it]"
     ]
    },
    {
     "name": "stdout",
     "output_type": "stream",
     "text": [
      "16.4025 (45, 45, 45, 45) 15\n",
      "7.77384 (4, 10797, 45) 20\n"
     ]
    },
    {
     "name": "stderr",
     "output_type": "stream",
     "text": [
      "[31 / 32] Hs=    0 -617.899072 4459.4 0.9 0.1 0.3 6.5 1.3 289.7 0.3 28.2 2.1 0.4 0.3 0.2 0.0 0.1 3.5 0.3 0.0 0.0 0.2 0.4 3.0 1.0 19.9 4818.1 [19 ; 0]:  58%|█████▊    | 19/33 [49:12<36:33, 156.67s/it]"
     ]
    },
    {
     "name": "stdout",
     "output_type": "stream",
     "text": [
      "[O=C1ON=C(C#N)C1=O]\n",
      "[conformers] 32\n",
      "16.4025 (45, 45, 45, 45) 15\n",
      "7.77384 (4, 10797, 45) 20\n"
     ]
    },
    {
     "name": "stderr",
     "output_type": "stream",
     "text": [
      "[1 / 32] Hs=    0 -480.796022 4540.1 0.1 0.0 0.1 3.0 0.3 302.6 0.1 26.6 2.1 0.2 0.3 0.2 0.0 0.0 3.1 0.2 0.0 0.0 0.2 0.3 4.6 0.2 3.6 4887.9 [20 ; 0]:  58%|█████▊    | 19/33 [49:17<36:33, 156.67s/it]  "
     ]
    },
    {
     "name": "stdout",
     "output_type": "stream",
     "text": [
      "16.4025 (45, 45, 45, 45) 15\n",
      "7.77384 (4, 10797, 45) 20\n"
     ]
    },
    {
     "name": "stderr",
     "output_type": "stream",
     "text": [
      "[2 / 32] Hs=    0 -480.794945 4409.3 0.0 0.0 0.1 2.3 0.2 313.3 0.0 26.3 2.3 0.2 0.3 0.1 0.0 0.0 3.1 0.1 0.0 0.0 0.2 0.3 0.5 0.1 1.9 4760.6 [20 ; 0]:  58%|█████▊    | 19/33 [49:22<36:33, 156.67s/it]"
     ]
    },
    {
     "name": "stdout",
     "output_type": "stream",
     "text": [
      "16.4025 (45, 45, 45, 45) 15\n",
      "7.77384 (4, 10797, 45) 20\n"
     ]
    },
    {
     "name": "stderr",
     "output_type": "stream",
     "text": [
      "[3 / 32] Hs=    0 -480.795577 4431.2 0.9 0.2 0.2 4.3 0.8 313.7 0.1 27.2 3.1 0.3 0.3 0.2 0.0 0.0 5.0 0.2 0.0 0.0 0.3 0.7 0.9 0.5 7.6 4797.7 [20 ; 0]:  58%|█████▊    | 19/33 [49:26<36:33, 156.67s/it]"
     ]
    },
    {
     "name": "stdout",
     "output_type": "stream",
     "text": [
      "16.4025 (45, 45, 45, 45) 15\n",
      "7.77384 (4, 10797, 45) 20\n"
     ]
    },
    {
     "name": "stderr",
     "output_type": "stream",
     "text": [
      "[4 / 32] Hs=    0 -480.792389 4805.6 0.1 0.0 0.1 4.0 0.4 300.9 0.1 26.3 2.0 0.5 0.3 0.1 0.0 0.0 3.2 0.2 0.0 0.0 0.2 0.3 9.0 0.2 3.4 5156.9 [20 ; 0]:  58%|█████▊    | 19/33 [49:32<36:33, 156.67s/it]"
     ]
    },
    {
     "name": "stdout",
     "output_type": "stream",
     "text": [
      "16.4025 (45, 45, 45, 45) 15\n",
      "7.77384 (4, 10797, 45) 20\n"
     ]
    },
    {
     "name": "stderr",
     "output_type": "stream",
     "text": [
      "[5 / 32] Hs=    0 -480.792497 4431.5 0.2 0.1 0.3 4.5 0.7 298.9 0.1 26.5 2.6 0.2 0.3 0.1 0.0 0.0 3.4 0.2 0.0 0.0 0.2 0.3 0.6 0.2 3.0 4773.9 [20 ; 0]:  58%|█████▊    | 19/33 [49:36<36:33, 156.67s/it]"
     ]
    },
    {
     "name": "stdout",
     "output_type": "stream",
     "text": [
      "16.4025 (45, 45, 45, 45) 15\n",
      "7.77384 (4, 10797, 45) 20\n"
     ]
    },
    {
     "name": "stderr",
     "output_type": "stream",
     "text": [
      "[6 / 32] Hs=    0 -480.795274 4502.1 0.1 0.0 0.1 2.8 0.3 305.7 0.1 26.4 2.2 0.2 0.3 0.1 0.0 0.0 3.5 0.2 0.0 0.0 0.2 0.3 0.7 0.2 2.8 4848.3 [20 ; 0]:  58%|█████▊    | 19/33 [49:41<36:33, 156.67s/it]"
     ]
    },
    {
     "name": "stdout",
     "output_type": "stream",
     "text": [
      "16.4025 (45, 45, 45, 45) 15\n",
      "7.77384 (4, 10797, 45) 20\n"
     ]
    },
    {
     "name": "stderr",
     "output_type": "stream",
     "text": [
      "[7 / 32] Hs=    0 -480.796466 4484.8 0.2 0.0 0.1 2.9 0.3 309.1 0.1 26.8 2.0 0.2 0.3 0.2 0.0 0.0 3.1 0.2 0.0 0.0 0.2 0.4 0.6 0.2 3.1 4834.8 [20 ; 0]:  58%|█████▊    | 19/33 [49:46<36:33, 156.67s/it]"
     ]
    },
    {
     "name": "stdout",
     "output_type": "stream",
     "text": [
      "16.4025 (45, 45, 45, 45) 15\n",
      "7.77384 (4, 10797, 45) 20\n"
     ]
    },
    {
     "name": "stderr",
     "output_type": "stream",
     "text": [
      "[8 / 32] Hs=    0 -480.798343 4725.4 0.2 0.0 0.1 2.8 0.3 296.4 0.1 26.8 2.0 0.2 0.3 0.1 0.0 0.0 3.2 0.2 0.0 0.0 0.2 0.3 0.6 0.2 3.0 5062.4 [20 ; 0]:  58%|█████▊    | 19/33 [49:51<36:33, 156.67s/it]"
     ]
    },
    {
     "name": "stdout",
     "output_type": "stream",
     "text": [
      "16.4025 (45, 45, 45, 45) 15\n",
      "7.77384 (4, 10797, 45) 20\n"
     ]
    },
    {
     "name": "stderr",
     "output_type": "stream",
     "text": [
      "[9 / 32] Hs=    0 -480.798908 4568.4 0.2 0.0 0.1 2.8 0.3 303.1 0.1 26.7 2.3 0.3 0.3 0.1 0.0 0.0 3.2 0.1 0.0 0.0 0.2 0.4 0.6 0.2 3.0 4912.4 [20 ; 0]:  58%|█████▊    | 19/33 [49:56<36:33, 156.67s/it]"
     ]
    },
    {
     "name": "stdout",
     "output_type": "stream",
     "text": [
      "16.4025 (45, 45, 45, 45) 15\n",
      "7.77384 (4, 10797, 45) 20\n"
     ]
    },
    {
     "name": "stderr",
     "output_type": "stream",
     "text": [
      "[10 / 32] Hs=    0 -480.794948 4574.3 0.1 0.0 0.1 2.7 0.3 308.3 0.1 27.3 1.9 0.3 0.3 0.1 0.0 0.0 3.3 0.2 0.0 0.0 0.2 0.3 0.6 0.2 2.9 4923.5 [20 ; 0]:  58%|█████▊    | 19/33 [50:01<36:33, 156.67s/it]"
     ]
    },
    {
     "name": "stdout",
     "output_type": "stream",
     "text": [
      "16.4025 (45, 45, 45, 45) 15\n",
      "7.77384 (4, 10797, 45) 20\n"
     ]
    },
    {
     "name": "stderr",
     "output_type": "stream",
     "text": [
      "[11 / 32] Hs=    0 -480.800983 4467.2 0.1 0.0 0.1 3.4 0.3 288.4 0.1 27.2 2.0 0.2 0.3 0.1 0.0 0.0 3.3 0.1 0.0 0.0 0.2 0.3 0.8 0.2 2.2 4796.5 [20 ; 0]:  58%|█████▊    | 19/33 [50:06<36:33, 156.67s/it]"
     ]
    },
    {
     "name": "stdout",
     "output_type": "stream",
     "text": [
      "16.4025 (45, 45, 45, 45) 15\n",
      "7.77384 (4, 10797, 45) 20\n"
     ]
    },
    {
     "name": "stderr",
     "output_type": "stream",
     "text": [
      "[12 / 32] Hs=    0 -480.801094 4934.3 0.1 0.0 0.1 2.7 0.3 297.1 0.1 26.4 4.5 0.2 0.3 0.1 0.0 0.0 3.1 0.2 0.0 0.0 0.2 0.3 0.6 0.2 2.9 5273.7 [20 ; 0]:  58%|█████▊    | 19/33 [50:11<36:33, 156.67s/it]"
     ]
    },
    {
     "name": "stdout",
     "output_type": "stream",
     "text": [
      "16.4025 (45, 45, 45, 45) 15\n",
      "7.77384 (4, 10797, 45) 20\n"
     ]
    },
    {
     "name": "stderr",
     "output_type": "stream",
     "text": [
      "[13 / 32] Hs=    0 -480.798713 4408.0 0.2 0.0 0.1 2.7 0.3 291.6 0.1 26.7 1.8 0.3 0.3 0.2 0.0 0.0 3.2 0.2 0.0 0.0 0.1 0.3 1.4 0.3 2.9 4740.7 [20 ; 0]:  58%|█████▊    | 19/33 [50:16<36:33, 156.67s/it]"
     ]
    },
    {
     "name": "stdout",
     "output_type": "stream",
     "text": [
      "16.4025 (45, 45, 45, 45) 15\n",
      "7.77384 (4, 10797, 45) 20\n"
     ]
    },
    {
     "name": "stderr",
     "output_type": "stream",
     "text": [
      "[14 / 32] Hs=    0 -480.796981 4529.0 0.1 0.0 0.1 2.7 0.3 304.2 0.1 27.3 2.0 0.3 0.3 0.1 0.0 0.0 3.1 0.2 0.0 0.0 0.2 0.3 2.4 1.0 21.5 4895.2 [20 ; 0]:  58%|█████▊    | 19/33 [50:21<36:33, 156.67s/it]"
     ]
    },
    {
     "name": "stdout",
     "output_type": "stream",
     "text": [
      "16.4025 (45, 45, 45, 45) 15\n",
      "7.77384 (4, 10797, 45) 20\n"
     ]
    },
    {
     "name": "stderr",
     "output_type": "stream",
     "text": [
      "[15 / 32] Hs=    0 -480.794275 4504.6 0.1 0.0 0.1 2.8 0.3 298.9 0.1 26.9 1.9 0.2 0.3 0.1 0.0 0.0 3.2 0.2 0.0 0.0 0.2 0.3 2.0 0.4 6.3 4848.9 [20 ; 0]:  58%|█████▊    | 19/33 [50:26<36:33, 156.67s/it] "
     ]
    },
    {
     "name": "stdout",
     "output_type": "stream",
     "text": [
      "16.4025 (45, 45, 45, 45) 15\n",
      "7.77384 (4, 10797, 45) 20\n"
     ]
    },
    {
     "name": "stderr",
     "output_type": "stream",
     "text": [
      "[16 / 32] Hs=    0 -480.795659 4801.3 0.1 0.0 0.1 2.9 0.3 300.6 0.1 26.9 2.1 0.2 0.3 0.1 0.0 0.0 3.0 0.2 0.0 0.0 0.2 0.3 0.7 0.2 3.0 5142.6 [20 ; 0]:  58%|█████▊    | 19/33 [50:31<36:33, 156.67s/it]"
     ]
    },
    {
     "name": "stdout",
     "output_type": "stream",
     "text": [
      "16.4025 (45, 45, 45, 45) 15\n",
      "7.77384 (4, 10797, 45) 20\n"
     ]
    },
    {
     "name": "stderr",
     "output_type": "stream",
     "text": [
      "[17 / 32] Hs=    0 -480.798733 4606.5 0.1 0.0 0.1 2.9 0.6 303.3 0.1 27.0 2.0 0.3 0.3 0.1 0.0 0.0 3.7 0.2 0.0 0.0 0.2 0.3 2.9 1.1 23.8 4975.5 [20 ; 0]:  58%|█████▊    | 19/33 [50:36<36:33, 156.67s/it]"
     ]
    },
    {
     "name": "stdout",
     "output_type": "stream",
     "text": [
      "16.4025 (45, 45, 45, 45) 15\n",
      "7.77384 (4, 10797, 45) 20\n"
     ]
    },
    {
     "name": "stderr",
     "output_type": "stream",
     "text": [
      "[18 / 32] Hs=    0 -480.797904 4830.4 0.1 0.0 0.1 2.9 0.3 293.3 0.1 26.6 2.0 0.2 0.3 0.1 0.0 0.0 3.0 0.2 0.0 0.0 0.2 0.3 0.8 0.3 3.0 5164.2 [20 ; 0]:  58%|█████▊    | 19/33 [50:41<36:33, 156.67s/it] "
     ]
    },
    {
     "name": "stdout",
     "output_type": "stream",
     "text": [
      "16.4025 (45, 45, 45, 45) 15\n",
      "7.77384 (4, 10797, 45) 20\n"
     ]
    },
    {
     "name": "stderr",
     "output_type": "stream",
     "text": [
      "[19 / 32] Hs=    0 -480.798876 4347.5 0.0 0.0 0.1 2.4 0.2 303.7 0.0 26.3 2.2 0.2 0.3 0.1 0.0 0.0 4.0 0.2 0.0 0.0 0.2 0.3 0.7 0.2 2.2 4690.8 [20 ; 0]:  58%|█████▊    | 19/33 [50:46<36:33, 156.67s/it]"
     ]
    },
    {
     "name": "stdout",
     "output_type": "stream",
     "text": [
      "16.4025 (45, 45, 45, 45) 15\n",
      "7.77384 (4, 10797, 45) 20\n"
     ]
    },
    {
     "name": "stderr",
     "output_type": "stream",
     "text": [
      "[20 / 32] Hs=    0 -480.799737 4758.9 0.2 0.0 0.1 2.8 0.3 290.5 0.1 27.4 2.1 0.6 0.3 0.2 0.0 0.0 4.0 0.2 0.0 0.0 0.2 0.5 1.0 0.9 23.2 5113.5 [20 ; 0]:  58%|█████▊    | 19/33 [50:51<36:33, 156.67s/it]"
     ]
    },
    {
     "name": "stdout",
     "output_type": "stream",
     "text": [
      "16.4025 (45, 45, 45, 45) 15\n",
      "7.77384 (4, 10797, 45) 20\n"
     ]
    },
    {
     "name": "stderr",
     "output_type": "stream",
     "text": [
      "[21 / 32] Hs=    0 -480.798860 4462.8 0.0 0.0 0.1 3.0 0.2 294.2 0.0 26.0 1.9 0.2 0.3 0.1 0.0 0.0 2.9 0.1 0.0 0.0 0.2 0.3 0.6 0.1 2.1 4795.1 [20 ; 0]:  58%|█████▊    | 19/33 [50:55<36:33, 156.67s/it] "
     ]
    },
    {
     "name": "stdout",
     "output_type": "stream",
     "text": [
      "16.4025 (45, 45, 45, 45) 15\n",
      "7.77384 (4, 10797, 45) 20\n"
     ]
    },
    {
     "name": "stderr",
     "output_type": "stream",
     "text": [
      "[22 / 32] Hs=    0 -480.799104 4355.0 0.0 0.0 0.1 2.5 0.2 296.5 0.1 27.3 1.9 0.2 0.3 0.1 0.0 0.0 3.2 0.1 0.0 0.0 0.2 0.3 0.6 0.1 2.0 4690.7 [20 ; 0]:  58%|█████▊    | 19/33 [51:00<36:33, 156.67s/it]"
     ]
    },
    {
     "name": "stdout",
     "output_type": "stream",
     "text": [
      "16.4025 (45, 45, 45, 45) 15\n",
      "7.77384 (4, 10797, 45) 20\n"
     ]
    },
    {
     "name": "stderr",
     "output_type": "stream",
     "text": [
      "[23 / 32] Hs=    0 -480.801015 4464.7 0.1 0.0 0.1 2.8 0.3 297.2 0.3 28.7 2.4 0.4 0.3 0.2 0.0 0.1 4.0 0.3 0.0 0.0 0.3 0.5 1.2 0.2 2.9 4807.0 [20 ; 0]:  58%|█████▊    | 19/33 [51:05<36:33, 156.67s/it]"
     ]
    },
    {
     "name": "stdout",
     "output_type": "stream",
     "text": [
      "16.4025 (45, 45, 45, 45) 15\n",
      "7.77384 (4, 10797, 45) 20\n"
     ]
    },
    {
     "name": "stderr",
     "output_type": "stream",
     "text": [
      "[24 / 32] Hs=    0 -480.797281 4659.6 0.0 0.0 0.1 2.3 0.2 307.4 0.0 26.6 2.0 0.2 0.3 0.1 0.0 0.0 3.1 0.2 0.0 0.0 0.2 0.3 0.7 0.2 2.6 5006.1 [20 ; 0]:  58%|█████▊    | 19/33 [51:10<36:33, 156.67s/it]"
     ]
    },
    {
     "name": "stdout",
     "output_type": "stream",
     "text": [
      "16.4025 (45, 45, 45, 45) 15\n",
      "7.77384 (4, 10797, 45) 20\n"
     ]
    },
    {
     "name": "stderr",
     "output_type": "stream",
     "text": [
      "[25 / 32] Hs=    0 -480.798503 4557.8 0.2 0.0 0.1 2.9 0.3 303.0 0.1 26.9 2.2 0.3 0.3 0.1 0.0 0.0 3.2 0.2 0.0 0.0 0.2 0.7 0.8 0.2 3.4 4902.9 [20 ; 0]:  58%|█████▊    | 19/33 [51:15<36:33, 156.67s/it]"
     ]
    },
    {
     "name": "stdout",
     "output_type": "stream",
     "text": [
      "16.4025 (45, 45, 45, 45) 15\n",
      "7.77384 (4, 10797, 45) 20\n"
     ]
    },
    {
     "name": "stderr",
     "output_type": "stream",
     "text": [
      "[26 / 32] Hs=    0 -480.802678 4522.8 0.1 0.0 0.1 2.8 0.3 297.9 0.1 26.5 2.1 0.3 0.3 0.1 0.0 0.0 3.3 0.2 0.0 0.0 0.2 0.3 1.5 0.3 3.3 4862.5 [20 ; 0]:  58%|█████▊    | 19/33 [51:20<36:33, 156.67s/it]"
     ]
    },
    {
     "name": "stdout",
     "output_type": "stream",
     "text": [
      "16.4025 (45, 45, 45, 45) 15\n",
      "7.77384 (4, 10797, 45) 20\n"
     ]
    },
    {
     "name": "stderr",
     "output_type": "stream",
     "text": [
      "[27 / 32] Hs=    0 -480.801665 4492.1 0.0 0.0 0.1 2.4 0.2 301.4 0.1 26.8 2.4 0.3 0.3 0.1 0.0 0.0 3.2 0.1 0.0 0.0 0.2 0.3 0.6 0.1 2.2 4832.9 [20 ; 0]:  58%|█████▊    | 19/33 [51:25<36:33, 156.67s/it]"
     ]
    },
    {
     "name": "stdout",
     "output_type": "stream",
     "text": [
      "16.4025 (45, 45, 45, 45) 15\n",
      "7.77384 (4, 10797, 45) 20\n"
     ]
    },
    {
     "name": "stderr",
     "output_type": "stream",
     "text": [
      "[28 / 32] Hs=    0 -480.799005 5140.7 0.1 0.0 0.1 2.8 0.3 302.7 0.2 27.5 2.0 0.3 0.3 0.1 0.0 0.1 3.8 0.2 0.0 0.0 0.2 0.4 7.3 0.4 4.3 5493.8 [20 ; 0]:  58%|█████▊    | 19/33 [51:30<36:33, 156.67s/it]"
     ]
    },
    {
     "name": "stdout",
     "output_type": "stream",
     "text": [
      "16.4025 (45, 45, 45, 45) 15\n",
      "7.77384 (4, 10797, 45) 20\n"
     ]
    },
    {
     "name": "stderr",
     "output_type": "stream",
     "text": [
      "[29 / 32] Hs=    0 -480.799561 4475.0 0.2 0.0 0.1 2.9 0.3 301.1 0.1 27.9 2.0 0.6 0.4 0.2 0.0 0.0 3.8 0.2 0.0 0.0 0.2 0.7 1.2 1.0 22.7 4840.6 [20 ; 0]:  58%|█████▊    | 19/33 [51:35<36:33, 156.67s/it]"
     ]
    },
    {
     "name": "stdout",
     "output_type": "stream",
     "text": [
      "16.4025 (45, 45, 45, 45) 15\n",
      "7.77384 (4, 10797, 45) 20\n"
     ]
    },
    {
     "name": "stderr",
     "output_type": "stream",
     "text": [
      "[30 / 32] Hs=    0 -480.801167 4950.0 0.2 0.0 0.1 2.8 0.3 295.2 0.1 27.0 2.2 0.2 0.3 0.1 0.0 0.0 3.2 0.2 0.0 0.0 0.2 0.3 0.7 0.2 3.0 5286.3 [20 ; 0]:  58%|█████▊    | 19/33 [51:40<36:33, 156.67s/it] "
     ]
    },
    {
     "name": "stdout",
     "output_type": "stream",
     "text": [
      "16.4025 (45, 45, 45, 45) 15\n",
      "7.77384 (4, 10797, 45) 20\n"
     ]
    },
    {
     "name": "stderr",
     "output_type": "stream",
     "text": [
      "[31 / 32] Hs=    0 -480.798200 4444.5 0.1 0.0 0.1 2.8 0.3 301.3 0.1 26.3 1.9 0.2 0.3 0.1 0.0 0.0 3.2 0.1 0.0 0.0 0.2 0.3 0.6 0.2 2.9 4785.5 [20 ; 0]:  58%|█████▊    | 19/33 [51:45<36:33, 156.67s/it]"
     ]
    },
    {
     "name": "stdout",
     "output_type": "stream",
     "text": [
      "16.4025 (45, 45, 45, 45) 15\n",
      "7.77384 (4, 10797, 45) 20\n"
     ]
    },
    {
     "name": "stderr",
     "output_type": "stream",
     "text": [
      "[31 / 32] Hs=    0 -480.798200 4444.5 0.1 0.0 0.1 2.8 0.3 301.3 0.1 26.3 1.9 0.2 0.3 0.1 0.0 0.0 3.2 0.1 0.0 0.0 0.2 0.3 0.6 0.2 2.9 4785.5 [20 ; 0]:  61%|██████    | 20/33 [51:50<34:02, 157.09s/it]"
     ]
    },
    {
     "name": "stdout",
     "output_type": "stream",
     "text": [
      "[FC(F)(F)c1nnno1]\n",
      "[conformers] 32\n",
      "16.4025 (45, 45, 45, 45) 15\n",
      "7.77384 (4, 10797, 45) 20\n"
     ]
    },
    {
     "name": "stderr",
     "output_type": "stream",
     "text": [
      "[1 / 32] Hs=    0 -606.343705 4570.0 0.1 0.0 0.1 3.1 0.3 284.1 0.1 28.1 2.2 0.3 0.3 0.1 0.0 0.0 4.0 0.2 0.0 0.0 0.2 0.4 0.8 0.2 6.4 4901.0 [21 ; 0]:  61%|██████    | 20/33 [51:55<34:02, 157.09s/it] "
     ]
    },
    {
     "name": "stdout",
     "output_type": "stream",
     "text": [
      "16.4025 (45, 45, 45, 45) 15\n",
      "7.77384 (4, 10797, 45) 20\n"
     ]
    },
    {
     "name": "stderr",
     "output_type": "stream",
     "text": [
      "[2 / 32] Hs=    0 -606.339772 4457.2 0.0 0.0 0.1 2.9 0.2 282.7 0.0 27.0 1.8 0.2 0.3 0.1 0.0 0.0 3.0 0.1 0.0 0.0 0.2 0.3 3.7 0.2 2.0 4782.0 [21 ; 0]:  61%|██████    | 20/33 [52:00<34:02, 157.09s/it]"
     ]
    },
    {
     "name": "stdout",
     "output_type": "stream",
     "text": [
      "16.4025 (45, 45, 45, 45) 15\n",
      "7.77384 (4, 10797, 45) 20\n"
     ]
    },
    {
     "name": "stderr",
     "output_type": "stream",
     "text": [
      "[3 / 32] Hs=    0 -606.348474 4384.3 0.0 0.0 0.1 2.9 0.2 286.3 0.0 26.4 2.1 0.2 0.3 0.1 0.0 0.0 3.0 0.2 0.0 0.0 0.2 0.3 0.6 0.2 1.9 4709.3 [21 ; 0]:  61%|██████    | 20/33 [52:04<34:02, 157.09s/it]"
     ]
    },
    {
     "name": "stdout",
     "output_type": "stream",
     "text": [
      "16.4025 (45, 45, 45, 45) 15\n",
      "7.77384 (4, 10797, 45) 20\n"
     ]
    },
    {
     "name": "stderr",
     "output_type": "stream",
     "text": [
      "[4 / 32] Hs=    0 -606.337700 4708.4 0.1 0.0 0.1 3.3 0.3 288.0 0.1 27.3 1.9 0.2 0.3 0.1 0.0 0.0 3.4 0.2 0.0 0.0 0.2 0.3 0.6 0.2 3.0 5038.0 [21 ; 0]:  61%|██████    | 20/33 [52:09<34:02, 157.09s/it]"
     ]
    },
    {
     "name": "stdout",
     "output_type": "stream",
     "text": [
      "16.4025 (45, 45, 45, 45) 15\n",
      "7.77384 (4, 10797, 45) 20\n"
     ]
    },
    {
     "name": "stderr",
     "output_type": "stream",
     "text": [
      "[5 / 32] Hs=    0 -606.339072 4463.4 0.1 0.0 0.1 3.9 0.3 283.5 0.0 26.4 2.2 0.2 0.3 0.1 0.0 0.0 2.9 0.1 0.0 0.0 0.2 0.3 0.8 0.2 2.8 4787.8 [21 ; 0]:  61%|██████    | 20/33 [52:14<34:02, 157.09s/it]"
     ]
    },
    {
     "name": "stdout",
     "output_type": "stream",
     "text": [
      "16.4025 (45, 45, 45, 45) 15\n",
      "7.77384 (4, 10797, 45) 20\n"
     ]
    },
    {
     "name": "stderr",
     "output_type": "stream",
     "text": [
      "[6 / 32] Hs=    0 -606.346218 4522.7 0.1 0.0 0.1 3.1 0.3 278.4 0.1 26.8 1.9 0.2 0.3 0.1 0.0 0.0 3.0 0.2 0.0 0.0 0.2 0.3 0.6 0.2 2.8 4841.4 [21 ; 0]:  61%|██████    | 20/33 [52:19<34:02, 157.09s/it]"
     ]
    },
    {
     "name": "stdout",
     "output_type": "stream",
     "text": [
      "16.4025 (45, 45, 45, 45) 15\n",
      "7.77384 (4, 10797, 45) 20\n"
     ]
    },
    {
     "name": "stderr",
     "output_type": "stream",
     "text": [
      "[7 / 32] Hs=    0 -606.355020 4437.2 0.1 0.0 0.1 4.2 0.3 282.1 0.1 27.5 2.6 0.3 0.3 0.1 0.0 0.0 3.8 0.2 0.0 0.0 0.2 0.4 0.8 0.2 3.3 4763.8 [21 ; 0]:  61%|██████    | 20/33 [52:24<34:02, 157.09s/it]"
     ]
    },
    {
     "name": "stdout",
     "output_type": "stream",
     "text": [
      "16.4025 (45, 45, 45, 45) 15\n",
      "7.77384 (4, 10797, 45) 20\n"
     ]
    },
    {
     "name": "stderr",
     "output_type": "stream",
     "text": [
      "[8 / 32] Hs=    0 -606.346253 4638.3 0.0 0.3 0.1 3.0 0.2 298.5 0.0 26.4 1.9 0.2 0.3 0.1 0.0 0.0 3.1 0.1 0.0 0.0 0.2 0.3 5.6 0.2 2.0 4980.8 [21 ; 0]:  61%|██████    | 20/33 [52:29<34:02, 157.09s/it]"
     ]
    },
    {
     "name": "stdout",
     "output_type": "stream",
     "text": [
      "16.4025 (45, 45, 45, 45) 15\n",
      "7.77384 (4, 10797, 45) 20\n"
     ]
    },
    {
     "name": "stderr",
     "output_type": "stream",
     "text": [
      "[9 / 32] Hs=    0 -606.343986 4602.5 0.1 0.0 0.1 3.2 0.3 293.1 0.1 26.3 1.9 0.2 0.3 0.1 0.0 0.0 3.2 0.2 0.0 0.0 0.2 0.3 0.7 0.2 3.0 4936.0 [21 ; 0]:  61%|██████    | 20/33 [52:34<34:02, 157.09s/it]"
     ]
    },
    {
     "name": "stdout",
     "output_type": "stream",
     "text": [
      "16.4025 (45, 45, 45, 45) 15\n",
      "7.77384 (4, 10797, 45) 20\n"
     ]
    },
    {
     "name": "stderr",
     "output_type": "stream",
     "text": [
      "[10 / 32] Hs=    0 -606.340875 4425.4 0.0 0.0 0.1 2.9 0.2 300.9 0.0 26.8 1.9 0.2 0.3 0.1 0.0 0.0 3.2 0.1 0.0 0.0 0.2 0.3 0.6 0.3 2.1 4765.6 [21 ; 0]:  61%|██████    | 20/33 [52:38<34:02, 157.09s/it]"
     ]
    },
    {
     "name": "stdout",
     "output_type": "stream",
     "text": [
      "16.4025 (45, 45, 45, 45) 15\n",
      "7.77384 (4, 10797, 45) 20\n"
     ]
    },
    {
     "name": "stderr",
     "output_type": "stream",
     "text": [
      "[11 / 32] Hs=    0 -606.341641 4426.4 0.1 0.0 0.1 4.2 0.3 293.8 0.1 26.6 2.0 0.2 0.3 0.1 0.0 0.0 3.1 0.2 0.0 0.0 0.2 0.3 0.6 0.2 3.0 4761.8 [21 ; 0]:  61%|██████    | 20/33 [52:43<34:02, 157.09s/it]"
     ]
    },
    {
     "name": "stdout",
     "output_type": "stream",
     "text": [
      "16.4025 (45, 45, 45, 45) 15\n",
      "7.77384 (4, 10797, 45) 20\n"
     ]
    },
    {
     "name": "stderr",
     "output_type": "stream",
     "text": [
      "[12 / 32] Hs=    0 -606.342217 4437.1 0.1 0.0 0.1 3.0 0.2 288.9 0.1 26.9 2.1 0.2 0.3 0.1 0.0 0.0 3.0 0.1 0.0 0.0 0.2 0.3 0.7 0.2 2.8 4766.4 [21 ; 0]:  61%|██████    | 20/33 [52:48<34:02, 157.09s/it]"
     ]
    },
    {
     "name": "stdout",
     "output_type": "stream",
     "text": [
      "16.4025 (45, 45, 45, 45) 15\n",
      "7.77384 (4, 10797, 45) 20\n"
     ]
    },
    {
     "name": "stderr",
     "output_type": "stream",
     "text": [
      "[13 / 32] Hs=    0 -606.347424 4715.2 0.6 0.0 0.1 3.7 0.3 281.6 0.1 26.7 2.6 0.2 0.3 0.1 0.0 0.0 3.3 0.2 0.0 0.0 0.2 0.3 0.6 0.2 3.0 5039.3 [21 ; 0]:  61%|██████    | 20/33 [52:53<34:02, 157.09s/it]"
     ]
    },
    {
     "name": "stdout",
     "output_type": "stream",
     "text": [
      "16.4025 (45, 45, 45, 45) 15\n",
      "7.77384 (4, 10797, 45) 20\n"
     ]
    },
    {
     "name": "stderr",
     "output_type": "stream",
     "text": [
      "[14 / 32] Hs=    0 -606.344592 4465.0 0.1 0.0 0.1 2.9 0.2 303.2 0.0 26.6 2.5 0.2 0.3 0.1 0.0 0.0 3.2 0.1 0.0 0.0 0.2 0.3 0.6 0.2 2.1 4807.9 [21 ; 0]:  61%|██████    | 20/33 [52:58<34:02, 157.09s/it]"
     ]
    },
    {
     "name": "stdout",
     "output_type": "stream",
     "text": [
      "16.4025 (45, 45, 45, 45) 15\n",
      "7.77384 (4, 10797, 45) 20\n"
     ]
    },
    {
     "name": "stderr",
     "output_type": "stream",
     "text": [
      "[15 / 32] Hs=    0 -606.326189 4519.5 0.1 0.0 0.1 3.3 0.3 302.7 0.1 27.4 1.9 0.2 0.3 0.1 0.0 0.0 3.0 0.1 0.0 0.0 0.2 0.4 0.7 0.2 3.1 4863.7 [21 ; 0]:  61%|██████    | 20/33 [53:03<34:02, 157.09s/it]"
     ]
    },
    {
     "name": "stdout",
     "output_type": "stream",
     "text": [
      "16.4025 (45, 45, 45, 45) 15\n",
      "7.77384 (4, 10797, 45) 20\n"
     ]
    },
    {
     "name": "stderr",
     "output_type": "stream",
     "text": [
      "[16 / 32] Hs=    0 -606.347493 4477.4 0.1 0.0 0.1 3.0 0.2 297.0 0.0 26.5 3.6 0.2 0.3 0.1 0.0 0.0 3.1 0.2 0.0 0.0 0.2 0.3 0.6 0.1 1.9 4814.9 [21 ; 0]:  61%|██████    | 20/33 [53:08<34:02, 157.09s/it]"
     ]
    },
    {
     "name": "stdout",
     "output_type": "stream",
     "text": [
      "16.4025 (45, 45, 45, 45) 15\n",
      "7.77384 (4, 10797, 45) 20\n"
     ]
    },
    {
     "name": "stderr",
     "output_type": "stream",
     "text": [
      "[17 / 32] Hs=    0 -606.333237 4722.6 0.5 0.0 0.1 3.5 0.3 288.5 0.1 27.4 2.1 0.3 0.3 0.2 0.0 0.0 3.3 0.2 0.0 0.0 0.2 0.4 2.0 0.3 4.9 5057.2 [21 ; 0]:  61%|██████    | 20/33 [53:13<34:02, 157.09s/it]"
     ]
    },
    {
     "name": "stdout",
     "output_type": "stream",
     "text": [
      "16.4025 (45, 45, 45, 45) 15\n",
      "7.77384 (4, 10797, 45) 20\n"
     ]
    }
   ],
   "source": [
    "from rdkit import Chem\n",
    "\n",
    "from pyscf_ipu.dft import angstrom_to_bohr, get_atom_string, jax_dft, recompute\n",
    "\n",
    "print(\"Length GDB: \", len(args.smiles))\n",
    "\n",
    "if args.limit != -1:\n",
    "    args.smiles = args.smiles[:args.limit]\n",
    "\n",
    "for i in range(int(args.id), min(int(args.id)+1000, len(args.smiles))):\n",
    "    smile = args.smiles[i]\n",
    "\n",
    "    print('Trying', smile)\n",
    "\n",
    "    b = Chem.MolFromSmiles(smile)\n",
    "    b = Chem.AddHs(b, explicitOnly=False)\n",
    "\n",
    "    e = Chem.AllChem.EmbedMolecule(b)\n",
    "    if e == -1:\n",
    "       print('Did not embed', b) \n",
    "       continue\n",
    "\n",
    "    locs = b.GetConformer().GetPositions() * angstrom_to_bohr\n",
    "    atoms = [atom.GetSymbol() for atom in b.GetAtoms()]\n",
    "    atom_string, string = get_atom_string(\" \".join(atoms), locs)\n",
    "\n",
    "    print('Conformer: ', string)\n",
    "    break\n",
    "\n",
    "recompute(args, None, 0, 0, our_fun=jax_dft, str=string)"
   ]
  },
  {
   "cell_type": "markdown",
   "id": "e0ec0c9d",
   "metadata": {},
   "source": [
    "# Loading & visualizing generated data\n",
    "\n",
    "After the dataset has been created, we can load the data.\n",
    "(You may wish to spin up a new notebook, and view the data as \n",
    "it's being generated in this one)."
   ]
  },
  {
   "cell_type": "code",
   "execution_count": null,
   "id": "d778133f",
   "metadata": {
    "execution": {
     "iopub.status.busy": "2023-09-19T14:56:25.989663Z",
     "iopub.status.idle": "2023-09-19T14:56:25.989906Z",
     "shell.execute_reply": "2023-09-19T14:56:25.989805Z"
    }
   },
   "outputs": [],
   "source": [
    "import pandas as pd"
   ]
  },
  {
   "cell_type": "code",
   "execution_count": 13,
   "id": "3dfd2293",
   "metadata": {
    "execution": {
     "iopub.execute_input": "2023-09-19T11:22:54.513539Z",
     "iopub.status.busy": "2023-09-19T11:22:54.513306Z",
     "iopub.status.idle": "2023-09-19T11:22:54.543391Z",
     "shell.execute_reply": "2023-09-19T11:22:54.542629Z",
     "shell.execute_reply.started": "2023-09-19T11:22:54.513520Z"
    }
   },
   "outputs": [],
   "source": [
    "# Output DFT dataset is a compressed CSV file.\n",
    "# NOTE: it may take a couple of minutes before the file is generated.\n",
    "rootpath = f'./data/generated/{args.fname}/'\n",
    "paths = sorted(os.listdir(rootpath), key=lambda x: os.path.getmtime(rootpath + x))\n",
    "filename = os.path.join(rootpath, paths[-1], \"data.csv\")\n",
    "\n",
    "df = pd.read_csv(filename, compression=\"gzip\")"
   ]
  },
  {
   "cell_type": "code",
   "execution_count": 14,
   "id": "b3e816e8",
   "metadata": {
    "execution": {
     "iopub.execute_input": "2023-09-19T11:22:56.683299Z",
     "iopub.status.busy": "2023-09-19T11:22:56.682924Z",
     "iopub.status.idle": "2023-09-19T11:22:56.719309Z",
     "shell.execute_reply": "2023-09-19T11:22:56.718752Z",
     "shell.execute_reply.started": "2023-09-19T11:22:56.683279Z"
    }
   },
   "outputs": [
    {
     "data": {
      "text/html": [
       "<div>\n",
       "<style scoped>\n",
       "    .dataframe tbody tr th:only-of-type {\n",
       "        vertical-align: middle;\n",
       "    }\n",
       "\n",
       "    .dataframe tbody tr th {\n",
       "        vertical-align: top;\n",
       "    }\n",
       "\n",
       "    .dataframe thead th {\n",
       "        text-align: right;\n",
       "    }\n",
       "</style>\n",
       "<table border=\"1\" class=\"dataframe\">\n",
       "  <thead>\n",
       "    <tr style=\"text-align: right;\">\n",
       "      <th></th>\n",
       "      <th>Unnamed: 0</th>\n",
       "      <th>smile</th>\n",
       "      <th>atoms</th>\n",
       "      <th>atom_positions</th>\n",
       "      <th>energies</th>\n",
       "      <th>std</th>\n",
       "      <th>pyscf_energies</th>\n",
       "      <th>pyscf_hlgap</th>\n",
       "      <th>pyscf_homo</th>\n",
       "      <th>pyscf_lumo</th>\n",
       "      <th>times</th>\n",
       "      <th>homo</th>\n",
       "      <th>lumo</th>\n",
       "      <th>hlgap</th>\n",
       "      <th>N</th>\n",
       "      <th>basis</th>\n",
       "    </tr>\n",
       "  </thead>\n",
       "  <tbody>\n",
       "    <tr>\n",
       "      <th>0</th>\n",
       "      <td>0</td>\n",
       "      <td>FC(F)(C#N)C(=O)C#N</td>\n",
       "      <td>FCFCNCOCN</td>\n",
       "      <td>[0.15332033500393688, -2.3606980417798886, -2....</td>\n",
       "      <td>[-14387.150902075824, -14321.477650378294, -14...</td>\n",
       "      <td>0.000685</td>\n",
       "      <td>[0.0]</td>\n",
       "      <td>0</td>\n",
       "      <td>0</td>\n",
       "      <td>0</td>\n",
       "      <td>[4.5198e+03 0.0000e+00 0.0000e+00 1.0000e-01 3...</td>\n",
       "      <td>-5.872426</td>\n",
       "      <td>-0.872470</td>\n",
       "      <td>4.999956</td>\n",
       "      <td>45</td>\n",
       "      <td>STO-3G</td>\n",
       "    </tr>\n",
       "    <tr>\n",
       "      <th>1</th>\n",
       "      <td>0</td>\n",
       "      <td>FC(F)(C#N)C(=O)C#N</td>\n",
       "      <td>FCFCNCOCN</td>\n",
       "      <td>[-2.3403320213763945, -1.054070549382328, 2.95...</td>\n",
       "      <td>[-14386.940987492488, -14327.730510746002, -14...</td>\n",
       "      <td>0.001410</td>\n",
       "      <td>[0.0]</td>\n",
       "      <td>0</td>\n",
       "      <td>0</td>\n",
       "      <td>0</td>\n",
       "      <td>[4.3918e+03 0.0000e+00 1.0000e-01 1.0000e-01 3...</td>\n",
       "      <td>-5.924247</td>\n",
       "      <td>-1.223614</td>\n",
       "      <td>4.700633</td>\n",
       "      <td>45</td>\n",
       "      <td>STO-3G</td>\n",
       "    </tr>\n",
       "    <tr>\n",
       "      <th>2</th>\n",
       "      <td>0</td>\n",
       "      <td>FC(F)(C#N)C(=O)C#N</td>\n",
       "      <td>FCFCNCOCN</td>\n",
       "      <td>[-2.508312250101616, -2.9848902777921023, 0.05...</td>\n",
       "      <td>[-14386.867679381283, -14319.960709000135, -14...</td>\n",
       "      <td>0.001749</td>\n",
       "      <td>[0.0]</td>\n",
       "      <td>0</td>\n",
       "      <td>0</td>\n",
       "      <td>0</td>\n",
       "      <td>[4.4863e+03 0.0000e+00 1.0000e-01 1.0000e-01 3...</td>\n",
       "      <td>-5.924836</td>\n",
       "      <td>-1.235037</td>\n",
       "      <td>4.689799</td>\n",
       "      <td>45</td>\n",
       "      <td>STO-3G</td>\n",
       "    </tr>\n",
       "    <tr>\n",
       "      <th>3</th>\n",
       "      <td>0</td>\n",
       "      <td>FC(F)(C#N)C(=O)C#N</td>\n",
       "      <td>FCFCNCOCN</td>\n",
       "      <td>[-3.2551803300125353, -2.1329334256170753, 0.8...</td>\n",
       "      <td>[-14387.076018358, -14329.75193126052, -14398....</td>\n",
       "      <td>0.001727</td>\n",
       "      <td>[0.0]</td>\n",
       "      <td>0</td>\n",
       "      <td>0</td>\n",
       "      <td>0</td>\n",
       "      <td>[4.4778e+03 1.0000e-01 0.0000e+00 1.0000e-01 3...</td>\n",
       "      <td>-5.899619</td>\n",
       "      <td>-1.169639</td>\n",
       "      <td>4.729980</td>\n",
       "      <td>45</td>\n",
       "      <td>STO-3G</td>\n",
       "    </tr>\n",
       "    <tr>\n",
       "      <th>4</th>\n",
       "      <td>0</td>\n",
       "      <td>FC(F)(C#N)C(=O)C#N</td>\n",
       "      <td>FCFCNCOCN</td>\n",
       "      <td>[-2.84609364909322, -2.7599543764642225, -0.10...</td>\n",
       "      <td>[-14386.926915515363, -14322.835535730032, -14...</td>\n",
       "      <td>0.001680</td>\n",
       "      <td>[0.0]</td>\n",
       "      <td>0</td>\n",
       "      <td>0</td>\n",
       "      <td>0</td>\n",
       "      <td>[4.3595e+03 0.0000e+00 0.0000e+00 1.0000e-01 3...</td>\n",
       "      <td>-5.838394</td>\n",
       "      <td>-1.148967</td>\n",
       "      <td>4.689428</td>\n",
       "      <td>45</td>\n",
       "      <td>STO-3G</td>\n",
       "    </tr>\n",
       "    <tr>\n",
       "      <th>...</th>\n",
       "      <td>...</td>\n",
       "      <td>...</td>\n",
       "      <td>...</td>\n",
       "      <td>...</td>\n",
       "      <td>...</td>\n",
       "      <td>...</td>\n",
       "      <td>...</td>\n",
       "      <td>...</td>\n",
       "      <td>...</td>\n",
       "      <td>...</td>\n",
       "      <td>...</td>\n",
       "      <td>...</td>\n",
       "      <td>...</td>\n",
       "      <td>...</td>\n",
       "      <td>...</td>\n",
       "      <td>...</td>\n",
       "    </tr>\n",
       "    <tr>\n",
       "      <th>141</th>\n",
       "      <td>0</td>\n",
       "      <td>O=c1nc(nno1)C#N</td>\n",
       "      <td>OCNCNNOCN</td>\n",
       "      <td>[-4.975797037092851, -0.10223483890282797, 1.6...</td>\n",
       "      <td>[-12967.214870320147, -12844.203558009567, -12...</td>\n",
       "      <td>0.000489</td>\n",
       "      <td>[0.0]</td>\n",
       "      <td>0</td>\n",
       "      <td>0</td>\n",
       "      <td>0</td>\n",
       "      <td>[4.4596e+03 1.0000e-01 0.0000e+00 1.0000e-01 2...</td>\n",
       "      <td>-5.406635</td>\n",
       "      <td>-2.607664</td>\n",
       "      <td>2.798971</td>\n",
       "      <td>45</td>\n",
       "      <td>STO-3G</td>\n",
       "    </tr>\n",
       "    <tr>\n",
       "      <th>142</th>\n",
       "      <td>0</td>\n",
       "      <td>O=c1nc(nno1)C#N</td>\n",
       "      <td>OCNCNNOCN</td>\n",
       "      <td>[-1.6667435103637371, 4.803784367677628, -1.16...</td>\n",
       "      <td>[-12967.173270446034, -12841.313417319576, -12...</td>\n",
       "      <td>0.001113</td>\n",
       "      <td>[0.0]</td>\n",
       "      <td>0</td>\n",
       "      <td>0</td>\n",
       "      <td>0</td>\n",
       "      <td>[4.4013e+03 0.0000e+00 0.0000e+00 1.0000e-01 2...</td>\n",
       "      <td>-5.428957</td>\n",
       "      <td>-2.577853</td>\n",
       "      <td>2.851104</td>\n",
       "      <td>45</td>\n",
       "      <td>STO-3G</td>\n",
       "    </tr>\n",
       "    <tr>\n",
       "      <th>143</th>\n",
       "      <td>0</td>\n",
       "      <td>O=c1nc(nno1)C#N</td>\n",
       "      <td>OCNCNNOCN</td>\n",
       "      <td>[-3.565835428561025, 1.1894789789949995, -3.62...</td>\n",
       "      <td>[-12967.267687429836, -12840.808835446367, -12...</td>\n",
       "      <td>0.001271</td>\n",
       "      <td>[0.0]</td>\n",
       "      <td>0</td>\n",
       "      <td>0</td>\n",
       "      <td>0</td>\n",
       "      <td>[4.5021e+03 1.0000e-01 0.0000e+00 1.0000e-01 2...</td>\n",
       "      <td>-5.434490</td>\n",
       "      <td>-2.590510</td>\n",
       "      <td>2.843980</td>\n",
       "      <td>45</td>\n",
       "      <td>STO-3G</td>\n",
       "    </tr>\n",
       "    <tr>\n",
       "      <th>144</th>\n",
       "      <td>0</td>\n",
       "      <td>O=c1nc(nno1)C#N</td>\n",
       "      <td>OCNCNNOCN</td>\n",
       "      <td>[-2.3093834500910693, -4.5080600038703045, -1....</td>\n",
       "      <td>[-12967.429002059404, -12842.168408659896, -12...</td>\n",
       "      <td>0.000779</td>\n",
       "      <td>[0.0]</td>\n",
       "      <td>0</td>\n",
       "      <td>0</td>\n",
       "      <td>0</td>\n",
       "      <td>[4.5073e+03 0.0000e+00 0.0000e+00 1.0000e-01 2...</td>\n",
       "      <td>-5.460477</td>\n",
       "      <td>-2.586699</td>\n",
       "      <td>2.873778</td>\n",
       "      <td>45</td>\n",
       "      <td>STO-3G</td>\n",
       "    </tr>\n",
       "    <tr>\n",
       "      <th>145</th>\n",
       "      <td>0</td>\n",
       "      <td>O=c1nc(nno1)C#N</td>\n",
       "      <td>OCNCNNOCN</td>\n",
       "      <td>[-1.5283189038421345, -2.436824158767289, 4.31...</td>\n",
       "      <td>[-12967.465388328501, -12846.651550934263, -12...</td>\n",
       "      <td>0.000782</td>\n",
       "      <td>[0.0]</td>\n",
       "      <td>0</td>\n",
       "      <td>0</td>\n",
       "      <td>0</td>\n",
       "      <td>[4.4193e+03 1.0000e-01 0.0000e+00 1.0000e-01 3...</td>\n",
       "      <td>-5.516421</td>\n",
       "      <td>-2.567992</td>\n",
       "      <td>2.948429</td>\n",
       "      <td>45</td>\n",
       "      <td>STO-3G</td>\n",
       "    </tr>\n",
       "  </tbody>\n",
       "</table>\n",
       "<p>146 rows × 16 columns</p>\n",
       "</div>"
      ],
      "text/plain": [
       "     Unnamed: 0               smile      atoms  \\\n",
       "0             0  FC(F)(C#N)C(=O)C#N  FCFCNCOCN   \n",
       "1             0  FC(F)(C#N)C(=O)C#N  FCFCNCOCN   \n",
       "2             0  FC(F)(C#N)C(=O)C#N  FCFCNCOCN   \n",
       "3             0  FC(F)(C#N)C(=O)C#N  FCFCNCOCN   \n",
       "4             0  FC(F)(C#N)C(=O)C#N  FCFCNCOCN   \n",
       "..          ...                 ...        ...   \n",
       "141           0     O=c1nc(nno1)C#N  OCNCNNOCN   \n",
       "142           0     O=c1nc(nno1)C#N  OCNCNNOCN   \n",
       "143           0     O=c1nc(nno1)C#N  OCNCNNOCN   \n",
       "144           0     O=c1nc(nno1)C#N  OCNCNNOCN   \n",
       "145           0     O=c1nc(nno1)C#N  OCNCNNOCN   \n",
       "\n",
       "                                        atom_positions  \\\n",
       "0    [0.15332033500393688, -2.3606980417798886, -2....   \n",
       "1    [-2.3403320213763945, -1.054070549382328, 2.95...   \n",
       "2    [-2.508312250101616, -2.9848902777921023, 0.05...   \n",
       "3    [-3.2551803300125353, -2.1329334256170753, 0.8...   \n",
       "4    [-2.84609364909322, -2.7599543764642225, -0.10...   \n",
       "..                                                 ...   \n",
       "141  [-4.975797037092851, -0.10223483890282797, 1.6...   \n",
       "142  [-1.6667435103637371, 4.803784367677628, -1.16...   \n",
       "143  [-3.565835428561025, 1.1894789789949995, -3.62...   \n",
       "144  [-2.3093834500910693, -4.5080600038703045, -1....   \n",
       "145  [-1.5283189038421345, -2.436824158767289, 4.31...   \n",
       "\n",
       "                                              energies       std  \\\n",
       "0    [-14387.150902075824, -14321.477650378294, -14...  0.000685   \n",
       "1    [-14386.940987492488, -14327.730510746002, -14...  0.001410   \n",
       "2    [-14386.867679381283, -14319.960709000135, -14...  0.001749   \n",
       "3    [-14387.076018358, -14329.75193126052, -14398....  0.001727   \n",
       "4    [-14386.926915515363, -14322.835535730032, -14...  0.001680   \n",
       "..                                                 ...       ...   \n",
       "141  [-12967.214870320147, -12844.203558009567, -12...  0.000489   \n",
       "142  [-12967.173270446034, -12841.313417319576, -12...  0.001113   \n",
       "143  [-12967.267687429836, -12840.808835446367, -12...  0.001271   \n",
       "144  [-12967.429002059404, -12842.168408659896, -12...  0.000779   \n",
       "145  [-12967.465388328501, -12846.651550934263, -12...  0.000782   \n",
       "\n",
       "    pyscf_energies  pyscf_hlgap  pyscf_homo  pyscf_lumo  \\\n",
       "0            [0.0]            0           0           0   \n",
       "1            [0.0]            0           0           0   \n",
       "2            [0.0]            0           0           0   \n",
       "3            [0.0]            0           0           0   \n",
       "4            [0.0]            0           0           0   \n",
       "..             ...          ...         ...         ...   \n",
       "141          [0.0]            0           0           0   \n",
       "142          [0.0]            0           0           0   \n",
       "143          [0.0]            0           0           0   \n",
       "144          [0.0]            0           0           0   \n",
       "145          [0.0]            0           0           0   \n",
       "\n",
       "                                                 times      homo      lumo  \\\n",
       "0    [4.5198e+03 0.0000e+00 0.0000e+00 1.0000e-01 3... -5.872426 -0.872470   \n",
       "1    [4.3918e+03 0.0000e+00 1.0000e-01 1.0000e-01 3... -5.924247 -1.223614   \n",
       "2    [4.4863e+03 0.0000e+00 1.0000e-01 1.0000e-01 3... -5.924836 -1.235037   \n",
       "3    [4.4778e+03 1.0000e-01 0.0000e+00 1.0000e-01 3... -5.899619 -1.169639   \n",
       "4    [4.3595e+03 0.0000e+00 0.0000e+00 1.0000e-01 3... -5.838394 -1.148967   \n",
       "..                                                 ...       ...       ...   \n",
       "141  [4.4596e+03 1.0000e-01 0.0000e+00 1.0000e-01 2... -5.406635 -2.607664   \n",
       "142  [4.4013e+03 0.0000e+00 0.0000e+00 1.0000e-01 2... -5.428957 -2.577853   \n",
       "143  [4.5021e+03 1.0000e-01 0.0000e+00 1.0000e-01 2... -5.434490 -2.590510   \n",
       "144  [4.5073e+03 0.0000e+00 0.0000e+00 1.0000e-01 2... -5.460477 -2.586699   \n",
       "145  [4.4193e+03 1.0000e-01 0.0000e+00 1.0000e-01 3... -5.516421 -2.567992   \n",
       "\n",
       "        hlgap   N   basis  \n",
       "0    4.999956  45  STO-3G  \n",
       "1    4.700633  45  STO-3G  \n",
       "2    4.689799  45  STO-3G  \n",
       "3    4.729980  45  STO-3G  \n",
       "4    4.689428  45  STO-3G  \n",
       "..        ...  ..     ...  \n",
       "141  2.798971  45  STO-3G  \n",
       "142  2.851104  45  STO-3G  \n",
       "143  2.843980  45  STO-3G  \n",
       "144  2.873778  45  STO-3G  \n",
       "145  2.948429  45  STO-3G  \n",
       "\n",
       "[146 rows x 16 columns]"
      ]
     },
     "execution_count": 14,
     "metadata": {},
     "output_type": "execute_result"
    }
   ],
   "source": [
    "df"
   ]
  },
  {
   "cell_type": "code",
   "execution_count": 15,
   "id": "9cd76867",
   "metadata": {
    "execution": {
     "iopub.execute_input": "2023-09-19T11:23:14.674865Z",
     "iopub.status.busy": "2023-09-19T11:23:14.674473Z",
     "iopub.status.idle": "2023-09-19T11:23:14.695157Z",
     "shell.execute_reply": "2023-09-19T11:23:14.694107Z",
     "shell.execute_reply.started": "2023-09-19T11:23:14.674846Z"
    }
   },
   "outputs": [
    {
     "data": {
      "text/plain": [
       "0      4.999956\n",
       "1      4.700633\n",
       "2      4.689799\n",
       "3      4.729980\n",
       "4      4.689428\n",
       "         ...   \n",
       "141    2.798971\n",
       "142    2.851104\n",
       "143    2.843980\n",
       "144    2.873778\n",
       "145    2.948429\n",
       "Name: hlgap, Length: 146, dtype: float64"
      ]
     },
     "execution_count": 15,
     "metadata": {},
     "output_type": "execute_result"
    }
   ],
   "source": [
    "# HLgap data.\n",
    "df[\"hlgap\"]"
   ]
  },
  {
   "cell_type": "code",
   "execution_count": null,
   "id": "fb46e364-e56f-48b5-8be5-c913444e9c07",
   "metadata": {},
   "outputs": [],
   "source": []
  }
 ],
 "metadata": {
  "kernelspec": {
   "display_name": "Python 3",
   "language": "python",
   "name": "python3"
  },
  "language_info": {
   "codemirror_mode": {
    "name": "ipython",
    "version": 3
   },
   "file_extension": ".py",
   "mimetype": "text/x-python",
   "name": "python",
   "nbconvert_exporter": "python",
   "pygments_lexer": "ipython3",
   "version": "3.8.10"
  }
 },
 "nbformat": 4,
 "nbformat_minor": 5
}
