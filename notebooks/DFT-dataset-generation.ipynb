{
 "cells": [
  {
   "cell_type": "markdown",
   "id": "e4c8b28c",
   "metadata": {},
   "source": [
    "Copyright (c) 2023 Graphcore Ltd. All rights reserved.\n",
    "\n",
    "# DFT dataset generation using PySCF IPU"
   ]
  },
  {
   "cell_type": "code",
   "execution_count": 1,
   "id": "263d3617",
   "metadata": {
    "execution": {
     "iopub.execute_input": "2023-09-19T10:59:45.313085Z",
     "iopub.status.busy": "2023-09-19T10:59:45.312816Z",
     "iopub.status.idle": "2023-09-19T10:59:45.328345Z",
     "shell.execute_reply": "2023-09-19T10:59:45.327737Z",
     "shell.execute_reply.started": "2023-09-19T10:59:45.313060Z"
    }
   },
   "outputs": [],
   "source": [
    "%load_ext autoreload\n",
    "%autoreload 2"
   ]
  },
  {
   "cell_type": "markdown",
   "id": "885d94eb",
   "metadata": {},
   "source": [
    "## Dependencies and configuration\n",
    "\n",
    "Install the JAX experimental for IPU (and addons).  "
   ]
  },
  {
   "cell_type": "markdown",
   "id": "e5faf299",
   "metadata": {},
   "source": [
    "Install `pyscf-ipu`:"
   ]
  },
  {
   "cell_type": "code",
   "execution_count": 2,
   "id": "5f54d5a7",
   "metadata": {
    "execution": {
     "iopub.execute_input": "2023-09-19T10:59:49.505367Z",
     "iopub.status.busy": "2023-09-19T10:59:49.505119Z",
     "iopub.status.idle": "2023-09-19T11:00:18.761966Z",
     "shell.execute_reply": "2023-09-19T11:00:18.761239Z",
     "shell.execute_reply.started": "2023-09-19T10:59:49.505348Z"
    }
   },
   "outputs": [
    {
     "name": "stdout",
     "output_type": "stream",
     "text": [
      "Obtaining file:///notebooks\n",
      "  Preparing metadata (setup.py) ... \u001b[?25ldone\n",
      "\u001b[?25hCollecting jax@ https://github.com/graphcore-research/jax-experimental/releases/download/jax-v0.3.16-ipu-beta3-sdk3/jax-0.3.16%2Bipu-py3-none-any.whl\n",
      "  Downloading https://github.com/graphcore-research/jax-experimental/releases/download/jax-v0.3.16-ipu-beta3-sdk3/jax-0.3.16%2Bipu-py3-none-any.whl (1.2 MB)\n",
      "\u001b[2K     \u001b[90m━━━━━━━━━━━━━━━━━━━━━━━━━━━━━━━━━━━━━━━━\u001b[0m \u001b[32m1.2/1.2 MB\u001b[0m \u001b[31m44.2 MB/s\u001b[0m eta \u001b[36m0:00:00\u001b[0m\n",
      "\u001b[?25hCollecting jaxlib@ https://github.com/graphcore-research/jax-experimental/releases/download/jax-v0.3.16-ipu-beta3-sdk3/jaxlib-0.3.15%2Bipu.sdk320-cp38-none-manylinux2014_x86_64.whl\n",
      "  Downloading https://github.com/graphcore-research/jax-experimental/releases/download/jax-v0.3.16-ipu-beta3-sdk3/jaxlib-0.3.15%2Bipu.sdk320-cp38-none-manylinux2014_x86_64.whl (111.3 MB)\n",
      "\u001b[2K     \u001b[90m━━━━━━━━━━━━━━━━━━━━━━━━━━━━━━━━━━━━━━\u001b[0m \u001b[32m111.3/111.3 MB\u001b[0m \u001b[31m51.6 MB/s\u001b[0m eta \u001b[36m0:00:00\u001b[0m00:01\u001b[0m00:01\u001b[0m\n",
      "\u001b[?25hCollecting tessellate-ipu@ git+https://github.com/graphcore-research/tessellate-ipu.git@main\n",
      "  Cloning https://github.com/graphcore-research/tessellate-ipu.git (to revision main) to /tmp/pip-install-td4nmv9h/tessellate-ipu_276437cb636f4137ab15fc6176a80479\n",
      "  Running command git clone --filter=blob:none --quiet https://github.com/graphcore-research/tessellate-ipu.git /tmp/pip-install-td4nmv9h/tessellate-ipu_276437cb636f4137ab15fc6176a80479\n",
      "  Resolved https://github.com/graphcore-research/tessellate-ipu.git to commit e254e597bc9b2ffdfa6e3f6d814bebde9bd2f716\n",
      "  Installing build dependencies ... \u001b[?25ldone\n",
      "\u001b[?25h  Getting requirements to build wheel ... \u001b[?25ldone\n",
      "\u001b[?25h  Installing backend dependencies ... \u001b[?25ldone\n",
      "\u001b[?25h  Preparing metadata (pyproject.toml) ... \u001b[?25ldone\n",
      "\u001b[?25hRequirement already satisfied: numpy in /usr/local/lib/python3.8/dist-packages (from pyscf-ipu==0.0.1) (1.24.4)\n",
      "Requirement already satisfied: matplotlib in /usr/local/lib/python3.8/dist-packages (from pyscf-ipu==0.0.1) (3.7.3)\n",
      "Requirement already satisfied: pandas in /usr/local/lib/python3.8/dist-packages (from pyscf-ipu==0.0.1) (2.0.3)\n",
      "Requirement already satisfied: scipy in /usr/local/lib/python3.8/dist-packages (from pyscf-ipu==0.0.1) (1.10.1)\n",
      "Requirement already satisfied: h5py in /usr/local/lib/python3.8/dist-packages (from pyscf-ipu==0.0.1) (3.9.0)\n",
      "Requirement already satisfied: pubchempy in /usr/local/lib/python3.8/dist-packages (from pyscf-ipu==0.0.1) (1.0.4)\n",
      "Requirement already satisfied: pyscf==2.2.1 in /usr/local/lib/python3.8/dist-packages (from pyscf-ipu==0.0.1) (2.2.1)\n",
      "Requirement already satisfied: icecream in /usr/local/lib/python3.8/dist-packages (from pyscf-ipu==0.0.1) (2.1.3)\n",
      "Requirement already satisfied: seaborn in /usr/local/lib/python3.8/dist-packages (from pyscf-ipu==0.0.1) (0.12.2)\n",
      "Requirement already satisfied: tqdm in /usr/local/lib/python3.8/dist-packages (from pyscf-ipu==0.0.1) (4.65.0)\n",
      "Requirement already satisfied: natsort in /usr/local/lib/python3.8/dist-packages (from pyscf-ipu==0.0.1) (8.4.0)\n",
      "Requirement already satisfied: rdkit in /usr/local/lib/python3.8/dist-packages (from pyscf-ipu==0.0.1) (2023.3.3)\n",
      "Requirement already satisfied: jsonargparse[all] in /usr/local/lib/python3.8/dist-packages (from pyscf-ipu==0.0.1) (4.24.1)\n",
      "Requirement already satisfied: mogli in /usr/local/lib/python3.8/dist-packages (from pyscf-ipu==0.0.1) (0.3.0)\n",
      "Requirement already satisfied: imageio[ffmpeg] in /usr/local/lib/python3.8/dist-packages (from pyscf-ipu==0.0.1) (2.31.3)\n",
      "Requirement already satisfied: py3Dmol in /usr/local/lib/python3.8/dist-packages (from pyscf-ipu==0.0.1) (2.0.3)\n",
      "Requirement already satisfied: basis-set-exchange in /usr/local/lib/python3.8/dist-packages (from pyscf-ipu==0.0.1) (0.9.1)\n",
      "Requirement already satisfied: periodictable in /usr/local/lib/python3.8/dist-packages (from pyscf-ipu==0.0.1) (1.6.1)\n",
      "Requirement already satisfied: sympy in /usr/local/lib/python3.8/dist-packages (from pyscf-ipu==0.0.1) (1.12)\n",
      "Requirement already satisfied: setuptools<60.0 in /usr/local/lib/python3.8/dist-packages (from pyscf-ipu==0.0.1) (59.8.0)\n",
      "Requirement already satisfied: jaxtyping==0.2.8 in /usr/local/lib/python3.8/dist-packages (from pyscf-ipu==0.0.1) (0.2.8)\n",
      "Requirement already satisfied: chex in /usr/local/lib/python3.8/dist-packages (from pyscf-ipu==0.0.1) (0.1.6)\n",
      "Requirement already satisfied: jax==0.3.16 in /usr/local/lib/python3.8/dist-packages (from pyscf-ipu==0.0.1) (0.3.16+ipu)\n",
      "Requirement already satisfied: jaxlib==0.3.15 in /usr/local/lib/python3.8/dist-packages (from pyscf-ipu==0.0.1) (0.3.15+ipu.sdk320)\n",
      "Requirement already satisfied: absl-py in /usr/local/lib/python3.8/dist-packages (from jax@ https://github.com/graphcore-research/jax-experimental/releases/download/jax-v0.3.16-ipu-beta3-sdk3/jax-0.3.16%2Bipu-py3-none-any.whl->pyscf-ipu==0.0.1) (1.4.0)\n",
      "Requirement already satisfied: typing-extensions in /usr/local/lib/python3.8/dist-packages (from jax@ https://github.com/graphcore-research/jax-experimental/releases/download/jax-v0.3.16-ipu-beta3-sdk3/jax-0.3.16%2Bipu-py3-none-any.whl->pyscf-ipu==0.0.1) (4.8.0)\n",
      "Requirement already satisfied: opt-einsum in /usr/local/lib/python3.8/dist-packages (from jax@ https://github.com/graphcore-research/jax-experimental/releases/download/jax-v0.3.16-ipu-beta3-sdk3/jax-0.3.16%2Bipu-py3-none-any.whl->pyscf-ipu==0.0.1) (3.3.0)\n",
      "Requirement already satisfied: etils[epath] in /usr/local/lib/python3.8/dist-packages (from jax@ https://github.com/graphcore-research/jax-experimental/releases/download/jax-v0.3.16-ipu-beta3-sdk3/jax-0.3.16%2Bipu-py3-none-any.whl->pyscf-ipu==0.0.1) (1.3.0)\n",
      "Requirement already satisfied: pybind11 in /usr/local/lib/python3.8/dist-packages (from jax@ https://github.com/graphcore-research/jax-experimental/releases/download/jax-v0.3.16-ipu-beta3-sdk3/jax-0.3.16%2Bipu-py3-none-any.whl->pyscf-ipu==0.0.1) (2.11.1)\n",
      "Requirement already satisfied: cppimport in /usr/local/lib/python3.8/dist-packages (from jax@ https://github.com/graphcore-research/jax-experimental/releases/download/jax-v0.3.16-ipu-beta3-sdk3/jax-0.3.16%2Bipu-py3-none-any.whl->pyscf-ipu==0.0.1) (22.8.2)\n",
      "Requirement already satisfied: typeguard>=2.13.3 in /usr/local/lib/python3.8/dist-packages (from jaxtyping==0.2.8->pyscf-ipu==0.0.1) (4.1.5)\n",
      "Requirement already satisfied: regex in /usr/local/lib/python3.8/dist-packages (from basis-set-exchange->pyscf-ipu==0.0.1) (2023.8.8)\n",
      "Requirement already satisfied: unidecode in /usr/local/lib/python3.8/dist-packages (from basis-set-exchange->pyscf-ipu==0.0.1) (1.3.6)\n",
      "Requirement already satisfied: argcomplete in /usr/local/lib/python3.8/dist-packages (from basis-set-exchange->pyscf-ipu==0.0.1) (3.1.2)\n",
      "Requirement already satisfied: jsonschema in /usr/local/lib/python3.8/dist-packages (from basis-set-exchange->pyscf-ipu==0.0.1) (4.17.3)\n",
      "Requirement already satisfied: dm-tree>=0.1.5 in /usr/local/lib/python3.8/dist-packages (from chex->pyscf-ipu==0.0.1) (0.1.8)\n",
      "Requirement already satisfied: toolz>=0.9.0 in /usr/local/lib/python3.8/dist-packages (from chex->pyscf-ipu==0.0.1) (0.12.0)\n",
      "Requirement already satisfied: pygments>=2.2.0 in /usr/local/lib/python3.8/dist-packages (from icecream->pyscf-ipu==0.0.1) (2.14.0)\n",
      "Requirement already satisfied: asttokens>=2.0.1 in /usr/local/lib/python3.8/dist-packages (from icecream->pyscf-ipu==0.0.1) (2.4.0)\n",
      "Requirement already satisfied: colorama>=0.3.9 in /usr/local/lib/python3.8/dist-packages (from icecream->pyscf-ipu==0.0.1) (0.4.4)\n",
      "Requirement already satisfied: executing>=0.3.1 in /usr/local/lib/python3.8/dist-packages (from icecream->pyscf-ipu==0.0.1) (1.2.0)\n",
      "Requirement already satisfied: pillow>=8.3.2 in /usr/local/lib/python3.8/dist-packages (from imageio[ffmpeg]->pyscf-ipu==0.0.1) (10.0.1)\n",
      "Requirement already satisfied: imageio-ffmpeg in /usr/local/lib/python3.8/dist-packages (from imageio[ffmpeg]->pyscf-ipu==0.0.1) (0.4.9)\n",
      "Requirement already satisfied: psutil in /usr/local/lib/python3.8/dist-packages (from imageio[ffmpeg]->pyscf-ipu==0.0.1) (5.9.5)\n",
      "Requirement already satisfied: PyYAML>=3.13 in /usr/local/lib/python3.8/dist-packages (from jsonargparse[all]->pyscf-ipu==0.0.1) (5.4.1)\n",
      "Requirement already satisfied: importlib-resources>=3.2.0 in /usr/local/lib/python3.8/dist-packages (from matplotlib->pyscf-ipu==0.0.1) (5.12.0)\n",
      "Requirement already satisfied: packaging>=20.0 in /usr/local/lib/python3.8/dist-packages (from matplotlib->pyscf-ipu==0.0.1) (23.0)\n",
      "Requirement already satisfied: cycler>=0.10 in /usr/local/lib/python3.8/dist-packages (from matplotlib->pyscf-ipu==0.0.1) (0.11.0)\n",
      "Requirement already satisfied: kiwisolver>=1.0.1 in /usr/local/lib/python3.8/dist-packages (from matplotlib->pyscf-ipu==0.0.1) (1.4.5)\n",
      "Requirement already satisfied: pyparsing>=2.3.1 in /usr/local/lib/python3.8/dist-packages (from matplotlib->pyscf-ipu==0.0.1) (3.1.1)\n",
      "Requirement already satisfied: fonttools>=4.22.0 in /usr/local/lib/python3.8/dist-packages (from matplotlib->pyscf-ipu==0.0.1) (4.42.1)\n",
      "Requirement already satisfied: python-dateutil>=2.7 in /usr/local/lib/python3.8/dist-packages (from matplotlib->pyscf-ipu==0.0.1) (2.8.2)\n",
      "Requirement already satisfied: contourpy>=1.0.1 in /usr/local/lib/python3.8/dist-packages (from matplotlib->pyscf-ipu==0.0.1) (1.1.1)\n",
      "Requirement already satisfied: glfw in /usr/local/lib/python3.8/dist-packages (from mogli->pyscf-ipu==0.0.1) (2.6.2)\n",
      "Requirement already satisfied: PyOpenGL in /usr/local/lib/python3.8/dist-packages (from mogli->pyscf-ipu==0.0.1) (3.1.7)\n",
      "Requirement already satisfied: gr in /usr/local/lib/python3.8/dist-packages (from mogli->pyscf-ipu==0.0.1) (1.23.2)\n",
      "Requirement already satisfied: pytz>=2020.1 in /usr/local/lib/python3.8/dist-packages (from pandas->pyscf-ipu==0.0.1) (2023.3)\n",
      "Requirement already satisfied: tzdata>=2022.1 in /usr/local/lib/python3.8/dist-packages (from pandas->pyscf-ipu==0.0.1) (2023.3)\n",
      "Requirement already satisfied: mpmath>=0.19 in /usr/local/lib/python3.8/dist-packages (from sympy->pyscf-ipu==0.0.1) (1.3.0)\n",
      "Requirement already satisfied: six>=1.12.0 in /usr/lib/python3/dist-packages (from asttokens>=2.0.1->icecream->pyscf-ipu==0.0.1) (1.14.0)\n",
      "Requirement already satisfied: zipp>=3.1.0 in /usr/local/lib/python3.8/dist-packages (from importlib-resources>=3.2.0->matplotlib->pyscf-ipu==0.0.1) (3.15.0)\n",
      "Requirement already satisfied: importlib-metadata>=3.6 in /usr/local/lib/python3.8/dist-packages (from typeguard>=2.13.3->jaxtyping==0.2.8->pyscf-ipu==0.0.1) (6.1.0)\n",
      "Requirement already satisfied: mako in /usr/local/lib/python3.8/dist-packages (from cppimport->jax@ https://github.com/graphcore-research/jax-experimental/releases/download/jax-v0.3.16-ipu-beta3-sdk3/jax-0.3.16%2Bipu-py3-none-any.whl->pyscf-ipu==0.0.1) (1.2.4)\n",
      "Requirement already satisfied: filelock in /usr/local/lib/python3.8/dist-packages (from cppimport->jax@ https://github.com/graphcore-research/jax-experimental/releases/download/jax-v0.3.16-ipu-beta3-sdk3/jax-0.3.16%2Bipu-py3-none-any.whl->pyscf-ipu==0.0.1) (3.12.4)\n",
      "Requirement already satisfied: fsspec>=0.8.4 in /usr/local/lib/python3.8/dist-packages (from jsonargparse[all]->pyscf-ipu==0.0.1) (2023.9.1)\n",
      "Requirement already satisfied: jsonnet>=0.13.0 in /usr/local/lib/python3.8/dist-packages (from jsonargparse[all]->pyscf-ipu==0.0.1) (0.20.0)\n",
      "Requirement already satisfied: attrs>=17.4.0 in /usr/local/lib/python3.8/dist-packages (from jsonschema->basis-set-exchange->pyscf-ipu==0.0.1) (22.2.0)\n",
      "Requirement already satisfied: pyrsistent!=0.17.0,!=0.17.1,!=0.17.2,>=0.14.0 in /usr/local/lib/python3.8/dist-packages (from jsonschema->basis-set-exchange->pyscf-ipu==0.0.1) (0.19.3)\n",
      "Requirement already satisfied: pkgutil-resolve-name>=1.3.10 in /usr/local/lib/python3.8/dist-packages (from jsonschema->basis-set-exchange->pyscf-ipu==0.0.1) (1.3.10)\n",
      "Requirement already satisfied: omegaconf>=2.1.1 in /usr/local/lib/python3.8/dist-packages (from jsonargparse[all]->pyscf-ipu==0.0.1) (2.3.0)\n",
      "Requirement already satisfied: reconplogger>=4.4.0 in /usr/local/lib/python3.8/dist-packages (from jsonargparse[all]->pyscf-ipu==0.0.1) (4.12.0)\n",
      "Requirement already satisfied: ruyaml>=0.20.0 in /usr/local/lib/python3.8/dist-packages (from jsonargparse[all]->pyscf-ipu==0.0.1) (0.91.0)\n",
      "Requirement already satisfied: docstring-parser>=0.15 in /usr/local/lib/python3.8/dist-packages (from jsonargparse[all]->pyscf-ipu==0.0.1) (0.15)\n",
      "Requirement already satisfied: typeshed-client>=2.1.0 in /usr/local/lib/python3.8/dist-packages (from jsonargparse[all]->pyscf-ipu==0.0.1) (2.3.0)\n",
      "Requirement already satisfied: requests>=2.18.4 in /usr/local/lib/python3.8/dist-packages (from jsonargparse[all]->pyscf-ipu==0.0.1) (2.28.2)\n",
      "Requirement already satisfied: antlr4-python3-runtime==4.9.* in /usr/local/lib/python3.8/dist-packages (from omegaconf>=2.1.1->jsonargparse[all]->pyscf-ipu==0.0.1) (4.9.3)\n",
      "Requirement already satisfied: logmatic-python>=0.1.7 in /usr/local/lib/python3.8/dist-packages (from reconplogger>=4.4.0->jsonargparse[all]->pyscf-ipu==0.0.1) (0.1.7)\n",
      "Requirement already satisfied: urllib3<1.27,>=1.21.1 in /usr/lib/python3/dist-packages (from requests>=2.18.4->jsonargparse[all]->pyscf-ipu==0.0.1) (1.25.8)\n",
      "Requirement already satisfied: idna<4,>=2.5 in /usr/lib/python3/dist-packages (from requests>=2.18.4->jsonargparse[all]->pyscf-ipu==0.0.1) (2.8)\n",
      "Requirement already satisfied: charset-normalizer<4,>=2 in /usr/local/lib/python3.8/dist-packages (from requests>=2.18.4->jsonargparse[all]->pyscf-ipu==0.0.1) (3.1.0)\n",
      "Requirement already satisfied: certifi>=2017.4.17 in /usr/lib/python3/dist-packages (from requests>=2.18.4->jsonargparse[all]->pyscf-ipu==0.0.1) (2019.11.28)\n",
      "Requirement already satisfied: distro>=1.3.0 in /usr/lib/python3/dist-packages (from ruyaml>=0.20.0->jsonargparse[all]->pyscf-ipu==0.0.1) (1.4.0)\n",
      "Requirement already satisfied: MarkupSafe>=0.9.2 in /usr/local/lib/python3.8/dist-packages (from mako->cppimport->jax@ https://github.com/graphcore-research/jax-experimental/releases/download/jax-v0.3.16-ipu-beta3-sdk3/jax-0.3.16%2Bipu-py3-none-any.whl->pyscf-ipu==0.0.1) (2.1.2)\n",
      "Requirement already satisfied: python-json-logger in /usr/local/lib/python3.8/dist-packages (from logmatic-python>=0.1.7->reconplogger>=4.4.0->jsonargparse[all]->pyscf-ipu==0.0.1) (2.0.7)\n",
      "Installing collected packages: pyscf-ipu\n",
      "  Attempting uninstall: pyscf-ipu\n",
      "    Found existing installation: pyscf-ipu 0.0.1\n",
      "    Can't uninstall 'pyscf-ipu'. No files were found to uninstall.\n",
      "  Running setup.py develop for pyscf-ipu\n",
      "Successfully installed pyscf-ipu\n",
      "\u001b[33mWARNING: Running pip as the 'root' user can result in broken permissions and conflicting behaviour with the system package manager. It is recommended to use a virtual environment instead: https://pip.pypa.io/warnings/venv\u001b[0m\u001b[33m\n",
      "\u001b[0mNote: you may need to restart the kernel to use updated packages.\n"
     ]
    }
   ],
   "source": [
    "# PySCF IPU dependencies \n",
    "%pip install -e \"..[ipu]\""
   ]
  },
  {
   "cell_type": "markdown",
   "id": "16f39a33",
   "metadata": {},
   "source": [
    "# Download and preprocess GDB 11 dataset"
   ]
  },
  {
   "cell_type": "code",
   "execution_count": 6,
   "id": "88c260e3",
   "metadata": {
    "execution": {
     "iopub.execute_input": "2023-09-19T11:04:04.415026Z",
     "iopub.status.busy": "2023-09-19T11:04:04.414750Z",
     "iopub.status.idle": "2023-09-19T11:07:10.864225Z",
     "shell.execute_reply": "2023-09-19T11:07:10.863245Z",
     "shell.execute_reply.started": "2023-09-19T11:04:04.415005Z"
    }
   },
   "outputs": [
    {
     "name": "stdout",
     "output_type": "stream",
     "text": [
      "Did not find ./data/gdb11_size09_sorted.csv, or size was wrong\n",
      "WARNING: combining -O with -r or -p will mean that all downloaded content\n",
      "will be placed in the single file you specified.\n",
      "\n",
      "--2023-09-19 11:04:04--  https://zenodo.org/record/5172018/files/gdb11.tgz?download=1\n",
      "Resolving zenodo.org (zenodo.org)... 188.185.124.72\n",
      "Connecting to zenodo.org (zenodo.org)|188.185.124.72|:443... connected.\n",
      "HTTP request sent, awaiting response... 200 OK\n",
      "Length: 122040261 (116M) [application/octet-stream]\n",
      "Saving to: ‘./data/gdb11.tgz’\n",
      "\n",
      "./data/gdb11.tgz    100%[===================>] 116.39M  2.22MB/s    in 87s     \n",
      "\n",
      "2023-09-19 11:05:36 (1.33 MB/s) - ‘./data/gdb11.tgz’ saved [122040261/122040261]\n",
      "\n",
      "FINISHED --2023-09-19 11:05:36--\n",
      "Total wall clock time: 1m 32s\n",
      "Downloaded: 1 files, 116M in 1m 27s (1.33 MB/s)\n",
      "gdb11_size01.smi\n",
      "gdb11_size02.smi\n",
      "gdb11_size03.smi\n",
      "gdb11_size04.smi\n",
      "gdb11_size05.smi\n",
      "gdb11_size06.smi\n",
      "gdb11_size07.smi\n",
      "gdb11_size08.smi\n",
      "gdb11_size09.smi\n",
      "gdb11_size10.smi\n",
      "gdb11_size11.smi\n"
     ]
    },
    {
     "name": "stderr",
     "output_type": "stream",
     "text": [
      "100%|██████████| 444314/444314 [01:29<00:00, 4980.70it/s]\n"
     ]
    }
   ],
   "source": [
    "import os\n",
    "\n",
    "gdb_filename = \"./data/gdb11_size09.smi\"\n",
    "out_filename = gdb_filename.replace(\".smi\", \"_sorted.csv\")\n",
    "\n",
    "loaded = os.path.exists(out_filename) and os.path.getsize(out_filename) == 6985727\n",
    "\n",
    "if loaded:\n",
    "  print(f'Found {out_filename}')\n",
    "else:\n",
    "  print(f'Did not find {out_filename}, or size was wrong')\n",
    "\n",
    "  # Download and extract GDB11 dataset.\n",
    "  !mkdir -p ./data\n",
    "  !wget -p -O ./data/gdb11.tgz https://zenodo.org/record/5172018/files/gdb11.tgz\\?download\\=1\n",
    "  !tar -xvf ./data/gdb11.tgz --directory ./gdb/\n",
    "\n",
    "  from  gdb import sortgdb\n",
    "\n",
    "  # Filter & sort GDB11 dataset (size 9).\n",
    "  gdb_sorted = sortgdb.sort_gdb(gdb_filename, keep_only_atoms_count=9)\n",
    "  # Save output as csv.\n",
    "  gdb_sorted.to_csv(out_filename, index=False, header=False)\n",
    "\n"
   ]
  },
  {
   "cell_type": "code",
   "execution_count": 8,
   "id": "a9da90c6",
   "metadata": {
    "execution": {
     "iopub.execute_input": "2023-09-19T11:08:26.891676Z",
     "iopub.status.busy": "2023-09-19T11:08:26.891350Z",
     "iopub.status.idle": "2023-09-19T11:08:26.909079Z",
     "shell.execute_reply": "2023-09-19T11:08:26.908212Z",
     "shell.execute_reply.started": "2023-09-19T11:08:26.891655Z"
    }
   },
   "outputs": [],
   "source": [
    "import os\n",
    "# PySCF IPU setup: use a single device per process.\n",
    "os.environ[\"JAX_IPU_USE_MODEL\"] = \"True\"\n",
    "\n",
    "# PySCF IPU setup: use a single device per process.\n",
    "os.environ[\"JAX_IPU_DEVICE_COUNT\"] = \"1\"\n",
    "# JAX/XLA IPU compilation cache.\n",
    "os.environ['TF_POPLAR_FLAGS'] = \"\"\"\n",
    "  --executable_cache_path=/tmp/ipu-ef-cache\n",
    "\"\"\"\n",
    "\n",
    "# First import of JAX and TessellateIPU may take a few minutes...\n",
    "import jax\n",
    "import tessellate_ipu"
   ]
  },
  {
   "cell_type": "markdown",
   "id": "fa46c38d",
   "metadata": {},
   "source": [
    "# Create a DFT dataset using PySCF IPU\n",
    "\n",
    "In the following example, we use only a single IPU. Multiple IPUs can be used by simply launching a collection of PySCF IPU processes instead of a single one."
   ]
  },
  {
   "cell_type": "code",
   "execution_count": 10,
   "id": "96ea8a6f",
   "metadata": {
    "execution": {
     "iopub.execute_input": "2023-09-19T11:09:43.058141Z",
     "iopub.status.busy": "2023-09-19T11:09:43.057883Z",
     "iopub.status.idle": "2023-09-19T11:09:44.419081Z",
     "shell.execute_reply": "2023-09-19T11:09:44.418339Z",
     "shell.execute_reply.started": "2023-09-19T11:09:43.058122Z"
    }
   },
   "outputs": [
    {
     "name": "stdout",
     "output_type": "stream",
     "text": [
      "[BASIS] STO-3G\n",
      "Loaded 444285 molecules from gdb11_size09\n"
     ]
    }
   ],
   "source": [
    "# Equivalent to command line:\n",
    "# python pyscf_ipu/dft.py  -generate  -save  -fname \"notebook_dataset\"\n",
    "#        -level 0  -plevel 0  -num_conformers 1000\n",
    "#        -gdb 9  -float32\n",
    "\n",
    "import time\n",
    "from pyscf_ipu.dft import get_args, process_args\n",
    "\n",
    "args = get_args([])\n",
    "args.backend = 'cpu'\n",
    "args.generate = True\n",
    "args.save = True\n",
    "args.fname = \"notebook_dataset\"\n",
    "\n",
    "args.level = 0\n",
    "args.plevel = 0\n",
    "\n",
    "args.float32 = True\n",
    "\n",
    "quick = True # Set to False to generate full dataset (takes some time)\n",
    "\n",
    "if quick:\n",
    "  args.id = 1\n",
    "  args.num_conformers = 32 # Set to 1000 for full dataset\n",
    "  args.limit = 33 # Comment out for full dataset\n",
    "else:\n",
    "  args.num_conformers = 1000\n",
    "\n",
    "process_args(args)\n",
    "\n",
    "# Load GDB09 data\n",
    "gdb = 'gdb11_size09'\n",
    "args.smiles = open(f\"../gdb/{gdb}_sorted.csv\", \"r\").read().split(\"\\n\")\n",
    "print(f'Loaded {len(args.smiles)} molecules from {gdb}')"
   ]
  },
  {
   "cell_type": "code",
   "execution_count": 11,
   "id": "41564018",
   "metadata": {
    "execution": {
     "iopub.execute_input": "2023-09-19T11:10:21.208739Z",
     "iopub.status.busy": "2023-09-19T11:10:21.208328Z",
     "iopub.status.idle": "2023-09-19T11:22:24.855220Z",
     "shell.execute_reply": "2023-09-19T11:22:24.854282Z",
     "shell.execute_reply.started": "2023-09-19T11:10:21.208709Z"
    }
   },
   "outputs": [
    {
     "name": "stdout",
     "output_type": "stream",
     "text": [
      "Length GDB:  444285\n",
      "Trying FC(F)=C(F)C#CC#N\n",
      "Conformer:  F  -3.303279 -2.551231 -0.665592; C  -3.551114 -0.180504 -1.594233; F  -5.642254 0.510763 -2.775206; C  -1.480470 1.359424 -1.330889; F  -1.829597 3.736696 -2.292413; C  0.721395 0.525248 -0.394711; C  2.921869 -0.329714 0.586346; C  5.124244 -1.156335 1.526403; N 7.039206 -1.914347 2.335843; \n",
      "recompute: _0_32\n",
      "0_GDB-1_f32True_grid0_backendcpu_0_32\n"
     ]
    },
    {
     "name": "stderr",
     "output_type": "stream",
     "text": [
      "  0%|          | 0/33 [00:00<?, ?it/s]"
     ]
    },
    {
     "name": "stdout",
     "output_type": "stream",
     "text": [
      "[PAD] Last molecule had grisize=9816 we're using 10797. \n",
      "[FC(F)(C#N)C(=O)C#N]\n",
      "[conformers] 32\n",
      "16.4025 (45, 45, 45, 45) 15\n",
      "7.77384 (4, 10797, 45) 20\n"
     ]
    },
    {
     "name": "stderr",
     "output_type": "stream",
     "text": [
      "[1 / 32] Hs=    0 -529.163500 4519.8 0.0 0.0 0.1 3.0 0.2 286.7 0.0 26.3 3.2 0.2 0.3 0.1 0.0 0.0 3.4 0.1 0.0 0.0 0.2 0.3 5.2 0.2 4.3 4853.6 [1 ; 0]:   0%|          | 0/33 [00:05<?, ?it/s]"
     ]
    },
    {
     "name": "stdout",
     "output_type": "stream",
     "text": [
      "16.4025 (45, 45, 45, 45) 15\n",
      "7.77384 (4, 10797, 45) 20\n"
     ]
    },
    {
     "name": "stderr",
     "output_type": "stream",
     "text": [
      "[2 / 32] Hs=    0 -529.159320 4391.8 0.0 0.1 0.1 3.3 0.2 292.7 0.0 26.4 3.1 0.2 0.3 0.1 0.0 0.0 3.1 0.1 0.0 0.0 0.2 0.3 0.6 0.1 3.1 4725.8 [1 ; 0]:   0%|          | 0/33 [00:10<?, ?it/s]"
     ]
    },
    {
     "name": "stdout",
     "output_type": "stream",
     "text": [
      "16.4025 (45, 45, 45, 45) 15\n",
      "7.77384 (4, 10797, 45) 20\n"
     ]
    },
    {
     "name": "stderr",
     "output_type": "stream",
     "text": [
      "[3 / 32] Hs=    0 -529.167974 4486.3 0.0 0.1 0.1 3.0 0.3 286.6 0.0 26.6 3.7 0.2 0.3 0.1 0.0 0.0 3.2 0.1 0.0 0.0 0.2 0.3 0.5 0.1 2.3 4814.0 [1 ; 0]:   0%|          | 0/33 [00:14<?, ?it/s]"
     ]
    },
    {
     "name": "stdout",
     "output_type": "stream",
     "text": [
      "16.4025 (45, 45, 45, 45) 15\n",
      "7.77384 (4, 10797, 45) 20\n"
     ]
    },
    {
     "name": "stderr",
     "output_type": "stream",
     "text": [
      "[4 / 32] Hs=    0 -529.163280 4477.8 0.1 0.0 0.1 3.3 0.3 286.0 0.1 26.6 2.3 0.2 0.3 0.1 0.0 0.0 3.0 0.1 0.0 0.0 0.2 0.3 0.6 0.2 2.7 4804.3 [1 ; 0]:   0%|          | 0/33 [00:19<?, ?it/s]"
     ]
    },
    {
     "name": "stdout",
     "output_type": "stream",
     "text": [
      "16.4025 (45, 45, 45, 45) 15\n",
      "7.77384 (4, 10797, 45) 20\n"
     ]
    },
    {
     "name": "stderr",
     "output_type": "stream",
     "text": [
      "[5 / 32] Hs=    0 -529.166407 4359.5 0.0 0.0 0.1 3.7 0.2 283.7 0.0 26.4 1.8 0.2 0.3 0.1 0.0 0.0 3.1 0.1 0.0 0.0 0.2 0.3 2.2 0.2 2.3 4684.4 [1 ; 0]:   0%|          | 0/33 [00:24<?, ?it/s]"
     ]
    },
    {
     "name": "stdout",
     "output_type": "stream",
     "text": [
      "16.4025 (45, 45, 45, 45) 15\n",
      "7.77384 (4, 10797, 45) 20\n"
     ]
    },
    {
     "name": "stderr",
     "output_type": "stream",
     "text": [
      "[6 / 32] Hs=    0 -529.169012 4630.1 0.0 0.0 0.1 2.9 0.2 283.5 0.0 26.7 1.9 0.2 0.3 0.1 0.0 0.0 3.0 0.1 0.0 0.0 0.2 0.3 0.7 0.1 2.0 4952.4 [1 ; 0]:   0%|          | 0/33 [00:29<?, ?it/s]"
     ]
    },
    {
     "name": "stdout",
     "output_type": "stream",
     "text": [
      "16.4025 (45, 45, 45, 45) 15\n",
      "7.77384 (4, 10797, 45) 20\n"
     ]
    },
    {
     "name": "stderr",
     "output_type": "stream",
     "text": [
      "[7 / 32] Hs=    0 -529.163276 4408.2 0.0 0.0 0.1 2.9 0.2 287.9 0.0 26.0 1.9 0.2 0.3 0.1 0.0 0.0 3.2 0.1 0.0 0.0 0.2 0.3 0.7 0.2 2.8 4735.3 [1 ; 0]:   0%|          | 0/33 [00:34<?, ?it/s]"
     ]
    },
    {
     "name": "stdout",
     "output_type": "stream",
     "text": [
      "16.4025 (45, 45, 45, 45) 15\n",
      "7.77384 (4, 10797, 45) 20\n"
     ]
    },
    {
     "name": "stderr",
     "output_type": "stream",
     "text": [
      "[8 / 32] Hs=    0 -529.157284 4531.3 0.1 0.0 0.1 3.5 0.3 280.2 0.0 26.3 2.1 0.2 0.3 0.1 0.0 0.0 3.2 0.2 0.0 0.0 0.2 0.3 1.4 0.2 3.5 4853.5 [1 ; 0]:   0%|          | 0/33 [00:38<?, ?it/s]"
     ]
    },
    {
     "name": "stdout",
     "output_type": "stream",
     "text": [
      "16.4025 (45, 45, 45, 45) 15\n",
      "7.77384 (4, 10797, 45) 20\n"
     ]
    },
    {
     "name": "stderr",
     "output_type": "stream",
     "text": [
      "[9 / 32] Hs=    0 -529.162348 4465.4 0.0 0.0 0.1 2.9 0.2 278.4 0.0 26.3 1.9 0.2 0.3 0.1 0.0 0.0 3.1 0.1 0.0 0.0 0.2 0.3 3.5 0.2 2.3 4785.5 [1 ; 0]:   0%|          | 0/33 [00:43<?, ?it/s]"
     ]
    },
    {
     "name": "stdout",
     "output_type": "stream",
     "text": [
      "16.4025 (45, 45, 45, 45) 15\n",
      "7.77384 (4, 10797, 45) 20\n"
     ]
    },
    {
     "name": "stderr",
     "output_type": "stream",
     "text": [
      "[10 / 32] Hs=    0 -529.171149 4379.5 0.0 0.0 0.1 2.8 0.2 286.7 0.0 26.7 3.3 0.2 0.3 0.1 0.0 0.0 3.0 0.1 0.0 0.0 0.2 0.5 4.2 0.2 2.3 4710.4 [1 ; 0]:   0%|          | 0/33 [00:48<?, ?it/s]"
     ]
    },
    {
     "name": "stdout",
     "output_type": "stream",
     "text": [
      "16.4025 (45, 45, 45, 45) 15\n",
      "7.77384 (4, 10797, 45) 20\n"
     ]
    },
    {
     "name": "stderr",
     "output_type": "stream",
     "text": [
      "[11 / 32] Hs=    0 -529.170387 4564.3 0.1 0.0 0.1 3.3 0.3 288.2 0.1 26.7 3.1 0.3 0.3 0.1 0.0 0.0 3.9 0.2 0.0 0.0 0.2 0.4 16.4 0.2 3.4 4911.6 [1 ; 0]:   0%|          | 0/33 [00:53<?, ?it/s]"
     ]
    },
    {
     "name": "stdout",
     "output_type": "stream",
     "text": [
      "16.4025 (45, 45, 45, 45) 15\n",
      "7.77384 (4, 10797, 45) 20\n"
     ]
    },
    {
     "name": "stderr",
     "output_type": "stream",
     "text": [
      "[12 / 32] Hs=    0 -529.164210 4378.9 0.1 0.0 0.1 3.6 0.3 279.8 0.1 26.6 2.2 0.2 0.3 0.1 0.0 0.0 3.1 0.1 0.0 0.0 0.2 0.3 0.6 0.2 2.5 4699.3 [1 ; 0]:   0%|          | 0/33 [00:58<?, ?it/s] "
     ]
    },
    {
     "name": "stdout",
     "output_type": "stream",
     "text": [
      "16.4025 (45, 45, 45, 45) 15\n",
      "7.77384 (4, 10797, 45) 20\n"
     ]
    },
    {
     "name": "stderr",
     "output_type": "stream",
     "text": [
      "[13 / 32] Hs=    0 -529.168221 4468.2 0.0 0.1 0.1 3.0 0.2 286.4 0.0 26.3 2.0 0.2 0.3 0.1 0.0 0.0 3.1 0.1 0.0 0.0 0.1 0.3 0.5 0.1 2.0 4793.1 [1 ; 0]:   0%|          | 0/33 [01:02<?, ?it/s]"
     ]
    },
    {
     "name": "stdout",
     "output_type": "stream",
     "text": [
      "16.4025 (45, 45, 45, 45) 15\n",
      "7.77384 (4, 10797, 45) 20\n"
     ]
    },
    {
     "name": "stderr",
     "output_type": "stream",
     "text": [
      "[14 / 32] Hs=    0 -529.157600 4511.2 0.0 0.0 0.1 2.9 0.2 290.0 0.0 26.7 2.0 0.2 0.3 0.1 0.0 0.0 3.3 0.2 0.0 0.0 0.2 0.3 0.7 0.2 2.4 4841.0 [1 ; 0]:   0%|          | 0/33 [01:07<?, ?it/s]"
     ]
    },
    {
     "name": "stdout",
     "output_type": "stream",
     "text": [
      "16.4025 (45, 45, 45, 45) 15\n",
      "7.77384 (4, 10797, 45) 20\n"
     ]
    },
    {
     "name": "stderr",
     "output_type": "stream",
     "text": [
      "[15 / 32] Hs=    0 -529.167172 4405.3 0.0 0.0 0.1 3.1 0.2 293.5 0.0 26.6 2.1 0.2 0.3 0.1 0.0 0.0 3.8 0.2 0.0 0.0 0.1 0.4 0.6 0.1 2.7 4739.4 [1 ; 0]:   0%|          | 0/33 [01:12<?, ?it/s]"
     ]
    },
    {
     "name": "stdout",
     "output_type": "stream",
     "text": [
      "16.4025 (45, 45, 45, 45) 15\n",
      "7.77384 (4, 10797, 45) 20\n"
     ]
    },
    {
     "name": "stderr",
     "output_type": "stream",
     "text": [
      "[16 / 32] Hs=    0 -529.065296 4455.5 0.0 0.0 0.1 3.0 0.2 290.0 0.0 26.6 1.8 0.2 0.3 0.1 0.0 0.0 3.0 0.1 0.0 0.0 0.2 0.3 0.6 0.1 1.9 4784.0 [1 ; 0]:   0%|          | 0/33 [01:17<?, ?it/s]"
     ]
    },
    {
     "name": "stdout",
     "output_type": "stream",
     "text": [
      "16.4025 (45, 45, 45, 45) 15\n",
      "7.77384 (4, 10797, 45) 20\n"
     ]
    },
    {
     "name": "stderr",
     "output_type": "stream",
     "text": [
      "[17 / 32] Hs=    0 -529.165045 4529.9 0.0 0.0 0.1 2.9 0.2 285.1 0.0 26.3 1.9 0.4 0.3 0.1 0.0 0.0 3.1 0.1 0.0 0.0 0.2 0.3 1.7 0.2 2.0 4854.8 [1 ; 0]:   0%|          | 0/33 [01:22<?, ?it/s]"
     ]
    },
    {
     "name": "stdout",
     "output_type": "stream",
     "text": [
      "16.4025 (45, 45, 45, 45) 15\n",
      "7.77384 (4, 10797, 45) 20\n"
     ]
    },
    {
     "name": "stderr",
     "output_type": "stream",
     "text": [
      "[18 / 32] Hs=    0 -529.167060 4513.7 0.3 0.1 0.3 5.0 0.5 287.7 0.1 27.4 2.8 0.3 0.3 0.1 0.0 0.0 3.1 0.2 0.0 0.0 0.3 0.4 0.7 0.2 3.0 4846.5 [1 ; 0]:   0%|          | 0/33 [01:26<?, ?it/s]"
     ]
    },
    {
     "name": "stdout",
     "output_type": "stream",
     "text": [
      "16.4025 (45, 45, 45, 45) 15\n",
      "7.77384 (4, 10797, 45) 20\n"
     ]
    },
    {
     "name": "stderr",
     "output_type": "stream",
     "text": [
      "[19 / 32] Hs=    0 -529.162900 4507.6 0.1 0.0 0.1 3.6 0.3 292.0 0.0 26.8 1.8 0.2 0.3 0.1 0.0 0.0 3.1 0.1 0.0 0.0 0.2 0.3 3.6 0.2 2.3 4842.7 [1 ; 0]:   0%|          | 0/33 [01:31<?, ?it/s]"
     ]
    },
    {
     "name": "stdout",
     "output_type": "stream",
     "text": [
      "16.4025 (45, 45, 45, 45) 15\n",
      "7.77384 (4, 10797, 45) 20\n"
     ]
    },
    {
     "name": "stderr",
     "output_type": "stream",
     "text": [
      "[20 / 32] Hs=    0 -529.167436 4522.9 0.0 0.0 0.1 2.9 0.2 288.1 0.0 26.2 3.3 0.2 0.3 0.1 0.0 0.0 3.1 0.1 0.0 0.0 0.2 0.3 0.5 0.1 1.9 4850.5 [1 ; 0]:   0%|          | 0/33 [01:36<?, ?it/s]"
     ]
    },
    {
     "name": "stdout",
     "output_type": "stream",
     "text": [
      "16.4025 (45, 45, 45, 45) 15\n",
      "7.77384 (4, 10797, 45) 20\n"
     ]
    },
    {
     "name": "stderr",
     "output_type": "stream",
     "text": [
      "[21 / 32] Hs=    0 -529.166232 4370.1 0.0 0.0 0.1 3.2 0.2 275.6 0.0 26.4 1.8 0.2 0.3 0.1 0.0 0.0 3.0 0.1 0.0 0.0 0.2 0.3 2.3 0.2 2.2 4686.3 [1 ; 0]:   0%|          | 0/33 [01:41<?, ?it/s]"
     ]
    },
    {
     "name": "stdout",
     "output_type": "stream",
     "text": [
      "16.4025 (45, 45, 45, 45) 15\n",
      "7.77384 (4, 10797, 45) 20\n"
     ]
    },
    {
     "name": "stderr",
     "output_type": "stream",
     "text": [
      "[22 / 32] Hs=    0 -529.160039 4448.9 0.2 0.0 0.1 3.4 0.3 286.0 0.1 27.1 2.1 0.2 0.3 0.1 0.0 0.0 3.4 0.2 0.0 0.0 0.3 0.4 0.6 0.2 2.8 4776.7 [1 ; 0]:   0%|          | 0/33 [01:46<?, ?it/s]"
     ]
    },
    {
     "name": "stdout",
     "output_type": "stream",
     "text": [
      "16.4025 (45, 45, 45, 45) 15\n",
      "7.77384 (4, 10797, 45) 20\n"
     ]
    },
    {
     "name": "stderr",
     "output_type": "stream",
     "text": [
      "[23 / 32] Hs=    0 -529.165139 4558.1 0.1 0.0 0.1 3.3 0.3 297.7 0.0 27.2 2.0 0.2 0.3 0.1 0.0 0.0 3.3 0.2 0.0 0.0 0.2 0.3 0.6 0.2 2.8 4897.0 [1 ; 0]:   0%|          | 0/33 [01:50<?, ?it/s]"
     ]
    },
    {
     "name": "stdout",
     "output_type": "stream",
     "text": [
      "16.4025 (45, 45, 45, 45) 15\n",
      "7.77384 (4, 10797, 45) 20\n"
     ]
    },
    {
     "name": "stderr",
     "output_type": "stream",
     "text": [
      "[24 / 32] Hs=    0 -529.162077 4416.8 0.1 0.1 0.1 2.9 0.2 297.5 0.0 26.2 2.1 0.2 0.3 0.1 0.0 0.0 3.0 0.1 0.0 0.0 0.2 0.3 0.6 0.1 1.9 4752.8 [1 ; 0]:   0%|          | 0/33 [01:55<?, ?it/s]"
     ]
    },
    {
     "name": "stdout",
     "output_type": "stream",
     "text": [
      "16.4025 (45, 45, 45, 45) 15\n",
      "7.77384 (4, 10797, 45) 20\n"
     ]
    },
    {
     "name": "stderr",
     "output_type": "stream",
     "text": [
      "[25 / 32] Hs=    0 -529.168669 4489.0 0.0 0.0 0.1 3.7 0.2 279.7 0.0 26.5 3.2 0.2 0.3 0.1 0.0 0.0 3.2 0.2 0.0 0.0 0.2 0.3 0.6 0.2 2.4 4810.1 [1 ; 0]:   0%|          | 0/33 [02:00<?, ?it/s]"
     ]
    },
    {
     "name": "stdout",
     "output_type": "stream",
     "text": [
      "16.4025 (45, 45, 45, 45) 15\n",
      "7.77384 (4, 10797, 45) 20\n"
     ]
    },
    {
     "name": "stderr",
     "output_type": "stream",
     "text": [
      "[26 / 32] Hs=    0 -529.160736 4425.4 0.0 0.0 0.1 2.8 0.2 289.6 0.0 26.4 1.8 0.2 0.3 0.1 0.0 0.0 3.2 0.1 0.0 0.0 0.2 0.3 0.6 0.1 2.0 4753.4 [1 ; 0]:   0%|          | 0/33 [02:05<?, ?it/s]"
     ]
    },
    {
     "name": "stdout",
     "output_type": "stream",
     "text": [
      "16.4025 (45, 45, 45, 45) 15\n",
      "7.77384 (4, 10797, 45) 20\n"
     ]
    },
    {
     "name": "stderr",
     "output_type": "stream",
     "text": [
      "[27 / 32] Hs=    0 -529.165877 4564.8 0.6 0.2 0.7 7.8 1.2 307.6 0.2 28.3 4.6 0.4 0.3 0.1 0.0 0.0 3.5 0.2 0.0 0.0 0.3 0.5 1.5 0.9 19.0 4942.7 [1 ; 0]:   0%|          | 0/33 [02:10<?, ?it/s]"
     ]
    },
    {
     "name": "stdout",
     "output_type": "stream",
     "text": [
      "16.4025 (45, 45, 45, 45) 15\n",
      "7.77384 (4, 10797, 45) 20\n"
     ]
    },
    {
     "name": "stderr",
     "output_type": "stream",
     "text": [
      "[28 / 32] Hs=    0 -529.166273 4530.9 0.0 0.0 0.1 3.4 0.2 284.0 0.0 26.7 1.8 0.2 0.3 0.1 0.0 0.0 3.1 0.1 0.0 0.0 0.2 0.3 0.6 0.1 1.9 4854.0 [1 ; 0]:   0%|          | 0/33 [02:15<?, ?it/s] "
     ]
    },
    {
     "name": "stdout",
     "output_type": "stream",
     "text": [
      "16.4025 (45, 45, 45, 45) 15\n",
      "7.77384 (4, 10797, 45) 20\n"
     ]
    },
    {
     "name": "stderr",
     "output_type": "stream",
     "text": [
      "[29 / 32] Hs=    0 -529.162908 4346.7 0.0 0.0 0.1 3.6 0.3 286.7 0.0 26.3 2.7 0.2 0.3 0.1 0.0 0.0 3.0 0.1 0.0 0.0 0.1 0.3 0.7 0.2 2.3 4673.7 [1 ; 0]:   0%|          | 0/33 [02:19<?, ?it/s]"
     ]
    },
    {
     "name": "stdout",
     "output_type": "stream",
     "text": [
      "16.4025 (45, 45, 45, 45) 15\n",
      "7.77384 (4, 10797, 45) 20\n"
     ]
    },
    {
     "name": "stderr",
     "output_type": "stream",
     "text": [
      "[30 / 32] Hs=    0 -529.166964 4423.0 0.0 0.0 0.1 2.9 0.2 286.4 0.0 26.7 1.8 0.2 0.3 0.1 0.0 0.0 3.1 0.1 0.0 0.0 0.2 0.3 0.5 0.1 1.9 4747.9 [1 ; 0]:   0%|          | 0/33 [02:24<?, ?it/s]"
     ]
    },
    {
     "name": "stdout",
     "output_type": "stream",
     "text": [
      "16.4025 (45, 45, 45, 45) 15\n",
      "7.77384 (4, 10797, 45) 20\n"
     ]
    },
    {
     "name": "stderr",
     "output_type": "stream",
     "text": [
      "[31 / 32] Hs=    0 -529.158282 4624.8 0.1 0.0 0.1 3.2 0.3 288.3 0.1 27.2 2.9 0.2 0.3 0.1 0.0 0.0 3.0 0.2 0.0 0.0 0.2 0.3 0.7 0.2 2.8 4955.0 [1 ; 0]:   0%|          | 0/33 [02:29<?, ?it/s]"
     ]
    },
    {
     "name": "stdout",
     "output_type": "stream",
     "text": [
      "16.4025 (45, 45, 45, 45) 15\n",
      "7.77384 (4, 10797, 45) 20\n"
     ]
    },
    {
     "name": "stderr",
     "output_type": "stream",
     "text": [
      "[31 / 32] Hs=    0 -529.158282 4624.8 0.1 0.0 0.1 3.2 0.3 288.3 0.1 27.2 2.9 0.2 0.3 0.1 0.0 0.0 3.0 0.2 0.0 0.0 0.2 0.3 0.7 0.2 2.8 4955.0 [1 ; 0]:   3%|▎         | 1/33 [02:33<1:22:02, 153.82s/it]"
     ]
    },
    {
     "name": "stdout",
     "output_type": "stream",
     "text": [
      "[FC(F)=C(F)C#CC#N]\n",
      "[conformers] 32\n",
      "16.4025 (45, 45, 45, 45) 15\n",
      "7.77384 (4, 10797, 45) 20\n"
     ]
    },
    {
     "name": "stderr",
     "output_type": "stream",
     "text": [
      "[1 / 32] Hs=    0 -536.809169 4371.5 0.0 0.0 0.1 3.1 0.2 245.7 0.0 26.0 2.0 0.2 0.3 0.1 0.0 0.0 3.1 0.1 0.0 0.0 0.2 0.3 0.6 0.1 1.9 4655.5 [2 ; 0]:   3%|▎         | 1/33 [02:38<1:22:02, 153.82s/it] "
     ]
    },
    {
     "name": "stdout",
     "output_type": "stream",
     "text": [
      "16.4025 (45, 45, 45, 45) 15\n",
      "7.77384 (4, 10797, 45) 20\n"
     ]
    },
    {
     "name": "stderr",
     "output_type": "stream",
     "text": [
      "[2 / 32] Hs=    0 -536.942710 4510.1 0.0 0.0 0.1 2.6 0.2 246.0 0.0 26.1 2.2 0.2 0.3 0.1 0.0 0.0 3.1 0.1 0.0 0.0 0.2 0.3 0.5 0.1 2.2 4794.4 [2 ; 0]:   3%|▎         | 1/33 [02:43<1:22:02, 153.82s/it]"
     ]
    },
    {
     "name": "stdout",
     "output_type": "stream",
     "text": [
      "16.4025 (45, 45, 45, 45) 15\n",
      "7.77384 (4, 10797, 45) 20\n"
     ]
    },
    {
     "name": "stderr",
     "output_type": "stream",
     "text": [
      "[3 / 32] Hs=    0 -536.940998 4528.1 0.6 0.2 0.6 9.3 1.5 256.0 0.1 26.8 2.3 0.3 0.3 0.2 0.0 0.0 3.6 0.2 0.0 0.0 0.2 0.5 1.3 0.3 3.6 4836.0 [2 ; 0]:   3%|▎         | 1/33 [02:48<1:22:02, 153.82s/it]"
     ]
    },
    {
     "name": "stdout",
     "output_type": "stream",
     "text": [
      "16.4025 (45, 45, 45, 45) 15\n",
      "7.77384 (4, 10797, 45) 20\n"
     ]
    },
    {
     "name": "stderr",
     "output_type": "stream",
     "text": [
      "[4 / 32] Hs=    0 -536.758399 4475.5 0.0 0.0 0.1 2.3 0.2 256.6 0.1 28.0 2.0 0.2 0.3 0.1 0.0 0.0 3.5 0.2 0.0 0.0 0.2 0.3 0.7 0.1 2.1 4772.5 [2 ; 0]:   3%|▎         | 1/33 [02:53<1:22:02, 153.82s/it]"
     ]
    },
    {
     "name": "stdout",
     "output_type": "stream",
     "text": [
      "16.4025 (45, 45, 45, 45) 15\n",
      "7.77384 (4, 10797, 45) 20\n"
     ]
    },
    {
     "name": "stderr",
     "output_type": "stream",
     "text": [
      "[5 / 32] Hs=    0 -536.937502 4508.4 0.3 0.0 0.1 2.9 0.3 265.4 0.1 26.3 3.8 0.4 0.3 0.1 0.0 0.0 3.0 0.2 0.0 0.0 0.2 0.3 0.8 0.2 3.2 4816.3 [2 ; 0]:   3%|▎         | 1/33 [02:58<1:22:02, 153.82s/it]"
     ]
    },
    {
     "name": "stdout",
     "output_type": "stream",
     "text": [
      "16.4025 (45, 45, 45, 45) 15\n",
      "7.77384 (4, 10797, 45) 20\n"
     ]
    },
    {
     "name": "stderr",
     "output_type": "stream",
     "text": [
      "[6 / 32] Hs=    0 -536.291711 4524.5 0.0 0.0 0.1 2.3 0.2 244.5 0.0 25.9 1.9 0.2 0.3 0.1 0.0 0.0 3.1 0.1 0.0 0.0 0.2 0.3 0.6 0.1 1.9 4806.3 [2 ; 0]:   3%|▎         | 1/33 [03:02<1:22:02, 153.82s/it]"
     ]
    },
    {
     "name": "stdout",
     "output_type": "stream",
     "text": [
      "16.4025 (45, 45, 45, 45) 15\n",
      "7.77384 (4, 10797, 45) 20\n"
     ]
    },
    {
     "name": "stderr",
     "output_type": "stream",
     "text": [
      "[7 / 32] Hs=    0 -536.932350 4413.6 0.0 0.0 0.1 2.3 0.2 237.5 0.0 26.1 1.9 0.2 0.3 0.1 0.0 0.0 2.9 0.1 0.0 0.0 0.2 0.3 0.6 0.1 1.9 4688.4 [2 ; 0]:   3%|▎         | 1/33 [03:07<1:22:02, 153.82s/it]"
     ]
    },
    {
     "name": "stdout",
     "output_type": "stream",
     "text": [
      "16.4025 (45, 45, 45, 45) 15\n",
      "7.77384 (4, 10797, 45) 20\n"
     ]
    },
    {
     "name": "stderr",
     "output_type": "stream",
     "text": [
      "[8 / 32] Hs=    0 -536.936219 4494.3 0.0 0.0 0.1 2.6 0.2 243.7 0.0 26.2 2.0 0.2 0.3 0.1 0.0 0.0 3.1 0.1 0.0 0.0 0.2 0.3 0.6 0.1 2.2 4776.3 [2 ; 0]:   3%|▎         | 1/33 [03:12<1:22:02, 153.82s/it]"
     ]
    },
    {
     "name": "stdout",
     "output_type": "stream",
     "text": [
      "16.4025 (45, 45, 45, 45) 15\n",
      "7.77384 (4, 10797, 45) 20\n"
     ]
    },
    {
     "name": "stderr",
     "output_type": "stream",
     "text": [
      "[9 / 32] Hs=    0 -536.820634 4376.5 0.1 0.0 0.1 2.7 0.3 254.0 0.1 26.2 2.2 0.2 0.3 0.1 0.0 0.0 2.9 0.2 0.0 0.0 0.2 0.3 0.6 0.2 2.9 4670.1 [2 ; 0]:   3%|▎         | 1/33 [03:17<1:22:02, 153.82s/it]"
     ]
    },
    {
     "name": "stdout",
     "output_type": "stream",
     "text": [
      "16.4025 (45, 45, 45, 45) 15\n",
      "7.77384 (4, 10797, 45) 20\n"
     ]
    },
    {
     "name": "stderr",
     "output_type": "stream",
     "text": [
      "[10 / 32] Hs=    0 -536.936382 4485.2 0.0 0.0 0.1 2.4 0.2 254.3 0.0 26.2 2.1 0.2 0.3 0.1 0.0 0.0 3.1 0.2 0.0 0.0 0.2 0.3 0.6 0.1 2.0 4777.6 [2 ; 0]:   3%|▎         | 1/33 [03:21<1:22:02, 153.82s/it]"
     ]
    },
    {
     "name": "stdout",
     "output_type": "stream",
     "text": [
      "16.4025 (45, 45, 45, 45) 15\n",
      "7.77384 (4, 10797, 45) 20\n"
     ]
    },
    {
     "name": "stderr",
     "output_type": "stream",
     "text": [
      "[11 / 32] Hs=    0 -536.740509 4372.6 0.0 0.0 0.1 3.0 0.2 246.3 0.0 26.1 2.3 0.2 0.3 0.1 0.0 0.0 3.0 0.1 0.0 0.0 0.2 0.3 0.6 0.1 1.9 4657.4 [2 ; 0]:   3%|▎         | 1/33 [03:26<1:22:02, 153.82s/it]"
     ]
    },
    {
     "name": "stdout",
     "output_type": "stream",
     "text": [
      "16.4025 (45, 45, 45, 45) 15\n",
      "7.77384 (4, 10797, 45) 20\n"
     ]
    },
    {
     "name": "stderr",
     "output_type": "stream",
     "text": [
      "[12 / 32] Hs=    0 -536.944642 4439.6 0.0 0.0 0.1 2.3 0.2 255.1 0.0 26.0 2.0 0.2 0.3 0.1 0.0 0.0 3.2 0.1 0.0 0.0 0.2 0.3 0.5 0.1 1.9 4732.2 [2 ; 0]:   3%|▎         | 1/33 [03:31<1:22:02, 153.82s/it]"
     ]
    },
    {
     "name": "stdout",
     "output_type": "stream",
     "text": [
      "16.4025 (45, 45, 45, 45) 15\n",
      "7.77384 (4, 10797, 45) 20\n"
     ]
    },
    {
     "name": "stderr",
     "output_type": "stream",
     "text": [
      "[13 / 32] Hs=    0 -530.011964 4453.9 0.0 0.0 0.1 2.3 0.2 241.6 0.0 26.6 1.9 0.2 0.3 0.1 0.0 0.0 3.1 0.1 0.0 0.0 0.2 0.3 0.6 0.2 2.3 4734.0 [2 ; 0]:   3%|▎         | 1/33 [03:35<1:22:02, 153.82s/it]"
     ]
    },
    {
     "name": "stdout",
     "output_type": "stream",
     "text": [
      "16.4025 (45, 45, 45, 45) 15\n",
      "7.77384 (4, 10797, 45) 20\n"
     ]
    },
    {
     "name": "stderr",
     "output_type": "stream",
     "text": [
      "[14 / 32] Hs=    0 -536.912082 4631.9 0.2 0.0 0.1 2.8 0.3 250.2 0.3 27.8 2.2 0.3 0.3 0.1 0.0 0.0 3.5 0.2 0.0 0.0 0.3 0.4 3.0 0.8 18.9 4943.6 [2 ; 0]:   3%|▎         | 1/33 [03:40<1:22:02, 153.82s/it]"
     ]
    },
    {
     "name": "stdout",
     "output_type": "stream",
     "text": [
      "16.4025 (45, 45, 45, 45) 15\n",
      "7.77384 (4, 10797, 45) 20\n"
     ]
    },
    {
     "name": "stderr",
     "output_type": "stream",
     "text": [
      "[15 / 32] Hs=    0 -536.811102 4438.9 0.0 0.0 0.1 2.6 0.2 257.9 0.0 26.0 2.0 0.2 0.3 0.1 0.0 0.0 3.1 0.2 0.0 0.0 0.2 0.3 0.6 0.1 2.2 4735.0 [2 ; 0]:   3%|▎         | 1/33 [03:45<1:22:02, 153.82s/it] "
     ]
    },
    {
     "name": "stdout",
     "output_type": "stream",
     "text": [
      "16.4025 (45, 45, 45, 45) 15\n",
      "7.77384 (4, 10797, 45) 20\n"
     ]
    },
    {
     "name": "stderr",
     "output_type": "stream",
     "text": [
      "[16 / 32] Hs=    0 -532.936762 4385.5 0.0 0.0 0.1 2.3 0.2 238.6 0.0 26.2 1.9 0.2 0.3 0.1 0.0 0.0 2.9 0.1 0.0 0.0 0.2 0.3 1.9 0.2 2.6 4663.6 [2 ; 0]:   3%|▎         | 1/33 [03:50<1:22:02, 153.82s/it]"
     ]
    },
    {
     "name": "stdout",
     "output_type": "stream",
     "text": [
      "16.4025 (45, 45, 45, 45) 15\n",
      "7.77384 (4, 10797, 45) 20\n"
     ]
    },
    {
     "name": "stderr",
     "output_type": "stream",
     "text": [
      "[17 / 32] Hs=    0 -536.664005 4476.5 0.0 0.0 0.1 2.3 0.2 249.7 0.0 26.7 1.8 0.2 0.3 0.1 0.0 0.0 2.8 0.1 0.0 0.0 0.1 0.3 8.4 0.2 1.9 4771.7 [2 ; 0]:   3%|▎         | 1/33 [03:55<1:22:02, 153.82s/it]"
     ]
    },
    {
     "name": "stdout",
     "output_type": "stream",
     "text": [
      "16.4025 (45, 45, 45, 45) 15\n",
      "7.77384 (4, 10797, 45) 20\n"
     ]
    },
    {
     "name": "stderr",
     "output_type": "stream",
     "text": [
      "[18 / 32] Hs=    0 -536.936813 4572.0 0.1 0.1 0.1 2.9 0.3 258.3 0.1 26.5 1.9 0.2 0.3 0.1 0.0 0.0 3.1 0.2 0.0 0.0 0.2 0.4 0.8 0.3 6.6 4874.5 [2 ; 0]:   3%|▎         | 1/33 [03:59<1:22:02, 153.82s/it]"
     ]
    },
    {
     "name": "stdout",
     "output_type": "stream",
     "text": [
      "16.4025 (45, 45, 45, 45) 15\n",
      "7.77384 (4, 10797, 45) 20\n"
     ]
    },
    {
     "name": "stderr",
     "output_type": "stream",
     "text": [
      "[19 / 32] Hs=    0 -536.937190 4342.0 0.1 0.0 0.1 2.3 0.2 241.1 0.2 27.2 2.4 0.3 0.3 0.2 0.0 0.0 3.2 0.2 0.0 0.0 0.2 0.3 0.8 0.3 3.6 4625.0 [2 ; 0]:   3%|▎         | 1/33 [04:04<1:22:02, 153.82s/it]"
     ]
    },
    {
     "name": "stdout",
     "output_type": "stream",
     "text": [
      "16.4025 (45, 45, 45, 45) 15\n",
      "7.77384 (4, 10797, 45) 20\n"
     ]
    },
    {
     "name": "stderr",
     "output_type": "stream",
     "text": [
      "[20 / 32] Hs=    0 -536.836611 4503.2 0.0 0.0 0.1 2.5 0.2 252.6 0.0 26.3 2.1 0.2 0.3 0.1 0.0 0.0 3.2 0.1 0.0 0.0 0.2 0.3 0.6 0.2 2.3 4794.5 [2 ; 0]:   3%|▎         | 1/33 [04:09<1:22:02, 153.82s/it]"
     ]
    },
    {
     "name": "stdout",
     "output_type": "stream",
     "text": [
      "16.4025 (45, 45, 45, 45) 15\n",
      "7.77384 (4, 10797, 45) 20\n"
     ]
    },
    {
     "name": "stderr",
     "output_type": "stream",
     "text": [
      "[21 / 32] Hs=    0 -536.594227 4346.5 0.0 0.0 0.1 2.3 0.2 244.0 0.0 25.8 2.2 0.2 0.3 0.1 0.0 0.0 3.0 0.1 0.0 0.0 0.2 0.3 0.7 0.2 2.6 4628.8 [2 ; 0]:   3%|▎         | 1/33 [04:14<1:22:02, 153.82s/it]"
     ]
    },
    {
     "name": "stdout",
     "output_type": "stream",
     "text": [
      "16.4025 (45, 45, 45, 45) 15\n",
      "7.77384 (4, 10797, 45) 20\n"
     ]
    },
    {
     "name": "stderr",
     "output_type": "stream",
     "text": [
      "[22 / 32] Hs=    0 -535.963292 4391.3 0.0 0.0 0.1 3.3 0.2 245.7 0.0 26.5 2.0 0.2 0.3 0.1 0.0 0.0 3.1 0.1 0.0 0.0 0.2 0.3 0.5 0.1 1.9 4675.9 [2 ; 0]:   3%|▎         | 1/33 [04:18<1:22:02, 153.82s/it]"
     ]
    },
    {
     "name": "stdout",
     "output_type": "stream",
     "text": [
      "16.4025 (45, 45, 45, 45) 15\n",
      "7.77384 (4, 10797, 45) 20\n"
     ]
    },
    {
     "name": "stderr",
     "output_type": "stream",
     "text": [
      "[23 / 32] Hs=    0 -536.775963 4426.4 0.0 0.0 0.1 2.3 0.2 245.3 0.0 25.9 3.5 0.2 0.3 0.1 0.0 0.0 3.0 0.1 0.0 0.0 0.1 0.3 0.6 0.1 1.9 4710.4 [2 ; 0]:   3%|▎         | 1/33 [04:23<1:22:02, 153.82s/it]"
     ]
    },
    {
     "name": "stdout",
     "output_type": "stream",
     "text": [
      "16.4025 (45, 45, 45, 45) 15\n",
      "7.77384 (4, 10797, 45) 20\n"
     ]
    },
    {
     "name": "stderr",
     "output_type": "stream",
     "text": [
      "[24 / 32] Hs=    0 -536.040485 4346.9 0.0 0.1 0.1 2.5 0.2 249.0 0.0 26.0 1.9 0.2 0.3 0.1 0.0 0.0 3.0 0.1 0.0 0.0 0.2 0.3 0.6 0.1 2.0 4633.6 [2 ; 0]:   3%|▎         | 1/33 [04:28<1:22:02, 153.82s/it]"
     ]
    },
    {
     "name": "stdout",
     "output_type": "stream",
     "text": [
      "16.4025 (45, 45, 45, 45) 15\n",
      "7.77384 (4, 10797, 45) 20\n"
     ]
    },
    {
     "name": "stderr",
     "output_type": "stream",
     "text": [
      "[25 / 32] Hs=    0 -536.936115 4507.2 0.1 0.0 0.1 2.7 0.3 255.4 0.1 26.3 2.3 0.2 0.3 0.1 0.0 0.0 3.1 0.2 0.0 0.0 0.2 0.3 0.6 0.2 3.0 4802.7 [2 ; 0]:   3%|▎         | 1/33 [04:32<1:22:02, 153.82s/it]"
     ]
    },
    {
     "name": "stdout",
     "output_type": "stream",
     "text": [
      "16.4025 (45, 45, 45, 45) 15\n",
      "7.77384 (4, 10797, 45) 20\n"
     ]
    },
    {
     "name": "stderr",
     "output_type": "stream",
     "text": [
      "[26 / 32] Hs=    0 -536.928774 4574.2 0.0 0.0 0.1 2.3 0.2 237.3 0.0 26.3 2.1 0.2 0.3 0.1 0.0 0.0 3.2 0.1 0.0 0.0 0.2 0.3 0.5 0.1 2.1 4849.6 [2 ; 0]:   3%|▎         | 1/33 [04:37<1:22:02, 153.82s/it]"
     ]
    },
    {
     "name": "stdout",
     "output_type": "stream",
     "text": [
      "16.4025 (45, 45, 45, 45) 15\n",
      "7.77384 (4, 10797, 45) 20\n"
     ]
    },
    {
     "name": "stderr",
     "output_type": "stream",
     "text": [
      "[27 / 32] Hs=    0 -535.228799 4512.6 0.0 0.1 0.1 2.4 0.2 239.8 0.0 26.1 2.1 0.2 0.3 0.1 0.0 0.0 2.9 0.1 0.0 0.0 0.1 0.3 9.0 0.2 2.3 4798.9 [2 ; 0]:   3%|▎         | 1/33 [04:42<1:22:02, 153.82s/it]"
     ]
    },
    {
     "name": "stdout",
     "output_type": "stream",
     "text": [
      "16.4025 (45, 45, 45, 45) 15\n",
      "7.77384 (4, 10797, 45) 20\n"
     ]
    },
    {
     "name": "stderr",
     "output_type": "stream",
     "text": [
      "[28 / 32] Hs=    0 -536.938417 4407.1 0.0 0.0 0.1 3.0 0.2 245.8 0.0 27.1 1.9 0.2 0.3 0.1 0.0 0.0 3.2 0.1 0.0 0.0 0.2 0.3 1.5 0.2 2.4 4693.7 [2 ; 0]:   3%|▎         | 1/33 [04:47<1:22:02, 153.82s/it]"
     ]
    },
    {
     "name": "stdout",
     "output_type": "stream",
     "text": [
      "16.4025 (45, 45, 45, 45) 15\n",
      "7.77384 (4, 10797, 45) 20\n"
     ]
    },
    {
     "name": "stderr",
     "output_type": "stream",
     "text": [
      "[29 / 32] Hs=    0 -536.466063 4477.6 0.0 0.0 0.1 2.3 0.2 261.8 0.0 26.8 2.2 0.3 0.3 0.2 0.0 0.0 4.0 0.2 0.0 0.0 0.2 0.3 7.1 0.2 1.9 4785.7 [2 ; 0]:   3%|▎         | 1/33 [04:51<1:22:02, 153.82s/it]"
     ]
    },
    {
     "name": "stdout",
     "output_type": "stream",
     "text": [
      "16.4025 (45, 45, 45, 45) 15\n",
      "7.77384 (4, 10797, 45) 20\n"
     ]
    },
    {
     "name": "stderr",
     "output_type": "stream",
     "text": [
      "[30 / 32] Hs=    0 -536.937641 4414.3 0.1 0.0 0.1 2.8 0.3 271.3 0.3 27.4 2.1 0.3 0.3 0.2 0.0 0.1 3.5 0.2 0.0 0.0 0.3 0.4 1.4 0.7 19.7 4745.8 [2 ; 0]:   3%|▎         | 1/33 [04:56<1:22:02, 153.82s/it]"
     ]
    },
    {
     "name": "stdout",
     "output_type": "stream",
     "text": [
      "16.4025 (45, 45, 45, 45) 15\n",
      "7.77384 (4, 10797, 45) 20\n"
     ]
    },
    {
     "name": "stderr",
     "output_type": "stream",
     "text": [
      "[31 / 32] Hs=    0 -536.938760 4382.0 0.0 0.0 0.1 3.1 0.4 237.0 0.1 26.6 2.6 0.2 0.3 0.1 0.0 0.0 3.2 0.2 0.0 0.0 0.2 0.3 0.6 0.2 2.3 4659.5 [2 ; 0]:   3%|▎         | 1/33 [05:01<1:22:02, 153.82s/it] "
     ]
    },
    {
     "name": "stdout",
     "output_type": "stream",
     "text": [
      "16.4025 (45, 45, 45, 45) 15\n",
      "7.77384 (4, 10797, 45) 20\n"
     ]
    },
    {
     "name": "stderr",
     "output_type": "stream",
     "text": [
      "[31 / 32] Hs=    0 -536.938760 4382.0 0.0 0.0 0.1 3.1 0.4 237.0 0.1 26.6 2.6 0.2 0.3 0.1 0.0 0.0 3.2 0.2 0.0 0.0 0.2 0.3 0.6 0.2 2.3 4659.5 [2 ; 0]:   6%|▌         | 2/33 [05:05<1:18:55, 152.76s/it]"
     ]
    },
    {
     "name": "stdout",
     "output_type": "stream",
     "text": [
      "[Fc1nnc(=O)oc1F]\n",
      "[conformers] 32\n",
      "16.4025 (45, 45, 45, 45) 15\n",
      "7.77384 (4, 10797, 45) 20\n"
     ]
    },
    {
     "name": "stderr",
     "output_type": "stream",
     "text": [
      "[1 / 32] Hs=    0 -565.726994 4518.0 0.1 0.0 0.1 2.9 0.2 299.5 0.0 26.4 1.9 0.2 0.3 0.1 0.0 0.0 3.1 0.1 0.0 0.0 0.2 0.3 0.6 0.1 2.6 4856.7 [3 ; 0]:   6%|▌         | 2/33 [05:11<1:18:55, 152.76s/it] "
     ]
    },
    {
     "name": "stdout",
     "output_type": "stream",
     "text": [
      "16.4025 (45, 45, 45, 45) 15\n",
      "7.77384 (4, 10797, 45) 20\n"
     ]
    },
    {
     "name": "stderr",
     "output_type": "stream",
     "text": [
      "[2 / 32] Hs=    0 -565.719773 4432.5 0.5 0.0 0.1 3.4 0.3 304.2 0.1 26.6 1.9 0.2 0.3 0.1 0.0 0.0 3.2 0.2 0.0 0.0 0.2 0.3 0.7 0.2 2.9 4777.9 [3 ; 0]:   6%|▌         | 2/33 [05:15<1:18:55, 152.76s/it]"
     ]
    },
    {
     "name": "stdout",
     "output_type": "stream",
     "text": [
      "16.4025 (45, 45, 45, 45) 15\n",
      "7.77384 (4, 10797, 45) 20\n"
     ]
    },
    {
     "name": "stderr",
     "output_type": "stream",
     "text": [
      "[3 / 32] Hs=    0 -565.720571 4430.3 0.0 0.1 0.1 4.1 0.3 302.0 0.1 26.6 1.9 0.2 0.3 0.1 0.0 0.0 3.5 0.2 0.0 0.0 0.2 0.3 0.6 0.1 2.5 4773.5 [3 ; 0]:   6%|▌         | 2/33 [05:20<1:18:55, 152.76s/it]"
     ]
    },
    {
     "name": "stdout",
     "output_type": "stream",
     "text": [
      "16.4025 (45, 45, 45, 45) 15\n",
      "7.77384 (4, 10797, 45) 20\n"
     ]
    },
    {
     "name": "stderr",
     "output_type": "stream",
     "text": [
      "[4 / 32] Hs=    0 -565.718976 4599.4 0.1 0.1 0.2 4.3 0.4 291.6 0.1 26.6 2.2 0.2 0.3 0.1 0.0 0.0 3.1 0.1 0.0 0.0 0.2 0.3 0.9 0.3 4.1 4934.6 [3 ; 0]:   6%|▌         | 2/33 [05:25<1:18:55, 152.76s/it]"
     ]
    },
    {
     "name": "stdout",
     "output_type": "stream",
     "text": [
      "16.4025 (45, 45, 45, 45) 15\n",
      "7.77384 (4, 10797, 45) 20\n"
     ]
    },
    {
     "name": "stderr",
     "output_type": "stream",
     "text": [
      "[5 / 32] Hs=    0 -565.721439 4440.9 0.0 0.0 0.1 2.9 0.2 287.1 0.0 26.7 2.1 0.2 0.3 0.1 0.0 0.0 3.0 0.1 0.0 0.0 0.1 0.3 0.5 0.1 1.9 4766.6 [3 ; 0]:   6%|▌         | 2/33 [05:30<1:18:55, 152.76s/it]"
     ]
    },
    {
     "name": "stdout",
     "output_type": "stream",
     "text": [
      "16.4025 (45, 45, 45, 45) 15\n",
      "7.77384 (4, 10797, 45) 20\n"
     ]
    },
    {
     "name": "stderr",
     "output_type": "stream",
     "text": [
      "[6 / 32] Hs=    0 -565.727185 4498.1 0.0 0.0 0.1 2.8 0.2 295.0 0.0 26.9 2.8 0.2 0.3 0.1 0.0 0.0 3.2 0.2 0.0 0.0 0.2 0.3 1.5 0.2 1.9 4834.0 [3 ; 0]:   6%|▌         | 2/33 [05:35<1:18:55, 152.76s/it]"
     ]
    },
    {
     "name": "stdout",
     "output_type": "stream",
     "text": [
      "16.4025 (45, 45, 45, 45) 15\n",
      "7.77384 (4, 10797, 45) 20\n"
     ]
    },
    {
     "name": "stderr",
     "output_type": "stream",
     "text": [
      "[7 / 32] Hs=    0 -565.718886 4396.0 0.0 0.0 0.1 2.9 0.2 289.1 0.0 26.5 3.9 0.2 0.3 0.1 0.0 0.0 3.0 0.1 0.0 0.0 0.2 0.3 0.5 0.1 1.9 4725.4 [3 ; 0]:   6%|▌         | 2/33 [05:39<1:18:55, 152.76s/it]"
     ]
    },
    {
     "name": "stdout",
     "output_type": "stream",
     "text": [
      "16.4025 (45, 45, 45, 45) 15\n",
      "7.77384 (4, 10797, 45) 20\n"
     ]
    },
    {
     "name": "stderr",
     "output_type": "stream",
     "text": [
      "[8 / 32] Hs=    0 -565.730112 4577.8 0.2 0.0 0.1 3.4 0.3 301.8 0.1 26.8 2.2 0.2 0.3 0.1 0.0 0.0 3.2 0.2 0.0 0.0 0.2 0.3 0.6 0.2 3.0 4921.0 [3 ; 0]:   6%|▌         | 2/33 [05:44<1:18:55, 152.76s/it]"
     ]
    },
    {
     "name": "stdout",
     "output_type": "stream",
     "text": [
      "16.4025 (45, 45, 45, 45) 15\n",
      "7.77384 (4, 10797, 45) 20\n"
     ]
    },
    {
     "name": "stderr",
     "output_type": "stream",
     "text": [
      "[9 / 32] Hs=    0 -565.723256 4597.4 0.3 0.1 0.2 4.9 0.5 284.1 0.1 26.7 2.0 0.2 0.3 0.1 0.0 0.0 3.1 0.2 0.0 0.0 0.2 0.3 0.7 0.2 7.0 4928.6 [3 ; 0]:   6%|▌         | 2/33 [05:49<1:18:55, 152.76s/it]"
     ]
    },
    {
     "name": "stdout",
     "output_type": "stream",
     "text": [
      "16.4025 (45, 45, 45, 45) 15\n",
      "7.77384 (4, 10797, 45) 20\n"
     ]
    },
    {
     "name": "stderr",
     "output_type": "stream",
     "text": [
      "[10 / 32] Hs=    0 -565.721880 4456.5 0.1 0.0 0.1 3.7 0.3 292.7 0.0 26.4 1.9 0.2 0.3 0.1 0.0 0.0 2.8 0.1 0.0 0.0 0.2 0.3 1.6 0.2 1.9 4789.4 [3 ; 0]:   6%|▌         | 2/33 [05:54<1:18:55, 152.76s/it]"
     ]
    },
    {
     "name": "stdout",
     "output_type": "stream",
     "text": [
      "16.4025 (45, 45, 45, 45) 15\n",
      "7.77384 (4, 10797, 45) 20\n"
     ]
    },
    {
     "name": "stderr",
     "output_type": "stream",
     "text": [
      "[11 / 32] Hs=    0 -565.722712 4394.6 0.0 0.0 0.1 3.1 0.2 299.4 0.0 26.9 1.9 0.2 0.3 0.1 0.0 0.0 3.6 0.2 0.0 0.0 0.1 0.4 0.7 0.1 2.1 4734.0 [3 ; 0]:   6%|▌         | 2/33 [05:59<1:18:55, 152.76s/it]"
     ]
    },
    {
     "name": "stdout",
     "output_type": "stream",
     "text": [
      "16.4025 (45, 45, 45, 45) 15\n",
      "7.77384 (4, 10797, 45) 20\n"
     ]
    },
    {
     "name": "stderr",
     "output_type": "stream",
     "text": [
      "[12 / 32] Hs=    0 -565.721522 4541.1 0.2 0.0 0.1 3.3 0.3 294.6 0.1 26.5 2.3 0.2 0.3 0.1 0.0 0.0 3.0 0.2 0.0 0.0 0.2 0.3 2.3 0.3 3.4 4878.8 [3 ; 0]:   6%|▌         | 2/33 [06:04<1:18:55, 152.76s/it]"
     ]
    },
    {
     "name": "stdout",
     "output_type": "stream",
     "text": [
      "16.4025 (45, 45, 45, 45) 15\n",
      "7.77384 (4, 10797, 45) 20\n"
     ]
    },
    {
     "name": "stderr",
     "output_type": "stream",
     "text": [
      "[13 / 32] Hs=    0 -565.728135 4463.6 0.0 0.0 0.1 3.0 0.2 280.4 0.1 27.1 1.8 0.2 0.3 0.1 0.0 0.0 3.2 0.1 0.0 0.0 0.4 0.3 0.5 0.4 2.4 4784.2 [3 ; 0]:   6%|▌         | 2/33 [06:08<1:18:55, 152.76s/it]"
     ]
    },
    {
     "name": "stdout",
     "output_type": "stream",
     "text": [
      "16.4025 (45, 45, 45, 45) 15\n",
      "7.77384 (4, 10797, 45) 20\n"
     ]
    },
    {
     "name": "stderr",
     "output_type": "stream",
     "text": [
      "[14 / 32] Hs=    0 -565.722583 4435.5 0.0 0.0 0.1 2.9 0.2 282.1 0.0 27.1 2.2 0.4 0.3 0.1 0.0 0.0 3.8 0.2 0.0 0.0 0.2 0.4 1.9 0.1 1.9 4759.4 [3 ; 0]:   6%|▌         | 2/33 [06:13<1:18:55, 152.76s/it]"
     ]
    },
    {
     "name": "stdout",
     "output_type": "stream",
     "text": [
      "16.4025 (45, 45, 45, 45) 15\n",
      "7.77384 (4, 10797, 45) 20\n"
     ]
    },
    {
     "name": "stderr",
     "output_type": "stream",
     "text": [
      "[15 / 32] Hs=    0 -565.721041 4517.8 0.0 0.0 0.1 3.2 0.2 294.8 0.0 26.3 1.9 0.2 0.3 0.1 0.0 0.0 3.2 0.1 0.0 0.0 0.2 0.3 0.5 0.1 2.2 4851.5 [3 ; 0]:   6%|▌         | 2/33 [06:18<1:18:55, 152.76s/it]"
     ]
    },
    {
     "name": "stdout",
     "output_type": "stream",
     "text": [
      "16.4025 (45, 45, 45, 45) 15\n",
      "7.77384 (4, 10797, 45) 20\n"
     ]
    },
    {
     "name": "stderr",
     "output_type": "stream",
     "text": [
      "[16 / 32] Hs=    0 -565.725160 4588.8 0.0 0.0 0.1 2.8 0.2 306.2 0.0 26.3 1.9 0.2 0.3 0.1 0.0 0.0 3.6 0.2 0.0 0.0 0.2 0.3 0.8 0.2 2.1 4934.3 [3 ; 0]:   6%|▌         | 2/33 [06:23<1:18:55, 152.76s/it]"
     ]
    },
    {
     "name": "stdout",
     "output_type": "stream",
     "text": [
      "16.4025 (45, 45, 45, 45) 15\n",
      "7.77384 (4, 10797, 45) 20\n"
     ]
    },
    {
     "name": "stderr",
     "output_type": "stream",
     "text": [
      "[17 / 32] Hs=    0 -565.727054 4462.1 0.3 0.0 0.6 4.5 0.3 289.8 0.1 27.0 2.2 0.2 0.3 0.1 0.0 0.0 3.1 0.2 0.0 0.0 0.1 0.3 2.3 0.3 3.3 4797.1 [3 ; 0]:   6%|▌         | 2/33 [06:28<1:18:55, 152.76s/it]"
     ]
    },
    {
     "name": "stdout",
     "output_type": "stream",
     "text": [
      "16.4025 (45, 45, 45, 45) 15\n",
      "7.77384 (4, 10797, 45) 20\n"
     ]
    },
    {
     "name": "stderr",
     "output_type": "stream",
     "text": [
      "[18 / 32] Hs=    0 -565.722420 4539.1 0.0 0.0 0.1 2.9 0.2 297.4 0.0 27.3 1.8 0.2 0.3 0.1 0.0 0.0 3.0 0.1 0.0 0.0 0.1 0.3 1.8 0.2 1.9 4876.8 [3 ; 0]:   6%|▌         | 2/33 [06:33<1:18:55, 152.76s/it]"
     ]
    },
    {
     "name": "stdout",
     "output_type": "stream",
     "text": [
      "16.4025 (45, 45, 45, 45) 15\n",
      "7.77384 (4, 10797, 45) 20\n"
     ]
    },
    {
     "name": "stderr",
     "output_type": "stream",
     "text": [
      "[19 / 32] Hs=    0 -565.726024 4437.0 0.0 0.0 0.1 2.9 0.2 288.4 0.0 26.3 1.9 0.2 0.3 0.1 0.0 0.0 3.0 0.1 0.0 0.0 0.1 0.3 0.7 0.2 2.3 4764.1 [3 ; 0]:   6%|▌         | 2/33 [06:37<1:18:55, 152.76s/it]"
     ]
    },
    {
     "name": "stdout",
     "output_type": "stream",
     "text": [
      "16.4025 (45, 45, 45, 45) 15\n",
      "7.77384 (4, 10797, 45) 20\n"
     ]
    },
    {
     "name": "stderr",
     "output_type": "stream",
     "text": [
      "[20 / 32] Hs=    0 -565.727040 4490.2 0.0 0.0 0.1 2.9 0.2 290.1 0.1 29.5 2.0 0.2 0.3 0.1 0.0 0.0 3.1 0.2 0.0 0.0 0.2 0.3 2.4 0.2 2.0 4824.1 [3 ; 0]:   6%|▌         | 2/33 [06:42<1:18:55, 152.76s/it]"
     ]
    },
    {
     "name": "stdout",
     "output_type": "stream",
     "text": [
      "16.4025 (45, 45, 45, 45) 15\n",
      "7.77384 (4, 10797, 45) 20\n"
     ]
    },
    {
     "name": "stderr",
     "output_type": "stream",
     "text": [
      "[21 / 32] Hs=    0 -565.721243 4618.0 0.2 0.0 0.1 4.1 0.3 288.5 0.1 26.6 2.0 0.4 0.3 0.1 0.0 0.0 3.2 0.2 0.0 0.0 0.2 0.3 0.7 0.2 3.2 4948.7 [3 ; 0]:   6%|▌         | 2/33 [06:47<1:18:55, 152.76s/it]"
     ]
    },
    {
     "name": "stdout",
     "output_type": "stream",
     "text": [
      "16.4025 (45, 45, 45, 45) 15\n",
      "7.77384 (4, 10797, 45) 20\n"
     ]
    },
    {
     "name": "stderr",
     "output_type": "stream",
     "text": [
      "[22 / 32] Hs=    0 -565.719626 4424.9 0.1 0.0 0.2 4.8 0.4 294.5 0.1 26.6 2.2 0.2 0.3 0.1 0.0 0.0 2.9 0.1 0.0 0.0 0.2 0.3 0.7 0.1 2.4 4761.1 [3 ; 0]:   6%|▌         | 2/33 [06:52<1:18:55, 152.76s/it]"
     ]
    },
    {
     "name": "stdout",
     "output_type": "stream",
     "text": [
      "16.4025 (45, 45, 45, 45) 15\n",
      "7.77384 (4, 10797, 45) 20\n"
     ]
    },
    {
     "name": "stderr",
     "output_type": "stream",
     "text": [
      "[23 / 32] Hs=    0 -565.723593 4406.2 0.2 0.0 0.1 3.0 0.2 296.9 0.2 27.2 2.3 0.3 0.3 0.1 0.0 0.0 3.6 0.2 0.0 0.0 0.2 0.3 0.6 0.4 3.8 4746.1 [3 ; 0]:   6%|▌         | 2/33 [06:57<1:18:55, 152.76s/it]"
     ]
    },
    {
     "name": "stdout",
     "output_type": "stream",
     "text": [
      "16.4025 (45, 45, 45, 45) 15\n",
      "7.77384 (4, 10797, 45) 20\n"
     ]
    },
    {
     "name": "stderr",
     "output_type": "stream",
     "text": [
      "[24 / 32] Hs=    0 -565.715495 4524.6 0.0 0.0 0.1 2.9 0.2 283.2 0.0 26.4 1.9 0.2 0.3 0.1 0.0 0.0 3.0 0.1 0.0 0.0 0.1 0.3 0.6 0.1 1.9 4846.0 [3 ; 0]:   6%|▌         | 2/33 [07:02<1:18:55, 152.76s/it]"
     ]
    },
    {
     "name": "stdout",
     "output_type": "stream",
     "text": [
      "16.4025 (45, 45, 45, 45) 15\n",
      "7.77384 (4, 10797, 45) 20\n"
     ]
    },
    {
     "name": "stderr",
     "output_type": "stream",
     "text": [
      "[25 / 32] Hs=    0 -565.721124 4363.0 0.0 0.0 0.1 2.9 0.2 280.9 0.0 26.3 2.0 0.2 0.3 0.1 0.0 0.0 3.1 0.1 0.0 0.0 0.1 0.3 1.7 0.1 1.9 4683.3 [3 ; 0]:   6%|▌         | 2/33 [07:06<1:18:55, 152.76s/it]"
     ]
    },
    {
     "name": "stdout",
     "output_type": "stream",
     "text": [
      "16.4025 (45, 45, 45, 45) 15\n",
      "7.77384 (4, 10797, 45) 20\n"
     ]
    },
    {
     "name": "stderr",
     "output_type": "stream",
     "text": [
      "[26 / 32] Hs=    0 -565.725898 4367.5 0.0 0.0 0.1 2.8 0.2 299.6 0.0 26.2 1.9 0.2 0.3 0.1 0.0 0.0 3.1 0.1 0.0 0.0 0.1 0.3 2.2 0.2 2.3 4707.2 [3 ; 0]:   6%|▌         | 2/33 [07:11<1:18:55, 152.76s/it]"
     ]
    },
    {
     "name": "stdout",
     "output_type": "stream",
     "text": [
      "16.4025 (45, 45, 45, 45) 15\n",
      "7.77384 (4, 10797, 45) 20\n"
     ]
    },
    {
     "name": "stderr",
     "output_type": "stream",
     "text": [
      "[27 / 32] Hs=    0 -565.718316 4325.2 0.0 0.0 0.1 2.9 0.2 292.9 0.0 26.3 1.9 0.2 0.3 0.1 0.0 0.0 3.0 0.1 0.0 0.0 0.1 0.3 0.7 0.2 2.3 4656.8 [3 ; 0]:   6%|▌         | 2/33 [07:16<1:18:55, 152.76s/it]"
     ]
    },
    {
     "name": "stdout",
     "output_type": "stream",
     "text": [
      "16.4025 (45, 45, 45, 45) 15\n",
      "7.77384 (4, 10797, 45) 20\n"
     ]
    },
    {
     "name": "stderr",
     "output_type": "stream",
     "text": [
      "[28 / 32] Hs=    0 -565.720697 4544.9 0.4 0.0 0.3 6.6 0.8 303.6 0.1 26.8 2.8 0.2 0.3 0.1 0.0 0.0 3.1 0.2 0.0 0.0 0.2 0.3 9.2 0.3 5.1 4905.3 [3 ; 0]:   6%|▌         | 2/33 [07:21<1:18:55, 152.76s/it]"
     ]
    },
    {
     "name": "stdout",
     "output_type": "stream",
     "text": [
      "16.4025 (45, 45, 45, 45) 15\n",
      "7.77384 (4, 10797, 45) 20\n"
     ]
    },
    {
     "name": "stderr",
     "output_type": "stream",
     "text": [
      "[29 / 32] Hs=    0 -565.719833 4366.7 0.0 0.0 0.1 2.9 0.2 297.5 0.0 26.5 3.0 0.2 0.3 0.1 0.0 0.0 3.0 0.1 0.0 0.0 0.2 0.3 0.7 0.2 2.5 4704.5 [3 ; 0]:   6%|▌         | 2/33 [07:25<1:18:55, 152.76s/it]"
     ]
    },
    {
     "name": "stdout",
     "output_type": "stream",
     "text": [
      "16.4025 (45, 45, 45, 45) 15\n",
      "7.77384 (4, 10797, 45) 20\n"
     ]
    },
    {
     "name": "stderr",
     "output_type": "stream",
     "text": [
      "[30 / 32] Hs=    0 -565.722759 4556.7 0.1 0.0 0.2 3.7 0.3 296.8 0.3 28.0 3.0 0.3 0.3 0.1 0.0 0.0 3.7 0.3 0.0 0.0 0.2 0.4 1.5 0.9 18.5 4915.3 [3 ; 0]:   6%|▌         | 2/33 [07:30<1:18:55, 152.76s/it]"
     ]
    },
    {
     "name": "stdout",
     "output_type": "stream",
     "text": [
      "16.4025 (45, 45, 45, 45) 15\n",
      "7.77384 (4, 10797, 45) 20\n"
     ]
    },
    {
     "name": "stderr",
     "output_type": "stream",
     "text": [
      "[31 / 32] Hs=    0 -565.723980 4363.6 0.0 0.0 0.1 2.8 0.2 296.3 0.0 26.2 2.0 0.2 0.3 0.1 0.0 0.0 3.0 0.2 0.0 0.0 0.2 0.3 0.6 0.1 2.0 4698.2 [3 ; 0]:   6%|▌         | 2/33 [07:35<1:18:55, 152.76s/it] "
     ]
    },
    {
     "name": "stdout",
     "output_type": "stream",
     "text": [
      "16.4025 (45, 45, 45, 45) 15\n",
      "7.77384 (4, 10797, 45) 20\n"
     ]
    },
    {
     "name": "stderr",
     "output_type": "stream",
     "text": [
      "[31 / 32] Hs=    0 -565.723980 4363.6 0.0 0.0 0.1 2.8 0.2 296.3 0.0 26.2 2.0 0.2 0.3 0.1 0.0 0.0 3.0 0.2 0.0 0.0 0.2 0.3 0.6 0.1 2.0 4698.2 [3 ; 0]:   9%|▉         | 3/33 [07:39<1:16:38, 153.28s/it]"
     ]
    },
    {
     "name": "stdout",
     "output_type": "stream",
     "text": [
      "[Fc1nonc(F)c1=O]\n",
      "[conformers] 32\n",
      "16.4025 (45, 45, 45, 45) 15\n",
      "7.77384 (4, 10797, 45) 20\n"
     ]
    },
    {
     "name": "stderr",
     "output_type": "stream",
     "text": [
      "[1 / 32] Hs=    0 -565.667420 4659.5 0.1 0.1 0.1 3.4 0.3 316.4 0.1 27.0 1.9 0.2 0.3 0.1 0.0 0.0 3.1 0.2 0.0 0.0 0.2 0.3 0.8 0.2 5.3 5019.6 [4 ; 0]:   9%|▉         | 3/33 [07:45<1:16:38, 153.28s/it] "
     ]
    },
    {
     "name": "stdout",
     "output_type": "stream",
     "text": [
      "16.4025 (45, 45, 45, 45) 15\n",
      "7.77384 (4, 10797, 45) 20\n"
     ]
    },
    {
     "name": "stderr",
     "output_type": "stream",
     "text": [
      "[2 / 32] Hs=    0 -565.664764 4427.5 0.0 0.0 0.1 3.0 0.2 300.2 0.1 26.4 2.1 0.2 0.3 0.1 0.0 0.0 3.4 0.2 0.0 0.0 0.2 0.3 0.5 0.1 2.2 4767.1 [4 ; 0]:   9%|▉         | 3/33 [07:49<1:16:38, 153.28s/it]"
     ]
    },
    {
     "name": "stdout",
     "output_type": "stream",
     "text": [
      "16.4025 (45, 45, 45, 45) 15\n",
      "7.77384 (4, 10797, 45) 20\n"
     ]
    },
    {
     "name": "stderr",
     "output_type": "stream",
     "text": [
      "[3 / 32] Hs=    0 -565.673967 4344.3 0.0 0.0 0.1 3.2 0.2 297.6 0.0 26.3 1.8 0.2 0.3 0.1 0.0 0.0 2.9 0.1 0.0 0.0 0.2 0.3 0.6 0.1 2.2 4680.5 [4 ; 0]:   9%|▉         | 3/33 [07:54<1:16:38, 153.28s/it]"
     ]
    },
    {
     "name": "stdout",
     "output_type": "stream",
     "text": [
      "16.4025 (45, 45, 45, 45) 15\n",
      "7.77384 (4, 10797, 45) 20\n"
     ]
    },
    {
     "name": "stderr",
     "output_type": "stream",
     "text": [
      "[4 / 32] Hs=    0 -565.663056 4661.6 0.1 0.0 0.1 4.1 0.3 302.8 0.1 27.0 2.2 0.2 0.3 0.1 0.0 0.0 3.1 0.2 0.0 0.0 0.2 0.3 0.6 0.2 2.9 5006.4 [4 ; 0]:   9%|▉         | 3/33 [07:59<1:16:38, 153.28s/it]"
     ]
    },
    {
     "name": "stdout",
     "output_type": "stream",
     "text": [
      "16.4025 (45, 45, 45, 45) 15\n",
      "7.77384 (4, 10797, 45) 20\n"
     ]
    },
    {
     "name": "stderr",
     "output_type": "stream",
     "text": [
      "[5 / 32] Hs=    0 -565.668504 4378.5 0.0 0.0 0.1 2.9 0.2 308.3 0.0 25.9 2.0 0.2 0.3 0.1 0.0 0.0 3.0 0.1 0.0 0.0 0.2 0.3 1.9 0.2 2.1 4726.3 [4 ; 0]:   9%|▉         | 3/33 [08:04<1:16:38, 153.28s/it]"
     ]
    },
    {
     "name": "stdout",
     "output_type": "stream",
     "text": [
      "16.4025 (45, 45, 45, 45) 15\n",
      "7.77384 (4, 10797, 45) 20\n"
     ]
    },
    {
     "name": "stderr",
     "output_type": "stream",
     "text": [
      "[6 / 32] Hs=    0 -565.655931 4512.7 0.1 0.0 0.1 4.1 0.3 309.3 0.0 26.8 2.2 0.2 0.3 0.1 0.0 0.0 3.2 0.2 0.0 0.0 0.2 0.3 0.7 0.2 3.3 4864.3 [4 ; 0]:   9%|▉         | 3/33 [08:09<1:16:38, 153.28s/it]"
     ]
    },
    {
     "name": "stdout",
     "output_type": "stream",
     "text": [
      "16.4025 (45, 45, 45, 45) 15\n",
      "7.77384 (4, 10797, 45) 20\n"
     ]
    },
    {
     "name": "stderr",
     "output_type": "stream",
     "text": [
      "[7 / 32] Hs=    0 -565.672547 4474.5 0.0 0.0 0.1 2.9 0.2 309.8 0.0 26.8 1.9 0.2 0.3 0.1 0.0 0.0 3.1 0.1 0.0 0.0 0.2 0.3 0.5 0.1 1.9 4823.0 [4 ; 0]:   9%|▉         | 3/33 [08:14<1:16:38, 153.28s/it]"
     ]
    },
    {
     "name": "stdout",
     "output_type": "stream",
     "text": [
      "16.4025 (45, 45, 45, 45) 15\n",
      "7.77384 (4, 10797, 45) 20\n"
     ]
    },
    {
     "name": "stderr",
     "output_type": "stream",
     "text": [
      "[8 / 32] Hs=    0 -565.663711 4368.7 0.0 0.0 0.1 2.9 0.2 291.7 0.0 26.3 1.9 0.2 0.3 0.1 0.0 0.0 3.0 0.2 0.0 0.0 0.1 0.3 0.5 0.1 1.9 4698.5 [4 ; 0]:   9%|▉         | 3/33 [08:18<1:16:38, 153.28s/it]"
     ]
    },
    {
     "name": "stdout",
     "output_type": "stream",
     "text": [
      "16.4025 (45, 45, 45, 45) 15\n",
      "7.77384 (4, 10797, 45) 20\n"
     ]
    },
    {
     "name": "stderr",
     "output_type": "stream",
     "text": [
      "[9 / 32] Hs=    0 -565.660751 4384.5 0.1 0.0 0.1 4.6 0.3 297.1 0.3 27.3 2.1 0.3 0.3 0.1 0.0 0.0 3.6 0.2 0.0 0.0 0.2 0.3 0.6 0.2 4.9 4727.1 [4 ; 0]:   9%|▉         | 3/33 [08:23<1:16:38, 153.28s/it]"
     ]
    },
    {
     "name": "stdout",
     "output_type": "stream",
     "text": [
      "16.4025 (45, 45, 45, 45) 15\n",
      "7.77384 (4, 10797, 45) 20\n"
     ]
    },
    {
     "name": "stderr",
     "output_type": "stream",
     "text": [
      "[10 / 32] Hs=    0 -565.666082 4489.2 0.0 0.0 0.1 2.9 0.2 303.1 0.0 26.6 2.2 0.2 0.3 0.1 0.0 0.0 3.1 0.1 0.0 0.0 0.2 0.3 0.6 0.1 2.0 4831.3 [4 ; 0]:   9%|▉         | 3/33 [08:28<1:16:38, 153.28s/it]"
     ]
    },
    {
     "name": "stdout",
     "output_type": "stream",
     "text": [
      "16.4025 (45, 45, 45, 45) 15\n",
      "7.77384 (4, 10797, 45) 20\n"
     ]
    },
    {
     "name": "stderr",
     "output_type": "stream",
     "text": [
      "[11 / 32] Hs=    0 -565.678499 4379.7 0.0 0.0 0.1 2.9 0.2 289.6 0.0 26.1 1.9 0.2 0.3 0.1 0.0 0.0 3.0 0.1 0.0 0.0 0.2 0.3 0.5 0.1 2.0 4707.3 [4 ; 0]:   9%|▉         | 3/33 [08:33<1:16:38, 153.28s/it]"
     ]
    },
    {
     "name": "stdout",
     "output_type": "stream",
     "text": [
      "16.4025 (45, 45, 45, 45) 15\n",
      "7.77384 (4, 10797, 45) 20\n"
     ]
    },
    {
     "name": "stderr",
     "output_type": "stream",
     "text": [
      "[12 / 32] Hs=    0 -565.654728 4402.4 0.0 0.0 0.1 2.8 0.2 288.0 0.0 26.9 1.8 0.2 0.3 0.1 0.0 0.0 3.0 0.1 0.0 0.0 0.2 0.3 0.7 0.2 2.3 4729.6 [4 ; 0]:   9%|▉         | 3/33 [08:37<1:16:38, 153.28s/it]"
     ]
    },
    {
     "name": "stdout",
     "output_type": "stream",
     "text": [
      "16.4025 (45, 45, 45, 45) 15\n",
      "7.77384 (4, 10797, 45) 20\n"
     ]
    },
    {
     "name": "stderr",
     "output_type": "stream",
     "text": [
      "[13 / 32] Hs=    0 -565.666751 4474.9 0.1 0.0 0.1 2.9 0.2 295.6 0.0 26.2 1.8 0.2 0.3 0.1 0.0 0.0 2.9 0.1 0.0 0.0 0.1 0.3 0.7 0.2 2.3 4809.0 [4 ; 0]:   9%|▉         | 3/33 [08:42<1:16:38, 153.28s/it]"
     ]
    },
    {
     "name": "stdout",
     "output_type": "stream",
     "text": [
      "16.4025 (45, 45, 45, 45) 15\n",
      "7.77384 (4, 10797, 45) 20\n"
     ]
    },
    {
     "name": "stderr",
     "output_type": "stream",
     "text": [
      "[14 / 32] Hs=    0 -565.663713 4408.3 0.0 0.0 0.1 2.9 0.2 295.6 0.1 26.6 3.1 0.2 0.3 0.1 0.0 0.0 3.1 0.1 0.0 0.0 0.2 0.3 0.5 0.1 1.9 4743.7 [4 ; 0]:   9%|▉         | 3/33 [08:47<1:16:38, 153.28s/it]"
     ]
    },
    {
     "name": "stdout",
     "output_type": "stream",
     "text": [
      "16.4025 (45, 45, 45, 45) 15\n",
      "7.77384 (4, 10797, 45) 20\n"
     ]
    },
    {
     "name": "stderr",
     "output_type": "stream",
     "text": [
      "[15 / 32] Hs=    0 -565.674729 4388.4 0.0 0.0 0.1 2.9 0.2 296.5 0.0 26.0 1.9 0.2 0.3 0.1 0.0 0.0 3.0 0.2 0.0 0.0 0.1 0.3 0.5 0.1 1.9 4722.7 [4 ; 0]:   9%|▉         | 3/33 [08:52<1:16:38, 153.28s/it]"
     ]
    },
    {
     "name": "stdout",
     "output_type": "stream",
     "text": [
      "16.4025 (45, 45, 45, 45) 15\n",
      "7.77384 (4, 10797, 45) 20\n"
     ]
    },
    {
     "name": "stderr",
     "output_type": "stream",
     "text": [
      "[16 / 32] Hs=    0 -565.669446 4527.7 0.1 0.0 0.1 3.7 0.3 288.7 0.1 26.8 2.4 0.2 0.3 0.1 0.0 0.0 3.2 0.2 0.0 0.0 0.2 0.3 0.7 0.3 3.8 4859.2 [4 ; 0]:   9%|▉         | 3/33 [08:56<1:16:38, 153.28s/it]"
     ]
    },
    {
     "name": "stdout",
     "output_type": "stream",
     "text": [
      "16.4025 (45, 45, 45, 45) 15\n",
      "7.77384 (4, 10797, 45) 20\n"
     ]
    },
    {
     "name": "stderr",
     "output_type": "stream",
     "text": [
      "[17 / 32] Hs=    0 -565.656272 4523.4 0.0 0.0 0.1 2.8 0.2 304.4 0.0 26.6 2.1 0.2 0.3 0.1 0.0 0.0 2.9 0.1 0.0 0.0 0.1 0.3 0.5 0.1 1.9 4866.1 [4 ; 0]:   9%|▉         | 3/33 [09:01<1:16:38, 153.28s/it]"
     ]
    },
    {
     "name": "stdout",
     "output_type": "stream",
     "text": [
      "16.4025 (45, 45, 45, 45) 15\n",
      "7.77384 (4, 10797, 45) 20\n"
     ]
    },
    {
     "name": "stderr",
     "output_type": "stream",
     "text": [
      "[18 / 32] Hs=    0 -565.671603 4459.0 0.0 0.0 0.1 3.8 0.3 301.2 0.0 27.0 1.9 0.2 0.3 0.1 0.0 0.0 3.1 0.1 0.0 0.0 0.2 0.3 0.6 0.1 2.0 4800.3 [4 ; 0]:   9%|▉         | 3/33 [09:06<1:16:38, 153.28s/it]"
     ]
    },
    {
     "name": "stdout",
     "output_type": "stream",
     "text": [
      "16.4025 (45, 45, 45, 45) 15\n",
      "7.77384 (4, 10797, 45) 20\n"
     ]
    },
    {
     "name": "stderr",
     "output_type": "stream",
     "text": [
      "[19 / 32] Hs=    0 -565.658334 4360.6 0.0 0.0 0.1 2.9 0.2 299.1 0.0 26.2 1.9 0.2 0.3 0.1 0.0 0.0 3.0 0.1 0.0 0.0 0.1 0.3 0.5 0.1 1.9 4697.6 [4 ; 0]:   9%|▉         | 3/33 [09:11<1:16:38, 153.28s/it]"
     ]
    },
    {
     "name": "stdout",
     "output_type": "stream",
     "text": [
      "16.4025 (45, 45, 45, 45) 15\n",
      "7.77384 (4, 10797, 45) 20\n"
     ]
    },
    {
     "name": "stderr",
     "output_type": "stream",
     "text": [
      "[20 / 32] Hs=    0 -565.657671 4463.8 0.1 0.0 0.1 3.2 0.3 296.7 0.1 26.5 1.9 0.3 0.3 0.1 0.0 0.0 2.9 0.3 0.0 0.0 0.2 0.4 1.3 0.6 16.6 4815.7 [4 ; 0]:   9%|▉         | 3/33 [09:16<1:16:38, 153.28s/it]"
     ]
    },
    {
     "name": "stdout",
     "output_type": "stream",
     "text": [
      "16.4025 (45, 45, 45, 45) 15\n",
      "7.77384 (4, 10797, 45) 20\n"
     ]
    },
    {
     "name": "stderr",
     "output_type": "stream",
     "text": [
      "[21 / 32] Hs=    0 -565.661272 4414.9 0.0 0.0 0.1 3.0 0.2 300.1 0.0 27.8 1.9 0.2 0.3 0.1 0.0 0.0 3.0 0.2 0.0 0.0 0.2 0.4 4.4 0.4 6.3 4763.5 [4 ; 0]:   9%|▉         | 3/33 [09:20<1:16:38, 153.28s/it] "
     ]
    },
    {
     "name": "stdout",
     "output_type": "stream",
     "text": [
      "16.4025 (45, 45, 45, 45) 15\n",
      "7.77384 (4, 10797, 45) 20\n"
     ]
    },
    {
     "name": "stderr",
     "output_type": "stream",
     "text": [
      "[22 / 32] Hs=    0 -565.652663 4649.1 0.1 0.0 0.1 3.9 0.3 308.6 0.1 26.7 2.0 0.2 0.3 0.1 0.0 0.0 3.0 0.2 0.0 0.0 0.2 0.3 0.7 0.2 3.1 4999.2 [4 ; 0]:   9%|▉         | 3/33 [09:25<1:16:38, 153.28s/it]"
     ]
    },
    {
     "name": "stdout",
     "output_type": "stream",
     "text": [
      "16.4025 (45, 45, 45, 45) 15\n",
      "7.77384 (4, 10797, 45) 20\n"
     ]
    },
    {
     "name": "stderr",
     "output_type": "stream",
     "text": [
      "[23 / 32] Hs=    0 -565.663392 4358.6 0.0 0.0 0.1 2.8 0.2 288.7 0.0 26.4 2.0 0.2 0.3 0.1 0.0 0.0 3.0 0.1 0.0 0.0 0.2 0.3 0.8 0.2 2.5 4686.5 [4 ; 0]:   9%|▉         | 3/33 [09:30<1:16:38, 153.28s/it]"
     ]
    },
    {
     "name": "stdout",
     "output_type": "stream",
     "text": [
      "16.4025 (45, 45, 45, 45) 15\n",
      "7.77384 (4, 10797, 45) 20\n"
     ]
    },
    {
     "name": "stderr",
     "output_type": "stream",
     "text": [
      "[24 / 32] Hs=    0 -565.672690 4414.6 0.0 0.0 0.1 2.8 0.2 306.1 0.0 26.4 1.9 0.2 0.3 0.1 0.0 0.0 3.0 0.1 0.0 0.0 0.1 0.3 0.6 0.1 1.9 4758.8 [4 ; 0]:   9%|▉         | 3/33 [09:35<1:16:38, 153.28s/it]"
     ]
    },
    {
     "name": "stdout",
     "output_type": "stream",
     "text": [
      "16.4025 (45, 45, 45, 45) 15\n",
      "7.77384 (4, 10797, 45) 20\n"
     ]
    },
    {
     "name": "stderr",
     "output_type": "stream",
     "text": [
      "[25 / 32] Hs=    0 -565.661950 4565.6 0.0 0.0 0.1 3.1 0.2 310.6 0.1 27.6 2.6 0.2 0.3 0.1 0.0 0.0 3.0 0.2 0.0 0.0 0.2 0.3 4.5 0.2 2.0 4920.9 [4 ; 0]:   9%|▉         | 3/33 [09:40<1:16:38, 153.28s/it]"
     ]
    },
    {
     "name": "stdout",
     "output_type": "stream",
     "text": [
      "16.4025 (45, 45, 45, 45) 15\n",
      "7.77384 (4, 10797, 45) 20\n"
     ]
    },
    {
     "name": "stderr",
     "output_type": "stream",
     "text": [
      "[26 / 32] Hs=    0 -565.657590 4465.6 0.1 0.0 0.1 3.3 0.3 302.3 0.1 26.9 1.9 0.3 0.3 0.1 0.0 0.0 3.0 0.2 0.0 0.0 0.2 0.3 0.6 0.2 2.8 4808.6 [4 ; 0]:   9%|▉         | 3/33 [09:45<1:16:38, 153.28s/it]"
     ]
    },
    {
     "name": "stdout",
     "output_type": "stream",
     "text": [
      "16.4025 (45, 45, 45, 45) 15\n",
      "7.77384 (4, 10797, 45) 20\n"
     ]
    },
    {
     "name": "stderr",
     "output_type": "stream",
     "text": [
      "[27 / 32] Hs=    0 -565.661665 4458.4 0.0 0.0 0.1 2.8 0.2 290.7 0.0 26.2 1.9 0.2 0.3 0.1 0.0 0.0 3.0 0.1 0.0 0.0 0.2 0.3 0.8 0.2 2.4 4787.9 [4 ; 0]:   9%|▉         | 3/33 [09:49<1:16:38, 153.28s/it]"
     ]
    },
    {
     "name": "stdout",
     "output_type": "stream",
     "text": [
      "16.4025 (45, 45, 45, 45) 15\n",
      "7.77384 (4, 10797, 45) 20\n"
     ]
    },
    {
     "name": "stderr",
     "output_type": "stream",
     "text": [
      "[28 / 32] Hs=    0 -565.664373 4536.2 0.1 0.0 0.1 3.4 0.3 304.0 0.1 26.5 2.6 0.2 0.3 0.1 0.0 0.0 3.0 0.2 0.0 0.0 0.2 0.3 1.3 0.3 2.8 4882.0 [4 ; 0]:   9%|▉         | 3/33 [09:54<1:16:38, 153.28s/it]"
     ]
    },
    {
     "name": "stdout",
     "output_type": "stream",
     "text": [
      "16.4025 (45, 45, 45, 45) 15\n",
      "7.77384 (4, 10797, 45) 20\n"
     ]
    },
    {
     "name": "stderr",
     "output_type": "stream",
     "text": [
      "[29 / 32] Hs=    0 -565.665942 4449.7 0.0 0.0 0.1 3.3 0.2 312.2 0.0 26.6 1.9 0.2 0.3 0.1 0.0 0.0 3.0 0.1 0.0 0.0 0.2 0.3 0.6 0.1 2.2 4801.1 [4 ; 0]:   9%|▉         | 3/33 [09:59<1:16:38, 153.28s/it]"
     ]
    },
    {
     "name": "stdout",
     "output_type": "stream",
     "text": [
      "16.4025 (45, 45, 45, 45) 15\n",
      "7.77384 (4, 10797, 45) 20\n"
     ]
    },
    {
     "name": "stderr",
     "output_type": "stream",
     "text": [
      "[30 / 32] Hs=    0 -565.672721 4433.9 0.0 0.0 0.1 3.7 0.3 293.2 0.0 26.3 1.9 0.2 0.3 0.1 0.0 0.0 3.1 0.1 0.0 0.0 0.2 0.3 0.5 0.1 1.9 4766.2 [4 ; 0]:   9%|▉         | 3/33 [10:04<1:16:38, 153.28s/it]"
     ]
    },
    {
     "name": "stdout",
     "output_type": "stream",
     "text": [
      "16.4025 (45, 45, 45, 45) 15\n",
      "7.77384 (4, 10797, 45) 20\n"
     ]
    },
    {
     "name": "stderr",
     "output_type": "stream",
     "text": [
      "[31 / 32] Hs=    0 -565.671959 4494.8 0.0 0.0 0.1 3.1 0.2 293.0 0.0 26.3 2.0 0.2 0.3 0.1 0.0 0.0 3.3 0.1 0.0 0.0 0.2 0.3 0.6 0.1 2.1 4826.8 [4 ; 0]:   9%|▉         | 3/33 [10:09<1:16:38, 153.28s/it]"
     ]
    },
    {
     "name": "stdout",
     "output_type": "stream",
     "text": [
      "16.4025 (45, 45, 45, 45) 15\n",
      "7.77384 (4, 10797, 45) 20\n"
     ]
    },
    {
     "name": "stderr",
     "output_type": "stream",
     "text": [
      "[31 / 32] Hs=    0 -565.671959 4494.8 0.0 0.0 0.1 3.1 0.2 293.0 0.0 26.3 2.0 0.2 0.3 0.1 0.0 0.0 3.3 0.1 0.0 0.0 0.2 0.3 0.6 0.1 2.1 4826.8 [4 ; 0]:  12%|█▏        | 4/33 [10:13<1:14:14, 153.61s/it]"
     ]
    },
    {
     "name": "stdout",
     "output_type": "stream",
     "text": [
      "[O=c1nc(nno1)C#N]\n",
      "[conformers] 32\n",
      "16.4025 (45, 45, 45, 45) 15\n",
      "7.77384 (4, 10797, 45) 20\n"
     ]
    },
    {
     "name": "stderr",
     "output_type": "stream",
     "text": [
      "[1 / 32] Hs=    0 -476.974188 4448.8 0.0 0.0 0.1 2.3 0.2 290.8 0.0 26.8 1.9 0.2 0.3 0.1 0.0 0.0 3.1 0.2 0.0 0.0 0.2 0.3 4.3 0.4 5.6 4785.6 [5 ; 0]:  12%|█▏        | 4/33 [10:19<1:14:14, 153.61s/it] "
     ]
    },
    {
     "name": "stdout",
     "output_type": "stream",
     "text": [
      "16.4025 (45, 45, 45, 45) 15\n",
      "7.77384 (4, 10797, 45) 20\n"
     ]
    },
    {
     "name": "stderr",
     "output_type": "stream",
     "text": [
      "[2 / 32] Hs=    0 -476.965447 4383.3 0.0 0.0 0.1 2.3 0.2 295.6 0.0 26.5 4.2 0.2 0.3 0.1 0.0 0.0 3.0 0.1 0.0 0.0 0.2 0.3 0.5 0.1 2.3 4719.3 [5 ; 0]:  12%|█▏        | 4/33 [10:23<1:14:14, 153.61s/it]"
     ]
    },
    {
     "name": "stdout",
     "output_type": "stream",
     "text": [
      "16.4025 (45, 45, 45, 45) 15\n",
      "7.77384 (4, 10797, 45) 20\n"
     ]
    },
    {
     "name": "stderr",
     "output_type": "stream",
     "text": [
      "[3 / 32] Hs=    0 -476.971285 4469.4 0.0 0.0 0.1 2.7 0.2 287.9 0.1 26.4 2.2 0.2 0.3 0.1 0.0 0.0 3.1 0.2 0.0 0.0 0.2 0.3 0.5 0.1 2.5 4796.5 [5 ; 0]:  12%|█▏        | 4/33 [10:28<1:14:14, 153.61s/it]"
     ]
    },
    {
     "name": "stdout",
     "output_type": "stream",
     "text": [
      "16.4025 (45, 45, 45, 45) 15\n",
      "7.77384 (4, 10797, 45) 20\n"
     ]
    },
    {
     "name": "stderr",
     "output_type": "stream",
     "text": [
      "[4 / 32] Hs=    0 -476.966888 4433.3 0.0 0.0 0.1 2.3 0.2 296.1 0.0 26.2 1.9 0.2 0.3 0.1 0.0 0.0 3.1 0.1 0.0 0.0 0.2 0.3 0.6 0.1 1.9 4767.0 [5 ; 0]:  12%|█▏        | 4/33 [10:33<1:14:14, 153.61s/it]"
     ]
    },
    {
     "name": "stdout",
     "output_type": "stream",
     "text": [
      "16.4025 (45, 45, 45, 45) 15\n",
      "7.77384 (4, 10797, 45) 20\n"
     ]
    },
    {
     "name": "stderr",
     "output_type": "stream",
     "text": [
      "[5 / 32] Hs=    0 -476.971769 4435.5 0.0 0.0 0.1 2.3 0.2 307.1 0.0 26.6 1.9 0.2 0.3 0.1 0.0 0.0 3.0 0.1 0.0 0.0 0.2 0.3 0.6 0.1 1.9 4780.5 [5 ; 0]:  12%|█▏        | 4/33 [10:38<1:14:14, 153.61s/it]"
     ]
    },
    {
     "name": "stdout",
     "output_type": "stream",
     "text": [
      "16.4025 (45, 45, 45, 45) 15\n",
      "7.77384 (4, 10797, 45) 20\n"
     ]
    },
    {
     "name": "stderr",
     "output_type": "stream",
     "text": [
      "[6 / 32] Hs=    0 -476.968224 4586.1 0.1 0.0 0.2 3.8 0.3 294.7 0.0 26.3 2.1 0.2 0.3 0.1 0.0 0.0 3.1 0.2 0.0 0.0 0.2 0.3 0.6 0.2 2.8 4921.6 [5 ; 0]:  12%|█▏        | 4/33 [10:43<1:14:14, 153.61s/it]"
     ]
    },
    {
     "name": "stdout",
     "output_type": "stream",
     "text": [
      "16.4025 (45, 45, 45, 45) 15\n",
      "7.77384 (4, 10797, 45) 20\n"
     ]
    },
    {
     "name": "stderr",
     "output_type": "stream",
     "text": [
      "[7 / 32] Hs=    0 -476.972190 4497.8 0.1 0.0 0.1 2.7 0.3 289.0 0.1 28.0 2.0 0.2 0.3 0.1 0.0 0.0 3.2 0.2 0.0 0.0 0.2 0.3 0.7 0.2 2.8 4828.3 [5 ; 0]:  12%|█▏        | 4/33 [10:47<1:14:14, 153.61s/it]"
     ]
    },
    {
     "name": "stdout",
     "output_type": "stream",
     "text": [
      "16.4025 (45, 45, 45, 45) 15\n",
      "7.77384 (4, 10797, 45) 20\n"
     ]
    },
    {
     "name": "stderr",
     "output_type": "stream",
     "text": [
      "[8 / 32] Hs=    0 -476.966255 4352.0 0.0 0.0 0.1 2.3 0.2 300.5 0.0 26.1 1.8 0.2 0.3 0.1 0.0 0.0 3.1 0.1 0.0 0.0 0.2 0.3 1.8 0.2 1.9 4691.2 [5 ; 0]:  12%|█▏        | 4/33 [10:52<1:14:14, 153.61s/it]"
     ]
    },
    {
     "name": "stdout",
     "output_type": "stream",
     "text": [
      "16.4025 (45, 45, 45, 45) 15\n",
      "7.77384 (4, 10797, 45) 20\n"
     ]
    },
    {
     "name": "stderr",
     "output_type": "stream",
     "text": [
      "[9 / 32] Hs=    0 -476.965494 4503.5 0.0 0.0 0.1 2.7 0.2 299.7 0.0 26.1 2.0 0.2 0.3 0.1 0.0 0.0 3.0 0.1 0.0 0.0 0.2 0.3 0.7 0.2 2.7 4842.1 [5 ; 0]:  12%|█▏        | 4/33 [10:57<1:14:14, 153.61s/it]"
     ]
    },
    {
     "name": "stdout",
     "output_type": "stream",
     "text": [
      "16.4025 (45, 45, 45, 45) 15\n",
      "7.77384 (4, 10797, 45) 20\n"
     ]
    },
    {
     "name": "stderr",
     "output_type": "stream",
     "text": [
      "[10 / 32] Hs=    0 -476.966589 4354.3 0.0 0.0 0.1 2.6 0.2 299.4 0.1 28.4 2.0 0.2 0.3 0.2 0.0 0.0 3.8 0.2 0.0 0.0 0.2 0.3 0.7 0.2 2.3 4695.5 [5 ; 0]:  12%|█▏        | 4/33 [11:02<1:14:14, 153.61s/it]"
     ]
    },
    {
     "name": "stdout",
     "output_type": "stream",
     "text": [
      "16.4025 (45, 45, 45, 45) 15\n",
      "7.77384 (4, 10797, 45) 20\n"
     ]
    },
    {
     "name": "stderr",
     "output_type": "stream",
     "text": [
      "[11 / 32] Hs=    0 -476.965786 4410.7 0.1 0.0 0.1 2.8 0.3 296.5 0.1 26.5 1.9 0.2 0.3 0.1 0.0 0.0 3.0 0.2 0.0 0.0 0.2 0.3 0.7 0.2 2.8 4747.0 [5 ; 0]:  12%|█▏        | 4/33 [11:06<1:14:14, 153.61s/it]"
     ]
    },
    {
     "name": "stdout",
     "output_type": "stream",
     "text": [
      "16.4025 (45, 45, 45, 45) 15\n",
      "7.77384 (4, 10797, 45) 20\n"
     ]
    },
    {
     "name": "stderr",
     "output_type": "stream",
     "text": [
      "[12 / 32] Hs=    0 -476.970426 4497.5 0.0 0.0 0.1 2.3 0.2 288.8 0.0 25.9 2.0 0.2 0.3 0.1 0.0 0.0 3.2 0.2 0.0 0.0 0.1 0.3 0.7 0.2 2.7 4824.8 [5 ; 0]:  12%|█▏        | 4/33 [11:11<1:14:14, 153.61s/it]"
     ]
    },
    {
     "name": "stdout",
     "output_type": "stream",
     "text": [
      "16.4025 (45, 45, 45, 45) 15\n",
      "7.77384 (4, 10797, 45) 20\n"
     ]
    },
    {
     "name": "stderr",
     "output_type": "stream",
     "text": [
      "[13 / 32] Hs=    0 -476.967576 4379.5 0.0 0.0 0.1 2.3 0.2 303.7 0.0 26.2 2.1 0.2 0.3 0.1 0.0 0.0 3.4 0.2 0.0 0.0 0.2 0.3 0.7 0.2 2.5 4722.2 [5 ; 0]:  12%|█▏        | 4/33 [11:16<1:14:14, 153.61s/it]"
     ]
    },
    {
     "name": "stdout",
     "output_type": "stream",
     "text": [
      "16.4025 (45, 45, 45, 45) 15\n",
      "7.77384 (4, 10797, 45) 20\n"
     ]
    },
    {
     "name": "stderr",
     "output_type": "stream",
     "text": [
      "[14 / 32] Hs=    0 -476.968278 4376.4 0.0 0.0 0.1 2.3 0.2 290.1 0.0 28.0 2.2 0.2 0.3 0.1 0.0 0.0 4.0 0.2 0.0 0.0 0.2 0.4 9.0 0.2 2.5 4716.4 [5 ; 0]:  12%|█▏        | 4/33 [11:21<1:14:14, 153.61s/it]"
     ]
    },
    {
     "name": "stdout",
     "output_type": "stream",
     "text": [
      "16.4025 (45, 45, 45, 45) 15\n",
      "7.77384 (4, 10797, 45) 20\n"
     ]
    },
    {
     "name": "stderr",
     "output_type": "stream",
     "text": [
      "[15 / 32] Hs=    0 -476.966648 4504.7 0.0 0.0 0.1 2.3 0.2 293.5 0.1 27.4 1.9 0.2 0.3 0.1 0.0 0.0 3.0 0.1 0.0 0.0 0.2 0.4 0.5 0.1 2.0 4837.1 [5 ; 0]:  12%|█▏        | 4/33 [11:26<1:14:14, 153.61s/it]"
     ]
    },
    {
     "name": "stdout",
     "output_type": "stream",
     "text": [
      "16.4025 (45, 45, 45, 45) 15\n",
      "7.77384 (4, 10797, 45) 20\n"
     ]
    },
    {
     "name": "stderr",
     "output_type": "stream",
     "text": [
      "[16 / 32] Hs=    0 -476.963404 4463.4 0.1 0.0 0.1 3.1 0.3 311.1 0.1 27.6 2.7 0.2 0.3 0.1 0.0 0.0 3.1 0.2 0.0 0.0 0.2 0.3 0.8 0.2 4.1 4818.0 [5 ; 0]:  12%|█▏        | 4/33 [11:30<1:14:14, 153.61s/it]"
     ]
    },
    {
     "name": "stdout",
     "output_type": "stream",
     "text": [
      "16.4025 (45, 45, 45, 45) 15\n",
      "7.77384 (4, 10797, 45) 20\n"
     ]
    },
    {
     "name": "stderr",
     "output_type": "stream",
     "text": [
      "[17 / 32] Hs=    0 -476.971044 4505.1 0.0 0.0 0.1 2.3 0.2 311.6 0.0 26.1 2.2 0.2 0.3 0.1 0.0 0.0 3.0 0.1 0.0 0.0 0.2 0.3 0.6 0.2 1.9 4854.5 [5 ; 0]:  12%|█▏        | 4/33 [11:35<1:14:14, 153.61s/it]"
     ]
    },
    {
     "name": "stdout",
     "output_type": "stream",
     "text": [
      "16.4025 (45, 45, 45, 45) 15\n",
      "7.77384 (4, 10797, 45) 20\n"
     ]
    },
    {
     "name": "stderr",
     "output_type": "stream",
     "text": [
      "[18 / 32] Hs=    0 -476.964580 4459.6 0.1 0.0 0.1 2.7 0.3 303.7 0.3 27.5 2.7 0.4 0.3 0.2 0.0 0.1 3.7 0.3 0.0 0.0 0.3 0.4 1.4 0.8 20.0 4824.9 [5 ; 0]:  12%|█▏        | 4/33 [11:40<1:14:14, 153.61s/it]"
     ]
    },
    {
     "name": "stdout",
     "output_type": "stream",
     "text": [
      "16.4025 (45, 45, 45, 45) 15\n",
      "7.77384 (4, 10797, 45) 20\n"
     ]
    },
    {
     "name": "stderr",
     "output_type": "stream",
     "text": [
      "[19 / 32] Hs=    0 -476.963968 4401.3 0.0 0.0 0.1 2.3 0.2 311.1 0.3 28.1 2.7 0.2 0.3 0.1 0.0 0.0 3.2 0.2 0.0 0.0 0.4 0.3 0.7 0.2 2.4 4754.1 [5 ; 0]:  12%|█▏        | 4/33 [11:45<1:14:14, 153.61s/it] "
     ]
    },
    {
     "name": "stdout",
     "output_type": "stream",
     "text": [
      "16.4025 (45, 45, 45, 45) 15\n",
      "7.77384 (4, 10797, 45) 20\n"
     ]
    },
    {
     "name": "stderr",
     "output_type": "stream",
     "text": [
      "[20 / 32] Hs=    0 -476.967009 4502.1 0.1 0.0 0.1 2.8 0.3 303.9 0.1 26.7 2.0 0.2 0.3 0.1 0.0 0.0 2.9 0.2 0.0 0.0 0.2 0.3 0.6 0.2 2.9 4846.0 [5 ; 0]:  12%|█▏        | 4/33 [11:50<1:14:14, 153.61s/it]"
     ]
    },
    {
     "name": "stdout",
     "output_type": "stream",
     "text": [
      "16.4025 (45, 45, 45, 45) 15\n",
      "7.77384 (4, 10797, 45) 20\n"
     ]
    },
    {
     "name": "stderr",
     "output_type": "stream",
     "text": [
      "[21 / 32] Hs=    0 -476.970682 4507.3 0.0 0.0 0.1 2.3 0.2 297.4 0.0 26.1 1.8 0.2 0.3 0.1 0.0 0.0 3.0 0.1 0.0 0.0 0.2 0.3 0.6 0.2 2.4 4842.6 [5 ; 0]:  12%|█▏        | 4/33 [11:54<1:14:14, 153.61s/it]"
     ]
    },
    {
     "name": "stdout",
     "output_type": "stream",
     "text": [
      "16.4025 (45, 45, 45, 45) 15\n",
      "7.77384 (4, 10797, 45) 20\n"
     ]
    },
    {
     "name": "stderr",
     "output_type": "stream",
     "text": [
      "[22 / 32] Hs=    0 -476.965066 4419.3 0.1 0.0 0.1 3.0 0.3 299.1 0.2 27.4 1.9 0.3 0.3 0.1 0.0 0.0 3.6 0.2 0.0 0.0 0.2 0.4 1.4 0.7 16.7 4775.3 [5 ; 0]:  12%|█▏        | 4/33 [11:59<1:14:14, 153.61s/it]"
     ]
    },
    {
     "name": "stdout",
     "output_type": "stream",
     "text": [
      "16.4025 (45, 45, 45, 45) 15\n",
      "7.77384 (4, 10797, 45) 20\n"
     ]
    },
    {
     "name": "stderr",
     "output_type": "stream",
     "text": [
      "[22 / 32] Hs=    0 -476.965066 4419.3 0.1 0.0 0.1 3.0 0.3 299.1 0.2 27.4 1.9 0.3 0.3 0.1 0.0 0.0 3.6 0.2 0.0 0.0 0.2 0.4 1.4 0.7 16.7 4775.3 [5 ; 0]:  12%|█▏        | 4/33 [12:02<1:27:20, 180.72s/it]\n"
     ]
    },
    {
     "ename": "KeyboardInterrupt",
     "evalue": "",
     "output_type": "error",
     "traceback": [
      "\u001b[0;31m---------------------------------------------------------------------------\u001b[0m",
      "\u001b[0;31mKeyboardInterrupt\u001b[0m                         Traceback (most recent call last)",
      "\u001b[0;32m<ipython-input-11-ed004c1b245a>\u001b[0m in \u001b[0;36m<module>\u001b[0;34m\u001b[0m\n\u001b[1;32m     28\u001b[0m     \u001b[0;32mbreak\u001b[0m\u001b[0;34m\u001b[0m\u001b[0;34m\u001b[0m\u001b[0m\n\u001b[1;32m     29\u001b[0m \u001b[0;34m\u001b[0m\u001b[0m\n\u001b[0;32m---> 30\u001b[0;31m \u001b[0mrecompute\u001b[0m\u001b[0;34m(\u001b[0m\u001b[0margs\u001b[0m\u001b[0;34m,\u001b[0m \u001b[0;32mNone\u001b[0m\u001b[0;34m,\u001b[0m \u001b[0;36m0\u001b[0m\u001b[0;34m,\u001b[0m \u001b[0;36m0\u001b[0m\u001b[0;34m,\u001b[0m \u001b[0mour_fun\u001b[0m\u001b[0;34m=\u001b[0m\u001b[0mjax_dft\u001b[0m\u001b[0;34m,\u001b[0m \u001b[0mstr\u001b[0m\u001b[0;34m=\u001b[0m\u001b[0mstring\u001b[0m\u001b[0;34m)\u001b[0m\u001b[0;34m\u001b[0m\u001b[0;34m\u001b[0m\u001b[0m\n\u001b[0m",
      "\u001b[0;32m/notebooks/pyscf_ipu/dft.py\u001b[0m in \u001b[0;36mrecompute\u001b[0;34m(args, molecules, id, num, our_fun, str, atom_string)\u001b[0m\n\u001b[1;32m   1127\u001b[0m \u001b[0;34m\u001b[0m\u001b[0m\n\u001b[1;32m   1128\u001b[0m   \u001b[0;32mif\u001b[0m \u001b[0;32mnot\u001b[0m \u001b[0margs\u001b[0m\u001b[0;34m.\u001b[0m\u001b[0mskipus\u001b[0m\u001b[0;34m:\u001b[0m\u001b[0;34m\u001b[0m\u001b[0;34m\u001b[0m\u001b[0m\n\u001b[0;32m-> 1129\u001b[0;31m     \u001b[0menergies\u001b[0m\u001b[0;34m,\u001b[0m \u001b[0mour_energy\u001b[0m\u001b[0;34m,\u001b[0m \u001b[0mour_hlgap\u001b[0m\u001b[0;34m,\u001b[0m \u001b[0mt_us\u001b[0m\u001b[0;34m,\u001b[0m \u001b[0mt_main_loop\u001b[0m\u001b[0;34m,\u001b[0m \u001b[0mus_hlgap\u001b[0m \u001b[0;34m=\u001b[0m \u001b[0mour_fun\u001b[0m\u001b[0;34m(\u001b[0m\u001b[0mstr\u001b[0m\u001b[0;34m,\u001b[0m \u001b[0margs\u001b[0m\u001b[0;34m)\u001b[0m\u001b[0;34m\u001b[0m\u001b[0;34m\u001b[0m\u001b[0m\n\u001b[0m\u001b[1;32m   1130\u001b[0m \u001b[0;34m\u001b[0m\u001b[0m\n\u001b[1;32m   1131\u001b[0m   \u001b[0;32mif\u001b[0m \u001b[0;32mnot\u001b[0m \u001b[0margs\u001b[0m\u001b[0;34m.\u001b[0m\u001b[0mskippyscf\u001b[0m\u001b[0;34m:\u001b[0m\u001b[0;34m\u001b[0m\u001b[0;34m\u001b[0m\u001b[0m\n",
      "\u001b[0;32m/notebooks/pyscf_ipu/dft.py\u001b[0m in \u001b[0;36mjax_dft\u001b[0;34m(str, args)\u001b[0m\n\u001b[1;32m   1312\u001b[0m     \u001b[0;32mfor\u001b[0m \u001b[0mstep\u001b[0m \u001b[0;32min\u001b[0m \u001b[0mrange\u001b[0m\u001b[0;34m(\u001b[0m\u001b[0mrepeats\u001b[0m\u001b[0;34m)\u001b[0m\u001b[0;34m:\u001b[0m\u001b[0;34m\u001b[0m\u001b[0;34m\u001b[0m\u001b[0m\n\u001b[1;32m   1313\u001b[0m         \u001b[0mt0\u001b[0m \u001b[0;34m=\u001b[0m \u001b[0mtime\u001b[0m\u001b[0;34m.\u001b[0m\u001b[0mtime\u001b[0m\u001b[0;34m(\u001b[0m\u001b[0;34m)\u001b[0m\u001b[0;34m\u001b[0m\u001b[0;34m\u001b[0m\u001b[0m\n\u001b[0;32m-> 1314\u001b[0;31m         \u001b[0mvals\u001b[0m \u001b[0;34m=\u001b[0m \u001b[0mdensity_functional_theory\u001b[0m\u001b[0;34m(\u001b[0m\u001b[0matom_positions\u001b[0m\u001b[0;34m,\u001b[0m \u001b[0margs\u001b[0m\u001b[0;34m)\u001b[0m\u001b[0;34m\u001b[0m\u001b[0;34m\u001b[0m\u001b[0m\n\u001b[0m\u001b[1;32m   1315\u001b[0m         \u001b[0menergies\u001b[0m\u001b[0;34m,\u001b[0m \u001b[0me_tot\u001b[0m\u001b[0;34m,\u001b[0m \u001b[0mmo_energy\u001b[0m\u001b[0;34m,\u001b[0m \u001b[0mmo_coeff\u001b[0m\u001b[0;34m,\u001b[0m \u001b[0mdms\u001b[0m\u001b[0;34m,\u001b[0m \u001b[0mL_inv\u001b[0m \u001b[0;34m=\u001b[0m \u001b[0;34m[\u001b[0m\u001b[0mnp\u001b[0m\u001b[0;34m.\u001b[0m\u001b[0masarray\u001b[0m\u001b[0;34m(\u001b[0m\u001b[0ma\u001b[0m\u001b[0;34m)\u001b[0m \u001b[0;32mfor\u001b[0m \u001b[0ma\u001b[0m \u001b[0;32min\u001b[0m \u001b[0mvals\u001b[0m\u001b[0;34m]\u001b[0m\u001b[0;34m\u001b[0m\u001b[0;34m\u001b[0m\u001b[0m\n\u001b[1;32m   1316\u001b[0m         \u001b[0mt\u001b[0m \u001b[0;34m=\u001b[0m \u001b[0mtime\u001b[0m\u001b[0;34m.\u001b[0m\u001b[0mtime\u001b[0m\u001b[0;34m(\u001b[0m\u001b[0;34m)\u001b[0m \u001b[0;34m-\u001b[0m \u001b[0mt0\u001b[0m\u001b[0;34m\u001b[0m\u001b[0;34m\u001b[0m\u001b[0m\n",
      "\u001b[0;32m/notebooks/pyscf_ipu/dft.py\u001b[0m in \u001b[0;36mdensity_functional_theory\u001b[0;34m(atom_positions, args, mf_diis_space)\u001b[0m\n\u001b[1;32m    663\u001b[0m                 \u001b[0;32mif\u001b[0m \u001b[0;32mnot\u001b[0m \u001b[0margs\u001b[0m\u001b[0;34m.\u001b[0m\u001b[0mforloop\u001b[0m\u001b[0;34m:\u001b[0m\u001b[0;34m\u001b[0m\u001b[0;34m\u001b[0m\u001b[0m\n\u001b[1;32m    664\u001b[0m                     \u001b[0;32mif\u001b[0m \u001b[0;32mnot\u001b[0m \u001b[0margs\u001b[0m\u001b[0;34m.\u001b[0m\u001b[0mskip_minao\u001b[0m\u001b[0;34m:\u001b[0m \u001b[0mdensity_matrix\u001b[0m  \u001b[0;34m=\u001b[0m \u001b[0mnp\u001b[0m\u001b[0;34m.\u001b[0m\u001b[0marray\u001b[0m\u001b[0;34m(\u001b[0m\u001b[0mminao\u001b[0m\u001b[0;34m(\u001b[0m\u001b[0mmol\u001b[0m\u001b[0;34m)\u001b[0m\u001b[0;34m)\u001b[0m\u001b[0;34m\u001b[0m\u001b[0;34m\u001b[0m\u001b[0m\n\u001b[0;32m--> 665\u001b[0;31m                     \u001b[0mvals\u001b[0m\u001b[0;34m.\u001b[0m\u001b[0mappend\u001b[0m\u001b[0;34m(\u001b[0m \u001b[0mdo_compute_jit\u001b[0m\u001b[0;34m(\u001b[0m \u001b[0mdensity_matrix\u001b[0m\u001b[0;34m,\u001b[0m \u001b[0mkinetic\u001b[0m\u001b[0;34m,\u001b[0m \u001b[0mnuclear\u001b[0m\u001b[0;34m,\u001b[0m \u001b[0moverlap\u001b[0m\u001b[0;34m,\u001b[0m \u001b[0mao\u001b[0m\u001b[0;34m,\u001b[0m \u001b[0melectron_repulsion\u001b[0m\u001b[0;34m,\u001b[0m \u001b[0mweights\u001b[0m\u001b[0;34m,\u001b[0m \u001b[0mcoords\u001b[0m\u001b[0;34m,\u001b[0m \u001b[0mnuclear_energy\u001b[0m\u001b[0;34m,\u001b[0m \u001b[0;36m0\u001b[0m\u001b[0;34m,\u001b[0m \u001b[0mmf_diis_space\u001b[0m\u001b[0;34m,\u001b[0m \u001b[0mN\u001b[0m\u001b[0;34m,\u001b[0m \u001b[0mhyb\u001b[0m \u001b[0;34m,\u001b[0m \u001b[0mmask\u001b[0m\u001b[0;34m,\u001b[0m \u001b[0m_input_floats\u001b[0m\u001b[0;34m,\u001b[0m \u001b[0m_input_ints\u001b[0m\u001b[0;34m,\u001b[0m \u001b[0mdcargs\u001b[0m\u001b[0;34m,\u001b[0m \u001b[0mL_inv\u001b[0m\u001b[0;34m)\u001b[0m  \u001b[0;34m)\u001b[0m\u001b[0;34m\u001b[0m\u001b[0;34m\u001b[0m\u001b[0m\n\u001b[0m\u001b[1;32m    666\u001b[0m                 \u001b[0;32melse\u001b[0m\u001b[0;34m:\u001b[0m\u001b[0;34m\u001b[0m\u001b[0;34m\u001b[0m\u001b[0m\n\u001b[1;32m    667\u001b[0m                     \u001b[0;31m# make this into a flag.\u001b[0m\u001b[0;34m\u001b[0m\u001b[0;34m\u001b[0m\u001b[0;34m\u001b[0m\u001b[0m\n",
      "    \u001b[0;31m[... skipping hidden 1 frame]\u001b[0m\n",
      "\u001b[0;32m/usr/local/lib/python3.8/dist-packages/jax/_src/api.py\u001b[0m in \u001b[0;36mcache_miss\u001b[0;34m(*args, **kwargs)\u001b[0m\n\u001b[1;32m    525\u001b[0m       \u001b[0min_type\u001b[0m \u001b[0;34m=\u001b[0m \u001b[0mpe\u001b[0m\u001b[0;34m.\u001b[0m\u001b[0minfer_lambda_input_type\u001b[0m\u001b[0;34m(\u001b[0m\u001b[0;32mNone\u001b[0m\u001b[0;34m,\u001b[0m \u001b[0margs_flat\u001b[0m\u001b[0;34m)\u001b[0m\u001b[0;34m\u001b[0m\u001b[0;34m\u001b[0m\u001b[0m\n\u001b[1;32m    526\u001b[0m       \u001b[0mflat_fun\u001b[0m \u001b[0;34m=\u001b[0m \u001b[0mlu\u001b[0m\u001b[0;34m.\u001b[0m\u001b[0mannotate\u001b[0m\u001b[0;34m(\u001b[0m\u001b[0mflat_fun\u001b[0m\u001b[0;34m,\u001b[0m \u001b[0min_type\u001b[0m\u001b[0;34m)\u001b[0m\u001b[0;34m\u001b[0m\u001b[0;34m\u001b[0m\u001b[0m\n\u001b[0;32m--> 527\u001b[0;31m     out_flat = xla.xla_call(\n\u001b[0m\u001b[1;32m    528\u001b[0m         \u001b[0mflat_fun\u001b[0m\u001b[0;34m,\u001b[0m \u001b[0;34m*\u001b[0m\u001b[0margs_flat\u001b[0m\u001b[0;34m,\u001b[0m\u001b[0;34m\u001b[0m\u001b[0;34m\u001b[0m\u001b[0m\n\u001b[1;32m    529\u001b[0m         \u001b[0mdevice\u001b[0m\u001b[0;34m=\u001b[0m\u001b[0mdevice\u001b[0m\u001b[0;34m,\u001b[0m \u001b[0mbackend\u001b[0m\u001b[0;34m=\u001b[0m\u001b[0mbackend\u001b[0m\u001b[0;34m,\u001b[0m \u001b[0mname\u001b[0m\u001b[0;34m=\u001b[0m\u001b[0mflat_fun\u001b[0m\u001b[0;34m.\u001b[0m\u001b[0m__name__\u001b[0m\u001b[0;34m,\u001b[0m\u001b[0;34m\u001b[0m\u001b[0;34m\u001b[0m\u001b[0m\n",
      "\u001b[0;32m/usr/local/lib/python3.8/dist-packages/jax/core.py\u001b[0m in \u001b[0;36mbind\u001b[0;34m(self, fun, *args, **params)\u001b[0m\n\u001b[1;32m   1935\u001b[0m \u001b[0;34m\u001b[0m\u001b[0m\n\u001b[1;32m   1936\u001b[0m   \u001b[0;32mdef\u001b[0m \u001b[0mbind\u001b[0m\u001b[0;34m(\u001b[0m\u001b[0mself\u001b[0m\u001b[0;34m,\u001b[0m \u001b[0mfun\u001b[0m\u001b[0;34m,\u001b[0m \u001b[0;34m*\u001b[0m\u001b[0margs\u001b[0m\u001b[0;34m,\u001b[0m \u001b[0;34m**\u001b[0m\u001b[0mparams\u001b[0m\u001b[0;34m)\u001b[0m\u001b[0;34m:\u001b[0m\u001b[0;34m\u001b[0m\u001b[0;34m\u001b[0m\u001b[0m\n\u001b[0;32m-> 1937\u001b[0;31m     \u001b[0;32mreturn\u001b[0m \u001b[0mcall_bind\u001b[0m\u001b[0;34m(\u001b[0m\u001b[0mself\u001b[0m\u001b[0;34m,\u001b[0m \u001b[0mfun\u001b[0m\u001b[0;34m,\u001b[0m \u001b[0;34m*\u001b[0m\u001b[0margs\u001b[0m\u001b[0;34m,\u001b[0m \u001b[0;34m**\u001b[0m\u001b[0mparams\u001b[0m\u001b[0;34m)\u001b[0m\u001b[0;34m\u001b[0m\u001b[0;34m\u001b[0m\u001b[0m\n\u001b[0m\u001b[1;32m   1938\u001b[0m \u001b[0;34m\u001b[0m\u001b[0m\n\u001b[1;32m   1939\u001b[0m   \u001b[0;32mdef\u001b[0m \u001b[0mget_bind_params\u001b[0m\u001b[0;34m(\u001b[0m\u001b[0mself\u001b[0m\u001b[0;34m,\u001b[0m \u001b[0mparams\u001b[0m\u001b[0;34m)\u001b[0m\u001b[0;34m:\u001b[0m\u001b[0;34m\u001b[0m\u001b[0;34m\u001b[0m\u001b[0m\n",
      "\u001b[0;32m/usr/local/lib/python3.8/dist-packages/jax/core.py\u001b[0m in \u001b[0;36mcall_bind\u001b[0;34m(primitive, fun, *args, **params)\u001b[0m\n\u001b[1;32m   1951\u001b[0m   \u001b[0mtracers\u001b[0m \u001b[0;34m=\u001b[0m \u001b[0mmap\u001b[0m\u001b[0;34m(\u001b[0m\u001b[0mtop_trace\u001b[0m\u001b[0;34m.\u001b[0m\u001b[0mfull_raise\u001b[0m\u001b[0;34m,\u001b[0m \u001b[0margs\u001b[0m\u001b[0;34m)\u001b[0m\u001b[0;34m\u001b[0m\u001b[0;34m\u001b[0m\u001b[0m\n\u001b[1;32m   1952\u001b[0m   \u001b[0mfun_\u001b[0m \u001b[0;34m=\u001b[0m \u001b[0mlu\u001b[0m\u001b[0;34m.\u001b[0m\u001b[0mannotate\u001b[0m\u001b[0;34m(\u001b[0m\u001b[0mfun_\u001b[0m\u001b[0;34m,\u001b[0m \u001b[0mfun\u001b[0m\u001b[0;34m.\u001b[0m\u001b[0min_type\u001b[0m\u001b[0;34m)\u001b[0m\u001b[0;34m\u001b[0m\u001b[0;34m\u001b[0m\u001b[0m\n\u001b[0;32m-> 1953\u001b[0;31m   \u001b[0mouts\u001b[0m \u001b[0;34m=\u001b[0m \u001b[0mtop_trace\u001b[0m\u001b[0;34m.\u001b[0m\u001b[0mprocess_call\u001b[0m\u001b[0;34m(\u001b[0m\u001b[0mprimitive\u001b[0m\u001b[0;34m,\u001b[0m \u001b[0mfun_\u001b[0m\u001b[0;34m,\u001b[0m \u001b[0mtracers\u001b[0m\u001b[0;34m,\u001b[0m \u001b[0mparams\u001b[0m\u001b[0;34m)\u001b[0m\u001b[0;34m\u001b[0m\u001b[0;34m\u001b[0m\u001b[0m\n\u001b[0m\u001b[1;32m   1954\u001b[0m   \u001b[0;32mreturn\u001b[0m \u001b[0mmap\u001b[0m\u001b[0;34m(\u001b[0m\u001b[0mfull_lower\u001b[0m\u001b[0;34m,\u001b[0m \u001b[0mapply_todos\u001b[0m\u001b[0;34m(\u001b[0m\u001b[0menv_trace_todo\u001b[0m\u001b[0;34m(\u001b[0m\u001b[0;34m)\u001b[0m\u001b[0;34m,\u001b[0m \u001b[0mouts\u001b[0m\u001b[0;34m)\u001b[0m\u001b[0;34m)\u001b[0m\u001b[0;34m\u001b[0m\u001b[0;34m\u001b[0m\u001b[0m\n\u001b[1;32m   1955\u001b[0m \u001b[0;34m\u001b[0m\u001b[0m\n",
      "\u001b[0;32m/usr/local/lib/python3.8/dist-packages/jax/core.py\u001b[0m in \u001b[0;36mprocess_call\u001b[0;34m(self, primitive, f, tracers, params)\u001b[0m\n\u001b[1;32m    685\u001b[0m \u001b[0;34m\u001b[0m\u001b[0m\n\u001b[1;32m    686\u001b[0m   \u001b[0;32mdef\u001b[0m \u001b[0mprocess_call\u001b[0m\u001b[0;34m(\u001b[0m\u001b[0mself\u001b[0m\u001b[0;34m,\u001b[0m \u001b[0mprimitive\u001b[0m\u001b[0;34m,\u001b[0m \u001b[0mf\u001b[0m\u001b[0;34m,\u001b[0m \u001b[0mtracers\u001b[0m\u001b[0;34m,\u001b[0m \u001b[0mparams\u001b[0m\u001b[0;34m)\u001b[0m\u001b[0;34m:\u001b[0m\u001b[0;34m\u001b[0m\u001b[0;34m\u001b[0m\u001b[0m\n\u001b[0;32m--> 687\u001b[0;31m     \u001b[0;32mreturn\u001b[0m \u001b[0mprimitive\u001b[0m\u001b[0;34m.\u001b[0m\u001b[0mimpl\u001b[0m\u001b[0;34m(\u001b[0m\u001b[0mf\u001b[0m\u001b[0;34m,\u001b[0m \u001b[0;34m*\u001b[0m\u001b[0mtracers\u001b[0m\u001b[0;34m,\u001b[0m \u001b[0;34m**\u001b[0m\u001b[0mparams\u001b[0m\u001b[0;34m)\u001b[0m\u001b[0;34m\u001b[0m\u001b[0;34m\u001b[0m\u001b[0m\n\u001b[0m\u001b[1;32m    688\u001b[0m   \u001b[0mprocess_map\u001b[0m \u001b[0;34m=\u001b[0m \u001b[0mprocess_call\u001b[0m\u001b[0;34m\u001b[0m\u001b[0;34m\u001b[0m\u001b[0m\n\u001b[1;32m    689\u001b[0m \u001b[0;34m\u001b[0m\u001b[0m\n",
      "\u001b[0;32m/usr/local/lib/python3.8/dist-packages/jax/_src/dispatch.py\u001b[0m in \u001b[0;36m_xla_call_impl\u001b[0;34m(***failed resolving arguments***)\u001b[0m\n\u001b[1;32m    207\u001b[0m   \u001b[0;32melse\u001b[0m\u001b[0;34m:\u001b[0m\u001b[0;34m\u001b[0m\u001b[0;34m\u001b[0m\u001b[0m\n\u001b[1;32m    208\u001b[0m     \u001b[0marg_specs\u001b[0m \u001b[0;34m=\u001b[0m \u001b[0;34m[\u001b[0m\u001b[0;34m(\u001b[0m\u001b[0;32mNone\u001b[0m\u001b[0;34m,\u001b[0m \u001b[0mgetattr\u001b[0m\u001b[0;34m(\u001b[0m\u001b[0mx\u001b[0m\u001b[0;34m,\u001b[0m \u001b[0;34m'_device'\u001b[0m\u001b[0;34m,\u001b[0m \u001b[0;32mNone\u001b[0m\u001b[0;34m)\u001b[0m\u001b[0;34m)\u001b[0m \u001b[0;32mfor\u001b[0m \u001b[0mx\u001b[0m \u001b[0;32min\u001b[0m \u001b[0margs\u001b[0m\u001b[0;34m]\u001b[0m\u001b[0;34m\u001b[0m\u001b[0;34m\u001b[0m\u001b[0m\n\u001b[0;32m--> 209\u001b[0;31m   compiled_fun = xla_callable(fun, device, backend, name, donated_invars,\n\u001b[0m\u001b[1;32m    210\u001b[0m                               keep_unused, *arg_specs)\n\u001b[1;32m    211\u001b[0m   \u001b[0;32mtry\u001b[0m\u001b[0;34m:\u001b[0m\u001b[0;34m\u001b[0m\u001b[0;34m\u001b[0m\u001b[0m\n",
      "\u001b[0;32m/usr/local/lib/python3.8/dist-packages/jax/linear_util.py\u001b[0m in \u001b[0;36mmemoized_fun\u001b[0;34m(fun, *args)\u001b[0m\n\u001b[1;32m    293\u001b[0m       \u001b[0mfun\u001b[0m\u001b[0;34m.\u001b[0m\u001b[0mpopulate_stores\u001b[0m\u001b[0;34m(\u001b[0m\u001b[0mstores\u001b[0m\u001b[0;34m)\u001b[0m\u001b[0;34m\u001b[0m\u001b[0;34m\u001b[0m\u001b[0m\n\u001b[1;32m    294\u001b[0m     \u001b[0;32melse\u001b[0m\u001b[0;34m:\u001b[0m\u001b[0;34m\u001b[0m\u001b[0;34m\u001b[0m\u001b[0m\n\u001b[0;32m--> 295\u001b[0;31m       \u001b[0mans\u001b[0m \u001b[0;34m=\u001b[0m \u001b[0mcall\u001b[0m\u001b[0;34m(\u001b[0m\u001b[0mfun\u001b[0m\u001b[0;34m,\u001b[0m \u001b[0;34m*\u001b[0m\u001b[0margs\u001b[0m\u001b[0;34m)\u001b[0m\u001b[0;34m\u001b[0m\u001b[0;34m\u001b[0m\u001b[0m\n\u001b[0m\u001b[1;32m    296\u001b[0m       \u001b[0mcache\u001b[0m\u001b[0;34m[\u001b[0m\u001b[0mkey\u001b[0m\u001b[0;34m]\u001b[0m \u001b[0;34m=\u001b[0m \u001b[0;34m(\u001b[0m\u001b[0mans\u001b[0m\u001b[0;34m,\u001b[0m \u001b[0mfun\u001b[0m\u001b[0;34m.\u001b[0m\u001b[0mstores\u001b[0m\u001b[0;34m)\u001b[0m\u001b[0;34m\u001b[0m\u001b[0;34m\u001b[0m\u001b[0m\n\u001b[1;32m    297\u001b[0m \u001b[0;34m\u001b[0m\u001b[0m\n",
      "\u001b[0;32m/usr/local/lib/python3.8/dist-packages/jax/_src/dispatch.py\u001b[0m in \u001b[0;36m_xla_callable_uncached\u001b[0;34m(fun, device, backend, name, donated_invars, keep_unused, *arg_specs)\u001b[0m\n\u001b[1;32m    256\u001b[0m def _xla_callable_uncached(fun: lu.WrappedFun, device, backend, name,\n\u001b[1;32m    257\u001b[0m                            donated_invars, keep_unused, *arg_specs):\n\u001b[0;32m--> 258\u001b[0;31m   return lower_xla_callable(fun, device, backend, name, donated_invars, False,\n\u001b[0m\u001b[1;32m    259\u001b[0m                             keep_unused, *arg_specs).compile().unsafe_call\n\u001b[1;32m    260\u001b[0m \u001b[0;34m\u001b[0m\u001b[0m\n",
      "\u001b[0;32m/usr/local/lib/python3.8/dist-packages/jax/_src/dispatch.py\u001b[0m in \u001b[0;36mcompile\u001b[0;34m(self)\u001b[0m\n\u001b[1;32m    851\u001b[0m       \u001b[0;32melse\u001b[0m\u001b[0;34m:\u001b[0m\u001b[0;34m\u001b[0m\u001b[0;34m\u001b[0m\u001b[0m\n\u001b[1;32m    852\u001b[0m         \u001b[0;31m# Using HLO representation on IPU. MHLO not yet supported.\u001b[0m\u001b[0;34m\u001b[0m\u001b[0;34m\u001b[0m\u001b[0;34m\u001b[0m\u001b[0m\n\u001b[0;32m--> 853\u001b[0;31m         self._executable = XlaCompiledComputation.from_xla_computation(\n\u001b[0m\u001b[1;32m    854\u001b[0m             \u001b[0mself\u001b[0m\u001b[0;34m.\u001b[0m\u001b[0mname\u001b[0m\u001b[0;34m,\u001b[0m \u001b[0mself\u001b[0m\u001b[0;34m.\u001b[0m\u001b[0mhlo\u001b[0m\u001b[0;34m(\u001b[0m\u001b[0;34m)\u001b[0m\u001b[0;34m,\u001b[0m \u001b[0mself\u001b[0m\u001b[0;34m.\u001b[0m\u001b[0m_in_type\u001b[0m\u001b[0;34m,\u001b[0m \u001b[0mself\u001b[0m\u001b[0;34m.\u001b[0m\u001b[0m_out_type\u001b[0m\u001b[0;34m,\u001b[0m\u001b[0;34m\u001b[0m\u001b[0;34m\u001b[0m\u001b[0m\n\u001b[1;32m    855\u001b[0m             **self.compile_args)\n",
      "\u001b[0;32m/usr/local/lib/python3.8/dist-packages/jax/_src/dispatch.py\u001b[0m in \u001b[0;36mfrom_xla_computation\u001b[0;34m(name, xla_computation, in_type, out_type, nreps, device, backend, tuple_args, in_avals, out_avals, has_unordered_effects, ordered_effects, kept_var_idx, keepalive, host_callbacks)\u001b[0m\n\u001b[1;32m    958\u001b[0m     with log_elapsed_time(f\"Finished XLA compilation of {name} \"\n\u001b[1;32m    959\u001b[0m                           \"in {elapsed_time} sec\"):\n\u001b[0;32m--> 960\u001b[0;31m       compiled = compile_or_get_cached(backend, xla_computation, options,\n\u001b[0m\u001b[1;32m    961\u001b[0m                                        host_callbacks)\n\u001b[1;32m    962\u001b[0m     \u001b[0mbuffer_counts\u001b[0m \u001b[0;34m=\u001b[0m \u001b[0;34m[\u001b[0m\u001b[0maval_to_num_buffers\u001b[0m\u001b[0;34m(\u001b[0m\u001b[0maval\u001b[0m\u001b[0;34m)\u001b[0m \u001b[0;32mfor\u001b[0m \u001b[0maval\u001b[0m \u001b[0;32min\u001b[0m \u001b[0mout_avals\u001b[0m\u001b[0;34m]\u001b[0m\u001b[0;34m\u001b[0m\u001b[0;34m\u001b[0m\u001b[0m\n",
      "\u001b[0;32m/usr/local/lib/python3.8/dist-packages/jax/_src/dispatch.py\u001b[0m in \u001b[0;36mcompile_or_get_cached\u001b[0;34m(backend, computation, compile_options, host_callbacks)\u001b[0m\n\u001b[1;32m    923\u001b[0m       \u001b[0mir_str\u001b[0m \u001b[0;34m=\u001b[0m \u001b[0mcomputation\u001b[0m\u001b[0;34m\u001b[0m\u001b[0;34m\u001b[0m\u001b[0m\n\u001b[1;32m    924\u001b[0m     \u001b[0m_dump_ir_to_file\u001b[0m\u001b[0;34m(\u001b[0m\u001b[0mmodule_name\u001b[0m\u001b[0;34m,\u001b[0m \u001b[0mir_str\u001b[0m\u001b[0;34m)\u001b[0m\u001b[0;34m\u001b[0m\u001b[0;34m\u001b[0m\u001b[0m\n\u001b[0;32m--> 925\u001b[0;31m   \u001b[0;32mreturn\u001b[0m \u001b[0mbackend_compile\u001b[0m\u001b[0;34m(\u001b[0m\u001b[0mbackend\u001b[0m\u001b[0;34m,\u001b[0m \u001b[0mcomputation\u001b[0m\u001b[0;34m,\u001b[0m \u001b[0mcompile_options\u001b[0m\u001b[0;34m,\u001b[0m \u001b[0mhost_callbacks\u001b[0m\u001b[0;34m)\u001b[0m\u001b[0;34m\u001b[0m\u001b[0;34m\u001b[0m\u001b[0m\n\u001b[0m\u001b[1;32m    926\u001b[0m \u001b[0;34m\u001b[0m\u001b[0m\n\u001b[1;32m    927\u001b[0m \u001b[0;34m\u001b[0m\u001b[0m\n",
      "\u001b[0;32m/usr/local/lib/python3.8/dist-packages/jax/_src/profiler.py\u001b[0m in \u001b[0;36mwrapper\u001b[0;34m(*args, **kwargs)\u001b[0m\n\u001b[1;32m    292\u001b[0m   \u001b[0;32mdef\u001b[0m \u001b[0mwrapper\u001b[0m\u001b[0;34m(\u001b[0m\u001b[0;34m*\u001b[0m\u001b[0margs\u001b[0m\u001b[0;34m,\u001b[0m \u001b[0;34m**\u001b[0m\u001b[0mkwargs\u001b[0m\u001b[0;34m)\u001b[0m\u001b[0;34m:\u001b[0m\u001b[0;34m\u001b[0m\u001b[0;34m\u001b[0m\u001b[0m\n\u001b[1;32m    293\u001b[0m     \u001b[0;32mwith\u001b[0m \u001b[0mTraceAnnotation\u001b[0m\u001b[0;34m(\u001b[0m\u001b[0mname\u001b[0m\u001b[0;34m,\u001b[0m \u001b[0;34m**\u001b[0m\u001b[0mdecorator_kwargs\u001b[0m\u001b[0;34m)\u001b[0m\u001b[0;34m:\u001b[0m\u001b[0;34m\u001b[0m\u001b[0;34m\u001b[0m\u001b[0m\n\u001b[0;32m--> 294\u001b[0;31m       \u001b[0;32mreturn\u001b[0m \u001b[0mfunc\u001b[0m\u001b[0;34m(\u001b[0m\u001b[0;34m*\u001b[0m\u001b[0margs\u001b[0m\u001b[0;34m,\u001b[0m \u001b[0;34m**\u001b[0m\u001b[0mkwargs\u001b[0m\u001b[0;34m)\u001b[0m\u001b[0;34m\u001b[0m\u001b[0;34m\u001b[0m\u001b[0m\n\u001b[0m\u001b[1;32m    295\u001b[0m     \u001b[0;32mreturn\u001b[0m \u001b[0mwrapper\u001b[0m\u001b[0;34m\u001b[0m\u001b[0;34m\u001b[0m\u001b[0m\n\u001b[1;32m    296\u001b[0m   \u001b[0;32mreturn\u001b[0m \u001b[0mwrapper\u001b[0m\u001b[0;34m\u001b[0m\u001b[0;34m\u001b[0m\u001b[0m\n",
      "\u001b[0;32m/usr/local/lib/python3.8/dist-packages/jax/_src/dispatch.py\u001b[0m in \u001b[0;36mbackend_compile\u001b[0;34m(backend, built_c, options, host_callbacks)\u001b[0m\n\u001b[1;32m    867\u001b[0m   \u001b[0;31m# TODO(sharadmv): remove this fallback when all backends allow `compile`\u001b[0m\u001b[0;34m\u001b[0m\u001b[0;34m\u001b[0m\u001b[0;34m\u001b[0m\u001b[0m\n\u001b[1;32m    868\u001b[0m   \u001b[0;31m# to take in `host_callbacks`\u001b[0m\u001b[0;34m\u001b[0m\u001b[0;34m\u001b[0m\u001b[0;34m\u001b[0m\u001b[0m\n\u001b[0;32m--> 869\u001b[0;31m   \u001b[0;32mreturn\u001b[0m \u001b[0mbackend\u001b[0m\u001b[0;34m.\u001b[0m\u001b[0mcompile\u001b[0m\u001b[0;34m(\u001b[0m\u001b[0mbuilt_c\u001b[0m\u001b[0;34m,\u001b[0m \u001b[0mcompile_options\u001b[0m\u001b[0;34m=\u001b[0m\u001b[0moptions\u001b[0m\u001b[0;34m)\u001b[0m\u001b[0;34m\u001b[0m\u001b[0;34m\u001b[0m\u001b[0m\n\u001b[0m\u001b[1;32m    870\u001b[0m \u001b[0;34m\u001b[0m\u001b[0m\n\u001b[1;32m    871\u001b[0m \u001b[0;31m# TODO(phawkins): update users.\u001b[0m\u001b[0;34m\u001b[0m\u001b[0;34m\u001b[0m\u001b[0;34m\u001b[0m\u001b[0m\n",
      "\u001b[0;31mKeyboardInterrupt\u001b[0m: "
     ]
    }
   ],
   "source": [
    "from rdkit import Chem\n",
    "\n",
    "from pyscf_ipu.dft import angstrom_to_bohr, get_atom_string, jax_dft, recompute\n",
    "\n",
    "print(\"Length GDB: \", len(args.smiles))\n",
    "\n",
    "if args.limit != -1:\n",
    "    args.smiles = args.smiles[:args.limit]\n",
    "\n",
    "for i in range(int(args.id), min(int(args.id)+1000, len(args.smiles))):\n",
    "    smile = args.smiles[i]\n",
    "\n",
    "    print('Trying', smile)\n",
    "\n",
    "    b = Chem.MolFromSmiles(smile)\n",
    "    b = Chem.AddHs(b, explicitOnly=False)\n",
    "\n",
    "    e = Chem.AllChem.EmbedMolecule(b)\n",
    "    if e == -1:\n",
    "       print('Did not embed', b) \n",
    "       continue\n",
    "\n",
    "    locs = b.GetConformer().GetPositions() * angstrom_to_bohr\n",
    "    atoms = [atom.GetSymbol() for atom in b.GetAtoms()]\n",
    "    atom_string, string = get_atom_string(\" \".join(atoms), locs)\n",
    "\n",
    "    print('Conformer: ', string)\n",
    "    break\n",
    "\n",
    "recompute(args, None, 0, 0, our_fun=jax_dft, str=string)"
   ]
  },
  {
   "cell_type": "markdown",
   "id": "e0ec0c9d",
   "metadata": {},
   "source": [
    "# Loading & visualizing generated data\n",
    "\n",
    "After the dataset has been created, we can load the data.\n",
    "(You may wish to spin up a new notebook, and view the data as \n",
    "it's being generated in this one)."
   ]
  },
  {
   "cell_type": "code",
   "execution_count": 12,
   "id": "d778133f",
   "metadata": {
    "execution": {
     "iopub.execute_input": "2023-09-19T11:22:53.500021Z",
     "iopub.status.busy": "2023-09-19T11:22:53.499627Z",
     "iopub.status.idle": "2023-09-19T11:22:53.518456Z",
     "shell.execute_reply": "2023-09-19T11:22:53.517740Z",
     "shell.execute_reply.started": "2023-09-19T11:22:53.500001Z"
    }
   },
   "outputs": [],
   "source": [
    "import pandas as pd"
   ]
  },
  {
   "cell_type": "code",
   "execution_count": 13,
   "id": "3dfd2293",
   "metadata": {
    "execution": {
     "iopub.execute_input": "2023-09-19T11:22:54.513539Z",
     "iopub.status.busy": "2023-09-19T11:22:54.513306Z",
     "iopub.status.idle": "2023-09-19T11:22:54.543391Z",
     "shell.execute_reply": "2023-09-19T11:22:54.542629Z",
     "shell.execute_reply.started": "2023-09-19T11:22:54.513520Z"
    }
   },
   "outputs": [],
   "source": [
    "# Output DFT dataset is a compressed CSV file.\n",
    "# NOTE: it may take a couple of minutes before the file is generated.\n",
    "rootpath = f'./data/generated/{args.fname}/'\n",
    "paths = sorted(os.listdir(rootpath), key=lambda x: os.path.getmtime(rootpath + x))\n",
    "filename = os.path.join(rootpath, paths[-1], \"data.csv\")\n",
    "\n",
    "df = pd.read_csv(filename, compression=\"gzip\")"
   ]
  },
  {
   "cell_type": "code",
   "execution_count": 14,
   "id": "b3e816e8",
   "metadata": {
    "execution": {
     "iopub.execute_input": "2023-09-19T11:22:56.683299Z",
     "iopub.status.busy": "2023-09-19T11:22:56.682924Z",
     "iopub.status.idle": "2023-09-19T11:22:56.719309Z",
     "shell.execute_reply": "2023-09-19T11:22:56.718752Z",
     "shell.execute_reply.started": "2023-09-19T11:22:56.683279Z"
    }
   },
   "outputs": [
    {
     "data": {
      "text/html": [
       "<div>\n",
       "<style scoped>\n",
       "    .dataframe tbody tr th:only-of-type {\n",
       "        vertical-align: middle;\n",
       "    }\n",
       "\n",
       "    .dataframe tbody tr th {\n",
       "        vertical-align: top;\n",
       "    }\n",
       "\n",
       "    .dataframe thead th {\n",
       "        text-align: right;\n",
       "    }\n",
       "</style>\n",
       "<table border=\"1\" class=\"dataframe\">\n",
       "  <thead>\n",
       "    <tr style=\"text-align: right;\">\n",
       "      <th></th>\n",
       "      <th>Unnamed: 0</th>\n",
       "      <th>smile</th>\n",
       "      <th>atoms</th>\n",
       "      <th>atom_positions</th>\n",
       "      <th>energies</th>\n",
       "      <th>std</th>\n",
       "      <th>pyscf_energies</th>\n",
       "      <th>pyscf_hlgap</th>\n",
       "      <th>pyscf_homo</th>\n",
       "      <th>pyscf_lumo</th>\n",
       "      <th>times</th>\n",
       "      <th>homo</th>\n",
       "      <th>lumo</th>\n",
       "      <th>hlgap</th>\n",
       "      <th>N</th>\n",
       "      <th>basis</th>\n",
       "    </tr>\n",
       "  </thead>\n",
       "  <tbody>\n",
       "    <tr>\n",
       "      <th>0</th>\n",
       "      <td>0</td>\n",
       "      <td>FC(F)(C#N)C(=O)C#N</td>\n",
       "      <td>FCFCNCOCN</td>\n",
       "      <td>[0.15332033500393688, -2.3606980417798886, -2....</td>\n",
       "      <td>[-14387.150902075824, -14321.477650378294, -14...</td>\n",
       "      <td>0.000685</td>\n",
       "      <td>[0.0]</td>\n",
       "      <td>0</td>\n",
       "      <td>0</td>\n",
       "      <td>0</td>\n",
       "      <td>[4.5198e+03 0.0000e+00 0.0000e+00 1.0000e-01 3...</td>\n",
       "      <td>-5.872426</td>\n",
       "      <td>-0.872470</td>\n",
       "      <td>4.999956</td>\n",
       "      <td>45</td>\n",
       "      <td>STO-3G</td>\n",
       "    </tr>\n",
       "    <tr>\n",
       "      <th>1</th>\n",
       "      <td>0</td>\n",
       "      <td>FC(F)(C#N)C(=O)C#N</td>\n",
       "      <td>FCFCNCOCN</td>\n",
       "      <td>[-2.3403320213763945, -1.054070549382328, 2.95...</td>\n",
       "      <td>[-14386.940987492488, -14327.730510746002, -14...</td>\n",
       "      <td>0.001410</td>\n",
       "      <td>[0.0]</td>\n",
       "      <td>0</td>\n",
       "      <td>0</td>\n",
       "      <td>0</td>\n",
       "      <td>[4.3918e+03 0.0000e+00 1.0000e-01 1.0000e-01 3...</td>\n",
       "      <td>-5.924247</td>\n",
       "      <td>-1.223614</td>\n",
       "      <td>4.700633</td>\n",
       "      <td>45</td>\n",
       "      <td>STO-3G</td>\n",
       "    </tr>\n",
       "    <tr>\n",
       "      <th>2</th>\n",
       "      <td>0</td>\n",
       "      <td>FC(F)(C#N)C(=O)C#N</td>\n",
       "      <td>FCFCNCOCN</td>\n",
       "      <td>[-2.508312250101616, -2.9848902777921023, 0.05...</td>\n",
       "      <td>[-14386.867679381283, -14319.960709000135, -14...</td>\n",
       "      <td>0.001749</td>\n",
       "      <td>[0.0]</td>\n",
       "      <td>0</td>\n",
       "      <td>0</td>\n",
       "      <td>0</td>\n",
       "      <td>[4.4863e+03 0.0000e+00 1.0000e-01 1.0000e-01 3...</td>\n",
       "      <td>-5.924836</td>\n",
       "      <td>-1.235037</td>\n",
       "      <td>4.689799</td>\n",
       "      <td>45</td>\n",
       "      <td>STO-3G</td>\n",
       "    </tr>\n",
       "    <tr>\n",
       "      <th>3</th>\n",
       "      <td>0</td>\n",
       "      <td>FC(F)(C#N)C(=O)C#N</td>\n",
       "      <td>FCFCNCOCN</td>\n",
       "      <td>[-3.2551803300125353, -2.1329334256170753, 0.8...</td>\n",
       "      <td>[-14387.076018358, -14329.75193126052, -14398....</td>\n",
       "      <td>0.001727</td>\n",
       "      <td>[0.0]</td>\n",
       "      <td>0</td>\n",
       "      <td>0</td>\n",
       "      <td>0</td>\n",
       "      <td>[4.4778e+03 1.0000e-01 0.0000e+00 1.0000e-01 3...</td>\n",
       "      <td>-5.899619</td>\n",
       "      <td>-1.169639</td>\n",
       "      <td>4.729980</td>\n",
       "      <td>45</td>\n",
       "      <td>STO-3G</td>\n",
       "    </tr>\n",
       "    <tr>\n",
       "      <th>4</th>\n",
       "      <td>0</td>\n",
       "      <td>FC(F)(C#N)C(=O)C#N</td>\n",
       "      <td>FCFCNCOCN</td>\n",
       "      <td>[-2.84609364909322, -2.7599543764642225, -0.10...</td>\n",
       "      <td>[-14386.926915515363, -14322.835535730032, -14...</td>\n",
       "      <td>0.001680</td>\n",
       "      <td>[0.0]</td>\n",
       "      <td>0</td>\n",
       "      <td>0</td>\n",
       "      <td>0</td>\n",
       "      <td>[4.3595e+03 0.0000e+00 0.0000e+00 1.0000e-01 3...</td>\n",
       "      <td>-5.838394</td>\n",
       "      <td>-1.148967</td>\n",
       "      <td>4.689428</td>\n",
       "      <td>45</td>\n",
       "      <td>STO-3G</td>\n",
       "    </tr>\n",
       "    <tr>\n",
       "      <th>...</th>\n",
       "      <td>...</td>\n",
       "      <td>...</td>\n",
       "      <td>...</td>\n",
       "      <td>...</td>\n",
       "      <td>...</td>\n",
       "      <td>...</td>\n",
       "      <td>...</td>\n",
       "      <td>...</td>\n",
       "      <td>...</td>\n",
       "      <td>...</td>\n",
       "      <td>...</td>\n",
       "      <td>...</td>\n",
       "      <td>...</td>\n",
       "      <td>...</td>\n",
       "      <td>...</td>\n",
       "      <td>...</td>\n",
       "    </tr>\n",
       "    <tr>\n",
       "      <th>141</th>\n",
       "      <td>0</td>\n",
       "      <td>O=c1nc(nno1)C#N</td>\n",
       "      <td>OCNCNNOCN</td>\n",
       "      <td>[-4.975797037092851, -0.10223483890282797, 1.6...</td>\n",
       "      <td>[-12967.214870320147, -12844.203558009567, -12...</td>\n",
       "      <td>0.000489</td>\n",
       "      <td>[0.0]</td>\n",
       "      <td>0</td>\n",
       "      <td>0</td>\n",
       "      <td>0</td>\n",
       "      <td>[4.4596e+03 1.0000e-01 0.0000e+00 1.0000e-01 2...</td>\n",
       "      <td>-5.406635</td>\n",
       "      <td>-2.607664</td>\n",
       "      <td>2.798971</td>\n",
       "      <td>45</td>\n",
       "      <td>STO-3G</td>\n",
       "    </tr>\n",
       "    <tr>\n",
       "      <th>142</th>\n",
       "      <td>0</td>\n",
       "      <td>O=c1nc(nno1)C#N</td>\n",
       "      <td>OCNCNNOCN</td>\n",
       "      <td>[-1.6667435103637371, 4.803784367677628, -1.16...</td>\n",
       "      <td>[-12967.173270446034, -12841.313417319576, -12...</td>\n",
       "      <td>0.001113</td>\n",
       "      <td>[0.0]</td>\n",
       "      <td>0</td>\n",
       "      <td>0</td>\n",
       "      <td>0</td>\n",
       "      <td>[4.4013e+03 0.0000e+00 0.0000e+00 1.0000e-01 2...</td>\n",
       "      <td>-5.428957</td>\n",
       "      <td>-2.577853</td>\n",
       "      <td>2.851104</td>\n",
       "      <td>45</td>\n",
       "      <td>STO-3G</td>\n",
       "    </tr>\n",
       "    <tr>\n",
       "      <th>143</th>\n",
       "      <td>0</td>\n",
       "      <td>O=c1nc(nno1)C#N</td>\n",
       "      <td>OCNCNNOCN</td>\n",
       "      <td>[-3.565835428561025, 1.1894789789949995, -3.62...</td>\n",
       "      <td>[-12967.267687429836, -12840.808835446367, -12...</td>\n",
       "      <td>0.001271</td>\n",
       "      <td>[0.0]</td>\n",
       "      <td>0</td>\n",
       "      <td>0</td>\n",
       "      <td>0</td>\n",
       "      <td>[4.5021e+03 1.0000e-01 0.0000e+00 1.0000e-01 2...</td>\n",
       "      <td>-5.434490</td>\n",
       "      <td>-2.590510</td>\n",
       "      <td>2.843980</td>\n",
       "      <td>45</td>\n",
       "      <td>STO-3G</td>\n",
       "    </tr>\n",
       "    <tr>\n",
       "      <th>144</th>\n",
       "      <td>0</td>\n",
       "      <td>O=c1nc(nno1)C#N</td>\n",
       "      <td>OCNCNNOCN</td>\n",
       "      <td>[-2.3093834500910693, -4.5080600038703045, -1....</td>\n",
       "      <td>[-12967.429002059404, -12842.168408659896, -12...</td>\n",
       "      <td>0.000779</td>\n",
       "      <td>[0.0]</td>\n",
       "      <td>0</td>\n",
       "      <td>0</td>\n",
       "      <td>0</td>\n",
       "      <td>[4.5073e+03 0.0000e+00 0.0000e+00 1.0000e-01 2...</td>\n",
       "      <td>-5.460477</td>\n",
       "      <td>-2.586699</td>\n",
       "      <td>2.873778</td>\n",
       "      <td>45</td>\n",
       "      <td>STO-3G</td>\n",
       "    </tr>\n",
       "    <tr>\n",
       "      <th>145</th>\n",
       "      <td>0</td>\n",
       "      <td>O=c1nc(nno1)C#N</td>\n",
       "      <td>OCNCNNOCN</td>\n",
       "      <td>[-1.5283189038421345, -2.436824158767289, 4.31...</td>\n",
       "      <td>[-12967.465388328501, -12846.651550934263, -12...</td>\n",
       "      <td>0.000782</td>\n",
       "      <td>[0.0]</td>\n",
       "      <td>0</td>\n",
       "      <td>0</td>\n",
       "      <td>0</td>\n",
       "      <td>[4.4193e+03 1.0000e-01 0.0000e+00 1.0000e-01 3...</td>\n",
       "      <td>-5.516421</td>\n",
       "      <td>-2.567992</td>\n",
       "      <td>2.948429</td>\n",
       "      <td>45</td>\n",
       "      <td>STO-3G</td>\n",
       "    </tr>\n",
       "  </tbody>\n",
       "</table>\n",
       "<p>146 rows × 16 columns</p>\n",
       "</div>"
      ],
      "text/plain": [
       "     Unnamed: 0               smile      atoms  \\\n",
       "0             0  FC(F)(C#N)C(=O)C#N  FCFCNCOCN   \n",
       "1             0  FC(F)(C#N)C(=O)C#N  FCFCNCOCN   \n",
       "2             0  FC(F)(C#N)C(=O)C#N  FCFCNCOCN   \n",
       "3             0  FC(F)(C#N)C(=O)C#N  FCFCNCOCN   \n",
       "4             0  FC(F)(C#N)C(=O)C#N  FCFCNCOCN   \n",
       "..          ...                 ...        ...   \n",
       "141           0     O=c1nc(nno1)C#N  OCNCNNOCN   \n",
       "142           0     O=c1nc(nno1)C#N  OCNCNNOCN   \n",
       "143           0     O=c1nc(nno1)C#N  OCNCNNOCN   \n",
       "144           0     O=c1nc(nno1)C#N  OCNCNNOCN   \n",
       "145           0     O=c1nc(nno1)C#N  OCNCNNOCN   \n",
       "\n",
       "                                        atom_positions  \\\n",
       "0    [0.15332033500393688, -2.3606980417798886, -2....   \n",
       "1    [-2.3403320213763945, -1.054070549382328, 2.95...   \n",
       "2    [-2.508312250101616, -2.9848902777921023, 0.05...   \n",
       "3    [-3.2551803300125353, -2.1329334256170753, 0.8...   \n",
       "4    [-2.84609364909322, -2.7599543764642225, -0.10...   \n",
       "..                                                 ...   \n",
       "141  [-4.975797037092851, -0.10223483890282797, 1.6...   \n",
       "142  [-1.6667435103637371, 4.803784367677628, -1.16...   \n",
       "143  [-3.565835428561025, 1.1894789789949995, -3.62...   \n",
       "144  [-2.3093834500910693, -4.5080600038703045, -1....   \n",
       "145  [-1.5283189038421345, -2.436824158767289, 4.31...   \n",
       "\n",
       "                                              energies       std  \\\n",
       "0    [-14387.150902075824, -14321.477650378294, -14...  0.000685   \n",
       "1    [-14386.940987492488, -14327.730510746002, -14...  0.001410   \n",
       "2    [-14386.867679381283, -14319.960709000135, -14...  0.001749   \n",
       "3    [-14387.076018358, -14329.75193126052, -14398....  0.001727   \n",
       "4    [-14386.926915515363, -14322.835535730032, -14...  0.001680   \n",
       "..                                                 ...       ...   \n",
       "141  [-12967.214870320147, -12844.203558009567, -12...  0.000489   \n",
       "142  [-12967.173270446034, -12841.313417319576, -12...  0.001113   \n",
       "143  [-12967.267687429836, -12840.808835446367, -12...  0.001271   \n",
       "144  [-12967.429002059404, -12842.168408659896, -12...  0.000779   \n",
       "145  [-12967.465388328501, -12846.651550934263, -12...  0.000782   \n",
       "\n",
       "    pyscf_energies  pyscf_hlgap  pyscf_homo  pyscf_lumo  \\\n",
       "0            [0.0]            0           0           0   \n",
       "1            [0.0]            0           0           0   \n",
       "2            [0.0]            0           0           0   \n",
       "3            [0.0]            0           0           0   \n",
       "4            [0.0]            0           0           0   \n",
       "..             ...          ...         ...         ...   \n",
       "141          [0.0]            0           0           0   \n",
       "142          [0.0]            0           0           0   \n",
       "143          [0.0]            0           0           0   \n",
       "144          [0.0]            0           0           0   \n",
       "145          [0.0]            0           0           0   \n",
       "\n",
       "                                                 times      homo      lumo  \\\n",
       "0    [4.5198e+03 0.0000e+00 0.0000e+00 1.0000e-01 3... -5.872426 -0.872470   \n",
       "1    [4.3918e+03 0.0000e+00 1.0000e-01 1.0000e-01 3... -5.924247 -1.223614   \n",
       "2    [4.4863e+03 0.0000e+00 1.0000e-01 1.0000e-01 3... -5.924836 -1.235037   \n",
       "3    [4.4778e+03 1.0000e-01 0.0000e+00 1.0000e-01 3... -5.899619 -1.169639   \n",
       "4    [4.3595e+03 0.0000e+00 0.0000e+00 1.0000e-01 3... -5.838394 -1.148967   \n",
       "..                                                 ...       ...       ...   \n",
       "141  [4.4596e+03 1.0000e-01 0.0000e+00 1.0000e-01 2... -5.406635 -2.607664   \n",
       "142  [4.4013e+03 0.0000e+00 0.0000e+00 1.0000e-01 2... -5.428957 -2.577853   \n",
       "143  [4.5021e+03 1.0000e-01 0.0000e+00 1.0000e-01 2... -5.434490 -2.590510   \n",
       "144  [4.5073e+03 0.0000e+00 0.0000e+00 1.0000e-01 2... -5.460477 -2.586699   \n",
       "145  [4.4193e+03 1.0000e-01 0.0000e+00 1.0000e-01 3... -5.516421 -2.567992   \n",
       "\n",
       "        hlgap   N   basis  \n",
       "0    4.999956  45  STO-3G  \n",
       "1    4.700633  45  STO-3G  \n",
       "2    4.689799  45  STO-3G  \n",
       "3    4.729980  45  STO-3G  \n",
       "4    4.689428  45  STO-3G  \n",
       "..        ...  ..     ...  \n",
       "141  2.798971  45  STO-3G  \n",
       "142  2.851104  45  STO-3G  \n",
       "143  2.843980  45  STO-3G  \n",
       "144  2.873778  45  STO-3G  \n",
       "145  2.948429  45  STO-3G  \n",
       "\n",
       "[146 rows x 16 columns]"
      ]
     },
     "execution_count": 14,
     "metadata": {},
     "output_type": "execute_result"
    }
   ],
   "source": [
    "df"
   ]
  },
  {
   "cell_type": "code",
   "execution_count": 15,
   "id": "9cd76867",
   "metadata": {
    "execution": {
     "iopub.execute_input": "2023-09-19T11:23:14.674865Z",
     "iopub.status.busy": "2023-09-19T11:23:14.674473Z",
     "iopub.status.idle": "2023-09-19T11:23:14.695157Z",
     "shell.execute_reply": "2023-09-19T11:23:14.694107Z",
     "shell.execute_reply.started": "2023-09-19T11:23:14.674846Z"
    }
   },
   "outputs": [
    {
     "data": {
      "text/plain": [
       "0      4.999956\n",
       "1      4.700633\n",
       "2      4.689799\n",
       "3      4.729980\n",
       "4      4.689428\n",
       "         ...   \n",
       "141    2.798971\n",
       "142    2.851104\n",
       "143    2.843980\n",
       "144    2.873778\n",
       "145    2.948429\n",
       "Name: hlgap, Length: 146, dtype: float64"
      ]
     },
     "execution_count": 15,
     "metadata": {},
     "output_type": "execute_result"
    }
   ],
   "source": [
    "# HLgap data.\n",
    "df[\"hlgap\"]"
   ]
  },
  {
   "cell_type": "code",
   "execution_count": null,
   "id": "fb46e364-e56f-48b5-8be5-c913444e9c07",
   "metadata": {},
   "outputs": [],
   "source": []
  }
 ],
 "metadata": {
  "kernelspec": {
   "display_name": "Python 3",
   "language": "python",
   "name": "python3"
  },
  "language_info": {
   "codemirror_mode": {
    "name": "ipython",
    "version": 3
   },
   "file_extension": ".py",
   "mimetype": "text/x-python",
   "name": "python",
   "nbconvert_exporter": "python",
   "pygments_lexer": "ipython3",
   "version": "3.8.10"
  }
 },
 "nbformat": 4,
 "nbformat_minor": 5
}
