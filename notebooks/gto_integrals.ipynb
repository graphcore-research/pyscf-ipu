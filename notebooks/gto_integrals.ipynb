{
 "cells": [
  {
   "cell_type": "markdown",
   "metadata": {},
   "source": [
    "*Copyright (c) 2023 Graphcore Ltd. All rights reserved.*\n",
    "\n",
    "$$\n",
    "\\def\\br{\\mathbf{r}}\n",
    "\\def\\bA{\\mathbf{A}}\n",
    "$$\n",
    "\n",
    "# Integrals over Gaussian Type Orbitals (GTO)\n",
    "\n",
    "We have a molecule comprising $M$ atoms (Mnemonic: $M$ for $\\text{ato}M$),\n",
    "each with atomic number $Z_m$ and position $\\br_m \\in \\mathbb{R}^3$\n",
    "$$\n",
    "\\mathcal{A} = \\{ (Z_m, \\br_m) \\}_{m=1}^{M}\n",
    "$$\n",
    "Each atom in the molecule contributes both negatively charged electrons that are bound \n",
    "to a positively charged nucleus. Both the number of electrons and the charge on the\n",
    "nucleus can be found from the periodic table.  For a concrete example, a single Oxygen\n",
    "atom has atomic number 8 and this implies a charge of $Z = 8$ located at the position\n",
    "$\\br$.  This charge on the nucleus is balanced by eight negatively charged electrons.\n",
    "\n",
    "\n",
    "We will represent the electron density of the molecule from the eigenstates:\n",
    "$$\n",
    "\\rho(\\br) = \\sum_{m=1}^M f_m | \\psi_m(\\br) |^2\n",
    "$$\n",
    "Atom $m$ has $I(Z_m)$ basis functions (determined by $Z_m$ and the basis set in use),\n",
    "with coefficients $C = [c_{mi}]_{i=1}^{I(Z_m)}$:\n",
    "$$\n",
    "\\psi_m(\\br) = \\sum_{i=1}^{I(Z_m)} c_{mi}~ \\phi_{Z_m,i}(\\br - \\br_m)\n",
    "$$\n",
    "We can think of $C$ as a jagged array of coefficients, in terms of which the overall system is described by\n",
    "$$\n",
    "\\psi(\\br) = \\sum_{m=1}^M \\sum_{i=1}^{I(Z_m)} c_{mi} \\phi_{Z_m,i}(\\br - \\br_m),\n",
    "$$\n",
    "and we can think of the task of DFT as being to determine the values $C$ which minimize\n",
    "total energy.  That is: the task of DFT is to determine $\\psi$, and here $\\psi$ is \n",
    "specified by $C$, so the task is to determine $C$, for example by iteratively solving\n",
    "Kohn-Sham equations using the self-consistent field (SCF) method.\n",
    "\n",
    "<!-- See for example\n",
    "> Lehtola, S., Blockhuys, F. and Van Alsenoy, C., 2020. An overview of self-consistent field calculations within finite basis sets. Molecules, 25(5), p.1218. [open access](https://doi.org/10.3390/molecules25051218) -->\n",
    "\n",
    "Each function $\\phi_{Z,i}$ is defined by the basis set as a fixed linear combination \n",
    "of primitive functions $p(\\br; \\nu)$, known as a \"contraction\":\n",
    "$$\n",
    "\\forall_{i=1}^{I(Z)}: \\phi_{Z,i}(\\br) = \\sum_{k=1}^{K(Z,i)} d_{Z,i,k} ~ p_{f(Z,i,k)}(\\br; \\nu_{Z,i,k})\n",
    "$$\n",
    "The values of $d,\\nu$ and the function type $f$ are read from standard tables of basis sets.\n",
    "In general the lengths $K(z,i)$ of the contractions have been pre-optimised alongside the contraction coefficients $d_{z,i,k}$ and the primitive exponents $\\alpha_\\mu$ to best approximate atomic orbitals.  A range of Gaussian basis sets covering the periodic table with different compute-time-vs-accuracy tradeoffs are available from the [basis set exchange](https://www.basissetexchange.org/).  We use their python API in this project to provide programmatic access to these basis sets.\n",
    "As these functions $\\phi$ are often taken as approximations of atomic orbitals, \n",
    "this is referred to as the linear combination of atomic orbitals (LCAO) method in the literature.\n",
    "\n",
    "In this, we will consider only the function type \"GTO\", for Gaussian-type Orbital,\n",
    "where the parameter packet $\\nu$ comprises three non-negative integers $(l,m,n)$, \n",
    "called \"angular momentum quantum numbers\",\n",
    "and a real value $\\alpha$, the \"exponent\".\n",
    "The primitive is\n",
    "$$\n",
    "\\def\\normp{N}\n",
    "\\def\\pgto{p_{\\text{GTO}}}\n",
    "\\pgto(\\br; \\nu) = \\pgto(\\br; l,m,n,\\alpha) = \\normp(l,m,n,\\alpha) ~ x^l y^m z^n \\exp(-\\alpha\\|\\br\\|^2)\n",
    "$$\n",
    "where the normalizing constant $\\normp(l,m,n,\\alpha)$ is a function of $\\alpha$ and $(l, m, n)$\n",
    "and is chosen so that the function integrates to 1, as derived later in this notebook.\n",
    "In the following, as we are dealing only with GTO, we will simply write $p$ instead of $\\pgto$.\n",
    "\n",
    "Noting that a linear combination (LC) of LCs is just another LC, we will often \n",
    "contract the two sets of coefficients, writing\n",
    "$$\n",
    "\\psi_m(\\br) = \\sum_{i=1}^{I(Z_m)} c_{mi} \\sum_{k=1}^{K(z,i)} d_{Z_m,i,k} ~ p(\\br - \\br_m; \\nu_{Z_m,i,k})\n",
    "$$\n",
    "as\n",
    "$$\n",
    "\\psi_m(\\br) = \\sum_{j=1}^{I_m} a_{mj}~ p(\\br - \\br_m; \\nu_{mj})\n",
    "$$\n",
    "where $I_m$ is just the total number of different $\\nu$ values in the basis set for atom $Z_m$.\n",
    "For most basis sets, this will mean $I_m = \\sum_i K(Z_m,i)$.\n",
    "\n",
    "### This notebook\n",
    "\n",
    "This notebook derives several key computations involved in DFT.\n",
    "In particular, DFT involves integrals of the form\n",
    "$$\n",
    "\\def\\op{\\mathcal{Q}}\n",
    "\\langle\\psi|\\op|\\psi\\rangle = \\int \\int \\psi(\\br_1) ~\\op \\psi(\\br_2) ~g(\\br_1, \\br_2) d \\br_1 d \\br_2\n",
    "$$\n",
    "where $\\op\\psi$ is a transformation of function $\\psi$ by an operator $\\op$, such as gradient $\\nabla$, and the function $g$ is some function of a pair of points, e.g. $g(\\mathbf r, \\mathbf s) = \\|\\mathbf r - \\mathbf s\\|^{-1}$.\n",
    "Such integrals can be written in terms of the per-atom (or \"per-center\") functions $\\psi_m$\n",
    "$$\n",
    "\\langle\\psi|\\op|\\psi\\rangle = \\sum_{m_1=1}^M \\sum_{m_2=1}^M \\int \\int \\psi_{m_1}(\\br_1) ~\\op \\psi_{m_2}(\\br_2) ~g(\\br_1, \\br_2) d \\br_1 d \\br_2\n",
    "$$\n",
    "and then in terms of the primitives $p$, where again $\\op p$ is the operator $\\op$ applied to $p(\\br;...)$.\n",
    "$$\n",
    "\\langle\\psi|Q|\\psi\\rangle = \\sum_{m_1=1}^M \\sum_{m_2=1}^M \n",
    "  \\sum_{j_1=1}^{I_{m_1}} \\sum_{j_2=1}^{I_{m_2}} \n",
    "   a_{m_1,j_1} a_{m_2,j_2} \n",
    "  \\int \\int p(\\br_1 - \\br_{m_1}; \\nu_{m_1,j_1}) ~\\op p(\\br_2 - \\br_{m_2}; \\nu_{m_2,j_2}) ~ g(\\br_1, \\br_2) d \\br_1 d \\br_2\n",
    "$$\n",
    "all of which depends on the ability to compute integrals of the form\n",
    "$$\n",
    "\\def\\bB{\\mathbf B}\n",
    "\\int \\int p(\\br_1 - \\bA; \\nu_A) ~\\op p(\\br_2 - \\bB; \\nu_B) ~g(\\br_1, \\br_2) ~d \\br_1 d \\br_2\n",
    "$$\n",
    "We will describe how to do so in the following, but first let's briefly look at the basis functions for a simple example."
   ]
  },
  {
   "cell_type": "markdown",
   "metadata": {},
   "source": [
    "## Basis set for a single-atom molecule\n",
    "\n",
    "Before deriving the integrals, we use the `basisset` function to build the atomic orbitals of a single oxygen atom $M=1$, $Z_1 = 8$, illustraiting typical values for the numbers of orbitals and consequent numbers of primitives.\n",
    "The `Basis` object built by `basisset` consists of a list of `Orbital` objects which are defined by a set of `coefficients` and corresponding `Primitive` objects.\n",
    "\n",
    "A Basis set should define the following quantities:\n",
    "\n",
    "For each atomic number $Z$, the number of basis functions, or \"orbitals\" is $I(Z)$.\n",
    "\n",
    "For each basis function $i \\in \\{1..I(Z)\\}$, the number of primitives is $K(Z, i)$."
   ]
  },
  {
   "cell_type": "code",
   "execution_count": 16,
   "metadata": {},
   "outputs": [
    {
     "name": "stdout",
     "output_type": "stream",
     "text": [
      "The sto-3g basis for Z=8 has I(Z)=5\n"
     ]
    }
   ],
   "source": [
    "import numpy as np\n",
    "from pyscf_ipu.experimental.structure import Structure\n",
    "from pyscf_ipu.experimental.basis import basisset\n",
    "\n",
    "Z = 8\n",
    "basisname = \"sto-3g\"\n",
    "oxygen = Structure(atomic_number=np.array([Z]), position=np.zeros(3))\n",
    "basis = basisset(oxygen, basisname)\n",
    "print(f'The {basisname} basis for {Z=} has I(Z)={basis.num_orbitals}')"
   ]
  },
  {
   "cell_type": "markdown",
   "metadata": {},
   "source": [
    "The number of atomic orbitals follows from the [Aufbau principle](https://en.wikipedia.org/wiki/Aufbau_principle).  Applying this to a single Oxygen atom predicts the electron configuration as $1s^2 2s^2 2p^4$ which keeping in mind that the $2p$ atomic orbitals will consist of three orbitals we arrive at five atomic orbitals for a single oxygen atom.\n",
    "\n",
    "This rule applies when using a minimal basis set such as `\"sto-3g\"` which uses a\n",
    "contraction of 3 Gaussians to approximate each atomic orbital.  From this we expect a total of 15 primitives in the basis set for a single oxygen atom:"
   ]
  },
  {
   "cell_type": "code",
   "execution_count": 17,
   "metadata": {},
   "outputs": [
    {
     "name": "stdout",
     "output_type": "stream",
     "text": [
      "sto-3g for Z=8 has 5 basis functions/orbitals\n",
      "phi_(8,0)= 0.154 * r**[0 0 0] * exp(-130.71 r**2) + 0.535 * r**[0 0 0] * exp(-23.81 r**2) + 0.445 * r**[0 0 0] * exp(-6.44 r**2)\n",
      "phi_(8,1)= -0.100 * r**[0 0 0] * exp(-5.03 r**2) + 0.400 * r**[0 0 0] * exp(-1.17 r**2) + 0.700 * r**[0 0 0] * exp(-0.38 r**2)\n",
      "phi_(8,2)= 0.156 * r**[1 0 0] * exp(-5.03 r**2) + 0.608 * r**[1 0 0] * exp(-1.17 r**2) + 0.392 * r**[1 0 0] * exp(-0.38 r**2)\n",
      "phi_(8,3)= 0.156 * r**[0 1 0] * exp(-5.03 r**2) + 0.608 * r**[0 1 0] * exp(-1.17 r**2) + 0.392 * r**[0 1 0] * exp(-0.38 r**2)\n",
      "phi_(8,4)= 0.156 * r**[0 0 1] * exp(-5.03 r**2) + 0.608 * r**[0 0 1] * exp(-1.17 r**2) + 0.392 * r**[0 0 1] * exp(-0.38 r**2)\n",
      "Found 15 unique primitives for Z=8 in sto-3g\n"
     ]
    }
   ],
   "source": [
    "print(f'{basisname} for {Z=} has {len(basis.orbitals)} basis functions/orbitals')\n",
    "for i,o in enumerate(basis.orbitals):\n",
    "  terms = (f'{coef:.3f} * r**{p.lmn} * exp(-{p.alpha:.2f} r**2)' for coef,p in zip(o.coefficients,o.primitives))\n",
    "  print(f'phi_({Z},{i})=', ' + '.join(terms))\n",
    "\n",
    "# Now count unique prims\n",
    "prims = set()\n",
    "for o in basis.orbitals:\n",
    "  for p in o.primitives:\n",
    "    prims = set.union(prims, {(*p.lmn.tolist(), float(p.alpha))})\n",
    "print(f'Found {len(prims)} unique primitives for {Z=} in {basisname}')"
   ]
  },
  {
   "cell_type": "markdown",
   "metadata": {},
   "source": [
    "For a basis set such as `6-31+G` we have a different number of primitives in each basis function: "
   ]
  },
  {
   "cell_type": "code",
   "execution_count": 18,
   "metadata": {},
   "outputs": [
    {
     "name": "stdout",
     "output_type": "stream",
     "text": [
      "The 6-31+G basis for Z=8 has I(Z)=13 basis functions/orbitals\n",
      "phi_(8,0)= 0.002 * r**[0 0 0] * exp(-5484.67 r**2) + 0.014 * r**[0 0 0] * exp(-825.23 r**2) + 0.068 * r**[0 0 0] * exp(-188.05 r**2) + 0.233 * r**[0 0 0] * exp(-52.96 r**2) + 0.470 * r**[0 0 0] * exp(-16.90 r**2) + 0.359 * r**[0 0 0] * exp(-5.80 r**2)\n",
      "phi_(8,1)= -0.111 * r**[0 0 0] * exp(-15.54 r**2) + -0.148 * r**[0 0 0] * exp(-3.60 r**2) + 1.131 * r**[0 0 0] * exp(-1.01 r**2)\n",
      "phi_(8,2)= 1.000 * r**[0 0 0] * exp(-0.27 r**2)\n",
      "phi_(8,3)= 1.000 * r**[0 0 0] * exp(-0.08 r**2)\n",
      "phi_(8,4)= 0.071 * r**[1 0 0] * exp(-15.54 r**2) + 0.340 * r**[1 0 0] * exp(-3.60 r**2) + 0.727 * r**[1 0 0] * exp(-1.01 r**2)\n",
      "phi_(8,5)= 0.071 * r**[0 1 0] * exp(-15.54 r**2) + 0.340 * r**[0 1 0] * exp(-3.60 r**2) + 0.727 * r**[0 1 0] * exp(-1.01 r**2)\n",
      "phi_(8,6)= 0.071 * r**[0 0 1] * exp(-15.54 r**2) + 0.340 * r**[0 0 1] * exp(-3.60 r**2) + 0.727 * r**[0 0 1] * exp(-1.01 r**2)\n",
      "phi_(8,7)= 1.000 * r**[1 0 0] * exp(-0.27 r**2)\n",
      "phi_(8,8)= 1.000 * r**[0 1 0] * exp(-0.27 r**2)\n",
      "phi_(8,9)= 1.000 * r**[0 0 1] * exp(-0.27 r**2)\n",
      "phi_(8,10)= 1.000 * r**[1 0 0] * exp(-0.08 r**2)\n",
      "phi_(8,11)= 1.000 * r**[0 1 0] * exp(-0.08 r**2)\n",
      "phi_(8,12)= 1.000 * r**[0 0 1] * exp(-0.08 r**2)\n",
      "Found 26 unique primitives for Z=8 in 6-31+G\n"
     ]
    }
   ],
   "source": [
    "basisname = \"6-31+G\"\n",
    "oxygen = Structure(atomic_number=np.array([Z]), position=np.zeros(3))\n",
    "basis = basisset(oxygen, basisname)\n",
    "print(f'The {basisname} basis for {Z=} has I(Z)={basis.num_orbitals} basis functions/orbitals')\n",
    "\n",
    "for i,o in enumerate(basis.orbitals):\n",
    "  terms = (f'{coef:.3f} * r**{p.lmn} * exp(-{p.alpha:.2f} r**2)' for coef,p in zip(o.coefficients,o.primitives))\n",
    "  print(f'phi_({Z},{i})=', ' + '.join(terms))\n",
    "\n",
    "# Now count unique prims\n",
    "prims = set()\n",
    "for o in basis.orbitals:\n",
    "  for p in o.primitives:\n",
    "    prims = set.union(prims, {(*p.lmn.tolist(), float(p.alpha))})\n",
    "print(f'Found {len(prims)} unique primitives for {Z=} in {basisname}')"
   ]
  },
  {
   "cell_type": "markdown",
   "metadata": {},
   "source": [
    "We can plot these atomic orbitals by first evaluating the basis functions on a regular grid and using py3DMol to render isosurfaces.  The $1s$ and $2s$ orbitals have spherical symmetry so we plot the $2px$ orbital below."
   ]
  },
  {
   "cell_type": "code",
   "execution_count": 33,
   "metadata": {},
   "outputs": [
    {
     "data": {
      "image/png": "[encoded data removed]",
      "text/latex": [
       "$\\displaystyle \\left( \\right)$"
      ],
      "text/plain": [
       "()"
      ]
     },
     "execution_count": 33,
     "metadata": {},
     "output_type": "execute_result"
    }
   ],
   "source": [
    "from pyscf_ipu.experimental.mesh import uniform_mesh, molecular_orbitals\n",
    "from pyscf_ipu.experimental.plot import plot_volume\n",
    "\n",
    "\n",
    "# Evaluate the molecular orbitals on a mesh -> [num_mesh_points, num_orbitals]\n",
    "mesh, axes = uniform_mesh(n=32, b=3.0)\n",
    "orbitals = molecular_orbitals(basis, mesh)\n",
    "orbitals = np.asarray(orbitals)\n",
    "\n",
    "# Mapping between orbital label -> index in basis set\n",
    "# TODO: what is this mapping for 6-31+G?\n",
    "#orbital_idx = dict(zip([\"1s\", \"2s\", \"2px\", \"2py\", \"2pz\"], range(5)))\n",
    "plot_volume(oxygen, orbitals[:, 5], axes)\n",
    "()"
   ]
  },
  {
   "cell_type": "markdown",
   "metadata": {},
   "source": [
    "## Integrals over a single primitive\n",
    "\n",
    "The GTO primitive\n",
    "$$ \n",
    "p(\\br; l,m,n,\\alpha) = \\normp(l,m,n,\\alpha) ~ x^l y^m z^n e^{-\\alpha\\|\\br\\|^2}\n",
    "$$\n",
    "contains a normalization $\\normp$, which should be chosen so that $p^2$ integrates to 1:\n",
    "$$\n",
    "\\int p(\\br; l,m,n,\\alpha)^2 d\\br = 1\n",
    "$$\n",
    "That is, \n",
    "$$\n",
    "\\normp(l,m,n,\\alpha)^2 \\int x^{2l} y^{2m} z^{2n} e^{-2\\alpha\\|\\br\\|^2} d\\br = 1\n",
    "$$\n",
    "We note that $x^{2l} y^{2m} z^{2n} e^{-2\\alpha\\|\\br\\|^2}$ can be written\n",
    "$$\n",
    "\\def\\ldp{h} % Read this \"1-D primitive\"\n",
    "\\def\\ldpi{H} % read this \"1-D primitive's integral\"\n",
    "x^{2l} e^{-2\\alpha x^2} \\cdot\n",
    "y^{2m} e^{-2\\alpha y^2} \\cdot\n",
    "z^{2n} e^{-2\\alpha z^2}\n",
    "= \n",
    "\\ldp(x;2l,2\\alpha) ~ \\ldp(y;2m,2\\alpha) ~ \\ldp(z;2n,2\\alpha)\n",
    "$$\n",
    "for\n",
    "$$\n",
    "\\tag{defh}\n",
    "\\ldp(t; 2k, \\eta) = t^{2k} e^{-\\eta t^2}\n",
    "$$\n",
    "So the integral\n",
    "$$\n",
    "\\int x^{2l} y^{2m} z^{2n} \\exp(-2\\alpha\\|\\br\\|^2) d\\br = \\int \\ldp(x;2l,2\\alpha) ~ \\ldp(y;2m,2\\alpha) ~ \\ldp(z;2n,2\\alpha) dx dy dz\n",
    "$$\n",
    "is the product of three independent integrals\n",
    "$$\n",
    "\\int \\ldp(x;2l,2\\alpha) dx \\cdot \n",
    "\\int \\ldp(y;2m,2\\alpha) dy \\cdot\n",
    "\\int \\ldp(z;2n,2\\alpha) dz\n",
    "$$\n",
    "Where each is of the form\n",
    "$$\n",
    "\\tag{defH}\n",
    "H(2k, \\eta) = \\int t^{2k} e^{-\\eta t^2} dt\n",
    "$$\n",
    "These one dimensional integrals have a known analytic solution [see equation 42 of gaussian integral](https://mathworld.wolfram.com/GaussianIntegral.html), but we will lean on [SymPy](https://docs.sympy.org/latest/index.html) to help us derive a formula for normalising our primitive Gaussian functions."
   ]
  },
  {
   "cell_type": "markdown",
   "metadata": {},
   "source": [
    "First, let's define the integral:"
   ]
  },
  {
   "cell_type": "code",
   "execution_count": 20,
   "metadata": {},
   "outputs": [
    {
     "data": {
      "image/png": "[encoded data removed]",
      "text/latex": [
       "$\\displaystyle H{\\left(2 k,\\eta \\right)} = \\int\\limits_{-\\infty}^{\\infty} t^{2 k} e^{- \\eta t^{2}}\\, dt$"
      ],
      "text/plain": [
       "            ∞                \n",
       "            ⌠                \n",
       "            ⎮            2   \n",
       "            ⎮   2⋅k  -η⋅t    \n",
       "H(2⋅k, η) = ⎮  t   ⋅ℯ      dt\n",
       "            ⌡                \n",
       "            -∞               "
      ]
     },
     "metadata": {},
     "output_type": "display_data"
    }
   ],
   "source": [
    "import numpy as np\n",
    "import IPython\n",
    "from sympy import *\n",
    "\n",
    "init_printing(use_unicode=True)\n",
    "\n",
    "eta = Symbol(\"eta\", positive=True, real=True)\n",
    "k = Symbol(\"k\", integer=True, nonnegative=True)\n",
    "t = Symbol(\"t\", real=True)\n",
    "H = Function(\"H\")\n",
    "\n",
    "H_na = Integral(t**(2*k) * exp(-eta * t**2), (t, -oo, oo))\n",
    "display(Eq(H(2*k, eta), H_na))"
   ]
  },
  {
   "cell_type": "markdown",
   "metadata": {},
   "source": [
    "Confirm that the equation displayed is the same as that in (defH).\n",
    "\n",
    "And then solve it:"
   ]
  },
  {
   "cell_type": "code",
   "execution_count": 21,
   "metadata": {},
   "outputs": [
    {
     "data": {
      "image/png": "[encoded data removed]",
      "text/latex": [
       "$\\displaystyle H{\\left(2 k,\\eta \\right)} = \\eta^{- k - \\frac{1}{2}} \\Gamma\\left(k + \\frac{1}{2}\\right)$"
      ],
      "text/plain": [
       "             -k - 1/2           \n",
       "H(2⋅k, η) = η        ⋅Γ(k + 1/2)"
      ]
     },
     "metadata": {},
     "output_type": "display_data"
    }
   ],
   "source": [
    "display(Eq(H(2*k, eta), H_na.doit().simplify()))"
   ]
  },
  {
   "cell_type": "markdown",
   "metadata": {},
   "source": [
    "And, recalling that we are looking for the normalization $\\normp(l,m,n,\\alpha)$, which is given by\n",
    "$$\n",
    "\\normp(l,m,n,\\alpha) = \\left(\\int x^{2l} y^{2m} z^{2n} \\exp(-2\\alpha\\|\\br\\|^2) d\\br\\right)^{-\\frac12} = \\biggl(H(2l,2\\alpha)~H(2m,2\\alpha)~H(2n,2\\alpha)\\biggr)^{-\\frac12}\n",
    "$$"
   ]
  },
  {
   "cell_type": "code",
   "execution_count": 22,
   "metadata": {},
   "outputs": [
    {
     "data": {
      "image/png": "[encoded data removed]",
      "text/latex": [
       "$\\displaystyle \\frac{1}{N^{2}{\\left(l,m,n,\\alpha \\right)}} = \\left(\\int\\limits_{-\\infty}^{\\infty} t^{2 l} e^{- 2 \\alpha t^{2}}\\, dt\\right) \\left(\\int\\limits_{-\\infty}^{\\infty} t^{2 m} e^{- 2 \\alpha t^{2}}\\, dt\\right) \\int\\limits_{-\\infty}^{\\infty} t^{2 n} e^{- 2 \\alpha t^{2}}\\, dt$"
      ],
      "text/plain": [
       "                 ∞                   ∞                   ∞                  \n",
       "                 ⌠                   ⌠                   ⌠                  \n",
       "                 ⎮              2    ⎮              2    ⎮              2   \n",
       "      1          ⎮   2⋅l  -2⋅α⋅t     ⎮   2⋅m  -2⋅α⋅t     ⎮   2⋅n  -2⋅α⋅t    \n",
       "────────────── = ⎮  t   ⋅ℯ        dt⋅⎮  t   ⋅ℯ        dt⋅⎮  t   ⋅ℯ        dt\n",
       " 2               ⌡                   ⌡                   ⌡                  \n",
       "N (l, m, n, α)   -∞                  -∞                  -∞                 "
      ]
     },
     "metadata": {},
     "output_type": "display_data"
    },
    {
     "data": {
      "image/png": "[encoded data removed]",
      "text/latex": [
       "$\\displaystyle \\frac{1}{N^{2}{\\left(l,m,n,\\alpha \\right)}} = \\left(\\frac{1}{2 \\alpha}\\right)^{l + m + n + \\frac{3}{2}} \\Gamma\\left(l + \\frac{1}{2}\\right) \\Gamma\\left(m + \\frac{1}{2}\\right) \\Gamma\\left(n + \\frac{1}{2}\\right)$"
      ],
      "text/plain": [
       "                      l + m + n + 3/2                                 \n",
       "      1          ⎛ 1 ⎞                                                \n",
       "────────────── = ⎜───⎟               ⋅Γ(l + 1/2)⋅Γ(m + 1/2)⋅Γ(n + 1/2)\n",
       " 2               ⎝2⋅α⎠                                                \n",
       "N (l, m, n, α)                                                        "
      ]
     },
     "metadata": {},
     "output_type": "display_data"
    }
   ],
   "source": [
    "N = Function(\"N\")\n",
    "a = Symbol(\"alpha\", positive=True, real=True)\n",
    "l,m,n = symbols(\"l m n\", integer=True, nonnegative=True)\n",
    "\n",
    "H_l = H_na.subs({k:l, eta:2*a})\n",
    "H_m = H_na.subs({k:m, eta:2*a})\n",
    "H_n = H_na.subs({k:n, eta:2*a})\n",
    "\n",
    "N_val = (H_l * H_m * H_n)\n",
    "display(Eq(N(l,m,n,a)**(-2), N_val))\n",
    "display(Eq(N(l,m,n,a)**(-2), N_val.doit().simplify()))"
   ]
  },
  {
   "cell_type": "markdown",
   "metadata": {},
   "source": [
    "We might finally ask - what is $H$ for odd arguments?  And we can see: the integrand is odd, so it is zero.\n",
    "And just in case, let's check: "
   ]
  },
  {
   "cell_type": "code",
   "execution_count": 23,
   "metadata": {},
   "outputs": [
    {
     "data": {
      "image/png": "[encoded data removed]",
      "text/latex": [
       "$\\displaystyle \\int\\limits_{-\\infty}^{\\infty} t^{2 k + 1} e^{- \\eta t^{2}}\\, dt = 0$"
      ],
      "text/plain": [
       "∞                        \n",
       "⌠                        \n",
       "⎮                2       \n",
       "⎮   2⋅k + 1  -η⋅t        \n",
       "⎮  t       ⋅ℯ      dt = 0\n",
       "⌡                        \n",
       "-∞                       "
      ]
     },
     "metadata": {},
     "output_type": "display_data"
    }
   ],
   "source": [
    "H_odd = Integral(t**(2*k + 1) * exp(-eta * t**2), (t, -oo, oo))\n",
    "display(Eq(H_odd, H_odd.doit()))"
   ]
  },
  {
   "cell_type": "markdown",
   "metadata": {},
   "source": [
    "We can use SymPy to generate a python function that uses the [gamma](https://docs.scipy.org/doc/scipy/reference/generated/scipy.special.gamma.html) function from scipy"
   ]
  },
  {
   "cell_type": "code",
   "execution_count": 24,
   "metadata": {},
   "outputs": [
    {
     "name": "stdout",
     "output_type": "stream",
     "text": [
      "Help on function _lambdifygenerated:\n",
      "\n",
      "_lambdifygenerated(l, m, n, alpha)\n",
      "    Created with lambdify. Signature:\n",
      "    \n",
      "    func(l, m, n, alpha)\n",
      "    \n",
      "    Expression:\n",
      "    \n",
      "    (1/(2*alpha))**(l + m + n + 3/2)*gamma(l + 1/2)*gamma(m + 1/2)*gamma(n + 1/2)\n",
      "    \n",
      "    Source code:\n",
      "    \n",
      "    def _lambdifygenerated(l, m, n, alpha):\n",
      "        return ((1/2)/alpha)**(l + m + n + 3/2)*gamma(l + 1/2)*gamma(m + 1/2)*gamma(n + 1/2)\n",
      "    \n",
      "    \n",
      "    Imported modules:\n",
      "\n"
     ]
    }
   ],
   "source": [
    "f = lambdify((l,m,n, a), N_val.doit().simplify(), modules=\"scipy\")\n",
    "help(f)"
   ]
  },
  {
   "cell_type": "markdown",
   "metadata": {},
   "source": [
    "$$\n",
    "\\def\\br{\\mathbf{r}}\n",
    "\\def\\bA{\\mathbf{A}}\n",
    "$$\n",
    "\n",
    "## Integrals over sets of basis functions\n",
    "\n",
    "The above visualisation uses the formulas defined earlier to numerically evaluate\n",
    "each atomic orbital from a linear combintation of primitive Gaussians. Introducing\n",
    "the basis set allows us to replace the problem of solving a system partial differential equations (e.g. the Kohn-Sham equations) with an algebraic system of equations that can be solved using standard matrix eigenvalue techniques.\n",
    "The individual elements of the matrices in this system are single integrals over pairs of\n",
    "primitives:\n",
    "$$\n",
    "\\tag{5}\n",
    "M_{AB} = \\int p(\\br - \\bA; \\nu_A) ~\\op p(\\br - \\bB; \\nu_B) d\\br.\n",
    "$$\n",
    "The operator $\\op$ in its most general definition is\n",
    "a function that transforms the $\\psi(\\br)$ function to represent a physical observable.\n",
    "That sounds fancy but is just a complicated way of saying we are breaking\n",
    "down something we can measure (e.g. the energy, dipole moment, etc) into components\n",
    "that we can evaluate through these integrals.  \n",
    "\n",
    "## The overlap integral\n",
    "\n",
    "The simplest operator $\\op$ is simply an \n",
    "identity mapping, $\\op p(\\br) := p(\\br)$, used in conjunction with the trivial $g(\\br_1, \\br_2) = 1$, that we name the _overlap integral_:\n",
    "$$\n",
    "\\tag{6}\n",
    "S_{\\mu\\nu} = \\int p(\\br - \\br_\\mu; l_\\mu, m_\\mu, n_\\mu, \\alpha_\\mu) ~ p(\\br - \\br_\\nu; l_\\nu, m_\\nu, n_\\nu, \\alpha_\\nu) ~ d\\br.\n",
    "$$\n",
    "\n",
    "Gaussian basis functions of the form above have a few convenient properties that help\n",
    "make it easier to evaluate integrals of the form in equation (5).  To show this\n",
    "we start by expanding the overlap integral into its full three-dimensional form:\n",
    "$$\n",
    "\\tag{9}\n",
    "\\tilde{S}_{\\mu \\nu} = \\iiint p_\\mu(\\br) p_\\nu(\\br) dx dy dz,\n",
    "$$\n",
    "and observing that a primitive $p_\\mu(\\br) = p(\\br - \\br_\\mu; l_\\mu, m_\\mu, n_\\mu, \\alpha_\\mu)$ can be written as a product of Cartesian components:\n",
    "$$\n",
    "\\tag{10}\n",
    "p_\\mu(\\br) = N_\\mu\n",
    "h(x - x_\\mu; l_\\mu, \\alpha_\\mu)\n",
    "h(y - y_\\mu; m_\\mu, \\alpha_\\mu)\n",
    "h(z - z_\\mu; n_\\mu, \\alpha_\\mu)\n",
    "$$\n",
    "where we are using $h$ from (defh), but not assuming that $l,m,n$ are even.\n",
    "We directly see that we can separate the three-dimensional integral in equation (9) as a\n",
    "product of three one-dimensional integrals:\n",
    "$$\n",
    "\\tag{11}\n",
    "\\tilde{S}_{\\mu \\nu} = N_\\mu N_\\nu \\tilde{S}_{\\mu \\nu}^{(x)} \\tilde{S}_{\\mu \\nu}^{(y)} \\tilde{S}_{\\mu \\nu}^{(z)}\n",
    "$$\n",
    "where we introduce the one-dimensional overlap as\n",
    "$$\n",
    "\\tag{12}\n",
    "\\def\\twelve{\n",
    "\\tilde{S}_{\\mu \\nu}^{(x)} = \\int_{-\\infty}^\\infty \n",
    "\\left((t - x_\\mu)^{l_\\mu} e^{-\\alpha_\\mu (t - x_\\mu)^2} \\right)\n",
    "\\left((t - x_\\nu)^{l_\\nu} e^{-\\alpha_\\nu (t - x_\\nu)^2} \\right) dt\n",
    "}\n",
    "\\twelve,\n",
    "$$\n",
    "and use the same definition for the y and z components.  We note that if $\\br_\\mu=\\br_\\nu$, we have the normalization integral from (defH), because we can gather the $t - x_\\mu$ terms\n",
    "$$\n",
    "\\tilde{S}_{\\mu \\nu}^{(x)} = \\int_{-\\infty}^\\infty \n",
    "(t - x_\\mu)^{l_\\mu + l\\nu} e^{-(\\alpha_\\mu + \\alpha_\\nu) (t - x_\\mu)^2} dt\n",
    "$$\n",
    "and substitite $u = t - x_\\mu$, $du = dt$ to get\n",
    "$$\n",
    "\\tilde{S}_{\\mu \\nu}^{(x)} = \\int_{-\\infty}^\\infty \n",
    "u^{l_\\mu + l\\nu} e^{-(\\alpha_\\mu + \\alpha_\\nu) u^2} du = H(l_\\mu + l_\\nu, \\alpha_\\mu + \\alpha_\\nu)\n",
    "$$\n",
    "and in particular\n",
    "$$\n",
    "\\tilde{S}_{\\mu \\mu}^{(x)} = \\int_{-\\infty}^\\infty \n",
    "u^{2l_\\mu} e^{-2\\alpha_\\mu u^2} du = H(2l_\\mu, 2\\alpha_\\mu)\n",
    "$$\n",
    "as before."
   ]
  },
  {
   "cell_type": "markdown",
   "metadata": {},
   "source": [
    "### The hard case: non-coincident centres\n",
    "Let us return our attention back to the general overlap elements in equation (12), \n",
    "repeated here: \n",
    "$$\n",
    "(12) = \\twelve\n",
    "$$\n",
    "but let's replace $\\nu,\\mu$ subscripts with more visually distinguishable symbols:\n",
    "$$\n",
    "\\tilde{S}((A,\\alpha,i), (B,\\beta,j)) = \\int_{-\\infty}^\\infty \n",
    "\\left((t - A)^i e^{-\\alpha (t - A)^2} \\right)\n",
    "\\left((t - B)^j e^{-\\beta (t - B)^2} \\right) dt\n",
    "$$\n",
    "and grouping the polynomial terms and the Gaussian terms we get\n",
    "$$\n",
    "\\tilde{S}((A,\\alpha,i), (B,\\beta,j))  = \\int_{-\\infty}^\\infty \n",
    "\\biggl((t - A)^i (t - B)^j \\biggr)\n",
    "\\biggl( e^{-\\alpha (t - A)^2}  e^{-\\beta (t - B)^2} \\biggr)\n",
    "dt\\\\\n",
    "$$\n",
    "To make progress we start by rewriting the product of two\n",
    "Gaussian functions as a single Gaussian:\n",
    "$$\n",
    "\\tag{16}\n",
    "e^{-\\alpha (t - A)^2} e^{-\\beta (t - B)^2} = \n",
    "G ~ e^{-\\gamma (t - C)^2}, \\\\\n",
    "\\gamma = \\alpha + \\beta \\\\\n",
    "C = \\frac{\\alpha A + \\beta B}{\\gamma}\\\\\n",
    "G = \\exp\\left(-\\frac{\\alpha \\beta}{\\gamma} (A - B)^2\\right) \\\\\n",
    "$$\n",
    "Next we rewrite the product of the leading polynomial terms in terms of the Gaussian product center $C$:\n",
    "$$\n",
    "\\def\\CA{C_A}\n",
    "\\def\\CB{C_B}\n",
    "\\def\\tc{t_C}\n",
    "\\tag{17}\n",
    "(t - A)^i (t - B)^j = (t - C + C - A)^i (t - C + C - B)^j = (\\tc + \\CA)^i (\\tc + \\CB)^j,\n",
    "$$\n",
    "where we introduce\n",
    "$$\n",
    "\\tag{18}\n",
    "\\tc = t - C\\\\\n",
    "\\CA = C - A\\\\\n",
    "\\CB = C - B.\n",
    "$$\n",
    "There isn't a universal term that covers the product of binomial expansions that we have arrived at in equation (17),\n",
    "and using the [binomial theorem](https://en.wikipedia.org/wiki/Binomial_theorem) we have:\n",
    "$$\n",
    "\\tag{19}\n",
    "(\\tc + \\CA)^i = \\sum_{k=0}^i \\binom{i}{k} \\tc^{i-k} \\CA^k \\\\ \n",
    "(\\tc + \\CB)^j = \\sum_{l=0}^j \\binom{j}{l} \\tc^{j-l} \\CB^l \n",
    "$$\n",
    "\n",
    "$$\n",
    "\\tag{20}\n",
    "(\\tc + \\CA)^i (\\tc + \\CB)^j = \\sum_{k=0}^i \\sum_{l=0}^j \\binom{i}{k} \\binom{j}{l}  \\tc^{i-k} \\tc^{j-l} \\CA^k \\CB^l \n",
    "$$\n",
    "we can use SymPy to help us take the product of these expansions for some representative values of $i$ and $j$"
   ]
  },
  {
   "cell_type": "code",
   "execution_count": 28,
   "metadata": {},
   "outputs": [
    {
     "data": {
      "image/png": "[encoded data removed]",
      "text/latex": [
       "$\\displaystyle \\left(a + t\\right)^{i} \\left(b + t\\right)^{j}$"
      ],
      "text/plain": [
       "       i        j\n",
       "(a + t) ⋅(b + t) "
      ]
     },
     "execution_count": 28,
     "metadata": {},
     "output_type": "execute_result"
    }
   ],
   "source": [
    "x, a, b = symbols(\"t, a, b\", real=True)\n",
    "i, j = symbols(\"i, j\", nonnegative=True, integers=True)\n",
    "poly_terms = (x + a)**i * (x + b) **j\n",
    "poly_terms"
   ]
  },
  {
   "cell_type": "code",
   "execution_count": 29,
   "metadata": {},
   "outputs": [
    {
     "data": {
      "text/latex": [
       "\\begin{align*}(a + t)^0 (b + t)^0 &= 1\\\\(a + t)^0 (b + t)^1 &= b + t\\\\(a + t)^0 (b + t)^2 &= b^{2} + 2 b t + t^{2}\\\\(a + t)^1 (b + t)^0 &= a + t\\\\(a + t)^1 (b + t)^1 &= a b + t \\left(a + b\\right) + t^{2}\\\\(a + t)^1 (b + t)^2 &= a b^{2} + t \\left(2 a b + b^{2}\\right) + t^{2} \\left(a + 2 b\\right) + t^{3}\\\\(a + t)^2 (b + t)^0 &= a^{2} + 2 a t + t^{2}\\\\(a + t)^2 (b + t)^1 &= a^{2} b + t \\left(a^{2} + 2 a b\\right) + t^{2} \\cdot \\left(2 a + b\\right) + t^{3}\\\\(a + t)^2 (b + t)^2 &= a^{2} b^{2} + t \\left(2 a^{2} b + 2 a b^{2}\\right) + t^{2} \\left(a^{2} + 4 a b + b^{2}\\right) + t^{3} \\cdot \\left(2 a + 2 b\\right) + t^{4}\\\\\\end{align*}"
      ],
      "text/plain": [
       "<IPython.core.display.Latex object>"
      ]
     },
     "execution_count": 29,
     "metadata": {},
     "output_type": "execute_result"
    }
   ],
   "source": [
    "from itertools import product\n",
    "\n",
    "\n",
    "# output monomial terms with ascending orders x^n, n=0, 1, 2, ...\n",
    "output = r\"\\begin{align*}\"\n",
    "for ival, jval in product(range(3), range(3)):\n",
    "    p = simplify(expand(poly_terms.subs(i, ival).subs(j, jval)))\n",
    "    output += f\"(a + t)^{ival} (b + t)^{jval} &= \"\n",
    "    output += \" + \".join(\n",
    "        [latex(p.coeff(x, n) * x**n) for n in range(ival + jval + 1)]\n",
    "    )\n",
    "    output += r\"\\\\\"\n",
    "\n",
    "output += r\"\\end{align*}\"\n",
    "IPython.display.Latex(output)"
   ]
  },
  {
   "cell_type": "markdown",
   "metadata": {},
   "source": [
    "By using the symmetry properties of the binomial expansion we can rewrite the terms in the series of Equation (20) as:\n",
    "$$\n",
    "\\tag{21}\n",
    "\\binom{i}{k} \\binom{j}{l}  \\tc^{i-k} \\tc^{j-l} \\CA^k \\CB^l  = \\binom{i}{k} \\binom{j}{l} \\tc^k \\tc^l \\CA^{i-k} \\CB^{j-l}.\n",
    "$$\n",
    "Recognising that we want to collect terms of same power $\\tc^s$ we introduce the constraint that $k+l=s$ allows us to\n",
    "write the terms as:\n",
    "$$\n",
    "\\tag{22}\n",
    "\\binom{i}{s-l} \\binom{j}{l} \\tc^s \\CA^{i-(s-l)} \\CB^{j-l}.\n",
    "$$\n",
    "Replacing the summation variable $l=0, 1,\\cdots, j$ with $t$ and incorporating the constraint we arrive at:\n",
    "$$\n",
    "\\tag{23}\n",
    "(\\tc + \\CA)^i (\\tc + \\CB)^j = \n",
    "\\sum_{s = 0}^{i+j} \\tc^s \n",
    "\\sum_{\\substack{t=0 \\\\ s - i \\le t \\le j}}^s \n",
    "\\binom{i}{s-t} \\binom{j}{t} \\CA^{i-(s-t)} \\CB^{j-t},\n",
    "$$\n",
    "Finally we can write this series as:\n",
    "$$\n",
    "\\tag{24}\n",
    "(\\tc + \\CA)^i (\\tc + \\CB)^j = \\sum_{s = 0}^{i+j} B(i, j, \\CA, \\CB, s) \\tc^s,\n",
    "$$\n",
    "where we introduce $B(i, j, \\CA, \\CB, s)$ as the coefficient of $x^s$ in the expansion:\n",
    "$$\n",
    "\\tag{25}\n",
    "B(i, j, \\CA, \\CB, s) = \\sum_{\\substack{t=0 \\\\ s - i \\le t \\le j}}^s \\binom{i}{s-t} \\binom{j}{t} \\CA^{i - (s - t)} \\CB^{j-t}\n",
    "$$\n",
    "An evaluation strategy for this variable-sized loop is explored in an accompanying [notebook](./binom_factor_table.ipynb).\n",
    "\n",
    "Combining this result with the one we derived earlier for the product of two\n",
    "Gaussian functions Equation 16 gives us:\n",
    "$$\n",
    "\\tag{26}\n",
    "\\tilde{S}_{\\mu \\nu}^{(x)} = \\int_{-\\infty}^\\infty \n",
    "\\left((t - X_\\mu)^{l_\\mu} e^{-\\alpha_\\mu (t - X_\\mu)^2} \\right)\n",
    "\\left((t - X_\\nu)^{l_\\nu} e^{-\\alpha_\\nu (t - X_\\nu)^2} \\right) dt = \\\\\n",
    "\\int_{-\\infty}^\\infty \n",
    " e^{-\\alpha_\\mu \\alpha_\\nu (X_\\mu - X_\\nu)^2 / \\gamma} e^{-\\gamma \\tc^2}\n",
    "\\sum_{s=0}^{l_\\mu+ l_\\nu} B(l_\\mu, l_\\nu, C_\\mu, C_\\nu, s) \\tc^s dt\n",
    "$$\n",
    "Swapping the order of integration and the summation we get\n",
    "$$\n",
    " e^{-\\alpha_\\mu \\alpha_\\nu (X_\\mu - X_\\nu)^2 / \\gamma} \n",
    "\\sum_{s=0}^{l_\\mu+ l_\\nu} B(l_\\mu, l_\\nu, C_\\mu, C_\\nu, s) \n",
    "\\int_{-\\infty}^\\infty \\tc^s e^{-\\gamma \\tc^2} dt\n",
    "$$\n",
    "and see that we need to evaluate\n",
    "integrals of the form that we already defined above at (Hdef)\n",
    "$$\n",
    "\\tag{27}\n",
    "H(s,\\eta) = \\int_{-\\infty}^\\infty t^s e^{-\\eta t^2}  dt\n",
    "$$"
   ]
  },
  {
   "cell_type": "markdown",
   "metadata": {},
   "source": [
    "And we recall that for $s$ odd, this is zero, so we evaluate it only for $s$ even."
   ]
  },
  {
   "cell_type": "markdown",
   "metadata": {},
   "source": [
    "This result can also be written in terms of the [double factorial](https://en.wikipedia.org/wiki/Double_factorial#Additional_identities) which gives us two possible computation strategies for this integral:\n",
    "$$\n",
    "\\tag{28}\n",
    "H(2s, \\eta) = \\int_{-\\infty}^{\\infty} t^{2s} e^{-\\eta t^2} dt \\\\\n",
    "= \\eta^{-s - \\frac{1}{2}} \\Gamma\\left(s + \\frac{1}{2}\\right) \\\\\n",
    "= \\frac{(2s-1)!!}{(2\\eta)^s} \\sqrt{\\frac{\\pi}{\\eta}}.\n",
    "$$\n",
    "The last form agrees with Equation (3.15) derived by [Fermann and Valeev](http://arxiv.org/abs/2007.12057).\n",
    "\n",
    "Using the function $H(2s, \\eta$ allows us to write the one-dimensional overlap integral as:\n",
    "$$\n",
    "\\tag{29}\n",
    "\\tilde{S}_{\\mu \\nu}^{(x)} = \n",
    "e^{-\\alpha_\\mu \\alpha_\\nu (X_A - X_B)^2 / \\gamma}\n",
    "\\sum_{s=0}^{\\lfloor(l_\\mu + l_\\nu)/2 \\rfloor} B(l_\\mu, l_\\nu, CA_x, CB_x, 2s)\\;H(2s, \\gamma)\n",
    "$$\n",
    "substituting this back into Equation (11) gives us the overlap of two primitive Gaussians:\n",
    "$$\n",
    "\\tag{30}\n",
    "\\tilde{S}_{\\mu \\nu} = \\iiint p_\\mu(\\br) p_\\nu(\\br) dx dy dz \\\\\n",
    "= N_\\mu N_\\nu \\exp\\left(-\\frac{\\alpha_\\mu \\alpha_\\nu |\\mathbf{A}-\\mathbf{B}|^2}{\\alpha_\\mu + \\alpha_\\nu}\\right) \\times\\\\\n",
    "\\sum_{s=0}^{\\lfloor(l_\\mu + l_\\nu)/2 \\rfloor} B(l_\\mu, l_\\nu, CA_x, CB_x, 2s)\\;G(\\gamma, 2s) \\times \\\\\n",
    "\\sum_{s=0}^{\\lfloor(m_\\mu + m_\\nu)/2 \\rfloor} B(m_\\mu, m_\\nu, CA_y, CB_y, 2s)\\;G(\\gamma, 2s) \\times \\\\\n",
    "\\sum_{s=0}^{\\lfloor(n_\\mu + n_\\nu)/2 \\rfloor} B(n_\\mu, n_\\nu, CA_z, CB_z, 2s)\\;G(\\gamma, 2s)\n",
    "$$"
   ]
  }
 ],
 "metadata": {
  "kernelspec": {
   "display_name": "hgei",
   "language": "python",
   "name": "python3"
  },
  "language_info": {
   "codemirror_mode": {
    "name": "ipython",
    "version": 3
   },
   "file_extension": ".py",
   "mimetype": "text/x-python",
   "name": "python",
   "nbconvert_exporter": "python",
   "pygments_lexer": "ipython3",
   "version": "3.8.10"
  },
  "orig_nbformat": 4
 },
 "nbformat": 4,
 "nbformat_minor": 2
}
