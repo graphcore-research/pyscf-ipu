{
 "cells": [
  {
   "cell_type": "markdown",
   "metadata": {},
   "source": [
    "*Copyright (c) 2023 Graphcore Ltd. All rights reserved.*"
   ]
  },
  {
   "cell_type": "code",
   "execution_count": 1,
   "metadata": {},
   "outputs": [],
   "source": [
    "import numpy as np\n",
    "import matplotlib.pyplot as plt\n",
    "from scipy.special import erf, gamma, gammainc"
   ]
  },
  {
   "cell_type": "markdown",
   "metadata": {},
   "source": [
    "## Evaluation of the auxiliary gamma function\n",
    "\n",
    "The evaluation of integrals involving a $\\frac{1}{r}$ term require computing the following:\n",
    "\n",
    "$$\n",
    "F_\\nu(t) = \\int_0^1 u^{2 \\nu} e^{-t u^2} du\n",
    "$$\n",
    "\n",
    "Taketa et al. call this the auxiliary function $F_\\nu$ and we can show its relationship to the $\\gamma$ function with SymPy.\n",
    "First we build up the integral as stated in equation 2.11 in the THO paper."
   ]
  },
  {
   "cell_type": "code",
   "execution_count": 2,
   "metadata": {},
   "outputs": [
    {
     "data": {
      "text/latex": [
       "$\\displaystyle \\int\\limits_{0}^{1} u^{2 \\nu} e^{- t u^{2}}\\, du$"
      ],
      "text/plain": [
       "Integral(u**(2*nu)*exp(-t*u**2), (u, 0, 1))"
      ]
     },
     "execution_count": 2,
     "metadata": {},
     "output_type": "execute_result"
    }
   ],
   "source": [
    "from sympy import *\n",
    "\n",
    "u, t = symbols(\"u t\", real=True)\n",
    "nu = Symbol(\"nu\", integer=True, nonnegative=True)\n",
    "F_nu = Integral(u ** (2 * nu) * exp(-t * u **2), (u, 0, 1))\n",
    "F_nu"
   ]
  },
  {
   "cell_type": "markdown",
   "metadata": {},
   "source": [
    "Evaluating the integral results in an expression involving the [lower incomplete Gamma function](https://mathworld.wolfram.com/IncompleteGammaFunction.html)"
   ]
  },
  {
   "cell_type": "code",
   "execution_count": 3,
   "metadata": {},
   "outputs": [
    {
     "data": {
      "text/latex": [
       "$\\displaystyle \\frac{t^{- \\nu - \\frac{1}{2}} \\gamma\\left(\\nu + \\frac{1}{2}, t\\right)}{2}$"
      ],
      "text/plain": [
       "t**(-nu - 1/2)*lowergamma(nu + 1/2, t)/2"
      ]
     },
     "execution_count": 3,
     "metadata": {},
     "output_type": "execute_result"
    }
   ],
   "source": [
    "gammanu = simplify(F_nu.doit())\n",
    "gammanu"
   ]
  },
  {
   "cell_type": "code",
   "execution_count": 4,
   "metadata": {},
   "outputs": [
    {
     "data": {
      "text/latex": [
       "$\\displaystyle \\frac{t^{- \\nu - \\frac{1}{2}} \\gamma\\left(\\nu + \\frac{1}{2}, t\\right)}{2}$"
      ],
      "text/plain": [
       "t**(-nu - 1/2)*lowergamma(nu + 1/2, t)/2"
      ]
     },
     "execution_count": 4,
     "metadata": {},
     "output_type": "execute_result"
    }
   ],
   "source": [
    "gammanu"
   ]
  },
  {
   "cell_type": "code",
   "execution_count": 9,
   "metadata": {},
   "outputs": [
    {
     "name": "stdout",
     "output_type": "stream",
     "text": [
      "Help on function _lambdifygenerated:\n",
      "\n",
      "_lambdifygenerated(nu, t)\n",
      "    Created with lambdify. Signature:\n",
      "    \n",
      "    func(nu, t)\n",
      "    \n",
      "    Expression:\n",
      "    \n",
      "    t**(-nu - 1/2)*lowergamma(nu + 1/2, t)/2\n",
      "    \n",
      "    Source code:\n",
      "    \n",
      "    def _lambdifygenerated(nu, t):\n",
      "        return (1/2)*t**(-nu - 1/2)*gamma(nu + 1/2)*gammainc(nu + 1/2, t)\n",
      "    \n",
      "    \n",
      "    Imported modules:\n",
      "\n"
     ]
    }
   ],
   "source": [
    "help(lambdify((nu, t), gammanu, modules=\"scipy\"))"
   ]
  },
  {
   "cell_type": "code",
   "execution_count": 10,
   "metadata": {},
   "outputs": [
    {
     "data": {
      "text/latex": [
       "$\\displaystyle \\frac{\\sqrt{\\pi} \\operatorname{erf}{\\left(\\sqrt{t} \\right)}}{2 \\sqrt{t}}$"
      ],
      "text/plain": [
       "sqrt(pi)*erf(sqrt(t))/(2*sqrt(t))"
      ]
     },
     "execution_count": 10,
     "metadata": {},
     "output_type": "execute_result"
    }
   ],
   "source": [
    "F_0 = simplify(gammanu.subs(nu, 0))\n",
    "F_0"
   ]
  },
  {
   "cell_type": "code",
   "execution_count": 64,
   "metadata": {},
   "outputs": [
    {
     "data": {
      "text/plain": [
       "<StemContainer object of 3 artists>"
      ]
     },
     "execution_count": 64,
     "metadata": {},
     "output_type": "execute_result"
    },
    {
     "data": {
      "image/png": "[encoded data removed]",
      "text/plain": [
       "<Figure size 640x480 with 1 Axes>"
      ]
     },
     "metadata": {},
     "output_type": "display_data"
    }
   ],
   "source": [
    "def f_0(t):\n",
    "    epsilon = 1e-6\n",
    "    t = np.maximum(t, epsilon)\n",
    "    return erf(np.sqrt(t)) * np.sqrt(np.pi / (4 * t))\n",
    "\n",
    "def gamma_nu(nu, t):\n",
    "    epsilon = 1e-6\n",
    "    t = np.maximum(t, epsilon)\n",
    "    return (1/2)*t**(-nu - 1/2)*gamma(nu + 1/2)*gammainc(nu + 1/2, t)\n",
    "    \n",
    "\n",
    "x = np.linspace(0, 15, 30)\n",
    "y1 = f_0(x)\n",
    "y2 = gamma_nu(0, x)\n",
    "plt.stem(x, np.abs(y1-y2))\n",
    "# plt.plot(x, y1, x, y2)\n"
   ]
  },
  {
   "cell_type": "code",
   "execution_count": 29,
   "metadata": {},
   "outputs": [
    {
     "data": {
      "text/latex": [
       "$\\displaystyle f_{0}$"
      ],
      "text/plain": [
       "f_0"
      ]
     },
     "metadata": {},
     "output_type": "display_data"
    },
    {
     "data": {
      "text/latex": [
       "$\\displaystyle - \\frac{e^{- t}}{2 t} + \\frac{\\sqrt{\\pi} \\operatorname{erf}{\\left(\\sqrt{t} \\right)}}{4 t^{\\frac{3}{2}}}$"
      ],
      "text/plain": [
       "-exp(-t)/(2*t) + sqrt(pi)*erf(sqrt(t))/(4*t**(3/2))"
      ]
     },
     "metadata": {},
     "output_type": "display_data"
    },
    {
     "data": {
      "text/latex": [
       "$\\displaystyle - \\frac{e^{- t}}{2 t} - \\frac{3 e^{- t}}{4 t^{2}} + \\frac{3 \\sqrt{\\pi} \\operatorname{erf}{\\left(\\sqrt{t} \\right)}}{8 t^{\\frac{5}{2}}}$"
      ],
      "text/plain": [
       "-exp(-t)/(2*t) - 3*exp(-t)/(4*t**2) + 3*sqrt(pi)*erf(sqrt(t))/(8*t**(5/2))"
      ]
     },
     "metadata": {},
     "output_type": "display_data"
    },
    {
     "data": {
      "text/latex": [
       "$\\displaystyle \\frac{\\left(- 8 t^{\\frac{5}{2}} - 20 t^{\\frac{3}{2}} - 30 \\sqrt{t} + 15 \\sqrt{\\pi} e^{t} \\operatorname{erf}{\\left(\\sqrt{t} \\right)}\\right) e^{- t}}{16 t^{\\frac{7}{2}}}$"
      ],
      "text/plain": [
       "(-8*t**(5/2) - 20*t**(3/2) - 30*sqrt(t) + 15*sqrt(pi)*exp(t)*erf(sqrt(t)))*exp(-t)/(16*t**(7/2))"
      ]
     },
     "metadata": {},
     "output_type": "display_data"
    }
   ],
   "source": [
    "\n",
    "f_0 = simplify(gammanu.subs(nu, 0))\n",
    "f0 = symbols(\"f_0\")\n",
    "for i in range(4):\n",
    "    display(simplify(gammanu.subs(nu, i)).replace(f_0, f0))"
   ]
  },
  {
   "cell_type": "code",
   "execution_count": 25,
   "metadata": {},
   "outputs": [
    {
     "data": {
      "text/plain": [
       "(sqrt(pi)*erf(sqrt(t))/(2*sqrt(t)), f)"
      ]
     },
     "execution_count": 25,
     "metadata": {},
     "output_type": "execute_result"
    }
   ],
   "source": [
    "f_0, f"
   ]
  },
  {
   "cell_type": "code",
   "execution_count": null,
   "metadata": {},
   "outputs": [],
   "source": []
  }
 ],
 "metadata": {
  "kernelspec": {
   "display_name": "pyscf-ipu",
   "language": "python",
   "name": "python3"
  },
  "language_info": {
   "codemirror_mode": {
    "name": "ipython",
    "version": 3
   },
   "file_extension": ".py",
   "mimetype": "text/x-python",
   "name": "python",
   "nbconvert_exporter": "python",
   "pygments_lexer": "ipython3",
   "version": "3.8.10"
  },
  "orig_nbformat": 4
 },
 "nbformat": 4,
 "nbformat_minor": 2
}
