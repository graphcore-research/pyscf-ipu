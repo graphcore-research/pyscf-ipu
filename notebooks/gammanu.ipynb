{
 "cells": [
  {
   "cell_type": "markdown",
   "metadata": {},
   "source": [
    "*Copyright (c) 2023 Graphcore Ltd. All rights reserved.*"
   ]
  },
  {
   "cell_type": "markdown",
   "metadata": {},
   "source": [
    "## Evaluation of the auxiliary gamma function\n",
    "\n",
    "The evaluation of integrals involving a $\\frac{1}{r}$ term require computing the following:\n",
    "\n",
    "$$\n",
    "F(\\nu, t) = \\int_0^1 u^{2 \\nu} e^{-t u^2} du\n",
    "$$\n",
    "\n",
    "Taketa et al. call this the auxiliary function $F$ and we can show its relationship to the $\\gamma$ function with SymPy.\n",
    "First we build up the integral as stated in equation 2.11 in the THO paper."
   ]
  },
  {
   "cell_type": "code",
   "execution_count": 1,
   "metadata": {},
   "outputs": [
    {
     "data": {
      "text/latex": [
       "$\\displaystyle \\int\\limits_{0}^{1} u^{2 \\nu} e^{- t u^{2}}\\, du$"
      ],
      "text/plain": [
       "Integral(u**(2*nu)*exp(-t*u**2), (u, 0, 1))"
      ]
     },
     "execution_count": 1,
     "metadata": {},
     "output_type": "execute_result"
    }
   ],
   "source": [
    "import numpy as np\n",
    "import matplotlib.pyplot as plt\n",
    "from sympy import *\n",
    "\n",
    "u, t = symbols(\"u t\", real=True, nonnegative=True)\n",
    "nu = Symbol(\"nu\", integer=True, nonnegative=True)\n",
    "F_nu = Integral(u ** (2 * nu) * exp(-t * u **2), (u, 0, 1))\n",
    "F_nu"
   ]
  },
  {
   "cell_type": "markdown",
   "metadata": {},
   "source": [
    "Evaluating the integral results in an expression involving the [lower incomplete Gamma function](https://mathworld.wolfram.com/IncompleteGammaFunction.html)"
   ]
  },
  {
   "cell_type": "code",
   "execution_count": 2,
   "metadata": {},
   "outputs": [
    {
     "data": {
      "text/latex": [
       "$\\displaystyle \\frac{t^{- \\nu - \\frac{1}{2}} \\gamma\\left(\\nu + \\frac{1}{2}, t\\right)}{2}$"
      ],
      "text/plain": [
       "t**(-nu - 1/2)*lowergamma(nu + 1/2, t)/2"
      ]
     },
     "execution_count": 2,
     "metadata": {},
     "output_type": "execute_result"
    }
   ],
   "source": [
    "gammanu = simplify(F_nu.doit())\n",
    "gammanu"
   ]
  },
  {
   "cell_type": "markdown",
   "metadata": {},
   "source": [
    "It is useful to also note the limit as $t\\rightarrow 0$"
   ]
  },
  {
   "cell_type": "code",
   "execution_count": 3,
   "metadata": {},
   "outputs": [
    {
     "data": {
      "text/latex": [
       "$\\displaystyle \\frac{1}{2 \\nu + 1}$"
      ],
      "text/plain": [
       "1/(2*nu + 1)"
      ]
     },
     "execution_count": 3,
     "metadata": {},
     "output_type": "execute_result"
    }
   ],
   "source": [
    "F_nu.subs(t, 0).doit()"
   ]
  },
  {
   "cell_type": "markdown",
   "metadata": {},
   "source": [
    "Using `lambdify` we can use SymPy to generate a scipy compatible implementation"
   ]
  },
  {
   "cell_type": "code",
   "execution_count": 4,
   "metadata": {},
   "outputs": [
    {
     "name": "stdout",
     "output_type": "stream",
     "text": [
      "Help on function _lambdifygenerated:\n",
      "\n",
      "_lambdifygenerated(nu, t)\n",
      "    Created with lambdify. Signature:\n",
      "    \n",
      "    func(nu, t)\n",
      "    \n",
      "    Expression:\n",
      "    \n",
      "    t**(-nu - 1/2)*lowergamma(nu + 1/2, t)/2\n",
      "    \n",
      "    Source code:\n",
      "    \n",
      "    def _lambdifygenerated(nu, t):\n",
      "        return (1/2)*t**(-nu - 1/2)*gamma(nu + 1/2)*gammainc(nu + 1/2, t)\n",
      "    \n",
      "    \n",
      "    Imported modules:\n",
      "\n"
     ]
    }
   ],
   "source": [
    "help(lambdify((nu, t), gammanu, modules=\"scipy\"))"
   ]
  },
  {
   "cell_type": "markdown",
   "metadata": {},
   "source": [
    "We might need this lambda implementation later but for now let us see if SymPy can find a simpler way to evaluate this function for the integers 0, 1, 2, 3, ..."
   ]
  },
  {
   "cell_type": "code",
   "execution_count": 5,
   "metadata": {},
   "outputs": [
    {
     "data": {
      "text/latex": [
       "$\\displaystyle \\frac{\\sqrt{\\pi} \\operatorname{erf}{\\left(\\sqrt{t} \\right)}}{2 \\sqrt{t}}$"
      ],
      "text/plain": [
       "sqrt(pi)*erf(sqrt(t))/(2*sqrt(t))"
      ]
     },
     "metadata": {},
     "output_type": "display_data"
    },
    {
     "data": {
      "text/latex": [
       "$\\displaystyle - \\frac{e^{- t}}{2 t} + \\frac{\\sqrt{\\pi} \\operatorname{erf}{\\left(\\sqrt{t} \\right)}}{4 t^{\\frac{3}{2}}}$"
      ],
      "text/plain": [
       "-exp(-t)/(2*t) + sqrt(pi)*erf(sqrt(t))/(4*t**(3/2))"
      ]
     },
     "metadata": {},
     "output_type": "display_data"
    },
    {
     "data": {
      "text/latex": [
       "$\\displaystyle - \\frac{e^{- t}}{2 t} - \\frac{3 e^{- t}}{4 t^{2}} + \\frac{3 \\sqrt{\\pi} \\operatorname{erf}{\\left(\\sqrt{t} \\right)}}{8 t^{\\frac{5}{2}}}$"
      ],
      "text/plain": [
       "-exp(-t)/(2*t) - 3*exp(-t)/(4*t**2) + 3*sqrt(pi)*erf(sqrt(t))/(8*t**(5/2))"
      ]
     },
     "metadata": {},
     "output_type": "display_data"
    },
    {
     "data": {
      "text/latex": [
       "$\\displaystyle \\frac{\\left(- 8 t^{\\frac{5}{2}} - 20 t^{\\frac{3}{2}} - 30 \\sqrt{t} + 15 \\sqrt{\\pi} e^{t} \\operatorname{erf}{\\left(\\sqrt{t} \\right)}\\right) e^{- t}}{16 t^{\\frac{7}{2}}}$"
      ],
      "text/plain": [
       "(-8*t**(5/2) - 20*t**(3/2) - 30*sqrt(t) + 15*sqrt(pi)*exp(t)*erf(sqrt(t)))*exp(-t)/(16*t**(7/2))"
      ]
     },
     "metadata": {},
     "output_type": "display_data"
    },
    {
     "data": {
      "text/latex": [
       "$\\displaystyle \\frac{\\left(- 16 t^{\\frac{7}{2}} - 56 t^{\\frac{5}{2}} - 140 t^{\\frac{3}{2}} - 210 \\sqrt{t} + 105 \\sqrt{\\pi} e^{t} \\operatorname{erf}{\\left(\\sqrt{t} \\right)}\\right) e^{- t}}{32 t^{\\frac{9}{2}}}$"
      ],
      "text/plain": [
       "(-16*t**(7/2) - 56*t**(5/2) - 140*t**(3/2) - 210*sqrt(t) + 105*sqrt(pi)*exp(t)*erf(sqrt(t)))*exp(-t)/(32*t**(9/2))"
      ]
     },
     "metadata": {},
     "output_type": "display_data"
    }
   ],
   "source": [
    "for i in range(5):\n",
    "    display(simplify(gammanu.subs(nu, i)))"
   ]
  },
  {
   "cell_type": "markdown",
   "metadata": {},
   "source": [
    "This has a whiff of a recurrence but unfortunately SymPy doesn't seem to find it.  Lets see if we can spot the pattern:"
   ]
  },
  {
   "cell_type": "code",
   "execution_count": 6,
   "metadata": {},
   "outputs": [
    {
     "data": {
      "text/latex": [
       "$\\displaystyle \\frac{\\sqrt{\\pi} \\operatorname{erf}{\\left(\\sqrt{t} \\right)}}{2 \\sqrt{t}}$"
      ],
      "text/plain": [
       "sqrt(pi)*erf(sqrt(t))/(2*sqrt(t))"
      ]
     },
     "execution_count": 6,
     "metadata": {},
     "output_type": "execute_result"
    }
   ],
   "source": [
    "f_0 = simplify(gammanu.subs(nu, 0))\n",
    "f_0"
   ]
  },
  {
   "cell_type": "code",
   "execution_count": 7,
   "metadata": {},
   "outputs": [
    {
     "data": {
      "text/latex": [
       "$\\displaystyle - \\frac{e^{- t}}{2 t} + \\frac{\\sqrt{\\pi} \\operatorname{erf}{\\left(\\sqrt{t} \\right)}}{4 t^{\\frac{3}{2}}}$"
      ],
      "text/plain": [
       "-exp(-t)/(2*t) + sqrt(pi)*erf(sqrt(t))/(4*t**(3/2))"
      ]
     },
     "execution_count": 7,
     "metadata": {},
     "output_type": "execute_result"
    }
   ],
   "source": [
    "f_1 = simplify(1/(2* t) * (f_0 - exp(-t)))\n",
    "f_1"
   ]
  },
  {
   "cell_type": "code",
   "execution_count": 8,
   "metadata": {},
   "outputs": [
    {
     "data": {
      "text/latex": [
       "$\\displaystyle - \\frac{e^{- t}}{2 t} - \\frac{3 e^{- t}}{4 t^{2}} + \\frac{3 \\sqrt{\\pi} \\operatorname{erf}{\\left(\\sqrt{t} \\right)}}{8 t^{\\frac{5}{2}}}$"
      ],
      "text/plain": [
       "-exp(-t)/(2*t) - 3*exp(-t)/(4*t**2) + 3*sqrt(pi)*erf(sqrt(t))/(8*t**(5/2))"
      ]
     },
     "execution_count": 8,
     "metadata": {},
     "output_type": "execute_result"
    }
   ],
   "source": [
    "f_2 = simplify(1 / (2 * t) * (3 * f_1 - exp(-t)))\n",
    "f_2"
   ]
  },
  {
   "cell_type": "code",
   "execution_count": 9,
   "metadata": {},
   "outputs": [
    {
     "data": {
      "text/latex": [
       "$\\displaystyle \\left(- \\frac{1}{2 t} - \\frac{5}{4 t^{2}} - \\frac{15}{8 t^{3}}\\right) e^{- t} + \\frac{15 \\sqrt{\\pi} \\operatorname{erf}{\\left(\\sqrt{t} \\right)}}{16 t^{\\frac{7}{2}}}$"
      ],
      "text/plain": [
       "(-1/(2*t) - 5/(4*t**2) - 15/(8*t**3))*exp(-t) + 15*sqrt(pi)*erf(sqrt(t))/(16*t**(7/2))"
      ]
     },
     "execution_count": 9,
     "metadata": {},
     "output_type": "execute_result"
    }
   ],
   "source": [
    "f_3 = collect(simplify(1 / (2 * t) * (5 * f_2 - exp(-t))), exp(-t))\n",
    "f_3"
   ]
  },
  {
   "cell_type": "code",
   "execution_count": 10,
   "metadata": {},
   "outputs": [
    {
     "data": {
      "text/latex": [
       "$\\displaystyle \\frac{\\left(- 16 t^{\\frac{19}{2}} - 14 t^{\\frac{13}{2}} \\cdot \\left(4 t^{2} + 10 t + 15\\right) + 105 \\sqrt{\\pi} t^{6} e^{t} \\operatorname{erf}{\\left(\\sqrt{t} \\right)}\\right) e^{- t}}{32 t^{\\frac{21}{2}}}$"
      ],
      "text/plain": [
       "(-16*t**(19/2) - 14*t**(13/2)*(4*t**2 + 10*t + 15) + 105*sqrt(pi)*t**6*exp(t)*erf(sqrt(t)))*exp(-t)/(32*t**(21/2))"
      ]
     },
     "execution_count": 10,
     "metadata": {},
     "output_type": "execute_result"
    }
   ],
   "source": [
    "f_4 = simplify(1 / (2 * t) * (7 * f_3 - exp(-t)))\n",
    "f_4"
   ]
  },
  {
   "cell_type": "markdown",
   "metadata": {},
   "source": [
    "From this, we propose the following recurrence:\n",
    "\n",
    "$$\n",
    "F(0, t) = \\frac{1}{2} \\text{erf}(\\sqrt{t}) \\sqrt{\\frac{\\pi}{t}}\n",
    "$$\n",
    "\n",
    "$$\n",
    "F(\\nu, t) = \\frac{1}{2 t} \\left( (2\\nu - 1) F(\\nu - 1, t) - e^{-t} \\right)\n",
    "$$\n",
    "\n",
    "We test this recurrence out by comparing to the earlier lambda implementation derived by SymPy"
   ]
  },
  {
   "cell_type": "code",
   "execution_count": 11,
   "metadata": {},
   "outputs": [
    {
     "name": "stdout",
     "output_type": "stream",
     "text": [
      "nu = 0 max error = 3.6637359812630166e-15\n",
      "nu = 1 max error = 1.942890293094024e-16\n",
      "nu = 2 max error = 3.3306690738754696e-16\n",
      "nu = 3 max error = 1.6237011735142914e-15\n",
      "nu = 4 max error = 1.1310397063368782e-14\n",
      "nu = 5 max error = 9.851147675377092e-14\n",
      "nu = 6 max error = 1.0467876565556367e-12\n",
      "nu = 7 max error = 1.3154359546074801e-11\n",
      "nu = 8 max error = 1.9073770340938268e-10\n",
      "nu = 9 max error = 3.1344563958257687e-09\n"
     ]
    },
    {
     "name": "stderr",
     "output_type": "stream",
     "text": [
      "/tmp/ipykernel_2133004/1958191662.py:4: RuntimeWarning: divide by zero encountered in divide\n",
      "  return np.where(t == 0, 1.0, erf(np.sqrt(t)) * np.sqrt(np.pi / (4 * t)))\n",
      "/tmp/ipykernel_2133004/1958191662.py:4: RuntimeWarning: invalid value encountered in multiply\n",
      "  return np.where(t == 0, 1.0, erf(np.sqrt(t)) * np.sqrt(np.pi / (4 * t)))\n",
      "/tmp/ipykernel_2133004/1958191662.py:18: RuntimeWarning: divide by zero encountered in log\n",
      "  v = np.exp(np.log(0.5) - (nu + 0.5) * np.log(t) + np.log(gammainc(nu + 0.5, t)) + gammaln(nu + 0.5))\n",
      "/tmp/ipykernel_2133004/1958191662.py:18: RuntimeWarning: invalid value encountered in add\n",
      "  v = np.exp(np.log(0.5) - (nu + 0.5) * np.log(t) + np.log(gammainc(nu + 0.5, t)) + gammaln(nu + 0.5))\n",
      "/tmp/ipykernel_2133004/1958191662.py:11: RuntimeWarning: divide by zero encountered in divide\n",
      "  v = 1/ (2 * t) * ( (2 * nu - 1) * f_nu(nu-1, t) - np.exp(-t) )\n",
      "/tmp/ipykernel_2133004/1958191662.py:11: RuntimeWarning: invalid value encountered in multiply\n",
      "  v = 1/ (2 * t) * ( (2 * nu - 1) * f_nu(nu-1, t) - np.exp(-t) )\n"
     ]
    },
    {
     "data": {
      "image/png": "[encoded data removed]",
      "text/plain": [
       "<Figure size 640x480 with 1 Axes>"
      ]
     },
     "metadata": {},
     "output_type": "display_data"
    }
   ],
   "source": [
    "def f_0(t):\n",
    "    from scipy.special import erf \n",
    "\n",
    "    return np.where(t == 0, 1.0, erf(np.sqrt(t)) * np.sqrt(np.pi / (4 * t)))\n",
    "\n",
    "\n",
    "def f_nu(nu, t, epsilon=1e-10):\n",
    "    if nu == 0:\n",
    "        return f_0(t)\n",
    "\n",
    "    v = 1/ (2 * t) * ( (2 * nu - 1) * f_nu(nu-1, t) - np.exp(-t) )\n",
    "    return np.where(t <= epsilon, 1 / (2 * nu + 1), v)\n",
    "\n",
    "\n",
    "def gamma_nu(nu, t, epsilon=1e-10):\n",
    "    from scipy.special import gammainc, gammaln\n",
    "\n",
    "    v = np.exp(np.log(0.5) - (nu + 0.5) * np.log(t) + np.log(gammainc(nu + 0.5, t)) + gammaln(nu + 0.5))\n",
    "    return np.where(t <= epsilon, 1 / (2 * nu + 1), v)\n",
    "  \n",
    "x = np.linspace(0, 15, 30)\n",
    "\n",
    "for n in range(10):\n",
    "    y1 = f_nu(n, x)\n",
    "    y2 = gamma_nu(n, x)\n",
    "    e = np.abs(y1-y2)\n",
    "    print(f\"nu = {n} max error = {e.max()}\")\n",
    "    plt.stem(x, e)\n",
    "\n",
    "plt.show()\n"
   ]
  },
  {
   "cell_type": "markdown",
   "metadata": {},
   "source": [
    "The warnings are ok to ignore since we are evaluating the limit as $t \\rightarrow 0$ and otherwise looks ok at least for up to $\\nu = 9$ "
   ]
  },
  {
   "cell_type": "markdown",
   "metadata": {},
   "source": [
    "## Boost Math\n",
    "\n",
    "The boost math library contains a comprehensive implementation of the four different different variants of the gamma function.  For consistent definitions we follow their notation repeated here:\n",
    "\n",
    "\n",
    "\n",
    "1. The lower incomplete gamma function of $a$ and $z$\n",
    "$$\n",
    "\\gamma(a, z) = \\int_0^z t^{a-1} e^{-t} dt\n",
    "$$ \n",
    "\n",
    "2. normalised lower incomplete gamma function of $a$ and $z$.  This definition is consistent with the [scipy.special.gammainc](https://docs.scipy.org/doc/scipy/reference/generated/scipy.special.gammainc.html) implementation\n",
    "$$\n",
    "P(a, z) = \\frac{\\gamma(a, z)}{\\Gamma(a)} = \\frac{1}{\\Gamma(a)} \\int_0^z t^{a-1} e^{-t} dt\n",
    "$$\n",
    "\n",
    "3. upper incomplete gamma function of $a$ and $z$.\n",
    "$$\n",
    "\\Gamma(a, z) = \\int_z^\\infty t^{a-1} e^{-t} dt\n",
    "$$\n",
    "\n",
    "4. normalised upper incomplete gamma function of $a$ and $z$. This definition is consisent with the [scipy.special.gammaincc](https://docs.scipy.org/doc/scipy/reference/generated/scipy.special.gammaincc.html) implementation\n",
    "$$\n",
    "Q(a, z) = \\frac{\\Gamma(a, z)}{\\Gamma(a)} = \\frac{1}{\\Gamma(a)} \\int_z^\\infty t^{a-1} e^{-t} dt\n",
    "$$\n",
    "\n",
    "An additional identiy that follows from the integral definition:\n",
    "$$\n",
    "\\gamma(a, z) + \\Gamma(a, z) = \\Gamma(a)\n",
    "$$\n",
    "and for the normalised functions we have:\n",
    "$$\n",
    "P(a, z) + Q(a, z) = 1\n",
    "$$\n",
    "\n",
    "Back to the boost libary, see [#10](https://beta.boost.org/doc/libs/1_82_0/libs/math/doc/html/math_toolkit/sf_gamma/igamma.html#math_toolkit.sf_gamma.igamma.implementation) of their implementation notes which states for half-integers $a \\in [\\frac{1}{2}, 30]$ that the following series expansion should be used to evaluate the upper incomplete regularised gamma function:\n",
    "$$\n",
    "Q(a, x) = \\text{erfc}(\\sqrt{x}) + \\frac{e^{-x}}{\\sqrt{\\pi x}} \\sum_{n=1}^{a - \\frac{1}{2}} \\frac{x^n}{(1 - \\frac{1}{2}) \\cdots (n - \\frac{1}{2})}\n",
    "$$\n",
    "\n",
    "\n"
   ]
  },
  {
   "cell_type": "code",
   "execution_count": null,
   "metadata": {},
   "outputs": [],
   "source": [
    "def g(a, x):\n",
    "    from scipy.special import erfc, gamma\n",
    "\n",
    "    term = np.exp(-x) / np.sqrt(np.pi * x)\n",
    "    q = erfc(np.sqrt(x))\n",
    "\n",
    "    for n in range(1, int(a+0.5)):\n",
    "        term /= n - 0.5\n",
    "        term *= x\n",
    "        q += term\n",
    "\n",
    "    return (1 - q) * gamma(a)\n",
    "\n",
    "def gv(a, x, amax=20):\n",
    "    from scipy.special import erfc, gamma\n",
    "\n",
    "    n = np.arange(1, amax+1)\n",
    "    mask = n <= a\n",
    "    q = erfc(np.sqrt(x))\n",
    "    q += np.exp(-x) / np.sqrt(np.pi * x) * np.sum(mask * x ** n / np.cumprod(n-0.5))\n",
    "\n",
    "    return (1 - q) * gamma(a)\n",
    "\n",
    "def og(a, x):\n",
    "    from scipy.special import gammainc, gamma, gammaln\n",
    "\n",
    "    return np.exp(gammaln(a) + np.log(gammainc(a, x)))\n",
    "    \n",
    "def pq(a, x):\n",
    "    from pyquante2.utils import gamm_inc\n",
    "\n",
    "    return gamm_inc(a, x)\n",
    "\n",
    "x = 1e-10\n",
    "for a in range(20):\n",
    "    print(pq(a+0.5, x) - gv(a+0.5, x))\n"
   ]
  }
 ],
 "metadata": {
  "kernelspec": {
   "display_name": "pyscf-ipu",
   "language": "python",
   "name": "python3"
  },
  "language_info": {
   "codemirror_mode": {
    "name": "ipython",
    "version": 3
   },
   "file_extension": ".py",
   "mimetype": "text/x-python",
   "name": "python",
   "nbconvert_exporter": "python",
   "pygments_lexer": "ipython3",
   "version": "3.8.10"
  },
  "orig_nbformat": 4
 },
 "nbformat": 4,
 "nbformat_minor": 2
}
