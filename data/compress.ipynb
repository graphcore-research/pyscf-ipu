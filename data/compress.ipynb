{
 "cells": [
  {
   "cell_type": "code",
   "execution_count": 14,
   "metadata": {},
   "outputs": [],
   "source": [
    "import pandas as pd \n",
    "df11 = pd.read_pickle(\"../data/generated/run11/data.pkl\")"
   ]
  },
  {
   "cell_type": "code",
   "execution_count": 2,
   "metadata": {},
   "outputs": [],
   "source": [
    "df11.to_parquet(\"../data/generated/run11/data.parquet\")"
   ]
  },
  {
   "cell_type": "code",
   "execution_count": 7,
   "metadata": {},
   "outputs": [],
   "source": [
    "df11.to_hdf(\"../data/generated/run11/data.hdf\", key=\"df\", complevel=1) # takes way more sapce... "
   ]
  },
  {
   "cell_type": "code",
   "execution_count": 11,
   "metadata": {},
   "outputs": [
    {
     "name": "stderr",
     "output_type": "stream",
     "text": [
      "100%|██████████| 443506/443506 [00:08<00:00, 49740.71it/s]\n",
      "100%|██████████| 443506/443506 [00:11<00:00, 39540.92it/s]\n"
     ]
    }
   ],
   "source": [
    "import numpy as np  \n",
    "from tqdm import tqdm \n",
    "\n",
    "def fixstr(df):\n",
    "  df[\"energies\"]       = np.array([np.fromstring(df[\"energies\"].values[i][1: -1], sep=\",\", dtype=np.float64) for i in tqdm(range(df.shape[0]))])\n",
    "  df[\"atom_positions\"] = np.array([np.fromstring(df[\"atom_positions\"].values[i][1: -1], sep=\",\", dtype=np.float64) for i in tqdm(range(df.shape[0]))])\n",
    "  return df \n",
    "\n",
    "df = fixstr(df11)\n",
    "# I imagine the issue is all the string stuff... "
   ]
  },
  {
   "cell_type": "code",
   "execution_count": 38,
   "metadata": {},
   "outputs": [],
   "source": [
    "df = df11.copy()[:1024]\n",
    "\n",
    "df.to_pickle(\"../data/generated/run11/test.pkl\")"
   ]
  },
  {
   "cell_type": "code",
   "execution_count": 46,
   "metadata": {},
   "outputs": [
    {
     "name": "stdout",
     "output_type": "stream",
     "text": [
      "[[-22486.17322673 -11058.64787684  -9520.25465393 ...  -9832.30169576\n",
      "   -9832.30898339  -9832.30232535]\n",
      " [-21757.57840746 -13804.58460548 -12816.52175818 ... -11821.91071014\n",
      "  -11821.89854626 -11821.90317743]\n",
      " [-24734.4138806  -12751.64730038 -10842.07028483 ... -11819.46814294\n",
      "  -11819.4691253  -11819.46746112]\n",
      " ...\n",
      " [-22384.97324693 -14055.85383357 -10263.66542255 ... -10827.89159693\n",
      "  -10827.89028911 -10827.89497486]\n",
      " [-23430.33202896 -16535.77875029 -13265.32535919 ... -12815.92110011\n",
      "  -12815.91692624 -12815.92343739]\n",
      " [-26807.46569352 -16098.55818562 -11971.75394077 ... -13028.95585815\n",
      "  -13028.95367618 -13028.95482231]]\n",
      "(1024, 50)\n",
      "(1024, 50)\n",
      "(1024, 50)\n"
     ]
    }
   ],
   "source": [
    "# suspect the remainder goes to atoms? \n",
    "# add padding in here so everythign can have the same shape? \n",
    "\n",
    "a = np.concatenate([np.fromstring(df11[\"energies\"].values[i][1:-1], sep=\",\", dtype=np.float64).reshape(1, -1) for i in range(df[:1024].shape[0])], axis=0)\n",
    "print(a)\n",
    "print(a.shape)\n",
    "print(a.shape)\n",
    "print(a.shape)\n",
    "df[\"energies\"] = a\n",
    "\n",
    "# perhaps save as numpy? this is often well compressed and fast to laoad! \n",
    "# ahh, but it doesn't allow us loading 100 to 1000 which we need in the datalodaer. \n",
    "# the atom_positions are all different shapes. pad those with zeros? or maybe nans? \n",
    "# how do we store this conveniently? ... not clear. \n",
    "df[\"atom_positions\"] = np.concatenate([np.fromstring(df11[\"atom_positions\"].values[i][1:-1], sep=\",\", dtype=np.float64).reshape(1, -1) for i in range(df[:1024].shape[0])], axis=0)"
   ]
  },
  {
   "cell_type": "code",
   "execution_count": 48,
   "metadata": {},
   "outputs": [
    {
     "data": {
      "text/plain": [
       "Index(['Unnamed: 0', 'smile', 'atoms', 'atom_positions', 'energies',\n",
       "       'nuclear_energy', 'times', 'homo', 'lumo', 'hlgap', 'N', 'mem_eri',\n",
       "       'mem_grid'],\n",
       "      dtype='object')"
      ]
     },
     "execution_count": 48,
     "metadata": {},
     "output_type": "execute_result"
    }
   ],
   "source": [
    "df.keys()"
   ]
  },
  {
   "cell_type": "code",
   "execution_count": 51,
   "metadata": {},
   "outputs": [
    {
     "name": "stdout",
     "output_type": "stream",
     "text": [
      "['C=CC1=CCCN2CC12' 'CCCC(=CN)C(O)=O' 'CCC=CC(O)C=NO' ...\n",
      " 'OC12CCC(NC1)C2=C' 'CCC(O)CC(=O)NO' 'CCOCC(F)=COC']\n",
      "[ 4.90177305  4.42534634  5.52506308 ...  0.0885004  -5.44779585\n",
      "  5.54545537]\n"
     ]
    }
   ],
   "source": [
    "print(df[\"smile\"].values)\n",
    "print(df[\"atom_positions\"].values)\n",
    "print(df[\"hlgap\"].values)\n",
    "print(df[\"homo\"].values)\n",
    "\n",
    "\n"
   ]
  },
  {
   "cell_type": "code",
   "execution_count": 47,
   "metadata": {},
   "outputs": [
    {
     "data": {
      "text/plain": [
       "(1024,)"
      ]
     },
     "execution_count": 47,
     "metadata": {},
     "output_type": "execute_result"
    }
   ],
   "source": [
    "df[\"energies\"].shape"
   ]
  },
  {
   "cell_type": "code",
   "execution_count": 32,
   "metadata": {},
   "outputs": [],
   "source": [
    "df.to_pickle(\"../data/generated/run11/test3.pkl\")"
   ]
  },
  {
   "cell_type": "code",
   "execution_count": 33,
   "metadata": {},
   "outputs": [
    {
     "data": {
      "text/html": [
       "<div>\n",
       "<style scoped>\n",
       "    .dataframe tbody tr th:only-of-type {\n",
       "        vertical-align: middle;\n",
       "    }\n",
       "\n",
       "    .dataframe tbody tr th {\n",
       "        vertical-align: top;\n",
       "    }\n",
       "\n",
       "    .dataframe thead th {\n",
       "        text-align: right;\n",
       "    }\n",
       "</style>\n",
       "<table border=\"1\" class=\"dataframe\">\n",
       "  <thead>\n",
       "    <tr style=\"text-align: right;\">\n",
       "      <th></th>\n",
       "      <th>Unnamed: 0</th>\n",
       "      <th>smile</th>\n",
       "      <th>atoms</th>\n",
       "      <th>atom_positions</th>\n",
       "      <th>energies</th>\n",
       "      <th>nuclear_energy</th>\n",
       "      <th>times</th>\n",
       "      <th>homo</th>\n",
       "      <th>lumo</th>\n",
       "      <th>hlgap</th>\n",
       "      <th>N</th>\n",
       "      <th>mem_eri</th>\n",
       "      <th>mem_grid</th>\n",
       "    </tr>\n",
       "  </thead>\n",
       "  <tbody>\n",
       "    <tr>\n",
       "      <th>1</th>\n",
       "      <td>0</td>\n",
       "      <td>C=CC1=CCCN2CC12</td>\n",
       "      <td>CCCCCCNCCHHHHHHHHHHH</td>\n",
       "      <td>4.901773</td>\n",
       "      <td>-22486.173828</td>\n",
       "      <td>12144.810682</td>\n",
       "      <td>[345.1 116.    0.  262.1  12.1   1.    0.8   0.1]</td>\n",
       "      <td>-3.612315</td>\n",
       "      <td>2.010903</td>\n",
       "      <td>5.623217</td>\n",
       "      <td>56</td>\n",
       "      <td>-1</td>\n",
       "      <td>39600000</td>\n",
       "    </tr>\n",
       "    <tr>\n",
       "      <th>2</th>\n",
       "      <td>0</td>\n",
       "      <td>CCCC(=CN)C(O)=O</td>\n",
       "      <td>CCCCCNCOOHHHHHHHHHHH</td>\n",
       "      <td>4.901773</td>\n",
       "      <td>-22486.173828</td>\n",
       "      <td>12647.213196</td>\n",
       "      <td>[312.6  69.    0.  254.8   7.1   1.1   3.8   0.1]</td>\n",
       "      <td>-2.604744</td>\n",
       "      <td>1.912251</td>\n",
       "      <td>4.516995</td>\n",
       "      <td>56</td>\n",
       "      <td>-1</td>\n",
       "      <td>39600000</td>\n",
       "    </tr>\n",
       "    <tr>\n",
       "      <th>3</th>\n",
       "      <td>0</td>\n",
       "      <td>CCC=CC(O)C=NO</td>\n",
       "      <td>CCCCCOCNOHHHHHHHHHHH</td>\n",
       "      <td>4.901773</td>\n",
       "      <td>-22486.173828</td>\n",
       "      <td>12228.351705</td>\n",
       "      <td>[286.3  58.8   0.  255.6  14.3   1.    1.    0.1]</td>\n",
       "      <td>-2.731963</td>\n",
       "      <td>2.456154</td>\n",
       "      <td>5.188117</td>\n",
       "      <td>56</td>\n",
       "      <td>-1</td>\n",
       "      <td>39600000</td>\n",
       "    </tr>\n",
       "    <tr>\n",
       "      <th>4</th>\n",
       "      <td>0</td>\n",
       "      <td>OC(CCF)CNN=C</td>\n",
       "      <td>OCCCFCNNCHHHHHHHHHHH</td>\n",
       "      <td>4.901773</td>\n",
       "      <td>-22486.173828</td>\n",
       "      <td>13148.222003</td>\n",
       "      <td>[292.4  68.6   0.  254.2   2.2   0.9   0.8   0. ]</td>\n",
       "      <td>-2.931759</td>\n",
       "      <td>3.147599</td>\n",
       "      <td>6.079358</td>\n",
       "      <td>56</td>\n",
       "      <td>-1</td>\n",
       "      <td>39600000</td>\n",
       "    </tr>\n",
       "    <tr>\n",
       "      <th>5</th>\n",
       "      <td>0</td>\n",
       "      <td>NCC=CC=NN1CC1</td>\n",
       "      <td>NCCCCNNCCHHHHHHHHHHH</td>\n",
       "      <td>4.901773</td>\n",
       "      <td>-22486.173828</td>\n",
       "      <td>11311.009466</td>\n",
       "      <td>[259.6  69.7   0.  254.9   3.5   0.9   2.5   0.1]</td>\n",
       "      <td>19.438147</td>\n",
       "      <td>21.923483</td>\n",
       "      <td>2.485335</td>\n",
       "      <td>56</td>\n",
       "      <td>-1</td>\n",
       "      <td>39600000</td>\n",
       "    </tr>\n",
       "  </tbody>\n",
       "</table>\n",
       "</div>"
      ],
      "text/plain": [
       "   Unnamed: 0            smile                 atoms  atom_positions  \\\n",
       "1           0  C=CC1=CCCN2CC12  CCCCCCNCCHHHHHHHHHHH        4.901773   \n",
       "2           0  CCCC(=CN)C(O)=O  CCCCCNCOOHHHHHHHHHHH        4.901773   \n",
       "3           0    CCC=CC(O)C=NO  CCCCCOCNOHHHHHHHHHHH        4.901773   \n",
       "4           0     OC(CCF)CNN=C  OCCCFCNNCHHHHHHHHHHH        4.901773   \n",
       "5           0    NCC=CC=NN1CC1  NCCCCNNCCHHHHHHHHHHH        4.901773   \n",
       "\n",
       "       energies  nuclear_energy  \\\n",
       "1 -22486.173828    12144.810682   \n",
       "2 -22486.173828    12647.213196   \n",
       "3 -22486.173828    12228.351705   \n",
       "4 -22486.173828    13148.222003   \n",
       "5 -22486.173828    11311.009466   \n",
       "\n",
       "                                               times       homo       lumo  \\\n",
       "1  [345.1 116.    0.  262.1  12.1   1.    0.8   0.1]  -3.612315   2.010903   \n",
       "2  [312.6  69.    0.  254.8   7.1   1.1   3.8   0.1]  -2.604744   1.912251   \n",
       "3  [286.3  58.8   0.  255.6  14.3   1.    1.    0.1]  -2.731963   2.456154   \n",
       "4  [292.4  68.6   0.  254.2   2.2   0.9   0.8   0. ]  -2.931759   3.147599   \n",
       "5  [259.6  69.7   0.  254.9   3.5   0.9   2.5   0.1]  19.438147  21.923483   \n",
       "\n",
       "      hlgap   N  mem_eri  mem_grid  \n",
       "1  5.623217  56       -1  39600000  \n",
       "2  4.516995  56       -1  39600000  \n",
       "3  5.188117  56       -1  39600000  \n",
       "4  6.079358  56       -1  39600000  \n",
       "5  2.485335  56       -1  39600000  "
      ]
     },
     "execution_count": 33,
     "metadata": {},
     "output_type": "execute_result"
    }
   ],
   "source": [
    "df.head()"
   ]
  }
 ],
 "metadata": {
  "kernelspec": {
   "display_name": "dft",
   "language": "python",
   "name": "python3"
  },
  "language_info": {
   "codemirror_mode": {
    "name": "ipython",
    "version": 3
   },
   "file_extension": ".py",
   "mimetype": "text/x-python",
   "name": "python",
   "nbconvert_exporter": "python",
   "pygments_lexer": "ipython3",
   "version": "3.8.10"
  },
  "orig_nbformat": 4
 },
 "nbformat": 4,
 "nbformat_minor": 2
}
