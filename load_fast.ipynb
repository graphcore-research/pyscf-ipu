{
 "cells": [
  {
   "cell_type": "code",
   "execution_count": 5,
   "metadata": {},
   "outputs": [
    {
     "data": {
      "application/vnd.jupyter.widget-view+json": {
       "model_id": "9353e1c2435443c4a3e5ada2c1873835",
       "version_major": 2,
       "version_minor": 0
      },
      "text/plain": [
       "QUEUEING TASKS | :   0%|          | 0/153 [00:00<?, ?it/s]"
      ]
     },
     "metadata": {},
     "output_type": "display_data"
    },
    {
     "data": {
      "application/vnd.jupyter.widget-view+json": {
       "model_id": "274c66f6d50240e1ac8dafacf983d83a",
       "version_major": 2,
       "version_minor": 0
      },
      "text/plain": [
       "PROCESSING TASKS | :   0%|          | 0/153 [00:00<?, ?it/s]"
      ]
     },
     "metadata": {},
     "output_type": "display_data"
    },
    {
     "data": {
      "application/vnd.jupyter.widget-view+json": {
       "model_id": "aa42d724128648428ae67d09046a13ff",
       "version_major": 2,
       "version_minor": 0
      },
      "text/plain": [
       "COLLECTING RESULTS | :   0%|          | 0/153 [00:00<?, ?it/s]"
      ]
     },
     "metadata": {},
     "output_type": "display_data"
    },
    {
     "name": "stdout",
     "output_type": "stream",
     "text": [
      "248682276\n"
     ]
    },
    {
     "data": {
      "application/vnd.jupyter.widget-view+json": {
       "model_id": "2d114142ff7843c1ac8652d475d9e775",
       "version_major": 2,
       "version_minor": 0
      },
      "text/plain": [
       "QUEUEING TASKS | :   0%|          | 0/217 [00:00<?, ?it/s]"
      ]
     },
     "metadata": {},
     "output_type": "display_data"
    },
    {
     "data": {
      "application/vnd.jupyter.widget-view+json": {
       "model_id": "d3e7917d2a354816b7a00314a7797369",
       "version_major": 2,
       "version_minor": 0
      },
      "text/plain": [
       "PROCESSING TASKS | :   0%|          | 0/217 [00:00<?, ?it/s]"
      ]
     },
     "metadata": {},
     "output_type": "display_data"
    },
    {
     "data": {
      "application/vnd.jupyter.widget-view+json": {
       "model_id": "045732e4b7d543d6b16fe8ab20dcee07",
       "version_major": 2,
       "version_minor": 0
      },
      "text/plain": [
       "COLLECTING RESULTS | :   0%|          | 0/217 [00:00<?, ?it/s]"
      ]
     },
     "metadata": {},
     "output_type": "display_data"
    },
    {
     "name": "stdout",
     "output_type": "stream",
     "text": [
      "192512257\n"
     ]
    }
   ],
   "source": [
    "from pqdm.processes import pqdm\n",
    "import matplotlib.pyplot as plt \n",
    "from natsort import natsorted \n",
    "import os \n",
    "import numpy as np \n",
    "import pandas as pd \n",
    "\n",
    "run = \"bigrun15\"\n",
    "for run in [\"bigrun15\", \"bigrun16\"]:\n",
    "  folders   = natsorted([a for a in os.listdir(\"data/generated/%s/\"%run) if \".txt\" not in a and \"GDB\" in a])\n",
    "  folders   = [a for a in folders if os.path.exists(\"data/generated/%s/%s/data.csv\"%(run, a))]\n",
    "  filenames = [\"data/generated/%s/%s/data.csv\"%(run, folders[i]) for i in range(len(folders))] \n",
    "  sizes     = [os.path.getsize(\"data/generated/%s/%s/data.csv\"%(run, f)) for f in folders]\n",
    "  indxs = np.argsort(sizes)\n",
    "  filenames = np.array(filenames)[indxs].tolist()\n",
    "\n",
    "\n",
    "  def square(filename):\n",
    "      return pd.read_csv(filename, compression=\"gzip\").shape[0] # make script that dumpts into another file. \n",
    "\n",
    "  # obs: running multiple times it is slower, e.g., queuing takes 2min. \n",
    "  result_ = pqdm(filenames, square, n_jobs=100)\n",
    "  print(len(result_))\n",
    "  print(np.sum([a for a in result_ if type(a) == type(1)]))"
   ]
  },
  {
   "cell_type": "code",
   "execution_count": 1,
   "metadata": {},
   "outputs": [
    {
     "name": "stdout",
     "output_type": "stream",
     "text": [
      "320-> 298\n"
     ]
    },
    {
     "data": {
      "application/vnd.jupyter.widget-view+json": {
       "model_id": "9233209e65f94c2abda220ed8f866ce5",
       "version_major": 2,
       "version_minor": 0
      },
      "text/plain": [
       "QUEUEING TASKS | :   0%|          | 0/298 [00:00<?, ?it/s]"
      ]
     },
     "metadata": {},
     "output_type": "display_data"
    },
    {
     "data": {
      "application/vnd.jupyter.widget-view+json": {
       "model_id": "b7fe12328764426da22e2bc1225893cc",
       "version_major": 2,
       "version_minor": 0
      },
      "text/plain": [
       "PROCESSING TASKS | :   0%|          | 0/298 [00:00<?, ?it/s]"
      ]
     },
     "metadata": {},
     "output_type": "display_data"
    },
    {
     "name": "stderr",
     "output_type": "stream",
     "text": [
      "/nethome/alexm/miniconda3/envs/dft/lib/python3.8/site-packages/numpy/core/_methods.py:239: RuntimeWarning: overflow encountered in multiply\n",
      "  x = um.multiply(x, x, out=x)\n",
      "/nethome/alexm/miniconda3/envs/dft/lib/python3.8/site-packages/numpy/core/_methods.py:239: RuntimeWarning: overflow encountered in multiply\n",
      "  x = um.multiply(x, x, out=x)\n",
      "/nethome/alexm/miniconda3/envs/dft/lib/python3.8/site-packages/numpy/core/_methods.py:239: RuntimeWarning: overflow encountered in multiply\n",
      "  x = um.multiply(x, x, out=x)\n",
      "/nethome/alexm/miniconda3/envs/dft/lib/python3.8/site-packages/numpy/core/_methods.py:250: RuntimeWarning: overflow encountered in reduce\n",
      "  ret = umr_sum(x, axis, dtype, out, keepdims=keepdims, where=where)\n",
      "/nethome/alexm/miniconda3/envs/dft/lib/python3.8/site-packages/numpy/core/_methods.py:239: RuntimeWarning: overflow encountered in multiply\n",
      "  x = um.multiply(x, x, out=x)\n"
     ]
    },
    {
     "data": {
      "application/vnd.jupyter.widget-view+json": {
       "model_id": "033f6d8af31d4b5fb1b97a6ddfc05a31",
       "version_major": 2,
       "version_minor": 0
      },
      "text/plain": [
       "COLLECTING RESULTS | :   0%|          | 0/298 [00:00<?, ?it/s]"
      ]
     },
     "metadata": {},
     "output_type": "display_data"
    },
    {
     "name": "stdout",
     "output_type": "stream",
     "text": [
      "574293279 298\n",
      "224-> 153\n"
     ]
    },
    {
     "data": {
      "application/vnd.jupyter.widget-view+json": {
       "model_id": "2ca4316e32e044bab30b217e75704965",
       "version_major": 2,
       "version_minor": 0
      },
      "text/plain": [
       "QUEUEING TASKS | :   0%|          | 0/153 [00:00<?, ?it/s]"
      ]
     },
     "metadata": {},
     "output_type": "display_data"
    },
    {
     "data": {
      "application/vnd.jupyter.widget-view+json": {
       "model_id": "048aa61f950f45d585ba71b7a9cc0ad4",
       "version_major": 2,
       "version_minor": 0
      },
      "text/plain": [
       "PROCESSING TASKS | :   0%|          | 0/153 [00:00<?, ?it/s]"
      ]
     },
     "metadata": {},
     "output_type": "display_data"
    }
   ],
   "source": [
    "from pqdm.processes import pqdm\n",
    "import matplotlib.pyplot as plt \n",
    "from natsort import natsorted \n",
    "import os \n",
    "import numpy as np \n",
    "import pandas as pd \n",
    "from periodictable import elements as pt\n",
    "\n",
    "def square(filename):\n",
    "    #df = pd.read_csv(filename, compression=\"gzip\", nrows=10000) # for processing everything in 10s to check for bugs \n",
    "    df = pd.read_csv(filename, compression=\"gzip\")\n",
    "\n",
    "    # i think std overflows maybe at some point? \n",
    "    df[\"std\"] = np.std(np.concatenate([np.fromstring(df[\"energies\"].values[i][1:-1], sep=\",\", dtype=np.float32).reshape(1, -1) for i in range(df.shape[0])], axis=0)[:, -5:], axis=1)\n",
    "\n",
    "    df = df[df[\"std\"]<0.01] \n",
    "\n",
    "    df[\"pos\"] = df[\"atom_positions\"].apply(lambda x: np.fromstring(x[1:-1], sep=\",\", dtype=np.float64).reshape(-1).astype(np.float32)).values\n",
    "    df[\"z\"]   = df[\"atoms\"].apply( lambda x: np.array([pt.symbol(a).number for a in x], dtype=np.uint8) )\n",
    "    df[\"y\"] = df[\"hlgap\"]\n",
    "\n",
    "    #df = df[[\"smile\", \"atoms\", \"z\",  \"homo\", \"lumo\", \"N\", \"std\",  \"pos\", \"y\"]] # removed time \n",
    "    df = df[[\"z\", \"pos\", \"y\"]] # just for traiing removed time \n",
    "    #df[\"std\"]  = df[\"std\"].to_numpy(np.float32) # \n",
    "    #df[\"homo\"] = df[\"homo\"].to_numpy(np.float32) # \n",
    "    #df[\"lumo\"] = df[\"lumo\"].to_numpy(np.float32) # \n",
    "    #df[\"N\"]    = df[\"N\"].to_numpy(np.uint8) # \n",
    "\n",
    "    df.to_parquet(\"/nethome/alexm/jaxdft-pre-experimental/qm1b_tmp/%s.parquet\"%(filename.split(\"/\")[-2]))\n",
    "    return df.shape[0] \n",
    "\n",
    "for run in [\"bigrun14\", \"bigrun15\", \"bigrun16\"]:\n",
    "    folders   = natsorted([a for a in os.listdir(\"data/generated/%s/\"%run) if \".txt\" not in a and \"GDB\" in a])\n",
    "    print(len(folders), end=\"\")\n",
    "    folders   = [a for a in folders if os.path.exists(\"data/generated/%s/%s/data.csv\"%(run, a))]\n",
    "    print(\"->\", len(folders))\n",
    "    filenames = [\"data/generated/%s/%s/data.csv\"%(run, folders[i]) for i in range(len(folders))] \n",
    "    sizes     = [os.path.getsize(\"data/generated/%s/%s/data.csv\"%(run, f)) for f in folders]\n",
    "    indxs = np.argsort(sizes)\n",
    "    filenames = np.array(filenames)[indxs].tolist()\n",
    "\n",
    "    result_ = pqdm(filenames, square, n_jobs=100)\n",
    "    print(np.sum([a for a in result_ if type(a) == type(2)]), len(result_))\n",
    "    #print(\">>>\", np.max([a for a in result_ if type(a) == type(2)]))\n",
    "    #square(filenames[-1])"
   ]
  },
  {
   "cell_type": "code",
   "execution_count": 3,
   "metadata": {},
   "outputs": [
    {
     "data": {
      "text/plain": [
       "(97925, 3)"
      ]
     },
     "execution_count": 3,
     "metadata": {},
     "output_type": "execute_result"
    }
   ],
   "source": [
    "import pyarrow.parquet as pq\n",
    "import os \n",
    "from natsort import natsorted \n",
    "\n",
    "#files    = natsorted(os.listdir(\"qm1b_tmp/\"))\n",
    "files    = natsorted(os.listdir(\"/nethome/alexm/jaxdft-pre-experimental/qm1b_tmp/\"))\n",
    "parquets = natsorted([\"qm1b_tmp/\"+a for a in files if \"parquet\" in a])\n",
    "df = pq.read_table(parquets)\n",
    "df.shape"
   ]
  },
  {
   "cell_type": "code",
   "execution_count": 1,
   "metadata": {},
   "outputs": [
    {
     "data": {
      "text/html": [
       "<div>\n",
       "<style scoped>\n",
       "    .dataframe tbody tr th:only-of-type {\n",
       "        vertical-align: middle;\n",
       "    }\n",
       "\n",
       "    .dataframe tbody tr th {\n",
       "        vertical-align: top;\n",
       "    }\n",
       "\n",
       "    .dataframe thead th {\n",
       "        text-align: right;\n",
       "    }\n",
       "</style>\n",
       "<table border=\"1\" class=\"dataframe\">\n",
       "  <thead>\n",
       "    <tr style=\"text-align: right;\">\n",
       "      <th></th>\n",
       "      <th>z</th>\n",
       "      <th>pos</th>\n",
       "      <th>y</th>\n",
       "    </tr>\n",
       "  </thead>\n",
       "  <tbody>\n",
       "    <tr>\n",
       "      <th>0</th>\n",
       "      <td>[9, 6, 6, 6, 8, 6, 7, 7, 7, 6, 1, 1, 1, 1]</td>\n",
       "      <td>[-4.5220003, -2.2504573, 2.3169382, -3.9694283...</td>\n",
       "      <td>6.649870</td>\n",
       "    </tr>\n",
       "    <tr>\n",
       "      <th>1</th>\n",
       "      <td>[9, 6, 6, 6, 8, 6, 7, 7, 7, 6, 1, 1, 1, 1]</td>\n",
       "      <td>[-4.692202, -1.1123401, 2.8265004, -4.0558414,...</td>\n",
       "      <td>6.647062</td>\n",
       "    </tr>\n",
       "    <tr>\n",
       "      <th>2</th>\n",
       "      <td>[9, 6, 6, 6, 8, 6, 7, 7, 7, 6, 1, 1, 1, 1]</td>\n",
       "      <td>[-1.8966775, -0.5760016, -5.180652, 0.51329523...</td>\n",
       "      <td>6.625340</td>\n",
       "    </tr>\n",
       "    <tr>\n",
       "      <th>3</th>\n",
       "      <td>[9, 6, 6, 6, 8, 6, 7, 7, 7, 6, 1, 1, 1, 1]</td>\n",
       "      <td>[-4.4585404, -1.4275585, 3.3873675, -4.044052,...</td>\n",
       "      <td>6.739489</td>\n",
       "    </tr>\n",
       "    <tr>\n",
       "      <th>4</th>\n",
       "      <td>[9, 6, 6, 6, 8, 6, 7, 7, 7, 6, 1, 1, 1, 1]</td>\n",
       "      <td>[-4.793129, -1.2303548, -2.5873125, -3.9083073...</td>\n",
       "      <td>6.757394</td>\n",
       "    </tr>\n",
       "    <tr>\n",
       "      <th>...</th>\n",
       "      <td>...</td>\n",
       "      <td>...</td>\n",
       "      <td>...</td>\n",
       "    </tr>\n",
       "    <tr>\n",
       "      <th>5804644</th>\n",
       "      <td>[7, 7, 6, 8, 6, 6, 6, 8, 6, 8, 1, 1, 1, 1, 1, ...</td>\n",
       "      <td>[5.459736, 0.88411736, 0.34229085, 2.9631617, ...</td>\n",
       "      <td>5.298792</td>\n",
       "    </tr>\n",
       "    <tr>\n",
       "      <th>5804645</th>\n",
       "      <td>[7, 7, 6, 8, 6, 6, 6, 8, 6, 8, 1, 1, 1, 1, 1, ...</td>\n",
       "      <td>[5.313457, 1.3426342, -1.4255189, 2.9915981, 0...</td>\n",
       "      <td>5.513345</td>\n",
       "    </tr>\n",
       "    <tr>\n",
       "      <th>5804646</th>\n",
       "      <td>[7, 7, 6, 8, 6, 6, 6, 8, 6, 8, 1, 1, 1, 1, 1, ...</td>\n",
       "      <td>[5.454269, 1.1509848, -0.39161396, 3.0147963, ...</td>\n",
       "      <td>5.446056</td>\n",
       "    </tr>\n",
       "    <tr>\n",
       "      <th>5804647</th>\n",
       "      <td>[7, 7, 6, 8, 6, 6, 6, 8, 6, 8, 1, 1, 1, 1, 1, ...</td>\n",
       "      <td>[5.3821034, 0.5583938, 0.51316136, 2.8419719, ...</td>\n",
       "      <td>5.535908</td>\n",
       "    </tr>\n",
       "    <tr>\n",
       "      <th>5804648</th>\n",
       "      <td>[7, 7, 6, 8, 6, 6, 6, 8, 6, 8, 1, 1, 1, 1, 1, ...</td>\n",
       "      <td>[5.0100203, 1.1043531, -0.7253808, 2.6122453, ...</td>\n",
       "      <td>5.639963</td>\n",
       "    </tr>\n",
       "  </tbody>\n",
       "</table>\n",
       "<p>5804649 rows × 3 columns</p>\n",
       "</div>"
      ],
      "text/plain": [
       "                                                         z   \n",
       "0               [9, 6, 6, 6, 8, 6, 7, 7, 7, 6, 1, 1, 1, 1]  \\\n",
       "1               [9, 6, 6, 6, 8, 6, 7, 7, 7, 6, 1, 1, 1, 1]   \n",
       "2               [9, 6, 6, 6, 8, 6, 7, 7, 7, 6, 1, 1, 1, 1]   \n",
       "3               [9, 6, 6, 6, 8, 6, 7, 7, 7, 6, 1, 1, 1, 1]   \n",
       "4               [9, 6, 6, 6, 8, 6, 7, 7, 7, 6, 1, 1, 1, 1]   \n",
       "...                                                    ...   \n",
       "5804644  [7, 7, 6, 8, 6, 6, 6, 8, 6, 8, 1, 1, 1, 1, 1, ...   \n",
       "5804645  [7, 7, 6, 8, 6, 6, 6, 8, 6, 8, 1, 1, 1, 1, 1, ...   \n",
       "5804646  [7, 7, 6, 8, 6, 6, 6, 8, 6, 8, 1, 1, 1, 1, 1, ...   \n",
       "5804647  [7, 7, 6, 8, 6, 6, 6, 8, 6, 8, 1, 1, 1, 1, 1, ...   \n",
       "5804648  [7, 7, 6, 8, 6, 6, 6, 8, 6, 8, 1, 1, 1, 1, 1, ...   \n",
       "\n",
       "                                                       pos         y  \n",
       "0        [-4.5220003, -2.2504573, 2.3169382, -3.9694283...  6.649870  \n",
       "1        [-4.692202, -1.1123401, 2.8265004, -4.0558414,...  6.647062  \n",
       "2        [-1.8966775, -0.5760016, -5.180652, 0.51329523...  6.625340  \n",
       "3        [-4.4585404, -1.4275585, 3.3873675, -4.044052,...  6.739489  \n",
       "4        [-4.793129, -1.2303548, -2.5873125, -3.9083073...  6.757394  \n",
       "...                                                    ...       ...  \n",
       "5804644  [5.459736, 0.88411736, 0.34229085, 2.9631617, ...  5.298792  \n",
       "5804645  [5.313457, 1.3426342, -1.4255189, 2.9915981, 0...  5.513345  \n",
       "5804646  [5.454269, 1.1509848, -0.39161396, 3.0147963, ...  5.446056  \n",
       "5804647  [5.3821034, 0.5583938, 0.51316136, 2.8419719, ...  5.535908  \n",
       "5804648  [5.0100203, 1.1043531, -0.7253808, 2.6122453, ...  5.639963  \n",
       "\n",
       "[5804649 rows x 3 columns]"
      ]
     },
     "execution_count": 1,
     "metadata": {},
     "output_type": "execute_result"
    }
   ],
   "source": [
    "import pandas as pd \n",
    "pd.read_parquet(\"../petrignn/datasets/gdb100m/test/test.parquet\")"
   ]
  },
  {
   "cell_type": "code",
   "execution_count": 2,
   "metadata": {},
   "outputs": [
    {
     "data": {
      "application/vnd.jupyter.widget-view+json": {
       "model_id": "2b7f960fe03746e5aad4450cf85870be",
       "version_major": 2,
       "version_minor": 0
      },
      "text/plain": [
       "  0%|          | 0/565 [00:00<?, ?it/s]"
      ]
     },
     "metadata": {},
     "output_type": "display_data"
    }
   ],
   "source": [
    "# can load all of it in 17min! (this is with f32, so might be able to halve?)\n",
    "import os \n",
    "from tqdm.notebook import tqdm \n",
    "from natsort import natsorted \n",
    "\n",
    "files    = natsorted(os.listdir(\"qm1b_tmp/\"))\n",
    "parquets = natsorted([a for a in files if \"parquet\" in a])\n",
    "\n",
    "dfs   = []\n",
    "\n",
    "for parquet in tqdm(parquets):\n",
    "  df   = pd.read_parquet(\"qm1b_tmp/\" + parquet)\n",
    "  dfs.append(df)\n"
   ]
  },
  {
   "cell_type": "code",
   "execution_count": 2,
   "metadata": {},
   "outputs": [
    {
     "name": "stdout",
     "output_type": "stream",
     "text": [
      "\n",
      "Loading from files:\n",
      "qm1b_tmp/2_GDB10_f32True_grid0_backendipu_126945_128897.parquet\n",
      "qm1b_tmp/3_GDB10_f32True_grid0_backendipu_134757_136709.parquet\n",
      "qm1b_tmp/4_GDB10_f32True_grid0_backendipu_169911_171863.parquet\n",
      "qm1b_tmp/5_GDB10_f32True_grid0_backendipu_142569_144521.parquet\n",
      "qm1b_tmp/6_GDB10_f32True_grid0_backendipu_181629_183581.parquet\n",
      "qm1b_tmp/7_GDB9_f32True_grid0_backendipu_15615_17349.parquet\n",
      "qm1b_tmp/7_GDB10_f32True_grid0_backendipu_148428_150380.parquet\n",
      "qm1b_tmp/7_GDB11_f32True_grid0_backendipu_181629_187487.parquet\n",
      "qm1b_tmp/8_GDB10_f32True_grid0_backendipu_177723_179675.parquet\n",
      "qm1b_tmp/8_GDB11_f32True_grid0_backendipu_111321_117179.parquet\n",
      "shape: (10_000_000, 3)\n",
      "┌─────────────┬───────────────────────────────────┬──────────┐\n",
      "│ z           ┆ pos                               ┆ y        │\n",
      "│ ---         ┆ ---                               ┆ ---      │\n",
      "│ list[u8]    ┆ list[f32]                         ┆ f64      │\n",
      "╞═════════════╪═══════════════════════════════════╪══════════╡\n",
      "│ [8, 7, … 1] ┆ [5.827063, 1.031736, … -1.747984… ┆ 4.953993 │\n",
      "│ [8, 7, … 1] ┆ [-5.604111, 1.175776, … 0.974083… ┆ 5.036686 │\n",
      "│ [8, 7, … 1] ┆ [-5.913249, -0.385051, … -2.0003… ┆ 4.912916 │\n",
      "│ [8, 7, … 1] ┆ [-5.689736, 0.33897, … 0.550915]  ┆ 4.962579 │\n",
      "│ …           ┆ …                                 ┆ …        │\n",
      "│ [7, 6, … 1] ┆ [-5.288704, 3.132204, … 0.026746… ┆ 6.867896 │\n",
      "│ [7, 6, … 1] ┆ [-3.066134, -4.214294, … 0.27657… ┆ 6.872787 │\n",
      "│ [7, 6, … 1] ┆ [-3.636799, 2.172958, … 3.59972]  ┆ 6.907447 │\n",
      "│ [7, 6, … 1] ┆ [-4.511659, 2.739583, … -0.57043… ┆ 6.989164 │\n",
      "└─────────────┴───────────────────────────────────┴──────────┘\n"
     ]
    }
   ],
   "source": [
    "from natsort import natsorted \n",
    "import os \n",
    "import polars as pl \n",
    "\n",
    "# roughly doubles the time 28s from pyarrow to 58s with this thing; + 14 s for the next thing. so this becomes 100 min loading instead of 4min\n",
    "\n",
    "files    = natsorted(os.listdir(\"qm1b_tmp/\"))\n",
    "source_files = natsorted([\"qm1b_tmp/\"+a for a in files if \"parquet\" in a])[:10]\n",
    "\n",
    "all_files = \"\\n\".join(source_files)\n",
    "print(f\"\\nLoading from files:\\n{all_files}\")\n",
    "\n",
    "queries = [\n",
    "  pl.scan_parquet(f).select(\"z\", \"pos\", \"y\").cache()\n",
    "  for f in source_files\n",
    "]\n",
    "df = pl.concat(queries).slice(offset=0, length=10**7).collect()\n",
    "\n",
    "print(df)\n",
    "\n",
    "#for chunk in df.iter_slices(n_rows=100000):\n",
    "#  z, pos, y = zip(*chunk.to_numpy())\n"
   ]
  },
  {
   "cell_type": "code",
   "execution_count": 4,
   "metadata": {},
   "outputs": [],
   "source": [
    "for chunk in df.iter_slices(n_rows=100000):\n",
    "  z, pos, y = zip(*chunk.to_numpy())"
   ]
  },
  {
   "cell_type": "code",
   "execution_count": 13,
   "metadata": {},
   "outputs": [],
   "source": [
    "import pyarrow.parquet as pq\n",
    "import os \n",
    "from natsort import natsorted \n",
    "\n",
    "files    = natsorted(os.listdir(\"qm1b_tmp/\"))\n",
    "parquets = natsorted([\"qm1b_tmp/\"+a for a in files if \"parquet\" in a])[:100]\n",
    "df = pq.read_table(parquets)"
   ]
  },
  {
   "cell_type": "code",
   "execution_count": 14,
   "metadata": {},
   "outputs": [
    {
     "data": {
      "text/plain": [
       "(148417609, 10)"
      ]
     },
     "execution_count": 14,
     "metadata": {},
     "output_type": "execute_result"
    }
   ],
   "source": [
    "df.shape"
   ]
  },
  {
   "cell_type": "code",
   "execution_count": 5,
   "metadata": {},
   "outputs": [
    {
     "name": "stdout",
     "output_type": "stream",
     "text": [
      "(17725172, 10)\n"
     ]
    }
   ],
   "source": [
    "import pyarrow as pa \n",
    "a = df\n",
    "filtered_table = a.filter(pa.compute.less(a['std'], 0.01))"
   ]
  },
  {
   "cell_type": "code",
   "execution_count": null,
   "metadata": {},
   "outputs": [],
   "source": [
    "# can I get petrignn to just start training on the 1B, that'd be soo cool. "
   ]
  },
  {
   "cell_type": "code",
   "execution_count": 7,
   "metadata": {},
   "outputs": [],
   "source": [
    "pq.write_table(df, \"qm1b/test.parquet\")"
   ]
  },
  {
   "cell_type": "code",
   "execution_count": 8,
   "metadata": {},
   "outputs": [
    {
     "data": {
      "text/plain": [
       "pyarrow.Table\n",
       "smile: string\n",
       "atoms: string\n",
       "z: list<item: uint8>\n",
       "  child 0, item: uint8\n",
       "homo: float\n",
       "lumo: float\n",
       "N: uint8\n",
       "std: float\n",
       "time: float\n",
       "pos: list<item: float>\n",
       "  child 0, item: float\n",
       "y: double\n",
       "----\n",
       "smile: [[\"On1cnn(NC=O)c1=N\",\"On1cnn(NC=O)c1=N\",\"On1cnn(NC=O)c1=N\",\"On1cnn(NC=O)c1=N\",\"On1cnn(NC=O)c1=N\",...,\"ON=C(C=O)C(C=O)C=O\",\"ON=C(C=O)C(C=O)C=O\",\"ON=C(C=O)C(C=O)C=O\",\"ON=C(C=O)C(C=O)C=O\",\"ON=C(C=O)C(C=O)C=O\"],[\"ON=C(C=O)C(C=O)C=O\",\"ON=C(C=O)C(C=O)C=O\",\"ON=C(C=O)C(C=O)C=O\",\"ON=C(C=O)C(C=O)C=O\",\"ON=C(C=O)C(C=O)C=O\",...,\"O=C1NC2=C(C=CC2)C1=O\",\"O=C1NC2=C(C=CC2)C1=O\",\"O=C1NC2=C(C=CC2)C1=O\",\"O=C1NC2=C(C=CC2)C1=O\",\"O=C1NC2=C(C=CC2)C1=O\"],...,[\"c1cc2=NN=CN=Cn2nn1\",\"c1cc2=NN=CN=Cn2nn1\",\"c1cc2=NN=CN=Cn2nn1\",\"c1cc2=NN=CN=Cn2nn1\",\"c1cc2=NN=CN=Cn2nn1\",...,\"On1nnc2C(=O)C3CN3c12\",\"On1nnc2C(=O)C3CN3c12\",\"On1nnc2C(=O)C3CN3c12\",\"On1nnc2C(=O)C3CN3c12\",\"On1nnc2C(=O)C3CN3c12\"],[\"On1nnc2C(=O)C3CN3c12\",\"On1nnc2C(=O)C3CN3c12\",\"On1nnc2C(=O)C3CN3c12\",\"On1nnc2C(=O)C3CN3c12\",\"On1nnc2C(=O)C3CN3c12\",...,\"N=c1n(C=NC=O)[nH]oc1=O\",\"N=c1n(C=NC=O)[nH]oc1=O\",\"N=c1n(C=NC=O)[nH]oc1=O\",\"N=c1n(C=NC=O)[nH]oc1=O\",\"N=c1n(C=NC=O)[nH]oc1=O\"]]\n",
       "atoms: [[\"ONCNNNCOCNHHHHH\",\"ONCNNNCOCNHHHHH\",\"ONCNNNCOCNHHHHH\",\"ONCNNNCOCNHHHHH\",\"ONCNNNCOCNHHHHH\",...,\"ONCCOCCOCOHHHHH\",\"ONCCOCCOCOHHHHH\",\"ONCCOCCOCOHHHHH\",\"ONCCOCCOCOHHHHH\",\"ONCCOCCOCOHHHHH\"],[\"ONCCOCCOCOHHHHH\",\"ONCCOCCOCOHHHHH\",\"ONCCOCCOCOHHHHH\",\"ONCCOCCOCOHHHHH\",\"ONCCOCCOCOHHHHH\",...,\"OCNCCCCCCOHHHHH\",\"OCNCCCCCCOHHHHH\",\"OCNCCCCCCOHHHHH\",\"OCNCCCCCCOHHHHH\",\"OCNCCCCCCOHHHHH\"],...,[\"CCCNNCNCNNNHHHH\",\"CCCNNCNCNNNHHHH\",\"CCCNNCNCNNNHHHH\",\"CCCNNCNCNNNHHHH\",\"CCCNNCNCNNNHHHH\",...,\"ONNNCCOCCNCHHHH\",\"ONNNCCOCCNCHHHH\",\"ONNNCCOCCNCHHHH\",\"ONNNCCOCCNCHHHH\",\"ONNNCCOCCNCHHHH\"],[\"ONNNCCOCCNCHHHH\",\"ONNNCCOCCNCHHHH\",\"ONNNCCOCCNCHHHH\",\"ONNNCCOCCNCHHHH\",\"ONNNCCOCCNCHHHH\",...,\"NCNCNCONOCOHHHH\",\"NCNCNCONOCOHHHH\",\"NCNCNCONOCOHHHH\",\"NCNCNCONOCOHHHH\",\"NCNCNCONOCOHHHH\"]]\n",
       "z: [[[8,7,6,7,7,...,1,1,1,1,1],[8,7,6,7,7,...,1,1,1,1,1],...,[8,7,6,6,8,...,1,1,1,1,1],[8,7,6,6,8,...,1,1,1,1,1]],[[8,7,6,6,8,...,1,1,1,1,1],[8,7,6,6,8,...,1,1,1,1,1],...,[8,6,7,6,6,...,1,1,1,1,1],[8,6,7,6,6,...,1,1,1,1,1]],...,[[6,6,6,7,7,...,7,1,1,1,1],[6,6,6,7,7,...,7,1,1,1,1],...,[8,7,7,7,6,...,6,1,1,1,1],[8,7,7,7,6,...,6,1,1,1,1]],[[8,7,7,7,6,...,6,1,1,1,1],[8,7,7,7,6,...,6,1,1,1,1],...,[7,6,7,6,7,...,8,1,1,1,1],[7,6,7,6,7,...,8,1,1,1,1]]]\n",
       "homo: [[-2.3453114,-2.2755458,-2.3913321,-2.370459,-2.436978,...,-3.2376337,-2.975747,-3.7798166,-2.9199948,-3.3457355],[-2.7749557,-3.5955975,-3.2780573,-3.1372077,-2.9853919,...,-3.5237265,-3.5854778,-3.498152,-3.5371377,-3.5463886],...,[-3.9454808,-3.793099,-3.5970235,-3.8610246,-3.8081214,...,-3.23731,-3.2650533,-3.4048922,-3.3794825,-3.188355],[-3.3728266,-3.1726158,-3.3633235,-3.1894596,-3.3163965,...,-3.0973182,-2.4846494,-2.9428127,-2.7064059,-2.700275]]\n",
       "lumo: [[2.608682,2.7611399,2.5215836,2.5921197,2.526828,...,0.28884682,0.40848315,0.57468235,0.07931102,-0.0071322434],[0.54611635,0.0049682143,0.14647113,0.35948825,0.14424372,...,0.06409762,0.04902967,0.10486154,0.12742577,0.13091908],...,[-1.4149095,-1.3611027,-1.3903716,-1.4231,-1.3997536,...,1.2702385,1.2771162,1.2525756,1.3011578,1.2598109],[1.303854,1.262678,1.3237684,1.2521961,1.2784222,...,0.29041377,0.16917807,-0.2787927,-0.6115781,0.5171631]]\n",
       "N: [[55,55,55,55,55,...,55,55,55,55,55],[55,55,55,55,55,...,55,55,55,55,55],...,[59,59,59,59,59,...,59,59,59,59,59],[59,59,59,59,59,...,59,59,59,59,59]]\n",
       "std: [[0.00087346404,0.0011554844,0.0010697707,0.0010697707,0.00061763235,...,0.0012352647,0.0009765625,0.3688142,0.0013810679,0.0009765625],[0.00061763235,0.0011554844,0.00061763235,0.00087346404,0.0010697707,...,0.0009765625,0.00061763235,0.0007564421,0.0009765625,0.00061763235],...,[0.00087346404,0.0011554844,0.00061763235,0.0011554844,0.0015128842,...,0.0007564421,0.0009765625,0.0010697707,0.00061763235,0.0010697707],[0.00043673202,0.0014484763,0.00061763235,0.0011554844,0.0020484547,...,0.0025088345,0.0011554844,0.0007564421,0.0007564421,0.0011554844]]\n",
       "time: [[376101.78,84.200005,133.6,81.100006,82.3,...,81.1,82.00001,84.100006,79.399994,79.5],[79.6,79.2,85.399994,79.59999,80.299995,...,83.49999,84,80.3,80.5,80.700005],...,[91.3,92.7,91.70001,91.8,92.100006,...,91.700005,90.5,90.5,93.5,90.4],[89.899994,90.3,92.600006,92.8,93.00001,...,95.799995,91.799995,90.5,91.200005,91.200005]]\n",
       "pos: [[[5.827063,1.0317355,-0.7083503,3.4275153,0.107191,...,-1.2443728,0.61976993,-0.7567799,4.4247875,-1.7479838],[-5.604111,1.1757765,0.05778461,-3.1909149,0.22494318,...,-1.2424259,0.33922854,-2.138974,5.169343,0.97408307],...,[4.2403607,-3.1611488,0.62678987,1.7702945,-2.5442913,...,4.0013494,1.2572663,-3.2070956,-3.5429296,-1.1835668],[5.3927217,0.53372097,-1.5722561,2.8915222,1.0758048,...,-3.310121,-0.43262655,-2.6067345,3.9579172,1.6561141]],[[4.598006,-1.1163868,-2.2610643,2.2207916,-0.17280751,...,-1.1365552,0.42698404,-3.81682,3.387222,-2.4999268],[0.76012254,4.401147,0.14968029,2.3495913,2.4407136,...,2.0978904,3.2386205,-1.710826,-4.346065,-1.1687819],...,[6.6089015,-1.2306961,-1.1167569,4.294258,-0.7269267,...,-3.0428703,1.1907424,-3.4870944,-1.8184729,-2.0615492],[6.750868,0.68120134,-0.5153317,4.3985596,0.37392282,...,3.0303063,1.6036485,-3.2098796,2.5899322,-1.8447318]],...,[[-5.089526,0.22577988,-0.2033032,-3.3707917,-1.589922,...,-1.9675332,0.027083293,2.68016,4.4390163,0.8076701],[-5.04801,0.13388251,-0.5763504,-3.3827822,-1.7143767,...,-1.7917848,0.8835105,2.6224492,4.565182,0.075395636],...,[4.6466994,2.605262,-2.0520356,3.7663062,0.62695545,...,2.892447,-1.2376139,-5.0723524,-0.46768042,-2.4245644],[5.1341267,1.9632146,-1.8929887,3.8078456,0.033245843,...,3.0762892,1.3190442,-4.15875,3.0033774,-2.1333702]],[[4.9743896,2.5950723,-1.0650638,3.8262835,0.3699826,...,3.626924,-0.2653044,-4.9473352,1.0870878,-2.56109],[4.986601,2.7475576,-1.2448226,3.794739,0.61970216,...,2.2419367,1.5800209,-4.4176626,2.7925014,-1.8189241],...,[-3.0625978,-1.6174254,-2.5140395,-2.3779633,0.08345063,...,0.6232302,-2.2492385,0.803738,2.2513456,3.633698],[-2.676126,3.079423,1.0719168,-2.7392364,0.7595233,...,-0.6164127,0.37935188,-0.28484187,-4.5086737,-0.93833077]]]\n",
       "y: [[4.953993313487519,5.036685702192981,4.912915638325102,4.962578816268872,4.963806243632439,...,3.5264804582956115,3.384230256136834,4.354498958721968,2.9993059604117134,3.3386033296102675],[3.321072058714166,3.6005657165789318,3.42452849754896,3.49669592091286,3.129635492712365,...,3.5878240589250194,3.634507601818744,3.603013583245856,3.664563442100637,3.6773076101476345],...,[2.5305712001733065,2.431996173435725,2.206652002805169,2.4379246187975108,2.408367935555705,...,4.507548420651075,4.542169542690932,4.657467922556769,4.680640318326057,4.448165959873465],[4.676680513049131,4.4352938709268,4.687091941089843,4.441655580322074,4.59481881644193,...,3.3877318260678178,2.653827392721825,2.664019986458229,2.094827718890451,3.217438014436561]]"
      ]
     },
     "execution_count": 8,
     "metadata": {},
     "output_type": "execute_result"
    }
   ],
   "source": [
    "pq.read_table(\"qm1b/test.parquet\")"
   ]
  },
  {
   "cell_type": "code",
   "execution_count": 1,
   "metadata": {},
   "outputs": [
    {
     "ename": "OSError",
     "evalue": "List index overflow.",
     "output_type": "error",
     "traceback": [
      "\u001b[0;31m---------------------------------------------------------------------------\u001b[0m",
      "\u001b[0;31mOSError\u001b[0m                                   Traceback (most recent call last)",
      "Cell \u001b[0;32mIn[1], line 2\u001b[0m\n\u001b[1;32m      1\u001b[0m \u001b[39mimport\u001b[39;00m \u001b[39mpyarrow\u001b[39;00m\u001b[39m.\u001b[39;00m\u001b[39mparquet\u001b[39;00m \u001b[39mas\u001b[39;00m \u001b[39mpq\u001b[39;00m \n\u001b[0;32m----> 2\u001b[0m pq\u001b[39m.\u001b[39;49mread_table(\u001b[39m\"\u001b[39;49m\u001b[39mqm1b/pyarrow.parquet\u001b[39;49m\u001b[39m\"\u001b[39;49m)\n\u001b[1;32m      4\u001b[0m pq\n",
      "File \u001b[0;32m~/miniconda3/envs/dft/lib/python3.8/site-packages/pyarrow/parquet/core.py:2973\u001b[0m, in \u001b[0;36mread_table\u001b[0;34m(source, columns, use_threads, metadata, schema, use_pandas_metadata, read_dictionary, memory_map, buffer_size, partitioning, filesystem, filters, use_legacy_dataset, ignore_prefixes, pre_buffer, coerce_int96_timestamp_unit, decryption_properties, thrift_string_size_limit, thrift_container_size_limit)\u001b[0m\n\u001b[1;32m   2962\u001b[0m         \u001b[39m# TODO test that source is not a directory or a list\u001b[39;00m\n\u001b[1;32m   2963\u001b[0m         dataset \u001b[39m=\u001b[39m ParquetFile(\n\u001b[1;32m   2964\u001b[0m             source, metadata\u001b[39m=\u001b[39mmetadata, read_dictionary\u001b[39m=\u001b[39mread_dictionary,\n\u001b[1;32m   2965\u001b[0m             memory_map\u001b[39m=\u001b[39mmemory_map, buffer_size\u001b[39m=\u001b[39mbuffer_size,\n\u001b[0;32m   (...)\u001b[0m\n\u001b[1;32m   2970\u001b[0m             thrift_container_size_limit\u001b[39m=\u001b[39mthrift_container_size_limit,\n\u001b[1;32m   2971\u001b[0m         )\n\u001b[0;32m-> 2973\u001b[0m     \u001b[39mreturn\u001b[39;00m dataset\u001b[39m.\u001b[39;49mread(columns\u001b[39m=\u001b[39;49mcolumns, use_threads\u001b[39m=\u001b[39;49muse_threads,\n\u001b[1;32m   2974\u001b[0m                         use_pandas_metadata\u001b[39m=\u001b[39;49muse_pandas_metadata)\n\u001b[1;32m   2976\u001b[0m warnings\u001b[39m.\u001b[39mwarn(\n\u001b[1;32m   2977\u001b[0m     \u001b[39m\"\u001b[39m\u001b[39mPassing \u001b[39m\u001b[39m'\u001b[39m\u001b[39muse_legacy_dataset=True\u001b[39m\u001b[39m'\u001b[39m\u001b[39m to get the legacy behaviour is \u001b[39m\u001b[39m\"\u001b[39m\n\u001b[1;32m   2978\u001b[0m     \u001b[39m\"\u001b[39m\u001b[39mdeprecated as of pyarrow 8.0.0, and the legacy implementation will \u001b[39m\u001b[39m\"\u001b[39m\n\u001b[1;32m   2979\u001b[0m     \u001b[39m\"\u001b[39m\u001b[39mbe removed in a future version.\u001b[39m\u001b[39m\"\u001b[39m,\n\u001b[1;32m   2980\u001b[0m     \u001b[39mFutureWarning\u001b[39;00m, stacklevel\u001b[39m=\u001b[39m\u001b[39m2\u001b[39m)\n\u001b[1;32m   2982\u001b[0m \u001b[39mif\u001b[39;00m ignore_prefixes \u001b[39mis\u001b[39;00m \u001b[39mnot\u001b[39;00m \u001b[39mNone\u001b[39;00m:\n",
      "File \u001b[0;32m~/miniconda3/envs/dft/lib/python3.8/site-packages/pyarrow/parquet/core.py:2601\u001b[0m, in \u001b[0;36m_ParquetDatasetV2.read\u001b[0;34m(self, columns, use_threads, use_pandas_metadata)\u001b[0m\n\u001b[1;32m   2593\u001b[0m         index_columns \u001b[39m=\u001b[39m [\n\u001b[1;32m   2594\u001b[0m             col \u001b[39mfor\u001b[39;00m col \u001b[39min\u001b[39;00m _get_pandas_index_columns(metadata)\n\u001b[1;32m   2595\u001b[0m             \u001b[39mif\u001b[39;00m \u001b[39mnot\u001b[39;00m \u001b[39misinstance\u001b[39m(col, \u001b[39mdict\u001b[39m)\n\u001b[1;32m   2596\u001b[0m         ]\n\u001b[1;32m   2597\u001b[0m         columns \u001b[39m=\u001b[39m (\n\u001b[1;32m   2598\u001b[0m             \u001b[39mlist\u001b[39m(columns) \u001b[39m+\u001b[39m \u001b[39mlist\u001b[39m(\u001b[39mset\u001b[39m(index_columns) \u001b[39m-\u001b[39m \u001b[39mset\u001b[39m(columns))\n\u001b[1;32m   2599\u001b[0m         )\n\u001b[0;32m-> 2601\u001b[0m table \u001b[39m=\u001b[39m \u001b[39mself\u001b[39;49m\u001b[39m.\u001b[39;49m_dataset\u001b[39m.\u001b[39;49mto_table(\n\u001b[1;32m   2602\u001b[0m     columns\u001b[39m=\u001b[39;49mcolumns, \u001b[39mfilter\u001b[39;49m\u001b[39m=\u001b[39;49m\u001b[39mself\u001b[39;49m\u001b[39m.\u001b[39;49m_filter_expression,\n\u001b[1;32m   2603\u001b[0m     use_threads\u001b[39m=\u001b[39;49muse_threads\n\u001b[1;32m   2604\u001b[0m )\n\u001b[1;32m   2606\u001b[0m \u001b[39m# if use_pandas_metadata, restore the pandas metadata (which gets\u001b[39;00m\n\u001b[1;32m   2607\u001b[0m \u001b[39m# lost if doing a specific `columns` selection in to_table)\u001b[39;00m\n\u001b[1;32m   2608\u001b[0m \u001b[39mif\u001b[39;00m use_pandas_metadata:\n",
      "File \u001b[0;32m~/miniconda3/envs/dft/lib/python3.8/site-packages/pyarrow/_dataset.pyx:369\u001b[0m, in \u001b[0;36mpyarrow._dataset.Dataset.to_table\u001b[0;34m()\u001b[0m\n",
      "File \u001b[0;32m~/miniconda3/envs/dft/lib/python3.8/site-packages/pyarrow/_dataset.pyx:2818\u001b[0m, in \u001b[0;36mpyarrow._dataset.Scanner.to_table\u001b[0;34m()\u001b[0m\n",
      "File \u001b[0;32m~/miniconda3/envs/dft/lib/python3.8/site-packages/pyarrow/error.pxi:144\u001b[0m, in \u001b[0;36mpyarrow.lib.pyarrow_internal_check_status\u001b[0;34m()\u001b[0m\n",
      "File \u001b[0;32m~/miniconda3/envs/dft/lib/python3.8/site-packages/pyarrow/error.pxi:115\u001b[0m, in \u001b[0;36mpyarrow.lib.check_status\u001b[0;34m()\u001b[0m\n",
      "\u001b[0;31mOSError\u001b[0m: List index overflow."
     ]
    },
    {
     "ename": "",
     "evalue": "",
     "output_type": "error",
     "traceback": [
      "\u001b[1;31mThe Kernel crashed while executing code in the the current cell or a previous cell. Please review the code in the cell(s) to identify a possible cause of the failure. Click <a href='https://aka.ms/vscodeJupyterKernelCrash'>here</a> for more info. View Jupyter <a href='command:jupyter.viewOutput'>log</a> for further details."
     ]
    }
   ],
   "source": [
    "import pyarrow.parquet as pq \n",
    "pq.read_table(\"qm1b/pyarrow.parquet\")\n",
    "pq"
   ]
  },
  {
   "cell_type": "code",
   "execution_count": 1,
   "metadata": {},
   "outputs": [
    {
     "ename": "OSError",
     "evalue": "List index overflow.",
     "output_type": "error",
     "traceback": [
      "\u001b[0;31m---------------------------------------------------------------------------\u001b[0m",
      "\u001b[0;31mOSError\u001b[0m                                   Traceback (most recent call last)",
      "Cell \u001b[0;32mIn[1], line 2\u001b[0m\n\u001b[1;32m      1\u001b[0m \u001b[39mimport\u001b[39;00m \u001b[39mpandas\u001b[39;00m \u001b[39mas\u001b[39;00m \u001b[39mpd\u001b[39;00m \n\u001b[0;32m----> 2\u001b[0m df \u001b[39m=\u001b[39m pd\u001b[39m.\u001b[39;49mread_parquet(\u001b[39m\"\u001b[39;49m\u001b[39mqm1b/pyarrow.parquet\u001b[39;49m\u001b[39m\"\u001b[39;49m)\n",
      "File \u001b[0;32m~/.local/lib/python3.8/site-packages/pandas/io/parquet.py:509\u001b[0m, in \u001b[0;36mread_parquet\u001b[0;34m(path, engine, columns, storage_options, use_nullable_dtypes, dtype_backend, **kwargs)\u001b[0m\n\u001b[1;32m    506\u001b[0m     use_nullable_dtypes \u001b[39m=\u001b[39m \u001b[39mFalse\u001b[39;00m\n\u001b[1;32m    507\u001b[0m check_dtype_backend(dtype_backend)\n\u001b[0;32m--> 509\u001b[0m \u001b[39mreturn\u001b[39;00m impl\u001b[39m.\u001b[39;49mread(\n\u001b[1;32m    510\u001b[0m     path,\n\u001b[1;32m    511\u001b[0m     columns\u001b[39m=\u001b[39;49mcolumns,\n\u001b[1;32m    512\u001b[0m     storage_options\u001b[39m=\u001b[39;49mstorage_options,\n\u001b[1;32m    513\u001b[0m     use_nullable_dtypes\u001b[39m=\u001b[39;49muse_nullable_dtypes,\n\u001b[1;32m    514\u001b[0m     dtype_backend\u001b[39m=\u001b[39;49mdtype_backend,\n\u001b[1;32m    515\u001b[0m     \u001b[39m*\u001b[39;49m\u001b[39m*\u001b[39;49mkwargs,\n\u001b[1;32m    516\u001b[0m )\n",
      "File \u001b[0;32m~/.local/lib/python3.8/site-packages/pandas/io/parquet.py:227\u001b[0m, in \u001b[0;36mPyArrowImpl.read\u001b[0;34m(self, path, columns, use_nullable_dtypes, dtype_backend, storage_options, **kwargs)\u001b[0m\n\u001b[1;32m    220\u001b[0m path_or_handle, handles, kwargs[\u001b[39m\"\u001b[39m\u001b[39mfilesystem\u001b[39m\u001b[39m\"\u001b[39m] \u001b[39m=\u001b[39m _get_path_or_handle(\n\u001b[1;32m    221\u001b[0m     path,\n\u001b[1;32m    222\u001b[0m     kwargs\u001b[39m.\u001b[39mpop(\u001b[39m\"\u001b[39m\u001b[39mfilesystem\u001b[39m\u001b[39m\"\u001b[39m, \u001b[39mNone\u001b[39;00m),\n\u001b[1;32m    223\u001b[0m     storage_options\u001b[39m=\u001b[39mstorage_options,\n\u001b[1;32m    224\u001b[0m     mode\u001b[39m=\u001b[39m\u001b[39m\"\u001b[39m\u001b[39mrb\u001b[39m\u001b[39m\"\u001b[39m,\n\u001b[1;32m    225\u001b[0m )\n\u001b[1;32m    226\u001b[0m \u001b[39mtry\u001b[39;00m:\n\u001b[0;32m--> 227\u001b[0m     pa_table \u001b[39m=\u001b[39m \u001b[39mself\u001b[39;49m\u001b[39m.\u001b[39;49mapi\u001b[39m.\u001b[39;49mparquet\u001b[39m.\u001b[39;49mread_table(\n\u001b[1;32m    228\u001b[0m         path_or_handle, columns\u001b[39m=\u001b[39;49mcolumns, \u001b[39m*\u001b[39;49m\u001b[39m*\u001b[39;49mkwargs\n\u001b[1;32m    229\u001b[0m     )\n\u001b[1;32m    230\u001b[0m     result \u001b[39m=\u001b[39m pa_table\u001b[39m.\u001b[39mto_pandas(\u001b[39m*\u001b[39m\u001b[39m*\u001b[39mto_pandas_kwargs)\n\u001b[1;32m    232\u001b[0m     \u001b[39mif\u001b[39;00m manager \u001b[39m==\u001b[39m \u001b[39m\"\u001b[39m\u001b[39marray\u001b[39m\u001b[39m\"\u001b[39m:\n",
      "File \u001b[0;32m~/miniconda3/envs/dft/lib/python3.8/site-packages/pyarrow/parquet/core.py:2973\u001b[0m, in \u001b[0;36mread_table\u001b[0;34m(source, columns, use_threads, metadata, schema, use_pandas_metadata, read_dictionary, memory_map, buffer_size, partitioning, filesystem, filters, use_legacy_dataset, ignore_prefixes, pre_buffer, coerce_int96_timestamp_unit, decryption_properties, thrift_string_size_limit, thrift_container_size_limit)\u001b[0m\n\u001b[1;32m   2962\u001b[0m         \u001b[39m# TODO test that source is not a directory or a list\u001b[39;00m\n\u001b[1;32m   2963\u001b[0m         dataset \u001b[39m=\u001b[39m ParquetFile(\n\u001b[1;32m   2964\u001b[0m             source, metadata\u001b[39m=\u001b[39mmetadata, read_dictionary\u001b[39m=\u001b[39mread_dictionary,\n\u001b[1;32m   2965\u001b[0m             memory_map\u001b[39m=\u001b[39mmemory_map, buffer_size\u001b[39m=\u001b[39mbuffer_size,\n\u001b[0;32m   (...)\u001b[0m\n\u001b[1;32m   2970\u001b[0m             thrift_container_size_limit\u001b[39m=\u001b[39mthrift_container_size_limit,\n\u001b[1;32m   2971\u001b[0m         )\n\u001b[0;32m-> 2973\u001b[0m     \u001b[39mreturn\u001b[39;00m dataset\u001b[39m.\u001b[39;49mread(columns\u001b[39m=\u001b[39;49mcolumns, use_threads\u001b[39m=\u001b[39;49muse_threads,\n\u001b[1;32m   2974\u001b[0m                         use_pandas_metadata\u001b[39m=\u001b[39;49muse_pandas_metadata)\n\u001b[1;32m   2976\u001b[0m warnings\u001b[39m.\u001b[39mwarn(\n\u001b[1;32m   2977\u001b[0m     \u001b[39m\"\u001b[39m\u001b[39mPassing \u001b[39m\u001b[39m'\u001b[39m\u001b[39muse_legacy_dataset=True\u001b[39m\u001b[39m'\u001b[39m\u001b[39m to get the legacy behaviour is \u001b[39m\u001b[39m\"\u001b[39m\n\u001b[1;32m   2978\u001b[0m     \u001b[39m\"\u001b[39m\u001b[39mdeprecated as of pyarrow 8.0.0, and the legacy implementation will \u001b[39m\u001b[39m\"\u001b[39m\n\u001b[1;32m   2979\u001b[0m     \u001b[39m\"\u001b[39m\u001b[39mbe removed in a future version.\u001b[39m\u001b[39m\"\u001b[39m,\n\u001b[1;32m   2980\u001b[0m     \u001b[39mFutureWarning\u001b[39;00m, stacklevel\u001b[39m=\u001b[39m\u001b[39m2\u001b[39m)\n\u001b[1;32m   2982\u001b[0m \u001b[39mif\u001b[39;00m ignore_prefixes \u001b[39mis\u001b[39;00m \u001b[39mnot\u001b[39;00m \u001b[39mNone\u001b[39;00m:\n",
      "File \u001b[0;32m~/miniconda3/envs/dft/lib/python3.8/site-packages/pyarrow/parquet/core.py:2601\u001b[0m, in \u001b[0;36m_ParquetDatasetV2.read\u001b[0;34m(self, columns, use_threads, use_pandas_metadata)\u001b[0m\n\u001b[1;32m   2593\u001b[0m         index_columns \u001b[39m=\u001b[39m [\n\u001b[1;32m   2594\u001b[0m             col \u001b[39mfor\u001b[39;00m col \u001b[39min\u001b[39;00m _get_pandas_index_columns(metadata)\n\u001b[1;32m   2595\u001b[0m             \u001b[39mif\u001b[39;00m \u001b[39mnot\u001b[39;00m \u001b[39misinstance\u001b[39m(col, \u001b[39mdict\u001b[39m)\n\u001b[1;32m   2596\u001b[0m         ]\n\u001b[1;32m   2597\u001b[0m         columns \u001b[39m=\u001b[39m (\n\u001b[1;32m   2598\u001b[0m             \u001b[39mlist\u001b[39m(columns) \u001b[39m+\u001b[39m \u001b[39mlist\u001b[39m(\u001b[39mset\u001b[39m(index_columns) \u001b[39m-\u001b[39m \u001b[39mset\u001b[39m(columns))\n\u001b[1;32m   2599\u001b[0m         )\n\u001b[0;32m-> 2601\u001b[0m table \u001b[39m=\u001b[39m \u001b[39mself\u001b[39;49m\u001b[39m.\u001b[39;49m_dataset\u001b[39m.\u001b[39;49mto_table(\n\u001b[1;32m   2602\u001b[0m     columns\u001b[39m=\u001b[39;49mcolumns, \u001b[39mfilter\u001b[39;49m\u001b[39m=\u001b[39;49m\u001b[39mself\u001b[39;49m\u001b[39m.\u001b[39;49m_filter_expression,\n\u001b[1;32m   2603\u001b[0m     use_threads\u001b[39m=\u001b[39;49muse_threads\n\u001b[1;32m   2604\u001b[0m )\n\u001b[1;32m   2606\u001b[0m \u001b[39m# if use_pandas_metadata, restore the pandas metadata (which gets\u001b[39;00m\n\u001b[1;32m   2607\u001b[0m \u001b[39m# lost if doing a specific `columns` selection in to_table)\u001b[39;00m\n\u001b[1;32m   2608\u001b[0m \u001b[39mif\u001b[39;00m use_pandas_metadata:\n",
      "File \u001b[0;32m~/miniconda3/envs/dft/lib/python3.8/site-packages/pyarrow/_dataset.pyx:369\u001b[0m, in \u001b[0;36mpyarrow._dataset.Dataset.to_table\u001b[0;34m()\u001b[0m\n",
      "File \u001b[0;32m~/miniconda3/envs/dft/lib/python3.8/site-packages/pyarrow/_dataset.pyx:2818\u001b[0m, in \u001b[0;36mpyarrow._dataset.Scanner.to_table\u001b[0;34m()\u001b[0m\n",
      "File \u001b[0;32m~/miniconda3/envs/dft/lib/python3.8/site-packages/pyarrow/error.pxi:144\u001b[0m, in \u001b[0;36mpyarrow.lib.pyarrow_internal_check_status\u001b[0;34m()\u001b[0m\n",
      "File \u001b[0;32m~/miniconda3/envs/dft/lib/python3.8/site-packages/pyarrow/error.pxi:115\u001b[0m, in \u001b[0;36mpyarrow.lib.check_status\u001b[0;34m()\u001b[0m\n",
      "\u001b[0;31mOSError\u001b[0m: List index overflow."
     ]
    }
   ],
   "source": [
    "import pandas as pd \n",
    "df = pd.read_parquet(\"qm1b/pyarrow.parquet\")"
   ]
  },
  {
   "cell_type": "code",
   "execution_count": 6,
   "metadata": {},
   "outputs": [
    {
     "data": {
      "application/vnd.jupyter.widget-view+json": {
       "model_id": "1d09a492a2f248ca9be55b4d6b6eb788",
       "version_major": 2,
       "version_minor": 0
      },
      "text/plain": [
       "  0%|          | 0/3900598 [00:00<?, ?it/s]"
      ]
     },
     "metadata": {},
     "output_type": "display_data"
    }
   ],
   "source": [
    "import numpy as np \n",
    "from tqdm.notebook import tqdm \n",
    "tqdm.pandas()\n",
    "df[\"pos\"] = df[\"pos\"].progress_apply(lambda x: x.astype(np.float16))"
   ]
  },
  {
   "cell_type": "code",
   "execution_count": 7,
   "metadata": {},
   "outputs": [
    {
     "ename": "ArrowNotImplementedError",
     "evalue": "Unhandled type for Arrow to Parquet schema conversion: halffloat",
     "output_type": "error",
     "traceback": [
      "\u001b[0;31m---------------------------------------------------------------------------\u001b[0m",
      "\u001b[0;31mArrowNotImplementedError\u001b[0m                  Traceback (most recent call last)",
      "Cell \u001b[0;32mIn[7], line 1\u001b[0m\n\u001b[0;32m----> 1\u001b[0m df\u001b[39m.\u001b[39;49mto_parquet(\u001b[39m\"\u001b[39;49m\u001b[39mtest2.parquet\u001b[39;49m\u001b[39m\"\u001b[39;49m)\n",
      "File \u001b[0;32m~/.local/lib/python3.8/site-packages/pandas/core/frame.py:2888\u001b[0m, in \u001b[0;36mDataFrame.to_parquet\u001b[0;34m(self, path, engine, compression, index, partition_cols, storage_options, **kwargs)\u001b[0m\n\u001b[1;32m   2801\u001b[0m \u001b[39m\u001b[39m\u001b[39m\"\"\"\u001b[39;00m\n\u001b[1;32m   2802\u001b[0m \u001b[39mWrite a DataFrame to the binary parquet format.\u001b[39;00m\n\u001b[1;32m   2803\u001b[0m \n\u001b[0;32m   (...)\u001b[0m\n\u001b[1;32m   2884\u001b[0m \u001b[39m>>> content = f.read()\u001b[39;00m\n\u001b[1;32m   2885\u001b[0m \u001b[39m\"\"\"\u001b[39;00m\n\u001b[1;32m   2886\u001b[0m \u001b[39mfrom\u001b[39;00m \u001b[39mpandas\u001b[39;00m\u001b[39m.\u001b[39;00m\u001b[39mio\u001b[39;00m\u001b[39m.\u001b[39;00m\u001b[39mparquet\u001b[39;00m \u001b[39mimport\u001b[39;00m to_parquet\n\u001b[0;32m-> 2888\u001b[0m \u001b[39mreturn\u001b[39;00m to_parquet(\n\u001b[1;32m   2889\u001b[0m     \u001b[39mself\u001b[39;49m,\n\u001b[1;32m   2890\u001b[0m     path,\n\u001b[1;32m   2891\u001b[0m     engine,\n\u001b[1;32m   2892\u001b[0m     compression\u001b[39m=\u001b[39;49mcompression,\n\u001b[1;32m   2893\u001b[0m     index\u001b[39m=\u001b[39;49mindex,\n\u001b[1;32m   2894\u001b[0m     partition_cols\u001b[39m=\u001b[39;49mpartition_cols,\n\u001b[1;32m   2895\u001b[0m     storage_options\u001b[39m=\u001b[39;49mstorage_options,\n\u001b[1;32m   2896\u001b[0m     \u001b[39m*\u001b[39;49m\u001b[39m*\u001b[39;49mkwargs,\n\u001b[1;32m   2897\u001b[0m )\n",
      "File \u001b[0;32m~/.local/lib/python3.8/site-packages/pandas/io/parquet.py:411\u001b[0m, in \u001b[0;36mto_parquet\u001b[0;34m(df, path, engine, compression, index, storage_options, partition_cols, **kwargs)\u001b[0m\n\u001b[1;32m    407\u001b[0m impl \u001b[39m=\u001b[39m get_engine(engine)\n\u001b[1;32m    409\u001b[0m path_or_buf: FilePath \u001b[39m|\u001b[39m WriteBuffer[\u001b[39mbytes\u001b[39m] \u001b[39m=\u001b[39m io\u001b[39m.\u001b[39mBytesIO() \u001b[39mif\u001b[39;00m path \u001b[39mis\u001b[39;00m \u001b[39mNone\u001b[39;00m \u001b[39melse\u001b[39;00m path\n\u001b[0;32m--> 411\u001b[0m impl\u001b[39m.\u001b[39;49mwrite(\n\u001b[1;32m    412\u001b[0m     df,\n\u001b[1;32m    413\u001b[0m     path_or_buf,\n\u001b[1;32m    414\u001b[0m     compression\u001b[39m=\u001b[39;49mcompression,\n\u001b[1;32m    415\u001b[0m     index\u001b[39m=\u001b[39;49mindex,\n\u001b[1;32m    416\u001b[0m     partition_cols\u001b[39m=\u001b[39;49mpartition_cols,\n\u001b[1;32m    417\u001b[0m     storage_options\u001b[39m=\u001b[39;49mstorage_options,\n\u001b[1;32m    418\u001b[0m     \u001b[39m*\u001b[39;49m\u001b[39m*\u001b[39;49mkwargs,\n\u001b[1;32m    419\u001b[0m )\n\u001b[1;32m    421\u001b[0m \u001b[39mif\u001b[39;00m path \u001b[39mis\u001b[39;00m \u001b[39mNone\u001b[39;00m:\n\u001b[1;32m    422\u001b[0m     \u001b[39massert\u001b[39;00m \u001b[39misinstance\u001b[39m(path_or_buf, io\u001b[39m.\u001b[39mBytesIO)\n",
      "File \u001b[0;32m~/.local/lib/python3.8/site-packages/pandas/io/parquet.py:189\u001b[0m, in \u001b[0;36mPyArrowImpl.write\u001b[0;34m(self, df, path, compression, index, storage_options, partition_cols, **kwargs)\u001b[0m\n\u001b[1;32m    180\u001b[0m         \u001b[39mself\u001b[39m\u001b[39m.\u001b[39mapi\u001b[39m.\u001b[39mparquet\u001b[39m.\u001b[39mwrite_to_dataset(\n\u001b[1;32m    181\u001b[0m             table,\n\u001b[1;32m    182\u001b[0m             path_or_handle,\n\u001b[0;32m   (...)\u001b[0m\n\u001b[1;32m    185\u001b[0m             \u001b[39m*\u001b[39m\u001b[39m*\u001b[39mkwargs,\n\u001b[1;32m    186\u001b[0m         )\n\u001b[1;32m    187\u001b[0m     \u001b[39melse\u001b[39;00m:\n\u001b[1;32m    188\u001b[0m         \u001b[39m# write to single output file\u001b[39;00m\n\u001b[0;32m--> 189\u001b[0m         \u001b[39mself\u001b[39;49m\u001b[39m.\u001b[39;49mapi\u001b[39m.\u001b[39;49mparquet\u001b[39m.\u001b[39;49mwrite_table(\n\u001b[1;32m    190\u001b[0m             table, path_or_handle, compression\u001b[39m=\u001b[39;49mcompression, \u001b[39m*\u001b[39;49m\u001b[39m*\u001b[39;49mkwargs\n\u001b[1;32m    191\u001b[0m         )\n\u001b[1;32m    192\u001b[0m \u001b[39mfinally\u001b[39;00m:\n\u001b[1;32m    193\u001b[0m     \u001b[39mif\u001b[39;00m handles \u001b[39mis\u001b[39;00m \u001b[39mnot\u001b[39;00m \u001b[39mNone\u001b[39;00m:\n",
      "File \u001b[0;32m~/miniconda3/envs/dft/lib/python3.8/site-packages/pyarrow/parquet/core.py:3071\u001b[0m, in \u001b[0;36mwrite_table\u001b[0;34m(table, where, row_group_size, version, use_dictionary, compression, write_statistics, use_deprecated_int96_timestamps, coerce_timestamps, allow_truncated_timestamps, data_page_size, flavor, filesystem, compression_level, use_byte_stream_split, column_encoding, data_page_version, use_compliant_nested_type, encryption_properties, write_batch_size, dictionary_pagesize_limit, store_schema, **kwargs)\u001b[0m\n\u001b[1;32m   3069\u001b[0m use_int96 \u001b[39m=\u001b[39m use_deprecated_int96_timestamps\n\u001b[1;32m   3070\u001b[0m \u001b[39mtry\u001b[39;00m:\n\u001b[0;32m-> 3071\u001b[0m     \u001b[39mwith\u001b[39;00m ParquetWriter(\n\u001b[1;32m   3072\u001b[0m             where, table\u001b[39m.\u001b[39;49mschema,\n\u001b[1;32m   3073\u001b[0m             filesystem\u001b[39m=\u001b[39;49mfilesystem,\n\u001b[1;32m   3074\u001b[0m             version\u001b[39m=\u001b[39;49mversion,\n\u001b[1;32m   3075\u001b[0m             flavor\u001b[39m=\u001b[39;49mflavor,\n\u001b[1;32m   3076\u001b[0m             use_dictionary\u001b[39m=\u001b[39;49muse_dictionary,\n\u001b[1;32m   3077\u001b[0m             write_statistics\u001b[39m=\u001b[39;49mwrite_statistics,\n\u001b[1;32m   3078\u001b[0m             coerce_timestamps\u001b[39m=\u001b[39;49mcoerce_timestamps,\n\u001b[1;32m   3079\u001b[0m             data_page_size\u001b[39m=\u001b[39;49mdata_page_size,\n\u001b[1;32m   3080\u001b[0m             allow_truncated_timestamps\u001b[39m=\u001b[39;49mallow_truncated_timestamps,\n\u001b[1;32m   3081\u001b[0m             compression\u001b[39m=\u001b[39;49mcompression,\n\u001b[1;32m   3082\u001b[0m             use_deprecated_int96_timestamps\u001b[39m=\u001b[39;49muse_int96,\n\u001b[1;32m   3083\u001b[0m             compression_level\u001b[39m=\u001b[39;49mcompression_level,\n\u001b[1;32m   3084\u001b[0m             use_byte_stream_split\u001b[39m=\u001b[39;49muse_byte_stream_split,\n\u001b[1;32m   3085\u001b[0m             column_encoding\u001b[39m=\u001b[39;49mcolumn_encoding,\n\u001b[1;32m   3086\u001b[0m             data_page_version\u001b[39m=\u001b[39;49mdata_page_version,\n\u001b[1;32m   3087\u001b[0m             use_compliant_nested_type\u001b[39m=\u001b[39;49muse_compliant_nested_type,\n\u001b[1;32m   3088\u001b[0m             encryption_properties\u001b[39m=\u001b[39;49mencryption_properties,\n\u001b[1;32m   3089\u001b[0m             write_batch_size\u001b[39m=\u001b[39;49mwrite_batch_size,\n\u001b[1;32m   3090\u001b[0m             dictionary_pagesize_limit\u001b[39m=\u001b[39;49mdictionary_pagesize_limit,\n\u001b[1;32m   3091\u001b[0m             store_schema\u001b[39m=\u001b[39;49mstore_schema,\n\u001b[1;32m   3092\u001b[0m             \u001b[39m*\u001b[39;49m\u001b[39m*\u001b[39;49mkwargs) \u001b[39mas\u001b[39;00m writer:\n\u001b[1;32m   3093\u001b[0m         writer\u001b[39m.\u001b[39mwrite_table(table, row_group_size\u001b[39m=\u001b[39mrow_group_size)\n\u001b[1;32m   3094\u001b[0m \u001b[39mexcept\u001b[39;00m \u001b[39mException\u001b[39;00m:\n",
      "File \u001b[0;32m~/miniconda3/envs/dft/lib/python3.8/site-packages/pyarrow/parquet/core.py:990\u001b[0m, in \u001b[0;36mParquetWriter.__init__\u001b[0;34m(self, where, schema, filesystem, flavor, version, use_dictionary, compression, write_statistics, use_deprecated_int96_timestamps, compression_level, use_byte_stream_split, column_encoding, writer_engine_version, data_page_version, use_compliant_nested_type, encryption_properties, write_batch_size, dictionary_pagesize_limit, store_schema, **options)\u001b[0m\n\u001b[1;32m    988\u001b[0m \u001b[39mself\u001b[39m\u001b[39m.\u001b[39m_metadata_collector \u001b[39m=\u001b[39m options\u001b[39m.\u001b[39mpop(\u001b[39m'\u001b[39m\u001b[39mmetadata_collector\u001b[39m\u001b[39m'\u001b[39m, \u001b[39mNone\u001b[39;00m)\n\u001b[1;32m    989\u001b[0m engine_version \u001b[39m=\u001b[39m \u001b[39m'\u001b[39m\u001b[39mV2\u001b[39m\u001b[39m'\u001b[39m\n\u001b[0;32m--> 990\u001b[0m \u001b[39mself\u001b[39m\u001b[39m.\u001b[39mwriter \u001b[39m=\u001b[39m _parquet\u001b[39m.\u001b[39;49mParquetWriter(\n\u001b[1;32m    991\u001b[0m     sink, schema,\n\u001b[1;32m    992\u001b[0m     version\u001b[39m=\u001b[39;49mversion,\n\u001b[1;32m    993\u001b[0m     compression\u001b[39m=\u001b[39;49mcompression,\n\u001b[1;32m    994\u001b[0m     use_dictionary\u001b[39m=\u001b[39;49muse_dictionary,\n\u001b[1;32m    995\u001b[0m     write_statistics\u001b[39m=\u001b[39;49mwrite_statistics,\n\u001b[1;32m    996\u001b[0m     use_deprecated_int96_timestamps\u001b[39m=\u001b[39;49muse_deprecated_int96_timestamps,\n\u001b[1;32m    997\u001b[0m     compression_level\u001b[39m=\u001b[39;49mcompression_level,\n\u001b[1;32m    998\u001b[0m     use_byte_stream_split\u001b[39m=\u001b[39;49muse_byte_stream_split,\n\u001b[1;32m    999\u001b[0m     column_encoding\u001b[39m=\u001b[39;49mcolumn_encoding,\n\u001b[1;32m   1000\u001b[0m     writer_engine_version\u001b[39m=\u001b[39;49mengine_version,\n\u001b[1;32m   1001\u001b[0m     data_page_version\u001b[39m=\u001b[39;49mdata_page_version,\n\u001b[1;32m   1002\u001b[0m     use_compliant_nested_type\u001b[39m=\u001b[39;49muse_compliant_nested_type,\n\u001b[1;32m   1003\u001b[0m     encryption_properties\u001b[39m=\u001b[39;49mencryption_properties,\n\u001b[1;32m   1004\u001b[0m     write_batch_size\u001b[39m=\u001b[39;49mwrite_batch_size,\n\u001b[1;32m   1005\u001b[0m     dictionary_pagesize_limit\u001b[39m=\u001b[39;49mdictionary_pagesize_limit,\n\u001b[1;32m   1006\u001b[0m     store_schema\u001b[39m=\u001b[39;49mstore_schema,\n\u001b[1;32m   1007\u001b[0m     \u001b[39m*\u001b[39;49m\u001b[39m*\u001b[39;49moptions)\n\u001b[1;32m   1008\u001b[0m \u001b[39mself\u001b[39m\u001b[39m.\u001b[39mis_open \u001b[39m=\u001b[39m \u001b[39mTrue\u001b[39;00m\n",
      "File \u001b[0;32m~/miniconda3/envs/dft/lib/python3.8/site-packages/pyarrow/_parquet.pyx:1753\u001b[0m, in \u001b[0;36mpyarrow._parquet.ParquetWriter.__cinit__\u001b[0;34m()\u001b[0m\n",
      "File \u001b[0;32m~/miniconda3/envs/dft/lib/python3.8/site-packages/pyarrow/error.pxi:144\u001b[0m, in \u001b[0;36mpyarrow.lib.pyarrow_internal_check_status\u001b[0;34m()\u001b[0m\n",
      "File \u001b[0;32m~/miniconda3/envs/dft/lib/python3.8/site-packages/pyarrow/error.pxi:121\u001b[0m, in \u001b[0;36mpyarrow.lib.check_status\u001b[0;34m()\u001b[0m\n",
      "\u001b[0;31mArrowNotImplementedError\u001b[0m: Unhandled type for Arrow to Parquet schema conversion: halffloat"
     ]
    }
   ],
   "source": [
    "df.to_parquet(\"test2.parquet\")"
   ]
  },
  {
   "cell_type": "code",
   "execution_count": null,
   "metadata": {},
   "outputs": [],
   "source": []
  },
  {
   "cell_type": "code",
   "execution_count": null,
   "metadata": {},
   "outputs": [],
   "source": [
    "df = pd.concat(dfs)\n",
    "df.reset_index(drop=True, inplace=True)\n",
    "df.to_feather(\"qm1b/df.feather\")"
   ]
  },
  {
   "cell_type": "code",
   "execution_count": 16,
   "metadata": {},
   "outputs": [
    {
     "data": {
      "text/html": [
       "<div>\n",
       "<style scoped>\n",
       "    .dataframe tbody tr th:only-of-type {\n",
       "        vertical-align: middle;\n",
       "    }\n",
       "\n",
       "    .dataframe tbody tr th {\n",
       "        vertical-align: top;\n",
       "    }\n",
       "\n",
       "    .dataframe thead th {\n",
       "        text-align: right;\n",
       "    }\n",
       "</style>\n",
       "<table border=\"1\" class=\"dataframe\">\n",
       "  <thead>\n",
       "    <tr style=\"text-align: right;\">\n",
       "      <th></th>\n",
       "      <th>smile</th>\n",
       "      <th>atoms</th>\n",
       "      <th>z</th>\n",
       "      <th>homo</th>\n",
       "      <th>lumo</th>\n",
       "      <th>N</th>\n",
       "      <th>std</th>\n",
       "      <th>time</th>\n",
       "      <th>pos</th>\n",
       "      <th>y</th>\n",
       "    </tr>\n",
       "  </thead>\n",
       "  <tbody>\n",
       "    <tr>\n",
       "      <th>0</th>\n",
       "      <td>On1cnn(NC=O)c1=N</td>\n",
       "      <td>ONCNNNCOCNHHHHH</td>\n",
       "      <td>[8, 7, 6, 7, 7, 7, 6, 8, 6, 7, 1, 1, 1, 1, 1]</td>\n",
       "      <td>-2.345311</td>\n",
       "      <td>2.608682</td>\n",
       "      <td>55</td>\n",
       "      <td>0.000873</td>\n",
       "      <td>376101.781250</td>\n",
       "      <td>[5.827063, 1.0317355, -0.7083503, 3.4275153, 0...</td>\n",
       "      <td>4.953993</td>\n",
       "    </tr>\n",
       "    <tr>\n",
       "      <th>1</th>\n",
       "      <td>On1cnn(NC=O)c1=N</td>\n",
       "      <td>ONCNNNCOCNHHHHH</td>\n",
       "      <td>[8, 7, 6, 7, 7, 7, 6, 8, 6, 7, 1, 1, 1, 1, 1]</td>\n",
       "      <td>-2.275546</td>\n",
       "      <td>2.761140</td>\n",
       "      <td>55</td>\n",
       "      <td>0.001155</td>\n",
       "      <td>84.200005</td>\n",
       "      <td>[-5.604111, 1.1757765, 0.05778461, -3.1909149,...</td>\n",
       "      <td>5.036686</td>\n",
       "    </tr>\n",
       "    <tr>\n",
       "      <th>2</th>\n",
       "      <td>On1cnn(NC=O)c1=N</td>\n",
       "      <td>ONCNNNCOCNHHHHH</td>\n",
       "      <td>[8, 7, 6, 7, 7, 7, 6, 8, 6, 7, 1, 1, 1, 1, 1]</td>\n",
       "      <td>-2.391332</td>\n",
       "      <td>2.521584</td>\n",
       "      <td>55</td>\n",
       "      <td>0.001070</td>\n",
       "      <td>133.600006</td>\n",
       "      <td>[-5.9132495, -0.38505128, -0.61481285, -3.4400...</td>\n",
       "      <td>4.912916</td>\n",
       "    </tr>\n",
       "    <tr>\n",
       "      <th>3</th>\n",
       "      <td>On1cnn(NC=O)c1=N</td>\n",
       "      <td>ONCNNNCOCNHHHHH</td>\n",
       "      <td>[8, 7, 6, 7, 7, 7, 6, 8, 6, 7, 1, 1, 1, 1, 1]</td>\n",
       "      <td>-2.370459</td>\n",
       "      <td>2.592120</td>\n",
       "      <td>55</td>\n",
       "      <td>0.001070</td>\n",
       "      <td>81.100006</td>\n",
       "      <td>[-5.6897364, 0.33897024, 0.35099038, -3.194107...</td>\n",
       "      <td>4.962579</td>\n",
       "    </tr>\n",
       "    <tr>\n",
       "      <th>4</th>\n",
       "      <td>On1cnn(NC=O)c1=N</td>\n",
       "      <td>ONCNNNCOCNHHHHH</td>\n",
       "      <td>[8, 7, 6, 7, 7, 7, 6, 8, 6, 7, 1, 1, 1, 1, 1]</td>\n",
       "      <td>-2.436978</td>\n",
       "      <td>2.526828</td>\n",
       "      <td>55</td>\n",
       "      <td>0.000618</td>\n",
       "      <td>82.300003</td>\n",
       "      <td>[-5.878585, -0.6040826, -0.18148863, -3.353134...</td>\n",
       "      <td>4.963806</td>\n",
       "    </tr>\n",
       "    <tr>\n",
       "      <th>...</th>\n",
       "      <td>...</td>\n",
       "      <td>...</td>\n",
       "      <td>...</td>\n",
       "      <td>...</td>\n",
       "      <td>...</td>\n",
       "      <td>...</td>\n",
       "      <td>...</td>\n",
       "      <td>...</td>\n",
       "      <td>...</td>\n",
       "      <td>...</td>\n",
       "    </tr>\n",
       "    <tr>\n",
       "      <th>667995</th>\n",
       "      <td>O=C1NCC2=NCCN2N1</td>\n",
       "      <td>OCNCCNCCNNHHHHHHHH</td>\n",
       "      <td>[8, 6, 7, 6, 6, 7, 6, 6, 7, 7, 1, 1, 1, 1, 1, ...</td>\n",
       "      <td>-1.908326</td>\n",
       "      <td>3.069836</td>\n",
       "      <td>58</td>\n",
       "      <td>0.000618</td>\n",
       "      <td>104.999992</td>\n",
       "      <td>[-5.38336, 3.5300062, 1.0764549, -3.6956263, 1...</td>\n",
       "      <td>4.978162</td>\n",
       "    </tr>\n",
       "    <tr>\n",
       "      <th>667996</th>\n",
       "      <td>O=C1NCC2=NCCN2N1</td>\n",
       "      <td>OCNCCNCCNNHHHHHHHH</td>\n",
       "      <td>[8, 6, 7, 6, 6, 7, 6, 6, 7, 7, 1, 1, 1, 1, 1, ...</td>\n",
       "      <td>-2.142122</td>\n",
       "      <td>3.228512</td>\n",
       "      <td>58</td>\n",
       "      <td>0.001448</td>\n",
       "      <td>106.599998</td>\n",
       "      <td>[-5.5638585, 3.6602335, -0.3452505, -3.8052273...</td>\n",
       "      <td>5.370634</td>\n",
       "    </tr>\n",
       "    <tr>\n",
       "      <th>667997</th>\n",
       "      <td>O=C1NCC2=NCCN2N1</td>\n",
       "      <td>OCNCCNCCNNHHHHHHHH</td>\n",
       "      <td>[8, 6, 7, 6, 6, 7, 6, 6, 7, 7, 1, 1, 1, 1, 1, ...</td>\n",
       "      <td>-2.123112</td>\n",
       "      <td>3.230922</td>\n",
       "      <td>58</td>\n",
       "      <td>0.000756</td>\n",
       "      <td>107.900002</td>\n",
       "      <td>[-5.4837356, 3.688127, 0.17725879, -3.7000666,...</td>\n",
       "      <td>5.354034</td>\n",
       "    </tr>\n",
       "    <tr>\n",
       "      <th>667998</th>\n",
       "      <td>O=C1NCC2=NCCN2N1</td>\n",
       "      <td>OCNCCNCCNNHHHHHHHH</td>\n",
       "      <td>[8, 6, 7, 6, 6, 7, 6, 6, 7, 7, 1, 1, 1, 1, 1, ...</td>\n",
       "      <td>-2.127807</td>\n",
       "      <td>3.228734</td>\n",
       "      <td>58</td>\n",
       "      <td>0.000437</td>\n",
       "      <td>109.299988</td>\n",
       "      <td>[5.790738, 2.7862897, 1.5203241, 3.8561738, 1....</td>\n",
       "      <td>5.356541</td>\n",
       "    </tr>\n",
       "    <tr>\n",
       "      <th>667999</th>\n",
       "      <td>N=C1NN2CCN=C2CO1</td>\n",
       "      <td>NCNNCCNCCOHHHHHHHH</td>\n",
       "      <td>[7, 6, 7, 7, 6, 6, 7, 6, 6, 8, 1, 1, 1, 1, 1, ...</td>\n",
       "      <td>-2.256053</td>\n",
       "      <td>2.778056</td>\n",
       "      <td>58</td>\n",
       "      <td>0.001448</td>\n",
       "      <td>103.800003</td>\n",
       "      <td>[6.4720573, -1.0161779, 0.15443867, 4.183262, ...</td>\n",
       "      <td>5.034110</td>\n",
       "    </tr>\n",
       "  </tbody>\n",
       "</table>\n",
       "<p>668000 rows × 10 columns</p>\n",
       "</div>"
      ],
      "text/plain": [
       "                   smile               atoms   \n",
       "0       On1cnn(NC=O)c1=N     ONCNNNCOCNHHHHH  \\\n",
       "1       On1cnn(NC=O)c1=N     ONCNNNCOCNHHHHH   \n",
       "2       On1cnn(NC=O)c1=N     ONCNNNCOCNHHHHH   \n",
       "3       On1cnn(NC=O)c1=N     ONCNNNCOCNHHHHH   \n",
       "4       On1cnn(NC=O)c1=N     ONCNNNCOCNHHHHH   \n",
       "...                  ...                 ...   \n",
       "667995  O=C1NCC2=NCCN2N1  OCNCCNCCNNHHHHHHHH   \n",
       "667996  O=C1NCC2=NCCN2N1  OCNCCNCCNNHHHHHHHH   \n",
       "667997  O=C1NCC2=NCCN2N1  OCNCCNCCNNHHHHHHHH   \n",
       "667998  O=C1NCC2=NCCN2N1  OCNCCNCCNNHHHHHHHH   \n",
       "667999  N=C1NN2CCN=C2CO1  NCNNCCNCCOHHHHHHHH   \n",
       "\n",
       "                                                        z      homo      lumo   \n",
       "0           [8, 7, 6, 7, 7, 7, 6, 8, 6, 7, 1, 1, 1, 1, 1] -2.345311  2.608682  \\\n",
       "1           [8, 7, 6, 7, 7, 7, 6, 8, 6, 7, 1, 1, 1, 1, 1] -2.275546  2.761140   \n",
       "2           [8, 7, 6, 7, 7, 7, 6, 8, 6, 7, 1, 1, 1, 1, 1] -2.391332  2.521584   \n",
       "3           [8, 7, 6, 7, 7, 7, 6, 8, 6, 7, 1, 1, 1, 1, 1] -2.370459  2.592120   \n",
       "4           [8, 7, 6, 7, 7, 7, 6, 8, 6, 7, 1, 1, 1, 1, 1] -2.436978  2.526828   \n",
       "...                                                   ...       ...       ...   \n",
       "667995  [8, 6, 7, 6, 6, 7, 6, 6, 7, 7, 1, 1, 1, 1, 1, ... -1.908326  3.069836   \n",
       "667996  [8, 6, 7, 6, 6, 7, 6, 6, 7, 7, 1, 1, 1, 1, 1, ... -2.142122  3.228512   \n",
       "667997  [8, 6, 7, 6, 6, 7, 6, 6, 7, 7, 1, 1, 1, 1, 1, ... -2.123112  3.230922   \n",
       "667998  [8, 6, 7, 6, 6, 7, 6, 6, 7, 7, 1, 1, 1, 1, 1, ... -2.127807  3.228734   \n",
       "667999  [7, 6, 7, 7, 6, 6, 7, 6, 6, 8, 1, 1, 1, 1, 1, ... -2.256053  2.778056   \n",
       "\n",
       "         N       std           time   \n",
       "0       55  0.000873  376101.781250  \\\n",
       "1       55  0.001155      84.200005   \n",
       "2       55  0.001070     133.600006   \n",
       "3       55  0.001070      81.100006   \n",
       "4       55  0.000618      82.300003   \n",
       "...     ..       ...            ...   \n",
       "667995  58  0.000618     104.999992   \n",
       "667996  58  0.001448     106.599998   \n",
       "667997  58  0.000756     107.900002   \n",
       "667998  58  0.000437     109.299988   \n",
       "667999  58  0.001448     103.800003   \n",
       "\n",
       "                                                      pos         y  \n",
       "0       [5.827063, 1.0317355, -0.7083503, 3.4275153, 0...  4.953993  \n",
       "1       [-5.604111, 1.1757765, 0.05778461, -3.1909149,...  5.036686  \n",
       "2       [-5.9132495, -0.38505128, -0.61481285, -3.4400...  4.912916  \n",
       "3       [-5.6897364, 0.33897024, 0.35099038, -3.194107...  4.962579  \n",
       "4       [-5.878585, -0.6040826, -0.18148863, -3.353134...  4.963806  \n",
       "...                                                   ...       ...  \n",
       "667995  [-5.38336, 3.5300062, 1.0764549, -3.6956263, 1...  4.978162  \n",
       "667996  [-5.5638585, 3.6602335, -0.3452505, -3.8052273...  5.370634  \n",
       "667997  [-5.4837356, 3.688127, 0.17725879, -3.7000666,...  5.354034  \n",
       "667998  [5.790738, 2.7862897, 1.5203241, 3.8561738, 1....  5.356541  \n",
       "667999  [6.4720573, -1.0161779, 0.15443867, 4.183262, ...  5.034110  \n",
       "\n",
       "[668000 rows x 10 columns]"
      ]
     },
     "execution_count": 16,
     "metadata": {},
     "output_type": "execute_result"
    }
   ],
   "source": [
    "pd.read_feather(\"qm1b/df.feather\")"
   ]
  },
  {
   "cell_type": "code",
   "execution_count": 4,
   "metadata": {},
   "outputs": [
    {
     "name": "stdout",
     "output_type": "stream",
     "text": [
      "total 4.6G\n",
      "drwxr-xr-x  2 alexm all    7 May 27 12:47 .\n",
      "drwxr-xr-x 35 alexm all  459 May 27 12:16 ..\n",
      "-rw-r--r--  1 alexm all    0 May 27 12:47 df.csv\n",
      "-rw-r--r--  1 alexm all 1.5G May 27 12:37 df.feather\n",
      "-rw-r--r--  1 alexm all 1.9G May 27 12:30 df.hdf\n",
      "-rw-r--r--  1 alexm all 143M May 27 12:53 df.parquet\n",
      "-rw-r--r--  1 alexm all 201M May 27 12:34 df.pickle\n",
      "-rw-r--r--  1 alexm all 873M May 27 12:39 df_f32.feather\n",
      "-rw-r--r--  1 alexm all   22 May 27 12:19 locs.npz\n"
     ]
    }
   ],
   "source": [
    "# i think the problem is all the atom positions stored as list, this takes forever to save! \n",
    "df = pd.concat(dfs) # 135m to 2G by adding atom postions\n",
    "df.reset_index(drop=True, inplace=True)\n",
    "df.to_parquet(\"qm1b/df.parquet\")\n",
    "#np.savez(\"qm1b/locs.npz\", locs=locs)\n",
    "#import pickle \n",
    "#pickle.dump(locs, open(\"locs.pickle\", \"wb\"))\n",
    "!ls -lah qm1b/"
   ]
  },
  {
   "cell_type": "code",
   "execution_count": 18,
   "metadata": {},
   "outputs": [
    {
     "name": "stderr",
     "output_type": "stream",
     "text": [
      "/tmp/ipykernel_92226/1114240224.py:1: PerformanceWarning: \n",
      "your performance may suffer as PyTables will pickle object types that it cannot\n",
      "map directly to c-types [inferred_type->mixed,key->block2_values] [items->Index(['smile', 'atoms', 'z', 'locs'], dtype='object')]\n",
      "\n",
      "  df.to_hdf(\"qm1b/df.hdf\", key=\"a\")\n"
     ]
    }
   ],
   "source": [
    "df.to_hdf(\"qm1b/df.hdf\", key=\"a\") # slower than parquet?"
   ]
  },
  {
   "cell_type": "code",
   "execution_count": 20,
   "metadata": {},
   "outputs": [
    {
     "ename": "TypeError",
     "evalue": "rename() takes from 1 to 2 positional arguments but 3 were given",
     "output_type": "error",
     "traceback": [
      "\u001b[0;31m---------------------------------------------------------------------------\u001b[0m",
      "\u001b[0;31mTypeError\u001b[0m                                 Traceback (most recent call last)",
      "Cell \u001b[0;32mIn[20], line 1\u001b[0m\n\u001b[0;32m----> 1\u001b[0m df\u001b[39m.\u001b[39;49mrename(\u001b[39m\"\u001b[39;49m\u001b[39mhlgap\u001b[39;49m\u001b[39m\"\u001b[39;49m, \u001b[39m\"\u001b[39;49m\u001b[39my\u001b[39;49m\u001b[39m\"\u001b[39;49m)\n",
      "\u001b[0;31mTypeError\u001b[0m: rename() takes from 1 to 2 positional arguments but 3 were given"
     ]
    }
   ],
   "source": []
  },
  {
   "cell_type": "code",
   "execution_count": null,
   "metadata": {},
   "outputs": [],
   "source": [
    "df.to_pickle(\"qm1b/df.pickle\")"
   ]
  },
  {
   "cell_type": "code",
   "execution_count": 9,
   "metadata": {},
   "outputs": [
    {
     "data": {
      "text/plain": [
       "array([ 5.827063  ,  1.0317355 , -0.7083503 ,  3.4275153 ,  0.107191  ,\n",
       "       -0.2731046 ,  2.8461204 , -2.1994011 ,  0.6168467 ,  0.31899458,\n",
       "       -2.3834453 ,  0.7777409 , -0.75471944, -0.2444502 ,  0.01089214,\n",
       "       -3.348137  ,  0.30252066, -0.10111679, -5.144159  , -1.5364552 ,\n",
       "        0.65670764, -4.362598  , -3.63998   ,  1.4206738 ,  1.1881183 ,\n",
       "        1.2599131 , -0.6261902 ,  0.98398364,  3.5514555 , -1.48208   ,\n",
       "        6.7284646 ,  2.2162373 ,  0.4406668 ,  4.123091  , -3.7013693 ,\n",
       "        1.1363839 , -3.918087  ,  2.0556333 , -0.7408562 , -7.1588707 ,\n",
       "       -1.2443728 ,  0.61976993, -0.7567799 ,  4.4247875 , -1.7479838 ],\n",
       "      dtype=float32)"
      ]
     },
     "execution_count": 9,
     "metadata": {},
     "output_type": "execute_result"
    }
   ],
   "source": [
    "df[\"locs\"].values[0]"
   ]
  },
  {
   "cell_type": "code",
   "execution_count": 10,
   "metadata": {},
   "outputs": [],
   "source": [
    "d = pd.read_parquet(\"../petrignn/datasets/big_gdb8_sto3g/test/test.parquet\")"
   ]
  },
  {
   "cell_type": "code",
   "execution_count": 11,
   "metadata": {},
   "outputs": [
    {
     "data": {
      "text/html": [
       "<div>\n",
       "<style scoped>\n",
       "    .dataframe tbody tr th:only-of-type {\n",
       "        vertical-align: middle;\n",
       "    }\n",
       "\n",
       "    .dataframe tbody tr th {\n",
       "        vertical-align: top;\n",
       "    }\n",
       "\n",
       "    .dataframe thead th {\n",
       "        text-align: right;\n",
       "    }\n",
       "</style>\n",
       "<table border=\"1\" class=\"dataframe\">\n",
       "  <thead>\n",
       "    <tr style=\"text-align: right;\">\n",
       "      <th></th>\n",
       "      <th>z</th>\n",
       "      <th>pos</th>\n",
       "      <th>y</th>\n",
       "    </tr>\n",
       "  </thead>\n",
       "  <tbody>\n",
       "    <tr>\n",
       "      <th>0</th>\n",
       "      <td>[6, 8, 6, 6, 6, 7, 7, 7, 1, 1, 1, 1, 1]</td>\n",
       "      <td>[-4.495205, 0.23872827, 0.2655194, -2.2186477,...</td>\n",
       "      <td>4.908727</td>\n",
       "    </tr>\n",
       "    <tr>\n",
       "      <th>1</th>\n",
       "      <td>[7, 7, 6, 8, 7, 7, 6, 8, 1, 1, 1, 1, 1, 1]</td>\n",
       "      <td>[5.031974, 1.0477633, -0.78691244, 2.5052114, ...</td>\n",
       "      <td>5.594835</td>\n",
       "    </tr>\n",
       "    <tr>\n",
       "      <th>2</th>\n",
       "      <td>[6, 6, 6, 6, 8, 6, 6, 6, 1, 1, 1, 1, 1, 1]</td>\n",
       "      <td>[5.133087, 3.0571103, 1.31773, 3.1669762, 1.97...</td>\n",
       "      <td>5.797307</td>\n",
       "    </tr>\n",
       "    <tr>\n",
       "      <th>3</th>\n",
       "      <td>[6, 6, 6, 7, 7, 6, 6, 8, 1, 1, 1, 1, 1, 1]</td>\n",
       "      <td>[-3.1639757, 0.444887, 0.63958794, -0.61085707...</td>\n",
       "      <td>4.975348</td>\n",
       "    </tr>\n",
       "    <tr>\n",
       "      <th>4</th>\n",
       "      <td>[6, 6, 6, 6, 7, 7, 6, 7, 1, 1, 1, 1, 1, 1, 1]</td>\n",
       "      <td>[3.4184594, -1.7734946, 0.5668929, 0.92932785,...</td>\n",
       "      <td>4.591497</td>\n",
       "    </tr>\n",
       "    <tr>\n",
       "      <th>...</th>\n",
       "      <td>...</td>\n",
       "      <td>...</td>\n",
       "      <td>...</td>\n",
       "    </tr>\n",
       "    <tr>\n",
       "      <th>1426525</th>\n",
       "      <td>[8, 6, 8, 7, 6, 6, 6, 7, 1, 1]</td>\n",
       "      <td>[1.2840662, -0.70706034, -4.2914615, 0.0923704...</td>\n",
       "      <td>4.966056</td>\n",
       "    </tr>\n",
       "    <tr>\n",
       "      <th>1426526</th>\n",
       "      <td>[6, 6, 7, 6, 8, 8, 7, 6, 1, 1, 1, 1, 1, 1]</td>\n",
       "      <td>[-2.8832853, -1.1241183, -0.08936391, -0.50957...</td>\n",
       "      <td>5.751349</td>\n",
       "    </tr>\n",
       "    <tr>\n",
       "      <th>1426527</th>\n",
       "      <td>[6, 6, 6, 6, 6, 7, 6, 7, 1, 1, 1, 1, 1, 1]</td>\n",
       "      <td>[-4.2444363, -1.4364237, 0.86895883, -1.959656...</td>\n",
       "      <td>7.486381</td>\n",
       "    </tr>\n",
       "    <tr>\n",
       "      <th>1426528</th>\n",
       "      <td>[6, 6, 6, 7, 6, 6, 6, 8, 1, 1, 1, 1, 1, 1, 1]</td>\n",
       "      <td>[5.4422665, -1.3197862, 1.2723867, 3.9824693, ...</td>\n",
       "      <td>8.159339</td>\n",
       "    </tr>\n",
       "    <tr>\n",
       "      <th>1426529</th>\n",
       "      <td>[6, 6, 6, 6, 6, 6, 7, 7, 1, 1, 1, 1, 1, 1]</td>\n",
       "      <td>[-2.3979769, -1.8866018, 0.046255905, -3.61757...</td>\n",
       "      <td>5.851119</td>\n",
       "    </tr>\n",
       "  </tbody>\n",
       "</table>\n",
       "<p>1426530 rows × 3 columns</p>\n",
       "</div>"
      ],
      "text/plain": [
       "                                                     z   \n",
       "0              [6, 8, 6, 6, 6, 7, 7, 7, 1, 1, 1, 1, 1]  \\\n",
       "1           [7, 7, 6, 8, 7, 7, 6, 8, 1, 1, 1, 1, 1, 1]   \n",
       "2           [6, 6, 6, 6, 8, 6, 6, 6, 1, 1, 1, 1, 1, 1]   \n",
       "3           [6, 6, 6, 7, 7, 6, 6, 8, 1, 1, 1, 1, 1, 1]   \n",
       "4        [6, 6, 6, 6, 7, 7, 6, 7, 1, 1, 1, 1, 1, 1, 1]   \n",
       "...                                                ...   \n",
       "1426525                 [8, 6, 8, 7, 6, 6, 6, 7, 1, 1]   \n",
       "1426526     [6, 6, 7, 6, 8, 8, 7, 6, 1, 1, 1, 1, 1, 1]   \n",
       "1426527     [6, 6, 6, 6, 6, 7, 6, 7, 1, 1, 1, 1, 1, 1]   \n",
       "1426528  [6, 6, 6, 7, 6, 6, 6, 8, 1, 1, 1, 1, 1, 1, 1]   \n",
       "1426529     [6, 6, 6, 6, 6, 6, 7, 7, 1, 1, 1, 1, 1, 1]   \n",
       "\n",
       "                                                       pos         y  \n",
       "0        [-4.495205, 0.23872827, 0.2655194, -2.2186477,...  4.908727  \n",
       "1        [5.031974, 1.0477633, -0.78691244, 2.5052114, ...  5.594835  \n",
       "2        [5.133087, 3.0571103, 1.31773, 3.1669762, 1.97...  5.797307  \n",
       "3        [-3.1639757, 0.444887, 0.63958794, -0.61085707...  4.975348  \n",
       "4        [3.4184594, -1.7734946, 0.5668929, 0.92932785,...  4.591497  \n",
       "...                                                    ...       ...  \n",
       "1426525  [1.2840662, -0.70706034, -4.2914615, 0.0923704...  4.966056  \n",
       "1426526  [-2.8832853, -1.1241183, -0.08936391, -0.50957...  5.751349  \n",
       "1426527  [-4.2444363, -1.4364237, 0.86895883, -1.959656...  7.486381  \n",
       "1426528  [5.4422665, -1.3197862, 1.2723867, 3.9824693, ...  8.159339  \n",
       "1426529  [-2.3979769, -1.8866018, 0.046255905, -3.61757...  5.851119  \n",
       "\n",
       "[1426530 rows x 3 columns]"
      ]
     },
     "execution_count": 11,
     "metadata": {},
     "output_type": "execute_result"
    }
   ],
   "source": [
    "d"
   ]
  },
  {
   "cell_type": "code",
   "execution_count": null,
   "metadata": {},
   "outputs": [],
   "source": []
  },
  {
   "cell_type": "code",
   "execution_count": 8,
   "metadata": {},
   "outputs": [
    {
     "name": "stdout",
     "output_type": "stream",
     "text": [
      "51.93097901344299\n"
     ]
    }
   ],
   "source": [
    "import time  # perhaps storing locs as list of np array is ok? saves memory and may allous us to do d[\"locs\"] = l\n",
    "t0 = time.time()\n",
    "d = pd.read_parquet(\"qm1b/df.parquet\")\n",
    "d[\"locs\"] = np.load(\"qm1b/locs.npz\")[\"locs\"]\n",
    "print(time.time()-t0)"
   ]
  },
  {
   "cell_type": "code",
   "execution_count": null,
   "metadata": {},
   "outputs": [],
   "source": [
    "l = l.tolist()"
   ]
  },
  {
   "cell_type": "code",
   "execution_count": 11,
   "metadata": {},
   "outputs": [],
   "source": [
    "indxs = np.random.permutation(df.shape[0])"
   ]
  },
  {
   "cell_type": "code",
   "execution_count": 13,
   "metadata": {},
   "outputs": [
    {
     "ename": "KeyError",
     "evalue": "\"None of [Index([65941161,  8322536, 45543450, 39443841, 62979457, 59037705,  7983726,\\n       19360457, 46646622, 55121462,\\n       ...\\n       14595080, 23193646,  3007305, 31025584, 61784111, 11459249, 61700027,\\n       49940572,  2878796, 39746859],\\n      dtype='int64', length=66602000)] are in the [columns]\"",
     "output_type": "error",
     "traceback": [
      "\u001b[0;31m---------------------------------------------------------------------------\u001b[0m",
      "\u001b[0;31mKeyError\u001b[0m                                  Traceback (most recent call last)",
      "Cell \u001b[0;32mIn[13], line 1\u001b[0m\n\u001b[0;32m----> 1\u001b[0m d \u001b[39m=\u001b[39m d[indxs\u001b[39m.\u001b[39;49mtolist()]\n\u001b[1;32m      2\u001b[0m l \u001b[39m=\u001b[39m l[indxs\u001b[39m.\u001b[39mtolist()]\n",
      "File \u001b[0;32m~/.local/lib/python3.8/site-packages/pandas/core/frame.py:3766\u001b[0m, in \u001b[0;36mDataFrame.__getitem__\u001b[0;34m(self, key)\u001b[0m\n\u001b[1;32m   3764\u001b[0m     \u001b[39mif\u001b[39;00m is_iterator(key):\n\u001b[1;32m   3765\u001b[0m         key \u001b[39m=\u001b[39m \u001b[39mlist\u001b[39m(key)\n\u001b[0;32m-> 3766\u001b[0m     indexer \u001b[39m=\u001b[39m \u001b[39mself\u001b[39;49m\u001b[39m.\u001b[39;49mcolumns\u001b[39m.\u001b[39;49m_get_indexer_strict(key, \u001b[39m\"\u001b[39;49m\u001b[39mcolumns\u001b[39;49m\u001b[39m\"\u001b[39;49m)[\u001b[39m1\u001b[39m]\n\u001b[1;32m   3768\u001b[0m \u001b[39m# take() does not accept boolean indexers\u001b[39;00m\n\u001b[1;32m   3769\u001b[0m \u001b[39mif\u001b[39;00m \u001b[39mgetattr\u001b[39m(indexer, \u001b[39m\"\u001b[39m\u001b[39mdtype\u001b[39m\u001b[39m\"\u001b[39m, \u001b[39mNone\u001b[39;00m) \u001b[39m==\u001b[39m \u001b[39mbool\u001b[39m:\n",
      "File \u001b[0;32m~/.local/lib/python3.8/site-packages/pandas/core/indexes/base.py:5876\u001b[0m, in \u001b[0;36mIndex._get_indexer_strict\u001b[0;34m(self, key, axis_name)\u001b[0m\n\u001b[1;32m   5873\u001b[0m \u001b[39melse\u001b[39;00m:\n\u001b[1;32m   5874\u001b[0m     keyarr, indexer, new_indexer \u001b[39m=\u001b[39m \u001b[39mself\u001b[39m\u001b[39m.\u001b[39m_reindex_non_unique(keyarr)\n\u001b[0;32m-> 5876\u001b[0m \u001b[39mself\u001b[39;49m\u001b[39m.\u001b[39;49m_raise_if_missing(keyarr, indexer, axis_name)\n\u001b[1;32m   5878\u001b[0m keyarr \u001b[39m=\u001b[39m \u001b[39mself\u001b[39m\u001b[39m.\u001b[39mtake(indexer)\n\u001b[1;32m   5879\u001b[0m \u001b[39mif\u001b[39;00m \u001b[39misinstance\u001b[39m(key, Index):\n\u001b[1;32m   5880\u001b[0m     \u001b[39m# GH 42790 - Preserve name from an Index\u001b[39;00m\n",
      "File \u001b[0;32m~/.local/lib/python3.8/site-packages/pandas/core/indexes/base.py:5935\u001b[0m, in \u001b[0;36mIndex._raise_if_missing\u001b[0;34m(self, key, indexer, axis_name)\u001b[0m\n\u001b[1;32m   5933\u001b[0m     \u001b[39mif\u001b[39;00m use_interval_msg:\n\u001b[1;32m   5934\u001b[0m         key \u001b[39m=\u001b[39m \u001b[39mlist\u001b[39m(key)\n\u001b[0;32m-> 5935\u001b[0m     \u001b[39mraise\u001b[39;00m \u001b[39mKeyError\u001b[39;00m(\u001b[39mf\u001b[39m\u001b[39m\"\u001b[39m\u001b[39mNone of [\u001b[39m\u001b[39m{\u001b[39;00mkey\u001b[39m}\u001b[39;00m\u001b[39m] are in the [\u001b[39m\u001b[39m{\u001b[39;00maxis_name\u001b[39m}\u001b[39;00m\u001b[39m]\u001b[39m\u001b[39m\"\u001b[39m)\n\u001b[1;32m   5937\u001b[0m not_found \u001b[39m=\u001b[39m \u001b[39mlist\u001b[39m(ensure_index(key)[missing_mask\u001b[39m.\u001b[39mnonzero()[\u001b[39m0\u001b[39m]]\u001b[39m.\u001b[39munique())\n\u001b[1;32m   5938\u001b[0m \u001b[39mraise\u001b[39;00m \u001b[39mKeyError\u001b[39;00m(\u001b[39mf\u001b[39m\u001b[39m\"\u001b[39m\u001b[39m{\u001b[39;00mnot_found\u001b[39m}\u001b[39;00m\u001b[39m not in index\u001b[39m\u001b[39m\"\u001b[39m)\n",
      "\u001b[0;31mKeyError\u001b[0m: \"None of [Index([65941161,  8322536, 45543450, 39443841, 62979457, 59037705,  7983726,\\n       19360457, 46646622, 55121462,\\n       ...\\n       14595080, 23193646,  3007305, 31025584, 61784111, 11459249, 61700027,\\n       49940572,  2878796, 39746859],\\n      dtype='int64', length=66602000)] are in the [columns]\""
     ]
    }
   ],
   "source": [
    "d = d[indxs.tolist()]\n",
    "l = l[indxs.tolist()]"
   ]
  },
  {
   "cell_type": "code",
   "execution_count": 10,
   "metadata": {},
   "outputs": [
    {
     "name": "stdout",
     "output_type": "stream",
     "text": [
      "0 4.953149244910048 4.953993313487519\n",
      "1 5.037165005155293 5.036685702192981\n"
     ]
    },
    {
     "ename": "KeyboardInterrupt",
     "evalue": "",
     "output_type": "error",
     "traceback": [
      "\u001b[0;31m---------------------------------------------------------------------------\u001b[0m",
      "\u001b[0;31mKeyboardInterrupt\u001b[0m                         Traceback (most recent call last)",
      "Cell \u001b[0;32mIn[10], line 87\u001b[0m\n\u001b[1;32m     78\u001b[0m   \u001b[39m# so the first atom positions and smile string wasn't saved \u001b[39;00m\n\u001b[1;32m     79\u001b[0m   \u001b[39m# instead, we saved the second smile string and second atom locations, and theese where saved together with the result of the first computation! \u001b[39;00m\n\u001b[1;32m     80\u001b[0m   \u001b[39m# => if we try to recompute pyscf on (atomstring[0], locs[0]) we get hlgap[1]\u001b[39;00m\n\u001b[0;32m   (...)\u001b[0m\n\u001b[1;32m     83\u001b[0m \u001b[39m#atoms = df[\"atoms\"][0:1]\u001b[39;00m\n\u001b[1;32m     84\u001b[0m \u001b[39m#locs = alllocs[0] \u001b[39;00m\n\u001b[1;32m     86\u001b[0m \u001b[39mfor\u001b[39;00m j \u001b[39min\u001b[39;00m \u001b[39mrange\u001b[39m(\u001b[39m100\u001b[39m):\n\u001b[0;32m---> 87\u001b[0m   \u001b[39mprint\u001b[39m(j, recompute(df[\u001b[39m\"\u001b[39;49m\u001b[39matoms\u001b[39;49m\u001b[39m\"\u001b[39;49m]\u001b[39m.\u001b[39;49mvalues[j], locs[j]), df[\u001b[39m\"\u001b[39m\u001b[39mhlgap\u001b[39m\u001b[39m\"\u001b[39m]\u001b[39m.\u001b[39mvalues[j])\n",
      "Cell \u001b[0;32mIn[10], line 70\u001b[0m, in \u001b[0;36mrecompute\u001b[0;34m(atoms, locs)\u001b[0m\n\u001b[1;32m     67\u001b[0m lumo \u001b[39m=\u001b[39m n_electrons_half\n\u001b[1;32m     68\u001b[0m homo \u001b[39m=\u001b[39m lumo \u001b[39m-\u001b[39m \u001b[39m1\u001b[39m\n\u001b[0;32m---> 70\u001b[0m pyscf_energy    \u001b[39m=\u001b[39m mf\u001b[39m.\u001b[39;49mkernel()  \n\u001b[1;32m     72\u001b[0m pyscf_homo \u001b[39m=\u001b[39m mf\u001b[39m.\u001b[39mmo_energy[homo]\u001b[39m*\u001b[39mhartree_to_eV\n\u001b[1;32m     73\u001b[0m pyscf_lumo \u001b[39m=\u001b[39m mf\u001b[39m.\u001b[39mmo_energy[lumo]\u001b[39m*\u001b[39mhartree_to_eV\n",
      "File \u001b[0;32m<string>:2\u001b[0m, in \u001b[0;36mkernel\u001b[0;34m(self, dm0, **kwargs)\u001b[0m\n",
      "File \u001b[0;32m~/miniconda3/envs/dft/lib/python3.8/site-packages/pyscf/scf/hf.py:1692\u001b[0m, in \u001b[0;36mSCF.scf\u001b[0;34m(self, dm0, **kwargs)\u001b[0m\n\u001b[1;32m   1687\u001b[0m \u001b[39mself\u001b[39m\u001b[39m.\u001b[39mbuild(\u001b[39mself\u001b[39m\u001b[39m.\u001b[39mmol)\n\u001b[1;32m   1689\u001b[0m \u001b[39mif\u001b[39;00m \u001b[39mself\u001b[39m\u001b[39m.\u001b[39mmax_cycle \u001b[39m>\u001b[39m \u001b[39m0\u001b[39m \u001b[39mor\u001b[39;00m \u001b[39mself\u001b[39m\u001b[39m.\u001b[39mmo_coeff \u001b[39mis\u001b[39;00m \u001b[39mNone\u001b[39;00m:\n\u001b[1;32m   1690\u001b[0m     \u001b[39mself\u001b[39m\u001b[39m.\u001b[39mconverged, \u001b[39mself\u001b[39m\u001b[39m.\u001b[39me_tot, \\\n\u001b[1;32m   1691\u001b[0m             \u001b[39mself\u001b[39m\u001b[39m.\u001b[39mmo_energy, \u001b[39mself\u001b[39m\u001b[39m.\u001b[39mmo_coeff, \u001b[39mself\u001b[39m\u001b[39m.\u001b[39mmo_occ \u001b[39m=\u001b[39m \\\n\u001b[0;32m-> 1692\u001b[0m             kernel(\u001b[39mself\u001b[39;49m, \u001b[39mself\u001b[39;49m\u001b[39m.\u001b[39;49mconv_tol, \u001b[39mself\u001b[39;49m\u001b[39m.\u001b[39;49mconv_tol_grad,\n\u001b[1;32m   1693\u001b[0m                    dm0\u001b[39m=\u001b[39;49mdm0, callback\u001b[39m=\u001b[39;49m\u001b[39mself\u001b[39;49m\u001b[39m.\u001b[39;49mcallback,\n\u001b[1;32m   1694\u001b[0m                    conv_check\u001b[39m=\u001b[39;49m\u001b[39mself\u001b[39;49m\u001b[39m.\u001b[39;49mconv_check, \u001b[39m*\u001b[39;49m\u001b[39m*\u001b[39;49mkwargs)\n\u001b[1;32m   1695\u001b[0m \u001b[39melse\u001b[39;00m:\n\u001b[1;32m   1696\u001b[0m     \u001b[39m# Avoid to update SCF orbitals in the non-SCF initialization\u001b[39;00m\n\u001b[1;32m   1697\u001b[0m     \u001b[39m# (issue #495).  But run regular SCF for initial guess if SCF was\u001b[39;00m\n\u001b[1;32m   1698\u001b[0m     \u001b[39m# not initialized.\u001b[39;00m\n\u001b[1;32m   1699\u001b[0m     \u001b[39mself\u001b[39m\u001b[39m.\u001b[39me_tot \u001b[39m=\u001b[39m kernel(\u001b[39mself\u001b[39m, \u001b[39mself\u001b[39m\u001b[39m.\u001b[39mconv_tol, \u001b[39mself\u001b[39m\u001b[39m.\u001b[39mconv_tol_grad,\n\u001b[1;32m   1700\u001b[0m                         dm0\u001b[39m=\u001b[39mdm0, callback\u001b[39m=\u001b[39m\u001b[39mself\u001b[39m\u001b[39m.\u001b[39mcallback,\n\u001b[1;32m   1701\u001b[0m                         conv_check\u001b[39m=\u001b[39m\u001b[39mself\u001b[39m\u001b[39m.\u001b[39mconv_check, \u001b[39m*\u001b[39m\u001b[39m*\u001b[39mkwargs)[\u001b[39m1\u001b[39m]\n",
      "File \u001b[0;32m~/miniconda3/envs/dft/lib/python3.8/site-packages/pyscf/scf/hf.py:178\u001b[0m, in \u001b[0;36mkernel\u001b[0;34m(mf, conv_tol, conv_tol_grad, dump_chk, dm0, callback, conv_check, **kwargs)\u001b[0m\n\u001b[1;32m    176\u001b[0m \u001b[39m# attach mo_coeff and mo_occ to dm to improve DFT get_veff efficiency\u001b[39;00m\n\u001b[1;32m    177\u001b[0m dm \u001b[39m=\u001b[39m lib\u001b[39m.\u001b[39mtag_array(dm, mo_coeff\u001b[39m=\u001b[39mmo_coeff, mo_occ\u001b[39m=\u001b[39mmo_occ)\n\u001b[0;32m--> 178\u001b[0m vhf \u001b[39m=\u001b[39m mf\u001b[39m.\u001b[39;49mget_veff(mol, dm, dm_last, vhf)\n\u001b[1;32m    179\u001b[0m e_tot \u001b[39m=\u001b[39m mf\u001b[39m.\u001b[39menergy_tot(dm, h1e, vhf)\n\u001b[1;32m    181\u001b[0m \u001b[39m# Here Fock matrix is h1e + vhf, without DIIS.  Calling get_fock\u001b[39;00m\n\u001b[1;32m    182\u001b[0m \u001b[39m# instead of the statement \"fock = h1e + vhf\" because Fock matrix may\u001b[39;00m\n\u001b[1;32m    183\u001b[0m \u001b[39m# be modified in some methods.\u001b[39;00m\n",
      "File \u001b[0;32m~/miniconda3/envs/dft/lib/python3.8/site-packages/pyscf/dft/rks.py:80\u001b[0m, in \u001b[0;36mget_veff\u001b[0;34m(ks, mol, dm, dm_last, vhf_last, hermi)\u001b[0m\n\u001b[1;32m     78\u001b[0m \u001b[39melse\u001b[39;00m:\n\u001b[1;32m     79\u001b[0m     max_memory \u001b[39m=\u001b[39m ks\u001b[39m.\u001b[39mmax_memory \u001b[39m-\u001b[39m lib\u001b[39m.\u001b[39mcurrent_memory()[\u001b[39m0\u001b[39m]\n\u001b[0;32m---> 80\u001b[0m     n, exc, vxc \u001b[39m=\u001b[39m ni\u001b[39m.\u001b[39;49mnr_rks(mol, ks\u001b[39m.\u001b[39;49mgrids, ks\u001b[39m.\u001b[39;49mxc, dm, max_memory\u001b[39m=\u001b[39;49mmax_memory)\n\u001b[1;32m     81\u001b[0m     \u001b[39mif\u001b[39;00m ks\u001b[39m.\u001b[39mnlc:\n\u001b[1;32m     82\u001b[0m         \u001b[39massert\u001b[39;00m \u001b[39m'\u001b[39m\u001b[39mVV10\u001b[39m\u001b[39m'\u001b[39m \u001b[39min\u001b[39;00m ks\u001b[39m.\u001b[39mnlc\u001b[39m.\u001b[39mupper()\n",
      "File \u001b[0;32m~/miniconda3/envs/dft/lib/python3.8/site-packages/pyscf/dft/numint.py:1168\u001b[0m, in \u001b[0;36mnr_rks\u001b[0;34m(ni, mol, grids, xc_code, dms, relativity, hermi, max_memory, verbose)\u001b[0m\n\u001b[1;32m   1166\u001b[0m \u001b[39melif\u001b[39;00m xctype \u001b[39m==\u001b[39m \u001b[39m'\u001b[39m\u001b[39mGGA\u001b[39m\u001b[39m'\u001b[39m:\n\u001b[1;32m   1167\u001b[0m     ao_deriv \u001b[39m=\u001b[39m \u001b[39m1\u001b[39m\n\u001b[0;32m-> 1168\u001b[0m     \u001b[39mfor\u001b[39;00m i, ao, mask, wv \u001b[39min\u001b[39;00m block_loop(ao_deriv):\n\u001b[1;32m   1169\u001b[0m         wv[\u001b[39m0\u001b[39m] \u001b[39m*\u001b[39m\u001b[39m=\u001b[39m \u001b[39m.5\u001b[39m  \u001b[39m# *.5 because vmat + vmat.T at the end\u001b[39;00m\n\u001b[1;32m   1170\u001b[0m         aow \u001b[39m=\u001b[39m _scale_ao_sparse(ao[:\u001b[39m4\u001b[39m], wv[:\u001b[39m4\u001b[39m], mask, ao_loc, out\u001b[39m=\u001b[39maow)\n",
      "File \u001b[0;32m~/miniconda3/envs/dft/lib/python3.8/site-packages/pyscf/dft/numint.py:1148\u001b[0m, in \u001b[0;36mnr_rks.<locals>.block_loop\u001b[0;34m(ao_deriv)\u001b[0m\n\u001b[1;32m   1146\u001b[0m \u001b[39mfor\u001b[39;00m i \u001b[39min\u001b[39;00m \u001b[39mrange\u001b[39m(nset):\n\u001b[1;32m   1147\u001b[0m     rho \u001b[39m=\u001b[39m make_rho(i, ao, mask, xctype)\n\u001b[0;32m-> 1148\u001b[0m     exc, vxc \u001b[39m=\u001b[39m ni\u001b[39m.\u001b[39;49meval_xc_eff(xc_code, rho, deriv\u001b[39m=\u001b[39;49m\u001b[39m1\u001b[39;49m, xctype\u001b[39m=\u001b[39;49mxctype)[:\u001b[39m2\u001b[39m]\n\u001b[1;32m   1149\u001b[0m     \u001b[39mif\u001b[39;00m xctype \u001b[39m==\u001b[39m \u001b[39m'\u001b[39m\u001b[39mLDA\u001b[39m\u001b[39m'\u001b[39m:\n\u001b[1;32m   1150\u001b[0m         den \u001b[39m=\u001b[39m rho \u001b[39m*\u001b[39m weight\n",
      "File \u001b[0;32m~/miniconda3/envs/dft/lib/python3.8/site-packages/pyscf/dft/numint.py:2752\u001b[0m, in \u001b[0;36m_NumIntMixin.eval_xc_eff\u001b[0;34m(self, xc_code, rho, deriv, omega, xctype, verbose)\u001b[0m\n\u001b[1;32m   2749\u001b[0m         rhop[\u001b[39m4\u001b[39m] \u001b[39m=\u001b[39m \u001b[39m0\u001b[39m\n\u001b[1;32m   2750\u001b[0m         rhop[\u001b[39m5\u001b[39m] \u001b[39m=\u001b[39m rho[\u001b[39m4\u001b[39m]\n\u001b[0;32m-> 2752\u001b[0m exc, vxc, fxc, kxc \u001b[39m=\u001b[39m \u001b[39mself\u001b[39;49m\u001b[39m.\u001b[39;49meval_xc(xc_code, rhop, spin, \u001b[39m0\u001b[39;49m, deriv, omega,\n\u001b[1;32m   2753\u001b[0m                                   verbose)\n\u001b[1;32m   2754\u001b[0m \u001b[39mif\u001b[39;00m deriv \u001b[39m>\u001b[39m \u001b[39m2\u001b[39m:\n\u001b[1;32m   2755\u001b[0m     kxc \u001b[39m=\u001b[39m xc_deriv\u001b[39m.\u001b[39mtransform_kxc(rhop, fxc, kxc, xctype, spin)\n",
      "File \u001b[0;32m~/miniconda3/envs/dft/lib/python3.8/site-packages/pyscf/dft/numint.py:2694\u001b[0m, in \u001b[0;36m_NumIntMixin.eval_xc\u001b[0;34m(self, xc_code, rho, spin, relativity, deriv, omega, verbose)\u001b[0m\n\u001b[1;32m   2690\u001b[0m \u001b[39m@lib\u001b[39m\u001b[39m.\u001b[39mwith_doc(libxc\u001b[39m.\u001b[39meval_xc\u001b[39m.\u001b[39m\u001b[39m__doc__\u001b[39m)\n\u001b[1;32m   2691\u001b[0m \u001b[39mdef\u001b[39;00m \u001b[39meval_xc\u001b[39m(\u001b[39mself\u001b[39m, xc_code, rho, spin\u001b[39m=\u001b[39m\u001b[39m0\u001b[39m, relativity\u001b[39m=\u001b[39m\u001b[39m0\u001b[39m, deriv\u001b[39m=\u001b[39m\u001b[39m1\u001b[39m, omega\u001b[39m=\u001b[39m\u001b[39mNone\u001b[39;00m,\n\u001b[1;32m   2692\u001b[0m             verbose\u001b[39m=\u001b[39m\u001b[39mNone\u001b[39;00m):\n\u001b[1;32m   2693\u001b[0m     \u001b[39mif\u001b[39;00m omega \u001b[39mis\u001b[39;00m \u001b[39mNone\u001b[39;00m: omega \u001b[39m=\u001b[39m \u001b[39mself\u001b[39m\u001b[39m.\u001b[39momega\n\u001b[0;32m-> 2694\u001b[0m     \u001b[39mreturn\u001b[39;00m \u001b[39mself\u001b[39;49m\u001b[39m.\u001b[39;49mlibxc\u001b[39m.\u001b[39;49meval_xc(xc_code, rho, spin, relativity, deriv,\n\u001b[1;32m   2695\u001b[0m                               omega, verbose)\n",
      "File \u001b[0;32m~/miniconda3/envs/dft/lib/python3.8/site-packages/pyscf/dft/libxc.py:1474\u001b[0m, in \u001b[0;36meval_xc\u001b[0;34m(xc_code, rho, spin, relativity, deriv, omega, verbose)\u001b[0m\n\u001b[1;32m   1333\u001b[0m \u001b[39mdef\u001b[39;00m \u001b[39meval_xc\u001b[39m(xc_code, rho, spin\u001b[39m=\u001b[39m\u001b[39m0\u001b[39m, relativity\u001b[39m=\u001b[39m\u001b[39m0\u001b[39m, deriv\u001b[39m=\u001b[39m\u001b[39m1\u001b[39m, omega\u001b[39m=\u001b[39m\u001b[39mNone\u001b[39;00m, verbose\u001b[39m=\u001b[39m\u001b[39mNone\u001b[39;00m):\n\u001b[1;32m   1334\u001b[0m \u001b[39m    \u001b[39m\u001b[39mr\u001b[39m\u001b[39m'''Interface to call libxc library to evaluate XC functional, potential\u001b[39;00m\n\u001b[1;32m   1335\u001b[0m \u001b[39m    and functional derivatives.\u001b[39;00m\n\u001b[1;32m   1336\u001b[0m \n\u001b[0;32m   (...)\u001b[0m\n\u001b[1;32m   1472\u001b[0m \u001b[39m        see also libxc_itrf.c\u001b[39;00m\n\u001b[1;32m   1473\u001b[0m \u001b[39m    '''\u001b[39;00m  \u001b[39m# noqa: E501\u001b[39;00m\n\u001b[0;32m-> 1474\u001b[0m     hyb, fn_facs \u001b[39m=\u001b[39m parse_xc(xc_code)\n\u001b[1;32m   1475\u001b[0m     \u001b[39mif\u001b[39;00m omega \u001b[39mis\u001b[39;00m \u001b[39mnot\u001b[39;00m \u001b[39mNone\u001b[39;00m:\n\u001b[1;32m   1476\u001b[0m         hyb[\u001b[39m2\u001b[39m] \u001b[39m=\u001b[39m \u001b[39mfloat\u001b[39m(omega)\n",
      "File \u001b[0;32m~/miniconda3/envs/dft/lib/python3.8/site-packages/pyscf/dft/libxc.py:1295\u001b[0m, in \u001b[0;36mparse_xc\u001b[0;34m(description)\u001b[0m\n\u001b[1;32m   1293\u001b[0m \u001b[39melse\u001b[39;00m:\n\u001b[1;32m   1294\u001b[0m     \u001b[39mfor\u001b[39;00m token \u001b[39min\u001b[39;00m description\u001b[39m.\u001b[39mreplace(\u001b[39m'\u001b[39m\u001b[39m-\u001b[39m\u001b[39m'\u001b[39m, \u001b[39m'\u001b[39m\u001b[39m+-\u001b[39m\u001b[39m'\u001b[39m)\u001b[39m.\u001b[39mreplace(\u001b[39m'\u001b[39m\u001b[39m;+\u001b[39m\u001b[39m'\u001b[39m, \u001b[39m'\u001b[39m\u001b[39m;\u001b[39m\u001b[39m'\u001b[39m)\u001b[39m.\u001b[39msplit(\u001b[39m'\u001b[39m\u001b[39m+\u001b[39m\u001b[39m'\u001b[39m):\n\u001b[0;32m-> 1295\u001b[0m         parse_token(token, \u001b[39m'\u001b[39;49m\u001b[39mcompound XC\u001b[39;49m\u001b[39m'\u001b[39;49m, search_xc_alias\u001b[39m=\u001b[39;49m\u001b[39mTrue\u001b[39;49;00m)\n\u001b[1;32m   1296\u001b[0m \u001b[39mif\u001b[39;00m hyb[\u001b[39m2\u001b[39m] \u001b[39m==\u001b[39m \u001b[39m0\u001b[39m: \u001b[39m# No omega is assigned. LR_HF is 0 for normal Coulomb operator\u001b[39;00m\n\u001b[1;32m   1297\u001b[0m     hyb[\u001b[39m1\u001b[39m] \u001b[39m=\u001b[39m \u001b[39m0\u001b[39m\n",
      "File \u001b[0;32m~/miniconda3/envs/dft/lib/python3.8/site-packages/pyscf/dft/libxc.py:1250\u001b[0m, in \u001b[0;36mparse_xc.<locals>.parse_token\u001b[0;34m(token, ftype, search_xc_alias)\u001b[0m\n\u001b[1;32m   1248\u001b[0m                         \u001b[39mraise\u001b[39;00m \u001b[39mKeyError\u001b[39;00m(\u001b[39m'\u001b[39m\u001b[39mUnknown \u001b[39m\u001b[39m%s\u001b[39;00m\u001b[39m functional  \u001b[39m\u001b[39m%s\u001b[39;00m\u001b[39m'\u001b[39m \u001b[39m%\u001b[39m (ftype, key))\n\u001b[1;32m   1249\u001b[0m                 \u001b[39mif\u001b[39;00m \u001b[39misinstance\u001b[39m(x_id, \u001b[39mstr\u001b[39m):\n\u001b[0;32m-> 1250\u001b[0m                     hyb1, fn_facs1 \u001b[39m=\u001b[39m parse_xc(x_id)\n\u001b[1;32m   1251\u001b[0m \u001b[39m# Recursively scale the composed functional, to support e.g. '0.5*b3lyp'\u001b[39;00m\n\u001b[1;32m   1252\u001b[0m                     \u001b[39mif\u001b[39;00m hyb1[\u001b[39m0\u001b[39m] \u001b[39m!=\u001b[39m \u001b[39m0\u001b[39m \u001b[39mor\u001b[39;00m hyb1[\u001b[39m1\u001b[39m] \u001b[39m!=\u001b[39m \u001b[39m0\u001b[39m:\n",
      "File \u001b[0;32m~/miniconda3/envs/dft/lib/python3.8/site-packages/pyscf/dft/libxc.py:1295\u001b[0m, in \u001b[0;36mparse_xc\u001b[0;34m(description)\u001b[0m\n\u001b[1;32m   1293\u001b[0m \u001b[39melse\u001b[39;00m:\n\u001b[1;32m   1294\u001b[0m     \u001b[39mfor\u001b[39;00m token \u001b[39min\u001b[39;00m description\u001b[39m.\u001b[39mreplace(\u001b[39m'\u001b[39m\u001b[39m-\u001b[39m\u001b[39m'\u001b[39m, \u001b[39m'\u001b[39m\u001b[39m+-\u001b[39m\u001b[39m'\u001b[39m)\u001b[39m.\u001b[39mreplace(\u001b[39m'\u001b[39m\u001b[39m;+\u001b[39m\u001b[39m'\u001b[39m, \u001b[39m'\u001b[39m\u001b[39m;\u001b[39m\u001b[39m'\u001b[39m)\u001b[39m.\u001b[39msplit(\u001b[39m'\u001b[39m\u001b[39m+\u001b[39m\u001b[39m'\u001b[39m):\n\u001b[0;32m-> 1295\u001b[0m         parse_token(token, \u001b[39m'\u001b[39;49m\u001b[39mcompound XC\u001b[39;49m\u001b[39m'\u001b[39;49m, search_xc_alias\u001b[39m=\u001b[39;49m\u001b[39mTrue\u001b[39;49;00m)\n\u001b[1;32m   1296\u001b[0m \u001b[39mif\u001b[39;00m hyb[\u001b[39m2\u001b[39m] \u001b[39m==\u001b[39m \u001b[39m0\u001b[39m: \u001b[39m# No omega is assigned. LR_HF is 0 for normal Coulomb operator\u001b[39;00m\n\u001b[1;32m   1297\u001b[0m     hyb[\u001b[39m1\u001b[39m] \u001b[39m=\u001b[39m \u001b[39m0\u001b[39m\n",
      "File \u001b[0;32m~/miniconda3/envs/dft/lib/python3.8/site-packages/pyscf/dft/libxc.py:1250\u001b[0m, in \u001b[0;36mparse_xc.<locals>.parse_token\u001b[0;34m(token, ftype, search_xc_alias)\u001b[0m\n\u001b[1;32m   1248\u001b[0m                         \u001b[39mraise\u001b[39;00m \u001b[39mKeyError\u001b[39;00m(\u001b[39m'\u001b[39m\u001b[39mUnknown \u001b[39m\u001b[39m%s\u001b[39;00m\u001b[39m functional  \u001b[39m\u001b[39m%s\u001b[39;00m\u001b[39m'\u001b[39m \u001b[39m%\u001b[39m (ftype, key))\n\u001b[1;32m   1249\u001b[0m                 \u001b[39mif\u001b[39;00m \u001b[39misinstance\u001b[39m(x_id, \u001b[39mstr\u001b[39m):\n\u001b[0;32m-> 1250\u001b[0m                     hyb1, fn_facs1 \u001b[39m=\u001b[39m parse_xc(x_id)\n\u001b[1;32m   1251\u001b[0m \u001b[39m# Recursively scale the composed functional, to support e.g. '0.5*b3lyp'\u001b[39;00m\n\u001b[1;32m   1252\u001b[0m                     \u001b[39mif\u001b[39;00m hyb1[\u001b[39m0\u001b[39m] \u001b[39m!=\u001b[39m \u001b[39m0\u001b[39m \u001b[39mor\u001b[39;00m hyb1[\u001b[39m1\u001b[39m] \u001b[39m!=\u001b[39m \u001b[39m0\u001b[39m:\n",
      "File \u001b[0;32m~/miniconda3/envs/dft/lib/python3.8/site-packages/pyscf/dft/libxc.py:1292\u001b[0m, in \u001b[0;36mparse_xc\u001b[0;34m(description)\u001b[0m\n\u001b[1;32m   1290\u001b[0m         parse_token(token, \u001b[39m'\u001b[39m\u001b[39mX or K\u001b[39m\u001b[39m'\u001b[39m)\n\u001b[1;32m   1291\u001b[0m     \u001b[39mfor\u001b[39;00m token \u001b[39min\u001b[39;00m c_code\u001b[39m.\u001b[39mreplace(\u001b[39m'\u001b[39m\u001b[39m-\u001b[39m\u001b[39m'\u001b[39m, \u001b[39m'\u001b[39m\u001b[39m+-\u001b[39m\u001b[39m'\u001b[39m)\u001b[39m.\u001b[39mreplace(\u001b[39m'\u001b[39m\u001b[39m;+\u001b[39m\u001b[39m'\u001b[39m, \u001b[39m'\u001b[39m\u001b[39m;\u001b[39m\u001b[39m'\u001b[39m)\u001b[39m.\u001b[39msplit(\u001b[39m'\u001b[39m\u001b[39m+\u001b[39m\u001b[39m'\u001b[39m):\n\u001b[0;32m-> 1292\u001b[0m         parse_token(token, \u001b[39m'\u001b[39;49m\u001b[39mC\u001b[39;49m\u001b[39m'\u001b[39;49m)\n\u001b[1;32m   1293\u001b[0m \u001b[39melse\u001b[39;00m:\n\u001b[1;32m   1294\u001b[0m     \u001b[39mfor\u001b[39;00m token \u001b[39min\u001b[39;00m description\u001b[39m.\u001b[39mreplace(\u001b[39m'\u001b[39m\u001b[39m-\u001b[39m\u001b[39m'\u001b[39m, \u001b[39m'\u001b[39m\u001b[39m+-\u001b[39m\u001b[39m'\u001b[39m)\u001b[39m.\u001b[39mreplace(\u001b[39m'\u001b[39m\u001b[39m;+\u001b[39m\u001b[39m'\u001b[39m, \u001b[39m'\u001b[39m\u001b[39m;\u001b[39m\u001b[39m'\u001b[39m)\u001b[39m.\u001b[39msplit(\u001b[39m'\u001b[39m\u001b[39m+\u001b[39m\u001b[39m'\u001b[39m):\n",
      "File \u001b[0;32m~/miniconda3/envs/dft/lib/python3.8/site-packages/pyscf/dft/libxc.py:1229\u001b[0m, in \u001b[0;36mparse_xc.<locals>.parse_token\u001b[0;34m(token, ftype, search_xc_alias)\u001b[0m\n\u001b[1;32m   1227\u001b[0m \u001b[39melse\u001b[39;00m:\n\u001b[1;32m   1228\u001b[0m     possible_xc_for \u001b[39m=\u001b[39m fpossible_dic[ftype]\n\u001b[0;32m-> 1229\u001b[0m     possible_xc \u001b[39m=\u001b[39m XC_KEYS\u001b[39m.\u001b[39mintersection(possible_xc_for(key))\n\u001b[1;32m   1230\u001b[0m     \u001b[39mif\u001b[39;00m possible_xc:\n\u001b[1;32m   1231\u001b[0m         \u001b[39mif\u001b[39;00m \u001b[39mlen\u001b[39m(possible_xc) \u001b[39m>\u001b[39m \u001b[39m1\u001b[39m:\n",
      "File \u001b[0;32m~/miniconda3/envs/dft/lib/python3.8/site-packages/pyscf/dft/libxc.py:1271\u001b[0m, in \u001b[0;36mparse_xc.<locals>.possible_c_for\u001b[0;34m(key)\u001b[0m\n\u001b[1;32m   1269\u001b[0m \u001b[39mdef\u001b[39;00m \u001b[39mpossible_x_k_for\u001b[39m(key):\n\u001b[1;32m   1270\u001b[0m     \u001b[39mreturn\u001b[39;00m possible_x_for(key)\u001b[39m.\u001b[39munion(possible_k_for(key))\n\u001b[0;32m-> 1271\u001b[0m \u001b[39mdef\u001b[39;00m \u001b[39mpossible_c_for\u001b[39m(key):\n\u001b[1;32m   1272\u001b[0m     \u001b[39mreturn\u001b[39;00m \u001b[39mset\u001b[39m((key,\n\u001b[1;32m   1273\u001b[0m                 \u001b[39m'\u001b[39m\u001b[39mLDA_C_\u001b[39m\u001b[39m'\u001b[39m\u001b[39m+\u001b[39mkey, \u001b[39m'\u001b[39m\u001b[39mGGA_C_\u001b[39m\u001b[39m'\u001b[39m\u001b[39m+\u001b[39mkey, \u001b[39m'\u001b[39m\u001b[39mMGGA_C_\u001b[39m\u001b[39m'\u001b[39m\u001b[39m+\u001b[39mkey))\n\u001b[1;32m   1274\u001b[0m fpossible_dic \u001b[39m=\u001b[39m {\u001b[39m'\u001b[39m\u001b[39mX\u001b[39m\u001b[39m'\u001b[39m: possible_x_for,\n\u001b[1;32m   1275\u001b[0m                  \u001b[39m'\u001b[39m\u001b[39mC\u001b[39m\u001b[39m'\u001b[39m: possible_c_for,\n\u001b[1;32m   1276\u001b[0m                  \u001b[39m'\u001b[39m\u001b[39mcompound XC\u001b[39m\u001b[39m'\u001b[39m: possible_xc_for,\n\u001b[1;32m   1277\u001b[0m                  \u001b[39m'\u001b[39m\u001b[39mK\u001b[39m\u001b[39m'\u001b[39m: possible_k_for,\n\u001b[1;32m   1278\u001b[0m                  \u001b[39m'\u001b[39m\u001b[39mX or K\u001b[39m\u001b[39m'\u001b[39m: possible_x_k_for}\n",
      "\u001b[0;31mKeyboardInterrupt\u001b[0m: "
     ]
    }
   ],
   "source": [
    "# test \n",
    "# try to reproduce hlgap using pyscf andfix off-by-one! \n",
    "import os\n",
    "os.environ[\"OMP_NUM_THREADS\"] = \"15\"\n",
    "\n",
    "import matplotlib.pyplot as plt\n",
    "import seaborn as sns\n",
    "sns.set_style(\"darkgrid\")\n",
    "from tqdm import tqdm \n",
    "import scipy \n",
    "import os\n",
    "import pyscf \n",
    "from pyscf import gto, scf\n",
    "from pyscf import __config__ \n",
    "import argparse\n",
    "from natsort import natsorted\n",
    "import sys \n",
    "from rdkit import Chem  \n",
    "from rdkit.Chem import AllChem\n",
    "import csv \n",
    "import numpy as np \n",
    "import pyscf.dft\n",
    "from pyscf.scf import hf\n",
    "from pyscf.gto.mole import Mole\n",
    "from pyscf import scf \n",
    "from pyscf import gto \n",
    "import time \n",
    "import pandas as pd \n",
    "import re \n",
    "#from pyscf_utils.fast_grid import build_grid\n",
    "from rdkit import Chem # \n",
    "from rdkit.Chem import AllChem\n",
    "from rdkit import RDLogger\n",
    "\n",
    "__config__.dft_rks_RKS_grids_level = 0 #args.plevel \n",
    "\n",
    "angstrom_to_bohr = 1.88973\n",
    "hartree_to_eV    = 27.2114\n",
    "\n",
    "def get_atom_string(atoms, locs):\n",
    "    atom_string = atoms \n",
    "    atoms = re.findall('[a-zA-Z][^A-Z]*', atoms)\n",
    "    str = \"\"\n",
    "    #print(locs)\n",
    "    for atom, loc in zip(atoms, locs): \n",
    "      str += \"%s %4f %4f %4f; \"%((atom,) + tuple(loc) )\n",
    "    return atom_string, str \n",
    "\n",
    "\n",
    "def recompute(atoms, locs):\n",
    "  locs = locs[locs!=0].reshape(-1, 3)\n",
    "  #print(locs)\n",
    "  atom_string, string = get_atom_string(\" \".join(atoms), locs)\n",
    "\n",
    "  #mol = Mole() \n",
    "  #mol = build_mol(mol, atom=string, unit=\"Bohr\", basis=\"sto3g\", spin=0, verbose=0)\n",
    "  mol = Mole( atom=string, unit=\"Bohr\", basis=\"sto3g\", spin=0, verbose=0)\n",
    "  mol.build()\n",
    "\n",
    "  n_electrons      = mol.nelectron                                                     \n",
    "  n_electrons_half = n_electrons//2 \n",
    "\n",
    "  mf = scf.RKS(mol) \n",
    "  mf.xc = \"b3lyp\" \n",
    "\n",
    "  mf.diis_space = 9 \n",
    "  lumo = n_electrons_half\n",
    "  homo = lumo - 1\n",
    "\n",
    "  pyscf_energy    = mf.kernel()  \n",
    "\n",
    "  pyscf_homo = mf.mo_energy[homo]*hartree_to_eV\n",
    "  pyscf_lumo = mf.mo_energy[lumo]*hartree_to_eV\n",
    "  pyscf_hlgap = np.abs(pyscf_homo - pyscf_lumo )\n",
    "  #print(df[\"hlgap\"][:50])\n",
    "  return pyscf_hlgap\n",
    "\n",
    "  # so the first atom positions and smile string wasn't saved \n",
    "  # instead, we saved the second smile string and second atom locations, and theese where saved together with the result of the first computation! \n",
    "  # => if we try to recompute pyscf on (atomstring[0], locs[0]) we get hlgap[1]\n",
    "  # this means we can recover the dataset! we just have to, for each smile string, offset it by one!\n",
    "\n",
    "#atoms = df[\"atoms\"][0:1]\n",
    "#locs = alllocs[0] \n",
    "\n",
    "for j in range(100):\n",
    "  \n",
    "  print(j, recompute(df[\"atoms\"].values[j], locs[j]), df[\"hlgap\"].values[j])"
   ]
  },
  {
   "cell_type": "code",
   "execution_count": null,
   "metadata": {},
   "outputs": [],
   "source": []
  },
  {
   "cell_type": "code",
   "execution_count": null,
   "metadata": {},
   "outputs": [],
   "source": []
  }
 ],
 "metadata": {
  "kernelspec": {
   "display_name": "dft",
   "language": "python",
   "name": "python3"
  },
  "language_info": {
   "codemirror_mode": {
    "name": "ipython",
    "version": 3
   },
   "file_extension": ".py",
   "mimetype": "text/x-python",
   "name": "python",
   "nbconvert_exporter": "python",
   "pygments_lexer": "ipython3",
   "version": "3.8.10"
  },
  "orig_nbformat": 4
 },
 "nbformat": 4,
 "nbformat_minor": 2
}
