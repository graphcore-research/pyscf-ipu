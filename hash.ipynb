{
 "cells": [
  {
   "cell_type": "code",
   "execution_count": 1,
   "metadata": {},
   "outputs": [],
   "source": [
    "import pandas as pd \n",
    "init_df = pd.read_parquet(\"/a/scratch/alexm/research/mostrecent/gdb9_sto3g_converged.parquet\")"
   ]
  },
  {
   "cell_type": "code",
   "execution_count": 2,
   "metadata": {},
   "outputs": [
    {
     "data": {
      "text/html": [
       "<div>\n",
       "<style scoped>\n",
       "    .dataframe tbody tr th:only-of-type {\n",
       "        vertical-align: middle;\n",
       "    }\n",
       "\n",
       "    .dataframe tbody tr th {\n",
       "        vertical-align: top;\n",
       "    }\n",
       "\n",
       "    .dataframe thead th {\n",
       "        text-align: right;\n",
       "    }\n",
       "</style>\n",
       "<table border=\"1\" class=\"dataframe\">\n",
       "  <thead>\n",
       "    <tr style=\"text-align: right;\">\n",
       "      <th></th>\n",
       "      <th>smile</th>\n",
       "      <th>atom_positions</th>\n",
       "      <th>hlgap</th>\n",
       "    </tr>\n",
       "  </thead>\n",
       "  <tbody>\n",
       "    <tr>\n",
       "      <th>0</th>\n",
       "      <td>NC=C(C=CC=O)C#N</td>\n",
       "      <td>[-4.6443071378757415, -0.20404282270892277, -3...</td>\n",
       "      <td>2.140608</td>\n",
       "    </tr>\n",
       "    <tr>\n",
       "      <th>1</th>\n",
       "      <td>NCC#Cc1c[nH]nn1</td>\n",
       "      <td>[6.0551210867647605, 1.231421557468469, 1.3027...</td>\n",
       "      <td>6.057728</td>\n",
       "    </tr>\n",
       "    <tr>\n",
       "      <th>2</th>\n",
       "      <td>N=C1CC(NC=O)=NN1</td>\n",
       "      <td>[-5.575746050475118, 0.10778378863930606, -1.4...</td>\n",
       "      <td>5.244358</td>\n",
       "    </tr>\n",
       "    <tr>\n",
       "      <th>3</th>\n",
       "      <td>NC1C=C(F)C(F)C1F</td>\n",
       "      <td>[3.9393057519100565, 0.04158247251484597, 0.56...</td>\n",
       "      <td>6.501084</td>\n",
       "    </tr>\n",
       "    <tr>\n",
       "      <th>4</th>\n",
       "      <td>CON=CC(C=O)=NO</td>\n",
       "      <td>[5.852566316629086, -0.13053310990125, -0.2363...</td>\n",
       "      <td>3.952413</td>\n",
       "    </tr>\n",
       "    <tr>\n",
       "      <th>...</th>\n",
       "      <td>...</td>\n",
       "      <td>...</td>\n",
       "      <td>...</td>\n",
       "    </tr>\n",
       "    <tr>\n",
       "      <th>443475</th>\n",
       "      <td>NC1CC=CC2CC12N</td>\n",
       "      <td>[-2.2813424026980695, -3.4155161626061767, 0.2...</td>\n",
       "      <td>6.341937</td>\n",
       "    </tr>\n",
       "    <tr>\n",
       "      <th>443476</th>\n",
       "      <td>CCC1N=CNC12CC2</td>\n",
       "      <td>[5.164756344884526, -0.10817491930027225, -0.4...</td>\n",
       "      <td>6.640875</td>\n",
       "    </tr>\n",
       "    <tr>\n",
       "      <th>443477</th>\n",
       "      <td>CC(N)C(O)C(F)CO</td>\n",
       "      <td>[-4.032985048718895, -1.5481892939251802, -1.8...</td>\n",
       "      <td>10.226885</td>\n",
       "    </tr>\n",
       "    <tr>\n",
       "      <th>443478</th>\n",
       "      <td>CN1CC1CC(O)CF</td>\n",
       "      <td>[4.411501023747726, 1.032034092043031, 2.00537...</td>\n",
       "      <td>9.745535</td>\n",
       "    </tr>\n",
       "    <tr>\n",
       "      <th>443479</th>\n",
       "      <td>COCC(O)CCC=O</td>\n",
       "      <td>[-6.53929407031352, -0.8602253200034128, -0.13...</td>\n",
       "      <td>5.854890</td>\n",
       "    </tr>\n",
       "  </tbody>\n",
       "</table>\n",
       "<p>416947 rows × 3 columns</p>\n",
       "</div>"
      ],
      "text/plain": [
       "                   smile                                     atom_positions   \n",
       "0        NC=C(C=CC=O)C#N  [-4.6443071378757415, -0.20404282270892277, -3...  \\\n",
       "1        NCC#Cc1c[nH]nn1  [6.0551210867647605, 1.231421557468469, 1.3027...   \n",
       "2       N=C1CC(NC=O)=NN1  [-5.575746050475118, 0.10778378863930606, -1.4...   \n",
       "3       NC1C=C(F)C(F)C1F  [3.9393057519100565, 0.04158247251484597, 0.56...   \n",
       "4         CON=CC(C=O)=NO  [5.852566316629086, -0.13053310990125, -0.2363...   \n",
       "...                  ...                                                ...   \n",
       "443475    NC1CC=CC2CC12N  [-2.2813424026980695, -3.4155161626061767, 0.2...   \n",
       "443476    CCC1N=CNC12CC2  [5.164756344884526, -0.10817491930027225, -0.4...   \n",
       "443477   CC(N)C(O)C(F)CO  [-4.032985048718895, -1.5481892939251802, -1.8...   \n",
       "443478     CN1CC1CC(O)CF  [4.411501023747726, 1.032034092043031, 2.00537...   \n",
       "443479      COCC(O)CCC=O  [-6.53929407031352, -0.8602253200034128, -0.13...   \n",
       "\n",
       "            hlgap  \n",
       "0        2.140608  \n",
       "1        6.057728  \n",
       "2        5.244358  \n",
       "3        6.501084  \n",
       "4        3.952413  \n",
       "...           ...  \n",
       "443475   6.341937  \n",
       "443476   6.640875  \n",
       "443477  10.226885  \n",
       "443478   9.745535  \n",
       "443479   5.854890  \n",
       "\n",
       "[416947 rows x 3 columns]"
      ]
     },
     "execution_count": 2,
     "metadata": {},
     "output_type": "execute_result"
    }
   ],
   "source": [
    "init_df"
   ]
  },
  {
   "cell_type": "code",
   "execution_count": 4,
   "metadata": {},
   "outputs": [],
   "source": [
    "a = init_df[\"atom_positions\"].values[0]"
   ]
  },
  {
   "cell_type": "code",
   "execution_count": 5,
   "metadata": {},
   "outputs": [],
   "source": [
    "import hashlib\n",
    "\n",
    "# 300M\n",
    "#sha = df[\"atom_positions\"].apply( lambda x: hashlib.sha256(x.encode(\"utf-8\")).hexdigest() )\n",
    "sha = init_df[\"atom_positions\"].apply( lambda x: hash(x)  )\n",
    "\n",
    "newdf = pd.DataFrame({\"hash\":  sha, \"hlgap\": init_df[\"hlgap\"], \"smiles\": init_df[\"smile\"]}) # 35MB\n",
    "#newdf = pd.DataFrame({\"sha\":  sha, \"hlgap\": df[\"hlgap\"], \"smiles\": df[\"smile\"]})\n",
    "#newdf = pd.DataFrame({\"hlgap\": df[\"hlgap\"], \"smiles\": df[\"smile\"]}) # 8.5 MB  ;; sha part is 35-8.5 ;; \n",
    "#newdf = pd.DataFrame({\"smiles\": df[\"smile\"]}) # 5.2MB"
   ]
  },
  {
   "cell_type": "code",
   "execution_count": 6,
   "metadata": {},
   "outputs": [],
   "source": [
    "newdf.to_parquet(\"test.parquet\")"
   ]
  },
  {
   "cell_type": "code",
   "execution_count": 7,
   "metadata": {},
   "outputs": [
    {
     "name": "stdout",
     "output_type": "stream",
     "text": [
      "-rw-r--r-- 1 alexm all 368M Apr 24 20:32 gdb9_sto3g_converged.parquet\n",
      "-rw-r--r-- 1 alexm all  13M Apr 25 15:24 test.parquet\n"
     ]
    }
   ],
   "source": [
    "!ls -lahS *.parquet"
   ]
  },
  {
   "cell_type": "code",
   "execution_count": 8,
   "metadata": {},
   "outputs": [],
   "source": [
    "df = pd.read_parquet(\"test.parquet\")"
   ]
  },
  {
   "cell_type": "code",
   "execution_count": 9,
   "metadata": {},
   "outputs": [
    {
     "data": {
      "text/html": [
       "<div>\n",
       "<style scoped>\n",
       "    .dataframe tbody tr th:only-of-type {\n",
       "        vertical-align: middle;\n",
       "    }\n",
       "\n",
       "    .dataframe tbody tr th {\n",
       "        vertical-align: top;\n",
       "    }\n",
       "\n",
       "    .dataframe thead th {\n",
       "        text-align: right;\n",
       "    }\n",
       "</style>\n",
       "<table border=\"1\" class=\"dataframe\">\n",
       "  <thead>\n",
       "    <tr style=\"text-align: right;\">\n",
       "      <th></th>\n",
       "      <th>hash</th>\n",
       "      <th>hlgap</th>\n",
       "      <th>smiles</th>\n",
       "    </tr>\n",
       "  </thead>\n",
       "  <tbody>\n",
       "    <tr>\n",
       "      <th>0</th>\n",
       "      <td>156596618283513934</td>\n",
       "      <td>2.140608</td>\n",
       "      <td>NC=C(C=CC=O)C#N</td>\n",
       "    </tr>\n",
       "    <tr>\n",
       "      <th>1</th>\n",
       "      <td>-3707069546237844027</td>\n",
       "      <td>6.057728</td>\n",
       "      <td>NCC#Cc1c[nH]nn1</td>\n",
       "    </tr>\n",
       "    <tr>\n",
       "      <th>2</th>\n",
       "      <td>5998152005141697402</td>\n",
       "      <td>5.244358</td>\n",
       "      <td>N=C1CC(NC=O)=NN1</td>\n",
       "    </tr>\n",
       "    <tr>\n",
       "      <th>3</th>\n",
       "      <td>-845469491875471239</td>\n",
       "      <td>6.501084</td>\n",
       "      <td>NC1C=C(F)C(F)C1F</td>\n",
       "    </tr>\n",
       "    <tr>\n",
       "      <th>4</th>\n",
       "      <td>3898573328132582055</td>\n",
       "      <td>3.952413</td>\n",
       "      <td>CON=CC(C=O)=NO</td>\n",
       "    </tr>\n",
       "    <tr>\n",
       "      <th>...</th>\n",
       "      <td>...</td>\n",
       "      <td>...</td>\n",
       "      <td>...</td>\n",
       "    </tr>\n",
       "    <tr>\n",
       "      <th>443475</th>\n",
       "      <td>900754180145602411</td>\n",
       "      <td>6.341937</td>\n",
       "      <td>NC1CC=CC2CC12N</td>\n",
       "    </tr>\n",
       "    <tr>\n",
       "      <th>443476</th>\n",
       "      <td>-4182744942906333601</td>\n",
       "      <td>6.640875</td>\n",
       "      <td>CCC1N=CNC12CC2</td>\n",
       "    </tr>\n",
       "    <tr>\n",
       "      <th>443477</th>\n",
       "      <td>-4233229871837779534</td>\n",
       "      <td>10.226885</td>\n",
       "      <td>CC(N)C(O)C(F)CO</td>\n",
       "    </tr>\n",
       "    <tr>\n",
       "      <th>443478</th>\n",
       "      <td>110774920181189188</td>\n",
       "      <td>9.745535</td>\n",
       "      <td>CN1CC1CC(O)CF</td>\n",
       "    </tr>\n",
       "    <tr>\n",
       "      <th>443479</th>\n",
       "      <td>6694290981567194314</td>\n",
       "      <td>5.854890</td>\n",
       "      <td>COCC(O)CCC=O</td>\n",
       "    </tr>\n",
       "  </tbody>\n",
       "</table>\n",
       "<p>416947 rows × 3 columns</p>\n",
       "</div>"
      ],
      "text/plain": [
       "                       hash      hlgap            smiles\n",
       "0        156596618283513934   2.140608   NC=C(C=CC=O)C#N\n",
       "1      -3707069546237844027   6.057728   NCC#Cc1c[nH]nn1\n",
       "2       5998152005141697402   5.244358  N=C1CC(NC=O)=NN1\n",
       "3       -845469491875471239   6.501084  NC1C=C(F)C(F)C1F\n",
       "4       3898573328132582055   3.952413    CON=CC(C=O)=NO\n",
       "...                     ...        ...               ...\n",
       "443475   900754180145602411   6.341937    NC1CC=CC2CC12N\n",
       "443476 -4182744942906333601   6.640875    CCC1N=CNC12CC2\n",
       "443477 -4233229871837779534  10.226885   CC(N)C(O)C(F)CO\n",
       "443478   110774920181189188   9.745535     CN1CC1CC(O)CF\n",
       "443479  6694290981567194314   5.854890      COCC(O)CCC=O\n",
       "\n",
       "[416947 rows x 3 columns]"
      ]
     },
     "execution_count": 9,
     "metadata": {},
     "output_type": "execute_result"
    }
   ],
   "source": [
    "df"
   ]
  },
  {
   "cell_type": "code",
   "execution_count": 72,
   "metadata": {},
   "outputs": [
    {
     "name": "stdout",
     "output_type": "stream",
     "text": [
      "[-4.6443071378757415, -0.20404282270892277, -3.527316892837064, -2.7066084679987332, 0.010974000612061843, -1.9738750379384231, -0.8475957351659058, 0.21659219620438502, -0.4837215510935497, 1.1529432465632152, 0.43791993976176125, 1.1198944199113177, 2.719970600605892, -1.5784282628395514, 1.5691991084446368, 4.808638315701837, -1.3255790824610738, 3.2466063577177238, 6.322061866626751, -3.099754742489184, 3.7496777140792723, -1.303573646698604, 3.5511696434399442, -0.7125423125829743, -1.59014952916493, 5.786833782712475, -0.8362261770891022, -4.43422991115357, 0.2590621796426656, -5.4866704400882105, -6.518793831043894, -0.8036756791347506, -3.130246147711174, -2.193523463068222, -2.5909548942558214, -2.2622542612114347, 1.800223393172404, 2.101656917666039, 2.2139779618914317, 2.31778607350205, -3.288840729973634, 0.5920063871423761, 5.117158226206744, 0.5270675541450405, 4.1559818979398555]\n",
      "[-3.26471638  0.89523054 -2.76715811 -2.53281017 -1.14965987 -1.03458091\n",
      " -0.48157955 -1.0296313   0.24161444  1.64517722 -0.90526758  1.56485106\n",
      "  3.31977602  1.10753307  1.42059849  2.85139653  3.24728353 -0.2098325\n",
      "  4.3989773   5.04357597 -0.31835576 -1.47304429 -3.90001129  1.83825967\n",
      " -2.11651053 -5.80728349  2.87547904 -3.73705658  0.33307548 -4.53893898\n",
      " -3.27495857  2.72936821 -2.19379712 -3.89592402 -2.64322491 -1.00652651\n",
      "  2.40209804 -2.32385189  2.92902709  4.9867959   1.0991972   2.53628185\n",
      "  1.17237909  3.30366631 -1.33692175]\n",
      "5131301967320688484\n",
      "7263004481228932198\n"
     ]
    }
   ],
   "source": [
    "import numpy as np \n",
    "np.random.seed(42)\n",
    "from rdkit import Chem  \n",
    "from rdkit.Chem import AllChem\n",
    "\n",
    "angstrom_to_bohr = 1.88973\n",
    "from rdkit import RDLogger\n",
    "lg = RDLogger.logger()\n",
    "lg.setLevel(RDLogger.CRITICAL)\n",
    "\n",
    "smile = df[\"smiles\"].values[0]\n",
    "\n",
    "b = Chem.MolFromSmiles(smile)\n",
    "#b = Chem.AddHs(b, explicitOnly=True)   \n",
    "b = Chem.AddHs(b, explicitOnly=False)   \n",
    "\n",
    "AllChem.EmbedMolecule(b, randomSeed=42)\n",
    "\n",
    "atoms = [atom.GetSymbol() for atom in b.GetAtoms()]\n",
    "locs =  b.GetConformer().GetPositions() * angstrom_to_bohr  \n",
    "\n",
    "print(init_df[\"atom_positions\"].values[0])\n",
    "print(str(locs.reshape(-1)))\n",
    "\n",
    "print(hash(str(locs.reshape(-1))))\n",
    "print(df[\"sha\"].values[0])"
   ]
  },
  {
   "cell_type": "code",
   "execution_count": 10,
   "metadata": {},
   "outputs": [
    {
     "name": "stdout",
     "output_type": "stream",
     "text": [
      "2022.09.5\n"
     ]
    }
   ],
   "source": [
    "from rdkit import Chem\n",
    "from rdkit.Chem.Draw import IPythonConsole\n",
    "IPythonConsole.ipython_3d = True\n",
    "import py3Dmol\n",
    "from rdkit.Chem import rdDepictor\n",
    "from rdkit.Chem import rdDistGeom\n",
    "import rdkit\n",
    "print(rdkit.__version__)"
   ]
  },
  {
   "cell_type": "code",
   "execution_count": 11,
   "metadata": {},
   "outputs": [],
   "source": [
    "smile = df[\"smiles\"].values[0]"
   ]
  },
  {
   "cell_type": "code",
   "execution_count": 74,
   "metadata": {},
   "outputs": [
    {
     "name": "stdout",
     "output_type": "stream",
     "text": [
      "Collecting py3Dmol\n",
      "  Downloading py3Dmol-2.0.1.post1-py2.py3-none-any.whl (12 kB)\n",
      "Installing collected packages: py3Dmol\n",
      "Successfully installed py3Dmol-2.0.1.post1\n"
     ]
    }
   ],
   "source": [
    "!pip install py3Dmol"
   ]
  },
  {
   "cell_type": "code",
   "execution_count": null,
   "metadata": {},
   "outputs": [],
   "source": [
    "# conformers "
   ]
  },
  {
   "cell_type": "code",
   "execution_count": 12,
   "metadata": {},
   "outputs": [],
   "source": [
    "b = Chem.MolFromSmiles(smile)"
   ]
  },
  {
   "cell_type": "code",
   "execution_count": 13,
   "metadata": {},
   "outputs": [
    {
     "data": {
      "image/png": "[encoded data removed]",
      "text/plain": [
       "<rdkit.Chem.rdchem.Mol at 0x7fc3d9fe12e0>"
      ]
     },
     "execution_count": 13,
     "metadata": {},
     "output_type": "execute_result"
    }
   ],
   "source": [
    "b"
   ]
  },
  {
   "cell_type": "code",
   "execution_count": 14,
   "metadata": {},
   "outputs": [
    {
     "data": {
      "text/plain": [
       "0"
      ]
     },
     "execution_count": 14,
     "metadata": {},
     "output_type": "execute_result"
    }
   ],
   "source": [
    "b = Chem.AddHs(b) # <- add hydrogens so that we get a reasonable conformer\n",
    "rdDistGeom.EmbedMolecule(b)"
   ]
  },
  {
   "cell_type": "code",
   "execution_count": 15,
   "metadata": {},
   "outputs": [
    {
     "data": {
      "text/plain": [
       "<rdkit.rdBase._vecti at 0x7fc32951dc40>"
      ]
     },
     "execution_count": 15,
     "metadata": {},
     "output_type": "execute_result"
    }
   ],
   "source": [
    "rdDistGeom.EmbedMultipleConfs(b,10, randomSeed=0xf00d) # <- generate 10 conformers\n"
   ]
  },
  {
   "cell_type": "code",
   "execution_count": 87,
   "metadata": {},
   "outputs": [],
   "source": [
    "import py3Dmol"
   ]
  },
  {
   "cell_type": "code",
   "execution_count": 20,
   "metadata": {},
   "outputs": [
    {
     "data": {
      "application/3dmoljs_load.v0": "<div id=\"3dmolviewer_16824363065326211\"  style=\"position: relative; width: 400px; height: 400px\">\n        <p id=\"3dmolwarning_16824363065326211\" style=\"background-color:#ffcccc;color:black\">You appear to be running in JupyterLab (or JavaScript failed to load for some other reason).  You need to install the 3dmol extension: <br>\n        <tt>jupyter labextension install jupyterlab_3dmol</tt></p>\n        </div>\n<script>\n\nvar loadScriptAsync = function(uri){\n  return new Promise((resolve, reject) => {\n    //this is to ignore the existence of requirejs amd\n    var savedexports, savedmodule;\n    if (typeof exports !== 'undefined') savedexports = exports;\n    else exports = {}\n    if (typeof module !== 'undefined') savedmodule = module;\n    else module = {}\n\n    var tag = document.createElement('script');\n    tag.src = uri;\n    tag.async = true;\n    tag.onload = () => {\n        exports = savedexports;\n        module = savedmodule;\n        resolve();\n    };\n  var firstScriptTag = document.getElementsByTagName('script')[0];\n  firstScriptTag.parentNode.insertBefore(tag, firstScriptTag);\n});\n};\n\nif(typeof $3Dmolpromise === 'undefined') {\n$3Dmolpromise = null;\n  $3Dmolpromise = loadScriptAsync('https://cdnjs.cloudflare.com/ajax/libs/3Dmol/2.0.1/3Dmol-min.js');\n}\n\nvar viewer_16824363065326211 = null;\nvar warn = document.getElementById(\"3dmolwarning_16824363065326211\");\nif(warn) {\n    warn.parentNode.removeChild(warn);\n}\n$3Dmolpromise.then(function() {\nviewer_16824363065326211 = $3Dmol.createViewer(document.getElementById(\"3dmolviewer_16824363065326211\"),{backgroundColor:\"white\"});\nviewer_16824363065326211.zoomTo();\n\tviewer_16824363065326211.removeAllModels();\n\tviewer_16824363065326211.addModel(\"\\n     RDKit          3D\\n\\n 15 14  0  0  0  0  0  0  0  0999 V2000\\n    1.2251    1.1264    1.3803 N   0  0  0  0  0  0  0  0  0  0  0  0\\n   -0.1435    1.3204    1.0574 C   0  0  0  0  0  0  0  0  0  0  0  0\\n   -0.6729    0.6470    0.0751 C   0  0  0  0  0  0  0  0  0  0  0  0\\n    0.1417   -0.2874   -0.6711 C   0  0  0  0  0  0  0  0  0  0  0  0\\n   -0.3224   -0.9978   -1.6711 C   0  0  0  0  0  0  0  0  0  0  0  0\\n    0.5102   -1.9315   -2.4090 C   0  0  0  0  0  0  0  0  0  0  0  0\\n    1.7280   -2.0725   -2.0820 O   0  0  0  0  0  0  0  0  0  0  0  0\\n   -2.0417    0.8498   -0.2354 C   0  0  0  0  0  0  0  0  0  0  0  0\\n   -3.1811    1.0379   -0.5027 N   0  0  0  0  0  0  0  0  0  0  0  0\\n    1.6368    0.1728    1.4778 H   0  0  0  0  0  0  0  0  0  0  0  0\\n    1.8447    1.9457    1.5263 H   0  0  0  0  0  0  0  0  0  0  0  0\\n   -0.7094    2.0296    1.6437 H   0  0  0  0  0  0  0  0  0  0  0  0\\n    1.2030   -0.4370   -0.4182 H   0  0  0  0  0  0  0  0  0  0  0  0\\n   -1.3688   -0.8796   -1.9542 H   0  0  0  0  0  0  0  0  0  0  0  0\\n    0.1503   -2.5237   -3.2337 H   0  0  0  0  0  0  0  0  0  0  0  0\\n  1  2  1  0\\n  2  3  2  3\\n  3  4  1  0\\n  4  5  2  3\\n  5  6  1  0\\n  6  7  2  0\\n  3  8  1  0\\n  8  9  3  0\\n  1 10  1  0\\n  1 11  1  0\\n  2 12  1  0\\n  4 13  1  0\\n  5 14  1  0\\n  6 15  1  0\\nM  END\\n\",\"sdf\");\n\tviewer_16824363065326211.setStyle({\"stick\": {}});\n\tviewer_16824363065326211.setBackgroundColor(\"0xeeeeee\");\n\tviewer_16824363065326211.zoomTo();\nviewer_16824363065326211.render();\n});\n</script>",
      "text/html": [
       "<div id=\"3dmolviewer_16824363065326211\"  style=\"position: relative; width: 400px; height: 400px\">\n",
       "        <p id=\"3dmolwarning_16824363065326211\" style=\"background-color:#ffcccc;color:black\">You appear to be running in JupyterLab (or JavaScript failed to load for some other reason).  You need to install the 3dmol extension: <br>\n",
       "        <tt>jupyter labextension install jupyterlab_3dmol</tt></p>\n",
       "        </div>\n",
       "<script>\n",
       "\n",
       "var loadScriptAsync = function(uri){\n",
       "  return new Promise((resolve, reject) => {\n",
       "    //this is to ignore the existence of requirejs amd\n",
       "    var savedexports, savedmodule;\n",
       "    if (typeof exports !== 'undefined') savedexports = exports;\n",
       "    else exports = {}\n",
       "    if (typeof module !== 'undefined') savedmodule = module;\n",
       "    else module = {}\n",
       "\n",
       "    var tag = document.createElement('script');\n",
       "    tag.src = uri;\n",
       "    tag.async = true;\n",
       "    tag.onload = () => {\n",
       "        exports = savedexports;\n",
       "        module = savedmodule;\n",
       "        resolve();\n",
       "    };\n",
       "  var firstScriptTag = document.getElementsByTagName('script')[0];\n",
       "  firstScriptTag.parentNode.insertBefore(tag, firstScriptTag);\n",
       "});\n",
       "};\n",
       "\n",
       "if(typeof $3Dmolpromise === 'undefined') {\n",
       "$3Dmolpromise = null;\n",
       "  $3Dmolpromise = loadScriptAsync('https://cdnjs.cloudflare.com/ajax/libs/3Dmol/2.0.1/3Dmol-min.js');\n",
       "}\n",
       "\n",
       "var viewer_16824363065326211 = null;\n",
       "var warn = document.getElementById(\"3dmolwarning_16824363065326211\");\n",
       "if(warn) {\n",
       "    warn.parentNode.removeChild(warn);\n",
       "}\n",
       "$3Dmolpromise.then(function() {\n",
       "viewer_16824363065326211 = $3Dmol.createViewer(document.getElementById(\"3dmolviewer_16824363065326211\"),{backgroundColor:\"white\"});\n",
       "viewer_16824363065326211.zoomTo();\n",
       "\tviewer_16824363065326211.removeAllModels();\n",
       "\tviewer_16824363065326211.addModel(\"\\n     RDKit          3D\\n\\n 15 14  0  0  0  0  0  0  0  0999 V2000\\n    1.2251    1.1264    1.3803 N   0  0  0  0  0  0  0  0  0  0  0  0\\n   -0.1435    1.3204    1.0574 C   0  0  0  0  0  0  0  0  0  0  0  0\\n   -0.6729    0.6470    0.0751 C   0  0  0  0  0  0  0  0  0  0  0  0\\n    0.1417   -0.2874   -0.6711 C   0  0  0  0  0  0  0  0  0  0  0  0\\n   -0.3224   -0.9978   -1.6711 C   0  0  0  0  0  0  0  0  0  0  0  0\\n    0.5102   -1.9315   -2.4090 C   0  0  0  0  0  0  0  0  0  0  0  0\\n    1.7280   -2.0725   -2.0820 O   0  0  0  0  0  0  0  0  0  0  0  0\\n   -2.0417    0.8498   -0.2354 C   0  0  0  0  0  0  0  0  0  0  0  0\\n   -3.1811    1.0379   -0.5027 N   0  0  0  0  0  0  0  0  0  0  0  0\\n    1.6368    0.1728    1.4778 H   0  0  0  0  0  0  0  0  0  0  0  0\\n    1.8447    1.9457    1.5263 H   0  0  0  0  0  0  0  0  0  0  0  0\\n   -0.7094    2.0296    1.6437 H   0  0  0  0  0  0  0  0  0  0  0  0\\n    1.2030   -0.4370   -0.4182 H   0  0  0  0  0  0  0  0  0  0  0  0\\n   -1.3688   -0.8796   -1.9542 H   0  0  0  0  0  0  0  0  0  0  0  0\\n    0.1503   -2.5237   -3.2337 H   0  0  0  0  0  0  0  0  0  0  0  0\\n  1  2  1  0\\n  2  3  2  3\\n  3  4  1  0\\n  4  5  2  3\\n  5  6  1  0\\n  6  7  2  0\\n  3  8  1  0\\n  8  9  3  0\\n  1 10  1  0\\n  1 11  1  0\\n  2 12  1  0\\n  4 13  1  0\\n  5 14  1  0\\n  6 15  1  0\\nM  END\\n\",\"sdf\");\n",
       "\tviewer_16824363065326211.setStyle({\"stick\": {}});\n",
       "\tviewer_16824363065326211.setBackgroundColor(\"0xeeeeee\");\n",
       "\tviewer_16824363065326211.zoomTo();\n",
       "viewer_16824363065326211.render();\n",
       "});\n",
       "</script>"
      ]
     },
     "metadata": {},
     "output_type": "display_data"
    }
   ],
   "source": [
    "IPythonConsole.drawMol3D(b, confId=3) # compress using hash\n",
    "#https://greglandrum.github.io/rdkit-blog/posts/2023-02-04-working-with-conformers.html"
   ]
  },
  {
   "cell_type": "code",
   "execution_count": 33,
   "metadata": {},
   "outputs": [
    {
     "name": "stderr",
     "output_type": "stream",
     "text": [
      "[15:33:04] Molecule does not have explicit Hs. Consider calling AddHs()\n"
     ]
    },
    {
     "ename": "ArgumentError",
     "evalue": "Python argument types in\n    rdkit.Chem.rdMolAlign.GetBestAlignmentTransform(Conformer, Conformer)\ndid not match C++ signature:\n    GetBestAlignmentTransform(RDKit::ROMol prbMol, RDKit::ROMol refMol, int prbCid=-1, int refCid=-1, boost::python::api::object map=[], int maxMatches=1000000, bool symmetrizeConjugatedTerminalGroups=True, boost::python::api::object weights=[], bool reflect=False, unsigned int maxIters=50)",
     "output_type": "error",
     "traceback": [
      "\u001b[0;31m---------------------------------------------------------------------------\u001b[0m",
      "\u001b[0;31mArgumentError\u001b[0m                             Traceback (most recent call last)",
      "Cell \u001b[0;32mIn[33], line 14\u001b[0m\n\u001b[1;32m     12\u001b[0m ref_conf \u001b[39m=\u001b[39m confs[\u001b[39m0\u001b[39m]\n\u001b[1;32m     13\u001b[0m \u001b[39mfor\u001b[39;00m i \u001b[39min\u001b[39;00m \u001b[39mrange\u001b[39m(\u001b[39m1\u001b[39m, \u001b[39mlen\u001b[39m(confs)):\n\u001b[0;32m---> 14\u001b[0m     rmsd \u001b[39m=\u001b[39m rdkit\u001b[39m.\u001b[39;49mChem\u001b[39m.\u001b[39;49mrdMolAlign\u001b[39m.\u001b[39;49mGetBestAlignmentTransform(confs[i], ref_conf)\n\u001b[1;32m     15\u001b[0m     \u001b[39mif\u001b[39;00m rmsd \u001b[39m<\u001b[39m \u001b[39m0.1\u001b[39m:\n\u001b[1;32m     16\u001b[0m         \u001b[39mprint\u001b[39m(\u001b[39mf\u001b[39m\u001b[39m\"\u001b[39m\u001b[39mConformers \u001b[39m\u001b[39m{\u001b[39;00mi\u001b[39m}\u001b[39;00m\u001b[39m and 0 are identical up to rotation\u001b[39m\u001b[39m\"\u001b[39m)\n",
      "\u001b[0;31mArgumentError\u001b[0m: Python argument types in\n    rdkit.Chem.rdMolAlign.GetBestAlignmentTransform(Conformer, Conformer)\ndid not match C++ signature:\n    GetBestAlignmentTransform(RDKit::ROMol prbMol, RDKit::ROMol refMol, int prbCid=-1, int refCid=-1, boost::python::api::object map=[], int maxMatches=1000000, bool symmetrizeConjugatedTerminalGroups=True, boost::python::api::object weights=[], bool reflect=False, unsigned int maxIters=50)"
     ]
    }
   ],
   "source": [
    "from rdkit import Chem\n",
    "from rdkit.Chem import AllChem\n",
    "\n",
    "mol = Chem.MolFromSmiles(smile)\n",
    "b = Chem.AddHs(b) # <- add hydrogens so that we get a reasonable conformer\n",
    "AllChem.EmbedMultipleConfs(mol, numConfs=10)\n",
    "#confs = Chem.MolToConformations(mol, ids=list(range(10)))\n",
    "confs = [a for a in mol.GetConformers()]\n",
    "\n",
    "# For gdb11 may be able to do 631g and full grid-size?\n",
    "\n",
    "ref_conf = confs[0]\n",
    "for i in range(1, len(confs)):\n",
    "    rmsd = rdkit.Chem.rdMolAlign.GetBestAlignmentTransform(confs[i], ref_conf)\n",
    "    if rmsd < 0.1:\n",
    "        print(f\"Conformers {i} and 0 are identical up to rotation\")"
   ]
  },
  {
   "cell_type": "code",
   "execution_count": 32,
   "metadata": {},
   "outputs": [
    {
     "name": "stdout",
     "output_type": "stream",
     "text": [
      "<rdkit.Chem.rdchem._ROConformerSeq object at 0x7fc3d76d8890>\n"
     ]
    }
   ],
   "source": [
    "print(confs)"
   ]
  },
  {
   "cell_type": "code",
   "execution_count": 25,
   "metadata": {},
   "outputs": [
    {
     "ename": "SyntaxError",
     "evalue": "invalid syntax (331280142.py, line 1)",
     "output_type": "error",
     "traceback": [
      "\u001b[0;36m  Cell \u001b[0;32mIn[25], line 1\u001b[0;36m\u001b[0m\n\u001b[0;31m    GetBestRMS(RDKit::ROMol {lvalue} prbMol, RDKit::ROMol {lvalue} refMol, int prbId=-1, int refId=-1, boost::python::api::object map=None, int maxMatches=1000000, bool symmetrizeConjugatedTerminalGroups=True, boost::python::api::object weights=[])\u001b[0m\n\u001b[0m                    ^\u001b[0m\n\u001b[0;31mSyntaxError\u001b[0m\u001b[0;31m:\u001b[0m invalid syntax\n"
     ]
    }
   ],
   "source": []
  },
  {
   "cell_type": "code",
   "execution_count": 45,
   "metadata": {},
   "outputs": [
    {
     "name": "stdout",
     "output_type": "stream",
     "text": [
      "(9, 3) (9, 3)\n",
      "10.160331793512002\n"
     ]
    },
    {
     "name": "stderr",
     "output_type": "stream",
     "text": [
      "[15:42:46] Molecule does not have explicit Hs. Consider calling AddHs()\n"
     ]
    },
    {
     "data": {
      "application/3dmoljs_load.v0": "<div id=\"3dmolviewer_16824373664886518\"  style=\"position: relative; width: 400px; height: 400px\">\n        <p id=\"3dmolwarning_16824373664886518\" style=\"background-color:#ffcccc;color:black\">You appear to be running in JupyterLab (or JavaScript failed to load for some other reason).  You need to install the 3dmol extension: <br>\n        <tt>jupyter labextension install jupyterlab_3dmol</tt></p>\n        </div>\n<script>\n\nvar loadScriptAsync = function(uri){\n  return new Promise((resolve, reject) => {\n    //this is to ignore the existence of requirejs amd\n    var savedexports, savedmodule;\n    if (typeof exports !== 'undefined') savedexports = exports;\n    else exports = {}\n    if (typeof module !== 'undefined') savedmodule = module;\n    else module = {}\n\n    var tag = document.createElement('script');\n    tag.src = uri;\n    tag.async = true;\n    tag.onload = () => {\n        exports = savedexports;\n        module = savedmodule;\n        resolve();\n    };\n  var firstScriptTag = document.getElementsByTagName('script')[0];\n  firstScriptTag.parentNode.insertBefore(tag, firstScriptTag);\n});\n};\n\nif(typeof $3Dmolpromise === 'undefined') {\n$3Dmolpromise = null;\n  $3Dmolpromise = loadScriptAsync('https://cdnjs.cloudflare.com/ajax/libs/3Dmol/2.0.1/3Dmol-min.js');\n}\n\nvar viewer_16824373664886518 = null;\nvar warn = document.getElementById(\"3dmolwarning_16824373664886518\");\nif(warn) {\n    warn.parentNode.removeChild(warn);\n}\n$3Dmolpromise.then(function() {\nviewer_16824373664886518 = $3Dmol.createViewer(document.getElementById(\"3dmolviewer_16824373664886518\"),{backgroundColor:\"white\"});\nviewer_16824373664886518.zoomTo();\n\tviewer_16824373664886518.removeAllModels();\n\tviewer_16824373664886518.addModel(\"\\n     RDKit          3D\\n\\n 15 14  0  0  0  0  0  0  0  0999 V2000\\n   -0.0012    2.2645   -1.3115 N   0  0  0  0  0  0  0  0  0  0  0  0\\n   -1.1187    1.4426   -1.1057 C   0  0  0  0  0  0  0  0  0  0  0  0\\n   -0.9819    0.2583   -0.5587 C   0  0  0  0  0  0  0  0  0  0  0  0\\n    0.3522   -0.1811   -0.1717 C   0  0  0  0  0  0  0  0  0  0  0  0\\n    0.5443   -1.3786    0.3892 C   0  0  0  0  0  0  0  0  0  0  0  0\\n    1.8732   -1.8274    0.7796 C   0  0  0  0  0  0  0  0  0  0  0  0\\n    2.0318   -2.9451    1.3001 O   0  0  0  0  0  0  0  0  0  0  0  0\\n   -2.1316   -0.5821   -0.3492 C   0  0  0  0  0  0  0  0  0  0  0  0\\n   -3.0529   -1.2348   -0.1723 N   0  0  0  0  0  0  0  0  0  0  0  0\\n    0.7085    2.4604   -0.5440 H   0  0  0  0  0  0  0  0  0  0  0  0\\n    0.2106    2.7396   -2.2300 H   0  0  0  0  0  0  0  0  0  0  0  0\\n   -2.0957    1.7859   -1.3987 H   0  0  0  0  0  0  0  0  0  0  0  0\\n    1.2272    0.4349   -0.3206 H   0  0  0  0  0  0  0  0  0  0  0  0\\n   -0.3143   -2.0261    0.5545 H   0  0  0  0  0  0  0  0  0  0  0  0\\n    2.7486   -1.2111    0.6307 H   0  0  0  0  0  0  0  0  0  0  0  0\\n  1  2  1  0\\n  2  3  2  3\\n  3  4  1  0\\n  4  5  2  3\\n  5  6  1  0\\n  6  7  2  0\\n  3  8  1  0\\n  8  9  3  0\\n  1 10  1  0\\n  1 11  1  0\\n  2 12  1  0\\n  4 13  1  0\\n  5 14  1  0\\n  6 15  1  0\\nM  END\\n\",\"sdf\");\n\tviewer_16824373664886518.setStyle({\"stick\": {}});\n\tviewer_16824373664886518.setBackgroundColor(\"0xeeeeee\");\n\tviewer_16824373664886518.zoomTo();\nviewer_16824373664886518.render();\n});\n</script>",
      "text/html": [
       "<div id=\"3dmolviewer_16824373664886518\"  style=\"position: relative; width: 400px; height: 400px\">\n",
       "        <p id=\"3dmolwarning_16824373664886518\" style=\"background-color:#ffcccc;color:black\">You appear to be running in JupyterLab (or JavaScript failed to load for some other reason).  You need to install the 3dmol extension: <br>\n",
       "        <tt>jupyter labextension install jupyterlab_3dmol</tt></p>\n",
       "        </div>\n",
       "<script>\n",
       "\n",
       "var loadScriptAsync = function(uri){\n",
       "  return new Promise((resolve, reject) => {\n",
       "    //this is to ignore the existence of requirejs amd\n",
       "    var savedexports, savedmodule;\n",
       "    if (typeof exports !== 'undefined') savedexports = exports;\n",
       "    else exports = {}\n",
       "    if (typeof module !== 'undefined') savedmodule = module;\n",
       "    else module = {}\n",
       "\n",
       "    var tag = document.createElement('script');\n",
       "    tag.src = uri;\n",
       "    tag.async = true;\n",
       "    tag.onload = () => {\n",
       "        exports = savedexports;\n",
       "        module = savedmodule;\n",
       "        resolve();\n",
       "    };\n",
       "  var firstScriptTag = document.getElementsByTagName('script')[0];\n",
       "  firstScriptTag.parentNode.insertBefore(tag, firstScriptTag);\n",
       "});\n",
       "};\n",
       "\n",
       "if(typeof $3Dmolpromise === 'undefined') {\n",
       "$3Dmolpromise = null;\n",
       "  $3Dmolpromise = loadScriptAsync('https://cdnjs.cloudflare.com/ajax/libs/3Dmol/2.0.1/3Dmol-min.js');\n",
       "}\n",
       "\n",
       "var viewer_16824373664886518 = null;\n",
       "var warn = document.getElementById(\"3dmolwarning_16824373664886518\");\n",
       "if(warn) {\n",
       "    warn.parentNode.removeChild(warn);\n",
       "}\n",
       "$3Dmolpromise.then(function() {\n",
       "viewer_16824373664886518 = $3Dmol.createViewer(document.getElementById(\"3dmolviewer_16824373664886518\"),{backgroundColor:\"white\"});\n",
       "viewer_16824373664886518.zoomTo();\n",
       "\tviewer_16824373664886518.removeAllModels();\n",
       "\tviewer_16824373664886518.addModel(\"\\n     RDKit          3D\\n\\n 15 14  0  0  0  0  0  0  0  0999 V2000\\n   -0.0012    2.2645   -1.3115 N   0  0  0  0  0  0  0  0  0  0  0  0\\n   -1.1187    1.4426   -1.1057 C   0  0  0  0  0  0  0  0  0  0  0  0\\n   -0.9819    0.2583   -0.5587 C   0  0  0  0  0  0  0  0  0  0  0  0\\n    0.3522   -0.1811   -0.1717 C   0  0  0  0  0  0  0  0  0  0  0  0\\n    0.5443   -1.3786    0.3892 C   0  0  0  0  0  0  0  0  0  0  0  0\\n    1.8732   -1.8274    0.7796 C   0  0  0  0  0  0  0  0  0  0  0  0\\n    2.0318   -2.9451    1.3001 O   0  0  0  0  0  0  0  0  0  0  0  0\\n   -2.1316   -0.5821   -0.3492 C   0  0  0  0  0  0  0  0  0  0  0  0\\n   -3.0529   -1.2348   -0.1723 N   0  0  0  0  0  0  0  0  0  0  0  0\\n    0.7085    2.4604   -0.5440 H   0  0  0  0  0  0  0  0  0  0  0  0\\n    0.2106    2.7396   -2.2300 H   0  0  0  0  0  0  0  0  0  0  0  0\\n   -2.0957    1.7859   -1.3987 H   0  0  0  0  0  0  0  0  0  0  0  0\\n    1.2272    0.4349   -0.3206 H   0  0  0  0  0  0  0  0  0  0  0  0\\n   -0.3143   -2.0261    0.5545 H   0  0  0  0  0  0  0  0  0  0  0  0\\n    2.7486   -1.2111    0.6307 H   0  0  0  0  0  0  0  0  0  0  0  0\\n  1  2  1  0\\n  2  3  2  3\\n  3  4  1  0\\n  4  5  2  3\\n  5  6  1  0\\n  6  7  2  0\\n  3  8  1  0\\n  8  9  3  0\\n  1 10  1  0\\n  1 11  1  0\\n  2 12  1  0\\n  4 13  1  0\\n  5 14  1  0\\n  6 15  1  0\\nM  END\\n\",\"sdf\");\n",
       "\tviewer_16824373664886518.setStyle({\"stick\": {}});\n",
       "\tviewer_16824373664886518.setBackgroundColor(\"0xeeeeee\");\n",
       "\tviewer_16824373664886518.zoomTo();\n",
       "viewer_16824373664886518.render();\n",
       "});\n",
       "</script>"
      ]
     },
     "metadata": {},
     "output_type": "display_data"
    },
    {
     "name": "stdout",
     "output_type": "stream",
     "text": [
      "(9, 3) (9, 3)\n",
      "9.280561785196037\n"
     ]
    },
    {
     "data": {
      "application/3dmoljs_load.v0": "<div id=\"3dmolviewer_16824373664902825\"  style=\"position: relative; width: 400px; height: 400px\">\n        <p id=\"3dmolwarning_16824373664902825\" style=\"background-color:#ffcccc;color:black\">You appear to be running in JupyterLab (or JavaScript failed to load for some other reason).  You need to install the 3dmol extension: <br>\n        <tt>jupyter labextension install jupyterlab_3dmol</tt></p>\n        </div>\n<script>\n\nvar loadScriptAsync = function(uri){\n  return new Promise((resolve, reject) => {\n    //this is to ignore the existence of requirejs amd\n    var savedexports, savedmodule;\n    if (typeof exports !== 'undefined') savedexports = exports;\n    else exports = {}\n    if (typeof module !== 'undefined') savedmodule = module;\n    else module = {}\n\n    var tag = document.createElement('script');\n    tag.src = uri;\n    tag.async = true;\n    tag.onload = () => {\n        exports = savedexports;\n        module = savedmodule;\n        resolve();\n    };\n  var firstScriptTag = document.getElementsByTagName('script')[0];\n  firstScriptTag.parentNode.insertBefore(tag, firstScriptTag);\n});\n};\n\nif(typeof $3Dmolpromise === 'undefined') {\n$3Dmolpromise = null;\n  $3Dmolpromise = loadScriptAsync('https://cdnjs.cloudflare.com/ajax/libs/3Dmol/2.0.1/3Dmol-min.js');\n}\n\nvar viewer_16824373664902825 = null;\nvar warn = document.getElementById(\"3dmolwarning_16824373664902825\");\nif(warn) {\n    warn.parentNode.removeChild(warn);\n}\n$3Dmolpromise.then(function() {\nviewer_16824373664902825 = $3Dmol.createViewer(document.getElementById(\"3dmolviewer_16824373664902825\"),{backgroundColor:\"white\"});\nviewer_16824373664902825.zoomTo();\n\tviewer_16824373664902825.removeAllModels();\n\tviewer_16824373664902825.addModel(\"\\n     RDKit          3D\\n\\n 15 14  0  0  0  0  0  0  0  0999 V2000\\n   -2.4812    1.3544   -0.7242 N   0  0  0  0  0  0  0  0  0  0  0  0\\n   -1.7201    0.1435   -0.4166 C   0  0  0  0  0  0  0  0  0  0  0  0\\n   -0.5648   -0.0095   -0.0447 C   0  0  0  0  0  0  0  0  0  0  0  0\\n    0.7421   -0.1824    0.3761 C   0  0  0  0  0  0  0  0  0  0  0  0\\n    1.1888   -1.4564    0.5509 C   0  0  0  0  0  0  0  0  0  0  0  0\\n    2.5554   -1.6539    0.9886 C   0  0  0  0  0  0  0  0  0  0  0  0\\n    3.0100   -2.7892    1.1626 O   0  0  0  0  0  0  0  0  0  0  0  0\\n   -0.1650    1.6394   -0.6886 C   0  0  0  0  0  0  0  0  0  0  0  0\\n    0.1157    2.7408   -1.1023 N   0  0  0  0  0  0  0  0  0  0  0  0\\n   -2.4070    1.7055   -1.7021 H   0  0  0  0  0  0  0  0  0  0  0  0\\n   -3.0382    1.7700    0.0357 H   0  0  0  0  0  0  0  0  0  0  0  0\\n   -2.3927   -0.7635   -0.5859 H   0  0  0  0  0  0  0  0  0  0  0  0\\n    1.4750    0.5805    0.6044 H   0  0  0  0  0  0  0  0  0  0  0  0\\n    0.5316   -2.2984    0.3835 H   0  0  0  0  0  0  0  0  0  0  0  0\\n    3.1503   -0.7809    1.1626 H   0  0  0  0  0  0  0  0  0  0  0  0\\n  1  2  1  0\\n  2  3  2  3\\n  3  4  1  0\\n  4  5  2  3\\n  5  6  1  0\\n  6  7  2  0\\n  3  8  1  0\\n  8  9  3  0\\n  1 10  1  0\\n  1 11  1  0\\n  2 12  1  0\\n  4 13  1  0\\n  5 14  1  0\\n  6 15  1  0\\nM  END\\n\",\"sdf\");\n\tviewer_16824373664902825.setStyle({\"stick\": {}});\n\tviewer_16824373664902825.setBackgroundColor(\"0xeeeeee\");\n\tviewer_16824373664902825.zoomTo();\nviewer_16824373664902825.render();\n});\n</script>",
      "text/html": [
       "<div id=\"3dmolviewer_16824373664902825\"  style=\"position: relative; width: 400px; height: 400px\">\n",
       "        <p id=\"3dmolwarning_16824373664902825\" style=\"background-color:#ffcccc;color:black\">You appear to be running in JupyterLab (or JavaScript failed to load for some other reason).  You need to install the 3dmol extension: <br>\n",
       "        <tt>jupyter labextension install jupyterlab_3dmol</tt></p>\n",
       "        </div>\n",
       "<script>\n",
       "\n",
       "var loadScriptAsync = function(uri){\n",
       "  return new Promise((resolve, reject) => {\n",
       "    //this is to ignore the existence of requirejs amd\n",
       "    var savedexports, savedmodule;\n",
       "    if (typeof exports !== 'undefined') savedexports = exports;\n",
       "    else exports = {}\n",
       "    if (typeof module !== 'undefined') savedmodule = module;\n",
       "    else module = {}\n",
       "\n",
       "    var tag = document.createElement('script');\n",
       "    tag.src = uri;\n",
       "    tag.async = true;\n",
       "    tag.onload = () => {\n",
       "        exports = savedexports;\n",
       "        module = savedmodule;\n",
       "        resolve();\n",
       "    };\n",
       "  var firstScriptTag = document.getElementsByTagName('script')[0];\n",
       "  firstScriptTag.parentNode.insertBefore(tag, firstScriptTag);\n",
       "});\n",
       "};\n",
       "\n",
       "if(typeof $3Dmolpromise === 'undefined') {\n",
       "$3Dmolpromise = null;\n",
       "  $3Dmolpromise = loadScriptAsync('https://cdnjs.cloudflare.com/ajax/libs/3Dmol/2.0.1/3Dmol-min.js');\n",
       "}\n",
       "\n",
       "var viewer_16824373664902825 = null;\n",
       "var warn = document.getElementById(\"3dmolwarning_16824373664902825\");\n",
       "if(warn) {\n",
       "    warn.parentNode.removeChild(warn);\n",
       "}\n",
       "$3Dmolpromise.then(function() {\n",
       "viewer_16824373664902825 = $3Dmol.createViewer(document.getElementById(\"3dmolviewer_16824373664902825\"),{backgroundColor:\"white\"});\n",
       "viewer_16824373664902825.zoomTo();\n",
       "\tviewer_16824373664902825.removeAllModels();\n",
       "\tviewer_16824373664902825.addModel(\"\\n     RDKit          3D\\n\\n 15 14  0  0  0  0  0  0  0  0999 V2000\\n   -2.4812    1.3544   -0.7242 N   0  0  0  0  0  0  0  0  0  0  0  0\\n   -1.7201    0.1435   -0.4166 C   0  0  0  0  0  0  0  0  0  0  0  0\\n   -0.5648   -0.0095   -0.0447 C   0  0  0  0  0  0  0  0  0  0  0  0\\n    0.7421   -0.1824    0.3761 C   0  0  0  0  0  0  0  0  0  0  0  0\\n    1.1888   -1.4564    0.5509 C   0  0  0  0  0  0  0  0  0  0  0  0\\n    2.5554   -1.6539    0.9886 C   0  0  0  0  0  0  0  0  0  0  0  0\\n    3.0100   -2.7892    1.1626 O   0  0  0  0  0  0  0  0  0  0  0  0\\n   -0.1650    1.6394   -0.6886 C   0  0  0  0  0  0  0  0  0  0  0  0\\n    0.1157    2.7408   -1.1023 N   0  0  0  0  0  0  0  0  0  0  0  0\\n   -2.4070    1.7055   -1.7021 H   0  0  0  0  0  0  0  0  0  0  0  0\\n   -3.0382    1.7700    0.0357 H   0  0  0  0  0  0  0  0  0  0  0  0\\n   -2.3927   -0.7635   -0.5859 H   0  0  0  0  0  0  0  0  0  0  0  0\\n    1.4750    0.5805    0.6044 H   0  0  0  0  0  0  0  0  0  0  0  0\\n    0.5316   -2.2984    0.3835 H   0  0  0  0  0  0  0  0  0  0  0  0\\n    3.1503   -0.7809    1.1626 H   0  0  0  0  0  0  0  0  0  0  0  0\\n  1  2  1  0\\n  2  3  2  3\\n  3  4  1  0\\n  4  5  2  3\\n  5  6  1  0\\n  6  7  2  0\\n  3  8  1  0\\n  8  9  3  0\\n  1 10  1  0\\n  1 11  1  0\\n  2 12  1  0\\n  4 13  1  0\\n  5 14  1  0\\n  6 15  1  0\\nM  END\\n\",\"sdf\");\n",
       "\tviewer_16824373664902825.setStyle({\"stick\": {}});\n",
       "\tviewer_16824373664902825.setBackgroundColor(\"0xeeeeee\");\n",
       "\tviewer_16824373664902825.zoomTo();\n",
       "viewer_16824373664902825.render();\n",
       "});\n",
       "</script>"
      ]
     },
     "metadata": {},
     "output_type": "display_data"
    },
    {
     "name": "stdout",
     "output_type": "stream",
     "text": [
      "(9, 3) (9, 3)\n",
      "5.447868372060003\n"
     ]
    },
    {
     "data": {
      "application/3dmoljs_load.v0": "<div id=\"3dmolviewer_1682437366491496\"  style=\"position: relative; width: 400px; height: 400px\">\n        <p id=\"3dmolwarning_1682437366491496\" style=\"background-color:#ffcccc;color:black\">You appear to be running in JupyterLab (or JavaScript failed to load for some other reason).  You need to install the 3dmol extension: <br>\n        <tt>jupyter labextension install jupyterlab_3dmol</tt></p>\n        </div>\n<script>\n\nvar loadScriptAsync = function(uri){\n  return new Promise((resolve, reject) => {\n    //this is to ignore the existence of requirejs amd\n    var savedexports, savedmodule;\n    if (typeof exports !== 'undefined') savedexports = exports;\n    else exports = {}\n    if (typeof module !== 'undefined') savedmodule = module;\n    else module = {}\n\n    var tag = document.createElement('script');\n    tag.src = uri;\n    tag.async = true;\n    tag.onload = () => {\n        exports = savedexports;\n        module = savedmodule;\n        resolve();\n    };\n  var firstScriptTag = document.getElementsByTagName('script')[0];\n  firstScriptTag.parentNode.insertBefore(tag, firstScriptTag);\n});\n};\n\nif(typeof $3Dmolpromise === 'undefined') {\n$3Dmolpromise = null;\n  $3Dmolpromise = loadScriptAsync('https://cdnjs.cloudflare.com/ajax/libs/3Dmol/2.0.1/3Dmol-min.js');\n}\n\nvar viewer_1682437366491496 = null;\nvar warn = document.getElementById(\"3dmolwarning_1682437366491496\");\nif(warn) {\n    warn.parentNode.removeChild(warn);\n}\n$3Dmolpromise.then(function() {\nviewer_1682437366491496 = $3Dmol.createViewer(document.getElementById(\"3dmolviewer_1682437366491496\"),{backgroundColor:\"white\"});\nviewer_1682437366491496.zoomTo();\n\tviewer_1682437366491496.removeAllModels();\n\tviewer_1682437366491496.addModel(\"\\n     RDKit          3D\\n\\n 15 14  0  0  0  0  0  0  0  0999 V2000\\n    1.2251    1.1264    1.3803 N   0  0  0  0  0  0  0  0  0  0  0  0\\n   -0.1435    1.3204    1.0574 C   0  0  0  0  0  0  0  0  0  0  0  0\\n   -0.6729    0.6470    0.0751 C   0  0  0  0  0  0  0  0  0  0  0  0\\n    0.1417   -0.2874   -0.6711 C   0  0  0  0  0  0  0  0  0  0  0  0\\n   -0.3224   -0.9978   -1.6711 C   0  0  0  0  0  0  0  0  0  0  0  0\\n    0.5102   -1.9315   -2.4090 C   0  0  0  0  0  0  0  0  0  0  0  0\\n    1.7280   -2.0725   -2.0820 O   0  0  0  0  0  0  0  0  0  0  0  0\\n   -2.0417    0.8498   -0.2354 C   0  0  0  0  0  0  0  0  0  0  0  0\\n   -3.1811    1.0379   -0.5027 N   0  0  0  0  0  0  0  0  0  0  0  0\\n    1.6368    0.1728    1.4778 H   0  0  0  0  0  0  0  0  0  0  0  0\\n    1.8447    1.9457    1.5263 H   0  0  0  0  0  0  0  0  0  0  0  0\\n   -0.7094    2.0296    1.6437 H   0  0  0  0  0  0  0  0  0  0  0  0\\n    1.2030   -0.4370   -0.4182 H   0  0  0  0  0  0  0  0  0  0  0  0\\n   -1.3688   -0.8796   -1.9542 H   0  0  0  0  0  0  0  0  0  0  0  0\\n    0.1503   -2.5237   -3.2337 H   0  0  0  0  0  0  0  0  0  0  0  0\\n  1  2  1  0\\n  2  3  2  3\\n  3  4  1  0\\n  4  5  2  3\\n  5  6  1  0\\n  6  7  2  0\\n  3  8  1  0\\n  8  9  3  0\\n  1 10  1  0\\n  1 11  1  0\\n  2 12  1  0\\n  4 13  1  0\\n  5 14  1  0\\n  6 15  1  0\\nM  END\\n\",\"sdf\");\n\tviewer_1682437366491496.setStyle({\"stick\": {}});\n\tviewer_1682437366491496.setBackgroundColor(\"0xeeeeee\");\n\tviewer_1682437366491496.zoomTo();\nviewer_1682437366491496.render();\n});\n</script>",
      "text/html": [
       "<div id=\"3dmolviewer_1682437366491496\"  style=\"position: relative; width: 400px; height: 400px\">\n",
       "        <p id=\"3dmolwarning_1682437366491496\" style=\"background-color:#ffcccc;color:black\">You appear to be running in JupyterLab (or JavaScript failed to load for some other reason).  You need to install the 3dmol extension: <br>\n",
       "        <tt>jupyter labextension install jupyterlab_3dmol</tt></p>\n",
       "        </div>\n",
       "<script>\n",
       "\n",
       "var loadScriptAsync = function(uri){\n",
       "  return new Promise((resolve, reject) => {\n",
       "    //this is to ignore the existence of requirejs amd\n",
       "    var savedexports, savedmodule;\n",
       "    if (typeof exports !== 'undefined') savedexports = exports;\n",
       "    else exports = {}\n",
       "    if (typeof module !== 'undefined') savedmodule = module;\n",
       "    else module = {}\n",
       "\n",
       "    var tag = document.createElement('script');\n",
       "    tag.src = uri;\n",
       "    tag.async = true;\n",
       "    tag.onload = () => {\n",
       "        exports = savedexports;\n",
       "        module = savedmodule;\n",
       "        resolve();\n",
       "    };\n",
       "  var firstScriptTag = document.getElementsByTagName('script')[0];\n",
       "  firstScriptTag.parentNode.insertBefore(tag, firstScriptTag);\n",
       "});\n",
       "};\n",
       "\n",
       "if(typeof $3Dmolpromise === 'undefined') {\n",
       "$3Dmolpromise = null;\n",
       "  $3Dmolpromise = loadScriptAsync('https://cdnjs.cloudflare.com/ajax/libs/3Dmol/2.0.1/3Dmol-min.js');\n",
       "}\n",
       "\n",
       "var viewer_1682437366491496 = null;\n",
       "var warn = document.getElementById(\"3dmolwarning_1682437366491496\");\n",
       "if(warn) {\n",
       "    warn.parentNode.removeChild(warn);\n",
       "}\n",
       "$3Dmolpromise.then(function() {\n",
       "viewer_1682437366491496 = $3Dmol.createViewer(document.getElementById(\"3dmolviewer_1682437366491496\"),{backgroundColor:\"white\"});\n",
       "viewer_1682437366491496.zoomTo();\n",
       "\tviewer_1682437366491496.removeAllModels();\n",
       "\tviewer_1682437366491496.addModel(\"\\n     RDKit          3D\\n\\n 15 14  0  0  0  0  0  0  0  0999 V2000\\n    1.2251    1.1264    1.3803 N   0  0  0  0  0  0  0  0  0  0  0  0\\n   -0.1435    1.3204    1.0574 C   0  0  0  0  0  0  0  0  0  0  0  0\\n   -0.6729    0.6470    0.0751 C   0  0  0  0  0  0  0  0  0  0  0  0\\n    0.1417   -0.2874   -0.6711 C   0  0  0  0  0  0  0  0  0  0  0  0\\n   -0.3224   -0.9978   -1.6711 C   0  0  0  0  0  0  0  0  0  0  0  0\\n    0.5102   -1.9315   -2.4090 C   0  0  0  0  0  0  0  0  0  0  0  0\\n    1.7280   -2.0725   -2.0820 O   0  0  0  0  0  0  0  0  0  0  0  0\\n   -2.0417    0.8498   -0.2354 C   0  0  0  0  0  0  0  0  0  0  0  0\\n   -3.1811    1.0379   -0.5027 N   0  0  0  0  0  0  0  0  0  0  0  0\\n    1.6368    0.1728    1.4778 H   0  0  0  0  0  0  0  0  0  0  0  0\\n    1.8447    1.9457    1.5263 H   0  0  0  0  0  0  0  0  0  0  0  0\\n   -0.7094    2.0296    1.6437 H   0  0  0  0  0  0  0  0  0  0  0  0\\n    1.2030   -0.4370   -0.4182 H   0  0  0  0  0  0  0  0  0  0  0  0\\n   -1.3688   -0.8796   -1.9542 H   0  0  0  0  0  0  0  0  0  0  0  0\\n    0.1503   -2.5237   -3.2337 H   0  0  0  0  0  0  0  0  0  0  0  0\\n  1  2  1  0\\n  2  3  2  3\\n  3  4  1  0\\n  4  5  2  3\\n  5  6  1  0\\n  6  7  2  0\\n  3  8  1  0\\n  8  9  3  0\\n  1 10  1  0\\n  1 11  1  0\\n  2 12  1  0\\n  4 13  1  0\\n  5 14  1  0\\n  6 15  1  0\\nM  END\\n\",\"sdf\");\n",
       "\tviewer_1682437366491496.setStyle({\"stick\": {}});\n",
       "\tviewer_1682437366491496.setBackgroundColor(\"0xeeeeee\");\n",
       "\tviewer_1682437366491496.zoomTo();\n",
       "viewer_1682437366491496.render();\n",
       "});\n",
       "</script>"
      ]
     },
     "metadata": {},
     "output_type": "display_data"
    },
    {
     "name": "stdout",
     "output_type": "stream",
     "text": [
      "(9, 3) (9, 3)\n",
      "5.7870999999090715\n"
     ]
    },
    {
     "data": {
      "application/3dmoljs_load.v0": "<div id=\"3dmolviewer_16824373664926567\"  style=\"position: relative; width: 400px; height: 400px\">\n        <p id=\"3dmolwarning_16824373664926567\" style=\"background-color:#ffcccc;color:black\">You appear to be running in JupyterLab (or JavaScript failed to load for some other reason).  You need to install the 3dmol extension: <br>\n        <tt>jupyter labextension install jupyterlab_3dmol</tt></p>\n        </div>\n<script>\n\nvar loadScriptAsync = function(uri){\n  return new Promise((resolve, reject) => {\n    //this is to ignore the existence of requirejs amd\n    var savedexports, savedmodule;\n    if (typeof exports !== 'undefined') savedexports = exports;\n    else exports = {}\n    if (typeof module !== 'undefined') savedmodule = module;\n    else module = {}\n\n    var tag = document.createElement('script');\n    tag.src = uri;\n    tag.async = true;\n    tag.onload = () => {\n        exports = savedexports;\n        module = savedmodule;\n        resolve();\n    };\n  var firstScriptTag = document.getElementsByTagName('script')[0];\n  firstScriptTag.parentNode.insertBefore(tag, firstScriptTag);\n});\n};\n\nif(typeof $3Dmolpromise === 'undefined') {\n$3Dmolpromise = null;\n  $3Dmolpromise = loadScriptAsync('https://cdnjs.cloudflare.com/ajax/libs/3Dmol/2.0.1/3Dmol-min.js');\n}\n\nvar viewer_16824373664926567 = null;\nvar warn = document.getElementById(\"3dmolwarning_16824373664926567\");\nif(warn) {\n    warn.parentNode.removeChild(warn);\n}\n$3Dmolpromise.then(function() {\nviewer_16824373664926567 = $3Dmol.createViewer(document.getElementById(\"3dmolviewer_16824373664926567\"),{backgroundColor:\"white\"});\nviewer_16824373664926567.zoomTo();\n\tviewer_16824373664926567.removeAllModels();\n\tviewer_16824373664926567.addModel(\"\\n     RDKit          3D\\n\\n 15 14  0  0  0  0  0  0  0  0999 V2000\\n   -3.0578    0.1486    0.0359 N   0  0  0  0  0  0  0  0  0  0  0  0\\n   -1.7763    0.0425    0.0953 C   0  0  0  0  0  0  0  0  0  0  0  0\\n   -0.4597    0.0884    0.2393 C   0  0  0  0  0  0  0  0  0  0  0  0\\n    0.8457    0.1340    0.3820 C   0  0  0  0  0  0  0  0  0  0  0  0\\n    1.6417   -0.9763   -0.0881 C   0  0  0  0  0  0  0  0  0  0  0  0\\n    3.0694   -0.8896    0.0744 C   0  0  0  0  0  0  0  0  0  0  0  0\\n    3.9144   -1.7830   -0.2683 O   0  0  0  0  0  0  0  0  0  0  0  0\\n   -0.6336    1.8469    0.6830 C   0  0  0  0  0  0  0  0  0  0  0  0\\n   -0.7531    3.0539    0.9677 N   0  0  0  0  0  0  0  0  0  0  0  0\\n   -3.6670    0.9854    0.2309 H   0  0  0  0  0  0  0  0  0  0  0  0\\n   -3.6733   -0.7129   -0.3000 H   0  0  0  0  0  0  0  0  0  0  0  0\\n   -1.6168   -1.0404   -0.7318 H   0  0  0  0  0  0  0  0  0  0  0  0\\n    1.5598    0.8448    0.8298 H   0  0  0  0  0  0  0  0  0  0  0  0\\n    1.1086   -1.7815   -0.4651 H   0  0  0  0  0  0  0  0  0  0  0  0\\n    3.4979    0.0393    0.5439 H   0  0  0  0  0  0  0  0  0  0  0  0\\n  1  2  1  0\\n  2  3  2  3\\n  3  4  1  0\\n  4  5  2  3\\n  5  6  1  0\\n  6  7  2  0\\n  3  8  1  0\\n  8  9  3  0\\n  1 10  1  0\\n  1 11  1  0\\n  2 12  1  0\\n  4 13  1  0\\n  5 14  1  0\\n  6 15  1  0\\nM  END\\n\",\"sdf\");\n\tviewer_16824373664926567.setStyle({\"stick\": {}});\n\tviewer_16824373664926567.setBackgroundColor(\"0xeeeeee\");\n\tviewer_16824373664926567.zoomTo();\nviewer_16824373664926567.render();\n});\n</script>",
      "text/html": [
       "<div id=\"3dmolviewer_16824373664926567\"  style=\"position: relative; width: 400px; height: 400px\">\n",
       "        <p id=\"3dmolwarning_16824373664926567\" style=\"background-color:#ffcccc;color:black\">You appear to be running in JupyterLab (or JavaScript failed to load for some other reason).  You need to install the 3dmol extension: <br>\n",
       "        <tt>jupyter labextension install jupyterlab_3dmol</tt></p>\n",
       "        </div>\n",
       "<script>\n",
       "\n",
       "var loadScriptAsync = function(uri){\n",
       "  return new Promise((resolve, reject) => {\n",
       "    //this is to ignore the existence of requirejs amd\n",
       "    var savedexports, savedmodule;\n",
       "    if (typeof exports !== 'undefined') savedexports = exports;\n",
       "    else exports = {}\n",
       "    if (typeof module !== 'undefined') savedmodule = module;\n",
       "    else module = {}\n",
       "\n",
       "    var tag = document.createElement('script');\n",
       "    tag.src = uri;\n",
       "    tag.async = true;\n",
       "    tag.onload = () => {\n",
       "        exports = savedexports;\n",
       "        module = savedmodule;\n",
       "        resolve();\n",
       "    };\n",
       "  var firstScriptTag = document.getElementsByTagName('script')[0];\n",
       "  firstScriptTag.parentNode.insertBefore(tag, firstScriptTag);\n",
       "});\n",
       "};\n",
       "\n",
       "if(typeof $3Dmolpromise === 'undefined') {\n",
       "$3Dmolpromise = null;\n",
       "  $3Dmolpromise = loadScriptAsync('https://cdnjs.cloudflare.com/ajax/libs/3Dmol/2.0.1/3Dmol-min.js');\n",
       "}\n",
       "\n",
       "var viewer_16824373664926567 = null;\n",
       "var warn = document.getElementById(\"3dmolwarning_16824373664926567\");\n",
       "if(warn) {\n",
       "    warn.parentNode.removeChild(warn);\n",
       "}\n",
       "$3Dmolpromise.then(function() {\n",
       "viewer_16824373664926567 = $3Dmol.createViewer(document.getElementById(\"3dmolviewer_16824373664926567\"),{backgroundColor:\"white\"});\n",
       "viewer_16824373664926567.zoomTo();\n",
       "\tviewer_16824373664926567.removeAllModels();\n",
       "\tviewer_16824373664926567.addModel(\"\\n     RDKit          3D\\n\\n 15 14  0  0  0  0  0  0  0  0999 V2000\\n   -3.0578    0.1486    0.0359 N   0  0  0  0  0  0  0  0  0  0  0  0\\n   -1.7763    0.0425    0.0953 C   0  0  0  0  0  0  0  0  0  0  0  0\\n   -0.4597    0.0884    0.2393 C   0  0  0  0  0  0  0  0  0  0  0  0\\n    0.8457    0.1340    0.3820 C   0  0  0  0  0  0  0  0  0  0  0  0\\n    1.6417   -0.9763   -0.0881 C   0  0  0  0  0  0  0  0  0  0  0  0\\n    3.0694   -0.8896    0.0744 C   0  0  0  0  0  0  0  0  0  0  0  0\\n    3.9144   -1.7830   -0.2683 O   0  0  0  0  0  0  0  0  0  0  0  0\\n   -0.6336    1.8469    0.6830 C   0  0  0  0  0  0  0  0  0  0  0  0\\n   -0.7531    3.0539    0.9677 N   0  0  0  0  0  0  0  0  0  0  0  0\\n   -3.6670    0.9854    0.2309 H   0  0  0  0  0  0  0  0  0  0  0  0\\n   -3.6733   -0.7129   -0.3000 H   0  0  0  0  0  0  0  0  0  0  0  0\\n   -1.6168   -1.0404   -0.7318 H   0  0  0  0  0  0  0  0  0  0  0  0\\n    1.5598    0.8448    0.8298 H   0  0  0  0  0  0  0  0  0  0  0  0\\n    1.1086   -1.7815   -0.4651 H   0  0  0  0  0  0  0  0  0  0  0  0\\n    3.4979    0.0393    0.5439 H   0  0  0  0  0  0  0  0  0  0  0  0\\n  1  2  1  0\\n  2  3  2  3\\n  3  4  1  0\\n  4  5  2  3\\n  5  6  1  0\\n  6  7  2  0\\n  3  8  1  0\\n  8  9  3  0\\n  1 10  1  0\\n  1 11  1  0\\n  2 12  1  0\\n  4 13  1  0\\n  5 14  1  0\\n  6 15  1  0\\nM  END\\n\",\"sdf\");\n",
       "\tviewer_16824373664926567.setStyle({\"stick\": {}});\n",
       "\tviewer_16824373664926567.setBackgroundColor(\"0xeeeeee\");\n",
       "\tviewer_16824373664926567.zoomTo();\n",
       "viewer_16824373664926567.render();\n",
       "});\n",
       "</script>"
      ]
     },
     "metadata": {},
     "output_type": "display_data"
    },
    {
     "name": "stdout",
     "output_type": "stream",
     "text": [
      "(9, 3) (9, 3)\n",
      "9.78454871905888\n"
     ]
    },
    {
     "data": {
      "application/3dmoljs_load.v0": "<div id=\"3dmolviewer_1682437366493788\"  style=\"position: relative; width: 400px; height: 400px\">\n        <p id=\"3dmolwarning_1682437366493788\" style=\"background-color:#ffcccc;color:black\">You appear to be running in JupyterLab (or JavaScript failed to load for some other reason).  You need to install the 3dmol extension: <br>\n        <tt>jupyter labextension install jupyterlab_3dmol</tt></p>\n        </div>\n<script>\n\nvar loadScriptAsync = function(uri){\n  return new Promise((resolve, reject) => {\n    //this is to ignore the existence of requirejs amd\n    var savedexports, savedmodule;\n    if (typeof exports !== 'undefined') savedexports = exports;\n    else exports = {}\n    if (typeof module !== 'undefined') savedmodule = module;\n    else module = {}\n\n    var tag = document.createElement('script');\n    tag.src = uri;\n    tag.async = true;\n    tag.onload = () => {\n        exports = savedexports;\n        module = savedmodule;\n        resolve();\n    };\n  var firstScriptTag = document.getElementsByTagName('script')[0];\n  firstScriptTag.parentNode.insertBefore(tag, firstScriptTag);\n});\n};\n\nif(typeof $3Dmolpromise === 'undefined') {\n$3Dmolpromise = null;\n  $3Dmolpromise = loadScriptAsync('https://cdnjs.cloudflare.com/ajax/libs/3Dmol/2.0.1/3Dmol-min.js');\n}\n\nvar viewer_1682437366493788 = null;\nvar warn = document.getElementById(\"3dmolwarning_1682437366493788\");\nif(warn) {\n    warn.parentNode.removeChild(warn);\n}\n$3Dmolpromise.then(function() {\nviewer_1682437366493788 = $3Dmol.createViewer(document.getElementById(\"3dmolviewer_1682437366493788\"),{backgroundColor:\"white\"});\nviewer_1682437366493788.zoomTo();\n\tviewer_1682437366493788.removeAllModels();\n\tviewer_1682437366493788.addModel(\"\\n     RDKit          3D\\n\\n 15 14  0  0  0  0  0  0  0  0999 V2000\\n    1.0791   -2.7876   -0.5574 N   0  0  0  0  0  0  0  0  0  0  0  0\\n    0.1627   -1.7888   -0.1312 C   0  0  0  0  0  0  0  0  0  0  0  0\\n    0.3369   -0.5035   -0.3764 C   0  0  0  0  0  0  0  0  0  0  0  0\\n   -0.6556    0.4529    0.0993 C   0  0  0  0  0  0  0  0  0  0  0  0\\n   -0.5258    1.7416   -0.1195 C   0  0  0  0  0  0  0  0  0  0  0  0\\n   -1.5073    2.6935    0.3500 C   0  0  0  0  0  0  0  0  0  0  0  0\\n   -1.3794    3.9284    0.1388 O   0  0  0  0  0  0  0  0  0  0  0  0\\n    1.5028   -0.1220   -1.1044 C   0  0  0  0  0  0  0  0  0  0  0  0\\n    2.4761    0.1857   -1.6894 N   0  0  0  0  0  0  0  0  0  0  0  0\\n    1.6159   -2.5945   -1.4286 H   0  0  0  0  0  0  0  0  0  0  0  0\\n    1.2051   -3.6699   -0.0210 H   0  0  0  0  0  0  0  0  0  0  0  0\\n   -0.7060   -2.1551    0.4184 H   0  0  0  0  0  0  0  0  0  0  0  0\\n   -1.5410    0.1214    0.6549 H   0  0  0  0  0  0  0  0  0  0  0  0\\n    0.3280    2.0965   -0.6585 H   0  0  0  0  0  0  0  0  0  0  0  0\\n   -2.3915    2.4015    0.9001 H   0  0  0  0  0  0  0  0  0  0  0  0\\n  1  2  1  0\\n  2  3  2  3\\n  3  4  1  0\\n  4  5  2  3\\n  5  6  1  0\\n  6  7  2  0\\n  3  8  1  0\\n  8  9  3  0\\n  1 10  1  0\\n  1 11  1  0\\n  2 12  1  0\\n  4 13  1  0\\n  5 14  1  0\\n  6 15  1  0\\nM  END\\n\",\"sdf\");\n\tviewer_1682437366493788.setStyle({\"stick\": {}});\n\tviewer_1682437366493788.setBackgroundColor(\"0xeeeeee\");\n\tviewer_1682437366493788.zoomTo();\nviewer_1682437366493788.render();\n});\n</script>",
      "text/html": [
       "<div id=\"3dmolviewer_1682437366493788\"  style=\"position: relative; width: 400px; height: 400px\">\n",
       "        <p id=\"3dmolwarning_1682437366493788\" style=\"background-color:#ffcccc;color:black\">You appear to be running in JupyterLab (or JavaScript failed to load for some other reason).  You need to install the 3dmol extension: <br>\n",
       "        <tt>jupyter labextension install jupyterlab_3dmol</tt></p>\n",
       "        </div>\n",
       "<script>\n",
       "\n",
       "var loadScriptAsync = function(uri){\n",
       "  return new Promise((resolve, reject) => {\n",
       "    //this is to ignore the existence of requirejs amd\n",
       "    var savedexports, savedmodule;\n",
       "    if (typeof exports !== 'undefined') savedexports = exports;\n",
       "    else exports = {}\n",
       "    if (typeof module !== 'undefined') savedmodule = module;\n",
       "    else module = {}\n",
       "\n",
       "    var tag = document.createElement('script');\n",
       "    tag.src = uri;\n",
       "    tag.async = true;\n",
       "    tag.onload = () => {\n",
       "        exports = savedexports;\n",
       "        module = savedmodule;\n",
       "        resolve();\n",
       "    };\n",
       "  var firstScriptTag = document.getElementsByTagName('script')[0];\n",
       "  firstScriptTag.parentNode.insertBefore(tag, firstScriptTag);\n",
       "});\n",
       "};\n",
       "\n",
       "if(typeof $3Dmolpromise === 'undefined') {\n",
       "$3Dmolpromise = null;\n",
       "  $3Dmolpromise = loadScriptAsync('https://cdnjs.cloudflare.com/ajax/libs/3Dmol/2.0.1/3Dmol-min.js');\n",
       "}\n",
       "\n",
       "var viewer_1682437366493788 = null;\n",
       "var warn = document.getElementById(\"3dmolwarning_1682437366493788\");\n",
       "if(warn) {\n",
       "    warn.parentNode.removeChild(warn);\n",
       "}\n",
       "$3Dmolpromise.then(function() {\n",
       "viewer_1682437366493788 = $3Dmol.createViewer(document.getElementById(\"3dmolviewer_1682437366493788\"),{backgroundColor:\"white\"});\n",
       "viewer_1682437366493788.zoomTo();\n",
       "\tviewer_1682437366493788.removeAllModels();\n",
       "\tviewer_1682437366493788.addModel(\"\\n     RDKit          3D\\n\\n 15 14  0  0  0  0  0  0  0  0999 V2000\\n    1.0791   -2.7876   -0.5574 N   0  0  0  0  0  0  0  0  0  0  0  0\\n    0.1627   -1.7888   -0.1312 C   0  0  0  0  0  0  0  0  0  0  0  0\\n    0.3369   -0.5035   -0.3764 C   0  0  0  0  0  0  0  0  0  0  0  0\\n   -0.6556    0.4529    0.0993 C   0  0  0  0  0  0  0  0  0  0  0  0\\n   -0.5258    1.7416   -0.1195 C   0  0  0  0  0  0  0  0  0  0  0  0\\n   -1.5073    2.6935    0.3500 C   0  0  0  0  0  0  0  0  0  0  0  0\\n   -1.3794    3.9284    0.1388 O   0  0  0  0  0  0  0  0  0  0  0  0\\n    1.5028   -0.1220   -1.1044 C   0  0  0  0  0  0  0  0  0  0  0  0\\n    2.4761    0.1857   -1.6894 N   0  0  0  0  0  0  0  0  0  0  0  0\\n    1.6159   -2.5945   -1.4286 H   0  0  0  0  0  0  0  0  0  0  0  0\\n    1.2051   -3.6699   -0.0210 H   0  0  0  0  0  0  0  0  0  0  0  0\\n   -0.7060   -2.1551    0.4184 H   0  0  0  0  0  0  0  0  0  0  0  0\\n   -1.5410    0.1214    0.6549 H   0  0  0  0  0  0  0  0  0  0  0  0\\n    0.3280    2.0965   -0.6585 H   0  0  0  0  0  0  0  0  0  0  0  0\\n   -2.3915    2.4015    0.9001 H   0  0  0  0  0  0  0  0  0  0  0  0\\n  1  2  1  0\\n  2  3  2  3\\n  3  4  1  0\\n  4  5  2  3\\n  5  6  1  0\\n  6  7  2  0\\n  3  8  1  0\\n  8  9  3  0\\n  1 10  1  0\\n  1 11  1  0\\n  2 12  1  0\\n  4 13  1  0\\n  5 14  1  0\\n  6 15  1  0\\nM  END\\n\",\"sdf\");\n",
       "\tviewer_1682437366493788.setStyle({\"stick\": {}});\n",
       "\tviewer_1682437366493788.setBackgroundColor(\"0xeeeeee\");\n",
       "\tviewer_1682437366493788.zoomTo();\n",
       "viewer_1682437366493788.render();\n",
       "});\n",
       "</script>"
      ]
     },
     "metadata": {},
     "output_type": "display_data"
    },
    {
     "name": "stdout",
     "output_type": "stream",
     "text": [
      "(9, 3) (9, 3)\n",
      "9.92793313193198\n"
     ]
    },
    {
     "data": {
      "application/3dmoljs_load.v0": "<div id=\"3dmolviewer_16824373664949417\"  style=\"position: relative; width: 400px; height: 400px\">\n        <p id=\"3dmolwarning_16824373664949417\" style=\"background-color:#ffcccc;color:black\">You appear to be running in JupyterLab (or JavaScript failed to load for some other reason).  You need to install the 3dmol extension: <br>\n        <tt>jupyter labextension install jupyterlab_3dmol</tt></p>\n        </div>\n<script>\n\nvar loadScriptAsync = function(uri){\n  return new Promise((resolve, reject) => {\n    //this is to ignore the existence of requirejs amd\n    var savedexports, savedmodule;\n    if (typeof exports !== 'undefined') savedexports = exports;\n    else exports = {}\n    if (typeof module !== 'undefined') savedmodule = module;\n    else module = {}\n\n    var tag = document.createElement('script');\n    tag.src = uri;\n    tag.async = true;\n    tag.onload = () => {\n        exports = savedexports;\n        module = savedmodule;\n        resolve();\n    };\n  var firstScriptTag = document.getElementsByTagName('script')[0];\n  firstScriptTag.parentNode.insertBefore(tag, firstScriptTag);\n});\n};\n\nif(typeof $3Dmolpromise === 'undefined') {\n$3Dmolpromise = null;\n  $3Dmolpromise = loadScriptAsync('https://cdnjs.cloudflare.com/ajax/libs/3Dmol/2.0.1/3Dmol-min.js');\n}\n\nvar viewer_16824373664949417 = null;\nvar warn = document.getElementById(\"3dmolwarning_16824373664949417\");\nif(warn) {\n    warn.parentNode.removeChild(warn);\n}\n$3Dmolpromise.then(function() {\nviewer_16824373664949417 = $3Dmol.createViewer(document.getElementById(\"3dmolviewer_16824373664949417\"),{backgroundColor:\"white\"});\nviewer_16824373664949417.zoomTo();\n\tviewer_16824373664949417.removeAllModels();\n\tviewer_16824373664949417.addModel(\"\\n     RDKit          3D\\n\\n 15 14  0  0  0  0  0  0  0  0999 V2000\\n   -1.0685    0.6850    2.5172 N   0  0  0  0  0  0  0  0  0  0  0  0\\n   -0.2218    0.9118    1.4197 C   0  0  0  0  0  0  0  0  0  0  0  0\\n   -0.2572    0.0938    0.3923 C   0  0  0  0  0  0  0  0  0  0  0  0\\n    0.5820    0.2554   -0.7795 C   0  0  0  0  0  0  0  0  0  0  0  0\\n    0.5095   -0.5834   -1.7733 C   0  0  0  0  0  0  0  0  0  0  0  0\\n    1.3448   -0.4372   -2.9591 C   0  0  0  0  0  0  0  0  0  0  0  0\\n    2.1670    0.5126   -3.0564 O   0  0  0  0  0  0  0  0  0  0  0  0\\n   -1.1849   -1.0342    0.4276 C   0  0  0  0  0  0  0  0  0  0  0  0\\n   -1.9331   -1.9167    0.4506 N   0  0  0  0  0  0  0  0  0  0  0  0\\n   -0.7910    0.0077    3.2599 H   0  0  0  0  0  0  0  0  0  0  0  0\\n   -1.9677    1.2140    2.5536 H   0  0  0  0  0  0  0  0  0  0  0  0\\n    0.4426    1.7464    1.4299 H   0  0  0  0  0  0  0  0  0  0  0  0\\n    1.2676    1.0748   -0.8244 H   0  0  0  0  0  0  0  0  0  0  0  0\\n   -0.1860   -1.4052   -1.7152 H   0  0  0  0  0  0  0  0  0  0  0  0\\n    1.2967   -1.1249   -3.7924 H   0  0  0  0  0  0  0  0  0  0  0  0\\n  1  2  1  0\\n  2  3  2  3\\n  3  4  1  0\\n  4  5  2  3\\n  5  6  1  0\\n  6  7  2  0\\n  3  8  1  0\\n  8  9  3  0\\n  1 10  1  0\\n  1 11  1  0\\n  2 12  1  0\\n  4 13  1  0\\n  5 14  1  0\\n  6 15  1  0\\nM  END\\n\",\"sdf\");\n\tviewer_16824373664949417.setStyle({\"stick\": {}});\n\tviewer_16824373664949417.setBackgroundColor(\"0xeeeeee\");\n\tviewer_16824373664949417.zoomTo();\nviewer_16824373664949417.render();\n});\n</script>",
      "text/html": [
       "<div id=\"3dmolviewer_16824373664949417\"  style=\"position: relative; width: 400px; height: 400px\">\n",
       "        <p id=\"3dmolwarning_16824373664949417\" style=\"background-color:#ffcccc;color:black\">You appear to be running in JupyterLab (or JavaScript failed to load for some other reason).  You need to install the 3dmol extension: <br>\n",
       "        <tt>jupyter labextension install jupyterlab_3dmol</tt></p>\n",
       "        </div>\n",
       "<script>\n",
       "\n",
       "var loadScriptAsync = function(uri){\n",
       "  return new Promise((resolve, reject) => {\n",
       "    //this is to ignore the existence of requirejs amd\n",
       "    var savedexports, savedmodule;\n",
       "    if (typeof exports !== 'undefined') savedexports = exports;\n",
       "    else exports = {}\n",
       "    if (typeof module !== 'undefined') savedmodule = module;\n",
       "    else module = {}\n",
       "\n",
       "    var tag = document.createElement('script');\n",
       "    tag.src = uri;\n",
       "    tag.async = true;\n",
       "    tag.onload = () => {\n",
       "        exports = savedexports;\n",
       "        module = savedmodule;\n",
       "        resolve();\n",
       "    };\n",
       "  var firstScriptTag = document.getElementsByTagName('script')[0];\n",
       "  firstScriptTag.parentNode.insertBefore(tag, firstScriptTag);\n",
       "});\n",
       "};\n",
       "\n",
       "if(typeof $3Dmolpromise === 'undefined') {\n",
       "$3Dmolpromise = null;\n",
       "  $3Dmolpromise = loadScriptAsync('https://cdnjs.cloudflare.com/ajax/libs/3Dmol/2.0.1/3Dmol-min.js');\n",
       "}\n",
       "\n",
       "var viewer_16824373664949417 = null;\n",
       "var warn = document.getElementById(\"3dmolwarning_16824373664949417\");\n",
       "if(warn) {\n",
       "    warn.parentNode.removeChild(warn);\n",
       "}\n",
       "$3Dmolpromise.then(function() {\n",
       "viewer_16824373664949417 = $3Dmol.createViewer(document.getElementById(\"3dmolviewer_16824373664949417\"),{backgroundColor:\"white\"});\n",
       "viewer_16824373664949417.zoomTo();\n",
       "\tviewer_16824373664949417.removeAllModels();\n",
       "\tviewer_16824373664949417.addModel(\"\\n     RDKit          3D\\n\\n 15 14  0  0  0  0  0  0  0  0999 V2000\\n   -1.0685    0.6850    2.5172 N   0  0  0  0  0  0  0  0  0  0  0  0\\n   -0.2218    0.9118    1.4197 C   0  0  0  0  0  0  0  0  0  0  0  0\\n   -0.2572    0.0938    0.3923 C   0  0  0  0  0  0  0  0  0  0  0  0\\n    0.5820    0.2554   -0.7795 C   0  0  0  0  0  0  0  0  0  0  0  0\\n    0.5095   -0.5834   -1.7733 C   0  0  0  0  0  0  0  0  0  0  0  0\\n    1.3448   -0.4372   -2.9591 C   0  0  0  0  0  0  0  0  0  0  0  0\\n    2.1670    0.5126   -3.0564 O   0  0  0  0  0  0  0  0  0  0  0  0\\n   -1.1849   -1.0342    0.4276 C   0  0  0  0  0  0  0  0  0  0  0  0\\n   -1.9331   -1.9167    0.4506 N   0  0  0  0  0  0  0  0  0  0  0  0\\n   -0.7910    0.0077    3.2599 H   0  0  0  0  0  0  0  0  0  0  0  0\\n   -1.9677    1.2140    2.5536 H   0  0  0  0  0  0  0  0  0  0  0  0\\n    0.4426    1.7464    1.4299 H   0  0  0  0  0  0  0  0  0  0  0  0\\n    1.2676    1.0748   -0.8244 H   0  0  0  0  0  0  0  0  0  0  0  0\\n   -0.1860   -1.4052   -1.7152 H   0  0  0  0  0  0  0  0  0  0  0  0\\n    1.2967   -1.1249   -3.7924 H   0  0  0  0  0  0  0  0  0  0  0  0\\n  1  2  1  0\\n  2  3  2  3\\n  3  4  1  0\\n  4  5  2  3\\n  5  6  1  0\\n  6  7  2  0\\n  3  8  1  0\\n  8  9  3  0\\n  1 10  1  0\\n  1 11  1  0\\n  2 12  1  0\\n  4 13  1  0\\n  5 14  1  0\\n  6 15  1  0\\nM  END\\n\",\"sdf\");\n",
       "\tviewer_16824373664949417.setStyle({\"stick\": {}});\n",
       "\tviewer_16824373664949417.setBackgroundColor(\"0xeeeeee\");\n",
       "\tviewer_16824373664949417.zoomTo();\n",
       "viewer_16824373664949417.render();\n",
       "});\n",
       "</script>"
      ]
     },
     "metadata": {},
     "output_type": "display_data"
    },
    {
     "name": "stdout",
     "output_type": "stream",
     "text": [
      "(9, 3) (9, 3)\n",
      "2.9693448278298558\n"
     ]
    },
    {
     "data": {
      "application/3dmoljs_load.v0": "<div id=\"3dmolviewer_16824373664960947\"  style=\"position: relative; width: 400px; height: 400px\">\n        <p id=\"3dmolwarning_16824373664960947\" style=\"background-color:#ffcccc;color:black\">You appear to be running in JupyterLab (or JavaScript failed to load for some other reason).  You need to install the 3dmol extension: <br>\n        <tt>jupyter labextension install jupyterlab_3dmol</tt></p>\n        </div>\n<script>\n\nvar loadScriptAsync = function(uri){\n  return new Promise((resolve, reject) => {\n    //this is to ignore the existence of requirejs amd\n    var savedexports, savedmodule;\n    if (typeof exports !== 'undefined') savedexports = exports;\n    else exports = {}\n    if (typeof module !== 'undefined') savedmodule = module;\n    else module = {}\n\n    var tag = document.createElement('script');\n    tag.src = uri;\n    tag.async = true;\n    tag.onload = () => {\n        exports = savedexports;\n        module = savedmodule;\n        resolve();\n    };\n  var firstScriptTag = document.getElementsByTagName('script')[0];\n  firstScriptTag.parentNode.insertBefore(tag, firstScriptTag);\n});\n};\n\nif(typeof $3Dmolpromise === 'undefined') {\n$3Dmolpromise = null;\n  $3Dmolpromise = loadScriptAsync('https://cdnjs.cloudflare.com/ajax/libs/3Dmol/2.0.1/3Dmol-min.js');\n}\n\nvar viewer_16824373664960947 = null;\nvar warn = document.getElementById(\"3dmolwarning_16824373664960947\");\nif(warn) {\n    warn.parentNode.removeChild(warn);\n}\n$3Dmolpromise.then(function() {\nviewer_16824373664960947 = $3Dmol.createViewer(document.getElementById(\"3dmolviewer_16824373664960947\"),{backgroundColor:\"white\"});\nviewer_16824373664960947.zoomTo();\n\tviewer_16824373664960947.removeAllModels();\n\tviewer_16824373664960947.addModel(\"\\n     RDKit          3D\\n\\n 15 14  0  0  0  0  0  0  0  0999 V2000\\n   -1.8724   -0.7660    0.0578 N   0  0  0  0  0  0  0  0  0  0  0  0\\n   -1.6311    0.6202    0.1051 C   0  0  0  0  0  0  0  0  0  0  0  0\\n   -0.3884    1.1587   -0.0649 C   0  0  0  0  0  0  0  0  0  0  0  0\\n    0.6850    0.2888   -0.2960 C   0  0  0  0  0  0  0  0  0  0  0  0\\n    1.6478   -0.4913   -0.5033 C   0  0  0  0  0  0  0  0  0  0  0  0\\n    1.4316   -1.9545   -0.5505 C   0  0  0  0  0  0  0  0  0  0  0  0\\n    2.4151   -2.7065   -0.7661 O   0  0  0  0  0  0  0  0  0  0  0  0\\n   -0.3475    2.6008    0.0264 C   0  0  0  0  0  0  0  0  0  0  0  0\\n   -0.3245    3.7689    0.0867 N   0  0  0  0  0  0  0  0  0  0  0  0\\n   -2.3309   -1.2758    0.8469 H   0  0  0  0  0  0  0  0  0  0  0  0\\n   -1.5951   -1.3149   -0.7791 H   0  0  0  0  0  0  0  0  0  0  0  0\\n   -2.4495    1.2904    0.2842 H   0  0  0  0  0  0  0  0  0  0  0  0\\n    1.5967    1.3629   -0.4111 H   0  0  0  0  0  0  0  0  0  0  0  0\\n    2.6931   -0.2069   -0.6644 H   0  0  0  0  0  0  0  0  0  0  0  0\\n    0.4699   -2.3749   -0.4053 H   0  0  0  0  0  0  0  0  0  0  0  0\\n  1  2  1  0\\n  2  3  2  3\\n  3  4  1  0\\n  4  5  2  3\\n  5  6  1  0\\n  6  7  2  0\\n  3  8  1  0\\n  8  9  3  0\\n  1 10  1  0\\n  1 11  1  0\\n  2 12  1  0\\n  4 13  1  0\\n  5 14  1  0\\n  6 15  1  0\\nM  END\\n\",\"sdf\");\n\tviewer_16824373664960947.setStyle({\"stick\": {}});\n\tviewer_16824373664960947.setBackgroundColor(\"0xeeeeee\");\n\tviewer_16824373664960947.zoomTo();\nviewer_16824373664960947.render();\n});\n</script>",
      "text/html": [
       "<div id=\"3dmolviewer_16824373664960947\"  style=\"position: relative; width: 400px; height: 400px\">\n",
       "        <p id=\"3dmolwarning_16824373664960947\" style=\"background-color:#ffcccc;color:black\">You appear to be running in JupyterLab (or JavaScript failed to load for some other reason).  You need to install the 3dmol extension: <br>\n",
       "        <tt>jupyter labextension install jupyterlab_3dmol</tt></p>\n",
       "        </div>\n",
       "<script>\n",
       "\n",
       "var loadScriptAsync = function(uri){\n",
       "  return new Promise((resolve, reject) => {\n",
       "    //this is to ignore the existence of requirejs amd\n",
       "    var savedexports, savedmodule;\n",
       "    if (typeof exports !== 'undefined') savedexports = exports;\n",
       "    else exports = {}\n",
       "    if (typeof module !== 'undefined') savedmodule = module;\n",
       "    else module = {}\n",
       "\n",
       "    var tag = document.createElement('script');\n",
       "    tag.src = uri;\n",
       "    tag.async = true;\n",
       "    tag.onload = () => {\n",
       "        exports = savedexports;\n",
       "        module = savedmodule;\n",
       "        resolve();\n",
       "    };\n",
       "  var firstScriptTag = document.getElementsByTagName('script')[0];\n",
       "  firstScriptTag.parentNode.insertBefore(tag, firstScriptTag);\n",
       "});\n",
       "};\n",
       "\n",
       "if(typeof $3Dmolpromise === 'undefined') {\n",
       "$3Dmolpromise = null;\n",
       "  $3Dmolpromise = loadScriptAsync('https://cdnjs.cloudflare.com/ajax/libs/3Dmol/2.0.1/3Dmol-min.js');\n",
       "}\n",
       "\n",
       "var viewer_16824373664960947 = null;\n",
       "var warn = document.getElementById(\"3dmolwarning_16824373664960947\");\n",
       "if(warn) {\n",
       "    warn.parentNode.removeChild(warn);\n",
       "}\n",
       "$3Dmolpromise.then(function() {\n",
       "viewer_16824373664960947 = $3Dmol.createViewer(document.getElementById(\"3dmolviewer_16824373664960947\"),{backgroundColor:\"white\"});\n",
       "viewer_16824373664960947.zoomTo();\n",
       "\tviewer_16824373664960947.removeAllModels();\n",
       "\tviewer_16824373664960947.addModel(\"\\n     RDKit          3D\\n\\n 15 14  0  0  0  0  0  0  0  0999 V2000\\n   -1.8724   -0.7660    0.0578 N   0  0  0  0  0  0  0  0  0  0  0  0\\n   -1.6311    0.6202    0.1051 C   0  0  0  0  0  0  0  0  0  0  0  0\\n   -0.3884    1.1587   -0.0649 C   0  0  0  0  0  0  0  0  0  0  0  0\\n    0.6850    0.2888   -0.2960 C   0  0  0  0  0  0  0  0  0  0  0  0\\n    1.6478   -0.4913   -0.5033 C   0  0  0  0  0  0  0  0  0  0  0  0\\n    1.4316   -1.9545   -0.5505 C   0  0  0  0  0  0  0  0  0  0  0  0\\n    2.4151   -2.7065   -0.7661 O   0  0  0  0  0  0  0  0  0  0  0  0\\n   -0.3475    2.6008    0.0264 C   0  0  0  0  0  0  0  0  0  0  0  0\\n   -0.3245    3.7689    0.0867 N   0  0  0  0  0  0  0  0  0  0  0  0\\n   -2.3309   -1.2758    0.8469 H   0  0  0  0  0  0  0  0  0  0  0  0\\n   -1.5951   -1.3149   -0.7791 H   0  0  0  0  0  0  0  0  0  0  0  0\\n   -2.4495    1.2904    0.2842 H   0  0  0  0  0  0  0  0  0  0  0  0\\n    1.5967    1.3629   -0.4111 H   0  0  0  0  0  0  0  0  0  0  0  0\\n    2.6931   -0.2069   -0.6644 H   0  0  0  0  0  0  0  0  0  0  0  0\\n    0.4699   -2.3749   -0.4053 H   0  0  0  0  0  0  0  0  0  0  0  0\\n  1  2  1  0\\n  2  3  2  3\\n  3  4  1  0\\n  4  5  2  3\\n  5  6  1  0\\n  6  7  2  0\\n  3  8  1  0\\n  8  9  3  0\\n  1 10  1  0\\n  1 11  1  0\\n  2 12  1  0\\n  4 13  1  0\\n  5 14  1  0\\n  6 15  1  0\\nM  END\\n\",\"sdf\");\n",
       "\tviewer_16824373664960947.setStyle({\"stick\": {}});\n",
       "\tviewer_16824373664960947.setBackgroundColor(\"0xeeeeee\");\n",
       "\tviewer_16824373664960947.zoomTo();\n",
       "viewer_16824373664960947.render();\n",
       "});\n",
       "</script>"
      ]
     },
     "metadata": {},
     "output_type": "display_data"
    },
    {
     "name": "stdout",
     "output_type": "stream",
     "text": [
      "(9, 3) (9, 3)\n",
      "5.650994983435064\n"
     ]
    },
    {
     "data": {
      "application/3dmoljs_load.v0": "<div id=\"3dmolviewer_16824373664972374\"  style=\"position: relative; width: 400px; height: 400px\">\n        <p id=\"3dmolwarning_16824373664972374\" style=\"background-color:#ffcccc;color:black\">You appear to be running in JupyterLab (or JavaScript failed to load for some other reason).  You need to install the 3dmol extension: <br>\n        <tt>jupyter labextension install jupyterlab_3dmol</tt></p>\n        </div>\n<script>\n\nvar loadScriptAsync = function(uri){\n  return new Promise((resolve, reject) => {\n    //this is to ignore the existence of requirejs amd\n    var savedexports, savedmodule;\n    if (typeof exports !== 'undefined') savedexports = exports;\n    else exports = {}\n    if (typeof module !== 'undefined') savedmodule = module;\n    else module = {}\n\n    var tag = document.createElement('script');\n    tag.src = uri;\n    tag.async = true;\n    tag.onload = () => {\n        exports = savedexports;\n        module = savedmodule;\n        resolve();\n    };\n  var firstScriptTag = document.getElementsByTagName('script')[0];\n  firstScriptTag.parentNode.insertBefore(tag, firstScriptTag);\n});\n};\n\nif(typeof $3Dmolpromise === 'undefined') {\n$3Dmolpromise = null;\n  $3Dmolpromise = loadScriptAsync('https://cdnjs.cloudflare.com/ajax/libs/3Dmol/2.0.1/3Dmol-min.js');\n}\n\nvar viewer_16824373664972374 = null;\nvar warn = document.getElementById(\"3dmolwarning_16824373664972374\");\nif(warn) {\n    warn.parentNode.removeChild(warn);\n}\n$3Dmolpromise.then(function() {\nviewer_16824373664972374 = $3Dmol.createViewer(document.getElementById(\"3dmolviewer_16824373664972374\"),{backgroundColor:\"white\"});\nviewer_16824373664972374.zoomTo();\n\tviewer_16824373664972374.removeAllModels();\n\tviewer_16824373664972374.addModel(\"\\n     RDKit          3D\\n\\n 15 14  0  0  0  0  0  0  0  0999 V2000\\n    2.3365    1.7473   -0.1169 N   0  0  0  0  0  0  0  0  0  0  0  0\\n    1.6972    0.5397    0.2393 C   0  0  0  0  0  0  0  0  0  0  0  0\\n    0.5486    0.0852    0.0800 C   0  0  0  0  0  0  0  0  0  0  0  0\\n   -0.7391   -0.4222   -0.0995 C   0  0  0  0  0  0  0  0  0  0  0  0\\n   -1.0899   -1.6541    0.3755 C   0  0  0  0  0  0  0  0  0  0  0  0\\n   -2.4271   -2.1402    0.1691 C   0  0  0  0  0  0  0  0  0  0  0  0\\n   -3.2696   -1.4298   -0.4599 O   0  0  0  0  0  0  0  0  0  0  0  0\\n    0.1106    1.5970   -0.8019 C   0  0  0  0  0  0  0  0  0  0  0  0\\n   -0.1977    2.5965   -1.3995 N   0  0  0  0  0  0  0  0  0  0  0  0\\n    2.4086    2.1391   -1.0566 H   0  0  0  0  0  0  0  0  0  0  0  0\\n    2.7833    2.3007    0.6627 H   0  0  0  0  0  0  0  0  0  0  0  0\\n    2.4720   -0.1261    0.7985 H   0  0  0  0  0  0  0  0  0  0  0  0\\n   -1.5623    0.0552   -0.5918 H   0  0  0  0  0  0  0  0  0  0  0  0\\n   -0.3225   -2.1980    0.8859 H   0  0  0  0  0  0  0  0  0  0  0  0\\n   -2.7484   -3.0905    0.5274 H   0  0  0  0  0  0  0  0  0  0  0  0\\n  1  2  1  0\\n  2  3  2  3\\n  3  4  1  0\\n  4  5  2  3\\n  5  6  1  0\\n  6  7  2  0\\n  3  8  1  0\\n  8  9  3  0\\n  1 10  1  0\\n  1 11  1  0\\n  2 12  1  0\\n  4 13  1  0\\n  5 14  1  0\\n  6 15  1  0\\nM  END\\n\",\"sdf\");\n\tviewer_16824373664972374.setStyle({\"stick\": {}});\n\tviewer_16824373664972374.setBackgroundColor(\"0xeeeeee\");\n\tviewer_16824373664972374.zoomTo();\nviewer_16824373664972374.render();\n});\n</script>",
      "text/html": [
       "<div id=\"3dmolviewer_16824373664972374\"  style=\"position: relative; width: 400px; height: 400px\">\n",
       "        <p id=\"3dmolwarning_16824373664972374\" style=\"background-color:#ffcccc;color:black\">You appear to be running in JupyterLab (or JavaScript failed to load for some other reason).  You need to install the 3dmol extension: <br>\n",
       "        <tt>jupyter labextension install jupyterlab_3dmol</tt></p>\n",
       "        </div>\n",
       "<script>\n",
       "\n",
       "var loadScriptAsync = function(uri){\n",
       "  return new Promise((resolve, reject) => {\n",
       "    //this is to ignore the existence of requirejs amd\n",
       "    var savedexports, savedmodule;\n",
       "    if (typeof exports !== 'undefined') savedexports = exports;\n",
       "    else exports = {}\n",
       "    if (typeof module !== 'undefined') savedmodule = module;\n",
       "    else module = {}\n",
       "\n",
       "    var tag = document.createElement('script');\n",
       "    tag.src = uri;\n",
       "    tag.async = true;\n",
       "    tag.onload = () => {\n",
       "        exports = savedexports;\n",
       "        module = savedmodule;\n",
       "        resolve();\n",
       "    };\n",
       "  var firstScriptTag = document.getElementsByTagName('script')[0];\n",
       "  firstScriptTag.parentNode.insertBefore(tag, firstScriptTag);\n",
       "});\n",
       "};\n",
       "\n",
       "if(typeof $3Dmolpromise === 'undefined') {\n",
       "$3Dmolpromise = null;\n",
       "  $3Dmolpromise = loadScriptAsync('https://cdnjs.cloudflare.com/ajax/libs/3Dmol/2.0.1/3Dmol-min.js');\n",
       "}\n",
       "\n",
       "var viewer_16824373664972374 = null;\n",
       "var warn = document.getElementById(\"3dmolwarning_16824373664972374\");\n",
       "if(warn) {\n",
       "    warn.parentNode.removeChild(warn);\n",
       "}\n",
       "$3Dmolpromise.then(function() {\n",
       "viewer_16824373664972374 = $3Dmol.createViewer(document.getElementById(\"3dmolviewer_16824373664972374\"),{backgroundColor:\"white\"});\n",
       "viewer_16824373664972374.zoomTo();\n",
       "\tviewer_16824373664972374.removeAllModels();\n",
       "\tviewer_16824373664972374.addModel(\"\\n     RDKit          3D\\n\\n 15 14  0  0  0  0  0  0  0  0999 V2000\\n    2.3365    1.7473   -0.1169 N   0  0  0  0  0  0  0  0  0  0  0  0\\n    1.6972    0.5397    0.2393 C   0  0  0  0  0  0  0  0  0  0  0  0\\n    0.5486    0.0852    0.0800 C   0  0  0  0  0  0  0  0  0  0  0  0\\n   -0.7391   -0.4222   -0.0995 C   0  0  0  0  0  0  0  0  0  0  0  0\\n   -1.0899   -1.6541    0.3755 C   0  0  0  0  0  0  0  0  0  0  0  0\\n   -2.4271   -2.1402    0.1691 C   0  0  0  0  0  0  0  0  0  0  0  0\\n   -3.2696   -1.4298   -0.4599 O   0  0  0  0  0  0  0  0  0  0  0  0\\n    0.1106    1.5970   -0.8019 C   0  0  0  0  0  0  0  0  0  0  0  0\\n   -0.1977    2.5965   -1.3995 N   0  0  0  0  0  0  0  0  0  0  0  0\\n    2.4086    2.1391   -1.0566 H   0  0  0  0  0  0  0  0  0  0  0  0\\n    2.7833    2.3007    0.6627 H   0  0  0  0  0  0  0  0  0  0  0  0\\n    2.4720   -0.1261    0.7985 H   0  0  0  0  0  0  0  0  0  0  0  0\\n   -1.5623    0.0552   -0.5918 H   0  0  0  0  0  0  0  0  0  0  0  0\\n   -0.3225   -2.1980    0.8859 H   0  0  0  0  0  0  0  0  0  0  0  0\\n   -2.7484   -3.0905    0.5274 H   0  0  0  0  0  0  0  0  0  0  0  0\\n  1  2  1  0\\n  2  3  2  3\\n  3  4  1  0\\n  4  5  2  3\\n  5  6  1  0\\n  6  7  2  0\\n  3  8  1  0\\n  8  9  3  0\\n  1 10  1  0\\n  1 11  1  0\\n  2 12  1  0\\n  4 13  1  0\\n  5 14  1  0\\n  6 15  1  0\\nM  END\\n\",\"sdf\");\n",
       "\tviewer_16824373664972374.setStyle({\"stick\": {}});\n",
       "\tviewer_16824373664972374.setBackgroundColor(\"0xeeeeee\");\n",
       "\tviewer_16824373664972374.zoomTo();\n",
       "viewer_16824373664972374.render();\n",
       "});\n",
       "</script>"
      ]
     },
     "metadata": {},
     "output_type": "display_data"
    },
    {
     "name": "stdout",
     "output_type": "stream",
     "text": [
      "(9, 3) (9, 3)\n",
      "5.300531590637019\n"
     ]
    },
    {
     "data": {
      "application/3dmoljs_load.v0": "<div id=\"3dmolviewer_16824373664983888\"  style=\"position: relative; width: 400px; height: 400px\">\n        <p id=\"3dmolwarning_16824373664983888\" style=\"background-color:#ffcccc;color:black\">You appear to be running in JupyterLab (or JavaScript failed to load for some other reason).  You need to install the 3dmol extension: <br>\n        <tt>jupyter labextension install jupyterlab_3dmol</tt></p>\n        </div>\n<script>\n\nvar loadScriptAsync = function(uri){\n  return new Promise((resolve, reject) => {\n    //this is to ignore the existence of requirejs amd\n    var savedexports, savedmodule;\n    if (typeof exports !== 'undefined') savedexports = exports;\n    else exports = {}\n    if (typeof module !== 'undefined') savedmodule = module;\n    else module = {}\n\n    var tag = document.createElement('script');\n    tag.src = uri;\n    tag.async = true;\n    tag.onload = () => {\n        exports = savedexports;\n        module = savedmodule;\n        resolve();\n    };\n  var firstScriptTag = document.getElementsByTagName('script')[0];\n  firstScriptTag.parentNode.insertBefore(tag, firstScriptTag);\n});\n};\n\nif(typeof $3Dmolpromise === 'undefined') {\n$3Dmolpromise = null;\n  $3Dmolpromise = loadScriptAsync('https://cdnjs.cloudflare.com/ajax/libs/3Dmol/2.0.1/3Dmol-min.js');\n}\n\nvar viewer_16824373664983888 = null;\nvar warn = document.getElementById(\"3dmolwarning_16824373664983888\");\nif(warn) {\n    warn.parentNode.removeChild(warn);\n}\n$3Dmolpromise.then(function() {\nviewer_16824373664983888 = $3Dmol.createViewer(document.getElementById(\"3dmolviewer_16824373664983888\"),{backgroundColor:\"white\"});\nviewer_16824373664983888.zoomTo();\n\tviewer_16824373664983888.removeAllModels();\n\tviewer_16824373664983888.addModel(\"\\n     RDKit          3D\\n\\n 15 14  0  0  0  0  0  0  0  0999 V2000\\n    1.5764    1.9378   -0.8466 N   0  0  0  0  0  0  0  0  0  0  0  0\\n    1.5136    1.3989    0.4892 C   0  0  0  0  0  0  0  0  0  0  0  0\\n    0.6233    0.4755    0.7948 C   0  0  0  0  0  0  0  0  0  0  0  0\\n   -0.2825    0.0213   -0.2400 C   0  0  0  0  0  0  0  0  0  0  0  0\\n   -1.1966   -0.8960   -0.0075 C   0  0  0  0  0  0  0  0  0  0  0  0\\n   -2.0982   -1.3472   -1.0411 C   0  0  0  0  0  0  0  0  0  0  0  0\\n   -2.9660   -2.2352   -0.7776 O   0  0  0  0  0  0  0  0  0  0  0  0\\n    0.5408   -0.0811    2.1037 C   0  0  0  0  0  0  0  0  0  0  0  0\\n    0.4733   -0.5226    3.1933 N   0  0  0  0  0  0  0  0  0  0  0  0\\n    0.6757    2.2664   -1.2594 H   0  0  0  0  0  0  0  0  0  0  0  0\\n    2.4843    1.9884   -1.3552 H   0  0  0  0  0  0  0  0  0  0  0  0\\n    2.1887    1.7368    1.2448 H   0  0  0  0  0  0  0  0  0  0  0  0\\n   -0.2388    0.4289   -1.2584 H   0  0  0  0  0  0  0  0  0  0  0  0\\n   -1.2592   -1.3115    0.9949 H   0  0  0  0  0  0  0  0  0  0  0  0\\n   -2.0347   -0.9311   -2.0348 H   0  0  0  0  0  0  0  0  0  0  0  0\\n  1  2  1  0\\n  2  3  2  3\\n  3  4  1  0\\n  4  5  2  3\\n  5  6  1  0\\n  6  7  2  0\\n  3  8  1  0\\n  8  9  3  0\\n  1 10  1  0\\n  1 11  1  0\\n  2 12  1  0\\n  4 13  1  0\\n  5 14  1  0\\n  6 15  1  0\\nM  END\\n\",\"sdf\");\n\tviewer_16824373664983888.setStyle({\"stick\": {}});\n\tviewer_16824373664983888.setBackgroundColor(\"0xeeeeee\");\n\tviewer_16824373664983888.zoomTo();\nviewer_16824373664983888.render();\n});\n</script>",
      "text/html": [
       "<div id=\"3dmolviewer_16824373664983888\"  style=\"position: relative; width: 400px; height: 400px\">\n",
       "        <p id=\"3dmolwarning_16824373664983888\" style=\"background-color:#ffcccc;color:black\">You appear to be running in JupyterLab (or JavaScript failed to load for some other reason).  You need to install the 3dmol extension: <br>\n",
       "        <tt>jupyter labextension install jupyterlab_3dmol</tt></p>\n",
       "        </div>\n",
       "<script>\n",
       "\n",
       "var loadScriptAsync = function(uri){\n",
       "  return new Promise((resolve, reject) => {\n",
       "    //this is to ignore the existence of requirejs amd\n",
       "    var savedexports, savedmodule;\n",
       "    if (typeof exports !== 'undefined') savedexports = exports;\n",
       "    else exports = {}\n",
       "    if (typeof module !== 'undefined') savedmodule = module;\n",
       "    else module = {}\n",
       "\n",
       "    var tag = document.createElement('script');\n",
       "    tag.src = uri;\n",
       "    tag.async = true;\n",
       "    tag.onload = () => {\n",
       "        exports = savedexports;\n",
       "        module = savedmodule;\n",
       "        resolve();\n",
       "    };\n",
       "  var firstScriptTag = document.getElementsByTagName('script')[0];\n",
       "  firstScriptTag.parentNode.insertBefore(tag, firstScriptTag);\n",
       "});\n",
       "};\n",
       "\n",
       "if(typeof $3Dmolpromise === 'undefined') {\n",
       "$3Dmolpromise = null;\n",
       "  $3Dmolpromise = loadScriptAsync('https://cdnjs.cloudflare.com/ajax/libs/3Dmol/2.0.1/3Dmol-min.js');\n",
       "}\n",
       "\n",
       "var viewer_16824373664983888 = null;\n",
       "var warn = document.getElementById(\"3dmolwarning_16824373664983888\");\n",
       "if(warn) {\n",
       "    warn.parentNode.removeChild(warn);\n",
       "}\n",
       "$3Dmolpromise.then(function() {\n",
       "viewer_16824373664983888 = $3Dmol.createViewer(document.getElementById(\"3dmolviewer_16824373664983888\"),{backgroundColor:\"white\"});\n",
       "viewer_16824373664983888.zoomTo();\n",
       "\tviewer_16824373664983888.removeAllModels();\n",
       "\tviewer_16824373664983888.addModel(\"\\n     RDKit          3D\\n\\n 15 14  0  0  0  0  0  0  0  0999 V2000\\n    1.5764    1.9378   -0.8466 N   0  0  0  0  0  0  0  0  0  0  0  0\\n    1.5136    1.3989    0.4892 C   0  0  0  0  0  0  0  0  0  0  0  0\\n    0.6233    0.4755    0.7948 C   0  0  0  0  0  0  0  0  0  0  0  0\\n   -0.2825    0.0213   -0.2400 C   0  0  0  0  0  0  0  0  0  0  0  0\\n   -1.1966   -0.8960   -0.0075 C   0  0  0  0  0  0  0  0  0  0  0  0\\n   -2.0982   -1.3472   -1.0411 C   0  0  0  0  0  0  0  0  0  0  0  0\\n   -2.9660   -2.2352   -0.7776 O   0  0  0  0  0  0  0  0  0  0  0  0\\n    0.5408   -0.0811    2.1037 C   0  0  0  0  0  0  0  0  0  0  0  0\\n    0.4733   -0.5226    3.1933 N   0  0  0  0  0  0  0  0  0  0  0  0\\n    0.6757    2.2664   -1.2594 H   0  0  0  0  0  0  0  0  0  0  0  0\\n    2.4843    1.9884   -1.3552 H   0  0  0  0  0  0  0  0  0  0  0  0\\n    2.1887    1.7368    1.2448 H   0  0  0  0  0  0  0  0  0  0  0  0\\n   -0.2388    0.4289   -1.2584 H   0  0  0  0  0  0  0  0  0  0  0  0\\n   -1.2592   -1.3115    0.9949 H   0  0  0  0  0  0  0  0  0  0  0  0\\n   -2.0347   -0.9311   -2.0348 H   0  0  0  0  0  0  0  0  0  0  0  0\\n  1  2  1  0\\n  2  3  2  3\\n  3  4  1  0\\n  4  5  2  3\\n  5  6  1  0\\n  6  7  2  0\\n  3  8  1  0\\n  8  9  3  0\\n  1 10  1  0\\n  1 11  1  0\\n  2 12  1  0\\n  4 13  1  0\\n  5 14  1  0\\n  6 15  1  0\\nM  END\\n\",\"sdf\");\n",
       "\tviewer_16824373664983888.setStyle({\"stick\": {}});\n",
       "\tviewer_16824373664983888.setBackgroundColor(\"0xeeeeee\");\n",
       "\tviewer_16824373664983888.zoomTo();\n",
       "viewer_16824373664983888.render();\n",
       "});\n",
       "</script>"
      ]
     },
     "metadata": {},
     "output_type": "display_data"
    }
   ],
   "source": [
    "import numpy as np \n",
    "from rdkit import Chem\n",
    "from rdkit.Chem import AllChem\n",
    "\n",
    "mol = Chem.MolFromSmiles(smile)\n",
    "AllChem.EmbedMultipleConfs(mol, numConfs=10)\n",
    "confs = mol.GetConformers()\n",
    "\n",
    "ref_conf = confs[0]\n",
    "x = ref_conf.GetPositions()\n",
    "for i in range(1, len(confs)):\n",
    "    #confs[0].rmsd = AllChem.GetBestRMS(confs[i], ref_conf)\n",
    "    y = confs[i].GetPositions()\n",
    "\n",
    "    print(x.shape, y.shape)\n",
    "\n",
    "    U, s, V = np.linalg.svd(x.T @ y)\n",
    "    w = U @ V.T\n",
    "\n",
    "    print(np.linalg.norm( x @ w - y))\n",
    "    IPythonConsole.drawMol3D(b, confId=i) # compress using hash\n",
    "\n",
    "    #if rmsd < 0.1:\n",
    "    #    print(f\"Conformers {i} and 0 are identical up to rotation\")"
   ]
  }
 ],
 "metadata": {
  "kernelspec": {
   "display_name": "dft",
   "language": "python",
   "name": "python3"
  },
  "language_info": {
   "codemirror_mode": {
    "name": "ipython",
    "version": 3
   },
   "file_extension": ".py",
   "mimetype": "text/x-python",
   "name": "python",
   "nbconvert_exporter": "python",
   "pygments_lexer": "ipython3",
   "version": "3.8.10"
  },
  "orig_nbformat": 4
 },
 "nbformat": 4,
 "nbformat_minor": 2
}
