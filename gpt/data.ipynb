{
 "cells": [
  {
   "cell_type": "code",
   "execution_count": 5,
   "metadata": {},
   "outputs": [
    {
     "name": "stderr",
     "output_type": "stream",
     "text": [
      "/tmp/ipykernel_230836/1047216970.py:4: DtypeWarning: Columns (0,1,2,3,5,6,7,8,9,11,12,13,14,15,17,18,19,20,21,23,24,25,26,27,29,30,31,32,33,35,36,37,38,39,41,42,43,44,45,47,48,49,50,51,53,54,55,56,57,59,60,61,62,63,65,66,67,68,69,71,72,73,74,75,77,78,79,80,81,83,84,85,86,87,89,90,91,92,93,95) have mixed types. Specify dtype option on import or set low_memory=False.\n",
      "  df = pd.read_csv(\"pcq.csv\", header=None)\n"
     ]
    }
   ],
   "source": [
    "import os \n",
    "import pandas as pd\n",
    "\n",
    "df = pd.read_csv(\"pcq.csv\", header=None)"
   ]
  },
  {
   "cell_type": "code",
   "execution_count": 6,
   "metadata": {},
   "outputs": [
    {
     "data": {
      "text/plain": [
       "(201572, 96)"
      ]
     },
     "execution_count": 6,
     "metadata": {},
     "output_type": "execute_result"
    }
   ],
   "source": [
    "df.shape"
   ]
  },
  {
   "cell_type": "code",
   "execution_count": 8,
   "metadata": {},
   "outputs": [
    {
     "name": "stdout",
     "output_type": "stream",
     "text": [
      "0         CCC(F)(CF)C(C)=O\\t27776\\t1\n",
      "1         CC(=O)C(F)(CO)CF\\t27778\\t1\n",
      "2         CCC(F)(CN)C(N)=N\\t27781\\t1\n",
      "3         CCC(F)(CF)C(N)=N\\t27783\\t1\n",
      "4         NCC(F)(CO)C(N)=N\\t27785\\t1\n",
      "                     ...            \n",
      "201567                           NaN\n",
      "201568                           NaN\n",
      "201569                           NaN\n",
      "201570                           NaN\n",
      "201571                           NaN\n",
      "Name: 0, Length: 201572, dtype: object\n"
     ]
    }
   ],
   "source": [
    "smiles = df[0]\n",
    "atom_list = df[1]\n"
   ]
  },
  {
   "cell_type": "code",
   "execution_count": 9,
   "metadata": {},
   "outputs": [
    {
     "data": {
      "text/plain": [
       "0         ['C', 'C', 'C', 'F', 'C', 'F', 'C', 'C', 'O']\n",
       "1         ['C', 'C', 'O', 'C', 'F', 'C', 'O', 'C', 'F']\n",
       "2         ['C', 'C', 'C', 'F', 'C', 'N', 'C', 'N', 'N']\n",
       "3         ['C', 'C', 'C', 'F', 'C', 'F', 'C', 'N', 'N']\n",
       "4         ['N', 'C', 'C', 'F', 'C', 'O', 'C', 'N', 'N']\n",
       "                              ...                      \n",
       "201567                                              NaN\n",
       "201568                                              NaN\n",
       "201569                                              NaN\n",
       "201570                                              NaN\n",
       "201571                                              NaN\n",
       "Name: 1, Length: 201572, dtype: object"
      ]
     },
     "execution_count": 9,
     "metadata": {},
     "output_type": "execute_result"
    }
   ],
   "source": [
    "df[1]"
   ]
  },
  {
   "cell_type": "code",
   "execution_count": null,
   "metadata": {},
   "outputs": [],
   "source": [
    "smiles "
   ]
  },
  {
   "cell_type": "code",
   "execution_count": 10,
   "metadata": {},
   "outputs": [
    {
     "data": {
      "text/plain": [
       "0         [ 2.06672989 -1.25414024 -0.37301376  1.435703...\n",
       "1         [-1.28478343 -1.30226184  0.98027195 -0.678505...\n",
       "2         [-1.0456063   1.90614623 -0.65035743 -0.767030...\n",
       "3         [-0.87898564 -1.02156207 -1.76505534 -0.955519...\n",
       "4         [-1.07286461 -0.14194263  1.79258543 -0.746052...\n",
       "                                ...                        \n",
       "201567                                                  NaN\n",
       "201568                                                  NaN\n",
       "201569                                                  NaN\n",
       "201570                                                  NaN\n",
       "201571                                                  NaN\n",
       "Name: 2, Length: 201572, dtype: object"
      ]
     },
     "execution_count": 10,
     "metadata": {},
     "output_type": "execute_result"
    }
   ],
   "source": [
    "df[2]"
   ]
  },
  {
   "cell_type": "code",
   "execution_count": 11,
   "metadata": {},
   "outputs": [
    {
     "data": {
      "text/plain": [
       "0         [-13978.68751016  -8801.27355181 -12599.711947...\n",
       "1         [-14757.13550977  -9477.26691011 -13610.991474...\n",
       "2         [-11452.62454863  -6456.25342893 -10826.848712...\n",
       "3         [-13489.06168218  -8761.00121128 -12867.660530...\n",
       "4         [-13446.60366035  -8565.77137441 -12595.407019...\n",
       "                                ...                        \n",
       "201567                                                  NaN\n",
       "201568                                                  NaN\n",
       "201569                                                  NaN\n",
       "201570                                                  NaN\n",
       "201571                                                  NaN\n",
       "Name: 3, Length: 201572, dtype: object"
      ]
     },
     "execution_count": 11,
     "metadata": {},
     "output_type": "execute_result"
    }
   ],
   "source": [
    "df[3]"
   ]
  },
  {
   "cell_type": "code",
   "execution_count": 12,
   "metadata": {},
   "outputs": [
    {
     "data": {
      "text/plain": [
       "0         19396.476659\n",
       "1         20515.028674\n",
       "2         18037.957411\n",
       "3         19417.347713\n",
       "4         19713.130218\n",
       "              ...     \n",
       "201567             NaN\n",
       "201568             NaN\n",
       "201569             NaN\n",
       "201570             NaN\n",
       "201571             NaN\n",
       "Name: 4, Length: 201572, dtype: float64"
      ]
     },
     "execution_count": 12,
     "metadata": {},
     "output_type": "execute_result"
    }
   ],
   "source": [
    "df[4]"
   ]
  },
  {
   "cell_type": "code",
   "execution_count": 13,
   "metadata": {},
   "outputs": [
    {
     "data": {
      "text/plain": [
       "0         [  1.7   2.4   0.4  28.5   0.1   0.5   0.5   0...\n",
       "1         [  2.5   3.    0.3  28.2   0.1  31.8  13.    0...\n",
       "2         [  1.3   2.4   0.3  27.4   0.   23.1  33.2  22...\n",
       "3         [  1.3   2.3   0.3  27.6   0.   26.7   0.6   0...\n",
       "4         [  1.3   2.8   0.2  27.7   0.   23.5   0.6   0...\n",
       "                                ...                        \n",
       "201567                                                  NaN\n",
       "201568                                                  NaN\n",
       "201569                                                  NaN\n",
       "201570                                                  NaN\n",
       "201571                                                  NaN\n",
       "Name: 5, Length: 201572, dtype: object"
      ]
     },
     "execution_count": 13,
     "metadata": {},
     "output_type": "execute_result"
    }
   ],
   "source": [
    "df[5]"
   ]
  },
  {
   "cell_type": "code",
   "execution_count": 14,
   "metadata": {},
   "outputs": [
    {
     "data": {
      "text/plain": [
       "0         NaN\n",
       "1         NaN\n",
       "2         NaN\n",
       "3         NaN\n",
       "4         NaN\n",
       "         ... \n",
       "201567    NaN\n",
       "201568    NaN\n",
       "201569    NaN\n",
       "201570    NaN\n",
       "201571    NaN\n",
       "Name: 6, Length: 201572, dtype: object"
      ]
     },
     "execution_count": 14,
     "metadata": {},
     "output_type": "execute_result"
    }
   ],
   "source": [
    "df[6]"
   ]
  },
  {
   "cell_type": "code",
   "execution_count": 4,
   "metadata": {},
   "outputs": [
    {
     "data": {
      "text/html": [
       "<div>\n",
       "<style scoped>\n",
       "    .dataframe tbody tr th:only-of-type {\n",
       "        vertical-align: middle;\n",
       "    }\n",
       "\n",
       "    .dataframe tbody tr th {\n",
       "        vertical-align: top;\n",
       "    }\n",
       "\n",
       "    .dataframe thead th {\n",
       "        text-align: right;\n",
       "    }\n",
       "</style>\n",
       "<table border=\"1\" class=\"dataframe\">\n",
       "  <thead>\n",
       "    <tr style=\"text-align: right;\">\n",
       "      <th></th>\n",
       "      <th>CCC(F)(CF)C(C)=O\\t27776\\t1</th>\n",
       "      <th>['C', 'C', 'C', 'F', 'C', 'F', 'C', 'C', 'O']</th>\n",
       "      <th>[ 2.06672989 -1.25414024 -0.37301376  1.43570372  0.08817114 -0.56459635\\n  0.2587111   0.33600632  0.34303371  0.60175585  0.27057469  1.6823027\\n -0.26558717  1.73316809  0.00031496 -0.63888868  1.74464881 -1.31935035\\n -0.78264876 -0.69912379  0.08819375 -2.02587659 -0.63636976  0.87906776\\n -0.64989936 -1.58293527 -0.73595242]</th>\n",
       "      <th>[-13978.68751016  -8801.27355181 -12599.71194773 -12002.32007358\\n -12793.61974636 -12810.70659226 -12980.86088486 -13027.58397476\\n  -8824.48229836 -13062.6877437  -12923.86376418 -12802.91387444\\n -12683.83742581 -12857.64891462 -12692.9820772  -12980.09357122\\n -12868.92942175 -11058.50767869 -13034.04801094 -13053.66267366\\n -13039.23651274 -13061.32584502 -13067.11889697 -13068.56383826\\n -13068.70999324 -13068.75317539 -13068.77974902 -13068.78639243\\n -13068.80300095 -13068.80300095]</th>\n",
       "      <th>19396.47665896962</th>\n",
       "      <th>[  1.7   2.4   0.4  28.5   0.1   0.5   0.5   0.2   3.2   0.    8.7 134.6]</th>\n",
       "      <th>Unnamed: 6</th>\n",
       "      <th>Unnamed: 7</th>\n",
       "      <th>Unnamed: 8</th>\n",
       "      <th>Unnamed: 9</th>\n",
       "      <th>...</th>\n",
       "      <th>Unnamed: 86</th>\n",
       "      <th>Unnamed: 87</th>\n",
       "      <th>Unnamed: 88</th>\n",
       "      <th>Unnamed: 89</th>\n",
       "      <th>Unnamed: 90</th>\n",
       "      <th>Unnamed: 91</th>\n",
       "      <th>Unnamed: 92</th>\n",
       "      <th>Unnamed: 93</th>\n",
       "      <th>Unnamed: 94</th>\n",
       "      <th>Unnamed: 95</th>\n",
       "    </tr>\n",
       "  </thead>\n",
       "  <tbody>\n",
       "    <tr>\n",
       "      <th>0</th>\n",
       "      <td>CC(=O)C(F)(CO)CF\\t27778\\t1</td>\n",
       "      <td>['C', 'C', 'O', 'C', 'F', 'C', 'O', 'C', 'F']</td>\n",
       "      <td>[-1.28478343 -1.30226184  0.98027195 -0.678505...</td>\n",
       "      <td>[-14757.13550977  -9477.26691011 -13610.991474...</td>\n",
       "      <td>20515.028674</td>\n",
       "      <td>[  2.5   3.    0.3  28.2   0.1  31.8  13.    0...</td>\n",
       "      <td>NaN</td>\n",
       "      <td>NaN</td>\n",
       "      <td>NaN</td>\n",
       "      <td>NaN</td>\n",
       "      <td>...</td>\n",
       "      <td>NaN</td>\n",
       "      <td>NaN</td>\n",
       "      <td>NaN</td>\n",
       "      <td>NaN</td>\n",
       "      <td>NaN</td>\n",
       "      <td>NaN</td>\n",
       "      <td>NaN</td>\n",
       "      <td>NaN</td>\n",
       "      <td>NaN</td>\n",
       "      <td>NaN</td>\n",
       "    </tr>\n",
       "    <tr>\n",
       "      <th>1</th>\n",
       "      <td>CCC(F)(CN)C(N)=N\\t27781\\t1</td>\n",
       "      <td>['C', 'C', 'C', 'F', 'C', 'N', 'C', 'N', 'N']</td>\n",
       "      <td>[-1.0456063   1.90614623 -0.65035743 -0.767030...</td>\n",
       "      <td>[-11452.62454863  -6456.25342893 -10826.848712...</td>\n",
       "      <td>18037.957411</td>\n",
       "      <td>[  1.3   2.4   0.3  27.4   0.   23.1  33.2  22...</td>\n",
       "      <td>NaN</td>\n",
       "      <td>NaN</td>\n",
       "      <td>NaN</td>\n",
       "      <td>NaN</td>\n",
       "      <td>...</td>\n",
       "      <td>NaN</td>\n",
       "      <td>NaN</td>\n",
       "      <td>NaN</td>\n",
       "      <td>NaN</td>\n",
       "      <td>NaN</td>\n",
       "      <td>NaN</td>\n",
       "      <td>NaN</td>\n",
       "      <td>NaN</td>\n",
       "      <td>NaN</td>\n",
       "      <td>NaN</td>\n",
       "    </tr>\n",
       "    <tr>\n",
       "      <th>2</th>\n",
       "      <td>CCC(F)(CF)C(N)=N\\t27783\\t1</td>\n",
       "      <td>['C', 'C', 'C', 'F', 'C', 'F', 'C', 'N', 'N']</td>\n",
       "      <td>[-0.87898564 -1.02156207 -1.76505534 -0.955519...</td>\n",
       "      <td>[-13489.06168218  -8761.00121128 -12867.660530...</td>\n",
       "      <td>19417.347713</td>\n",
       "      <td>[  1.3   2.3   0.3  27.6   0.   26.7   0.6   0...</td>\n",
       "      <td>NaN</td>\n",
       "      <td>NaN</td>\n",
       "      <td>NaN</td>\n",
       "      <td>NaN</td>\n",
       "      <td>...</td>\n",
       "      <td>NaN</td>\n",
       "      <td>NaN</td>\n",
       "      <td>NaN</td>\n",
       "      <td>NaN</td>\n",
       "      <td>NaN</td>\n",
       "      <td>NaN</td>\n",
       "      <td>NaN</td>\n",
       "      <td>NaN</td>\n",
       "      <td>NaN</td>\n",
       "      <td>NaN</td>\n",
       "    </tr>\n",
       "    <tr>\n",
       "      <th>3</th>\n",
       "      <td>NCC(F)(CO)C(N)=N\\t27785\\t1</td>\n",
       "      <td>['N', 'C', 'C', 'F', 'C', 'O', 'C', 'N', 'N']</td>\n",
       "      <td>[-1.07286461 -0.14194263  1.79258543 -0.746052...</td>\n",
       "      <td>[-13446.60366035  -8565.77137441 -12595.407019...</td>\n",
       "      <td>19713.130218</td>\n",
       "      <td>[  1.3   2.8   0.2  27.7   0.   23.5   0.6   0...</td>\n",
       "      <td>NaN</td>\n",
       "      <td>NaN</td>\n",
       "      <td>NaN</td>\n",
       "      <td>NaN</td>\n",
       "      <td>...</td>\n",
       "      <td>NaN</td>\n",
       "      <td>NaN</td>\n",
       "      <td>NaN</td>\n",
       "      <td>NaN</td>\n",
       "      <td>NaN</td>\n",
       "      <td>NaN</td>\n",
       "      <td>NaN</td>\n",
       "      <td>NaN</td>\n",
       "      <td>NaN</td>\n",
       "      <td>NaN</td>\n",
       "    </tr>\n",
       "    <tr>\n",
       "      <th>4</th>\n",
       "      <td>NC(=N)C(F)(CO)CF\\t27788\\t1</td>\n",
       "      <td>['N', 'C', 'N', 'C', 'F', 'C', 'O', 'C', 'F']</td>\n",
       "      <td>[-2.06864042 -1.07209534 -0.25814435 -1.236224...</td>\n",
       "      <td>[-15078.66982339  -9151.86281121 -13488.144891...</td>\n",
       "      <td>20464.127515</td>\n",
       "      <td>[  1.3   2.8   0.3  27.9   0.   26.9   0.6   0...</td>\n",
       "      <td>NaN</td>\n",
       "      <td>NaN</td>\n",
       "      <td>NaN</td>\n",
       "      <td>NaN</td>\n",
       "      <td>...</td>\n",
       "      <td>NaN</td>\n",
       "      <td>NaN</td>\n",
       "      <td>NaN</td>\n",
       "      <td>NaN</td>\n",
       "      <td>NaN</td>\n",
       "      <td>NaN</td>\n",
       "      <td>NaN</td>\n",
       "      <td>NaN</td>\n",
       "      <td>NaN</td>\n",
       "      <td>NaN</td>\n",
       "    </tr>\n",
       "  </tbody>\n",
       "</table>\n",
       "<p>5 rows × 96 columns</p>\n",
       "</div>"
      ],
      "text/plain": [
       "   CCC(F)(CF)C(C)=O\\t27776\\t1  ['C', 'C', 'C', 'F', 'C', 'F', 'C', 'C', 'O']  \\\n",
       "0  CC(=O)C(F)(CO)CF\\t27778\\t1  ['C', 'C', 'O', 'C', 'F', 'C', 'O', 'C', 'F']   \n",
       "1  CCC(F)(CN)C(N)=N\\t27781\\t1  ['C', 'C', 'C', 'F', 'C', 'N', 'C', 'N', 'N']   \n",
       "2  CCC(F)(CF)C(N)=N\\t27783\\t1  ['C', 'C', 'C', 'F', 'C', 'F', 'C', 'N', 'N']   \n",
       "3  NCC(F)(CO)C(N)=N\\t27785\\t1  ['N', 'C', 'C', 'F', 'C', 'O', 'C', 'N', 'N']   \n",
       "4  NC(=N)C(F)(CO)CF\\t27788\\t1  ['N', 'C', 'N', 'C', 'F', 'C', 'O', 'C', 'F']   \n",
       "\n",
       "  [ 2.06672989 -1.25414024 -0.37301376  1.43570372  0.08817114 -0.56459635\\n  0.2587111   0.33600632  0.34303371  0.60175585  0.27057469  1.6823027\\n -0.26558717  1.73316809  0.00031496 -0.63888868  1.74464881 -1.31935035\\n -0.78264876 -0.69912379  0.08819375 -2.02587659 -0.63636976  0.87906776\\n -0.64989936 -1.58293527 -0.73595242]  \\\n",
       "0  [-1.28478343 -1.30226184  0.98027195 -0.678505...                                                                                                                                                                                                                                                                                             \n",
       "1  [-1.0456063   1.90614623 -0.65035743 -0.767030...                                                                                                                                                                                                                                                                                             \n",
       "2  [-0.87898564 -1.02156207 -1.76505534 -0.955519...                                                                                                                                                                                                                                                                                             \n",
       "3  [-1.07286461 -0.14194263  1.79258543 -0.746052...                                                                                                                                                                                                                                                                                             \n",
       "4  [-2.06864042 -1.07209534 -0.25814435 -1.236224...                                                                                                                                                                                                                                                                                             \n",
       "\n",
       "  [-13978.68751016  -8801.27355181 -12599.71194773 -12002.32007358\\n -12793.61974636 -12810.70659226 -12980.86088486 -13027.58397476\\n  -8824.48229836 -13062.6877437  -12923.86376418 -12802.91387444\\n -12683.83742581 -12857.64891462 -12692.9820772  -12980.09357122\\n -12868.92942175 -11058.50767869 -13034.04801094 -13053.66267366\\n -13039.23651274 -13061.32584502 -13067.11889697 -13068.56383826\\n -13068.70999324 -13068.75317539 -13068.77974902 -13068.78639243\\n -13068.80300095 -13068.80300095]  \\\n",
       "0  [-14757.13550977  -9477.26691011 -13610.991474...                                                                                                                                                                                                                                                                                                                                                                                                                                                                \n",
       "1  [-11452.62454863  -6456.25342893 -10826.848712...                                                                                                                                                                                                                                                                                                                                                                                                                                                                \n",
       "2  [-13489.06168218  -8761.00121128 -12867.660530...                                                                                                                                                                                                                                                                                                                                                                                                                                                                \n",
       "3  [-13446.60366035  -8565.77137441 -12595.407019...                                                                                                                                                                                                                                                                                                                                                                                                                                                                \n",
       "4  [-15078.66982339  -9151.86281121 -13488.144891...                                                                                                                                                                                                                                                                                                                                                                                                                                                                \n",
       "\n",
       "   19396.47665896962  \\\n",
       "0       20515.028674   \n",
       "1       18037.957411   \n",
       "2       19417.347713   \n",
       "3       19713.130218   \n",
       "4       20464.127515   \n",
       "\n",
       "  [  1.7   2.4   0.4  28.5   0.1   0.5   0.5   0.2   3.2   0.    8.7 134.6]  \\\n",
       "0  [  2.5   3.    0.3  28.2   0.1  31.8  13.    0...                          \n",
       "1  [  1.3   2.4   0.3  27.4   0.   23.1  33.2  22...                          \n",
       "2  [  1.3   2.3   0.3  27.6   0.   26.7   0.6   0...                          \n",
       "3  [  1.3   2.8   0.2  27.7   0.   23.5   0.6   0...                          \n",
       "4  [  1.3   2.8   0.3  27.9   0.   26.9   0.6   0...                          \n",
       "\n",
       "  Unnamed: 6 Unnamed: 7 Unnamed: 8 Unnamed: 9  ...  Unnamed: 86 Unnamed: 87  \\\n",
       "0        NaN        NaN        NaN        NaN  ...          NaN         NaN   \n",
       "1        NaN        NaN        NaN        NaN  ...          NaN         NaN   \n",
       "2        NaN        NaN        NaN        NaN  ...          NaN         NaN   \n",
       "3        NaN        NaN        NaN        NaN  ...          NaN         NaN   \n",
       "4        NaN        NaN        NaN        NaN  ...          NaN         NaN   \n",
       "\n",
       "  Unnamed: 88 Unnamed: 89 Unnamed: 90 Unnamed: 91  Unnamed: 92 Unnamed: 93  \\\n",
       "0         NaN         NaN         NaN         NaN          NaN         NaN   \n",
       "1         NaN         NaN         NaN         NaN          NaN         NaN   \n",
       "2         NaN         NaN         NaN         NaN          NaN         NaN   \n",
       "3         NaN         NaN         NaN         NaN          NaN         NaN   \n",
       "4         NaN         NaN         NaN         NaN          NaN         NaN   \n",
       "\n",
       "  Unnamed: 94 Unnamed: 95  \n",
       "0         NaN         NaN  \n",
       "1         NaN         NaN  \n",
       "2         NaN         NaN  \n",
       "3         NaN         NaN  \n",
       "4         NaN         NaN  \n",
       "\n",
       "[5 rows x 96 columns]"
      ]
     },
     "execution_count": 4,
     "metadata": {},
     "output_type": "execute_result"
    }
   ],
   "source": [
    "df.columns = [] "
   ]
  },
  {
   "cell_type": "code",
   "execution_count": null,
   "metadata": {},
   "outputs": [],
   "source": []
  }
 ],
 "metadata": {
  "kernelspec": {
   "display_name": "Python 3 (ipykernel)",
   "language": "python",
   "name": "python3"
  },
  "language_info": {
   "codemirror_mode": {
    "name": "ipython",
    "version": 3
   },
   "file_extension": ".py",
   "mimetype": "text/x-python",
   "name": "python",
   "nbconvert_exporter": "python",
   "pygments_lexer": "ipython3",
   "version": "3.8.10"
  },
  "orig_nbformat": 4
 },
 "nbformat": 4,
 "nbformat_minor": 2
}
