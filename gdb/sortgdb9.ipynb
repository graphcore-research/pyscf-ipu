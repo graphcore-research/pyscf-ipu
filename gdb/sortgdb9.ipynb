{
 "cells": [
  {
   "cell_type": "code",
   "execution_count": null,
   "metadata": {},
   "outputs": [
    {
     "name": "stderr",
     "output_type": "stream",
     "text": [
      "100%|██████████| 3114042/3114042 [13:29<00:00, 3848.26it/s]\n"
     ]
    }
   ],
   "source": [
    "from tqdm import tqdm \n",
    "from rdkit import Chem  \n",
    "from rdkit.Chem import AllChem\n",
    "from rdkit import RDLogger\n",
    "lg = RDLogger.logger()\n",
    "lg.setLevel(RDLogger.CRITICAL)\n",
    "\n",
    "smiles = [a.split(\"\\t\")[0] for a in open(\"gdb11_size09.smi\", \"r\").read().split(\"\\n\")]\n",
    "\n",
    "smiles_9 = []\n",
    "\n",
    "num_hs = []\n",
    "for smile in tqdm(smiles):\n",
    "  atoms = [a for a in list(smile.upper()) if a == \"C\" or a == \"N\" or a == \"O\" or a == \"F\"]\n",
    "  if len(atoms) != 9: continue \n",
    "  smiles_9.append(smile)\n",
    "  b = Chem.MolFromSmiles(smile)\n",
    "  b = Chem.AddHs(b) \n",
    "  atoms = [atom.GetSymbol() for atom in b.GetAtoms()]\n",
    "  num_hs.append( len([a for a in atoms if a.upper() == \"H\"]))"
   ]
  },
  {
   "cell_type": "code",
   "execution_count": 3,
   "metadata": {},
   "outputs": [],
   "source": [
    "import numpy as np \n",
    "num_hs = np.array(num_hs)\n",
    "sorted_smiles = np.array(smiles_9)[np.argsort(num_hs)].tolist()"
   ]
  },
  {
   "cell_type": "code",
   "execution_count": 6,
   "metadata": {},
   "outputs": [
    {
     "name": "stderr",
     "output_type": "stream",
     "text": [
      "19: 100%|██████████| 3113753/3113753 [13:53<00:00, 3734.04it/s]\n"
     ]
    }
   ],
   "source": [
    "# from tqdm import tqdm \n",
    "# from rdkit import Chem  \n",
    "# from rdkit.Chem import AllChem\n",
    "\n",
    "# from rdkit import RDLogger\n",
    "# lg = RDLogger.logger()\n",
    "# lg.setLevel(RDLogger.CRITICAL)\n",
    "\n",
    "# pbar = tqdm(sorted_smiles)\n",
    "\n",
    "# sorted_num_hs = []\n",
    "# for i, smile in enumerate(pbar): \n",
    "#   atoms = [a for a in list(smile.upper()) if a == \"C\" or a == \"N\" or a == \"O\" or a == \"F\"]\n",
    "#   if len(atoms) != 7: continue \n",
    "#   b = Chem.MolFromSmiles(smile)\n",
    "#   b = Chem.AddHs(b) \n",
    "#   atoms = [atom.GetSymbol() for atom in b.GetAtoms()]\n",
    "#   hs =  len([a for a in atoms if a.upper() == \"H\"])\n",
    "#   if i % 10000 == 0: pbar.set_description(str(hs))\n",
    "#   sorted_num_hs.append(hs)\n"
   ]
  },
  {
   "cell_type": "code",
   "execution_count": 7,
   "metadata": {},
   "outputs": [
    {
     "data": {
      "text/plain": [
       "[<matplotlib.lines.Line2D at 0x7f2a502f2be0>]"
      ]
     },
     "execution_count": 7,
     "metadata": {},
     "output_type": "execute_result"
    },
    {
     "data": {
      "image/png": "[encoded data removed]",
      "text/plain": [
       "<Figure size 640x480 with 1 Axes>"
      ]
     },
     "metadata": {},
     "output_type": "display_data"
    }
   ],
   "source": [
    "# import matplotlib.pyplot as plt \n",
    "\n",
    "# plt.plot(num_hs)\n",
    "# plt.plot(sorted_num_hs)"
   ]
  },
  {
   "cell_type": "code",
   "execution_count": null,
   "metadata": {},
   "outputs": [
    {
     "name": "stdout",
     "output_type": "stream",
     "text": [
      "20\n"
     ]
    }
   ],
   "source": [
    "# sorted_num_hs = np.array(sorted_num_hs)\n",
    "# print(np.sum(sorted_num_hs[1:] != sorted_num_hs[:-1])) # check it only changes 20 times, once for each added hydrogen! "
   ]
  },
  {
   "cell_type": "code",
   "execution_count": 5,
   "metadata": {},
   "outputs": [],
   "source": [
    "import pandas as pd\n",
    "df = pd.DataFrame(sorted_smiles[1:])\n",
    "df.to_csv('gdb11_size09_sorted.csv', index=False, header=False)"
   ]
  },
  {
   "cell_type": "code",
   "execution_count": 53,
   "metadata": {},
   "outputs": [
    {
     "name": "stdout",
     "output_type": "stream",
     "text": [
      "07\u001b[?47h\u001b[?1h\u001b=\n",
      "[O-][N+](=O)c1nnon1\n",
      "N#CC#Cc1nnon1\n",
      "Fc1nc(=O)nc(F)o1\n",
      "Fc1onc2onnc12\n",
      "N#Cc1noc(n1)C#N\n",
      "Fc1nc2onnc2o1\n",
      "O=c1onc2onnn12\n",
      "Fc1onnc(=O)c1F\n",
      "Fc1onc2OC(=O)c12\n",
      "FC(C#N)=C(C#N)C#N\n",
      "Fc1nc(=O)c(F)no1\n",
      "[O-][N+](=O)c1onnc1F\n",
      "[O-][N+](=O)c1nnc(F)o1\n",
      "O=C1OC(=O)C(=O)C1=O\n",
      "FC(F)(F)c1nnno1\n",
      "Fc1nc(=O)oc(=O)o1\n",
      "N#CC(C#N)(C#N)C#N\n",
      "Fc1nc(oc1F)C#N\n",
      "Fc1nonc(F)c1=O\n",
      "N#Cc1nnc(o1)C#N\n",
      "O=c1nnnnc(=O)o1\n",
      "O=C(C#N)c1nnno1\n",
      "\u001b[K:\u001b[K11_size09_sorted.csv\u001b[m\u001b[K\u0007"
     ]
    }
   ],
   "source": [
    "!less gdb11_size09_sorted.csv"
   ]
  },
  {
   "cell_type": "code",
   "execution_count": 58,
   "metadata": {},
   "outputs": [
    {
     "name": "stderr",
     "output_type": "stream",
     "text": [
      " 95%|█████████▍| 420551/444314 [00:01<00:00, 439932.23it/s]"
     ]
    },
    {
     "name": "stdout",
     "output_type": "stream",
     "text": [
      "[O-][N+](=O)c1ccc[nH]1 ['[', 'O', '-', ']', '[', 'N', '+', ']', '(', '=', 'O', ')', 'c', '1', 'c', 'c', 'c', '[', 'n', 'H', ']', '1'] ['O', 'N', 'O', 'C', 'C', 'C', 'C', 'N']\n",
      "[O-][N+](=O)c1c[nH]cn1 ['[', 'O', '-', ']', '[', 'N', '+', ']', '(', '=', 'O', ')', 'c', '1', 'c', '[', 'n', 'H', ']', 'c', 'n', '1'] ['O', 'N', 'O', 'C', 'C', 'N', 'C', 'N']\n",
      "[O-][N+](=O)c1cc[nH]n1 ['[', 'O', '-', ']', '[', 'N', '+', ']', '(', '=', 'O', ')', 'c', '1', 'c', 'c', '[', 'n', 'H', ']', 'n', '1'] ['O', 'N', 'O', 'C', 'C', 'C', 'N', 'N']\n",
      "[O-][N+](=O)c1cnn[nH]1 ['[', 'O', '-', ']', '[', 'N', '+', ']', '(', '=', 'O', ')', 'c', '1', 'c', 'n', 'n', '[', 'n', 'H', ']', '1'] ['O', 'N', 'O', 'C', 'C', 'N', 'N', 'N']\n",
      "[O-][N+](=O)c1ncc[nH]1 ['[', 'O', '-', ']', '[', 'N', '+', ']', '(', '=', 'O', ')', 'c', '1', 'n', 'c', 'c', '[', 'n', 'H', ']', '1'] ['O', 'N', 'O', 'C', 'N', 'C', 'C', 'N']\n",
      "[O-][N+](=O)c1nc[nH]n1 ['[', 'O', '-', ']', '[', 'N', '+', ']', '(', '=', 'O', ')', 'c', '1', 'n', 'c', '[', 'n', 'H', ']', 'n', '1'] ['O', 'N', 'O', 'C', 'N', 'C', 'N', 'N']\n",
      "[O-][N+](=O)c1ncn[nH]1 ['[', 'O', '-', ']', '[', 'N', '+', ']', '(', '=', 'O', ')', 'c', '1', 'n', 'c', 'n', '[', 'n', 'H', ']', '1'] ['O', 'N', 'O', 'C', 'N', 'C', 'N', 'N']\n",
      "[O-][N+](=O)c1nnn[nH]1 ['[', 'O', '-', ']', '[', 'N', '+', ']', '(', '=', 'O', ')', 'c', '1', 'n', 'n', 'n', '[', 'n', 'H', ']', '1'] ['O', 'N', 'O', 'C', 'N', 'N', 'N', 'N']\n",
      "[O-][N+](=O)c1ccco1 ['[', 'O', '-', ']', '[', 'N', '+', ']', '(', '=', 'O', ')', 'c', '1', 'c', 'c', 'c', 'o', '1'] ['O', 'N', 'O', 'C', 'C', 'C', 'C', 'O']\n",
      "[O-][N+](=O)c1cnco1 ['[', 'O', '-', ']', '[', 'N', '+', ']', '(', '=', 'O', ')', 'c', '1', 'c', 'n', 'c', 'o', '1'] ['O', 'N', 'O', 'C', 'C', 'N', 'C', 'O']\n",
      "[O-][N+](=O)c1ccno1 ['[', 'O', '-', ']', '[', 'N', '+', ']', '(', '=', 'O', ')', 'c', '1', 'c', 'c', 'n', 'o', '1'] ['O', 'N', 'O', 'C', 'C', 'C', 'N', 'O']\n",
      "[O-][N+](=O)c1cnno1 ['[', 'O', '-', ']', '[', 'N', '+', ']', '(', '=', 'O', ')', 'c', '1', 'c', 'n', 'n', 'o', '1'] ['O', 'N', 'O', 'C', 'C', 'N', 'N', 'O']\n",
      "[O-][N+](=O)c1ncco1 ['[', 'O', '-', ']', '[', 'N', '+', ']', '(', '=', 'O', ')', 'c', '1', 'n', 'c', 'c', 'o', '1'] ['O', 'N', 'O', 'C', 'N', 'C', 'C', 'O']\n",
      "[O-][N+](=O)c1nnco1 ['[', 'O', '-', ']', '[', 'N', '+', ']', '(', '=', 'O', ')', 'c', '1', 'n', 'n', 'c', 'o', '1'] ['O', 'N', 'O', 'C', 'N', 'N', 'C', 'O']\n",
      "[O-][N+](=O)c1ncno1 ['[', 'O', '-', ']', '[', 'N', '+', ']', '(', '=', 'O', ')', 'c', '1', 'n', 'c', 'n', 'o', '1'] ['O', 'N', 'O', 'C', 'N', 'C', 'N', 'O']\n",
      "[O-][N+](=O)c1nnno1 ['[', 'O', '-', ']', '[', 'N', '+', ']', '(', '=', 'O', ')', 'c', '1', 'n', 'n', 'n', 'o', '1'] ['O', 'N', 'O', 'C', 'N', 'N', 'N', 'O']\n",
      "[O-][N+](=O)c1cc[nH]c1 ['[', 'O', '-', ']', '[', 'N', '+', ']', '(', '=', 'O', ')', 'c', '1', 'c', 'c', '[', 'n', 'H', ']', 'c', '1'] ['O', 'N', 'O', 'C', 'C', 'C', 'N', 'C']\n",
      "[O-][N+](=O)c1ccoc1 ['[', 'O', '-', ']', '[', 'N', '+', ']', '(', '=', 'O', ')', 'c', '1', 'c', 'c', 'o', 'c', '1'] ['O', 'N', 'O', 'C', 'C', 'C', 'O', 'C']\n",
      "[O-][N+](=O)c1cn[nH]c1 ['[', 'O', '-', ']', '[', 'N', '+', ']', '(', '=', 'O', ')', 'c', '1', 'c', 'n', '[', 'n', 'H', ']', 'c', '1'] ['O', 'N', 'O', 'C', 'C', 'N', 'N', 'C']\n",
      "[O-][N+](=O)c1cnoc1 ['[', 'O', '-', ']', '[', 'N', '+', ']', '(', '=', 'O', ')', 'c', '1', 'c', 'n', 'o', 'c', '1'] ['O', 'N', 'O', 'C', 'C', 'N', 'O', 'C']\n",
      "[O-][N+](=O)c1ccon1 ['[', 'O', '-', ']', '[', 'N', '+', ']', '(', '=', 'O', ')', 'c', '1', 'c', 'c', 'o', 'n', '1'] ['O', 'N', 'O', 'C', 'C', 'C', 'O', 'N']\n",
      "[O-][N+](=O)c1c[nH]nn1 ['[', 'O', '-', ']', '[', 'N', '+', ']', '(', '=', 'O', ')', 'c', '1', 'c', '[', 'n', 'H', ']', 'n', 'n', '1'] ['O', 'N', 'O', 'C', 'C', 'N', 'N', 'N']\n",
      "[O-][N+](=O)c1cnon1 ['[', 'O', '-', ']', '[', 'N', '+', ']', '(', '=', 'O', ')', 'c', '1', 'c', 'n', 'o', 'n', '1'] ['O', 'N', 'O', 'C', 'C', 'N', 'O', 'N']\n",
      "[O-][N+](=O)c1cocn1 ['[', 'O', '-', ']', '[', 'N', '+', ']', '(', '=', 'O', ')', 'c', '1', 'c', 'o', 'c', 'n', '1'] ['O', 'N', 'O', 'C', 'C', 'O', 'C', 'N']\n",
      "[O-][N+](=O)c1conn1 ['[', 'O', '-', ']', '[', 'N', '+', ']', '(', '=', 'O', ')', 'c', '1', 'c', 'o', 'n', 'n', '1'] ['O', 'N', 'O', 'C', 'C', 'O', 'N', 'N']\n",
      "[O-][N+](=O)c1ncon1 ['[', 'O', '-', ']', '[', 'N', '+', ']', '(', '=', 'O', ')', 'c', '1', 'n', 'c', 'o', 'n', '1'] ['O', 'N', 'O', 'C', 'N', 'C', 'O', 'N']\n",
      "[O-][N+](=O)c1nn[nH]n1 ['[', 'O', '-', ']', '[', 'N', '+', ']', '(', '=', 'O', ')', 'c', '1', 'n', 'n', '[', 'n', 'H', ']', 'n', '1'] ['O', 'N', 'O', 'C', 'N', 'N', 'N', 'N']\n",
      "[O-][N+](=O)c1nnon1 ['[', 'O', '-', ']', '[', 'N', '+', ']', '(', '=', 'O', ')', 'c', '1', 'n', 'n', 'o', 'n', '1'] ['O', 'N', 'O', 'C', 'N', 'N', 'O', 'N']\n"
     ]
    },
    {
     "name": "stderr",
     "output_type": "stream",
     "text": [
      "100%|██████████| 444314/444314 [00:01<00:00, 419157.95it/s]"
     ]
    },
    {
     "name": "stdout",
     "output_type": "stream",
     "text": [
      " [] []\n"
     ]
    },
    {
     "name": "stderr",
     "output_type": "stream",
     "text": [
      "\n"
     ]
    }
   ],
   "source": [
    "# one of the molecules had only 8 atoms, remove those check thi \n",
    "# they basically included hydrogens in the SMILEs string. \n",
    "# we remove theese. \n",
    "num_atoms = []\n",
    "for smile in tqdm(smiles):\n",
    "  atoms = [a for a in list(smile.upper()) if a == \"C\" or a == \"N\" or a == \"O\" or a == \"F\"]\n",
    "\n",
    "  if len(atoms) != 9: print(smile, list(smile), atoms)\n",
    "  num_atoms.append(len(atoms))"
   ]
  },
  {
   "cell_type": "code",
   "execution_count": 67,
   "metadata": {},
   "outputs": [
    {
     "name": "stderr",
     "output_type": "stream",
     "text": [
      "100%|██████████| 1024/1024 [00:00<00:00, 316038.80it/s]\n"
     ]
    }
   ],
   "source": [
    "# one of the molecules had only 8 atoms, remove those check thi \n",
    "# they basically included hydrogens in the SMILEs string. \n",
    "# we remove theese. \n",
    "num_atoms = []\n",
    "for smile in tqdm(sorted_smiles):\n",
    "  atoms = [a for a in list(smile.upper()) if a == \"C\" or a == \"N\" or a == \"O\" or a == \"F\"]\n",
    "\n",
    "  if len(atoms) != 9: print(smile, list(smile), atoms)\n",
    "  num_atoms.append(len(atoms))"
   ]
  },
  {
   "cell_type": "code",
   "execution_count": 56,
   "metadata": {},
   "outputs": [
    {
     "data": {
      "text/plain": [
       "[<matplotlib.lines.Line2D at 0x7fb1a64c0400>]"
      ]
     },
     "execution_count": 56,
     "metadata": {},
     "output_type": "execute_result"
    },
    {
     "data": {
      "image/png": "[encoded data removed]",
      "text/plain": [
       "<Figure size 640x480 with 1 Axes>"
      ]
     },
     "metadata": {},
     "output_type": "display_data"
    }
   ],
   "source": [
    "plt.plot(num_atoms)"
   ]
  },
  {
   "cell_type": "code",
   "execution_count": null,
   "metadata": {},
   "outputs": [],
   "source": []
  }
 ],
 "metadata": {
  "kernelspec": {
   "display_name": "dft",
   "language": "python",
   "name": "python3"
  },
  "language_info": {
   "codemirror_mode": {
    "name": "ipython",
    "version": 3
   },
   "file_extension": ".py",
   "mimetype": "text/x-python",
   "name": "python",
   "nbconvert_exporter": "python",
   "pygments_lexer": "ipython3",
   "version": "3.8.10"
  },
  "orig_nbformat": 4
 },
 "nbformat": 4,
 "nbformat_minor": 2
}
