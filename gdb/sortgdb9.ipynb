{
 "cells": [
  {
   "cell_type": "code",
   "execution_count": 3,
   "metadata": {},
   "outputs": [
    {
     "name": "stderr",
     "output_type": "stream",
     "text": [
      "100%|██████████| 444314/444314 [01:14<00:00, 5991.15it/s]\n"
     ]
    }
   ],
   "source": [
    "# Copyright (c) 2023 Graphcore Ltd. All rights reserved.\n",
    "from tqdm import tqdm \n",
    "from rdkit import Chem  \n",
    "from rdkit.Chem import AllChem\n",
    "from rdkit import RDLogger\n",
    "lg = RDLogger.logger()\n",
    "lg.setLevel(RDLogger.CRITICAL)\n",
    "\n",
    "smiles = [a.split(\"\\t\")[0] for a in open(\"gdb11_size09.smi\", \"r\").read().split(\"\\n\")]\n",
    "\n",
    "smiles_9 = []\n",
    "\n",
    "num_hs = []\n",
    "for smile in tqdm(smiles):\n",
    "  atoms = [a for a in list(smile.upper()) if a == \"C\" or a == \"N\" or a == \"O\" or a == \"F\"]\n",
    "  if len(atoms) != 9: continue \n",
    "  smiles_9.append(smile)\n",
    "  b = Chem.MolFromSmiles(smile)\n",
    "  b = Chem.AddHs(b) \n",
    "  atoms = [atom.GetSymbol() for atom in b.GetAtoms()]\n",
    "  num_hs.append( len([a for a in atoms if a.upper() == \"H\"]))"
   ]
  },
  {
   "cell_type": "code",
   "execution_count": 4,
   "metadata": {},
   "outputs": [],
   "source": [
    "import numpy as np \n",
    "num_hs = np.array(num_hs)\n",
    "sorted_smiles = np.array(smiles_9)[np.argsort(num_hs)].tolist()"
   ]
  },
  {
   "cell_type": "code",
   "execution_count": 5,
   "metadata": {},
   "outputs": [],
   "source": [
    "import pandas as pd\n",
    "df = pd.DataFrame(sorted_smiles[1:])\n",
    "df.to_csv('gdb11_size09_sorted.csv', index=False, header=False)"
   ]
  }
 ],
 "metadata": {
  "kernelspec": {
   "display_name": "dft",
   "language": "python",
   "name": "python3"
  },
  "language_info": {
   "codemirror_mode": {
    "name": "ipython",
    "version": 3
   },
   "file_extension": ".py",
   "mimetype": "text/x-python",
   "name": "python",
   "nbconvert_exporter": "python",
   "pygments_lexer": "ipython3",
   "version": "3.8.10"
  },
  "orig_nbformat": 4
 },
 "nbformat": 4,
 "nbformat_minor": 2
}
